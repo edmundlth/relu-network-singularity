{
 "cells": [
  {
   "cell_type": "code",
   "execution_count": 1,
   "id": "e0faf8cd",
   "metadata": {},
   "outputs": [],
   "source": [
    "from utils import *\n",
    "from sympy import *\n",
    "from IPython.display import display, Math"
   ]
  },
  {
   "cell_type": "code",
   "execution_count": 20,
   "id": "b321f5f6",
   "metadata": {},
   "outputs": [
    {
     "data": {
      "text/latex": [
       "$\\displaystyle x$"
      ],
      "text/plain": [
       "<IPython.core.display.Math object>"
      ]
     },
     "metadata": {},
     "output_type": "display_data"
    },
    {
     "name": "stdout",
     "output_type": "stream",
     "text": [
      "True\n"
     ]
    },
    {
     "data": {
      "text/latex": [
       "$\\displaystyle y^{2}$"
      ],
      "text/plain": [
       "<IPython.core.display.Math object>"
      ]
     },
     "metadata": {},
     "output_type": "display_data"
    },
    {
     "name": "stdout",
     "output_type": "stream",
     "text": [
      "True\n"
     ]
    },
    {
     "data": {
      "text/latex": [
       "$\\displaystyle x^{2} y$"
      ],
      "text/plain": [
       "<IPython.core.display.Math object>"
      ]
     },
     "metadata": {},
     "output_type": "display_data"
    },
    {
     "name": "stdout",
     "output_type": "stream",
     "text": [
      "True\n"
     ]
    },
    {
     "data": {
      "text/latex": [
       "$\\displaystyle 2 x^{3}$"
      ],
      "text/plain": [
       "<IPython.core.display.Math object>"
      ]
     },
     "metadata": {},
     "output_type": "display_data"
    },
    {
     "name": "stdout",
     "output_type": "stream",
     "text": [
      "True\n"
     ]
    },
    {
     "data": {
      "text/latex": [
       "$\\displaystyle 2 x^{3} y$"
      ],
      "text/plain": [
       "<IPython.core.display.Math object>"
      ]
     },
     "metadata": {},
     "output_type": "display_data"
    },
    {
     "name": "stdout",
     "output_type": "stream",
     "text": [
      "True\n"
     ]
    },
    {
     "data": {
      "text/latex": [
       "$\\displaystyle y^{2} \\left(x + 1\\right)$"
      ],
      "text/plain": [
       "<IPython.core.display.Math object>"
      ]
     },
     "metadata": {},
     "output_type": "display_data"
    },
    {
     "name": "stdout",
     "output_type": "stream",
     "text": [
      "True\n"
     ]
    },
    {
     "data": {
      "text/latex": [
       "$\\displaystyle y^{2} \\left(x y + y z\\right)$"
      ],
      "text/plain": [
       "<IPython.core.display.Math object>"
      ]
     },
     "metadata": {},
     "output_type": "display_data"
    },
    {
     "name": "stdout",
     "output_type": "stream",
     "text": [
      "False\n"
     ]
    },
    {
     "data": {
      "text/latex": [
       "$\\displaystyle a x^{2} y z \\left(b + c + 1\\right)$"
      ],
      "text/plain": [
       "<IPython.core.display.Math object>"
      ]
     },
     "metadata": {},
     "output_type": "display_data"
    },
    {
     "name": "stdout",
     "output_type": "stream",
     "text": [
      "True\n"
     ]
    }
   ],
   "source": [
    "# UNIT TESTS\n",
    "x, y, z, a, b, c = symbols(\"x, y, z, a, b, c\")\n",
    "\n",
    "exprs = [\n",
    "    x, \n",
    "    y**2, \n",
    "    x**2 * y, \n",
    "    x**2 * (x + x), \n",
    "    2 * x**3 * y, \n",
    "    (x + 1) * y**2, \n",
    "    (x * y + y * z) * y**2, \n",
    "    x**2 * y * z * a * (b + c + 1)\n",
    "]\n",
    "for t in exprs:\n",
    "    display(Math(latex(t)))\n",
    "    print(is_normal_crossing(t))"
   ]
  },
  {
   "cell_type": "code",
   "execution_count": 53,
   "id": "c4103273-c9a3-4c3c-b084-9201e10c347d",
   "metadata": {},
   "outputs": [],
   "source": [
    "import networkx as nx\n",
    "import matplotlib.pyplot as plt\n",
    "\n"
   ]
  },
  {
   "cell_type": "code",
   "execution_count": 133,
   "id": "94007fd9-d673-4daf-83f2-3c579ee988b8",
   "metadata": {},
   "outputs": [
    {
     "data": {
      "text/latex": [
       "$\\displaystyle a_{1} b_{1} + a_{2} b_{2} + a_{3} b_{3}$"
      ],
      "text/plain": [
       "a_1*b_1 + a_2*b_2 + a_3*b_3"
      ]
     },
     "execution_count": 133,
     "metadata": {},
     "output_type": "execute_result"
    }
   ],
   "source": [
    "btree = BlowupTree(3)\n",
    "rec = btree.tree.nodes[btree.task_stack[-1]]\n",
    "var_list = rec[\"vars\"]\n",
    "expr = rec[\"expr\"]\n",
    "\n",
    "expr"
   ]
  },
  {
   "cell_type": "code",
   "execution_count": 121,
   "id": "516ee681-0649-479f-838c-49c6193b83b9",
   "metadata": {},
   "outputs": [
    {
     "data": {
      "text/latex": [
       "$\\displaystyle a_{1} b_{1} + a_{2} b_{2} + a_{3} b_{3}$"
      ],
      "text/plain": [
       "<IPython.core.display.Math object>"
      ]
     },
     "metadata": {},
     "output_type": "display_data"
    },
    {
     "name": "stdout",
     "output_type": "stream",
     "text": [
      "Blowup coords: [0, 3, 5]\n"
     ]
    },
    {
     "data": {
      "text/latex": [
       "$\\displaystyle b^{(3)}_{3} \\left(a^{(3)}_{1} b^{(3)}_{1} + a^{(3)}_{2} b^{(3)}_{2} + a^{(3)}_{3}\\right)$"
      ],
      "text/plain": [
       "<IPython.core.display.Math object>"
      ]
     },
     "metadata": {},
     "output_type": "display_data"
    },
    {
     "data": {
      "text/latex": [
       "$\\displaystyle b^{(2)}_{2} \\left(a^{(2)}_{1} b^{(2)}_{1} + a^{(2)}_{2} + a^{(2)}_{3} b^{(2)}_{3}\\right)$"
      ],
      "text/plain": [
       "<IPython.core.display.Math object>"
      ]
     },
     "metadata": {},
     "output_type": "display_data"
    },
    {
     "data": {
      "text/latex": [
       "$\\displaystyle a^{(1)}_{1} \\left(a^{(1)}_{2} b^{(1)}_{2} + a^{(1)}_{3} b^{(1)}_{3} + b^{(1)}_{1}\\right)$"
      ],
      "text/plain": [
       "<IPython.core.display.Math object>"
      ]
     },
     "metadata": {},
     "output_type": "display_data"
    },
    {
     "data": {
      "text/latex": [
       "$\\displaystyle a^{(1)}_{1} \\left(a^{(1)}_{2} b^{(1)}_{2} + a^{(1)}_{3} b^{(1)}_{3} + b^{(1)}_{1}\\right)$"
      ],
      "text/plain": [
       "<IPython.core.display.Math object>"
      ]
     },
     "metadata": {},
     "output_type": "display_data"
    },
    {
     "name": "stdout",
     "output_type": "stream",
     "text": [
      "Blowup coords: [1, 2, 4]\n"
     ]
    },
    {
     "data": {
      "text/latex": [
       "$\\displaystyle a^{(13)}_{1} a^{(13)}_{3} \\left(a^{(13)}_{2} b^{(13)}_{2} + b^{(13)}_{1} + b^{(13)}_{3}\\right)$"
      ],
      "text/plain": [
       "<IPython.core.display.Math object>"
      ]
     },
     "metadata": {},
     "output_type": "display_data"
    },
    {
     "data": {
      "text/latex": [
       "$\\displaystyle a^{(12)}_{1} a^{(12)}_{2} \\left(a^{(12)}_{3} b^{(12)}_{3} + b^{(12)}_{1} + b^{(12)}_{2}\\right)$"
      ],
      "text/plain": [
       "<IPython.core.display.Math object>"
      ]
     },
     "metadata": {},
     "output_type": "display_data"
    },
    {
     "data": {
      "text/latex": [
       "$\\displaystyle a^{(11)}_{1} b^{(11)}_{1} \\left(a^{(11)}_{2} b^{(11)}_{2} + a^{(11)}_{3} b^{(11)}_{3} + 1\\right)$"
      ],
      "text/plain": [
       "<IPython.core.display.Math object>"
      ]
     },
     "metadata": {},
     "output_type": "display_data"
    },
    {
     "data": {
      "text/latex": [
       "$\\displaystyle RLCTS = \\left[ \\left( a^{(11)}_{1}, \\  3\\right), \\  \\left( b^{(11)}_{1}, \\  3\\right)\\right]$"
      ],
      "text/plain": [
       "<IPython.core.display.Math object>"
      ]
     },
     "metadata": {},
     "output_type": "display_data"
    },
    {
     "data": {
      "text/latex": [
       "$\\displaystyle a^{(12)}_{1} a^{(12)}_{2} \\left(a^{(12)}_{3} b^{(12)}_{3} + b^{(12)}_{1} + b^{(12)}_{2}\\right)$"
      ],
      "text/plain": [
       "<IPython.core.display.Math object>"
      ]
     },
     "metadata": {},
     "output_type": "display_data"
    },
    {
     "name": "stdout",
     "output_type": "stream",
     "text": [
      "Blowup coords: [1, 3, 5]\n"
     ]
    },
    {
     "data": {
      "text/latex": [
       "$\\displaystyle a^{(123)}_{1} a^{(123)}_{2} b^{(123)}_{3} \\left(a^{(123)}_{3} + b^{(123)}_{1} + b^{(123)}_{2}\\right)$"
      ],
      "text/plain": [
       "<IPython.core.display.Math object>"
      ]
     },
     "metadata": {},
     "output_type": "display_data"
    },
    {
     "data": {
      "text/latex": [
       "$\\displaystyle a^{(122)}_{1} a^{(122)}_{2} b^{(122)}_{2} \\left(a^{(122)}_{3} b^{(122)}_{3} + b^{(122)}_{1} + 1\\right)$"
      ],
      "text/plain": [
       "<IPython.core.display.Math object>"
      ]
     },
     "metadata": {},
     "output_type": "display_data"
    },
    {
     "data": {
      "text/latex": [
       "$\\displaystyle RLCTS = \\left[ \\left( a^{(122)}_{1}, \\  3\\right), \\  \\left( a^{(122)}_{2}, \\  3\\right), \\  \\left( b^{(122)}_{2}, \\  3\\right)\\right]$"
      ],
      "text/plain": [
       "<IPython.core.display.Math object>"
      ]
     },
     "metadata": {},
     "output_type": "display_data"
    },
    {
     "data": {
      "text/latex": [
       "$\\displaystyle a^{(121)}_{1} a^{(121)}_{2} b^{(121)}_{1} \\left(a^{(121)}_{3} b^{(121)}_{3} + b^{(121)}_{2} + 1\\right)$"
      ],
      "text/plain": [
       "<IPython.core.display.Math object>"
      ]
     },
     "metadata": {},
     "output_type": "display_data"
    },
    {
     "data": {
      "text/latex": [
       "$\\displaystyle RLCTS = \\left[ \\left( a^{(121)}_{1}, \\  3\\right), \\  \\left( a^{(121)}_{2}, \\  3\\right), \\  \\left( b^{(121)}_{1}, \\  3\\right)\\right]$"
      ],
      "text/plain": [
       "<IPython.core.display.Math object>"
      ]
     },
     "metadata": {},
     "output_type": "display_data"
    },
    {
     "data": {
      "text/latex": [
       "$\\displaystyle a^{(123)}_{1} a^{(123)}_{2} b^{(123)}_{3} \\left(a^{(123)}_{3} + b^{(123)}_{1} + b^{(123)}_{2}\\right)$"
      ],
      "text/plain": [
       "<IPython.core.display.Math object>"
      ]
     },
     "metadata": {},
     "output_type": "display_data"
    },
    {
     "name": "stdout",
     "output_type": "stream",
     "text": [
      "Blowup coords: [4, 1, 3]\n"
     ]
    },
    {
     "data": {
      "text/latex": [
       "$\\displaystyle a^{(1233)}_{1} a^{(1233)}_{2} a^{(1233)}_{3} b^{(1233)}_{3} \\left(b^{(1233)}_{1} + b^{(1233)}_{2} + 1\\right)$"
      ],
      "text/plain": [
       "<IPython.core.display.Math object>"
      ]
     },
     "metadata": {},
     "output_type": "display_data"
    },
    {
     "data": {
      "text/latex": [
       "$\\displaystyle RLCTS = \\left[ \\left( a^{(1233)}_{1}, \\  3\\right), \\  \\left( a^{(1233)}_{2}, \\  3\\right), \\  \\left( a^{(1233)}_{3}, \\  3\\right), \\  \\left( b^{(1233)}_{3}, \\  3\\right)\\right]$"
      ],
      "text/plain": [
       "<IPython.core.display.Math object>"
      ]
     },
     "metadata": {},
     "output_type": "display_data"
    },
    {
     "data": {
      "text/latex": [
       "$\\displaystyle a^{(1232)}_{1} a^{(1232)}_{2} b^{(1232)}_{2} b^{(1232)}_{3} \\left(a^{(1232)}_{3} + b^{(1232)}_{1} + 1\\right)$"
      ],
      "text/plain": [
       "<IPython.core.display.Math object>"
      ]
     },
     "metadata": {},
     "output_type": "display_data"
    },
    {
     "data": {
      "text/latex": [
       "$\\displaystyle RLCTS = \\left[ \\left( a^{(1232)}_{1}, \\  3\\right), \\  \\left( a^{(1232)}_{2}, \\  3\\right), \\  \\left( b^{(1232)}_{2}, \\  3\\right), \\  \\left( b^{(1232)}_{3}, \\  3\\right)\\right]$"
      ],
      "text/plain": [
       "<IPython.core.display.Math object>"
      ]
     },
     "metadata": {},
     "output_type": "display_data"
    },
    {
     "data": {
      "text/latex": [
       "$\\displaystyle a^{(1231)}_{1} a^{(1231)}_{2} b^{(1231)}_{1} b^{(1231)}_{3} \\left(a^{(1231)}_{3} + b^{(1231)}_{2} + 1\\right)$"
      ],
      "text/plain": [
       "<IPython.core.display.Math object>"
      ]
     },
     "metadata": {},
     "output_type": "display_data"
    },
    {
     "data": {
      "text/latex": [
       "$\\displaystyle RLCTS = \\left[ \\left( a^{(1231)}_{1}, \\  3\\right), \\  \\left( a^{(1231)}_{2}, \\  3\\right), \\  \\left( b^{(1231)}_{1}, \\  3\\right), \\  \\left( b^{(1231)}_{3}, \\  3\\right)\\right]$"
      ],
      "text/plain": [
       "<IPython.core.display.Math object>"
      ]
     },
     "metadata": {},
     "output_type": "display_data"
    },
    {
     "data": {
      "text/latex": [
       "$\\displaystyle a^{(13)}_{1} a^{(13)}_{3} \\left(a^{(13)}_{2} b^{(13)}_{2} + b^{(13)}_{1} + b^{(13)}_{3}\\right)$"
      ],
      "text/plain": [
       "<IPython.core.display.Math object>"
      ]
     },
     "metadata": {},
     "output_type": "display_data"
    },
    {
     "name": "stdout",
     "output_type": "stream",
     "text": [
      "Blowup coords: [1, 5, 2]\n"
     ]
    },
    {
     "data": {
      "text/latex": [
       "$\\displaystyle a^{(133)}_{1} a^{(133)}_{3} b^{(133)}_{3} \\left(a^{(133)}_{2} b^{(133)}_{2} + b^{(133)}_{1} + 1\\right)$"
      ],
      "text/plain": [
       "<IPython.core.display.Math object>"
      ]
     },
     "metadata": {},
     "output_type": "display_data"
    },
    {
     "data": {
      "text/latex": [
       "$\\displaystyle RLCTS = \\left[ \\left( a^{(133)}_{1}, \\  3\\right), \\  \\left( a^{(133)}_{3}, \\  3\\right), \\  \\left( b^{(133)}_{3}, \\  3\\right)\\right]$"
      ],
      "text/plain": [
       "<IPython.core.display.Math object>"
      ]
     },
     "metadata": {},
     "output_type": "display_data"
    },
    {
     "data": {
      "text/latex": [
       "$\\displaystyle a^{(132)}_{1} a^{(132)}_{2} a^{(132)}_{3} \\left(b^{(132)}_{1} + b^{(132)}_{2} + b^{(132)}_{3}\\right)$"
      ],
      "text/plain": [
       "<IPython.core.display.Math object>"
      ]
     },
     "metadata": {},
     "output_type": "display_data"
    },
    {
     "data": {
      "text/latex": [
       "$\\displaystyle a^{(131)}_{1} a^{(131)}_{3} b^{(131)}_{1} \\left(a^{(131)}_{2} b^{(131)}_{2} + b^{(131)}_{3} + 1\\right)$"
      ],
      "text/plain": [
       "<IPython.core.display.Math object>"
      ]
     },
     "metadata": {},
     "output_type": "display_data"
    },
    {
     "data": {
      "text/latex": [
       "$\\displaystyle RLCTS = \\left[ \\left( a^{(131)}_{1}, \\  3\\right), \\  \\left( a^{(131)}_{3}, \\  3\\right), \\  \\left( b^{(131)}_{1}, \\  3\\right)\\right]$"
      ],
      "text/plain": [
       "<IPython.core.display.Math object>"
      ]
     },
     "metadata": {},
     "output_type": "display_data"
    },
    {
     "data": {
      "text/latex": [
       "$\\displaystyle a^{(132)}_{1} a^{(132)}_{2} a^{(132)}_{3} \\left(b^{(132)}_{1} + b^{(132)}_{2} + b^{(132)}_{3}\\right)$"
      ],
      "text/plain": [
       "<IPython.core.display.Math object>"
      ]
     },
     "metadata": {},
     "output_type": "display_data"
    },
    {
     "name": "stdout",
     "output_type": "stream",
     "text": [
      "Blowup coords: [1, 3, 5]\n"
     ]
    },
    {
     "data": {
      "text/latex": [
       "$\\displaystyle a^{(1323)}_{1} a^{(1323)}_{2} a^{(1323)}_{3} b^{(1323)}_{3} \\left(b^{(1323)}_{1} + b^{(1323)}_{2} + 1\\right)$"
      ],
      "text/plain": [
       "<IPython.core.display.Math object>"
      ]
     },
     "metadata": {},
     "output_type": "display_data"
    },
    {
     "data": {
      "text/latex": [
       "$\\displaystyle RLCTS = \\left[ \\left( a^{(1323)}_{1}, \\  3\\right), \\  \\left( a^{(1323)}_{2}, \\  3\\right), \\  \\left( a^{(1323)}_{3}, \\  3\\right), \\  \\left( b^{(1323)}_{3}, \\  3\\right)\\right]$"
      ],
      "text/plain": [
       "<IPython.core.display.Math object>"
      ]
     },
     "metadata": {},
     "output_type": "display_data"
    },
    {
     "data": {
      "text/latex": [
       "$\\displaystyle a^{(1322)}_{1} a^{(1322)}_{2} a^{(1322)}_{3} b^{(1322)}_{2} \\left(b^{(1322)}_{1} + b^{(1322)}_{3} + 1\\right)$"
      ],
      "text/plain": [
       "<IPython.core.display.Math object>"
      ]
     },
     "metadata": {},
     "output_type": "display_data"
    },
    {
     "data": {
      "text/latex": [
       "$\\displaystyle RLCTS = \\left[ \\left( a^{(1322)}_{1}, \\  3\\right), \\  \\left( a^{(1322)}_{2}, \\  3\\right), \\  \\left( a^{(1322)}_{3}, \\  3\\right), \\  \\left( b^{(1322)}_{2}, \\  3\\right)\\right]$"
      ],
      "text/plain": [
       "<IPython.core.display.Math object>"
      ]
     },
     "metadata": {},
     "output_type": "display_data"
    },
    {
     "data": {
      "text/latex": [
       "$\\displaystyle a^{(1321)}_{1} a^{(1321)}_{2} a^{(1321)}_{3} b^{(1321)}_{1} \\left(b^{(1321)}_{2} + b^{(1321)}_{3} + 1\\right)$"
      ],
      "text/plain": [
       "<IPython.core.display.Math object>"
      ]
     },
     "metadata": {},
     "output_type": "display_data"
    },
    {
     "data": {
      "text/latex": [
       "$\\displaystyle RLCTS = \\left[ \\left( a^{(1321)}_{1}, \\  3\\right), \\  \\left( a^{(1321)}_{2}, \\  3\\right), \\  \\left( a^{(1321)}_{3}, \\  3\\right), \\  \\left( b^{(1321)}_{1}, \\  3\\right)\\right]$"
      ],
      "text/plain": [
       "<IPython.core.display.Math object>"
      ]
     },
     "metadata": {},
     "output_type": "display_data"
    },
    {
     "data": {
      "text/latex": [
       "$\\displaystyle b^{(2)}_{2} \\left(a^{(2)}_{1} b^{(2)}_{1} + a^{(2)}_{2} + a^{(2)}_{3} b^{(2)}_{3}\\right)$"
      ],
      "text/plain": [
       "<IPython.core.display.Math object>"
      ]
     },
     "metadata": {},
     "output_type": "display_data"
    },
    {
     "name": "stdout",
     "output_type": "stream",
     "text": [
      "Blowup coords: [2, 0, 5]\n"
     ]
    },
    {
     "data": {
      "text/latex": [
       "$\\displaystyle b^{(23)}_{2} b^{(23)}_{3} \\left(a^{(23)}_{1} b^{(23)}_{1} + a^{(23)}_{2} + a^{(23)}_{3}\\right)$"
      ],
      "text/plain": [
       "<IPython.core.display.Math object>"
      ]
     },
     "metadata": {},
     "output_type": "display_data"
    },
    {
     "data": {
      "text/latex": [
       "$\\displaystyle a^{(22)}_{2} b^{(22)}_{2} \\left(a^{(22)}_{1} b^{(22)}_{1} + a^{(22)}_{3} b^{(22)}_{3} + 1\\right)$"
      ],
      "text/plain": [
       "<IPython.core.display.Math object>"
      ]
     },
     "metadata": {},
     "output_type": "display_data"
    },
    {
     "data": {
      "text/latex": [
       "$\\displaystyle RLCTS = \\left[ \\left( a^{(22)}_{2}, \\  3\\right), \\  \\left( b^{(22)}_{2}, \\  3\\right)\\right]$"
      ],
      "text/plain": [
       "<IPython.core.display.Math object>"
      ]
     },
     "metadata": {},
     "output_type": "display_data"
    },
    {
     "data": {
      "text/latex": [
       "$\\displaystyle a^{(21)}_{1} b^{(21)}_{2} \\left(a^{(21)}_{2} + a^{(21)}_{3} b^{(21)}_{3} + b^{(21)}_{1}\\right)$"
      ],
      "text/plain": [
       "<IPython.core.display.Math object>"
      ]
     },
     "metadata": {},
     "output_type": "display_data"
    },
    {
     "data": {
      "text/latex": [
       "$\\displaystyle a^{(21)}_{1} b^{(21)}_{2} \\left(a^{(21)}_{2} + a^{(21)}_{3} b^{(21)}_{3} + b^{(21)}_{1}\\right)$"
      ],
      "text/plain": [
       "<IPython.core.display.Math object>"
      ]
     },
     "metadata": {},
     "output_type": "display_data"
    },
    {
     "name": "stdout",
     "output_type": "stream",
     "text": [
      "Blowup coords: [2, 1, 4]\n"
     ]
    },
    {
     "data": {
      "text/latex": [
       "$\\displaystyle a^{(213)}_{1} a^{(213)}_{3} b^{(213)}_{2} \\left(a^{(213)}_{2} + b^{(213)}_{1} + b^{(213)}_{3}\\right)$"
      ],
      "text/plain": [
       "<IPython.core.display.Math object>"
      ]
     },
     "metadata": {},
     "output_type": "display_data"
    },
    {
     "data": {
      "text/latex": [
       "$\\displaystyle a^{(212)}_{1} a^{(212)}_{2} b^{(212)}_{2} \\left(a^{(212)}_{3} b^{(212)}_{3} + b^{(212)}_{1} + 1\\right)$"
      ],
      "text/plain": [
       "<IPython.core.display.Math object>"
      ]
     },
     "metadata": {},
     "output_type": "display_data"
    },
    {
     "data": {
      "text/latex": [
       "$\\displaystyle RLCTS = \\left[ \\left( a^{(212)}_{1}, \\  3\\right), \\  \\left( a^{(212)}_{2}, \\  3\\right), \\  \\left( b^{(212)}_{2}, \\  3\\right)\\right]$"
      ],
      "text/plain": [
       "<IPython.core.display.Math object>"
      ]
     },
     "metadata": {},
     "output_type": "display_data"
    },
    {
     "data": {
      "text/latex": [
       "$\\displaystyle a^{(211)}_{1} b^{(211)}_{1} b^{(211)}_{2} \\left(a^{(211)}_{2} + a^{(211)}_{3} b^{(211)}_{3} + 1\\right)$"
      ],
      "text/plain": [
       "<IPython.core.display.Math object>"
      ]
     },
     "metadata": {},
     "output_type": "display_data"
    },
    {
     "data": {
      "text/latex": [
       "$\\displaystyle RLCTS = \\left[ \\left( a^{(211)}_{1}, \\  3\\right), \\  \\left( b^{(211)}_{1}, \\  3\\right), \\  \\left( b^{(211)}_{2}, \\  3\\right)\\right]$"
      ],
      "text/plain": [
       "<IPython.core.display.Math object>"
      ]
     },
     "metadata": {},
     "output_type": "display_data"
    },
    {
     "data": {
      "text/latex": [
       "$\\displaystyle a^{(213)}_{1} a^{(213)}_{3} b^{(213)}_{2} \\left(a^{(213)}_{2} + b^{(213)}_{1} + b^{(213)}_{3}\\right)$"
      ],
      "text/plain": [
       "<IPython.core.display.Math object>"
      ]
     },
     "metadata": {},
     "output_type": "display_data"
    },
    {
     "name": "stdout",
     "output_type": "stream",
     "text": [
      "Blowup coords: [2, 1, 5]\n"
     ]
    },
    {
     "data": {
      "text/latex": [
       "$\\displaystyle a^{(2133)}_{1} a^{(2133)}_{3} b^{(2133)}_{2} b^{(2133)}_{3} \\left(a^{(2133)}_{2} + b^{(2133)}_{1} + 1\\right)$"
      ],
      "text/plain": [
       "<IPython.core.display.Math object>"
      ]
     },
     "metadata": {},
     "output_type": "display_data"
    },
    {
     "data": {
      "text/latex": [
       "$\\displaystyle RLCTS = \\left[ \\left( a^{(2133)}_{1}, \\  3\\right), \\  \\left( a^{(2133)}_{3}, \\  3\\right), \\  \\left( b^{(2133)}_{2}, \\  3\\right), \\  \\left( b^{(2133)}_{3}, \\  3\\right)\\right]$"
      ],
      "text/plain": [
       "<IPython.core.display.Math object>"
      ]
     },
     "metadata": {},
     "output_type": "display_data"
    },
    {
     "data": {
      "text/latex": [
       "$\\displaystyle a^{(2132)}_{1} a^{(2132)}_{2} a^{(2132)}_{3} b^{(2132)}_{2} \\left(b^{(2132)}_{1} + b^{(2132)}_{3} + 1\\right)$"
      ],
      "text/plain": [
       "<IPython.core.display.Math object>"
      ]
     },
     "metadata": {},
     "output_type": "display_data"
    },
    {
     "data": {
      "text/latex": [
       "$\\displaystyle RLCTS = \\left[ \\left( a^{(2132)}_{1}, \\  3\\right), \\  \\left( a^{(2132)}_{2}, \\  3\\right), \\  \\left( a^{(2132)}_{3}, \\  3\\right), \\  \\left( b^{(2132)}_{2}, \\  3\\right)\\right]$"
      ],
      "text/plain": [
       "<IPython.core.display.Math object>"
      ]
     },
     "metadata": {},
     "output_type": "display_data"
    },
    {
     "data": {
      "text/latex": [
       "$\\displaystyle a^{(2131)}_{1} a^{(2131)}_{3} b^{(2131)}_{1} b^{(2131)}_{2} \\left(a^{(2131)}_{2} + b^{(2131)}_{3} + 1\\right)$"
      ],
      "text/plain": [
       "<IPython.core.display.Math object>"
      ]
     },
     "metadata": {},
     "output_type": "display_data"
    },
    {
     "data": {
      "text/latex": [
       "$\\displaystyle RLCTS = \\left[ \\left( a^{(2131)}_{1}, \\  3\\right), \\  \\left( a^{(2131)}_{3}, \\  3\\right), \\  \\left( b^{(2131)}_{1}, \\  3\\right), \\  \\left( b^{(2131)}_{2}, \\  3\\right)\\right]$"
      ],
      "text/plain": [
       "<IPython.core.display.Math object>"
      ]
     },
     "metadata": {},
     "output_type": "display_data"
    },
    {
     "data": {
      "text/latex": [
       "$\\displaystyle b^{(23)}_{2} b^{(23)}_{3} \\left(a^{(23)}_{1} b^{(23)}_{1} + a^{(23)}_{2} + a^{(23)}_{3}\\right)$"
      ],
      "text/plain": [
       "<IPython.core.display.Math object>"
      ]
     },
     "metadata": {},
     "output_type": "display_data"
    },
    {
     "name": "stdout",
     "output_type": "stream",
     "text": [
      "Blowup coords: [2, 4, 1]\n"
     ]
    },
    {
     "data": {
      "text/latex": [
       "$\\displaystyle a^{(233)}_{3} b^{(233)}_{2} b^{(233)}_{3} \\left(a^{(233)}_{1} b^{(233)}_{1} + a^{(233)}_{2} + 1\\right)$"
      ],
      "text/plain": [
       "<IPython.core.display.Math object>"
      ]
     },
     "metadata": {},
     "output_type": "display_data"
    },
    {
     "data": {
      "text/latex": [
       "$\\displaystyle RLCTS = \\left[ \\left( a^{(233)}_{3}, \\  3\\right), \\  \\left( b^{(233)}_{2}, \\  3\\right), \\  \\left( b^{(233)}_{3}, \\  3\\right)\\right]$"
      ],
      "text/plain": [
       "<IPython.core.display.Math object>"
      ]
     },
     "metadata": {},
     "output_type": "display_data"
    },
    {
     "data": {
      "text/latex": [
       "$\\displaystyle a^{(232)}_{2} b^{(232)}_{2} b^{(232)}_{3} \\left(a^{(232)}_{1} b^{(232)}_{1} + a^{(232)}_{3} + 1\\right)$"
      ],
      "text/plain": [
       "<IPython.core.display.Math object>"
      ]
     },
     "metadata": {},
     "output_type": "display_data"
    },
    {
     "data": {
      "text/latex": [
       "$\\displaystyle RLCTS = \\left[ \\left( a^{(232)}_{2}, \\  3\\right), \\  \\left( b^{(232)}_{2}, \\  3\\right), \\  \\left( b^{(232)}_{3}, \\  3\\right)\\right]$"
      ],
      "text/plain": [
       "<IPython.core.display.Math object>"
      ]
     },
     "metadata": {},
     "output_type": "display_data"
    },
    {
     "data": {
      "text/latex": [
       "$\\displaystyle b^{(231)}_{1} b^{(231)}_{2} b^{(231)}_{3} \\left(a^{(231)}_{1} + a^{(231)}_{2} + a^{(231)}_{3}\\right)$"
      ],
      "text/plain": [
       "<IPython.core.display.Math object>"
      ]
     },
     "metadata": {},
     "output_type": "display_data"
    },
    {
     "data": {
      "text/latex": [
       "$\\displaystyle b^{(231)}_{1} b^{(231)}_{2} b^{(231)}_{3} \\left(a^{(231)}_{1} + a^{(231)}_{2} + a^{(231)}_{3}\\right)$"
      ],
      "text/plain": [
       "<IPython.core.display.Math object>"
      ]
     },
     "metadata": {},
     "output_type": "display_data"
    },
    {
     "name": "stdout",
     "output_type": "stream",
     "text": [
      "Blowup coords: [0, 2, 4]\n"
     ]
    },
    {
     "data": {
      "text/latex": [
       "$\\displaystyle a^{(2313)}_{3} b^{(2313)}_{1} b^{(2313)}_{2} b^{(2313)}_{3} \\left(a^{(2313)}_{1} + a^{(2313)}_{2} + 1\\right)$"
      ],
      "text/plain": [
       "<IPython.core.display.Math object>"
      ]
     },
     "metadata": {},
     "output_type": "display_data"
    },
    {
     "data": {
      "text/latex": [
       "$\\displaystyle RLCTS = \\left[ \\left( a^{(2313)}_{3}, \\  3\\right), \\  \\left( b^{(2313)}_{1}, \\  3\\right), \\  \\left( b^{(2313)}_{2}, \\  3\\right), \\  \\left( b^{(2313)}_{3}, \\  3\\right)\\right]$"
      ],
      "text/plain": [
       "<IPython.core.display.Math object>"
      ]
     },
     "metadata": {},
     "output_type": "display_data"
    },
    {
     "data": {
      "text/latex": [
       "$\\displaystyle a^{(2312)}_{2} b^{(2312)}_{1} b^{(2312)}_{2} b^{(2312)}_{3} \\left(a^{(2312)}_{1} + a^{(2312)}_{3} + 1\\right)$"
      ],
      "text/plain": [
       "<IPython.core.display.Math object>"
      ]
     },
     "metadata": {},
     "output_type": "display_data"
    },
    {
     "data": {
      "text/latex": [
       "$\\displaystyle RLCTS = \\left[ \\left( a^{(2312)}_{2}, \\  3\\right), \\  \\left( b^{(2312)}_{1}, \\  3\\right), \\  \\left( b^{(2312)}_{2}, \\  3\\right), \\  \\left( b^{(2312)}_{3}, \\  3\\right)\\right]$"
      ],
      "text/plain": [
       "<IPython.core.display.Math object>"
      ]
     },
     "metadata": {},
     "output_type": "display_data"
    },
    {
     "data": {
      "text/latex": [
       "$\\displaystyle a^{(2311)}_{1} b^{(2311)}_{1} b^{(2311)}_{2} b^{(2311)}_{3} \\left(a^{(2311)}_{2} + a^{(2311)}_{3} + 1\\right)$"
      ],
      "text/plain": [
       "<IPython.core.display.Math object>"
      ]
     },
     "metadata": {},
     "output_type": "display_data"
    },
    {
     "data": {
      "text/latex": [
       "$\\displaystyle RLCTS = \\left[ \\left( a^{(2311)}_{1}, \\  3\\right), \\  \\left( b^{(2311)}_{1}, \\  3\\right), \\  \\left( b^{(2311)}_{2}, \\  3\\right), \\  \\left( b^{(2311)}_{3}, \\  3\\right)\\right]$"
      ],
      "text/plain": [
       "<IPython.core.display.Math object>"
      ]
     },
     "metadata": {},
     "output_type": "display_data"
    },
    {
     "data": {
      "text/latex": [
       "$\\displaystyle b^{(3)}_{3} \\left(a^{(3)}_{1} b^{(3)}_{1} + a^{(3)}_{2} b^{(3)}_{2} + a^{(3)}_{3}\\right)$"
      ],
      "text/plain": [
       "<IPython.core.display.Math object>"
      ]
     },
     "metadata": {},
     "output_type": "display_data"
    },
    {
     "name": "stdout",
     "output_type": "stream",
     "text": [
      "Blowup coords: [4, 0, 3]\n"
     ]
    },
    {
     "data": {
      "text/latex": [
       "$\\displaystyle a^{(33)}_{3} b^{(33)}_{3} \\left(a^{(33)}_{1} b^{(33)}_{1} + a^{(33)}_{2} b^{(33)}_{2} + 1\\right)$"
      ],
      "text/plain": [
       "<IPython.core.display.Math object>"
      ]
     },
     "metadata": {},
     "output_type": "display_data"
    },
    {
     "data": {
      "text/latex": [
       "$\\displaystyle RLCTS = \\left[ \\left( a^{(33)}_{3}, \\  3\\right), \\  \\left( b^{(33)}_{3}, \\  3\\right)\\right]$"
      ],
      "text/plain": [
       "<IPython.core.display.Math object>"
      ]
     },
     "metadata": {},
     "output_type": "display_data"
    },
    {
     "data": {
      "text/latex": [
       "$\\displaystyle b^{(32)}_{2} b^{(32)}_{3} \\left(a^{(32)}_{1} b^{(32)}_{1} + a^{(32)}_{2} + a^{(32)}_{3}\\right)$"
      ],
      "text/plain": [
       "<IPython.core.display.Math object>"
      ]
     },
     "metadata": {},
     "output_type": "display_data"
    },
    {
     "data": {
      "text/latex": [
       "$\\displaystyle a^{(31)}_{1} b^{(31)}_{3} \\left(a^{(31)}_{2} b^{(31)}_{2} + a^{(31)}_{3} + b^{(31)}_{1}\\right)$"
      ],
      "text/plain": [
       "<IPython.core.display.Math object>"
      ]
     },
     "metadata": {},
     "output_type": "display_data"
    },
    {
     "data": {
      "text/latex": [
       "$\\displaystyle a^{(31)}_{1} b^{(31)}_{3} \\left(a^{(31)}_{2} b^{(31)}_{2} + a^{(31)}_{3} + b^{(31)}_{1}\\right)$"
      ],
      "text/plain": [
       "<IPython.core.display.Math object>"
      ]
     },
     "metadata": {},
     "output_type": "display_data"
    },
    {
     "name": "stdout",
     "output_type": "stream",
     "text": [
      "Blowup coords: [4, 1, 2]\n"
     ]
    },
    {
     "data": {
      "text/latex": [
       "$\\displaystyle a^{(313)}_{1} a^{(313)}_{3} b^{(313)}_{3} \\left(a^{(313)}_{2} b^{(313)}_{2} + b^{(313)}_{1} + 1\\right)$"
      ],
      "text/plain": [
       "<IPython.core.display.Math object>"
      ]
     },
     "metadata": {},
     "output_type": "display_data"
    },
    {
     "data": {
      "text/latex": [
       "$\\displaystyle RLCTS = \\left[ \\left( a^{(313)}_{1}, \\  3\\right), \\  \\left( a^{(313)}_{3}, \\  3\\right), \\  \\left( b^{(313)}_{3}, \\  3\\right)\\right]$"
      ],
      "text/plain": [
       "<IPython.core.display.Math object>"
      ]
     },
     "metadata": {},
     "output_type": "display_data"
    },
    {
     "data": {
      "text/latex": [
       "$\\displaystyle a^{(312)}_{1} a^{(312)}_{2} b^{(312)}_{3} \\left(a^{(312)}_{3} + b^{(312)}_{1} + b^{(312)}_{2}\\right)$"
      ],
      "text/plain": [
       "<IPython.core.display.Math object>"
      ]
     },
     "metadata": {},
     "output_type": "display_data"
    },
    {
     "data": {
      "text/latex": [
       "$\\displaystyle a^{(311)}_{1} b^{(311)}_{1} b^{(311)}_{3} \\left(a^{(311)}_{2} b^{(311)}_{2} + a^{(311)}_{3} + 1\\right)$"
      ],
      "text/plain": [
       "<IPython.core.display.Math object>"
      ]
     },
     "metadata": {},
     "output_type": "display_data"
    },
    {
     "data": {
      "text/latex": [
       "$\\displaystyle RLCTS = \\left[ \\left( a^{(311)}_{1}, \\  3\\right), \\  \\left( b^{(311)}_{1}, \\  3\\right), \\  \\left( b^{(311)}_{3}, \\  3\\right)\\right]$"
      ],
      "text/plain": [
       "<IPython.core.display.Math object>"
      ]
     },
     "metadata": {},
     "output_type": "display_data"
    },
    {
     "data": {
      "text/latex": [
       "$\\displaystyle a^{(312)}_{1} a^{(312)}_{2} b^{(312)}_{3} \\left(a^{(312)}_{3} + b^{(312)}_{1} + b^{(312)}_{2}\\right)$"
      ],
      "text/plain": [
       "<IPython.core.display.Math object>"
      ]
     },
     "metadata": {},
     "output_type": "display_data"
    },
    {
     "name": "stdout",
     "output_type": "stream",
     "text": [
      "Blowup coords: [4, 1, 3]\n"
     ]
    },
    {
     "data": {
      "text/latex": [
       "$\\displaystyle a^{(3123)}_{1} a^{(3123)}_{2} a^{(3123)}_{3} b^{(3123)}_{3} \\left(b^{(3123)}_{1} + b^{(3123)}_{2} + 1\\right)$"
      ],
      "text/plain": [
       "<IPython.core.display.Math object>"
      ]
     },
     "metadata": {},
     "output_type": "display_data"
    },
    {
     "data": {
      "text/latex": [
       "$\\displaystyle RLCTS = \\left[ \\left( a^{(3123)}_{1}, \\  3\\right), \\  \\left( a^{(3123)}_{2}, \\  3\\right), \\  \\left( a^{(3123)}_{3}, \\  3\\right), \\  \\left( b^{(3123)}_{3}, \\  3\\right)\\right]$"
      ],
      "text/plain": [
       "<IPython.core.display.Math object>"
      ]
     },
     "metadata": {},
     "output_type": "display_data"
    },
    {
     "data": {
      "text/latex": [
       "$\\displaystyle a^{(3122)}_{1} a^{(3122)}_{2} b^{(3122)}_{2} b^{(3122)}_{3} \\left(a^{(3122)}_{3} + b^{(3122)}_{1} + 1\\right)$"
      ],
      "text/plain": [
       "<IPython.core.display.Math object>"
      ]
     },
     "metadata": {},
     "output_type": "display_data"
    },
    {
     "data": {
      "text/latex": [
       "$\\displaystyle RLCTS = \\left[ \\left( a^{(3122)}_{1}, \\  3\\right), \\  \\left( a^{(3122)}_{2}, \\  3\\right), \\  \\left( b^{(3122)}_{2}, \\  3\\right), \\  \\left( b^{(3122)}_{3}, \\  3\\right)\\right]$"
      ],
      "text/plain": [
       "<IPython.core.display.Math object>"
      ]
     },
     "metadata": {},
     "output_type": "display_data"
    },
    {
     "data": {
      "text/latex": [
       "$\\displaystyle a^{(3121)}_{1} a^{(3121)}_{2} b^{(3121)}_{1} b^{(3121)}_{3} \\left(a^{(3121)}_{3} + b^{(3121)}_{2} + 1\\right)$"
      ],
      "text/plain": [
       "<IPython.core.display.Math object>"
      ]
     },
     "metadata": {},
     "output_type": "display_data"
    },
    {
     "data": {
      "text/latex": [
       "$\\displaystyle RLCTS = \\left[ \\left( a^{(3121)}_{1}, \\  3\\right), \\  \\left( a^{(3121)}_{2}, \\  3\\right), \\  \\left( b^{(3121)}_{1}, \\  3\\right), \\  \\left( b^{(3121)}_{3}, \\  3\\right)\\right]$"
      ],
      "text/plain": [
       "<IPython.core.display.Math object>"
      ]
     },
     "metadata": {},
     "output_type": "display_data"
    },
    {
     "data": {
      "text/latex": [
       "$\\displaystyle b^{(32)}_{2} b^{(32)}_{3} \\left(a^{(32)}_{1} b^{(32)}_{1} + a^{(32)}_{2} + a^{(32)}_{3}\\right)$"
      ],
      "text/plain": [
       "<IPython.core.display.Math object>"
      ]
     },
     "metadata": {},
     "output_type": "display_data"
    },
    {
     "name": "stdout",
     "output_type": "stream",
     "text": [
      "Blowup coords: [2, 4, 1]\n"
     ]
    },
    {
     "data": {
      "text/latex": [
       "$\\displaystyle a^{(323)}_{3} b^{(323)}_{2} b^{(323)}_{3} \\left(a^{(323)}_{1} b^{(323)}_{1} + a^{(323)}_{2} + 1\\right)$"
      ],
      "text/plain": [
       "<IPython.core.display.Math object>"
      ]
     },
     "metadata": {},
     "output_type": "display_data"
    },
    {
     "data": {
      "text/latex": [
       "$\\displaystyle RLCTS = \\left[ \\left( a^{(323)}_{3}, \\  3\\right), \\  \\left( b^{(323)}_{2}, \\  3\\right), \\  \\left( b^{(323)}_{3}, \\  3\\right)\\right]$"
      ],
      "text/plain": [
       "<IPython.core.display.Math object>"
      ]
     },
     "metadata": {},
     "output_type": "display_data"
    },
    {
     "data": {
      "text/latex": [
       "$\\displaystyle a^{(322)}_{2} b^{(322)}_{2} b^{(322)}_{3} \\left(a^{(322)}_{1} b^{(322)}_{1} + a^{(322)}_{3} + 1\\right)$"
      ],
      "text/plain": [
       "<IPython.core.display.Math object>"
      ]
     },
     "metadata": {},
     "output_type": "display_data"
    },
    {
     "data": {
      "text/latex": [
       "$\\displaystyle RLCTS = \\left[ \\left( a^{(322)}_{2}, \\  3\\right), \\  \\left( b^{(322)}_{2}, \\  3\\right), \\  \\left( b^{(322)}_{3}, \\  3\\right)\\right]$"
      ],
      "text/plain": [
       "<IPython.core.display.Math object>"
      ]
     },
     "metadata": {},
     "output_type": "display_data"
    },
    {
     "data": {
      "text/latex": [
       "$\\displaystyle b^{(321)}_{1} b^{(321)}_{2} b^{(321)}_{3} \\left(a^{(321)}_{1} + a^{(321)}_{2} + a^{(321)}_{3}\\right)$"
      ],
      "text/plain": [
       "<IPython.core.display.Math object>"
      ]
     },
     "metadata": {},
     "output_type": "display_data"
    },
    {
     "data": {
      "text/latex": [
       "$\\displaystyle b^{(321)}_{1} b^{(321)}_{2} b^{(321)}_{3} \\left(a^{(321)}_{1} + a^{(321)}_{2} + a^{(321)}_{3}\\right)$"
      ],
      "text/plain": [
       "<IPython.core.display.Math object>"
      ]
     },
     "metadata": {},
     "output_type": "display_data"
    },
    {
     "name": "stdout",
     "output_type": "stream",
     "text": [
      "Blowup coords: [0, 2, 4]\n"
     ]
    },
    {
     "data": {
      "text/latex": [
       "$\\displaystyle a^{(3213)}_{3} b^{(3213)}_{1} b^{(3213)}_{2} b^{(3213)}_{3} \\left(a^{(3213)}_{1} + a^{(3213)}_{2} + 1\\right)$"
      ],
      "text/plain": [
       "<IPython.core.display.Math object>"
      ]
     },
     "metadata": {},
     "output_type": "display_data"
    },
    {
     "data": {
      "text/latex": [
       "$\\displaystyle RLCTS = \\left[ \\left( a^{(3213)}_{3}, \\  3\\right), \\  \\left( b^{(3213)}_{1}, \\  3\\right), \\  \\left( b^{(3213)}_{2}, \\  3\\right), \\  \\left( b^{(3213)}_{3}, \\  3\\right)\\right]$"
      ],
      "text/plain": [
       "<IPython.core.display.Math object>"
      ]
     },
     "metadata": {},
     "output_type": "display_data"
    },
    {
     "data": {
      "text/latex": [
       "$\\displaystyle a^{(3212)}_{2} b^{(3212)}_{1} b^{(3212)}_{2} b^{(3212)}_{3} \\left(a^{(3212)}_{1} + a^{(3212)}_{3} + 1\\right)$"
      ],
      "text/plain": [
       "<IPython.core.display.Math object>"
      ]
     },
     "metadata": {},
     "output_type": "display_data"
    },
    {
     "data": {
      "text/latex": [
       "$\\displaystyle RLCTS = \\left[ \\left( a^{(3212)}_{2}, \\  3\\right), \\  \\left( b^{(3212)}_{1}, \\  3\\right), \\  \\left( b^{(3212)}_{2}, \\  3\\right), \\  \\left( b^{(3212)}_{3}, \\  3\\right)\\right]$"
      ],
      "text/plain": [
       "<IPython.core.display.Math object>"
      ]
     },
     "metadata": {},
     "output_type": "display_data"
    },
    {
     "data": {
      "text/latex": [
       "$\\displaystyle a^{(3211)}_{1} b^{(3211)}_{1} b^{(3211)}_{2} b^{(3211)}_{3} \\left(a^{(3211)}_{2} + a^{(3211)}_{3} + 1\\right)$"
      ],
      "text/plain": [
       "<IPython.core.display.Math object>"
      ]
     },
     "metadata": {},
     "output_type": "display_data"
    },
    {
     "data": {
      "text/latex": [
       "$\\displaystyle RLCTS = \\left[ \\left( a^{(3211)}_{1}, \\  3\\right), \\  \\left( b^{(3211)}_{1}, \\  3\\right), \\  \\left( b^{(3211)}_{2}, \\  3\\right), \\  \\left( b^{(3211)}_{3}, \\  3\\right)\\right]$"
      ],
      "text/plain": [
       "<IPython.core.display.Math object>"
      ]
     },
     "metadata": {},
     "output_type": "display_data"
    },
    {
     "name": "stdout",
     "output_type": "stream",
     "text": [
      "Task stack empty\n"
     ]
    },
    {
     "name": "stdout",
     "output_type": "stream",
     "text": [
      "Task stack empty\n",
      "No more blow-up task.\n"
     ]
    }
   ],
   "source": [
    "blowup_coords = btree.find_next_blowup_coord()\n",
    "while blowup_coords:\n",
    "    btree.next_blowup(blowup_coords)\n",
    "    blowup_coords = btree.find_next_blowup_coord()"
   ]
  },
  {
   "cell_type": "code",
   "execution_count": 122,
   "id": "5bc8aa16-fc85-477d-94d6-792fab9a57ae",
   "metadata": {},
   "outputs": [
    {
     "data": {
      "text/plain": [
       "NodeView(('', '2', '1', '12', '11', '122', '121', '22', '21', '212', '211'))"
      ]
     },
     "execution_count": 122,
     "metadata": {},
     "output_type": "execute_result"
    }
   ],
   "source": [
    "btree.tree.nodes()"
   ]
  },
  {
   "cell_type": "code",
   "execution_count": 125,
   "id": "4744bd0e-bc21-44eb-b16b-474d8e320c2c",
   "metadata": {},
   "outputs": [
    {
     "data": {
      "image/png": "[encoded data removed]",
      "text/plain": [
       "<Figure size 640x480 with 1 Axes>"
      ]
     },
     "metadata": {},
     "output_type": "display_data"
    },
    {
     "data": {
      "image/png": "[encoded data removed]",
      "text/plain": [
       "<Figure size 640x480 with 1 Axes>"
      ]
     },
     "metadata": {},
     "output_type": "display_data"
    }
   ],
   "source": [
    "nx.draw(btree.tree, pos=nx.planar_layout(btree.tree), with_labels=True)"
   ]
  },
  {
   "cell_type": "code",
   "execution_count": 132,
   "id": "d3ae2233-00ab-4aff-ba3d-9d19997753f6",
   "metadata": {},
   "outputs": [
    {
     "data": {
      "text/latex": [
       "$\\displaystyle a_{1} b_{1} + a_{2} b_{2} + a_{3} b_{3}$"
      ],
      "text/plain": [
       "<IPython.core.display.Math object>"
      ]
     },
     "metadata": {},
     "output_type": "display_data"
    },
    {
     "name": "stdout",
     "output_type": "stream",
     "text": [
      "-------\n"
     ]
    },
    {
     "data": {
      "text/latex": [
       "$\\displaystyle b^{(3)}_{3} \\left(a^{(3)}_{1} b^{(3)}_{1} + a^{(3)}_{2} b^{(3)}_{2} + a^{(3)}_{3}\\right)$"
      ],
      "text/plain": [
       "<IPython.core.display.Math object>"
      ]
     },
     "metadata": {},
     "output_type": "display_data"
    },
    {
     "data": {
      "text/latex": [
       "$\\displaystyle \\left[ \\left( a^{(33)}_{3}, \\  3\\right), \\  \\left( b^{(33)}_{3}, \\  3\\right)\\right]$"
      ],
      "text/plain": [
       "<IPython.core.display.Math object>"
      ]
     },
     "metadata": {},
     "output_type": "display_data"
    },
    {
     "data": {
      "text/latex": [
       "$\\displaystyle b^{(2)}_{2} \\left(a^{(2)}_{1} b^{(2)}_{1} + a^{(2)}_{2} + a^{(2)}_{3} b^{(2)}_{3}\\right)$"
      ],
      "text/plain": [
       "<IPython.core.display.Math object>"
      ]
     },
     "metadata": {},
     "output_type": "display_data"
    },
    {
     "data": {
      "text/latex": [
       "$\\displaystyle \\left[ \\left( a^{(22)}_{2}, \\  3\\right), \\  \\left( b^{(22)}_{2}, \\  3\\right)\\right]$"
      ],
      "text/plain": [
       "<IPython.core.display.Math object>"
      ]
     },
     "metadata": {},
     "output_type": "display_data"
    },
    {
     "data": {
      "text/latex": [
       "$\\displaystyle a^{(1)}_{1} \\left(a^{(1)}_{2} b^{(1)}_{2} + a^{(1)}_{3} b^{(1)}_{3} + b^{(1)}_{1}\\right)$"
      ],
      "text/plain": [
       "<IPython.core.display.Math object>"
      ]
     },
     "metadata": {},
     "output_type": "display_data"
    },
    {
     "data": {
      "text/latex": [
       "$\\displaystyle \\left[ \\left( a^{(11)}_{1}, \\  3\\right), \\  \\left( b^{(11)}_{1}, \\  3\\right)\\right]$"
      ],
      "text/plain": [
       "<IPython.core.display.Math object>"
      ]
     },
     "metadata": {},
     "output_type": "display_data"
    },
    {
     "name": "stdout",
     "output_type": "stream",
     "text": [
      "-------\n"
     ]
    },
    {
     "data": {
      "text/latex": [
       "$\\displaystyle a^{(33)}_{3} b^{(33)}_{3} \\left(a^{(33)}_{1} b^{(33)}_{1} + a^{(33)}_{2} b^{(33)}_{2} + 1\\right)$"
      ],
      "text/plain": [
       "<IPython.core.display.Math object>"
      ]
     },
     "metadata": {},
     "output_type": "display_data"
    },
    {
     "data": {
      "text/latex": [
       "$\\displaystyle \\left[ \\left( a^{(33)}_{3}, \\  3\\right), \\  \\left( b^{(33)}_{3}, \\  3\\right)\\right]$"
      ],
      "text/plain": [
       "<IPython.core.display.Math object>"
      ]
     },
     "metadata": {},
     "output_type": "display_data"
    },
    {
     "data": {
      "text/latex": [
       "$\\displaystyle b^{(32)}_{2} b^{(32)}_{3} \\left(a^{(32)}_{1} b^{(32)}_{1} + a^{(32)}_{2} + a^{(32)}_{3}\\right)$"
      ],
      "text/plain": [
       "<IPython.core.display.Math object>"
      ]
     },
     "metadata": {},
     "output_type": "display_data"
    },
    {
     "data": {
      "text/latex": [
       "$\\displaystyle \\left[ \\left( a^{(322)}_{2}, \\  3\\right), \\  \\left( b^{(322)}_{2}, \\  3\\right), \\  \\left( b^{(322)}_{3}, \\  3\\right)\\right]$"
      ],
      "text/plain": [
       "<IPython.core.display.Math object>"
      ]
     },
     "metadata": {},
     "output_type": "display_data"
    },
    {
     "data": {
      "text/latex": [
       "$\\displaystyle a^{(31)}_{1} b^{(31)}_{3} \\left(a^{(31)}_{2} b^{(31)}_{2} + a^{(31)}_{3} + b^{(31)}_{1}\\right)$"
      ],
      "text/plain": [
       "<IPython.core.display.Math object>"
      ]
     },
     "metadata": {},
     "output_type": "display_data"
    },
    {
     "data": {
      "text/latex": [
       "$\\displaystyle \\left[ \\left( a^{(311)}_{1}, \\  3\\right), \\  \\left( b^{(311)}_{1}, \\  3\\right), \\  \\left( b^{(311)}_{3}, \\  3\\right)\\right]$"
      ],
      "text/plain": [
       "<IPython.core.display.Math object>"
      ]
     },
     "metadata": {},
     "output_type": "display_data"
    },
    {
     "data": {
      "text/latex": [
       "$\\displaystyle b^{(23)}_{2} b^{(23)}_{3} \\left(a^{(23)}_{1} b^{(23)}_{1} + a^{(23)}_{2} + a^{(23)}_{3}\\right)$"
      ],
      "text/plain": [
       "<IPython.core.display.Math object>"
      ]
     },
     "metadata": {},
     "output_type": "display_data"
    },
    {
     "data": {
      "text/latex": [
       "$\\displaystyle \\left[ \\left( a^{(232)}_{2}, \\  3\\right), \\  \\left( b^{(232)}_{2}, \\  3\\right), \\  \\left( b^{(232)}_{3}, \\  3\\right)\\right]$"
      ],
      "text/plain": [
       "<IPython.core.display.Math object>"
      ]
     },
     "metadata": {},
     "output_type": "display_data"
    },
    {
     "data": {
      "text/latex": [
       "$\\displaystyle a^{(22)}_{2} b^{(22)}_{2} \\left(a^{(22)}_{1} b^{(22)}_{1} + a^{(22)}_{3} b^{(22)}_{3} + 1\\right)$"
      ],
      "text/plain": [
       "<IPython.core.display.Math object>"
      ]
     },
     "metadata": {},
     "output_type": "display_data"
    },
    {
     "data": {
      "text/latex": [
       "$\\displaystyle \\left[ \\left( a^{(22)}_{2}, \\  3\\right), \\  \\left( b^{(22)}_{2}, \\  3\\right)\\right]$"
      ],
      "text/plain": [
       "<IPython.core.display.Math object>"
      ]
     },
     "metadata": {},
     "output_type": "display_data"
    },
    {
     "data": {
      "text/latex": [
       "$\\displaystyle a^{(21)}_{1} b^{(21)}_{2} \\left(a^{(21)}_{2} + a^{(21)}_{3} b^{(21)}_{3} + b^{(21)}_{1}\\right)$"
      ],
      "text/plain": [
       "<IPython.core.display.Math object>"
      ]
     },
     "metadata": {},
     "output_type": "display_data"
    },
    {
     "data": {
      "text/latex": [
       "$\\displaystyle \\left[ \\left( a^{(211)}_{1}, \\  3\\right), \\  \\left( b^{(211)}_{1}, \\  3\\right), \\  \\left( b^{(211)}_{2}, \\  3\\right)\\right]$"
      ],
      "text/plain": [
       "<IPython.core.display.Math object>"
      ]
     },
     "metadata": {},
     "output_type": "display_data"
    },
    {
     "data": {
      "text/latex": [
       "$\\displaystyle a^{(13)}_{1} a^{(13)}_{3} \\left(a^{(13)}_{2} b^{(13)}_{2} + b^{(13)}_{1} + b^{(13)}_{3}\\right)$"
      ],
      "text/plain": [
       "<IPython.core.display.Math object>"
      ]
     },
     "metadata": {},
     "output_type": "display_data"
    },
    {
     "data": {
      "text/latex": [
       "$\\displaystyle \\left[ \\left( a^{(131)}_{1}, \\  3\\right), \\  \\left( a^{(131)}_{3}, \\  3\\right), \\  \\left( b^{(131)}_{1}, \\  3\\right)\\right]$"
      ],
      "text/plain": [
       "<IPython.core.display.Math object>"
      ]
     },
     "metadata": {},
     "output_type": "display_data"
    },
    {
     "data": {
      "text/latex": [
       "$\\displaystyle a^{(12)}_{1} a^{(12)}_{2} \\left(a^{(12)}_{3} b^{(12)}_{3} + b^{(12)}_{1} + b^{(12)}_{2}\\right)$"
      ],
      "text/plain": [
       "<IPython.core.display.Math object>"
      ]
     },
     "metadata": {},
     "output_type": "display_data"
    },
    {
     "data": {
      "text/latex": [
       "$\\displaystyle \\left[ \\left( a^{(121)}_{1}, \\  3\\right), \\  \\left( a^{(121)}_{2}, \\  3\\right), \\  \\left( b^{(121)}_{1}, \\  3\\right)\\right]$"
      ],
      "text/plain": [
       "<IPython.core.display.Math object>"
      ]
     },
     "metadata": {},
     "output_type": "display_data"
    },
    {
     "data": {
      "text/latex": [
       "$\\displaystyle a^{(11)}_{1} b^{(11)}_{1} \\left(a^{(11)}_{2} b^{(11)}_{2} + a^{(11)}_{3} b^{(11)}_{3} + 1\\right)$"
      ],
      "text/plain": [
       "<IPython.core.display.Math object>"
      ]
     },
     "metadata": {},
     "output_type": "display_data"
    },
    {
     "data": {
      "text/latex": [
       "$\\displaystyle \\left[ \\left( a^{(11)}_{1}, \\  3\\right), \\  \\left( b^{(11)}_{1}, \\  3\\right)\\right]$"
      ],
      "text/plain": [
       "<IPython.core.display.Math object>"
      ]
     },
     "metadata": {},
     "output_type": "display_data"
    },
    {
     "name": "stdout",
     "output_type": "stream",
     "text": [
      "-------\n"
     ]
    },
    {
     "data": {
      "text/latex": [
       "$\\displaystyle a^{(323)}_{3} b^{(323)}_{2} b^{(323)}_{3} \\left(a^{(323)}_{1} b^{(323)}_{1} + a^{(323)}_{2} + 1\\right)$"
      ],
      "text/plain": [
       "<IPython.core.display.Math object>"
      ]
     },
     "metadata": {},
     "output_type": "display_data"
    },
    {
     "data": {
      "text/latex": [
       "$\\displaystyle \\left[ \\left( a^{(323)}_{3}, \\  3\\right), \\  \\left( b^{(323)}_{2}, \\  3\\right), \\  \\left( b^{(323)}_{3}, \\  3\\right)\\right]$"
      ],
      "text/plain": [
       "<IPython.core.display.Math object>"
      ]
     },
     "metadata": {},
     "output_type": "display_data"
    },
    {
     "data": {
      "text/latex": [
       "$\\displaystyle a^{(322)}_{2} b^{(322)}_{2} b^{(322)}_{3} \\left(a^{(322)}_{1} b^{(322)}_{1} + a^{(322)}_{3} + 1\\right)$"
      ],
      "text/plain": [
       "<IPython.core.display.Math object>"
      ]
     },
     "metadata": {},
     "output_type": "display_data"
    },
    {
     "data": {
      "text/latex": [
       "$\\displaystyle \\left[ \\left( a^{(322)}_{2}, \\  3\\right), \\  \\left( b^{(322)}_{2}, \\  3\\right), \\  \\left( b^{(322)}_{3}, \\  3\\right)\\right]$"
      ],
      "text/plain": [
       "<IPython.core.display.Math object>"
      ]
     },
     "metadata": {},
     "output_type": "display_data"
    },
    {
     "data": {
      "text/latex": [
       "$\\displaystyle b^{(321)}_{1} b^{(321)}_{2} b^{(321)}_{3} \\left(a^{(321)}_{1} + a^{(321)}_{2} + a^{(321)}_{3}\\right)$"
      ],
      "text/plain": [
       "<IPython.core.display.Math object>"
      ]
     },
     "metadata": {},
     "output_type": "display_data"
    },
    {
     "data": {
      "text/latex": [
       "$\\displaystyle \\left[ \\left( a^{(3211)}_{1}, \\  3\\right), \\  \\left( b^{(3211)}_{1}, \\  3\\right), \\  \\left( b^{(3211)}_{2}, \\  3\\right), \\  \\left( b^{(3211)}_{3}, \\  3\\right)\\right]$"
      ],
      "text/plain": [
       "<IPython.core.display.Math object>"
      ]
     },
     "metadata": {},
     "output_type": "display_data"
    },
    {
     "data": {
      "text/latex": [
       "$\\displaystyle a^{(313)}_{1} a^{(313)}_{3} b^{(313)}_{3} \\left(a^{(313)}_{2} b^{(313)}_{2} + b^{(313)}_{1} + 1\\right)$"
      ],
      "text/plain": [
       "<IPython.core.display.Math object>"
      ]
     },
     "metadata": {},
     "output_type": "display_data"
    },
    {
     "data": {
      "text/latex": [
       "$\\displaystyle \\left[ \\left( a^{(313)}_{1}, \\  3\\right), \\  \\left( a^{(313)}_{3}, \\  3\\right), \\  \\left( b^{(313)}_{3}, \\  3\\right)\\right]$"
      ],
      "text/plain": [
       "<IPython.core.display.Math object>"
      ]
     },
     "metadata": {},
     "output_type": "display_data"
    },
    {
     "data": {
      "text/latex": [
       "$\\displaystyle a^{(312)}_{1} a^{(312)}_{2} b^{(312)}_{3} \\left(a^{(312)}_{3} + b^{(312)}_{1} + b^{(312)}_{2}\\right)$"
      ],
      "text/plain": [
       "<IPython.core.display.Math object>"
      ]
     },
     "metadata": {},
     "output_type": "display_data"
    },
    {
     "data": {
      "text/latex": [
       "$\\displaystyle \\left[ \\left( a^{(3121)}_{1}, \\  3\\right), \\  \\left( a^{(3121)}_{2}, \\  3\\right), \\  \\left( b^{(3121)}_{1}, \\  3\\right), \\  \\left( b^{(3121)}_{3}, \\  3\\right)\\right]$"
      ],
      "text/plain": [
       "<IPython.core.display.Math object>"
      ]
     },
     "metadata": {},
     "output_type": "display_data"
    },
    {
     "data": {
      "text/latex": [
       "$\\displaystyle a^{(311)}_{1} b^{(311)}_{1} b^{(311)}_{3} \\left(a^{(311)}_{2} b^{(311)}_{2} + a^{(311)}_{3} + 1\\right)$"
      ],
      "text/plain": [
       "<IPython.core.display.Math object>"
      ]
     },
     "metadata": {},
     "output_type": "display_data"
    },
    {
     "data": {
      "text/latex": [
       "$\\displaystyle \\left[ \\left( a^{(311)}_{1}, \\  3\\right), \\  \\left( b^{(311)}_{1}, \\  3\\right), \\  \\left( b^{(311)}_{3}, \\  3\\right)\\right]$"
      ],
      "text/plain": [
       "<IPython.core.display.Math object>"
      ]
     },
     "metadata": {},
     "output_type": "display_data"
    },
    {
     "data": {
      "text/latex": [
       "$\\displaystyle a^{(233)}_{3} b^{(233)}_{2} b^{(233)}_{3} \\left(a^{(233)}_{1} b^{(233)}_{1} + a^{(233)}_{2} + 1\\right)$"
      ],
      "text/plain": [
       "<IPython.core.display.Math object>"
      ]
     },
     "metadata": {},
     "output_type": "display_data"
    },
    {
     "data": {
      "text/latex": [
       "$\\displaystyle \\left[ \\left( a^{(233)}_{3}, \\  3\\right), \\  \\left( b^{(233)}_{2}, \\  3\\right), \\  \\left( b^{(233)}_{3}, \\  3\\right)\\right]$"
      ],
      "text/plain": [
       "<IPython.core.display.Math object>"
      ]
     },
     "metadata": {},
     "output_type": "display_data"
    },
    {
     "data": {
      "text/latex": [
       "$\\displaystyle a^{(232)}_{2} b^{(232)}_{2} b^{(232)}_{3} \\left(a^{(232)}_{1} b^{(232)}_{1} + a^{(232)}_{3} + 1\\right)$"
      ],
      "text/plain": [
       "<IPython.core.display.Math object>"
      ]
     },
     "metadata": {},
     "output_type": "display_data"
    },
    {
     "data": {
      "text/latex": [
       "$\\displaystyle \\left[ \\left( a^{(232)}_{2}, \\  3\\right), \\  \\left( b^{(232)}_{2}, \\  3\\right), \\  \\left( b^{(232)}_{3}, \\  3\\right)\\right]$"
      ],
      "text/plain": [
       "<IPython.core.display.Math object>"
      ]
     },
     "metadata": {},
     "output_type": "display_data"
    },
    {
     "data": {
      "text/latex": [
       "$\\displaystyle b^{(231)}_{1} b^{(231)}_{2} b^{(231)}_{3} \\left(a^{(231)}_{1} + a^{(231)}_{2} + a^{(231)}_{3}\\right)$"
      ],
      "text/plain": [
       "<IPython.core.display.Math object>"
      ]
     },
     "metadata": {},
     "output_type": "display_data"
    },
    {
     "data": {
      "text/latex": [
       "$\\displaystyle \\left[ \\left( a^{(2311)}_{1}, \\  3\\right), \\  \\left( b^{(2311)}_{1}, \\  3\\right), \\  \\left( b^{(2311)}_{2}, \\  3\\right), \\  \\left( b^{(2311)}_{3}, \\  3\\right)\\right]$"
      ],
      "text/plain": [
       "<IPython.core.display.Math object>"
      ]
     },
     "metadata": {},
     "output_type": "display_data"
    },
    {
     "data": {
      "text/latex": [
       "$\\displaystyle a^{(213)}_{1} a^{(213)}_{3} b^{(213)}_{2} \\left(a^{(213)}_{2} + b^{(213)}_{1} + b^{(213)}_{3}\\right)$"
      ],
      "text/plain": [
       "<IPython.core.display.Math object>"
      ]
     },
     "metadata": {},
     "output_type": "display_data"
    },
    {
     "data": {
      "text/latex": [
       "$\\displaystyle \\left[ \\left( a^{(2131)}_{1}, \\  3\\right), \\  \\left( a^{(2131)}_{3}, \\  3\\right), \\  \\left( b^{(2131)}_{1}, \\  3\\right), \\  \\left( b^{(2131)}_{2}, \\  3\\right)\\right]$"
      ],
      "text/plain": [
       "<IPython.core.display.Math object>"
      ]
     },
     "metadata": {},
     "output_type": "display_data"
    },
    {
     "data": {
      "text/latex": [
       "$\\displaystyle a^{(212)}_{1} a^{(212)}_{2} b^{(212)}_{2} \\left(a^{(212)}_{3} b^{(212)}_{3} + b^{(212)}_{1} + 1\\right)$"
      ],
      "text/plain": [
       "<IPython.core.display.Math object>"
      ]
     },
     "metadata": {},
     "output_type": "display_data"
    },
    {
     "data": {
      "text/latex": [
       "$\\displaystyle \\left[ \\left( a^{(212)}_{1}, \\  3\\right), \\  \\left( a^{(212)}_{2}, \\  3\\right), \\  \\left( b^{(212)}_{2}, \\  3\\right)\\right]$"
      ],
      "text/plain": [
       "<IPython.core.display.Math object>"
      ]
     },
     "metadata": {},
     "output_type": "display_data"
    },
    {
     "data": {
      "text/latex": [
       "$\\displaystyle a^{(211)}_{1} b^{(211)}_{1} b^{(211)}_{2} \\left(a^{(211)}_{2} + a^{(211)}_{3} b^{(211)}_{3} + 1\\right)$"
      ],
      "text/plain": [
       "<IPython.core.display.Math object>"
      ]
     },
     "metadata": {},
     "output_type": "display_data"
    },
    {
     "data": {
      "text/latex": [
       "$\\displaystyle \\left[ \\left( a^{(211)}_{1}, \\  3\\right), \\  \\left( b^{(211)}_{1}, \\  3\\right), \\  \\left( b^{(211)}_{2}, \\  3\\right)\\right]$"
      ],
      "text/plain": [
       "<IPython.core.display.Math object>"
      ]
     },
     "metadata": {},
     "output_type": "display_data"
    },
    {
     "data": {
      "text/latex": [
       "$\\displaystyle a^{(133)}_{1} a^{(133)}_{3} b^{(133)}_{3} \\left(a^{(133)}_{2} b^{(133)}_{2} + b^{(133)}_{1} + 1\\right)$"
      ],
      "text/plain": [
       "<IPython.core.display.Math object>"
      ]
     },
     "metadata": {},
     "output_type": "display_data"
    },
    {
     "data": {
      "text/latex": [
       "$\\displaystyle \\left[ \\left( a^{(133)}_{1}, \\  3\\right), \\  \\left( a^{(133)}_{3}, \\  3\\right), \\  \\left( b^{(133)}_{3}, \\  3\\right)\\right]$"
      ],
      "text/plain": [
       "<IPython.core.display.Math object>"
      ]
     },
     "metadata": {},
     "output_type": "display_data"
    },
    {
     "data": {
      "text/latex": [
       "$\\displaystyle a^{(132)}_{1} a^{(132)}_{2} a^{(132)}_{3} \\left(b^{(132)}_{1} + b^{(132)}_{2} + b^{(132)}_{3}\\right)$"
      ],
      "text/plain": [
       "<IPython.core.display.Math object>"
      ]
     },
     "metadata": {},
     "output_type": "display_data"
    },
    {
     "data": {
      "text/latex": [
       "$\\displaystyle \\left[ \\left( a^{(1321)}_{1}, \\  3\\right), \\  \\left( a^{(1321)}_{2}, \\  3\\right), \\  \\left( a^{(1321)}_{3}, \\  3\\right), \\  \\left( b^{(1321)}_{1}, \\  3\\right)\\right]$"
      ],
      "text/plain": [
       "<IPython.core.display.Math object>"
      ]
     },
     "metadata": {},
     "output_type": "display_data"
    },
    {
     "data": {
      "text/latex": [
       "$\\displaystyle a^{(131)}_{1} a^{(131)}_{3} b^{(131)}_{1} \\left(a^{(131)}_{2} b^{(131)}_{2} + b^{(131)}_{3} + 1\\right)$"
      ],
      "text/plain": [
       "<IPython.core.display.Math object>"
      ]
     },
     "metadata": {},
     "output_type": "display_data"
    },
    {
     "data": {
      "text/latex": [
       "$\\displaystyle \\left[ \\left( a^{(131)}_{1}, \\  3\\right), \\  \\left( a^{(131)}_{3}, \\  3\\right), \\  \\left( b^{(131)}_{1}, \\  3\\right)\\right]$"
      ],
      "text/plain": [
       "<IPython.core.display.Math object>"
      ]
     },
     "metadata": {},
     "output_type": "display_data"
    },
    {
     "data": {
      "text/latex": [
       "$\\displaystyle a^{(123)}_{1} a^{(123)}_{2} b^{(123)}_{3} \\left(a^{(123)}_{3} + b^{(123)}_{1} + b^{(123)}_{2}\\right)$"
      ],
      "text/plain": [
       "<IPython.core.display.Math object>"
      ]
     },
     "metadata": {},
     "output_type": "display_data"
    },
    {
     "data": {
      "text/latex": [
       "$\\displaystyle \\left[ \\left( a^{(1231)}_{1}, \\  3\\right), \\  \\left( a^{(1231)}_{2}, \\  3\\right), \\  \\left( b^{(1231)}_{1}, \\  3\\right), \\  \\left( b^{(1231)}_{3}, \\  3\\right)\\right]$"
      ],
      "text/plain": [
       "<IPython.core.display.Math object>"
      ]
     },
     "metadata": {},
     "output_type": "display_data"
    },
    {
     "data": {
      "text/latex": [
       "$\\displaystyle a^{(122)}_{1} a^{(122)}_{2} b^{(122)}_{2} \\left(a^{(122)}_{3} b^{(122)}_{3} + b^{(122)}_{1} + 1\\right)$"
      ],
      "text/plain": [
       "<IPython.core.display.Math object>"
      ]
     },
     "metadata": {},
     "output_type": "display_data"
    },
    {
     "data": {
      "text/latex": [
       "$\\displaystyle \\left[ \\left( a^{(122)}_{1}, \\  3\\right), \\  \\left( a^{(122)}_{2}, \\  3\\right), \\  \\left( b^{(122)}_{2}, \\  3\\right)\\right]$"
      ],
      "text/plain": [
       "<IPython.core.display.Math object>"
      ]
     },
     "metadata": {},
     "output_type": "display_data"
    },
    {
     "data": {
      "text/latex": [
       "$\\displaystyle a^{(121)}_{1} a^{(121)}_{2} b^{(121)}_{1} \\left(a^{(121)}_{3} b^{(121)}_{3} + b^{(121)}_{2} + 1\\right)$"
      ],
      "text/plain": [
       "<IPython.core.display.Math object>"
      ]
     },
     "metadata": {},
     "output_type": "display_data"
    },
    {
     "data": {
      "text/latex": [
       "$\\displaystyle \\left[ \\left( a^{(121)}_{1}, \\  3\\right), \\  \\left( a^{(121)}_{2}, \\  3\\right), \\  \\left( b^{(121)}_{1}, \\  3\\right)\\right]$"
      ],
      "text/plain": [
       "<IPython.core.display.Math object>"
      ]
     },
     "metadata": {},
     "output_type": "display_data"
    },
    {
     "name": "stdout",
     "output_type": "stream",
     "text": [
      "-------\n"
     ]
    },
    {
     "data": {
      "text/latex": [
       "$\\displaystyle a^{(3213)}_{3} b^{(3213)}_{1} b^{(3213)}_{2} b^{(3213)}_{3} \\left(a^{(3213)}_{1} + a^{(3213)}_{2} + 1\\right)$"
      ],
      "text/plain": [
       "<IPython.core.display.Math object>"
      ]
     },
     "metadata": {},
     "output_type": "display_data"
    },
    {
     "data": {
      "text/latex": [
       "$\\displaystyle \\left[ \\left( a^{(3213)}_{3}, \\  3\\right), \\  \\left( b^{(3213)}_{1}, \\  3\\right), \\  \\left( b^{(3213)}_{2}, \\  3\\right), \\  \\left( b^{(3213)}_{3}, \\  3\\right)\\right]$"
      ],
      "text/plain": [
       "<IPython.core.display.Math object>"
      ]
     },
     "metadata": {},
     "output_type": "display_data"
    },
    {
     "data": {
      "text/latex": [
       "$\\displaystyle a^{(3212)}_{2} b^{(3212)}_{1} b^{(3212)}_{2} b^{(3212)}_{3} \\left(a^{(3212)}_{1} + a^{(3212)}_{3} + 1\\right)$"
      ],
      "text/plain": [
       "<IPython.core.display.Math object>"
      ]
     },
     "metadata": {},
     "output_type": "display_data"
    },
    {
     "data": {
      "text/latex": [
       "$\\displaystyle \\left[ \\left( a^{(3212)}_{2}, \\  3\\right), \\  \\left( b^{(3212)}_{1}, \\  3\\right), \\  \\left( b^{(3212)}_{2}, \\  3\\right), \\  \\left( b^{(3212)}_{3}, \\  3\\right)\\right]$"
      ],
      "text/plain": [
       "<IPython.core.display.Math object>"
      ]
     },
     "metadata": {},
     "output_type": "display_data"
    },
    {
     "data": {
      "text/latex": [
       "$\\displaystyle a^{(3211)}_{1} b^{(3211)}_{1} b^{(3211)}_{2} b^{(3211)}_{3} \\left(a^{(3211)}_{2} + a^{(3211)}_{3} + 1\\right)$"
      ],
      "text/plain": [
       "<IPython.core.display.Math object>"
      ]
     },
     "metadata": {},
     "output_type": "display_data"
    },
    {
     "data": {
      "text/latex": [
       "$\\displaystyle \\left[ \\left( a^{(3211)}_{1}, \\  3\\right), \\  \\left( b^{(3211)}_{1}, \\  3\\right), \\  \\left( b^{(3211)}_{2}, \\  3\\right), \\  \\left( b^{(3211)}_{3}, \\  3\\right)\\right]$"
      ],
      "text/plain": [
       "<IPython.core.display.Math object>"
      ]
     },
     "metadata": {},
     "output_type": "display_data"
    },
    {
     "data": {
      "text/latex": [
       "$\\displaystyle a^{(3123)}_{1} a^{(3123)}_{2} a^{(3123)}_{3} b^{(3123)}_{3} \\left(b^{(3123)}_{1} + b^{(3123)}_{2} + 1\\right)$"
      ],
      "text/plain": [
       "<IPython.core.display.Math object>"
      ]
     },
     "metadata": {},
     "output_type": "display_data"
    },
    {
     "data": {
      "text/latex": [
       "$\\displaystyle \\left[ \\left( a^{(3123)}_{1}, \\  3\\right), \\  \\left( a^{(3123)}_{2}, \\  3\\right), \\  \\left( a^{(3123)}_{3}, \\  3\\right), \\  \\left( b^{(3123)}_{3}, \\  3\\right)\\right]$"
      ],
      "text/plain": [
       "<IPython.core.display.Math object>"
      ]
     },
     "metadata": {},
     "output_type": "display_data"
    },
    {
     "data": {
      "text/latex": [
       "$\\displaystyle a^{(3122)}_{1} a^{(3122)}_{2} b^{(3122)}_{2} b^{(3122)}_{3} \\left(a^{(3122)}_{3} + b^{(3122)}_{1} + 1\\right)$"
      ],
      "text/plain": [
       "<IPython.core.display.Math object>"
      ]
     },
     "metadata": {},
     "output_type": "display_data"
    },
    {
     "data": {
      "text/latex": [
       "$\\displaystyle \\left[ \\left( a^{(3122)}_{1}, \\  3\\right), \\  \\left( a^{(3122)}_{2}, \\  3\\right), \\  \\left( b^{(3122)}_{2}, \\  3\\right), \\  \\left( b^{(3122)}_{3}, \\  3\\right)\\right]$"
      ],
      "text/plain": [
       "<IPython.core.display.Math object>"
      ]
     },
     "metadata": {},
     "output_type": "display_data"
    },
    {
     "data": {
      "text/latex": [
       "$\\displaystyle a^{(3121)}_{1} a^{(3121)}_{2} b^{(3121)}_{1} b^{(3121)}_{3} \\left(a^{(3121)}_{3} + b^{(3121)}_{2} + 1\\right)$"
      ],
      "text/plain": [
       "<IPython.core.display.Math object>"
      ]
     },
     "metadata": {},
     "output_type": "display_data"
    },
    {
     "data": {
      "text/latex": [
       "$\\displaystyle \\left[ \\left( a^{(3121)}_{1}, \\  3\\right), \\  \\left( a^{(3121)}_{2}, \\  3\\right), \\  \\left( b^{(3121)}_{1}, \\  3\\right), \\  \\left( b^{(3121)}_{3}, \\  3\\right)\\right]$"
      ],
      "text/plain": [
       "<IPython.core.display.Math object>"
      ]
     },
     "metadata": {},
     "output_type": "display_data"
    },
    {
     "data": {
      "text/latex": [
       "$\\displaystyle a^{(2313)}_{3} b^{(2313)}_{1} b^{(2313)}_{2} b^{(2313)}_{3} \\left(a^{(2313)}_{1} + a^{(2313)}_{2} + 1\\right)$"
      ],
      "text/plain": [
       "<IPython.core.display.Math object>"
      ]
     },
     "metadata": {},
     "output_type": "display_data"
    },
    {
     "data": {
      "text/latex": [
       "$\\displaystyle \\left[ \\left( a^{(2313)}_{3}, \\  3\\right), \\  \\left( b^{(2313)}_{1}, \\  3\\right), \\  \\left( b^{(2313)}_{2}, \\  3\\right), \\  \\left( b^{(2313)}_{3}, \\  3\\right)\\right]$"
      ],
      "text/plain": [
       "<IPython.core.display.Math object>"
      ]
     },
     "metadata": {},
     "output_type": "display_data"
    },
    {
     "data": {
      "text/latex": [
       "$\\displaystyle a^{(2312)}_{2} b^{(2312)}_{1} b^{(2312)}_{2} b^{(2312)}_{3} \\left(a^{(2312)}_{1} + a^{(2312)}_{3} + 1\\right)$"
      ],
      "text/plain": [
       "<IPython.core.display.Math object>"
      ]
     },
     "metadata": {},
     "output_type": "display_data"
    },
    {
     "data": {
      "text/latex": [
       "$\\displaystyle \\left[ \\left( a^{(2312)}_{2}, \\  3\\right), \\  \\left( b^{(2312)}_{1}, \\  3\\right), \\  \\left( b^{(2312)}_{2}, \\  3\\right), \\  \\left( b^{(2312)}_{3}, \\  3\\right)\\right]$"
      ],
      "text/plain": [
       "<IPython.core.display.Math object>"
      ]
     },
     "metadata": {},
     "output_type": "display_data"
    },
    {
     "data": {
      "text/latex": [
       "$\\displaystyle a^{(2311)}_{1} b^{(2311)}_{1} b^{(2311)}_{2} b^{(2311)}_{3} \\left(a^{(2311)}_{2} + a^{(2311)}_{3} + 1\\right)$"
      ],
      "text/plain": [
       "<IPython.core.display.Math object>"
      ]
     },
     "metadata": {},
     "output_type": "display_data"
    },
    {
     "data": {
      "text/latex": [
       "$\\displaystyle \\left[ \\left( a^{(2311)}_{1}, \\  3\\right), \\  \\left( b^{(2311)}_{1}, \\  3\\right), \\  \\left( b^{(2311)}_{2}, \\  3\\right), \\  \\left( b^{(2311)}_{3}, \\  3\\right)\\right]$"
      ],
      "text/plain": [
       "<IPython.core.display.Math object>"
      ]
     },
     "metadata": {},
     "output_type": "display_data"
    },
    {
     "data": {
      "text/latex": [
       "$\\displaystyle a^{(2133)}_{1} a^{(2133)}_{3} b^{(2133)}_{2} b^{(2133)}_{3} \\left(a^{(2133)}_{2} + b^{(2133)}_{1} + 1\\right)$"
      ],
      "text/plain": [
       "<IPython.core.display.Math object>"
      ]
     },
     "metadata": {},
     "output_type": "display_data"
    },
    {
     "data": {
      "text/latex": [
       "$\\displaystyle \\left[ \\left( a^{(2133)}_{1}, \\  3\\right), \\  \\left( a^{(2133)}_{3}, \\  3\\right), \\  \\left( b^{(2133)}_{2}, \\  3\\right), \\  \\left( b^{(2133)}_{3}, \\  3\\right)\\right]$"
      ],
      "text/plain": [
       "<IPython.core.display.Math object>"
      ]
     },
     "metadata": {},
     "output_type": "display_data"
    },
    {
     "data": {
      "text/latex": [
       "$\\displaystyle a^{(2132)}_{1} a^{(2132)}_{2} a^{(2132)}_{3} b^{(2132)}_{2} \\left(b^{(2132)}_{1} + b^{(2132)}_{3} + 1\\right)$"
      ],
      "text/plain": [
       "<IPython.core.display.Math object>"
      ]
     },
     "metadata": {},
     "output_type": "display_data"
    },
    {
     "data": {
      "text/latex": [
       "$\\displaystyle \\left[ \\left( a^{(2132)}_{1}, \\  3\\right), \\  \\left( a^{(2132)}_{2}, \\  3\\right), \\  \\left( a^{(2132)}_{3}, \\  3\\right), \\  \\left( b^{(2132)}_{2}, \\  3\\right)\\right]$"
      ],
      "text/plain": [
       "<IPython.core.display.Math object>"
      ]
     },
     "metadata": {},
     "output_type": "display_data"
    },
    {
     "data": {
      "text/latex": [
       "$\\displaystyle a^{(2131)}_{1} a^{(2131)}_{3} b^{(2131)}_{1} b^{(2131)}_{2} \\left(a^{(2131)}_{2} + b^{(2131)}_{3} + 1\\right)$"
      ],
      "text/plain": [
       "<IPython.core.display.Math object>"
      ]
     },
     "metadata": {},
     "output_type": "display_data"
    },
    {
     "data": {
      "text/latex": [
       "$\\displaystyle \\left[ \\left( a^{(2131)}_{1}, \\  3\\right), \\  \\left( a^{(2131)}_{3}, \\  3\\right), \\  \\left( b^{(2131)}_{1}, \\  3\\right), \\  \\left( b^{(2131)}_{2}, \\  3\\right)\\right]$"
      ],
      "text/plain": [
       "<IPython.core.display.Math object>"
      ]
     },
     "metadata": {},
     "output_type": "display_data"
    },
    {
     "data": {
      "text/latex": [
       "$\\displaystyle a^{(1323)}_{1} a^{(1323)}_{2} a^{(1323)}_{3} b^{(1323)}_{3} \\left(b^{(1323)}_{1} + b^{(1323)}_{2} + 1\\right)$"
      ],
      "text/plain": [
       "<IPython.core.display.Math object>"
      ]
     },
     "metadata": {},
     "output_type": "display_data"
    },
    {
     "data": {
      "text/latex": [
       "$\\displaystyle \\left[ \\left( a^{(1323)}_{1}, \\  3\\right), \\  \\left( a^{(1323)}_{2}, \\  3\\right), \\  \\left( a^{(1323)}_{3}, \\  3\\right), \\  \\left( b^{(1323)}_{3}, \\  3\\right)\\right]$"
      ],
      "text/plain": [
       "<IPython.core.display.Math object>"
      ]
     },
     "metadata": {},
     "output_type": "display_data"
    },
    {
     "data": {
      "text/latex": [
       "$\\displaystyle a^{(1322)}_{1} a^{(1322)}_{2} a^{(1322)}_{3} b^{(1322)}_{2} \\left(b^{(1322)}_{1} + b^{(1322)}_{3} + 1\\right)$"
      ],
      "text/plain": [
       "<IPython.core.display.Math object>"
      ]
     },
     "metadata": {},
     "output_type": "display_data"
    },
    {
     "data": {
      "text/latex": [
       "$\\displaystyle \\left[ \\left( a^{(1322)}_{1}, \\  3\\right), \\  \\left( a^{(1322)}_{2}, \\  3\\right), \\  \\left( a^{(1322)}_{3}, \\  3\\right), \\  \\left( b^{(1322)}_{2}, \\  3\\right)\\right]$"
      ],
      "text/plain": [
       "<IPython.core.display.Math object>"
      ]
     },
     "metadata": {},
     "output_type": "display_data"
    },
    {
     "data": {
      "text/latex": [
       "$\\displaystyle a^{(1321)}_{1} a^{(1321)}_{2} a^{(1321)}_{3} b^{(1321)}_{1} \\left(b^{(1321)}_{2} + b^{(1321)}_{3} + 1\\right)$"
      ],
      "text/plain": [
       "<IPython.core.display.Math object>"
      ]
     },
     "metadata": {},
     "output_type": "display_data"
    },
    {
     "data": {
      "text/latex": [
       "$\\displaystyle \\left[ \\left( a^{(1321)}_{1}, \\  3\\right), \\  \\left( a^{(1321)}_{2}, \\  3\\right), \\  \\left( a^{(1321)}_{3}, \\  3\\right), \\  \\left( b^{(1321)}_{1}, \\  3\\right)\\right]$"
      ],
      "text/plain": [
       "<IPython.core.display.Math object>"
      ]
     },
     "metadata": {},
     "output_type": "display_data"
    },
    {
     "data": {
      "text/latex": [
       "$\\displaystyle a^{(1233)}_{1} a^{(1233)}_{2} a^{(1233)}_{3} b^{(1233)}_{3} \\left(b^{(1233)}_{1} + b^{(1233)}_{2} + 1\\right)$"
      ],
      "text/plain": [
       "<IPython.core.display.Math object>"
      ]
     },
     "metadata": {},
     "output_type": "display_data"
    },
    {
     "data": {
      "text/latex": [
       "$\\displaystyle \\left[ \\left( a^{(1233)}_{1}, \\  3\\right), \\  \\left( a^{(1233)}_{2}, \\  3\\right), \\  \\left( a^{(1233)}_{3}, \\  3\\right), \\  \\left( b^{(1233)}_{3}, \\  3\\right)\\right]$"
      ],
      "text/plain": [
       "<IPython.core.display.Math object>"
      ]
     },
     "metadata": {},
     "output_type": "display_data"
    },
    {
     "data": {
      "text/latex": [
       "$\\displaystyle a^{(1232)}_{1} a^{(1232)}_{2} b^{(1232)}_{2} b^{(1232)}_{3} \\left(a^{(1232)}_{3} + b^{(1232)}_{1} + 1\\right)$"
      ],
      "text/plain": [
       "<IPython.core.display.Math object>"
      ]
     },
     "metadata": {},
     "output_type": "display_data"
    },
    {
     "data": {
      "text/latex": [
       "$\\displaystyle \\left[ \\left( a^{(1232)}_{1}, \\  3\\right), \\  \\left( a^{(1232)}_{2}, \\  3\\right), \\  \\left( b^{(1232)}_{2}, \\  3\\right), \\  \\left( b^{(1232)}_{3}, \\  3\\right)\\right]$"
      ],
      "text/plain": [
       "<IPython.core.display.Math object>"
      ]
     },
     "metadata": {},
     "output_type": "display_data"
    },
    {
     "data": {
      "text/latex": [
       "$\\displaystyle a^{(1231)}_{1} a^{(1231)}_{2} b^{(1231)}_{1} b^{(1231)}_{3} \\left(a^{(1231)}_{3} + b^{(1231)}_{2} + 1\\right)$"
      ],
      "text/plain": [
       "<IPython.core.display.Math object>"
      ]
     },
     "metadata": {},
     "output_type": "display_data"
    },
    {
     "data": {
      "text/latex": [
       "$\\displaystyle \\left[ \\left( a^{(1231)}_{1}, \\  3\\right), \\  \\left( a^{(1231)}_{2}, \\  3\\right), \\  \\left( b^{(1231)}_{1}, \\  3\\right), \\  \\left( b^{(1231)}_{3}, \\  3\\right)\\right]$"
      ],
      "text/plain": [
       "<IPython.core.display.Math object>"
      ]
     },
     "metadata": {},
     "output_type": "display_data"
    },
    {
     "name": "stdout",
     "output_type": "stream",
     "text": [
      "-------\n"
     ]
    },
    {
     "data": {
      "text/latex": [
       "$\\displaystyle a_{1} b_{1} + a_{2} b_{2}$"
      ],
      "text/plain": [
       "<IPython.core.display.Math object>"
      ]
     },
     "metadata": {},
     "output_type": "display_data"
    },
    {
     "name": "stdout",
     "output_type": "stream",
     "text": [
      "-------\n"
     ]
    },
    {
     "data": {
      "text/latex": [
       "$\\displaystyle b^{(2)}_{2} \\left(a^{(2)}_{1} b^{(2)}_{1} + a^{(2)}_{2}\\right)$"
      ],
      "text/plain": [
       "<IPython.core.display.Math object>"
      ]
     },
     "metadata": {},
     "output_type": "display_data"
    },
    {
     "data": {
      "text/latex": [
       "$\\displaystyle \\left[ \\left( a^{(22)}_{2}, \\  2.0\\right), \\  \\left( b^{(22)}_{2}, \\  2.0\\right)\\right]$"
      ],
      "text/plain": [
       "<IPython.core.display.Math object>"
      ]
     },
     "metadata": {},
     "output_type": "display_data"
    },
    {
     "data": {
      "text/latex": [
       "$\\displaystyle a^{(1)}_{1} \\left(a^{(1)}_{2} b^{(1)}_{2} + b^{(1)}_{1}\\right)$"
      ],
      "text/plain": [
       "<IPython.core.display.Math object>"
      ]
     },
     "metadata": {},
     "output_type": "display_data"
    },
    {
     "data": {
      "text/latex": [
       "$\\displaystyle \\left[ \\left( a^{(11)}_{1}, \\  2.0\\right), \\  \\left( b^{(11)}_{1}, \\  2.0\\right)\\right]$"
      ],
      "text/plain": [
       "<IPython.core.display.Math object>"
      ]
     },
     "metadata": {},
     "output_type": "display_data"
    },
    {
     "name": "stdout",
     "output_type": "stream",
     "text": [
      "-------\n"
     ]
    },
    {
     "data": {
      "text/latex": [
       "$\\displaystyle a^{(22)}_{2} b^{(22)}_{2} \\left(a^{(22)}_{1} b^{(22)}_{1} + 1\\right)$"
      ],
      "text/plain": [
       "<IPython.core.display.Math object>"
      ]
     },
     "metadata": {},
     "output_type": "display_data"
    },
    {
     "data": {
      "text/latex": [
       "$\\displaystyle \\left[ \\left( a^{(22)}_{2}, \\  2.0\\right), \\  \\left( b^{(22)}_{2}, \\  2.0\\right)\\right]$"
      ],
      "text/plain": [
       "<IPython.core.display.Math object>"
      ]
     },
     "metadata": {},
     "output_type": "display_data"
    },
    {
     "data": {
      "text/latex": [
       "$\\displaystyle a^{(21)}_{1} b^{(21)}_{2} \\left(a^{(21)}_{2} + b^{(21)}_{1}\\right)$"
      ],
      "text/plain": [
       "<IPython.core.display.Math object>"
      ]
     },
     "metadata": {},
     "output_type": "display_data"
    },
    {
     "data": {
      "text/latex": [
       "$\\displaystyle \\left[ \\left( a^{(211)}_{1}, \\  2.0\\right), \\  \\left( b^{(211)}_{1}, \\  2.0\\right), \\  \\left( b^{(211)}_{2}, \\  2.0\\right)\\right]$"
      ],
      "text/plain": [
       "<IPython.core.display.Math object>"
      ]
     },
     "metadata": {},
     "output_type": "display_data"
    },
    {
     "data": {
      "text/latex": [
       "$\\displaystyle a^{(12)}_{1} a^{(12)}_{2} \\left(b^{(12)}_{1} + b^{(12)}_{2}\\right)$"
      ],
      "text/plain": [
       "<IPython.core.display.Math object>"
      ]
     },
     "metadata": {},
     "output_type": "display_data"
    },
    {
     "data": {
      "text/latex": [
       "$\\displaystyle \\left[ \\left( a^{(121)}_{1}, \\  2.0\\right), \\  \\left( a^{(121)}_{2}, \\  2.0\\right), \\  \\left( b^{(121)}_{1}, \\  2.0\\right)\\right]$"
      ],
      "text/plain": [
       "<IPython.core.display.Math object>"
      ]
     },
     "metadata": {},
     "output_type": "display_data"
    },
    {
     "data": {
      "text/latex": [
       "$\\displaystyle a^{(11)}_{1} b^{(11)}_{1} \\left(a^{(11)}_{2} b^{(11)}_{2} + 1\\right)$"
      ],
      "text/plain": [
       "<IPython.core.display.Math object>"
      ]
     },
     "metadata": {},
     "output_type": "display_data"
    },
    {
     "data": {
      "text/latex": [
       "$\\displaystyle \\left[ \\left( a^{(11)}_{1}, \\  2.0\\right), \\  \\left( b^{(11)}_{1}, \\  2.0\\right)\\right]$"
      ],
      "text/plain": [
       "<IPython.core.display.Math object>"
      ]
     },
     "metadata": {},
     "output_type": "display_data"
    },
    {
     "name": "stdout",
     "output_type": "stream",
     "text": [
      "-------\n"
     ]
    },
    {
     "data": {
      "text/latex": [
       "$\\displaystyle a^{(212)}_{1} a^{(212)}_{2} b^{(212)}_{2} \\left(b^{(212)}_{1} + 1\\right)$"
      ],
      "text/plain": [
       "<IPython.core.display.Math object>"
      ]
     },
     "metadata": {},
     "output_type": "display_data"
    },
    {
     "data": {
      "text/latex": [
       "$\\displaystyle \\left[ \\left( a^{(212)}_{1}, \\  2.0\\right), \\  \\left( a^{(212)}_{2}, \\  2.0\\right), \\  \\left( b^{(212)}_{2}, \\  2.0\\right)\\right]$"
      ],
      "text/plain": [
       "<IPython.core.display.Math object>"
      ]
     },
     "metadata": {},
     "output_type": "display_data"
    },
    {
     "data": {
      "text/latex": [
       "$\\displaystyle a^{(211)}_{1} b^{(211)}_{1} b^{(211)}_{2} \\left(a^{(211)}_{2} + 1\\right)$"
      ],
      "text/plain": [
       "<IPython.core.display.Math object>"
      ]
     },
     "metadata": {},
     "output_type": "display_data"
    },
    {
     "data": {
      "text/latex": [
       "$\\displaystyle \\left[ \\left( a^{(211)}_{1}, \\  2.0\\right), \\  \\left( b^{(211)}_{1}, \\  2.0\\right), \\  \\left( b^{(211)}_{2}, \\  2.0\\right)\\right]$"
      ],
      "text/plain": [
       "<IPython.core.display.Math object>"
      ]
     },
     "metadata": {},
     "output_type": "display_data"
    },
    {
     "data": {
      "text/latex": [
       "$\\displaystyle a^{(122)}_{1} a^{(122)}_{2} b^{(122)}_{2} \\left(b^{(122)}_{1} + 1\\right)$"
      ],
      "text/plain": [
       "<IPython.core.display.Math object>"
      ]
     },
     "metadata": {},
     "output_type": "display_data"
    },
    {
     "data": {
      "text/latex": [
       "$\\displaystyle \\left[ \\left( a^{(122)}_{1}, \\  2.0\\right), \\  \\left( a^{(122)}_{2}, \\  2.0\\right), \\  \\left( b^{(122)}_{2}, \\  2.0\\right)\\right]$"
      ],
      "text/plain": [
       "<IPython.core.display.Math object>"
      ]
     },
     "metadata": {},
     "output_type": "display_data"
    },
    {
     "data": {
      "text/latex": [
       "$\\displaystyle a^{(121)}_{1} a^{(121)}_{2} b^{(121)}_{1} \\left(b^{(121)}_{2} + 1\\right)$"
      ],
      "text/plain": [
       "<IPython.core.display.Math object>"
      ]
     },
     "metadata": {},
     "output_type": "display_data"
    },
    {
     "data": {
      "text/latex": [
       "$\\displaystyle \\left[ \\left( a^{(121)}_{1}, \\  2.0\\right), \\  \\left( a^{(121)}_{2}, \\  2.0\\right), \\  \\left( b^{(121)}_{1}, \\  2.0\\right)\\right]$"
      ],
      "text/plain": [
       "<IPython.core.display.Math object>"
      ]
     },
     "metadata": {},
     "output_type": "display_data"
    },
    {
     "name": "stdout",
     "output_type": "stream",
     "text": [
      "-------\n"
     ]
    }
   ],
   "source": [
    "for gen in nx.topological_generations(btree.tree):\n",
    "    for chart in gen:\n",
    "        display(Math(latex(btree.tree.nodes[chart][\"expr\"])))\n",
    "        if \"rlcts\" in btree.tree.nodes[chart].keys():\n",
    "            display(Math(latex(btree.tree.nodes[chart][\"rlcts\"])))\n",
    "    print(\"-------\")"
   ]
  },
  {
   "cell_type": "code",
   "execution_count": 130,
   "id": "e57197fa-9f19-441e-8e44-a4f50c949e20",
   "metadata": {},
   "outputs": [
    {
     "data": {
      "text/plain": [
       "dict_keys(['vars', 'expr', 'map', 'subs', 'blowup-coords'])"
      ]
     },
     "execution_count": 130,
     "metadata": {},
     "output_type": "execute_result"
    }
   ],
   "source": []
  },
  {
   "cell_type": "code",
   "execution_count": null,
   "id": "b3fdbb14-a896-4ea5-983e-7484d4914358",
   "metadata": {},
   "outputs": [],
   "source": []
  }
 ],
 "metadata": {
  "kernelspec": {
   "display_name": "Python 3.10.9 ('relu-network-singularity-LBlMk57Q')",
   "language": "python",
   "name": "python3"
  },
  "language_info": {
   "codemirror_mode": {
    "name": "ipython",
    "version": 3
   },
   "file_extension": ".py",
   "mimetype": "text/x-python",
   "name": "python",
   "nbconvert_exporter": "python",
   "pygments_lexer": "ipython3",
   "version": "3.10.9"
  },
  "vscode": {
   "interpreter": {
    "hash": "c43849e91c14a15337979b1d0946858fadb378c0bff80d3a67f06597fb243052"
   }
  }
 },
 "nbformat": 4,
 "nbformat_minor": 5
}
