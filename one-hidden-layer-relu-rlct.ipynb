{
 "cells": [
  {
   "cell_type": "markdown",
   "id": "bc5ea24e",
   "metadata": {},
   "source": [
    "# Resolution of Singularity for 1-hidden-layer ReLU network"
   ]
  },
  {
   "cell_type": "code",
   "execution_count": 1,
   "id": "b0e73068",
   "metadata": {},
   "outputs": [],
   "source": [
    "from blowup_tree import BlowupTree\n",
    "import networkx as nx\n",
    "from IPython.display import display, Math\n",
    "import matplotlib.pyplot as plt"
   ]
  },
  {
   "cell_type": "markdown",
   "id": "e5f52473",
   "metadata": {},
   "source": [
    "# $h = 2$ case"
   ]
  },
  {
   "cell_type": "code",
   "execution_count": 2,
   "id": "852658d7",
   "metadata": {},
   "outputs": [
    {
     "name": "stdin",
     "output_type": "stream",
     "text": [
      "Enter coordinate indices:  0 2\n"
     ]
    },
    {
     "ename": "KeyboardInterrupt",
     "evalue": "Interrupted by user",
     "output_type": "error",
     "traceback": [
      "\u001b[0;31m---------------------------------------------------------------------------\u001b[0m",
      "\u001b[0;31mKeyboardInterrupt\u001b[0m                         Traceback (most recent call last)",
      "Cell \u001b[0;32mIn[2], line 2\u001b[0m\n\u001b[1;32m      1\u001b[0m btree_h2 \u001b[38;5;241m=\u001b[39m BlowupTree(\u001b[38;5;241m2\u001b[39m)\n\u001b[0;32m----> 2\u001b[0m \u001b[43mbtree_h2\u001b[49m\u001b[38;5;241;43m.\u001b[39;49m\u001b[43mblowup_game\u001b[49m\u001b[43m(\u001b[49m\u001b[43m)\u001b[49m\n",
      "File \u001b[0;32m~/relu-network-singularity/blowup_tree.py:103\u001b[0m, in \u001b[0;36mBlowupTree.blowup_game\u001b[0;34m(self)\u001b[0m\n\u001b[1;32m    101\u001b[0m \u001b[38;5;28;01mdef\u001b[39;00m \u001b[38;5;21mblowup_game\u001b[39m(\u001b[38;5;28mself\u001b[39m):\n\u001b[1;32m    102\u001b[0m     \u001b[38;5;28;01mwhile\u001b[39;00m \u001b[38;5;28mself\u001b[39m\u001b[38;5;241m.\u001b[39mtask_stack:\n\u001b[0;32m--> 103\u001b[0m         \u001b[38;5;28;43mself\u001b[39;49m\u001b[38;5;241;43m.\u001b[39;49m\u001b[43mnext_blowup\u001b[49m\u001b[43m(\u001b[49m\u001b[43m)\u001b[49m\n\u001b[1;32m    104\u001b[0m     \u001b[38;5;28mprint\u001b[39m(\u001b[38;5;124m\"\u001b[39m\u001b[38;5;124mTasks stack is empty!\u001b[39m\u001b[38;5;124m\"\u001b[39m)\n\u001b[1;32m    105\u001b[0m     \u001b[38;5;28;01mreturn\u001b[39;00m\n",
      "File \u001b[0;32m~/relu-network-singularity/blowup_tree.py:47\u001b[0m, in \u001b[0;36mBlowupTree.next_blowup\u001b[0;34m(self, blowup_coord_indices)\u001b[0m\n\u001b[1;32m     43\u001b[0m     display(Math(latex(expr_old)))\n\u001b[1;32m     45\u001b[0m \u001b[38;5;28;01mif\u001b[39;00m blowup_coord_indices \u001b[38;5;129;01mis\u001b[39;00m \u001b[38;5;28;01mNone\u001b[39;00m:    \n\u001b[1;32m     46\u001b[0m     blowup_coord_indices \u001b[38;5;241m=\u001b[39m [\n\u001b[0;32m---> 47\u001b[0m         \u001b[38;5;28mint\u001b[39m(num) \u001b[38;5;28;01mfor\u001b[39;00m num \u001b[38;5;129;01min\u001b[39;00m \u001b[38;5;28;43minput\u001b[39;49m\u001b[43m(\u001b[49m\u001b[38;5;124;43m\"\u001b[39;49m\u001b[38;5;124;43mEnter coordinate indices: \u001b[39;49m\u001b[38;5;124;43m\"\u001b[39;49m\u001b[43m)\u001b[49m\u001b[38;5;241m.\u001b[39msplit()\n\u001b[1;32m     48\u001b[0m     ]\n\u001b[1;32m     50\u001b[0m \u001b[38;5;28;01mif\u001b[39;00m \u001b[38;5;28mself\u001b[39m\u001b[38;5;241m.\u001b[39mverbose: \n\u001b[1;32m     51\u001b[0m     \u001b[38;5;28mprint\u001b[39m(\u001b[38;5;124mf\u001b[39m\u001b[38;5;124m\"\u001b[39m\u001b[38;5;124mBlowup coords    : \u001b[39m\u001b[38;5;132;01m{\u001b[39;00mblowup_coord_indices\u001b[38;5;132;01m}\u001b[39;00m\u001b[38;5;124m\"\u001b[39m)\n",
      "File \u001b[0;32m~/.local/share/virtualenvs/relu-network-singularity-LBlMk57Q/lib/python3.10/site-packages/ipykernel/kernelbase.py:1175\u001b[0m, in \u001b[0;36mKernel.raw_input\u001b[0;34m(self, prompt)\u001b[0m\n\u001b[1;32m   1171\u001b[0m \u001b[38;5;28;01mif\u001b[39;00m \u001b[38;5;129;01mnot\u001b[39;00m \u001b[38;5;28mself\u001b[39m\u001b[38;5;241m.\u001b[39m_allow_stdin:\n\u001b[1;32m   1172\u001b[0m     \u001b[38;5;28;01mraise\u001b[39;00m StdinNotImplementedError(\n\u001b[1;32m   1173\u001b[0m         \u001b[38;5;124m\"\u001b[39m\u001b[38;5;124mraw_input was called, but this frontend does not support input requests.\u001b[39m\u001b[38;5;124m\"\u001b[39m\n\u001b[1;32m   1174\u001b[0m     )\n\u001b[0;32m-> 1175\u001b[0m \u001b[38;5;28;01mreturn\u001b[39;00m \u001b[38;5;28;43mself\u001b[39;49m\u001b[38;5;241;43m.\u001b[39;49m\u001b[43m_input_request\u001b[49m\u001b[43m(\u001b[49m\n\u001b[1;32m   1176\u001b[0m \u001b[43m    \u001b[49m\u001b[38;5;28;43mstr\u001b[39;49m\u001b[43m(\u001b[49m\u001b[43mprompt\u001b[49m\u001b[43m)\u001b[49m\u001b[43m,\u001b[49m\n\u001b[1;32m   1177\u001b[0m \u001b[43m    \u001b[49m\u001b[38;5;28;43mself\u001b[39;49m\u001b[38;5;241;43m.\u001b[39;49m\u001b[43m_parent_ident\u001b[49m\u001b[43m[\u001b[49m\u001b[38;5;124;43m\"\u001b[39;49m\u001b[38;5;124;43mshell\u001b[39;49m\u001b[38;5;124;43m\"\u001b[39;49m\u001b[43m]\u001b[49m\u001b[43m,\u001b[49m\n\u001b[1;32m   1178\u001b[0m \u001b[43m    \u001b[49m\u001b[38;5;28;43mself\u001b[39;49m\u001b[38;5;241;43m.\u001b[39;49m\u001b[43mget_parent\u001b[49m\u001b[43m(\u001b[49m\u001b[38;5;124;43m\"\u001b[39;49m\u001b[38;5;124;43mshell\u001b[39;49m\u001b[38;5;124;43m\"\u001b[39;49m\u001b[43m)\u001b[49m\u001b[43m,\u001b[49m\n\u001b[1;32m   1179\u001b[0m \u001b[43m    \u001b[49m\u001b[43mpassword\u001b[49m\u001b[38;5;241;43m=\u001b[39;49m\u001b[38;5;28;43;01mFalse\u001b[39;49;00m\u001b[43m,\u001b[49m\n\u001b[1;32m   1180\u001b[0m \u001b[43m\u001b[49m\u001b[43m)\u001b[49m\n",
      "File \u001b[0;32m~/.local/share/virtualenvs/relu-network-singularity-LBlMk57Q/lib/python3.10/site-packages/ipykernel/kernelbase.py:1217\u001b[0m, in \u001b[0;36mKernel._input_request\u001b[0;34m(self, prompt, ident, parent, password)\u001b[0m\n\u001b[1;32m   1214\u001b[0m             \u001b[38;5;28;01mbreak\u001b[39;00m\n\u001b[1;32m   1215\u001b[0m \u001b[38;5;28;01mexcept\u001b[39;00m \u001b[38;5;167;01mKeyboardInterrupt\u001b[39;00m:\n\u001b[1;32m   1216\u001b[0m     \u001b[38;5;66;03m# re-raise KeyboardInterrupt, to truncate traceback\u001b[39;00m\n\u001b[0;32m-> 1217\u001b[0m     \u001b[38;5;28;01mraise\u001b[39;00m \u001b[38;5;167;01mKeyboardInterrupt\u001b[39;00m(\u001b[38;5;124m\"\u001b[39m\u001b[38;5;124mInterrupted by user\u001b[39m\u001b[38;5;124m\"\u001b[39m) \u001b[38;5;28;01mfrom\u001b[39;00m \u001b[38;5;28mNone\u001b[39m\n\u001b[1;32m   1218\u001b[0m \u001b[38;5;28;01mexcept\u001b[39;00m \u001b[38;5;167;01mException\u001b[39;00m:\n\u001b[1;32m   1219\u001b[0m     \u001b[38;5;28mself\u001b[39m\u001b[38;5;241m.\u001b[39mlog\u001b[38;5;241m.\u001b[39mwarning(\u001b[38;5;124m\"\u001b[39m\u001b[38;5;124mInvalid Message:\u001b[39m\u001b[38;5;124m\"\u001b[39m, exc_info\u001b[38;5;241m=\u001b[39m\u001b[38;5;28;01mTrue\u001b[39;00m)\n",
      "\u001b[0;31mKeyboardInterrupt\u001b[0m: Interrupted by user"
     ]
    }
   ],
   "source": [
    "btree_h2 = BlowupTree(2)\n",
    "btree_h2.blowup_game()"
   ]
  },
  {
   "cell_type": "markdown",
   "id": "88ec6c19",
   "metadata": {},
   "source": [
    "# $h = 3$ case"
   ]
  },
  {
   "cell_type": "code",
   "execution_count": 3,
   "id": "29423dc8",
   "metadata": {},
   "outputs": [
    {
     "name": "stdout",
     "output_type": "stream",
     "text": [
      "\n",
      "---------------\n",
      "Current expression: \n"
     ]
    },
    {
     "data": {
      "text/latex": [
       "$\\displaystyle a_{1} b_{1} + a_{2} b_{2}$"
      ],
      "text/plain": [
       "<IPython.core.display.Math object>"
      ]
     },
     "metadata": {},
     "output_type": "display_data"
    },
    {
     "name": "stdin",
     "output_type": "stream",
     "text": [
      "Enter coordinate indices:  0 2\n"
     ]
    },
    {
     "name": "stdout",
     "output_type": "stream",
     "text": [
      "Blowup coords    : [0, 2]\n"
     ]
    },
    {
     "data": {
      "text/latex": [
       "$\\displaystyle Blowup variables : \\left[ a_{1}, \\  a_{2}\\right]$"
      ],
      "text/plain": [
       "<IPython.core.display.Math object>"
      ]
     },
     "metadata": {},
     "output_type": "display_data"
    },
    {
     "data": {
      "text/latex": [
       "$\\displaystyle a^{(2)}_{2} \\left(a^{(2)}_{1} b^{(2)}_{1} + b^{(2)}_{2}\\right)$"
      ],
      "text/plain": [
       "<IPython.core.display.Math object>"
      ]
     },
     "metadata": {},
     "output_type": "display_data"
    },
    {
     "data": {
      "text/latex": [
       "$\\displaystyle a^{(1)}_{1} \\left(a^{(1)}_{2} b^{(1)}_{2} + b^{(1)}_{1}\\right)$"
      ],
      "text/plain": [
       "<IPython.core.display.Math object>"
      ]
     },
     "metadata": {},
     "output_type": "display_data"
    },
    {
     "name": "stdout",
     "output_type": "stream",
     "text": [
      "\n",
      "---------------\n",
      "Current expression: \n"
     ]
    },
    {
     "data": {
      "text/latex": [
       "$\\displaystyle a^{(1)}_{1} \\left(a^{(1)}_{2} b^{(1)}_{2} + b^{(1)}_{1}\\right)$"
      ],
      "text/plain": [
       "<IPython.core.display.Math object>"
      ]
     },
     "metadata": {},
     "output_type": "display_data"
    },
    {
     "name": "stdin",
     "output_type": "stream",
     "text": [
      "Enter coordinate indices:  1 2\n"
     ]
    },
    {
     "name": "stdout",
     "output_type": "stream",
     "text": [
      "Blowup coords    : [1, 2]\n"
     ]
    },
    {
     "data": {
      "text/latex": [
       "$\\displaystyle Blowup variables : \\left[ b^{(1)}_{1}, \\  a^{(1)}_{2}\\right]$"
      ],
      "text/plain": [
       "<IPython.core.display.Math object>"
      ]
     },
     "metadata": {},
     "output_type": "display_data"
    },
    {
     "data": {
      "text/latex": [
       "$\\displaystyle a^{(12)}_{1} a^{(12)}_{2} \\left(b^{(12)}_{1} + b^{(12)}_{2}\\right)$"
      ],
      "text/plain": [
       "<IPython.core.display.Math object>"
      ]
     },
     "metadata": {},
     "output_type": "display_data"
    },
    {
     "data": {
      "text/latex": [
       "$\\displaystyle a^{(11)}_{1} b^{(11)}_{1} \\left(a^{(11)}_{2} b^{(11)}_{2} + 1\\right)$"
      ],
      "text/plain": [
       "<IPython.core.display.Math object>"
      ]
     },
     "metadata": {},
     "output_type": "display_data"
    },
    {
     "data": {
      "text/latex": [
       "$\\displaystyle RLCTS = \\left[ \\left( a^{(11)}_{1}, \\  2.0\\right), \\  \\left( b^{(11)}_{1}, \\  2.0\\right)\\right]$"
      ],
      "text/plain": [
       "<IPython.core.display.Math object>"
      ]
     },
     "metadata": {},
     "output_type": "display_data"
    },
    {
     "data": {
      "text/latex": [
       "$\\displaystyle (\\lambda, m) = (2.0, 0)$"
      ],
      "text/plain": [
       "<IPython.core.display.Math object>"
      ]
     },
     "metadata": {},
     "output_type": "display_data"
    },
    {
     "name": "stdout",
     "output_type": "stream",
     "text": [
      "\n",
      "---------------\n",
      "Current expression: \n"
     ]
    },
    {
     "data": {
      "text/latex": [
       "$\\displaystyle a^{(12)}_{1} a^{(12)}_{2} \\left(b^{(12)}_{1} + b^{(12)}_{2}\\right)$"
      ],
      "text/plain": [
       "<IPython.core.display.Math object>"
      ]
     },
     "metadata": {},
     "output_type": "display_data"
    },
    {
     "name": "stdin",
     "output_type": "stream",
     "text": [
      "Enter coordinate indices:  1 3\n"
     ]
    },
    {
     "name": "stdout",
     "output_type": "stream",
     "text": [
      "Blowup coords    : [1, 3]\n"
     ]
    },
    {
     "data": {
      "text/latex": [
       "$\\displaystyle Blowup variables : \\left[ b^{(12)}_{1}, \\  b^{(12)}_{2}\\right]$"
      ],
      "text/plain": [
       "<IPython.core.display.Math object>"
      ]
     },
     "metadata": {},
     "output_type": "display_data"
    },
    {
     "data": {
      "text/latex": [
       "$\\displaystyle a^{(122)}_{1} a^{(122)}_{2} b^{(122)}_{2} \\left(b^{(122)}_{1} + 1\\right)$"
      ],
      "text/plain": [
       "<IPython.core.display.Math object>"
      ]
     },
     "metadata": {},
     "output_type": "display_data"
    },
    {
     "data": {
      "text/latex": [
       "$\\displaystyle RLCTS = \\left[ \\left( a^{(122)}_{1}, \\  2.0\\right), \\  \\left( a^{(122)}_{2}, \\  2.0\\right), \\  \\left( b^{(122)}_{2}, \\  2.0\\right)\\right]$"
      ],
      "text/plain": [
       "<IPython.core.display.Math object>"
      ]
     },
     "metadata": {},
     "output_type": "display_data"
    },
    {
     "data": {
      "text/latex": [
       "$\\displaystyle (\\lambda, m) = (2.0, 0)$"
      ],
      "text/plain": [
       "<IPython.core.display.Math object>"
      ]
     },
     "metadata": {},
     "output_type": "display_data"
    },
    {
     "data": {
      "text/latex": [
       "$\\displaystyle a^{(121)}_{1} a^{(121)}_{2} b^{(121)}_{1} \\left(b^{(121)}_{2} + 1\\right)$"
      ],
      "text/plain": [
       "<IPython.core.display.Math object>"
      ]
     },
     "metadata": {},
     "output_type": "display_data"
    },
    {
     "data": {
      "text/latex": [
       "$\\displaystyle RLCTS = \\left[ \\left( a^{(121)}_{1}, \\  2.0\\right), \\  \\left( a^{(121)}_{2}, \\  2.0\\right), \\  \\left( b^{(121)}_{1}, \\  2.0\\right)\\right]$"
      ],
      "text/plain": [
       "<IPython.core.display.Math object>"
      ]
     },
     "metadata": {},
     "output_type": "display_data"
    },
    {
     "data": {
      "text/latex": [
       "$\\displaystyle (\\lambda, m) = (2.0, 0)$"
      ],
      "text/plain": [
       "<IPython.core.display.Math object>"
      ]
     },
     "metadata": {},
     "output_type": "display_data"
    },
    {
     "name": "stdout",
     "output_type": "stream",
     "text": [
      "\n",
      "---------------\n",
      "Current expression: \n"
     ]
    },
    {
     "data": {
      "text/latex": [
       "$\\displaystyle a^{(2)}_{2} \\left(a^{(2)}_{1} b^{(2)}_{1} + b^{(2)}_{2}\\right)$"
      ],
      "text/plain": [
       "<IPython.core.display.Math object>"
      ]
     },
     "metadata": {},
     "output_type": "display_data"
    },
    {
     "name": "stdin",
     "output_type": "stream",
     "text": [
      "Enter coordinate indices:  0 3\n"
     ]
    },
    {
     "name": "stdout",
     "output_type": "stream",
     "text": [
      "Blowup coords    : [0, 3]\n"
     ]
    },
    {
     "data": {
      "text/latex": [
       "$\\displaystyle Blowup variables : \\left[ a^{(2)}_{1}, \\  b^{(2)}_{2}\\right]$"
      ],
      "text/plain": [
       "<IPython.core.display.Math object>"
      ]
     },
     "metadata": {},
     "output_type": "display_data"
    },
    {
     "data": {
      "text/latex": [
       "$\\displaystyle a^{(22)}_{2} b^{(22)}_{2} \\left(a^{(22)}_{1} b^{(22)}_{1} + 1\\right)$"
      ],
      "text/plain": [
       "<IPython.core.display.Math object>"
      ]
     },
     "metadata": {},
     "output_type": "display_data"
    },
    {
     "data": {
      "text/latex": [
       "$\\displaystyle RLCTS = \\left[ \\left( a^{(22)}_{2}, \\  2.0\\right), \\  \\left( b^{(22)}_{2}, \\  2.0\\right)\\right]$"
      ],
      "text/plain": [
       "<IPython.core.display.Math object>"
      ]
     },
     "metadata": {},
     "output_type": "display_data"
    },
    {
     "data": {
      "text/latex": [
       "$\\displaystyle (\\lambda, m) = (2.0, 0)$"
      ],
      "text/plain": [
       "<IPython.core.display.Math object>"
      ]
     },
     "metadata": {},
     "output_type": "display_data"
    },
    {
     "data": {
      "text/latex": [
       "$\\displaystyle a^{(21)}_{1} a^{(21)}_{2} \\left(b^{(21)}_{1} + b^{(21)}_{2}\\right)$"
      ],
      "text/plain": [
       "<IPython.core.display.Math object>"
      ]
     },
     "metadata": {},
     "output_type": "display_data"
    },
    {
     "name": "stdout",
     "output_type": "stream",
     "text": [
      "\n",
      "---------------\n",
      "Current expression: \n"
     ]
    },
    {
     "data": {
      "text/latex": [
       "$\\displaystyle a^{(21)}_{1} a^{(21)}_{2} \\left(b^{(21)}_{1} + b^{(21)}_{2}\\right)$"
      ],
      "text/plain": [
       "<IPython.core.display.Math object>"
      ]
     },
     "metadata": {},
     "output_type": "display_data"
    },
    {
     "name": "stdin",
     "output_type": "stream",
     "text": [
      "Enter coordinate indices:  1 3\n"
     ]
    },
    {
     "name": "stdout",
     "output_type": "stream",
     "text": [
      "Blowup coords    : [1, 3]\n"
     ]
    },
    {
     "data": {
      "text/latex": [
       "$\\displaystyle Blowup variables : \\left[ b^{(21)}_{1}, \\  b^{(21)}_{2}\\right]$"
      ],
      "text/plain": [
       "<IPython.core.display.Math object>"
      ]
     },
     "metadata": {},
     "output_type": "display_data"
    },
    {
     "data": {
      "text/latex": [
       "$\\displaystyle a^{(212)}_{1} a^{(212)}_{2} b^{(212)}_{2} \\left(b^{(212)}_{1} + 1\\right)$"
      ],
      "text/plain": [
       "<IPython.core.display.Math object>"
      ]
     },
     "metadata": {},
     "output_type": "display_data"
    },
    {
     "data": {
      "text/latex": [
       "$\\displaystyle RLCTS = \\left[ \\left( a^{(212)}_{1}, \\  2.0\\right), \\  \\left( a^{(212)}_{2}, \\  2.0\\right), \\  \\left( b^{(212)}_{2}, \\  2.0\\right)\\right]$"
      ],
      "text/plain": [
       "<IPython.core.display.Math object>"
      ]
     },
     "metadata": {},
     "output_type": "display_data"
    },
    {
     "data": {
      "text/latex": [
       "$\\displaystyle (\\lambda, m) = (2.0, 0)$"
      ],
      "text/plain": [
       "<IPython.core.display.Math object>"
      ]
     },
     "metadata": {},
     "output_type": "display_data"
    },
    {
     "data": {
      "text/latex": [
       "$\\displaystyle a^{(211)}_{1} a^{(211)}_{2} b^{(211)}_{1} \\left(b^{(211)}_{2} + 1\\right)$"
      ],
      "text/plain": [
       "<IPython.core.display.Math object>"
      ]
     },
     "metadata": {},
     "output_type": "display_data"
    },
    {
     "data": {
      "text/latex": [
       "$\\displaystyle RLCTS = \\left[ \\left( a^{(211)}_{1}, \\  2.0\\right), \\  \\left( a^{(211)}_{2}, \\  2.0\\right), \\  \\left( b^{(211)}_{1}, \\  2.0\\right)\\right]$"
      ],
      "text/plain": [
       "<IPython.core.display.Math object>"
      ]
     },
     "metadata": {},
     "output_type": "display_data"
    },
    {
     "data": {
      "text/latex": [
       "$\\displaystyle (\\lambda, m) = (2.0, 0)$"
      ],
      "text/plain": [
       "<IPython.core.display.Math object>"
      ]
     },
     "metadata": {},
     "output_type": "display_data"
    },
    {
     "name": "stdout",
     "output_type": "stream",
     "text": [
      "Tasks stack is empty!\n"
     ]
    }
   ],
   "source": [
    "btree = BlowupTree(2, verbose=True)\n",
    "btree.blowup_game()"
   ]
  },
  {
   "cell_type": "markdown",
   "id": "c505835a",
   "metadata": {},
   "source": [
    "### Visualise"
   ]
  },
  {
   "cell_type": "code",
   "execution_count": 4,
   "id": "cea86748",
   "metadata": {},
   "outputs": [
    {
     "data": {
      "image/png": "[encoded data removed]",
      "text/plain": [
       "<Figure size 1000x1000 with 1 Axes>"
      ]
     },
     "metadata": {},
     "output_type": "display_data"
    }
   ],
   "source": [
    "T = btree.tree\n",
    "assert nx.is_tree(T)\n",
    "fig, ax = plt.subplots(1,1, figsize=(10, 10))\n",
    "nx.draw(\n",
    "    T, \n",
    "    with_labels=True, \n",
    "#     font_weight=\"bold\", \n",
    "    ax=ax, \n",
    "#     pos=nx.kamada_kawai_layout(T), \n",
    "    pos=nx.planar_layout(T), \n",
    "    node_size=10, \n",
    "    font_size=8,\n",
    ")\n",
    "# list(nx.topological_generations(T))"
   ]
  },
  {
   "cell_type": "markdown",
   "id": "96462a69",
   "metadata": {},
   "source": [
    "## Resolution map, Jacobian Matrix, RLCT"
   ]
  },
  {
   "cell_type": "code",
   "execution_count": 30,
   "id": "c7dadc5e",
   "metadata": {},
   "outputs": [
    {
     "name": "stdout",
     "output_type": "stream",
     "text": [
      "\n",
      "-----------\n",
      "Is leaf. Is normal crossing? True\n"
     ]
    },
    {
     "data": {
      "text/latex": [
       "$\\displaystyle a^{(33)}_{3} b^{(33)}_{3} \\left(a^{(33)}_{1} b^{(33)}_{1} + a^{(33)}_{2} b^{(33)}_{2} + 1\\right)$"
      ],
      "text/plain": [
       "<IPython.core.display.Math object>"
      ]
     },
     "metadata": {},
     "output_type": "display_data"
    },
    {
     "data": {
      "text/latex": [
       "$\\displaystyle \\left(a^{(33)}_{3}\\right)^{2} \\left(b^{(33)}_{3}\\right)^{2}$"
      ],
      "text/plain": [
       "<IPython.core.display.Math object>"
      ]
     },
     "metadata": {},
     "output_type": "display_data"
    },
    {
     "name": "stdout",
     "output_type": "stream",
     "text": [
      "lambda_a_3^(33)\n"
     ]
    },
    {
     "data": {
      "text/latex": [
       "$\\displaystyle \\lambda^{(33)}_{a 3} = 3$"
      ],
      "text/plain": [
       "<IPython.core.display.Math object>"
      ]
     },
     "metadata": {},
     "output_type": "display_data"
    },
    {
     "name": "stdout",
     "output_type": "stream",
     "text": [
      "lambda_b_3^(33)\n"
     ]
    },
    {
     "data": {
      "text/latex": [
       "$\\displaystyle \\lambda^{(33)}_{b 3} = 3$"
      ],
      "text/plain": [
       "<IPython.core.display.Math object>"
      ]
     },
     "metadata": {},
     "output_type": "display_data"
    },
    {
     "data": {
      "text/latex": [
       "$\\displaystyle \\left[\\begin{matrix}1 & 0 & 0 & 0 & 0 & 0\\\\0 & a^{(33)}_{3} b^{(33)}_{3} & 0 & 0 & b^{(33)}_{1} b^{(33)}_{3} & a^{(33)}_{3} b^{(33)}_{1}\\\\0 & 0 & 1 & 0 & 0 & 0\\\\0 & 0 & 0 & a^{(33)}_{3} b^{(33)}_{3} & b^{(33)}_{2} b^{(33)}_{3} & a^{(33)}_{3} b^{(33)}_{2}\\\\0 & 0 & 0 & 0 & 1 & 0\\\\0 & 0 & 0 & 0 & 0 & 1\\end{matrix}\\right]$"
      ],
      "text/plain": [
       "<IPython.core.display.Math object>"
      ]
     },
     "metadata": {},
     "output_type": "display_data"
    },
    {
     "data": {
      "text/latex": [
       "$\\displaystyle a_{1} = a^{(33)}_{1}$"
      ],
      "text/plain": [
       "<IPython.core.display.Math object>"
      ]
     },
     "metadata": {},
     "output_type": "display_data"
    },
    {
     "data": {
      "text/latex": [
       "$\\displaystyle b_{1} = a^{(33)}_{3} b^{(33)}_{1} b^{(33)}_{3}$"
      ],
      "text/plain": [
       "<IPython.core.display.Math object>"
      ]
     },
     "metadata": {},
     "output_type": "display_data"
    },
    {
     "data": {
      "text/latex": [
       "$\\displaystyle a_{2} = a^{(33)}_{2}$"
      ],
      "text/plain": [
       "<IPython.core.display.Math object>"
      ]
     },
     "metadata": {},
     "output_type": "display_data"
    },
    {
     "data": {
      "text/latex": [
       "$\\displaystyle b_{2} = a^{(33)}_{3} b^{(33)}_{2} b^{(33)}_{3}$"
      ],
      "text/plain": [
       "<IPython.core.display.Math object>"
      ]
     },
     "metadata": {},
     "output_type": "display_data"
    },
    {
     "data": {
      "text/latex": [
       "$\\displaystyle a_{3} = a^{(33)}_{3}$"
      ],
      "text/plain": [
       "<IPython.core.display.Math object>"
      ]
     },
     "metadata": {},
     "output_type": "display_data"
    },
    {
     "data": {
      "text/latex": [
       "$\\displaystyle b_{3} = b^{(33)}_{3}$"
      ],
      "text/plain": [
       "<IPython.core.display.Math object>"
      ]
     },
     "metadata": {},
     "output_type": "display_data"
    },
    {
     "data": {
      "text/latex": [
       "$\\displaystyle \\left(a^{(33)}_{3}\\right)^{2} \\left(b^{(33)}_{3}\\right)^{2} \\left(a^{(33)}_{1} b^{(33)}_{1} + a^{(33)}_{2} b^{(33)}_{2} + 1\\right)^{2}$"
      ],
      "text/plain": [
       "<IPython.core.display.Math object>"
      ]
     },
     "metadata": {},
     "output_type": "display_data"
    },
    {
     "name": "stdout",
     "output_type": "stream",
     "text": [
      "\n",
      "-----------\n",
      "Is leaf. Is normal crossing? True\n"
     ]
    },
    {
     "data": {
      "text/latex": [
       "$\\displaystyle a^{(323)}_{3} b^{(323)}_{2} b^{(323)}_{3} \\left(a^{(323)}_{1} b^{(323)}_{1} + a^{(323)}_{2} + 1\\right)$"
      ],
      "text/plain": [
       "<IPython.core.display.Math object>"
      ]
     },
     "metadata": {},
     "output_type": "display_data"
    },
    {
     "data": {
      "text/latex": [
       "$\\displaystyle \\left(a^{(323)}_{3}\\right)^{2} \\left(b^{(323)}_{2}\\right)^{2} \\left(b^{(323)}_{3}\\right)^{2}$"
      ],
      "text/plain": [
       "<IPython.core.display.Math object>"
      ]
     },
     "metadata": {},
     "output_type": "display_data"
    },
    {
     "name": "stdout",
     "output_type": "stream",
     "text": [
      "lambda_a_3^(323)\n"
     ]
    },
    {
     "data": {
      "text/latex": [
       "$\\displaystyle \\lambda^{(323)}_{a 3} = 3$"
      ],
      "text/plain": [
       "<IPython.core.display.Math object>"
      ]
     },
     "metadata": {},
     "output_type": "display_data"
    },
    {
     "name": "stdout",
     "output_type": "stream",
     "text": [
      "lambda_b_2^(323)\n"
     ]
    },
    {
     "data": {
      "text/latex": [
       "$\\displaystyle \\lambda^{(323)}_{b 2} = 3$"
      ],
      "text/plain": [
       "<IPython.core.display.Math object>"
      ]
     },
     "metadata": {},
     "output_type": "display_data"
    },
    {
     "name": "stdout",
     "output_type": "stream",
     "text": [
      "lambda_b_3^(323)\n"
     ]
    },
    {
     "data": {
      "text/latex": [
       "$\\displaystyle \\lambda^{(323)}_{b 3} = 3$"
      ],
      "text/plain": [
       "<IPython.core.display.Math object>"
      ]
     },
     "metadata": {},
     "output_type": "display_data"
    },
    {
     "data": {
      "text/latex": [
       "$\\displaystyle \\left[\\begin{matrix}b^{(323)}_{3} & 0 & 0 & 0 & 0 & a^{(323)}_{1}\\\\0 & a^{(323)}_{3} b^{(323)}_{2} & 0 & a^{(323)}_{3} b^{(323)}_{1} & b^{(323)}_{1} b^{(323)}_{2} & 0\\\\0 & 0 & b^{(323)}_{3} & 0 & 0 & a^{(323)}_{2}\\\\0 & 0 & 0 & a^{(323)}_{3} & b^{(323)}_{2} & 0\\\\0 & 0 & 0 & 0 & 1 & 0\\\\0 & 0 & 0 & b^{(323)}_{3} & 0 & b^{(323)}_{2}\\end{matrix}\\right]$"
      ],
      "text/plain": [
       "<IPython.core.display.Math object>"
      ]
     },
     "metadata": {},
     "output_type": "display_data"
    },
    {
     "data": {
      "text/latex": [
       "$\\displaystyle a_{1} = a^{(323)}_{1} b^{(323)}_{3}$"
      ],
      "text/plain": [
       "<IPython.core.display.Math object>"
      ]
     },
     "metadata": {},
     "output_type": "display_data"
    },
    {
     "data": {
      "text/latex": [
       "$\\displaystyle b_{1} = a^{(323)}_{3} b^{(323)}_{1} b^{(323)}_{2}$"
      ],
      "text/plain": [
       "<IPython.core.display.Math object>"
      ]
     },
     "metadata": {},
     "output_type": "display_data"
    },
    {
     "data": {
      "text/latex": [
       "$\\displaystyle a_{2} = a^{(323)}_{2} b^{(323)}_{3}$"
      ],
      "text/plain": [
       "<IPython.core.display.Math object>"
      ]
     },
     "metadata": {},
     "output_type": "display_data"
    },
    {
     "data": {
      "text/latex": [
       "$\\displaystyle b_{2} = a^{(323)}_{3} b^{(323)}_{2}$"
      ],
      "text/plain": [
       "<IPython.core.display.Math object>"
      ]
     },
     "metadata": {},
     "output_type": "display_data"
    },
    {
     "data": {
      "text/latex": [
       "$\\displaystyle a_{3} = a^{(323)}_{3}$"
      ],
      "text/plain": [
       "<IPython.core.display.Math object>"
      ]
     },
     "metadata": {},
     "output_type": "display_data"
    },
    {
     "data": {
      "text/latex": [
       "$\\displaystyle b_{3} = b^{(323)}_{2} b^{(323)}_{3}$"
      ],
      "text/plain": [
       "<IPython.core.display.Math object>"
      ]
     },
     "metadata": {},
     "output_type": "display_data"
    },
    {
     "data": {
      "text/latex": [
       "$\\displaystyle \\left(a^{(323)}_{3}\\right)^{2} \\left(b^{(323)}_{2}\\right)^{2} \\left(b^{(323)}_{3}\\right)^{2} \\left(a^{(323)}_{1} b^{(323)}_{1} + a^{(323)}_{2} + 1\\right)^{2}$"
      ],
      "text/plain": [
       "<IPython.core.display.Math object>"
      ]
     },
     "metadata": {},
     "output_type": "display_data"
    },
    {
     "name": "stdout",
     "output_type": "stream",
     "text": [
      "\n",
      "-----------\n",
      "Is leaf. Is normal crossing? True\n"
     ]
    },
    {
     "data": {
      "text/latex": [
       "$\\displaystyle a^{(322)}_{2} a^{(322)}_{3} b^{(322)}_{2} \\left(a^{(322)}_{1} b^{(322)}_{1} + b^{(322)}_{3} + 1\\right)$"
      ],
      "text/plain": [
       "<IPython.core.display.Math object>"
      ]
     },
     "metadata": {},
     "output_type": "display_data"
    },
    {
     "data": {
      "text/latex": [
       "$\\displaystyle \\left(a^{(322)}_{2}\\right)^{2} \\left(a^{(322)}_{3}\\right)^{2} \\left(b^{(322)}_{2}\\right)^{2}$"
      ],
      "text/plain": [
       "<IPython.core.display.Math object>"
      ]
     },
     "metadata": {},
     "output_type": "display_data"
    },
    {
     "name": "stdout",
     "output_type": "stream",
     "text": [
      "lambda_a_2^(322)\n"
     ]
    },
    {
     "data": {
      "text/latex": [
       "$\\displaystyle \\lambda^{(322)}_{a 2} = 3$"
      ],
      "text/plain": [
       "<IPython.core.display.Math object>"
      ]
     },
     "metadata": {},
     "output_type": "display_data"
    },
    {
     "name": "stdout",
     "output_type": "stream",
     "text": [
      "lambda_a_3^(322)\n"
     ]
    },
    {
     "data": {
      "text/latex": [
       "$\\displaystyle \\lambda^{(322)}_{a 3} = 3$"
      ],
      "text/plain": [
       "<IPython.core.display.Math object>"
      ]
     },
     "metadata": {},
     "output_type": "display_data"
    },
    {
     "name": "stdout",
     "output_type": "stream",
     "text": [
      "lambda_b_2^(322)\n"
     ]
    },
    {
     "data": {
      "text/latex": [
       "$\\displaystyle \\lambda^{(322)}_{b 2} = 3$"
      ],
      "text/plain": [
       "<IPython.core.display.Math object>"
      ]
     },
     "metadata": {},
     "output_type": "display_data"
    },
    {
     "data": {
      "text/latex": [
       "$\\displaystyle \\left[\\begin{matrix}a^{(322)}_{2} & 0 & a^{(322)}_{1} & 0 & 0 & 0\\\\0 & a^{(322)}_{3} b^{(322)}_{2} & 0 & a^{(322)}_{3} b^{(322)}_{1} & b^{(322)}_{1} b^{(322)}_{2} & 0\\\\0 & 0 & 1 & 0 & 0 & 0\\\\0 & 0 & 0 & a^{(322)}_{3} & b^{(322)}_{2} & 0\\\\0 & 0 & 0 & 0 & 1 & 0\\\\0 & 0 & b^{(322)}_{2} b^{(322)}_{3} & a^{(322)}_{2} b^{(322)}_{3} & 0 & a^{(322)}_{2} b^{(322)}_{2}\\end{matrix}\\right]$"
      ],
      "text/plain": [
       "<IPython.core.display.Math object>"
      ]
     },
     "metadata": {},
     "output_type": "display_data"
    },
    {
     "data": {
      "text/latex": [
       "$\\displaystyle a_{1} = a^{(322)}_{1} a^{(322)}_{2}$"
      ],
      "text/plain": [
       "<IPython.core.display.Math object>"
      ]
     },
     "metadata": {},
     "output_type": "display_data"
    },
    {
     "data": {
      "text/latex": [
       "$\\displaystyle b_{1} = a^{(322)}_{3} b^{(322)}_{1} b^{(322)}_{2}$"
      ],
      "text/plain": [
       "<IPython.core.display.Math object>"
      ]
     },
     "metadata": {},
     "output_type": "display_data"
    },
    {
     "data": {
      "text/latex": [
       "$\\displaystyle a_{2} = a^{(322)}_{2}$"
      ],
      "text/plain": [
       "<IPython.core.display.Math object>"
      ]
     },
     "metadata": {},
     "output_type": "display_data"
    },
    {
     "data": {
      "text/latex": [
       "$\\displaystyle b_{2} = a^{(322)}_{3} b^{(322)}_{2}$"
      ],
      "text/plain": [
       "<IPython.core.display.Math object>"
      ]
     },
     "metadata": {},
     "output_type": "display_data"
    },
    {
     "data": {
      "text/latex": [
       "$\\displaystyle a_{3} = a^{(322)}_{3}$"
      ],
      "text/plain": [
       "<IPython.core.display.Math object>"
      ]
     },
     "metadata": {},
     "output_type": "display_data"
    },
    {
     "data": {
      "text/latex": [
       "$\\displaystyle b_{3} = a^{(322)}_{2} b^{(322)}_{2} b^{(322)}_{3}$"
      ],
      "text/plain": [
       "<IPython.core.display.Math object>"
      ]
     },
     "metadata": {},
     "output_type": "display_data"
    },
    {
     "data": {
      "text/latex": [
       "$\\displaystyle \\left(a^{(322)}_{2}\\right)^{2} \\left(a^{(322)}_{3}\\right)^{2} \\left(b^{(322)}_{2}\\right)^{2} \\left(a^{(322)}_{1} b^{(322)}_{1} + b^{(322)}_{3} + 1\\right)^{2}$"
      ],
      "text/plain": [
       "<IPython.core.display.Math object>"
      ]
     },
     "metadata": {},
     "output_type": "display_data"
    },
    {
     "name": "stdout",
     "output_type": "stream",
     "text": [
      "\n",
      "-----------\n",
      "Is leaf. Is normal crossing? True\n"
     ]
    },
    {
     "data": {
      "text/latex": [
       "$\\displaystyle a^{(3213)}_{1} a^{(3213)}_{3} b^{(3213)}_{2} b^{(3213)}_{3} \\left(a^{(3213)}_{2} + b^{(3213)}_{1} + 1\\right)$"
      ],
      "text/plain": [
       "<IPython.core.display.Math object>"
      ]
     },
     "metadata": {},
     "output_type": "display_data"
    },
    {
     "data": {
      "text/latex": [
       "$\\displaystyle \\left(a^{(3213)}_{1}\\right)^{2} \\left(a^{(3213)}_{3}\\right)^{2} \\left(b^{(3213)}_{2}\\right)^{2} \\left(b^{(3213)}_{3}\\right)^{2}$"
      ],
      "text/plain": [
       "<IPython.core.display.Math object>"
      ]
     },
     "metadata": {},
     "output_type": "display_data"
    },
    {
     "name": "stdout",
     "output_type": "stream",
     "text": [
      "lambda_a_1^(3213)\n"
     ]
    },
    {
     "data": {
      "text/latex": [
       "$\\displaystyle \\lambda^{(3213)}_{a 1} = 3$"
      ],
      "text/plain": [
       "<IPython.core.display.Math object>"
      ]
     },
     "metadata": {},
     "output_type": "display_data"
    },
    {
     "name": "stdout",
     "output_type": "stream",
     "text": [
      "lambda_a_3^(3213)\n"
     ]
    },
    {
     "data": {
      "text/latex": [
       "$\\displaystyle \\lambda^{(3213)}_{a 3} = 3$"
      ],
      "text/plain": [
       "<IPython.core.display.Math object>"
      ]
     },
     "metadata": {},
     "output_type": "display_data"
    },
    {
     "name": "stdout",
     "output_type": "stream",
     "text": [
      "lambda_b_2^(3213)\n"
     ]
    },
    {
     "data": {
      "text/latex": [
       "$\\displaystyle \\lambda^{(3213)}_{b 2} = 3$"
      ],
      "text/plain": [
       "<IPython.core.display.Math object>"
      ]
     },
     "metadata": {},
     "output_type": "display_data"
    },
    {
     "name": "stdout",
     "output_type": "stream",
     "text": [
      "lambda_b_3^(3213)\n"
     ]
    },
    {
     "data": {
      "text/latex": [
       "$\\displaystyle \\lambda^{(3213)}_{b 3} = 3$"
      ],
      "text/plain": [
       "<IPython.core.display.Math object>"
      ]
     },
     "metadata": {},
     "output_type": "display_data"
    },
    {
     "data": {
      "text/latex": [
       "$\\displaystyle \\left[\\begin{matrix}1 & 0 & 0 & 0 & 0 & 0\\\\0 & a^{(3213)}_{3} b^{(3213)}_{2} b^{(3213)}_{3} & 0 & a^{(3213)}_{3} b^{(3213)}_{1} b^{(3213)}_{3} & b^{(3213)}_{1} b^{(3213)}_{2} b^{(3213)}_{3} & a^{(3213)}_{3} b^{(3213)}_{1} b^{(3213)}_{2}\\\\a^{(3213)}_{2} b^{(3213)}_{3} & 0 & a^{(3213)}_{1} b^{(3213)}_{3} & 0 & 0 & a^{(3213)}_{1} a^{(3213)}_{2}\\\\0 & 0 & 0 & a^{(3213)}_{3} & b^{(3213)}_{2} & 0\\\\0 & 0 & 0 & 0 & 1 & 0\\\\b^{(3213)}_{2} b^{(3213)}_{3} & 0 & 0 & a^{(3213)}_{1} b^{(3213)}_{3} & 0 & a^{(3213)}_{1} b^{(3213)}_{2}\\end{matrix}\\right]$"
      ],
      "text/plain": [
       "<IPython.core.display.Math object>"
      ]
     },
     "metadata": {},
     "output_type": "display_data"
    },
    {
     "data": {
      "text/latex": [
       "$\\displaystyle a_{1} = a^{(3213)}_{1}$"
      ],
      "text/plain": [
       "<IPython.core.display.Math object>"
      ]
     },
     "metadata": {},
     "output_type": "display_data"
    },
    {
     "data": {
      "text/latex": [
       "$\\displaystyle b_{1} = a^{(3213)}_{3} b^{(3213)}_{1} b^{(3213)}_{2} b^{(3213)}_{3}$"
      ],
      "text/plain": [
       "<IPython.core.display.Math object>"
      ]
     },
     "metadata": {},
     "output_type": "display_data"
    },
    {
     "data": {
      "text/latex": [
       "$\\displaystyle a_{2} = a^{(3213)}_{1} a^{(3213)}_{2} b^{(3213)}_{3}$"
      ],
      "text/plain": [
       "<IPython.core.display.Math object>"
      ]
     },
     "metadata": {},
     "output_type": "display_data"
    },
    {
     "data": {
      "text/latex": [
       "$\\displaystyle b_{2} = a^{(3213)}_{3} b^{(3213)}_{2}$"
      ],
      "text/plain": [
       "<IPython.core.display.Math object>"
      ]
     },
     "metadata": {},
     "output_type": "display_data"
    },
    {
     "data": {
      "text/latex": [
       "$\\displaystyle a_{3} = a^{(3213)}_{3}$"
      ],
      "text/plain": [
       "<IPython.core.display.Math object>"
      ]
     },
     "metadata": {},
     "output_type": "display_data"
    },
    {
     "data": {
      "text/latex": [
       "$\\displaystyle b_{3} = a^{(3213)}_{1} b^{(3213)}_{2} b^{(3213)}_{3}$"
      ],
      "text/plain": [
       "<IPython.core.display.Math object>"
      ]
     },
     "metadata": {},
     "output_type": "display_data"
    },
    {
     "data": {
      "text/latex": [
       "$\\displaystyle \\left(a^{(3213)}_{1}\\right)^{2} \\left(a^{(3213)}_{3}\\right)^{2} \\left(b^{(3213)}_{2}\\right)^{2} \\left(b^{(3213)}_{3}\\right)^{2} \\left(a^{(3213)}_{2} + b^{(3213)}_{1} + 1\\right)^{2}$"
      ],
      "text/plain": [
       "<IPython.core.display.Math object>"
      ]
     },
     "metadata": {},
     "output_type": "display_data"
    },
    {
     "name": "stdout",
     "output_type": "stream",
     "text": [
      "\n",
      "-----------\n",
      "Is leaf. Is normal crossing? True\n"
     ]
    },
    {
     "data": {
      "text/latex": [
       "$\\displaystyle a^{(3212)}_{1} a^{(3212)}_{2} a^{(3212)}_{3} b^{(3212)}_{2} \\left(b^{(3212)}_{1} + b^{(3212)}_{3} + 1\\right)$"
      ],
      "text/plain": [
       "<IPython.core.display.Math object>"
      ]
     },
     "metadata": {},
     "output_type": "display_data"
    },
    {
     "data": {
      "text/latex": [
       "$\\displaystyle \\left(a^{(3212)}_{1}\\right)^{2} \\left(a^{(3212)}_{2}\\right)^{2} \\left(a^{(3212)}_{3}\\right)^{2} \\left(b^{(3212)}_{2}\\right)^{2}$"
      ],
      "text/plain": [
       "<IPython.core.display.Math object>"
      ]
     },
     "metadata": {},
     "output_type": "display_data"
    },
    {
     "name": "stdout",
     "output_type": "stream",
     "text": [
      "lambda_a_1^(3212)\n"
     ]
    },
    {
     "data": {
      "text/latex": [
       "$\\displaystyle \\lambda^{(3212)}_{a 1} = 3$"
      ],
      "text/plain": [
       "<IPython.core.display.Math object>"
      ]
     },
     "metadata": {},
     "output_type": "display_data"
    },
    {
     "name": "stdout",
     "output_type": "stream",
     "text": [
      "lambda_a_2^(3212)\n"
     ]
    },
    {
     "data": {
      "text/latex": [
       "$\\displaystyle \\lambda^{(3212)}_{a 2} = 3$"
      ],
      "text/plain": [
       "<IPython.core.display.Math object>"
      ]
     },
     "metadata": {},
     "output_type": "display_data"
    },
    {
     "name": "stdout",
     "output_type": "stream",
     "text": [
      "lambda_a_3^(3212)\n"
     ]
    },
    {
     "data": {
      "text/latex": [
       "$\\displaystyle \\lambda^{(3212)}_{a 3} = 3$"
      ],
      "text/plain": [
       "<IPython.core.display.Math object>"
      ]
     },
     "metadata": {},
     "output_type": "display_data"
    },
    {
     "name": "stdout",
     "output_type": "stream",
     "text": [
      "lambda_b_2^(3212)\n"
     ]
    },
    {
     "data": {
      "text/latex": [
       "$\\displaystyle \\lambda^{(3212)}_{b 2} = 3$"
      ],
      "text/plain": [
       "<IPython.core.display.Math object>"
      ]
     },
     "metadata": {},
     "output_type": "display_data"
    },
    {
     "data": {
      "text/latex": [
       "$\\displaystyle \\left[\\begin{matrix}1 & 0 & 0 & 0 & 0 & 0\\\\0 & a^{(3212)}_{2} a^{(3212)}_{3} b^{(3212)}_{2} & a^{(3212)}_{3} b^{(3212)}_{1} b^{(3212)}_{2} & a^{(3212)}_{2} a^{(3212)}_{3} b^{(3212)}_{1} & a^{(3212)}_{2} b^{(3212)}_{1} b^{(3212)}_{2} & 0\\\\a^{(3212)}_{2} & 0 & a^{(3212)}_{1} & 0 & 0 & 0\\\\0 & 0 & 0 & a^{(3212)}_{3} & b^{(3212)}_{2} & 0\\\\0 & 0 & 0 & 0 & 1 & 0\\\\a^{(3212)}_{2} b^{(3212)}_{2} b^{(3212)}_{3} & 0 & a^{(3212)}_{1} b^{(3212)}_{2} b^{(3212)}_{3} & a^{(3212)}_{1} a^{(3212)}_{2} b^{(3212)}_{3} & 0 & a^{(3212)}_{1} a^{(3212)}_{2} b^{(3212)}_{2}\\end{matrix}\\right]$"
      ],
      "text/plain": [
       "<IPython.core.display.Math object>"
      ]
     },
     "metadata": {},
     "output_type": "display_data"
    },
    {
     "data": {
      "text/latex": [
       "$\\displaystyle a_{1} = a^{(3212)}_{1}$"
      ],
      "text/plain": [
       "<IPython.core.display.Math object>"
      ]
     },
     "metadata": {},
     "output_type": "display_data"
    },
    {
     "data": {
      "text/latex": [
       "$\\displaystyle b_{1} = a^{(3212)}_{2} a^{(3212)}_{3} b^{(3212)}_{1} b^{(3212)}_{2}$"
      ],
      "text/plain": [
       "<IPython.core.display.Math object>"
      ]
     },
     "metadata": {},
     "output_type": "display_data"
    },
    {
     "data": {
      "text/latex": [
       "$\\displaystyle a_{2} = a^{(3212)}_{1} a^{(3212)}_{2}$"
      ],
      "text/plain": [
       "<IPython.core.display.Math object>"
      ]
     },
     "metadata": {},
     "output_type": "display_data"
    },
    {
     "data": {
      "text/latex": [
       "$\\displaystyle b_{2} = a^{(3212)}_{3} b^{(3212)}_{2}$"
      ],
      "text/plain": [
       "<IPython.core.display.Math object>"
      ]
     },
     "metadata": {},
     "output_type": "display_data"
    },
    {
     "data": {
      "text/latex": [
       "$\\displaystyle a_{3} = a^{(3212)}_{3}$"
      ],
      "text/plain": [
       "<IPython.core.display.Math object>"
      ]
     },
     "metadata": {},
     "output_type": "display_data"
    },
    {
     "data": {
      "text/latex": [
       "$\\displaystyle b_{3} = a^{(3212)}_{1} a^{(3212)}_{2} b^{(3212)}_{2} b^{(3212)}_{3}$"
      ],
      "text/plain": [
       "<IPython.core.display.Math object>"
      ]
     },
     "metadata": {},
     "output_type": "display_data"
    },
    {
     "data": {
      "text/latex": [
       "$\\displaystyle \\left(a^{(3212)}_{1}\\right)^{2} \\left(a^{(3212)}_{2}\\right)^{2} \\left(a^{(3212)}_{3}\\right)^{2} \\left(b^{(3212)}_{2}\\right)^{2} \\left(b^{(3212)}_{1} + b^{(3212)}_{3} + 1\\right)^{2}$"
      ],
      "text/plain": [
       "<IPython.core.display.Math object>"
      ]
     },
     "metadata": {},
     "output_type": "display_data"
    },
    {
     "name": "stdout",
     "output_type": "stream",
     "text": [
      "\n",
      "-----------\n",
      "Is leaf. Is normal crossing? True\n"
     ]
    },
    {
     "data": {
      "text/latex": [
       "$\\displaystyle a^{(3211)}_{1} a^{(3211)}_{3} b^{(3211)}_{1} b^{(3211)}_{2} \\left(a^{(3211)}_{2} + b^{(3211)}_{3} + 1\\right)$"
      ],
      "text/plain": [
       "<IPython.core.display.Math object>"
      ]
     },
     "metadata": {},
     "output_type": "display_data"
    },
    {
     "data": {
      "text/latex": [
       "$\\displaystyle \\left(a^{(3211)}_{1}\\right)^{2} \\left(a^{(3211)}_{3}\\right)^{2} \\left(b^{(3211)}_{1}\\right)^{2} \\left(b^{(3211)}_{2}\\right)^{2}$"
      ],
      "text/plain": [
       "<IPython.core.display.Math object>"
      ]
     },
     "metadata": {},
     "output_type": "display_data"
    },
    {
     "name": "stdout",
     "output_type": "stream",
     "text": [
      "lambda_a_1^(3211)\n"
     ]
    },
    {
     "data": {
      "text/latex": [
       "$\\displaystyle \\lambda^{(3211)}_{a 1} = 3$"
      ],
      "text/plain": [
       "<IPython.core.display.Math object>"
      ]
     },
     "metadata": {},
     "output_type": "display_data"
    },
    {
     "name": "stdout",
     "output_type": "stream",
     "text": [
      "lambda_a_3^(3211)\n"
     ]
    },
    {
     "data": {
      "text/latex": [
       "$\\displaystyle \\lambda^{(3211)}_{a 3} = 3$"
      ],
      "text/plain": [
       "<IPython.core.display.Math object>"
      ]
     },
     "metadata": {},
     "output_type": "display_data"
    },
    {
     "name": "stdout",
     "output_type": "stream",
     "text": [
      "lambda_b_1^(3211)\n"
     ]
    },
    {
     "data": {
      "text/latex": [
       "$\\displaystyle \\lambda^{(3211)}_{b 1} = 3$"
      ],
      "text/plain": [
       "<IPython.core.display.Math object>"
      ]
     },
     "metadata": {},
     "output_type": "display_data"
    },
    {
     "name": "stdout",
     "output_type": "stream",
     "text": [
      "lambda_b_2^(3211)\n"
     ]
    },
    {
     "data": {
      "text/latex": [
       "$\\displaystyle \\lambda^{(3211)}_{b 2} = 3$"
      ],
      "text/plain": [
       "<IPython.core.display.Math object>"
      ]
     },
     "metadata": {},
     "output_type": "display_data"
    },
    {
     "data": {
      "text/latex": [
       "$\\displaystyle \\left[\\begin{matrix}1 & 0 & 0 & 0 & 0 & 0\\\\0 & a^{(3211)}_{3} b^{(3211)}_{2} & 0 & a^{(3211)}_{3} b^{(3211)}_{1} & b^{(3211)}_{1} b^{(3211)}_{2} & 0\\\\a^{(3211)}_{2} b^{(3211)}_{1} & a^{(3211)}_{1} a^{(3211)}_{2} & a^{(3211)}_{1} b^{(3211)}_{1} & 0 & 0 & 0\\\\0 & 0 & 0 & a^{(3211)}_{3} & b^{(3211)}_{2} & 0\\\\0 & 0 & 0 & 0 & 1 & 0\\\\b^{(3211)}_{1} b^{(3211)}_{2} b^{(3211)}_{3} & a^{(3211)}_{1} b^{(3211)}_{2} b^{(3211)}_{3} & 0 & a^{(3211)}_{1} b^{(3211)}_{1} b^{(3211)}_{3} & 0 & a^{(3211)}_{1} b^{(3211)}_{1} b^{(3211)}_{2}\\end{matrix}\\right]$"
      ],
      "text/plain": [
       "<IPython.core.display.Math object>"
      ]
     },
     "metadata": {},
     "output_type": "display_data"
    },
    {
     "data": {
      "text/latex": [
       "$\\displaystyle a_{1} = a^{(3211)}_{1}$"
      ],
      "text/plain": [
       "<IPython.core.display.Math object>"
      ]
     },
     "metadata": {},
     "output_type": "display_data"
    },
    {
     "data": {
      "text/latex": [
       "$\\displaystyle b_{1} = a^{(3211)}_{3} b^{(3211)}_{1} b^{(3211)}_{2}$"
      ],
      "text/plain": [
       "<IPython.core.display.Math object>"
      ]
     },
     "metadata": {},
     "output_type": "display_data"
    },
    {
     "data": {
      "text/latex": [
       "$\\displaystyle a_{2} = a^{(3211)}_{1} a^{(3211)}_{2} b^{(3211)}_{1}$"
      ],
      "text/plain": [
       "<IPython.core.display.Math object>"
      ]
     },
     "metadata": {},
     "output_type": "display_data"
    },
    {
     "data": {
      "text/latex": [
       "$\\displaystyle b_{2} = a^{(3211)}_{3} b^{(3211)}_{2}$"
      ],
      "text/plain": [
       "<IPython.core.display.Math object>"
      ]
     },
     "metadata": {},
     "output_type": "display_data"
    },
    {
     "data": {
      "text/latex": [
       "$\\displaystyle a_{3} = a^{(3211)}_{3}$"
      ],
      "text/plain": [
       "<IPython.core.display.Math object>"
      ]
     },
     "metadata": {},
     "output_type": "display_data"
    },
    {
     "data": {
      "text/latex": [
       "$\\displaystyle b_{3} = a^{(3211)}_{1} b^{(3211)}_{1} b^{(3211)}_{2} b^{(3211)}_{3}$"
      ],
      "text/plain": [
       "<IPython.core.display.Math object>"
      ]
     },
     "metadata": {},
     "output_type": "display_data"
    },
    {
     "data": {
      "text/latex": [
       "$\\displaystyle \\left(a^{(3211)}_{1}\\right)^{2} \\left(a^{(3211)}_{3}\\right)^{2} \\left(b^{(3211)}_{1}\\right)^{2} \\left(b^{(3211)}_{2}\\right)^{2} \\left(a^{(3211)}_{2} + b^{(3211)}_{3} + 1\\right)^{2}$"
      ],
      "text/plain": [
       "<IPython.core.display.Math object>"
      ]
     },
     "metadata": {},
     "output_type": "display_data"
    },
    {
     "name": "stdout",
     "output_type": "stream",
     "text": [
      "\n",
      "-----------\n",
      "Is leaf. Is normal crossing? True\n"
     ]
    },
    {
     "data": {
      "text/latex": [
       "$\\displaystyle a^{(313)}_{3} b^{(313)}_{1} b^{(313)}_{3} \\left(a^{(313)}_{1} + a^{(313)}_{2} b^{(313)}_{2} + 1\\right)$"
      ],
      "text/plain": [
       "<IPython.core.display.Math object>"
      ]
     },
     "metadata": {},
     "output_type": "display_data"
    },
    {
     "data": {
      "text/latex": [
       "$\\displaystyle \\left(a^{(313)}_{3}\\right)^{2} \\left(b^{(313)}_{1}\\right)^{2} \\left(b^{(313)}_{3}\\right)^{2}$"
      ],
      "text/plain": [
       "<IPython.core.display.Math object>"
      ]
     },
     "metadata": {},
     "output_type": "display_data"
    },
    {
     "name": "stdout",
     "output_type": "stream",
     "text": [
      "lambda_a_3^(313)\n"
     ]
    },
    {
     "data": {
      "text/latex": [
       "$\\displaystyle \\lambda^{(313)}_{a 3} = 3$"
      ],
      "text/plain": [
       "<IPython.core.display.Math object>"
      ]
     },
     "metadata": {},
     "output_type": "display_data"
    },
    {
     "name": "stdout",
     "output_type": "stream",
     "text": [
      "lambda_b_1^(313)\n"
     ]
    },
    {
     "data": {
      "text/latex": [
       "$\\displaystyle \\lambda^{(313)}_{b 1} = 3$"
      ],
      "text/plain": [
       "<IPython.core.display.Math object>"
      ]
     },
     "metadata": {},
     "output_type": "display_data"
    },
    {
     "name": "stdout",
     "output_type": "stream",
     "text": [
      "lambda_b_3^(313)\n"
     ]
    },
    {
     "data": {
      "text/latex": [
       "$\\displaystyle \\lambda^{(313)}_{b 3} = 3$"
      ],
      "text/plain": [
       "<IPython.core.display.Math object>"
      ]
     },
     "metadata": {},
     "output_type": "display_data"
    },
    {
     "data": {
      "text/latex": [
       "$\\displaystyle \\left[\\begin{matrix}b^{(313)}_{3} & 0 & 0 & 0 & 0 & a^{(313)}_{1}\\\\0 & a^{(313)}_{3} & 0 & 0 & b^{(313)}_{1} & 0\\\\0 & 0 & b^{(313)}_{3} & 0 & 0 & a^{(313)}_{2}\\\\0 & a^{(313)}_{3} b^{(313)}_{2} & 0 & a^{(313)}_{3} b^{(313)}_{1} & b^{(313)}_{1} b^{(313)}_{2} & 0\\\\0 & 0 & 0 & 0 & 1 & 0\\\\0 & b^{(313)}_{3} & 0 & 0 & 0 & b^{(313)}_{1}\\end{matrix}\\right]$"
      ],
      "text/plain": [
       "<IPython.core.display.Math object>"
      ]
     },
     "metadata": {},
     "output_type": "display_data"
    },
    {
     "data": {
      "text/latex": [
       "$\\displaystyle a_{1} = a^{(313)}_{1} b^{(313)}_{3}$"
      ],
      "text/plain": [
       "<IPython.core.display.Math object>"
      ]
     },
     "metadata": {},
     "output_type": "display_data"
    },
    {
     "data": {
      "text/latex": [
       "$\\displaystyle b_{1} = a^{(313)}_{3} b^{(313)}_{1}$"
      ],
      "text/plain": [
       "<IPython.core.display.Math object>"
      ]
     },
     "metadata": {},
     "output_type": "display_data"
    },
    {
     "data": {
      "text/latex": [
       "$\\displaystyle a_{2} = a^{(313)}_{2} b^{(313)}_{3}$"
      ],
      "text/plain": [
       "<IPython.core.display.Math object>"
      ]
     },
     "metadata": {},
     "output_type": "display_data"
    },
    {
     "data": {
      "text/latex": [
       "$\\displaystyle b_{2} = a^{(313)}_{3} b^{(313)}_{1} b^{(313)}_{2}$"
      ],
      "text/plain": [
       "<IPython.core.display.Math object>"
      ]
     },
     "metadata": {},
     "output_type": "display_data"
    },
    {
     "data": {
      "text/latex": [
       "$\\displaystyle a_{3} = a^{(313)}_{3}$"
      ],
      "text/plain": [
       "<IPython.core.display.Math object>"
      ]
     },
     "metadata": {},
     "output_type": "display_data"
    },
    {
     "data": {
      "text/latex": [
       "$\\displaystyle b_{3} = b^{(313)}_{1} b^{(313)}_{3}$"
      ],
      "text/plain": [
       "<IPython.core.display.Math object>"
      ]
     },
     "metadata": {},
     "output_type": "display_data"
    },
    {
     "data": {
      "text/latex": [
       "$\\displaystyle \\left(a^{(313)}_{3}\\right)^{2} \\left(b^{(313)}_{1}\\right)^{2} \\left(b^{(313)}_{3}\\right)^{2} \\left(a^{(313)}_{1} + a^{(313)}_{2} b^{(313)}_{2} + 1\\right)^{2}$"
      ],
      "text/plain": [
       "<IPython.core.display.Math object>"
      ]
     },
     "metadata": {},
     "output_type": "display_data"
    },
    {
     "name": "stdout",
     "output_type": "stream",
     "text": [
      "\n",
      "-----------\n",
      "Is leaf. Is normal crossing? True\n"
     ]
    },
    {
     "data": {
      "text/latex": [
       "$\\displaystyle a^{(3123)}_{2} a^{(3123)}_{3} b^{(3123)}_{1} b^{(3123)}_{3} \\left(a^{(3123)}_{1} + b^{(3123)}_{2} + 1\\right)$"
      ],
      "text/plain": [
       "<IPython.core.display.Math object>"
      ]
     },
     "metadata": {},
     "output_type": "display_data"
    },
    {
     "data": {
      "text/latex": [
       "$\\displaystyle \\left(a^{(3123)}_{2}\\right)^{2} \\left(a^{(3123)}_{3}\\right)^{2} \\left(b^{(3123)}_{1}\\right)^{2} \\left(b^{(3123)}_{3}\\right)^{2}$"
      ],
      "text/plain": [
       "<IPython.core.display.Math object>"
      ]
     },
     "metadata": {},
     "output_type": "display_data"
    },
    {
     "name": "stdout",
     "output_type": "stream",
     "text": [
      "lambda_a_2^(3123)\n"
     ]
    },
    {
     "data": {
      "text/latex": [
       "$\\displaystyle \\lambda^{(3123)}_{a 2} = 3$"
      ],
      "text/plain": [
       "<IPython.core.display.Math object>"
      ]
     },
     "metadata": {},
     "output_type": "display_data"
    },
    {
     "name": "stdout",
     "output_type": "stream",
     "text": [
      "lambda_a_3^(3123)\n"
     ]
    },
    {
     "data": {
      "text/latex": [
       "$\\displaystyle \\lambda^{(3123)}_{a 3} = 3$"
      ],
      "text/plain": [
       "<IPython.core.display.Math object>"
      ]
     },
     "metadata": {},
     "output_type": "display_data"
    },
    {
     "name": "stdout",
     "output_type": "stream",
     "text": [
      "lambda_b_1^(3123)\n"
     ]
    },
    {
     "data": {
      "text/latex": [
       "$\\displaystyle \\lambda^{(3123)}_{b 1} = 3$"
      ],
      "text/plain": [
       "<IPython.core.display.Math object>"
      ]
     },
     "metadata": {},
     "output_type": "display_data"
    },
    {
     "name": "stdout",
     "output_type": "stream",
     "text": [
      "lambda_b_3^(3123)\n"
     ]
    },
    {
     "data": {
      "text/latex": [
       "$\\displaystyle \\lambda^{(3123)}_{b 3} = 3$"
      ],
      "text/plain": [
       "<IPython.core.display.Math object>"
      ]
     },
     "metadata": {},
     "output_type": "display_data"
    },
    {
     "data": {
      "text/latex": [
       "$\\displaystyle \\left[\\begin{matrix}a^{(3123)}_{2} b^{(3123)}_{3} & 0 & a^{(3123)}_{1} b^{(3123)}_{3} & 0 & 0 & a^{(3123)}_{1} a^{(3123)}_{2}\\\\0 & a^{(3123)}_{3} & 0 & 0 & b^{(3123)}_{1} & 0\\\\0 & 0 & 1 & 0 & 0 & 0\\\\0 & a^{(3123)}_{3} b^{(3123)}_{2} b^{(3123)}_{3} & 0 & a^{(3123)}_{3} b^{(3123)}_{1} b^{(3123)}_{3} & b^{(3123)}_{1} b^{(3123)}_{2} b^{(3123)}_{3} & a^{(3123)}_{3} b^{(3123)}_{1} b^{(3123)}_{2}\\\\0 & 0 & 0 & 0 & 1 & 0\\\\0 & a^{(3123)}_{2} b^{(3123)}_{3} & b^{(3123)}_{1} b^{(3123)}_{3} & 0 & 0 & a^{(3123)}_{2} b^{(3123)}_{1}\\end{matrix}\\right]$"
      ],
      "text/plain": [
       "<IPython.core.display.Math object>"
      ]
     },
     "metadata": {},
     "output_type": "display_data"
    },
    {
     "data": {
      "text/latex": [
       "$\\displaystyle a_{1} = a^{(3123)}_{1} a^{(3123)}_{2} b^{(3123)}_{3}$"
      ],
      "text/plain": [
       "<IPython.core.display.Math object>"
      ]
     },
     "metadata": {},
     "output_type": "display_data"
    },
    {
     "data": {
      "text/latex": [
       "$\\displaystyle b_{1} = a^{(3123)}_{3} b^{(3123)}_{1}$"
      ],
      "text/plain": [
       "<IPython.core.display.Math object>"
      ]
     },
     "metadata": {},
     "output_type": "display_data"
    },
    {
     "data": {
      "text/latex": [
       "$\\displaystyle a_{2} = a^{(3123)}_{2}$"
      ],
      "text/plain": [
       "<IPython.core.display.Math object>"
      ]
     },
     "metadata": {},
     "output_type": "display_data"
    },
    {
     "data": {
      "text/latex": [
       "$\\displaystyle b_{2} = a^{(3123)}_{3} b^{(3123)}_{1} b^{(3123)}_{2} b^{(3123)}_{3}$"
      ],
      "text/plain": [
       "<IPython.core.display.Math object>"
      ]
     },
     "metadata": {},
     "output_type": "display_data"
    },
    {
     "data": {
      "text/latex": [
       "$\\displaystyle a_{3} = a^{(3123)}_{3}$"
      ],
      "text/plain": [
       "<IPython.core.display.Math object>"
      ]
     },
     "metadata": {},
     "output_type": "display_data"
    },
    {
     "data": {
      "text/latex": [
       "$\\displaystyle b_{3} = a^{(3123)}_{2} b^{(3123)}_{1} b^{(3123)}_{3}$"
      ],
      "text/plain": [
       "<IPython.core.display.Math object>"
      ]
     },
     "metadata": {},
     "output_type": "display_data"
    },
    {
     "data": {
      "text/latex": [
       "$\\displaystyle \\left(a^{(3123)}_{2}\\right)^{2} \\left(a^{(3123)}_{3}\\right)^{2} \\left(b^{(3123)}_{1}\\right)^{2} \\left(b^{(3123)}_{3}\\right)^{2} \\left(a^{(3123)}_{1} + b^{(3123)}_{2} + 1\\right)^{2}$"
      ],
      "text/plain": [
       "<IPython.core.display.Math object>"
      ]
     },
     "metadata": {},
     "output_type": "display_data"
    },
    {
     "name": "stdout",
     "output_type": "stream",
     "text": [
      "\n",
      "-----------\n",
      "Is leaf. Is normal crossing? True\n"
     ]
    },
    {
     "data": {
      "text/latex": [
       "$\\displaystyle a^{(3122)}_{2} a^{(3122)}_{3} b^{(3122)}_{1} b^{(3122)}_{2} \\left(a^{(3122)}_{1} + b^{(3122)}_{3} + 1\\right)$"
      ],
      "text/plain": [
       "<IPython.core.display.Math object>"
      ]
     },
     "metadata": {},
     "output_type": "display_data"
    },
    {
     "data": {
      "text/latex": [
       "$\\displaystyle \\left(a^{(3122)}_{2}\\right)^{2} \\left(a^{(3122)}_{3}\\right)^{2} \\left(b^{(3122)}_{1}\\right)^{2} \\left(b^{(3122)}_{2}\\right)^{2}$"
      ],
      "text/plain": [
       "<IPython.core.display.Math object>"
      ]
     },
     "metadata": {},
     "output_type": "display_data"
    },
    {
     "name": "stdout",
     "output_type": "stream",
     "text": [
      "lambda_a_2^(3122)\n"
     ]
    },
    {
     "data": {
      "text/latex": [
       "$\\displaystyle \\lambda^{(3122)}_{a 2} = 3$"
      ],
      "text/plain": [
       "<IPython.core.display.Math object>"
      ]
     },
     "metadata": {},
     "output_type": "display_data"
    },
    {
     "name": "stdout",
     "output_type": "stream",
     "text": [
      "lambda_a_3^(3122)\n"
     ]
    },
    {
     "data": {
      "text/latex": [
       "$\\displaystyle \\lambda^{(3122)}_{a 3} = 3$"
      ],
      "text/plain": [
       "<IPython.core.display.Math object>"
      ]
     },
     "metadata": {},
     "output_type": "display_data"
    },
    {
     "name": "stdout",
     "output_type": "stream",
     "text": [
      "lambda_b_1^(3122)\n"
     ]
    },
    {
     "data": {
      "text/latex": [
       "$\\displaystyle \\lambda^{(3122)}_{b 1} = 3$"
      ],
      "text/plain": [
       "<IPython.core.display.Math object>"
      ]
     },
     "metadata": {},
     "output_type": "display_data"
    },
    {
     "name": "stdout",
     "output_type": "stream",
     "text": [
      "lambda_b_2^(3122)\n"
     ]
    },
    {
     "data": {
      "text/latex": [
       "$\\displaystyle \\lambda^{(3122)}_{b 2} = 3$"
      ],
      "text/plain": [
       "<IPython.core.display.Math object>"
      ]
     },
     "metadata": {},
     "output_type": "display_data"
    },
    {
     "data": {
      "text/latex": [
       "$\\displaystyle \\left[\\begin{matrix}a^{(3122)}_{2} b^{(3122)}_{2} & 0 & a^{(3122)}_{1} b^{(3122)}_{2} & a^{(3122)}_{1} a^{(3122)}_{2} & 0 & 0\\\\0 & a^{(3122)}_{3} & 0 & 0 & b^{(3122)}_{1} & 0\\\\0 & 0 & 1 & 0 & 0 & 0\\\\0 & a^{(3122)}_{3} b^{(3122)}_{2} & 0 & a^{(3122)}_{3} b^{(3122)}_{1} & b^{(3122)}_{1} b^{(3122)}_{2} & 0\\\\0 & 0 & 0 & 0 & 1 & 0\\\\0 & a^{(3122)}_{2} b^{(3122)}_{2} b^{(3122)}_{3} & b^{(3122)}_{1} b^{(3122)}_{2} b^{(3122)}_{3} & a^{(3122)}_{2} b^{(3122)}_{1} b^{(3122)}_{3} & 0 & a^{(3122)}_{2} b^{(3122)}_{1} b^{(3122)}_{2}\\end{matrix}\\right]$"
      ],
      "text/plain": [
       "<IPython.core.display.Math object>"
      ]
     },
     "metadata": {},
     "output_type": "display_data"
    },
    {
     "data": {
      "text/latex": [
       "$\\displaystyle a_{1} = a^{(3122)}_{1} a^{(3122)}_{2} b^{(3122)}_{2}$"
      ],
      "text/plain": [
       "<IPython.core.display.Math object>"
      ]
     },
     "metadata": {},
     "output_type": "display_data"
    },
    {
     "data": {
      "text/latex": [
       "$\\displaystyle b_{1} = a^{(3122)}_{3} b^{(3122)}_{1}$"
      ],
      "text/plain": [
       "<IPython.core.display.Math object>"
      ]
     },
     "metadata": {},
     "output_type": "display_data"
    },
    {
     "data": {
      "text/latex": [
       "$\\displaystyle a_{2} = a^{(3122)}_{2}$"
      ],
      "text/plain": [
       "<IPython.core.display.Math object>"
      ]
     },
     "metadata": {},
     "output_type": "display_data"
    },
    {
     "data": {
      "text/latex": [
       "$\\displaystyle b_{2} = a^{(3122)}_{3} b^{(3122)}_{1} b^{(3122)}_{2}$"
      ],
      "text/plain": [
       "<IPython.core.display.Math object>"
      ]
     },
     "metadata": {},
     "output_type": "display_data"
    },
    {
     "data": {
      "text/latex": [
       "$\\displaystyle a_{3} = a^{(3122)}_{3}$"
      ],
      "text/plain": [
       "<IPython.core.display.Math object>"
      ]
     },
     "metadata": {},
     "output_type": "display_data"
    },
    {
     "data": {
      "text/latex": [
       "$\\displaystyle b_{3} = a^{(3122)}_{2} b^{(3122)}_{1} b^{(3122)}_{2} b^{(3122)}_{3}$"
      ],
      "text/plain": [
       "<IPython.core.display.Math object>"
      ]
     },
     "metadata": {},
     "output_type": "display_data"
    },
    {
     "data": {
      "text/latex": [
       "$\\displaystyle \\left(a^{(3122)}_{2}\\right)^{2} \\left(a^{(3122)}_{3}\\right)^{2} \\left(b^{(3122)}_{1}\\right)^{2} \\left(b^{(3122)}_{2}\\right)^{2} \\left(a^{(3122)}_{1} + b^{(3122)}_{3} + 1\\right)^{2}$"
      ],
      "text/plain": [
       "<IPython.core.display.Math object>"
      ]
     },
     "metadata": {},
     "output_type": "display_data"
    },
    {
     "name": "stdout",
     "output_type": "stream",
     "text": [
      "\n",
      "-----------\n",
      "Is leaf. Is normal crossing? True\n"
     ]
    },
    {
     "data": {
      "text/latex": [
       "$\\displaystyle a^{(3121)}_{1} a^{(3121)}_{2} a^{(3121)}_{3} b^{(3121)}_{1} \\left(b^{(3121)}_{2} + b^{(3121)}_{3} + 1\\right)$"
      ],
      "text/plain": [
       "<IPython.core.display.Math object>"
      ]
     },
     "metadata": {},
     "output_type": "display_data"
    },
    {
     "data": {
      "text/latex": [
       "$\\displaystyle \\left(a^{(3121)}_{1}\\right)^{2} \\left(a^{(3121)}_{2}\\right)^{2} \\left(a^{(3121)}_{3}\\right)^{2} \\left(b^{(3121)}_{1}\\right)^{2}$"
      ],
      "text/plain": [
       "<IPython.core.display.Math object>"
      ]
     },
     "metadata": {},
     "output_type": "display_data"
    },
    {
     "name": "stdout",
     "output_type": "stream",
     "text": [
      "lambda_a_1^(3121)\n"
     ]
    },
    {
     "data": {
      "text/latex": [
       "$\\displaystyle \\lambda^{(3121)}_{a 1} = 3$"
      ],
      "text/plain": [
       "<IPython.core.display.Math object>"
      ]
     },
     "metadata": {},
     "output_type": "display_data"
    },
    {
     "name": "stdout",
     "output_type": "stream",
     "text": [
      "lambda_a_2^(3121)\n"
     ]
    },
    {
     "data": {
      "text/latex": [
       "$\\displaystyle \\lambda^{(3121)}_{a 2} = 3$"
      ],
      "text/plain": [
       "<IPython.core.display.Math object>"
      ]
     },
     "metadata": {},
     "output_type": "display_data"
    },
    {
     "name": "stdout",
     "output_type": "stream",
     "text": [
      "lambda_a_3^(3121)\n"
     ]
    },
    {
     "data": {
      "text/latex": [
       "$\\displaystyle \\lambda^{(3121)}_{a 3} = 3$"
      ],
      "text/plain": [
       "<IPython.core.display.Math object>"
      ]
     },
     "metadata": {},
     "output_type": "display_data"
    },
    {
     "name": "stdout",
     "output_type": "stream",
     "text": [
      "lambda_b_1^(3121)\n"
     ]
    },
    {
     "data": {
      "text/latex": [
       "$\\displaystyle \\lambda^{(3121)}_{b 1} = 3$"
      ],
      "text/plain": [
       "<IPython.core.display.Math object>"
      ]
     },
     "metadata": {},
     "output_type": "display_data"
    },
    {
     "data": {
      "text/latex": [
       "$\\displaystyle \\left[\\begin{matrix}a^{(3121)}_{2} & 0 & a^{(3121)}_{1} & 0 & 0 & 0\\\\0 & a^{(3121)}_{3} & 0 & 0 & b^{(3121)}_{1} & 0\\\\0 & 0 & 1 & 0 & 0 & 0\\\\a^{(3121)}_{3} b^{(3121)}_{1} b^{(3121)}_{2} & a^{(3121)}_{1} a^{(3121)}_{3} b^{(3121)}_{2} & 0 & a^{(3121)}_{1} a^{(3121)}_{3} b^{(3121)}_{1} & a^{(3121)}_{1} b^{(3121)}_{1} b^{(3121)}_{2} & 0\\\\0 & 0 & 0 & 0 & 1 & 0\\\\a^{(3121)}_{2} b^{(3121)}_{1} b^{(3121)}_{3} & a^{(3121)}_{1} a^{(3121)}_{2} b^{(3121)}_{3} & a^{(3121)}_{1} b^{(3121)}_{1} b^{(3121)}_{3} & 0 & 0 & a^{(3121)}_{1} a^{(3121)}_{2} b^{(3121)}_{1}\\end{matrix}\\right]$"
      ],
      "text/plain": [
       "<IPython.core.display.Math object>"
      ]
     },
     "metadata": {},
     "output_type": "display_data"
    },
    {
     "data": {
      "text/latex": [
       "$\\displaystyle a_{1} = a^{(3121)}_{1} a^{(3121)}_{2}$"
      ],
      "text/plain": [
       "<IPython.core.display.Math object>"
      ]
     },
     "metadata": {},
     "output_type": "display_data"
    },
    {
     "data": {
      "text/latex": [
       "$\\displaystyle b_{1} = a^{(3121)}_{3} b^{(3121)}_{1}$"
      ],
      "text/plain": [
       "<IPython.core.display.Math object>"
      ]
     },
     "metadata": {},
     "output_type": "display_data"
    },
    {
     "data": {
      "text/latex": [
       "$\\displaystyle a_{2} = a^{(3121)}_{2}$"
      ],
      "text/plain": [
       "<IPython.core.display.Math object>"
      ]
     },
     "metadata": {},
     "output_type": "display_data"
    },
    {
     "data": {
      "text/latex": [
       "$\\displaystyle b_{2} = a^{(3121)}_{1} a^{(3121)}_{3} b^{(3121)}_{1} b^{(3121)}_{2}$"
      ],
      "text/plain": [
       "<IPython.core.display.Math object>"
      ]
     },
     "metadata": {},
     "output_type": "display_data"
    },
    {
     "data": {
      "text/latex": [
       "$\\displaystyle a_{3} = a^{(3121)}_{3}$"
      ],
      "text/plain": [
       "<IPython.core.display.Math object>"
      ]
     },
     "metadata": {},
     "output_type": "display_data"
    },
    {
     "data": {
      "text/latex": [
       "$\\displaystyle b_{3} = a^{(3121)}_{1} a^{(3121)}_{2} b^{(3121)}_{1} b^{(3121)}_{3}$"
      ],
      "text/plain": [
       "<IPython.core.display.Math object>"
      ]
     },
     "metadata": {},
     "output_type": "display_data"
    },
    {
     "data": {
      "text/latex": [
       "$\\displaystyle \\left(a^{(3121)}_{1}\\right)^{2} \\left(a^{(3121)}_{2}\\right)^{2} \\left(a^{(3121)}_{3}\\right)^{2} \\left(b^{(3121)}_{1}\\right)^{2} \\left(b^{(3121)}_{2} + b^{(3121)}_{3} + 1\\right)^{2}$"
      ],
      "text/plain": [
       "<IPython.core.display.Math object>"
      ]
     },
     "metadata": {},
     "output_type": "display_data"
    },
    {
     "name": "stdout",
     "output_type": "stream",
     "text": [
      "\n",
      "-----------\n",
      "Is leaf. Is normal crossing? True\n"
     ]
    },
    {
     "data": {
      "text/latex": [
       "$\\displaystyle a^{(311)}_{1} a^{(311)}_{3} b^{(311)}_{1} \\left(a^{(311)}_{2} b^{(311)}_{2} + b^{(311)}_{3} + 1\\right)$"
      ],
      "text/plain": [
       "<IPython.core.display.Math object>"
      ]
     },
     "metadata": {},
     "output_type": "display_data"
    },
    {
     "data": {
      "text/latex": [
       "$\\displaystyle \\left(a^{(311)}_{1}\\right)^{2} \\left(a^{(311)}_{3}\\right)^{2} \\left(b^{(311)}_{1}\\right)^{2}$"
      ],
      "text/plain": [
       "<IPython.core.display.Math object>"
      ]
     },
     "metadata": {},
     "output_type": "display_data"
    },
    {
     "name": "stdout",
     "output_type": "stream",
     "text": [
      "lambda_a_1^(311)\n"
     ]
    },
    {
     "data": {
      "text/latex": [
       "$\\displaystyle \\lambda^{(311)}_{a 1} = 3$"
      ],
      "text/plain": [
       "<IPython.core.display.Math object>"
      ]
     },
     "metadata": {},
     "output_type": "display_data"
    },
    {
     "name": "stdout",
     "output_type": "stream",
     "text": [
      "lambda_a_3^(311)\n"
     ]
    },
    {
     "data": {
      "text/latex": [
       "$\\displaystyle \\lambda^{(311)}_{a 3} = 3$"
      ],
      "text/plain": [
       "<IPython.core.display.Math object>"
      ]
     },
     "metadata": {},
     "output_type": "display_data"
    },
    {
     "name": "stdout",
     "output_type": "stream",
     "text": [
      "lambda_b_1^(311)\n"
     ]
    },
    {
     "data": {
      "text/latex": [
       "$\\displaystyle \\lambda^{(311)}_{b 1} = 3$"
      ],
      "text/plain": [
       "<IPython.core.display.Math object>"
      ]
     },
     "metadata": {},
     "output_type": "display_data"
    },
    {
     "data": {
      "text/latex": [
       "$\\displaystyle \\left[\\begin{matrix}1 & 0 & 0 & 0 & 0 & 0\\\\0 & a^{(311)}_{3} & 0 & 0 & b^{(311)}_{1} & 0\\\\a^{(311)}_{2} & 0 & a^{(311)}_{1} & 0 & 0 & 0\\\\0 & a^{(311)}_{3} b^{(311)}_{2} & 0 & a^{(311)}_{3} b^{(311)}_{1} & b^{(311)}_{1} b^{(311)}_{2} & 0\\\\0 & 0 & 0 & 0 & 1 & 0\\\\b^{(311)}_{1} b^{(311)}_{3} & a^{(311)}_{1} b^{(311)}_{3} & 0 & 0 & 0 & a^{(311)}_{1} b^{(311)}_{1}\\end{matrix}\\right]$"
      ],
      "text/plain": [
       "<IPython.core.display.Math object>"
      ]
     },
     "metadata": {},
     "output_type": "display_data"
    },
    {
     "data": {
      "text/latex": [
       "$\\displaystyle a_{1} = a^{(311)}_{1}$"
      ],
      "text/plain": [
       "<IPython.core.display.Math object>"
      ]
     },
     "metadata": {},
     "output_type": "display_data"
    },
    {
     "data": {
      "text/latex": [
       "$\\displaystyle b_{1} = a^{(311)}_{3} b^{(311)}_{1}$"
      ],
      "text/plain": [
       "<IPython.core.display.Math object>"
      ]
     },
     "metadata": {},
     "output_type": "display_data"
    },
    {
     "data": {
      "text/latex": [
       "$\\displaystyle a_{2} = a^{(311)}_{1} a^{(311)}_{2}$"
      ],
      "text/plain": [
       "<IPython.core.display.Math object>"
      ]
     },
     "metadata": {},
     "output_type": "display_data"
    },
    {
     "data": {
      "text/latex": [
       "$\\displaystyle b_{2} = a^{(311)}_{3} b^{(311)}_{1} b^{(311)}_{2}$"
      ],
      "text/plain": [
       "<IPython.core.display.Math object>"
      ]
     },
     "metadata": {},
     "output_type": "display_data"
    },
    {
     "data": {
      "text/latex": [
       "$\\displaystyle a_{3} = a^{(311)}_{3}$"
      ],
      "text/plain": [
       "<IPython.core.display.Math object>"
      ]
     },
     "metadata": {},
     "output_type": "display_data"
    },
    {
     "data": {
      "text/latex": [
       "$\\displaystyle b_{3} = a^{(311)}_{1} b^{(311)}_{1} b^{(311)}_{3}$"
      ],
      "text/plain": [
       "<IPython.core.display.Math object>"
      ]
     },
     "metadata": {},
     "output_type": "display_data"
    },
    {
     "data": {
      "text/latex": [
       "$\\displaystyle \\left(a^{(311)}_{1}\\right)^{2} \\left(a^{(311)}_{3}\\right)^{2} \\left(b^{(311)}_{1}\\right)^{2} \\left(a^{(311)}_{2} b^{(311)}_{2} + b^{(311)}_{3} + 1\\right)^{2}$"
      ],
      "text/plain": [
       "<IPython.core.display.Math object>"
      ]
     },
     "metadata": {},
     "output_type": "display_data"
    },
    {
     "name": "stdout",
     "output_type": "stream",
     "text": [
      "\n",
      "-----------\n",
      "Is leaf. Is normal crossing? True\n"
     ]
    },
    {
     "data": {
      "text/latex": [
       "$\\displaystyle a^{(233)}_{3} b^{(233)}_{2} b^{(233)}_{3} \\left(a^{(233)}_{1} b^{(233)}_{1} + a^{(233)}_{2} + 1\\right)$"
      ],
      "text/plain": [
       "<IPython.core.display.Math object>"
      ]
     },
     "metadata": {},
     "output_type": "display_data"
    },
    {
     "data": {
      "text/latex": [
       "$\\displaystyle \\left(a^{(233)}_{3}\\right)^{2} \\left(b^{(233)}_{2}\\right)^{2} \\left(b^{(233)}_{3}\\right)^{2}$"
      ],
      "text/plain": [
       "<IPython.core.display.Math object>"
      ]
     },
     "metadata": {},
     "output_type": "display_data"
    },
    {
     "name": "stdout",
     "output_type": "stream",
     "text": [
      "lambda_a_3^(233)\n"
     ]
    },
    {
     "data": {
      "text/latex": [
       "$\\displaystyle \\lambda^{(233)}_{a 3} = 3$"
      ],
      "text/plain": [
       "<IPython.core.display.Math object>"
      ]
     },
     "metadata": {},
     "output_type": "display_data"
    },
    {
     "name": "stdout",
     "output_type": "stream",
     "text": [
      "lambda_b_2^(233)\n"
     ]
    },
    {
     "data": {
      "text/latex": [
       "$\\displaystyle \\lambda^{(233)}_{b 2} = 3$"
      ],
      "text/plain": [
       "<IPython.core.display.Math object>"
      ]
     },
     "metadata": {},
     "output_type": "display_data"
    },
    {
     "name": "stdout",
     "output_type": "stream",
     "text": [
      "lambda_b_3^(233)\n"
     ]
    },
    {
     "data": {
      "text/latex": [
       "$\\displaystyle \\lambda^{(233)}_{b 3} = 3$"
      ],
      "text/plain": [
       "<IPython.core.display.Math object>"
      ]
     },
     "metadata": {},
     "output_type": "display_data"
    },
    {
     "data": {
      "text/latex": [
       "$\\displaystyle \\left[\\begin{matrix}a^{(233)}_{3} & 0 & 0 & 0 & a^{(233)}_{1} & 0\\\\0 & b^{(233)}_{2} b^{(233)}_{3} & 0 & b^{(233)}_{1} b^{(233)}_{3} & 0 & b^{(233)}_{1} b^{(233)}_{2}\\\\0 & 0 & a^{(233)}_{3} b^{(233)}_{3} & 0 & a^{(233)}_{2} b^{(233)}_{3} & a^{(233)}_{2} a^{(233)}_{3}\\\\0 & 0 & 0 & 1 & 0 & 0\\\\0 & 0 & 0 & a^{(233)}_{3} & b^{(233)}_{2} & 0\\\\0 & 0 & 0 & 0 & 0 & 1\\end{matrix}\\right]$"
      ],
      "text/plain": [
       "<IPython.core.display.Math object>"
      ]
     },
     "metadata": {},
     "output_type": "display_data"
    },
    {
     "data": {
      "text/latex": [
       "$\\displaystyle a_{1} = a^{(233)}_{1} a^{(233)}_{3}$"
      ],
      "text/plain": [
       "<IPython.core.display.Math object>"
      ]
     },
     "metadata": {},
     "output_type": "display_data"
    },
    {
     "data": {
      "text/latex": [
       "$\\displaystyle b_{1} = b^{(233)}_{1} b^{(233)}_{2} b^{(233)}_{3}$"
      ],
      "text/plain": [
       "<IPython.core.display.Math object>"
      ]
     },
     "metadata": {},
     "output_type": "display_data"
    },
    {
     "data": {
      "text/latex": [
       "$\\displaystyle a_{2} = a^{(233)}_{2} a^{(233)}_{3} b^{(233)}_{3}$"
      ],
      "text/plain": [
       "<IPython.core.display.Math object>"
      ]
     },
     "metadata": {},
     "output_type": "display_data"
    },
    {
     "data": {
      "text/latex": [
       "$\\displaystyle b_{2} = b^{(233)}_{2}$"
      ],
      "text/plain": [
       "<IPython.core.display.Math object>"
      ]
     },
     "metadata": {},
     "output_type": "display_data"
    },
    {
     "data": {
      "text/latex": [
       "$\\displaystyle a_{3} = a^{(233)}_{3} b^{(233)}_{2}$"
      ],
      "text/plain": [
       "<IPython.core.display.Math object>"
      ]
     },
     "metadata": {},
     "output_type": "display_data"
    },
    {
     "data": {
      "text/latex": [
       "$\\displaystyle b_{3} = b^{(233)}_{3}$"
      ],
      "text/plain": [
       "<IPython.core.display.Math object>"
      ]
     },
     "metadata": {},
     "output_type": "display_data"
    },
    {
     "data": {
      "text/latex": [
       "$\\displaystyle \\left(a^{(233)}_{3}\\right)^{2} \\left(b^{(233)}_{2}\\right)^{2} \\left(b^{(233)}_{3}\\right)^{2} \\left(a^{(233)}_{1} b^{(233)}_{1} + a^{(233)}_{2} + 1\\right)^{2}$"
      ],
      "text/plain": [
       "<IPython.core.display.Math object>"
      ]
     },
     "metadata": {},
     "output_type": "display_data"
    },
    {
     "name": "stdout",
     "output_type": "stream",
     "text": [
      "\n",
      "-----------\n",
      "Is leaf. Is normal crossing? True\n"
     ]
    },
    {
     "data": {
      "text/latex": [
       "$\\displaystyle a^{(232)}_{2} b^{(232)}_{2} b^{(232)}_{3} \\left(a^{(232)}_{1} b^{(232)}_{1} + a^{(232)}_{3} + 1\\right)$"
      ],
      "text/plain": [
       "<IPython.core.display.Math object>"
      ]
     },
     "metadata": {},
     "output_type": "display_data"
    },
    {
     "data": {
      "text/latex": [
       "$\\displaystyle \\left(a^{(232)}_{2}\\right)^{2} \\left(b^{(232)}_{2}\\right)^{2} \\left(b^{(232)}_{3}\\right)^{2}$"
      ],
      "text/plain": [
       "<IPython.core.display.Math object>"
      ]
     },
     "metadata": {},
     "output_type": "display_data"
    },
    {
     "name": "stdout",
     "output_type": "stream",
     "text": [
      "lambda_a_2^(232)\n"
     ]
    },
    {
     "data": {
      "text/latex": [
       "$\\displaystyle \\lambda^{(232)}_{a 2} = 3$"
      ],
      "text/plain": [
       "<IPython.core.display.Math object>"
      ]
     },
     "metadata": {},
     "output_type": "display_data"
    },
    {
     "name": "stdout",
     "output_type": "stream",
     "text": [
      "lambda_b_2^(232)\n"
     ]
    },
    {
     "data": {
      "text/latex": [
       "$\\displaystyle \\lambda^{(232)}_{b 2} = 3$"
      ],
      "text/plain": [
       "<IPython.core.display.Math object>"
      ]
     },
     "metadata": {},
     "output_type": "display_data"
    },
    {
     "name": "stdout",
     "output_type": "stream",
     "text": [
      "lambda_b_3^(232)\n"
     ]
    },
    {
     "data": {
      "text/latex": [
       "$\\displaystyle \\lambda^{(232)}_{b 3} = 3$"
      ],
      "text/plain": [
       "<IPython.core.display.Math object>"
      ]
     },
     "metadata": {},
     "output_type": "display_data"
    },
    {
     "data": {
      "text/latex": [
       "$\\displaystyle \\left[\\begin{matrix}a^{(232)}_{2} & 0 & a^{(232)}_{1} & 0 & 0 & 0\\\\0 & b^{(232)}_{2} b^{(232)}_{3} & 0 & b^{(232)}_{1} b^{(232)}_{3} & 0 & b^{(232)}_{1} b^{(232)}_{2}\\\\0 & 0 & b^{(232)}_{3} & 0 & 0 & a^{(232)}_{2}\\\\0 & 0 & 0 & 1 & 0 & 0\\\\0 & 0 & a^{(232)}_{3} b^{(232)}_{2} & a^{(232)}_{2} a^{(232)}_{3} & a^{(232)}_{2} b^{(232)}_{2} & 0\\\\0 & 0 & 0 & 0 & 0 & 1\\end{matrix}\\right]$"
      ],
      "text/plain": [
       "<IPython.core.display.Math object>"
      ]
     },
     "metadata": {},
     "output_type": "display_data"
    },
    {
     "data": {
      "text/latex": [
       "$\\displaystyle a_{1} = a^{(232)}_{1} a^{(232)}_{2}$"
      ],
      "text/plain": [
       "<IPython.core.display.Math object>"
      ]
     },
     "metadata": {},
     "output_type": "display_data"
    },
    {
     "data": {
      "text/latex": [
       "$\\displaystyle b_{1} = b^{(232)}_{1} b^{(232)}_{2} b^{(232)}_{3}$"
      ],
      "text/plain": [
       "<IPython.core.display.Math object>"
      ]
     },
     "metadata": {},
     "output_type": "display_data"
    },
    {
     "data": {
      "text/latex": [
       "$\\displaystyle a_{2} = a^{(232)}_{2} b^{(232)}_{3}$"
      ],
      "text/plain": [
       "<IPython.core.display.Math object>"
      ]
     },
     "metadata": {},
     "output_type": "display_data"
    },
    {
     "data": {
      "text/latex": [
       "$\\displaystyle b_{2} = b^{(232)}_{2}$"
      ],
      "text/plain": [
       "<IPython.core.display.Math object>"
      ]
     },
     "metadata": {},
     "output_type": "display_data"
    },
    {
     "data": {
      "text/latex": [
       "$\\displaystyle a_{3} = a^{(232)}_{2} a^{(232)}_{3} b^{(232)}_{2}$"
      ],
      "text/plain": [
       "<IPython.core.display.Math object>"
      ]
     },
     "metadata": {},
     "output_type": "display_data"
    },
    {
     "data": {
      "text/latex": [
       "$\\displaystyle b_{3} = b^{(232)}_{3}$"
      ],
      "text/plain": [
       "<IPython.core.display.Math object>"
      ]
     },
     "metadata": {},
     "output_type": "display_data"
    },
    {
     "data": {
      "text/latex": [
       "$\\displaystyle \\left(a^{(232)}_{2}\\right)^{2} \\left(b^{(232)}_{2}\\right)^{2} \\left(b^{(232)}_{3}\\right)^{2} \\left(a^{(232)}_{1} b^{(232)}_{1} + a^{(232)}_{3} + 1\\right)^{2}$"
      ],
      "text/plain": [
       "<IPython.core.display.Math object>"
      ]
     },
     "metadata": {},
     "output_type": "display_data"
    },
    {
     "name": "stdout",
     "output_type": "stream",
     "text": [
      "\n",
      "-----------\n",
      "Is leaf. Is normal crossing? True\n"
     ]
    },
    {
     "data": {
      "text/latex": [
       "$\\displaystyle a^{(2313)}_{1} a^{(2313)}_{3} b^{(2313)}_{2} b^{(2313)}_{3} \\left(a^{(2313)}_{2} + b^{(2313)}_{1} + 1\\right)$"
      ],
      "text/plain": [
       "<IPython.core.display.Math object>"
      ]
     },
     "metadata": {},
     "output_type": "display_data"
    },
    {
     "data": {
      "text/latex": [
       "$\\displaystyle \\left(a^{(2313)}_{1}\\right)^{2} \\left(a^{(2313)}_{3}\\right)^{2} \\left(b^{(2313)}_{2}\\right)^{2} \\left(b^{(2313)}_{3}\\right)^{2}$"
      ],
      "text/plain": [
       "<IPython.core.display.Math object>"
      ]
     },
     "metadata": {},
     "output_type": "display_data"
    },
    {
     "name": "stdout",
     "output_type": "stream",
     "text": [
      "lambda_a_1^(2313)\n"
     ]
    },
    {
     "data": {
      "text/latex": [
       "$\\displaystyle \\lambda^{(2313)}_{a 1} = 3$"
      ],
      "text/plain": [
       "<IPython.core.display.Math object>"
      ]
     },
     "metadata": {},
     "output_type": "display_data"
    },
    {
     "name": "stdout",
     "output_type": "stream",
     "text": [
      "lambda_a_3^(2313)\n"
     ]
    },
    {
     "data": {
      "text/latex": [
       "$\\displaystyle \\lambda^{(2313)}_{a 3} = 3$"
      ],
      "text/plain": [
       "<IPython.core.display.Math object>"
      ]
     },
     "metadata": {},
     "output_type": "display_data"
    },
    {
     "name": "stdout",
     "output_type": "stream",
     "text": [
      "lambda_b_2^(2313)\n"
     ]
    },
    {
     "data": {
      "text/latex": [
       "$\\displaystyle \\lambda^{(2313)}_{b 2} = 3$"
      ],
      "text/plain": [
       "<IPython.core.display.Math object>"
      ]
     },
     "metadata": {},
     "output_type": "display_data"
    },
    {
     "name": "stdout",
     "output_type": "stream",
     "text": [
      "lambda_b_3^(2313)\n"
     ]
    },
    {
     "data": {
      "text/latex": [
       "$\\displaystyle \\lambda^{(2313)}_{b 3} = 3$"
      ],
      "text/plain": [
       "<IPython.core.display.Math object>"
      ]
     },
     "metadata": {},
     "output_type": "display_data"
    },
    {
     "data": {
      "text/latex": [
       "$\\displaystyle \\left[\\begin{matrix}1 & 0 & 0 & 0 & 0 & 0\\\\0 & a^{(2313)}_{3} b^{(2313)}_{2} b^{(2313)}_{3} & 0 & a^{(2313)}_{3} b^{(2313)}_{1} b^{(2313)}_{3} & b^{(2313)}_{1} b^{(2313)}_{2} b^{(2313)}_{3} & a^{(2313)}_{3} b^{(2313)}_{1} b^{(2313)}_{2}\\\\a^{(2313)}_{2} a^{(2313)}_{3} b^{(2313)}_{3} & 0 & a^{(2313)}_{1} a^{(2313)}_{3} b^{(2313)}_{3} & 0 & a^{(2313)}_{1} a^{(2313)}_{2} b^{(2313)}_{3} & a^{(2313)}_{1} a^{(2313)}_{2} a^{(2313)}_{3}\\\\0 & 0 & 0 & 1 & 0 & 0\\\\a^{(2313)}_{3} b^{(2313)}_{2} & 0 & 0 & a^{(2313)}_{1} a^{(2313)}_{3} & a^{(2313)}_{1} b^{(2313)}_{2} & 0\\\\0 & 0 & 0 & 0 & 0 & 1\\end{matrix}\\right]$"
      ],
      "text/plain": [
       "<IPython.core.display.Math object>"
      ]
     },
     "metadata": {},
     "output_type": "display_data"
    },
    {
     "data": {
      "text/latex": [
       "$\\displaystyle a_{1} = a^{(2313)}_{1}$"
      ],
      "text/plain": [
       "<IPython.core.display.Math object>"
      ]
     },
     "metadata": {},
     "output_type": "display_data"
    },
    {
     "data": {
      "text/latex": [
       "$\\displaystyle b_{1} = a^{(2313)}_{3} b^{(2313)}_{1} b^{(2313)}_{2} b^{(2313)}_{3}$"
      ],
      "text/plain": [
       "<IPython.core.display.Math object>"
      ]
     },
     "metadata": {},
     "output_type": "display_data"
    },
    {
     "data": {
      "text/latex": [
       "$\\displaystyle a_{2} = a^{(2313)}_{1} a^{(2313)}_{2} a^{(2313)}_{3} b^{(2313)}_{3}$"
      ],
      "text/plain": [
       "<IPython.core.display.Math object>"
      ]
     },
     "metadata": {},
     "output_type": "display_data"
    },
    {
     "data": {
      "text/latex": [
       "$\\displaystyle b_{2} = b^{(2313)}_{2}$"
      ],
      "text/plain": [
       "<IPython.core.display.Math object>"
      ]
     },
     "metadata": {},
     "output_type": "display_data"
    },
    {
     "data": {
      "text/latex": [
       "$\\displaystyle a_{3} = a^{(2313)}_{1} a^{(2313)}_{3} b^{(2313)}_{2}$"
      ],
      "text/plain": [
       "<IPython.core.display.Math object>"
      ]
     },
     "metadata": {},
     "output_type": "display_data"
    },
    {
     "data": {
      "text/latex": [
       "$\\displaystyle b_{3} = b^{(2313)}_{3}$"
      ],
      "text/plain": [
       "<IPython.core.display.Math object>"
      ]
     },
     "metadata": {},
     "output_type": "display_data"
    },
    {
     "data": {
      "text/latex": [
       "$\\displaystyle \\left(a^{(2313)}_{1}\\right)^{2} \\left(a^{(2313)}_{3}\\right)^{2} \\left(b^{(2313)}_{2}\\right)^{2} \\left(b^{(2313)}_{3}\\right)^{2} \\left(a^{(2313)}_{2} + b^{(2313)}_{1} + 1\\right)^{2}$"
      ],
      "text/plain": [
       "<IPython.core.display.Math object>"
      ]
     },
     "metadata": {},
     "output_type": "display_data"
    },
    {
     "name": "stdout",
     "output_type": "stream",
     "text": [
      "\n",
      "-----------\n",
      "Is leaf. Is normal crossing? True\n"
     ]
    },
    {
     "data": {
      "text/latex": [
       "$\\displaystyle a^{(2312)}_{1} a^{(2312)}_{2} b^{(2312)}_{2} b^{(2312)}_{3} \\left(a^{(2312)}_{3} + b^{(2312)}_{1} + 1\\right)$"
      ],
      "text/plain": [
       "<IPython.core.display.Math object>"
      ]
     },
     "metadata": {},
     "output_type": "display_data"
    },
    {
     "data": {
      "text/latex": [
       "$\\displaystyle \\left(a^{(2312)}_{1}\\right)^{2} \\left(a^{(2312)}_{2}\\right)^{2} \\left(b^{(2312)}_{2}\\right)^{2} \\left(b^{(2312)}_{3}\\right)^{2}$"
      ],
      "text/plain": [
       "<IPython.core.display.Math object>"
      ]
     },
     "metadata": {},
     "output_type": "display_data"
    },
    {
     "name": "stdout",
     "output_type": "stream",
     "text": [
      "lambda_a_1^(2312)\n"
     ]
    },
    {
     "data": {
      "text/latex": [
       "$\\displaystyle \\lambda^{(2312)}_{a 1} = 3$"
      ],
      "text/plain": [
       "<IPython.core.display.Math object>"
      ]
     },
     "metadata": {},
     "output_type": "display_data"
    },
    {
     "name": "stdout",
     "output_type": "stream",
     "text": [
      "lambda_a_2^(2312)\n"
     ]
    },
    {
     "data": {
      "text/latex": [
       "$\\displaystyle \\lambda^{(2312)}_{a 2} = 3$"
      ],
      "text/plain": [
       "<IPython.core.display.Math object>"
      ]
     },
     "metadata": {},
     "output_type": "display_data"
    },
    {
     "name": "stdout",
     "output_type": "stream",
     "text": [
      "lambda_b_2^(2312)\n"
     ]
    },
    {
     "data": {
      "text/latex": [
       "$\\displaystyle \\lambda^{(2312)}_{b 2} = 3$"
      ],
      "text/plain": [
       "<IPython.core.display.Math object>"
      ]
     },
     "metadata": {},
     "output_type": "display_data"
    },
    {
     "name": "stdout",
     "output_type": "stream",
     "text": [
      "lambda_b_3^(2312)\n"
     ]
    },
    {
     "data": {
      "text/latex": [
       "$\\displaystyle \\lambda^{(2312)}_{b 3} = 3$"
      ],
      "text/plain": [
       "<IPython.core.display.Math object>"
      ]
     },
     "metadata": {},
     "output_type": "display_data"
    },
    {
     "data": {
      "text/latex": [
       "$\\displaystyle \\left[\\begin{matrix}1 & 0 & 0 & 0 & 0 & 0\\\\0 & a^{(2312)}_{2} b^{(2312)}_{2} b^{(2312)}_{3} & b^{(2312)}_{1} b^{(2312)}_{2} b^{(2312)}_{3} & a^{(2312)}_{2} b^{(2312)}_{1} b^{(2312)}_{3} & 0 & a^{(2312)}_{2} b^{(2312)}_{1} b^{(2312)}_{2}\\\\a^{(2312)}_{2} b^{(2312)}_{3} & 0 & a^{(2312)}_{1} b^{(2312)}_{3} & 0 & 0 & a^{(2312)}_{1} a^{(2312)}_{2}\\\\0 & 0 & 0 & 1 & 0 & 0\\\\a^{(2312)}_{2} a^{(2312)}_{3} b^{(2312)}_{2} & 0 & a^{(2312)}_{1} a^{(2312)}_{3} b^{(2312)}_{2} & a^{(2312)}_{1} a^{(2312)}_{2} a^{(2312)}_{3} & a^{(2312)}_{1} a^{(2312)}_{2} b^{(2312)}_{2} & 0\\\\0 & 0 & 0 & 0 & 0 & 1\\end{matrix}\\right]$"
      ],
      "text/plain": [
       "<IPython.core.display.Math object>"
      ]
     },
     "metadata": {},
     "output_type": "display_data"
    },
    {
     "data": {
      "text/latex": [
       "$\\displaystyle a_{1} = a^{(2312)}_{1}$"
      ],
      "text/plain": [
       "<IPython.core.display.Math object>"
      ]
     },
     "metadata": {},
     "output_type": "display_data"
    },
    {
     "data": {
      "text/latex": [
       "$\\displaystyle b_{1} = a^{(2312)}_{2} b^{(2312)}_{1} b^{(2312)}_{2} b^{(2312)}_{3}$"
      ],
      "text/plain": [
       "<IPython.core.display.Math object>"
      ]
     },
     "metadata": {},
     "output_type": "display_data"
    },
    {
     "data": {
      "text/latex": [
       "$\\displaystyle a_{2} = a^{(2312)}_{1} a^{(2312)}_{2} b^{(2312)}_{3}$"
      ],
      "text/plain": [
       "<IPython.core.display.Math object>"
      ]
     },
     "metadata": {},
     "output_type": "display_data"
    },
    {
     "data": {
      "text/latex": [
       "$\\displaystyle b_{2} = b^{(2312)}_{2}$"
      ],
      "text/plain": [
       "<IPython.core.display.Math object>"
      ]
     },
     "metadata": {},
     "output_type": "display_data"
    },
    {
     "data": {
      "text/latex": [
       "$\\displaystyle a_{3} = a^{(2312)}_{1} a^{(2312)}_{2} a^{(2312)}_{3} b^{(2312)}_{2}$"
      ],
      "text/plain": [
       "<IPython.core.display.Math object>"
      ]
     },
     "metadata": {},
     "output_type": "display_data"
    },
    {
     "data": {
      "text/latex": [
       "$\\displaystyle b_{3} = b^{(2312)}_{3}$"
      ],
      "text/plain": [
       "<IPython.core.display.Math object>"
      ]
     },
     "metadata": {},
     "output_type": "display_data"
    },
    {
     "data": {
      "text/latex": [
       "$\\displaystyle \\left(a^{(2312)}_{1}\\right)^{2} \\left(a^{(2312)}_{2}\\right)^{2} \\left(b^{(2312)}_{2}\\right)^{2} \\left(b^{(2312)}_{3}\\right)^{2} \\left(a^{(2312)}_{3} + b^{(2312)}_{1} + 1\\right)^{2}$"
      ],
      "text/plain": [
       "<IPython.core.display.Math object>"
      ]
     },
     "metadata": {},
     "output_type": "display_data"
    },
    {
     "name": "stdout",
     "output_type": "stream",
     "text": [
      "\n",
      "-----------\n",
      "Is leaf. Is normal crossing? True\n"
     ]
    },
    {
     "data": {
      "text/latex": [
       "$\\displaystyle a^{(2311)}_{1} b^{(2311)}_{1} b^{(2311)}_{2} b^{(2311)}_{3} \\left(a^{(2311)}_{2} + a^{(2311)}_{3} + 1\\right)$"
      ],
      "text/plain": [
       "<IPython.core.display.Math object>"
      ]
     },
     "metadata": {},
     "output_type": "display_data"
    },
    {
     "data": {
      "text/latex": [
       "$\\displaystyle \\left(a^{(2311)}_{1}\\right)^{2} \\left(b^{(2311)}_{1}\\right)^{2} \\left(b^{(2311)}_{2}\\right)^{2} \\left(b^{(2311)}_{3}\\right)^{2}$"
      ],
      "text/plain": [
       "<IPython.core.display.Math object>"
      ]
     },
     "metadata": {},
     "output_type": "display_data"
    },
    {
     "name": "stdout",
     "output_type": "stream",
     "text": [
      "lambda_a_1^(2311)\n"
     ]
    },
    {
     "data": {
      "text/latex": [
       "$\\displaystyle \\lambda^{(2311)}_{a 1} = 3$"
      ],
      "text/plain": [
       "<IPython.core.display.Math object>"
      ]
     },
     "metadata": {},
     "output_type": "display_data"
    },
    {
     "name": "stdout",
     "output_type": "stream",
     "text": [
      "lambda_b_1^(2311)\n"
     ]
    },
    {
     "data": {
      "text/latex": [
       "$\\displaystyle \\lambda^{(2311)}_{b 1} = 3$"
      ],
      "text/plain": [
       "<IPython.core.display.Math object>"
      ]
     },
     "metadata": {},
     "output_type": "display_data"
    },
    {
     "name": "stdout",
     "output_type": "stream",
     "text": [
      "lambda_b_2^(2311)\n"
     ]
    },
    {
     "data": {
      "text/latex": [
       "$\\displaystyle \\lambda^{(2311)}_{b 2} = 3$"
      ],
      "text/plain": [
       "<IPython.core.display.Math object>"
      ]
     },
     "metadata": {},
     "output_type": "display_data"
    },
    {
     "name": "stdout",
     "output_type": "stream",
     "text": [
      "lambda_b_3^(2311)\n"
     ]
    },
    {
     "data": {
      "text/latex": [
       "$\\displaystyle \\lambda^{(2311)}_{b 3} = 3$"
      ],
      "text/plain": [
       "<IPython.core.display.Math object>"
      ]
     },
     "metadata": {},
     "output_type": "display_data"
    },
    {
     "data": {
      "text/latex": [
       "$\\displaystyle \\left[\\begin{matrix}1 & 0 & 0 & 0 & 0 & 0\\\\0 & b^{(2311)}_{2} b^{(2311)}_{3} & 0 & b^{(2311)}_{1} b^{(2311)}_{3} & 0 & b^{(2311)}_{1} b^{(2311)}_{2}\\\\a^{(2311)}_{2} b^{(2311)}_{1} b^{(2311)}_{3} & a^{(2311)}_{1} a^{(2311)}_{2} b^{(2311)}_{3} & a^{(2311)}_{1} b^{(2311)}_{1} b^{(2311)}_{3} & 0 & 0 & a^{(2311)}_{1} a^{(2311)}_{2} b^{(2311)}_{1}\\\\0 & 0 & 0 & 1 & 0 & 0\\\\a^{(2311)}_{3} b^{(2311)}_{1} b^{(2311)}_{2} & a^{(2311)}_{1} a^{(2311)}_{3} b^{(2311)}_{2} & 0 & a^{(2311)}_{1} a^{(2311)}_{3} b^{(2311)}_{1} & a^{(2311)}_{1} b^{(2311)}_{1} b^{(2311)}_{2} & 0\\\\0 & 0 & 0 & 0 & 0 & 1\\end{matrix}\\right]$"
      ],
      "text/plain": [
       "<IPython.core.display.Math object>"
      ]
     },
     "metadata": {},
     "output_type": "display_data"
    },
    {
     "data": {
      "text/latex": [
       "$\\displaystyle a_{1} = a^{(2311)}_{1}$"
      ],
      "text/plain": [
       "<IPython.core.display.Math object>"
      ]
     },
     "metadata": {},
     "output_type": "display_data"
    },
    {
     "data": {
      "text/latex": [
       "$\\displaystyle b_{1} = b^{(2311)}_{1} b^{(2311)}_{2} b^{(2311)}_{3}$"
      ],
      "text/plain": [
       "<IPython.core.display.Math object>"
      ]
     },
     "metadata": {},
     "output_type": "display_data"
    },
    {
     "data": {
      "text/latex": [
       "$\\displaystyle a_{2} = a^{(2311)}_{1} a^{(2311)}_{2} b^{(2311)}_{1} b^{(2311)}_{3}$"
      ],
      "text/plain": [
       "<IPython.core.display.Math object>"
      ]
     },
     "metadata": {},
     "output_type": "display_data"
    },
    {
     "data": {
      "text/latex": [
       "$\\displaystyle b_{2} = b^{(2311)}_{2}$"
      ],
      "text/plain": [
       "<IPython.core.display.Math object>"
      ]
     },
     "metadata": {},
     "output_type": "display_data"
    },
    {
     "data": {
      "text/latex": [
       "$\\displaystyle a_{3} = a^{(2311)}_{1} a^{(2311)}_{3} b^{(2311)}_{1} b^{(2311)}_{2}$"
      ],
      "text/plain": [
       "<IPython.core.display.Math object>"
      ]
     },
     "metadata": {},
     "output_type": "display_data"
    },
    {
     "data": {
      "text/latex": [
       "$\\displaystyle b_{3} = b^{(2311)}_{3}$"
      ],
      "text/plain": [
       "<IPython.core.display.Math object>"
      ]
     },
     "metadata": {},
     "output_type": "display_data"
    },
    {
     "data": {
      "text/latex": [
       "$\\displaystyle \\left(a^{(2311)}_{1}\\right)^{2} \\left(b^{(2311)}_{1}\\right)^{2} \\left(b^{(2311)}_{2}\\right)^{2} \\left(b^{(2311)}_{3}\\right)^{2} \\left(a^{(2311)}_{2} + a^{(2311)}_{3} + 1\\right)^{2}$"
      ],
      "text/plain": [
       "<IPython.core.display.Math object>"
      ]
     },
     "metadata": {},
     "output_type": "display_data"
    },
    {
     "name": "stdout",
     "output_type": "stream",
     "text": [
      "\n",
      "-----------\n",
      "Is leaf. Is normal crossing? True\n"
     ]
    },
    {
     "data": {
      "text/latex": [
       "$\\displaystyle a^{(22)}_{2} b^{(22)}_{2} \\left(a^{(22)}_{1} b^{(22)}_{1} + a^{(22)}_{3} b^{(22)}_{3} + 1\\right)$"
      ],
      "text/plain": [
       "<IPython.core.display.Math object>"
      ]
     },
     "metadata": {},
     "output_type": "display_data"
    },
    {
     "data": {
      "text/latex": [
       "$\\displaystyle \\left(a^{(22)}_{2}\\right)^{2} \\left(b^{(22)}_{2}\\right)^{2}$"
      ],
      "text/plain": [
       "<IPython.core.display.Math object>"
      ]
     },
     "metadata": {},
     "output_type": "display_data"
    },
    {
     "name": "stdout",
     "output_type": "stream",
     "text": [
      "lambda_a_2^(22)\n"
     ]
    },
    {
     "data": {
      "text/latex": [
       "$\\displaystyle \\lambda^{(22)}_{a 2} = 3$"
      ],
      "text/plain": [
       "<IPython.core.display.Math object>"
      ]
     },
     "metadata": {},
     "output_type": "display_data"
    },
    {
     "name": "stdout",
     "output_type": "stream",
     "text": [
      "lambda_b_2^(22)\n"
     ]
    },
    {
     "data": {
      "text/latex": [
       "$\\displaystyle \\lambda^{(22)}_{b 2} = 3$"
      ],
      "text/plain": [
       "<IPython.core.display.Math object>"
      ]
     },
     "metadata": {},
     "output_type": "display_data"
    },
    {
     "data": {
      "text/latex": [
       "$\\displaystyle \\left[\\begin{matrix}1 & 0 & 0 & 0 & 0 & 0\\\\0 & a^{(22)}_{2} b^{(22)}_{2} & b^{(22)}_{1} b^{(22)}_{2} & a^{(22)}_{2} b^{(22)}_{1} & 0 & 0\\\\0 & 0 & 1 & 0 & 0 & 0\\\\0 & 0 & 0 & 1 & 0 & 0\\\\0 & 0 & 0 & a^{(22)}_{3} & b^{(22)}_{2} & 0\\\\0 & 0 & b^{(22)}_{3} & 0 & 0 & a^{(22)}_{2}\\end{matrix}\\right]$"
      ],
      "text/plain": [
       "<IPython.core.display.Math object>"
      ]
     },
     "metadata": {},
     "output_type": "display_data"
    },
    {
     "data": {
      "text/latex": [
       "$\\displaystyle a_{1} = a^{(22)}_{1}$"
      ],
      "text/plain": [
       "<IPython.core.display.Math object>"
      ]
     },
     "metadata": {},
     "output_type": "display_data"
    },
    {
     "data": {
      "text/latex": [
       "$\\displaystyle b_{1} = a^{(22)}_{2} b^{(22)}_{1} b^{(22)}_{2}$"
      ],
      "text/plain": [
       "<IPython.core.display.Math object>"
      ]
     },
     "metadata": {},
     "output_type": "display_data"
    },
    {
     "data": {
      "text/latex": [
       "$\\displaystyle a_{2} = a^{(22)}_{2}$"
      ],
      "text/plain": [
       "<IPython.core.display.Math object>"
      ]
     },
     "metadata": {},
     "output_type": "display_data"
    },
    {
     "data": {
      "text/latex": [
       "$\\displaystyle b_{2} = b^{(22)}_{2}$"
      ],
      "text/plain": [
       "<IPython.core.display.Math object>"
      ]
     },
     "metadata": {},
     "output_type": "display_data"
    },
    {
     "data": {
      "text/latex": [
       "$\\displaystyle a_{3} = a^{(22)}_{3} b^{(22)}_{2}$"
      ],
      "text/plain": [
       "<IPython.core.display.Math object>"
      ]
     },
     "metadata": {},
     "output_type": "display_data"
    },
    {
     "data": {
      "text/latex": [
       "$\\displaystyle b_{3} = a^{(22)}_{2} b^{(22)}_{3}$"
      ],
      "text/plain": [
       "<IPython.core.display.Math object>"
      ]
     },
     "metadata": {},
     "output_type": "display_data"
    },
    {
     "data": {
      "text/latex": [
       "$\\displaystyle \\left(a^{(22)}_{2}\\right)^{2} \\left(b^{(22)}_{2}\\right)^{2} \\left(a^{(22)}_{1} b^{(22)}_{1} + a^{(22)}_{3} b^{(22)}_{3} + 1\\right)^{2}$"
      ],
      "text/plain": [
       "<IPython.core.display.Math object>"
      ]
     },
     "metadata": {},
     "output_type": "display_data"
    },
    {
     "name": "stdout",
     "output_type": "stream",
     "text": [
      "\n",
      "-----------\n",
      "Is leaf. Is normal crossing? True\n"
     ]
    },
    {
     "data": {
      "text/latex": [
       "$\\displaystyle a^{(2133)}_{3} b^{(2133)}_{1} b^{(2133)}_{2} b^{(2133)}_{3} \\left(a^{(2133)}_{1} + a^{(2133)}_{2} + 1\\right)$"
      ],
      "text/plain": [
       "<IPython.core.display.Math object>"
      ]
     },
     "metadata": {},
     "output_type": "display_data"
    },
    {
     "data": {
      "text/latex": [
       "$\\displaystyle \\left(a^{(2133)}_{3}\\right)^{2} \\left(b^{(2133)}_{1}\\right)^{2} \\left(b^{(2133)}_{2}\\right)^{2} \\left(b^{(2133)}_{3}\\right)^{2}$"
      ],
      "text/plain": [
       "<IPython.core.display.Math object>"
      ]
     },
     "metadata": {},
     "output_type": "display_data"
    },
    {
     "name": "stdout",
     "output_type": "stream",
     "text": [
      "lambda_a_3^(2133)\n"
     ]
    },
    {
     "data": {
      "text/latex": [
       "$\\displaystyle \\lambda^{(2133)}_{a 3} = 3$"
      ],
      "text/plain": [
       "<IPython.core.display.Math object>"
      ]
     },
     "metadata": {},
     "output_type": "display_data"
    },
    {
     "name": "stdout",
     "output_type": "stream",
     "text": [
      "lambda_b_1^(2133)\n"
     ]
    },
    {
     "data": {
      "text/latex": [
       "$\\displaystyle \\lambda^{(2133)}_{b 1} = 3$"
      ],
      "text/plain": [
       "<IPython.core.display.Math object>"
      ]
     },
     "metadata": {},
     "output_type": "display_data"
    },
    {
     "name": "stdout",
     "output_type": "stream",
     "text": [
      "lambda_b_2^(2133)\n"
     ]
    },
    {
     "data": {
      "text/latex": [
       "$\\displaystyle \\lambda^{(2133)}_{b 2} = 3$"
      ],
      "text/plain": [
       "<IPython.core.display.Math object>"
      ]
     },
     "metadata": {},
     "output_type": "display_data"
    },
    {
     "name": "stdout",
     "output_type": "stream",
     "text": [
      "lambda_b_3^(2133)\n"
     ]
    },
    {
     "data": {
      "text/latex": [
       "$\\displaystyle \\lambda^{(2133)}_{b 3} = 3$"
      ],
      "text/plain": [
       "<IPython.core.display.Math object>"
      ]
     },
     "metadata": {},
     "output_type": "display_data"
    },
    {
     "data": {
      "text/latex": [
       "$\\displaystyle \\left[\\begin{matrix}a^{(2133)}_{3} b^{(2133)}_{3} & 0 & 0 & 0 & a^{(2133)}_{1} b^{(2133)}_{3} & a^{(2133)}_{1} a^{(2133)}_{3}\\\\0 & b^{(2133)}_{2} & 0 & b^{(2133)}_{1} & 0 & 0\\\\0 & a^{(2133)}_{2} a^{(2133)}_{3} b^{(2133)}_{3} & a^{(2133)}_{3} b^{(2133)}_{1} b^{(2133)}_{3} & 0 & a^{(2133)}_{2} b^{(2133)}_{1} b^{(2133)}_{3} & a^{(2133)}_{2} a^{(2133)}_{3} b^{(2133)}_{1}\\\\0 & 0 & 0 & 1 & 0 & 0\\\\0 & 0 & 0 & a^{(2133)}_{3} & b^{(2133)}_{2} & 0\\\\0 & b^{(2133)}_{3} & 0 & 0 & 0 & b^{(2133)}_{1}\\end{matrix}\\right]$"
      ],
      "text/plain": [
       "<IPython.core.display.Math object>"
      ]
     },
     "metadata": {},
     "output_type": "display_data"
    },
    {
     "data": {
      "text/latex": [
       "$\\displaystyle a_{1} = a^{(2133)}_{1} a^{(2133)}_{3} b^{(2133)}_{3}$"
      ],
      "text/plain": [
       "<IPython.core.display.Math object>"
      ]
     },
     "metadata": {},
     "output_type": "display_data"
    },
    {
     "data": {
      "text/latex": [
       "$\\displaystyle b_{1} = b^{(2133)}_{1} b^{(2133)}_{2}$"
      ],
      "text/plain": [
       "<IPython.core.display.Math object>"
      ]
     },
     "metadata": {},
     "output_type": "display_data"
    },
    {
     "data": {
      "text/latex": [
       "$\\displaystyle a_{2} = a^{(2133)}_{2} a^{(2133)}_{3} b^{(2133)}_{1} b^{(2133)}_{3}$"
      ],
      "text/plain": [
       "<IPython.core.display.Math object>"
      ]
     },
     "metadata": {},
     "output_type": "display_data"
    },
    {
     "data": {
      "text/latex": [
       "$\\displaystyle b_{2} = b^{(2133)}_{2}$"
      ],
      "text/plain": [
       "<IPython.core.display.Math object>"
      ]
     },
     "metadata": {},
     "output_type": "display_data"
    },
    {
     "data": {
      "text/latex": [
       "$\\displaystyle a_{3} = a^{(2133)}_{3} b^{(2133)}_{2}$"
      ],
      "text/plain": [
       "<IPython.core.display.Math object>"
      ]
     },
     "metadata": {},
     "output_type": "display_data"
    },
    {
     "data": {
      "text/latex": [
       "$\\displaystyle b_{3} = b^{(2133)}_{1} b^{(2133)}_{3}$"
      ],
      "text/plain": [
       "<IPython.core.display.Math object>"
      ]
     },
     "metadata": {},
     "output_type": "display_data"
    },
    {
     "data": {
      "text/latex": [
       "$\\displaystyle \\left(a^{(2133)}_{3}\\right)^{2} \\left(b^{(2133)}_{1}\\right)^{2} \\left(b^{(2133)}_{2}\\right)^{2} \\left(b^{(2133)}_{3}\\right)^{2} \\left(a^{(2133)}_{1} + a^{(2133)}_{2} + 1\\right)^{2}$"
      ],
      "text/plain": [
       "<IPython.core.display.Math object>"
      ]
     },
     "metadata": {},
     "output_type": "display_data"
    },
    {
     "name": "stdout",
     "output_type": "stream",
     "text": [
      "\n",
      "-----------\n",
      "Is leaf. Is normal crossing? True\n"
     ]
    },
    {
     "data": {
      "text/latex": [
       "$\\displaystyle a^{(2132)}_{2} b^{(2132)}_{1} b^{(2132)}_{2} b^{(2132)}_{3} \\left(a^{(2132)}_{1} + a^{(2132)}_{3} + 1\\right)$"
      ],
      "text/plain": [
       "<IPython.core.display.Math object>"
      ]
     },
     "metadata": {},
     "output_type": "display_data"
    },
    {
     "data": {
      "text/latex": [
       "$\\displaystyle \\left(a^{(2132)}_{2}\\right)^{2} \\left(b^{(2132)}_{1}\\right)^{2} \\left(b^{(2132)}_{2}\\right)^{2} \\left(b^{(2132)}_{3}\\right)^{2}$"
      ],
      "text/plain": [
       "<IPython.core.display.Math object>"
      ]
     },
     "metadata": {},
     "output_type": "display_data"
    },
    {
     "name": "stdout",
     "output_type": "stream",
     "text": [
      "lambda_a_2^(2132)\n"
     ]
    },
    {
     "data": {
      "text/latex": [
       "$\\displaystyle \\lambda^{(2132)}_{a 2} = 3$"
      ],
      "text/plain": [
       "<IPython.core.display.Math object>"
      ]
     },
     "metadata": {},
     "output_type": "display_data"
    },
    {
     "name": "stdout",
     "output_type": "stream",
     "text": [
      "lambda_b_1^(2132)\n"
     ]
    },
    {
     "data": {
      "text/latex": [
       "$\\displaystyle \\lambda^{(2132)}_{b 1} = 3$"
      ],
      "text/plain": [
       "<IPython.core.display.Math object>"
      ]
     },
     "metadata": {},
     "output_type": "display_data"
    },
    {
     "name": "stdout",
     "output_type": "stream",
     "text": [
      "lambda_b_2^(2132)\n"
     ]
    },
    {
     "data": {
      "text/latex": [
       "$\\displaystyle \\lambda^{(2132)}_{b 2} = 3$"
      ],
      "text/plain": [
       "<IPython.core.display.Math object>"
      ]
     },
     "metadata": {},
     "output_type": "display_data"
    },
    {
     "name": "stdout",
     "output_type": "stream",
     "text": [
      "lambda_b_3^(2132)\n"
     ]
    },
    {
     "data": {
      "text/latex": [
       "$\\displaystyle \\lambda^{(2132)}_{b 3} = 3$"
      ],
      "text/plain": [
       "<IPython.core.display.Math object>"
      ]
     },
     "metadata": {},
     "output_type": "display_data"
    },
    {
     "data": {
      "text/latex": [
       "$\\displaystyle \\left[\\begin{matrix}a^{(2132)}_{2} b^{(2132)}_{3} & 0 & a^{(2132)}_{1} b^{(2132)}_{3} & 0 & 0 & a^{(2132)}_{1} a^{(2132)}_{2}\\\\0 & b^{(2132)}_{2} & 0 & b^{(2132)}_{1} & 0 & 0\\\\0 & a^{(2132)}_{2} b^{(2132)}_{3} & b^{(2132)}_{1} b^{(2132)}_{3} & 0 & 0 & a^{(2132)}_{2} b^{(2132)}_{1}\\\\0 & 0 & 0 & 1 & 0 & 0\\\\0 & 0 & a^{(2132)}_{3} b^{(2132)}_{2} & a^{(2132)}_{2} a^{(2132)}_{3} & a^{(2132)}_{2} b^{(2132)}_{2} & 0\\\\0 & b^{(2132)}_{3} & 0 & 0 & 0 & b^{(2132)}_{1}\\end{matrix}\\right]$"
      ],
      "text/plain": [
       "<IPython.core.display.Math object>"
      ]
     },
     "metadata": {},
     "output_type": "display_data"
    },
    {
     "data": {
      "text/latex": [
       "$\\displaystyle a_{1} = a^{(2132)}_{1} a^{(2132)}_{2} b^{(2132)}_{3}$"
      ],
      "text/plain": [
       "<IPython.core.display.Math object>"
      ]
     },
     "metadata": {},
     "output_type": "display_data"
    },
    {
     "data": {
      "text/latex": [
       "$\\displaystyle b_{1} = b^{(2132)}_{1} b^{(2132)}_{2}$"
      ],
      "text/plain": [
       "<IPython.core.display.Math object>"
      ]
     },
     "metadata": {},
     "output_type": "display_data"
    },
    {
     "data": {
      "text/latex": [
       "$\\displaystyle a_{2} = a^{(2132)}_{2} b^{(2132)}_{1} b^{(2132)}_{3}$"
      ],
      "text/plain": [
       "<IPython.core.display.Math object>"
      ]
     },
     "metadata": {},
     "output_type": "display_data"
    },
    {
     "data": {
      "text/latex": [
       "$\\displaystyle b_{2} = b^{(2132)}_{2}$"
      ],
      "text/plain": [
       "<IPython.core.display.Math object>"
      ]
     },
     "metadata": {},
     "output_type": "display_data"
    },
    {
     "data": {
      "text/latex": [
       "$\\displaystyle a_{3} = a^{(2132)}_{2} a^{(2132)}_{3} b^{(2132)}_{2}$"
      ],
      "text/plain": [
       "<IPython.core.display.Math object>"
      ]
     },
     "metadata": {},
     "output_type": "display_data"
    },
    {
     "data": {
      "text/latex": [
       "$\\displaystyle b_{3} = b^{(2132)}_{1} b^{(2132)}_{3}$"
      ],
      "text/plain": [
       "<IPython.core.display.Math object>"
      ]
     },
     "metadata": {},
     "output_type": "display_data"
    },
    {
     "data": {
      "text/latex": [
       "$\\displaystyle \\left(a^{(2132)}_{2}\\right)^{2} \\left(b^{(2132)}_{1}\\right)^{2} \\left(b^{(2132)}_{2}\\right)^{2} \\left(b^{(2132)}_{3}\\right)^{2} \\left(a^{(2132)}_{1} + a^{(2132)}_{3} + 1\\right)^{2}$"
      ],
      "text/plain": [
       "<IPython.core.display.Math object>"
      ]
     },
     "metadata": {},
     "output_type": "display_data"
    },
    {
     "name": "stdout",
     "output_type": "stream",
     "text": [
      "\n",
      "-----------\n",
      "Is leaf. Is normal crossing? True\n"
     ]
    },
    {
     "data": {
      "text/latex": [
       "$\\displaystyle a^{(2131)}_{1} b^{(2131)}_{1} b^{(2131)}_{2} b^{(2131)}_{3} \\left(a^{(2131)}_{2} + a^{(2131)}_{3} + 1\\right)$"
      ],
      "text/plain": [
       "<IPython.core.display.Math object>"
      ]
     },
     "metadata": {},
     "output_type": "display_data"
    },
    {
     "data": {
      "text/latex": [
       "$\\displaystyle \\left(a^{(2131)}_{1}\\right)^{2} \\left(b^{(2131)}_{1}\\right)^{2} \\left(b^{(2131)}_{2}\\right)^{2} \\left(b^{(2131)}_{3}\\right)^{2}$"
      ],
      "text/plain": [
       "<IPython.core.display.Math object>"
      ]
     },
     "metadata": {},
     "output_type": "display_data"
    },
    {
     "name": "stdout",
     "output_type": "stream",
     "text": [
      "lambda_a_1^(2131)\n"
     ]
    },
    {
     "data": {
      "text/latex": [
       "$\\displaystyle \\lambda^{(2131)}_{a 1} = 3$"
      ],
      "text/plain": [
       "<IPython.core.display.Math object>"
      ]
     },
     "metadata": {},
     "output_type": "display_data"
    },
    {
     "name": "stdout",
     "output_type": "stream",
     "text": [
      "lambda_b_1^(2131)\n"
     ]
    },
    {
     "data": {
      "text/latex": [
       "$\\displaystyle \\lambda^{(2131)}_{b 1} = 3$"
      ],
      "text/plain": [
       "<IPython.core.display.Math object>"
      ]
     },
     "metadata": {},
     "output_type": "display_data"
    },
    {
     "name": "stdout",
     "output_type": "stream",
     "text": [
      "lambda_b_2^(2131)\n"
     ]
    },
    {
     "data": {
      "text/latex": [
       "$\\displaystyle \\lambda^{(2131)}_{b 2} = 3$"
      ],
      "text/plain": [
       "<IPython.core.display.Math object>"
      ]
     },
     "metadata": {},
     "output_type": "display_data"
    },
    {
     "name": "stdout",
     "output_type": "stream",
     "text": [
      "lambda_b_3^(2131)\n"
     ]
    },
    {
     "data": {
      "text/latex": [
       "$\\displaystyle \\lambda^{(2131)}_{b 3} = 3$"
      ],
      "text/plain": [
       "<IPython.core.display.Math object>"
      ]
     },
     "metadata": {},
     "output_type": "display_data"
    },
    {
     "data": {
      "text/latex": [
       "$\\displaystyle \\left[\\begin{matrix}b^{(2131)}_{3} & 0 & 0 & 0 & 0 & a^{(2131)}_{1}\\\\0 & b^{(2131)}_{2} & 0 & b^{(2131)}_{1} & 0 & 0\\\\a^{(2131)}_{2} b^{(2131)}_{1} b^{(2131)}_{3} & a^{(2131)}_{1} a^{(2131)}_{2} b^{(2131)}_{3} & a^{(2131)}_{1} b^{(2131)}_{1} b^{(2131)}_{3} & 0 & 0 & a^{(2131)}_{1} a^{(2131)}_{2} b^{(2131)}_{1}\\\\0 & 0 & 0 & 1 & 0 & 0\\\\a^{(2131)}_{3} b^{(2131)}_{2} & 0 & 0 & a^{(2131)}_{1} a^{(2131)}_{3} & a^{(2131)}_{1} b^{(2131)}_{2} & 0\\\\0 & b^{(2131)}_{3} & 0 & 0 & 0 & b^{(2131)}_{1}\\end{matrix}\\right]$"
      ],
      "text/plain": [
       "<IPython.core.display.Math object>"
      ]
     },
     "metadata": {},
     "output_type": "display_data"
    },
    {
     "data": {
      "text/latex": [
       "$\\displaystyle a_{1} = a^{(2131)}_{1} b^{(2131)}_{3}$"
      ],
      "text/plain": [
       "<IPython.core.display.Math object>"
      ]
     },
     "metadata": {},
     "output_type": "display_data"
    },
    {
     "data": {
      "text/latex": [
       "$\\displaystyle b_{1} = b^{(2131)}_{1} b^{(2131)}_{2}$"
      ],
      "text/plain": [
       "<IPython.core.display.Math object>"
      ]
     },
     "metadata": {},
     "output_type": "display_data"
    },
    {
     "data": {
      "text/latex": [
       "$\\displaystyle a_{2} = a^{(2131)}_{1} a^{(2131)}_{2} b^{(2131)}_{1} b^{(2131)}_{3}$"
      ],
      "text/plain": [
       "<IPython.core.display.Math object>"
      ]
     },
     "metadata": {},
     "output_type": "display_data"
    },
    {
     "data": {
      "text/latex": [
       "$\\displaystyle b_{2} = b^{(2131)}_{2}$"
      ],
      "text/plain": [
       "<IPython.core.display.Math object>"
      ]
     },
     "metadata": {},
     "output_type": "display_data"
    },
    {
     "data": {
      "text/latex": [
       "$\\displaystyle a_{3} = a^{(2131)}_{1} a^{(2131)}_{3} b^{(2131)}_{2}$"
      ],
      "text/plain": [
       "<IPython.core.display.Math object>"
      ]
     },
     "metadata": {},
     "output_type": "display_data"
    },
    {
     "data": {
      "text/latex": [
       "$\\displaystyle b_{3} = b^{(2131)}_{1} b^{(2131)}_{3}$"
      ],
      "text/plain": [
       "<IPython.core.display.Math object>"
      ]
     },
     "metadata": {},
     "output_type": "display_data"
    },
    {
     "data": {
      "text/latex": [
       "$\\displaystyle \\left(a^{(2131)}_{1}\\right)^{2} \\left(b^{(2131)}_{1}\\right)^{2} \\left(b^{(2131)}_{2}\\right)^{2} \\left(b^{(2131)}_{3}\\right)^{2} \\left(a^{(2131)}_{2} + a^{(2131)}_{3} + 1\\right)^{2}$"
      ],
      "text/plain": [
       "<IPython.core.display.Math object>"
      ]
     },
     "metadata": {},
     "output_type": "display_data"
    },
    {
     "name": "stdout",
     "output_type": "stream",
     "text": [
      "\n",
      "-----------\n",
      "Is leaf. Is normal crossing? True\n"
     ]
    },
    {
     "data": {
      "text/latex": [
       "$\\displaystyle a^{(212)}_{2} b^{(212)}_{1} b^{(212)}_{2} \\left(a^{(212)}_{1} + a^{(212)}_{3} b^{(212)}_{3} + 1\\right)$"
      ],
      "text/plain": [
       "<IPython.core.display.Math object>"
      ]
     },
     "metadata": {},
     "output_type": "display_data"
    },
    {
     "data": {
      "text/latex": [
       "$\\displaystyle \\left(a^{(212)}_{2}\\right)^{2} \\left(b^{(212)}_{1}\\right)^{2} \\left(b^{(212)}_{2}\\right)^{2}$"
      ],
      "text/plain": [
       "<IPython.core.display.Math object>"
      ]
     },
     "metadata": {},
     "output_type": "display_data"
    },
    {
     "name": "stdout",
     "output_type": "stream",
     "text": [
      "lambda_a_2^(212)\n"
     ]
    },
    {
     "data": {
      "text/latex": [
       "$\\displaystyle \\lambda^{(212)}_{a 2} = 3$"
      ],
      "text/plain": [
       "<IPython.core.display.Math object>"
      ]
     },
     "metadata": {},
     "output_type": "display_data"
    },
    {
     "name": "stdout",
     "output_type": "stream",
     "text": [
      "lambda_b_1^(212)\n"
     ]
    },
    {
     "data": {
      "text/latex": [
       "$\\displaystyle \\lambda^{(212)}_{b 1} = 3$"
      ],
      "text/plain": [
       "<IPython.core.display.Math object>"
      ]
     },
     "metadata": {},
     "output_type": "display_data"
    },
    {
     "name": "stdout",
     "output_type": "stream",
     "text": [
      "lambda_b_2^(212)\n"
     ]
    },
    {
     "data": {
      "text/latex": [
       "$\\displaystyle \\lambda^{(212)}_{b 2} = 3$"
      ],
      "text/plain": [
       "<IPython.core.display.Math object>"
      ]
     },
     "metadata": {},
     "output_type": "display_data"
    },
    {
     "data": {
      "text/latex": [
       "$\\displaystyle \\left[\\begin{matrix}a^{(212)}_{2} & 0 & a^{(212)}_{1} & 0 & 0 & 0\\\\0 & b^{(212)}_{2} & 0 & b^{(212)}_{1} & 0 & 0\\\\0 & a^{(212)}_{2} & b^{(212)}_{1} & 0 & 0 & 0\\\\0 & 0 & 0 & 1 & 0 & 0\\\\0 & 0 & 0 & a^{(212)}_{3} & b^{(212)}_{2} & 0\\\\0 & a^{(212)}_{2} b^{(212)}_{3} & b^{(212)}_{1} b^{(212)}_{3} & 0 & 0 & a^{(212)}_{2} b^{(212)}_{1}\\end{matrix}\\right]$"
      ],
      "text/plain": [
       "<IPython.core.display.Math object>"
      ]
     },
     "metadata": {},
     "output_type": "display_data"
    },
    {
     "data": {
      "text/latex": [
       "$\\displaystyle a_{1} = a^{(212)}_{1} a^{(212)}_{2}$"
      ],
      "text/plain": [
       "<IPython.core.display.Math object>"
      ]
     },
     "metadata": {},
     "output_type": "display_data"
    },
    {
     "data": {
      "text/latex": [
       "$\\displaystyle b_{1} = b^{(212)}_{1} b^{(212)}_{2}$"
      ],
      "text/plain": [
       "<IPython.core.display.Math object>"
      ]
     },
     "metadata": {},
     "output_type": "display_data"
    },
    {
     "data": {
      "text/latex": [
       "$\\displaystyle a_{2} = a^{(212)}_{2} b^{(212)}_{1}$"
      ],
      "text/plain": [
       "<IPython.core.display.Math object>"
      ]
     },
     "metadata": {},
     "output_type": "display_data"
    },
    {
     "data": {
      "text/latex": [
       "$\\displaystyle b_{2} = b^{(212)}_{2}$"
      ],
      "text/plain": [
       "<IPython.core.display.Math object>"
      ]
     },
     "metadata": {},
     "output_type": "display_data"
    },
    {
     "data": {
      "text/latex": [
       "$\\displaystyle a_{3} = a^{(212)}_{3} b^{(212)}_{2}$"
      ],
      "text/plain": [
       "<IPython.core.display.Math object>"
      ]
     },
     "metadata": {},
     "output_type": "display_data"
    },
    {
     "data": {
      "text/latex": [
       "$\\displaystyle b_{3} = a^{(212)}_{2} b^{(212)}_{1} b^{(212)}_{3}$"
      ],
      "text/plain": [
       "<IPython.core.display.Math object>"
      ]
     },
     "metadata": {},
     "output_type": "display_data"
    },
    {
     "data": {
      "text/latex": [
       "$\\displaystyle \\left(a^{(212)}_{2}\\right)^{2} \\left(b^{(212)}_{1}\\right)^{2} \\left(b^{(212)}_{2}\\right)^{2} \\left(a^{(212)}_{1} + a^{(212)}_{3} b^{(212)}_{3} + 1\\right)^{2}$"
      ],
      "text/plain": [
       "<IPython.core.display.Math object>"
      ]
     },
     "metadata": {},
     "output_type": "display_data"
    },
    {
     "name": "stdout",
     "output_type": "stream",
     "text": [
      "\n",
      "-----------\n",
      "Is leaf. Is normal crossing? True\n"
     ]
    },
    {
     "data": {
      "text/latex": [
       "$\\displaystyle a^{(211)}_{1} b^{(211)}_{1} b^{(211)}_{2} \\left(a^{(211)}_{2} + a^{(211)}_{3} b^{(211)}_{3} + 1\\right)$"
      ],
      "text/plain": [
       "<IPython.core.display.Math object>"
      ]
     },
     "metadata": {},
     "output_type": "display_data"
    },
    {
     "data": {
      "text/latex": [
       "$\\displaystyle \\left(a^{(211)}_{1}\\right)^{2} \\left(b^{(211)}_{1}\\right)^{2} \\left(b^{(211)}_{2}\\right)^{2}$"
      ],
      "text/plain": [
       "<IPython.core.display.Math object>"
      ]
     },
     "metadata": {},
     "output_type": "display_data"
    },
    {
     "name": "stdout",
     "output_type": "stream",
     "text": [
      "lambda_a_1^(211)\n"
     ]
    },
    {
     "data": {
      "text/latex": [
       "$\\displaystyle \\lambda^{(211)}_{a 1} = 3$"
      ],
      "text/plain": [
       "<IPython.core.display.Math object>"
      ]
     },
     "metadata": {},
     "output_type": "display_data"
    },
    {
     "name": "stdout",
     "output_type": "stream",
     "text": [
      "lambda_b_1^(211)\n"
     ]
    },
    {
     "data": {
      "text/latex": [
       "$\\displaystyle \\lambda^{(211)}_{b 1} = 3$"
      ],
      "text/plain": [
       "<IPython.core.display.Math object>"
      ]
     },
     "metadata": {},
     "output_type": "display_data"
    },
    {
     "name": "stdout",
     "output_type": "stream",
     "text": [
      "lambda_b_2^(211)\n"
     ]
    },
    {
     "data": {
      "text/latex": [
       "$\\displaystyle \\lambda^{(211)}_{b 2} = 3$"
      ],
      "text/plain": [
       "<IPython.core.display.Math object>"
      ]
     },
     "metadata": {},
     "output_type": "display_data"
    },
    {
     "data": {
      "text/latex": [
       "$\\displaystyle \\left[\\begin{matrix}1 & 0 & 0 & 0 & 0 & 0\\\\0 & b^{(211)}_{2} & 0 & b^{(211)}_{1} & 0 & 0\\\\a^{(211)}_{2} b^{(211)}_{1} & a^{(211)}_{1} a^{(211)}_{2} & a^{(211)}_{1} b^{(211)}_{1} & 0 & 0 & 0\\\\0 & 0 & 0 & 1 & 0 & 0\\\\0 & 0 & 0 & a^{(211)}_{3} & b^{(211)}_{2} & 0\\\\b^{(211)}_{1} b^{(211)}_{3} & a^{(211)}_{1} b^{(211)}_{3} & 0 & 0 & 0 & a^{(211)}_{1} b^{(211)}_{1}\\end{matrix}\\right]$"
      ],
      "text/plain": [
       "<IPython.core.display.Math object>"
      ]
     },
     "metadata": {},
     "output_type": "display_data"
    },
    {
     "data": {
      "text/latex": [
       "$\\displaystyle a_{1} = a^{(211)}_{1}$"
      ],
      "text/plain": [
       "<IPython.core.display.Math object>"
      ]
     },
     "metadata": {},
     "output_type": "display_data"
    },
    {
     "data": {
      "text/latex": [
       "$\\displaystyle b_{1} = b^{(211)}_{1} b^{(211)}_{2}$"
      ],
      "text/plain": [
       "<IPython.core.display.Math object>"
      ]
     },
     "metadata": {},
     "output_type": "display_data"
    },
    {
     "data": {
      "text/latex": [
       "$\\displaystyle a_{2} = a^{(211)}_{1} a^{(211)}_{2} b^{(211)}_{1}$"
      ],
      "text/plain": [
       "<IPython.core.display.Math object>"
      ]
     },
     "metadata": {},
     "output_type": "display_data"
    },
    {
     "data": {
      "text/latex": [
       "$\\displaystyle b_{2} = b^{(211)}_{2}$"
      ],
      "text/plain": [
       "<IPython.core.display.Math object>"
      ]
     },
     "metadata": {},
     "output_type": "display_data"
    },
    {
     "data": {
      "text/latex": [
       "$\\displaystyle a_{3} = a^{(211)}_{3} b^{(211)}_{2}$"
      ],
      "text/plain": [
       "<IPython.core.display.Math object>"
      ]
     },
     "metadata": {},
     "output_type": "display_data"
    },
    {
     "data": {
      "text/latex": [
       "$\\displaystyle b_{3} = a^{(211)}_{1} b^{(211)}_{1} b^{(211)}_{3}$"
      ],
      "text/plain": [
       "<IPython.core.display.Math object>"
      ]
     },
     "metadata": {},
     "output_type": "display_data"
    },
    {
     "data": {
      "text/latex": [
       "$\\displaystyle \\left(a^{(211)}_{1}\\right)^{2} \\left(b^{(211)}_{1}\\right)^{2} \\left(b^{(211)}_{2}\\right)^{2} \\left(a^{(211)}_{2} + a^{(211)}_{3} b^{(211)}_{3} + 1\\right)^{2}$"
      ],
      "text/plain": [
       "<IPython.core.display.Math object>"
      ]
     },
     "metadata": {},
     "output_type": "display_data"
    },
    {
     "name": "stdout",
     "output_type": "stream",
     "text": [
      "\n",
      "-----------\n",
      "Is leaf. Is normal crossing? True\n"
     ]
    },
    {
     "data": {
      "text/latex": [
       "$\\displaystyle a^{(133)}_{3} b^{(133)}_{1} b^{(133)}_{3} \\left(a^{(133)}_{1} + a^{(133)}_{2} b^{(133)}_{2} + 1\\right)$"
      ],
      "text/plain": [
       "<IPython.core.display.Math object>"
      ]
     },
     "metadata": {},
     "output_type": "display_data"
    },
    {
     "data": {
      "text/latex": [
       "$\\displaystyle \\left(a^{(133)}_{3}\\right)^{2} \\left(b^{(133)}_{1}\\right)^{2} \\left(b^{(133)}_{3}\\right)^{2}$"
      ],
      "text/plain": [
       "<IPython.core.display.Math object>"
      ]
     },
     "metadata": {},
     "output_type": "display_data"
    },
    {
     "name": "stdout",
     "output_type": "stream",
     "text": [
      "lambda_a_3^(133)\n"
     ]
    },
    {
     "data": {
      "text/latex": [
       "$\\displaystyle \\lambda^{(133)}_{a 3} = 3$"
      ],
      "text/plain": [
       "<IPython.core.display.Math object>"
      ]
     },
     "metadata": {},
     "output_type": "display_data"
    },
    {
     "name": "stdout",
     "output_type": "stream",
     "text": [
      "lambda_b_1^(133)\n"
     ]
    },
    {
     "data": {
      "text/latex": [
       "$\\displaystyle \\lambda^{(133)}_{b 1} = 3$"
      ],
      "text/plain": [
       "<IPython.core.display.Math object>"
      ]
     },
     "metadata": {},
     "output_type": "display_data"
    },
    {
     "name": "stdout",
     "output_type": "stream",
     "text": [
      "lambda_b_3^(133)\n"
     ]
    },
    {
     "data": {
      "text/latex": [
       "$\\displaystyle \\lambda^{(133)}_{b 3} = 3$"
      ],
      "text/plain": [
       "<IPython.core.display.Math object>"
      ]
     },
     "metadata": {},
     "output_type": "display_data"
    },
    {
     "data": {
      "text/latex": [
       "$\\displaystyle \\left[\\begin{matrix}a^{(133)}_{3} b^{(133)}_{3} & 0 & 0 & 0 & a^{(133)}_{1} b^{(133)}_{3} & a^{(133)}_{1} a^{(133)}_{3}\\\\0 & 1 & 0 & 0 & 0 & 0\\\\0 & 0 & b^{(133)}_{3} & 0 & 0 & a^{(133)}_{2}\\\\0 & a^{(133)}_{3} b^{(133)}_{2} & 0 & a^{(133)}_{3} b^{(133)}_{1} & b^{(133)}_{1} b^{(133)}_{2} & 0\\\\0 & a^{(133)}_{3} & 0 & 0 & b^{(133)}_{1} & 0\\\\0 & 0 & 0 & 0 & 0 & 1\\end{matrix}\\right]$"
      ],
      "text/plain": [
       "<IPython.core.display.Math object>"
      ]
     },
     "metadata": {},
     "output_type": "display_data"
    },
    {
     "data": {
      "text/latex": [
       "$\\displaystyle a_{1} = a^{(133)}_{1} a^{(133)}_{3} b^{(133)}_{3}$"
      ],
      "text/plain": [
       "<IPython.core.display.Math object>"
      ]
     },
     "metadata": {},
     "output_type": "display_data"
    },
    {
     "data": {
      "text/latex": [
       "$\\displaystyle b_{1} = b^{(133)}_{1}$"
      ],
      "text/plain": [
       "<IPython.core.display.Math object>"
      ]
     },
     "metadata": {},
     "output_type": "display_data"
    },
    {
     "data": {
      "text/latex": [
       "$\\displaystyle a_{2} = a^{(133)}_{2} b^{(133)}_{3}$"
      ],
      "text/plain": [
       "<IPython.core.display.Math object>"
      ]
     },
     "metadata": {},
     "output_type": "display_data"
    },
    {
     "data": {
      "text/latex": [
       "$\\displaystyle b_{2} = a^{(133)}_{3} b^{(133)}_{1} b^{(133)}_{2}$"
      ],
      "text/plain": [
       "<IPython.core.display.Math object>"
      ]
     },
     "metadata": {},
     "output_type": "display_data"
    },
    {
     "data": {
      "text/latex": [
       "$\\displaystyle a_{3} = a^{(133)}_{3} b^{(133)}_{1}$"
      ],
      "text/plain": [
       "<IPython.core.display.Math object>"
      ]
     },
     "metadata": {},
     "output_type": "display_data"
    },
    {
     "data": {
      "text/latex": [
       "$\\displaystyle b_{3} = b^{(133)}_{3}$"
      ],
      "text/plain": [
       "<IPython.core.display.Math object>"
      ]
     },
     "metadata": {},
     "output_type": "display_data"
    },
    {
     "data": {
      "text/latex": [
       "$\\displaystyle \\left(a^{(133)}_{3}\\right)^{2} \\left(b^{(133)}_{1}\\right)^{2} \\left(b^{(133)}_{3}\\right)^{2} \\left(a^{(133)}_{1} + a^{(133)}_{2} b^{(133)}_{2} + 1\\right)^{2}$"
      ],
      "text/plain": [
       "<IPython.core.display.Math object>"
      ]
     },
     "metadata": {},
     "output_type": "display_data"
    },
    {
     "name": "stdout",
     "output_type": "stream",
     "text": [
      "\n",
      "-----------\n",
      "Is leaf. Is normal crossing? True\n"
     ]
    },
    {
     "data": {
      "text/latex": [
       "$\\displaystyle a^{(1323)}_{3} b^{(1323)}_{1} b^{(1323)}_{2} b^{(1323)}_{3} \\left(a^{(1323)}_{1} + a^{(1323)}_{2} + 1\\right)$"
      ],
      "text/plain": [
       "<IPython.core.display.Math object>"
      ]
     },
     "metadata": {},
     "output_type": "display_data"
    },
    {
     "data": {
      "text/latex": [
       "$\\displaystyle \\left(a^{(1323)}_{3}\\right)^{2} \\left(b^{(1323)}_{1}\\right)^{2} \\left(b^{(1323)}_{2}\\right)^{2} \\left(b^{(1323)}_{3}\\right)^{2}$"
      ],
      "text/plain": [
       "<IPython.core.display.Math object>"
      ]
     },
     "metadata": {},
     "output_type": "display_data"
    },
    {
     "name": "stdout",
     "output_type": "stream",
     "text": [
      "lambda_a_3^(1323)\n"
     ]
    },
    {
     "data": {
      "text/latex": [
       "$\\displaystyle \\lambda^{(1323)}_{a 3} = 3$"
      ],
      "text/plain": [
       "<IPython.core.display.Math object>"
      ]
     },
     "metadata": {},
     "output_type": "display_data"
    },
    {
     "name": "stdout",
     "output_type": "stream",
     "text": [
      "lambda_b_1^(1323)\n"
     ]
    },
    {
     "data": {
      "text/latex": [
       "$\\displaystyle \\lambda^{(1323)}_{b 1} = 3$"
      ],
      "text/plain": [
       "<IPython.core.display.Math object>"
      ]
     },
     "metadata": {},
     "output_type": "display_data"
    },
    {
     "name": "stdout",
     "output_type": "stream",
     "text": [
      "lambda_b_2^(1323)\n"
     ]
    },
    {
     "data": {
      "text/latex": [
       "$\\displaystyle \\lambda^{(1323)}_{b 2} = 3$"
      ],
      "text/plain": [
       "<IPython.core.display.Math object>"
      ]
     },
     "metadata": {},
     "output_type": "display_data"
    },
    {
     "name": "stdout",
     "output_type": "stream",
     "text": [
      "lambda_b_3^(1323)\n"
     ]
    },
    {
     "data": {
      "text/latex": [
       "$\\displaystyle \\lambda^{(1323)}_{b 3} = 3$"
      ],
      "text/plain": [
       "<IPython.core.display.Math object>"
      ]
     },
     "metadata": {},
     "output_type": "display_data"
    },
    {
     "data": {
      "text/latex": [
       "$\\displaystyle \\left[\\begin{matrix}a^{(1323)}_{3} b^{(1323)}_{2} b^{(1323)}_{3} & 0 & 0 & a^{(1323)}_{1} a^{(1323)}_{3} b^{(1323)}_{3} & a^{(1323)}_{1} b^{(1323)}_{2} b^{(1323)}_{3} & a^{(1323)}_{1} a^{(1323)}_{3} b^{(1323)}_{2}\\\\0 & 1 & 0 & 0 & 0 & 0\\\\0 & 0 & a^{(1323)}_{3} b^{(1323)}_{3} & 0 & a^{(1323)}_{2} b^{(1323)}_{3} & a^{(1323)}_{2} a^{(1323)}_{3}\\\\0 & b^{(1323)}_{2} & 0 & b^{(1323)}_{1} & 0 & 0\\\\0 & a^{(1323)}_{3} b^{(1323)}_{2} & 0 & a^{(1323)}_{3} b^{(1323)}_{1} & b^{(1323)}_{1} b^{(1323)}_{2} & 0\\\\0 & 0 & 0 & 0 & 0 & 1\\end{matrix}\\right]$"
      ],
      "text/plain": [
       "<IPython.core.display.Math object>"
      ]
     },
     "metadata": {},
     "output_type": "display_data"
    },
    {
     "data": {
      "text/latex": [
       "$\\displaystyle a_{1} = a^{(1323)}_{1} a^{(1323)}_{3} b^{(1323)}_{2} b^{(1323)}_{3}$"
      ],
      "text/plain": [
       "<IPython.core.display.Math object>"
      ]
     },
     "metadata": {},
     "output_type": "display_data"
    },
    {
     "data": {
      "text/latex": [
       "$\\displaystyle b_{1} = b^{(1323)}_{1}$"
      ],
      "text/plain": [
       "<IPython.core.display.Math object>"
      ]
     },
     "metadata": {},
     "output_type": "display_data"
    },
    {
     "data": {
      "text/latex": [
       "$\\displaystyle a_{2} = a^{(1323)}_{2} a^{(1323)}_{3} b^{(1323)}_{3}$"
      ],
      "text/plain": [
       "<IPython.core.display.Math object>"
      ]
     },
     "metadata": {},
     "output_type": "display_data"
    },
    {
     "data": {
      "text/latex": [
       "$\\displaystyle b_{2} = b^{(1323)}_{1} b^{(1323)}_{2}$"
      ],
      "text/plain": [
       "<IPython.core.display.Math object>"
      ]
     },
     "metadata": {},
     "output_type": "display_data"
    },
    {
     "data": {
      "text/latex": [
       "$\\displaystyle a_{3} = a^{(1323)}_{3} b^{(1323)}_{1} b^{(1323)}_{2}$"
      ],
      "text/plain": [
       "<IPython.core.display.Math object>"
      ]
     },
     "metadata": {},
     "output_type": "display_data"
    },
    {
     "data": {
      "text/latex": [
       "$\\displaystyle b_{3} = b^{(1323)}_{3}$"
      ],
      "text/plain": [
       "<IPython.core.display.Math object>"
      ]
     },
     "metadata": {},
     "output_type": "display_data"
    },
    {
     "data": {
      "text/latex": [
       "$\\displaystyle \\left(a^{(1323)}_{3}\\right)^{2} \\left(b^{(1323)}_{1}\\right)^{2} \\left(b^{(1323)}_{2}\\right)^{2} \\left(b^{(1323)}_{3}\\right)^{2} \\left(a^{(1323)}_{1} + a^{(1323)}_{2} + 1\\right)^{2}$"
      ],
      "text/plain": [
       "<IPython.core.display.Math object>"
      ]
     },
     "metadata": {},
     "output_type": "display_data"
    },
    {
     "name": "stdout",
     "output_type": "stream",
     "text": [
      "\n",
      "-----------\n",
      "Is leaf. Is normal crossing? True\n"
     ]
    },
    {
     "data": {
      "text/latex": [
       "$\\displaystyle a^{(1322)}_{2} b^{(1322)}_{1} b^{(1322)}_{2} b^{(1322)}_{3} \\left(a^{(1322)}_{1} + a^{(1322)}_{3} + 1\\right)$"
      ],
      "text/plain": [
       "<IPython.core.display.Math object>"
      ]
     },
     "metadata": {},
     "output_type": "display_data"
    },
    {
     "data": {
      "text/latex": [
       "$\\displaystyle \\left(a^{(1322)}_{2}\\right)^{2} \\left(b^{(1322)}_{1}\\right)^{2} \\left(b^{(1322)}_{2}\\right)^{2} \\left(b^{(1322)}_{3}\\right)^{2}$"
      ],
      "text/plain": [
       "<IPython.core.display.Math object>"
      ]
     },
     "metadata": {},
     "output_type": "display_data"
    },
    {
     "name": "stdout",
     "output_type": "stream",
     "text": [
      "lambda_a_2^(1322)\n"
     ]
    },
    {
     "data": {
      "text/latex": [
       "$\\displaystyle \\lambda^{(1322)}_{a 2} = 3$"
      ],
      "text/plain": [
       "<IPython.core.display.Math object>"
      ]
     },
     "metadata": {},
     "output_type": "display_data"
    },
    {
     "name": "stdout",
     "output_type": "stream",
     "text": [
      "lambda_b_1^(1322)\n"
     ]
    },
    {
     "data": {
      "text/latex": [
       "$\\displaystyle \\lambda^{(1322)}_{b 1} = 3$"
      ],
      "text/plain": [
       "<IPython.core.display.Math object>"
      ]
     },
     "metadata": {},
     "output_type": "display_data"
    },
    {
     "name": "stdout",
     "output_type": "stream",
     "text": [
      "lambda_b_2^(1322)\n"
     ]
    },
    {
     "data": {
      "text/latex": [
       "$\\displaystyle \\lambda^{(1322)}_{b 2} = 3$"
      ],
      "text/plain": [
       "<IPython.core.display.Math object>"
      ]
     },
     "metadata": {},
     "output_type": "display_data"
    },
    {
     "name": "stdout",
     "output_type": "stream",
     "text": [
      "lambda_b_3^(1322)\n"
     ]
    },
    {
     "data": {
      "text/latex": [
       "$\\displaystyle \\lambda^{(1322)}_{b 3} = 3$"
      ],
      "text/plain": [
       "<IPython.core.display.Math object>"
      ]
     },
     "metadata": {},
     "output_type": "display_data"
    },
    {
     "data": {
      "text/latex": [
       "$\\displaystyle \\left[\\begin{matrix}a^{(1322)}_{2} b^{(1322)}_{2} b^{(1322)}_{3} & 0 & a^{(1322)}_{1} b^{(1322)}_{2} b^{(1322)}_{3} & a^{(1322)}_{1} a^{(1322)}_{2} b^{(1322)}_{3} & 0 & a^{(1322)}_{1} a^{(1322)}_{2} b^{(1322)}_{2}\\\\0 & 1 & 0 & 0 & 0 & 0\\\\0 & 0 & b^{(1322)}_{3} & 0 & 0 & a^{(1322)}_{2}\\\\0 & b^{(1322)}_{2} & 0 & b^{(1322)}_{1} & 0 & 0\\\\0 & a^{(1322)}_{2} a^{(1322)}_{3} b^{(1322)}_{2} & a^{(1322)}_{3} b^{(1322)}_{1} b^{(1322)}_{2} & a^{(1322)}_{2} a^{(1322)}_{3} b^{(1322)}_{1} & a^{(1322)}_{2} b^{(1322)}_{1} b^{(1322)}_{2} & 0\\\\0 & 0 & 0 & 0 & 0 & 1\\end{matrix}\\right]$"
      ],
      "text/plain": [
       "<IPython.core.display.Math object>"
      ]
     },
     "metadata": {},
     "output_type": "display_data"
    },
    {
     "data": {
      "text/latex": [
       "$\\displaystyle a_{1} = a^{(1322)}_{1} a^{(1322)}_{2} b^{(1322)}_{2} b^{(1322)}_{3}$"
      ],
      "text/plain": [
       "<IPython.core.display.Math object>"
      ]
     },
     "metadata": {},
     "output_type": "display_data"
    },
    {
     "data": {
      "text/latex": [
       "$\\displaystyle b_{1} = b^{(1322)}_{1}$"
      ],
      "text/plain": [
       "<IPython.core.display.Math object>"
      ]
     },
     "metadata": {},
     "output_type": "display_data"
    },
    {
     "data": {
      "text/latex": [
       "$\\displaystyle a_{2} = a^{(1322)}_{2} b^{(1322)}_{3}$"
      ],
      "text/plain": [
       "<IPython.core.display.Math object>"
      ]
     },
     "metadata": {},
     "output_type": "display_data"
    },
    {
     "data": {
      "text/latex": [
       "$\\displaystyle b_{2} = b^{(1322)}_{1} b^{(1322)}_{2}$"
      ],
      "text/plain": [
       "<IPython.core.display.Math object>"
      ]
     },
     "metadata": {},
     "output_type": "display_data"
    },
    {
     "data": {
      "text/latex": [
       "$\\displaystyle a_{3} = a^{(1322)}_{2} a^{(1322)}_{3} b^{(1322)}_{1} b^{(1322)}_{2}$"
      ],
      "text/plain": [
       "<IPython.core.display.Math object>"
      ]
     },
     "metadata": {},
     "output_type": "display_data"
    },
    {
     "data": {
      "text/latex": [
       "$\\displaystyle b_{3} = b^{(1322)}_{3}$"
      ],
      "text/plain": [
       "<IPython.core.display.Math object>"
      ]
     },
     "metadata": {},
     "output_type": "display_data"
    },
    {
     "data": {
      "text/latex": [
       "$\\displaystyle \\left(a^{(1322)}_{2}\\right)^{2} \\left(b^{(1322)}_{1}\\right)^{2} \\left(b^{(1322)}_{2}\\right)^{2} \\left(b^{(1322)}_{3}\\right)^{2} \\left(a^{(1322)}_{1} + a^{(1322)}_{3} + 1\\right)^{2}$"
      ],
      "text/plain": [
       "<IPython.core.display.Math object>"
      ]
     },
     "metadata": {},
     "output_type": "display_data"
    },
    {
     "name": "stdout",
     "output_type": "stream",
     "text": [
      "\n",
      "-----------\n",
      "Is leaf. Is normal crossing? True\n"
     ]
    },
    {
     "data": {
      "text/latex": [
       "$\\displaystyle a^{(1321)}_{1} b^{(1321)}_{1} b^{(1321)}_{2} b^{(1321)}_{3} \\left(a^{(1321)}_{2} + a^{(1321)}_{3} + 1\\right)$"
      ],
      "text/plain": [
       "<IPython.core.display.Math object>"
      ]
     },
     "metadata": {},
     "output_type": "display_data"
    },
    {
     "data": {
      "text/latex": [
       "$\\displaystyle \\left(a^{(1321)}_{1}\\right)^{2} \\left(b^{(1321)}_{1}\\right)^{2} \\left(b^{(1321)}_{2}\\right)^{2} \\left(b^{(1321)}_{3}\\right)^{2}$"
      ],
      "text/plain": [
       "<IPython.core.display.Math object>"
      ]
     },
     "metadata": {},
     "output_type": "display_data"
    },
    {
     "name": "stdout",
     "output_type": "stream",
     "text": [
      "lambda_a_1^(1321)\n"
     ]
    },
    {
     "data": {
      "text/latex": [
       "$\\displaystyle \\lambda^{(1321)}_{a 1} = 3$"
      ],
      "text/plain": [
       "<IPython.core.display.Math object>"
      ]
     },
     "metadata": {},
     "output_type": "display_data"
    },
    {
     "name": "stdout",
     "output_type": "stream",
     "text": [
      "lambda_b_1^(1321)\n"
     ]
    },
    {
     "data": {
      "text/latex": [
       "$\\displaystyle \\lambda^{(1321)}_{b 1} = 3$"
      ],
      "text/plain": [
       "<IPython.core.display.Math object>"
      ]
     },
     "metadata": {},
     "output_type": "display_data"
    },
    {
     "name": "stdout",
     "output_type": "stream",
     "text": [
      "lambda_b_2^(1321)\n"
     ]
    },
    {
     "data": {
      "text/latex": [
       "$\\displaystyle \\lambda^{(1321)}_{b 2} = 3$"
      ],
      "text/plain": [
       "<IPython.core.display.Math object>"
      ]
     },
     "metadata": {},
     "output_type": "display_data"
    },
    {
     "name": "stdout",
     "output_type": "stream",
     "text": [
      "lambda_b_3^(1321)\n"
     ]
    },
    {
     "data": {
      "text/latex": [
       "$\\displaystyle \\lambda^{(1321)}_{b 3} = 3$"
      ],
      "text/plain": [
       "<IPython.core.display.Math object>"
      ]
     },
     "metadata": {},
     "output_type": "display_data"
    },
    {
     "data": {
      "text/latex": [
       "$\\displaystyle \\left[\\begin{matrix}b^{(1321)}_{2} b^{(1321)}_{3} & 0 & 0 & a^{(1321)}_{1} b^{(1321)}_{3} & 0 & a^{(1321)}_{1} b^{(1321)}_{2}\\\\0 & 1 & 0 & 0 & 0 & 0\\\\a^{(1321)}_{2} b^{(1321)}_{3} & 0 & a^{(1321)}_{1} b^{(1321)}_{3} & 0 & 0 & a^{(1321)}_{1} a^{(1321)}_{2}\\\\0 & b^{(1321)}_{2} & 0 & b^{(1321)}_{1} & 0 & 0\\\\a^{(1321)}_{3} b^{(1321)}_{1} b^{(1321)}_{2} & a^{(1321)}_{1} a^{(1321)}_{3} b^{(1321)}_{2} & 0 & a^{(1321)}_{1} a^{(1321)}_{3} b^{(1321)}_{1} & a^{(1321)}_{1} b^{(1321)}_{1} b^{(1321)}_{2} & 0\\\\0 & 0 & 0 & 0 & 0 & 1\\end{matrix}\\right]$"
      ],
      "text/plain": [
       "<IPython.core.display.Math object>"
      ]
     },
     "metadata": {},
     "output_type": "display_data"
    },
    {
     "data": {
      "text/latex": [
       "$\\displaystyle a_{1} = a^{(1321)}_{1} b^{(1321)}_{2} b^{(1321)}_{3}$"
      ],
      "text/plain": [
       "<IPython.core.display.Math object>"
      ]
     },
     "metadata": {},
     "output_type": "display_data"
    },
    {
     "data": {
      "text/latex": [
       "$\\displaystyle b_{1} = b^{(1321)}_{1}$"
      ],
      "text/plain": [
       "<IPython.core.display.Math object>"
      ]
     },
     "metadata": {},
     "output_type": "display_data"
    },
    {
     "data": {
      "text/latex": [
       "$\\displaystyle a_{2} = a^{(1321)}_{1} a^{(1321)}_{2} b^{(1321)}_{3}$"
      ],
      "text/plain": [
       "<IPython.core.display.Math object>"
      ]
     },
     "metadata": {},
     "output_type": "display_data"
    },
    {
     "data": {
      "text/latex": [
       "$\\displaystyle b_{2} = b^{(1321)}_{1} b^{(1321)}_{2}$"
      ],
      "text/plain": [
       "<IPython.core.display.Math object>"
      ]
     },
     "metadata": {},
     "output_type": "display_data"
    },
    {
     "data": {
      "text/latex": [
       "$\\displaystyle a_{3} = a^{(1321)}_{1} a^{(1321)}_{3} b^{(1321)}_{1} b^{(1321)}_{2}$"
      ],
      "text/plain": [
       "<IPython.core.display.Math object>"
      ]
     },
     "metadata": {},
     "output_type": "display_data"
    },
    {
     "data": {
      "text/latex": [
       "$\\displaystyle b_{3} = b^{(1321)}_{3}$"
      ],
      "text/plain": [
       "<IPython.core.display.Math object>"
      ]
     },
     "metadata": {},
     "output_type": "display_data"
    },
    {
     "data": {
      "text/latex": [
       "$\\displaystyle \\left(a^{(1321)}_{1}\\right)^{2} \\left(b^{(1321)}_{1}\\right)^{2} \\left(b^{(1321)}_{2}\\right)^{2} \\left(b^{(1321)}_{3}\\right)^{2} \\left(a^{(1321)}_{2} + a^{(1321)}_{3} + 1\\right)^{2}$"
      ],
      "text/plain": [
       "<IPython.core.display.Math object>"
      ]
     },
     "metadata": {},
     "output_type": "display_data"
    },
    {
     "name": "stdout",
     "output_type": "stream",
     "text": [
      "\n",
      "-----------\n",
      "Is leaf. Is normal crossing? True\n"
     ]
    },
    {
     "data": {
      "text/latex": [
       "$\\displaystyle a^{(131)}_{1} b^{(131)}_{1} b^{(131)}_{3} \\left(a^{(131)}_{2} b^{(131)}_{2} + a^{(131)}_{3} + 1\\right)$"
      ],
      "text/plain": [
       "<IPython.core.display.Math object>"
      ]
     },
     "metadata": {},
     "output_type": "display_data"
    },
    {
     "data": {
      "text/latex": [
       "$\\displaystyle \\left(a^{(131)}_{1}\\right)^{2} \\left(b^{(131)}_{1}\\right)^{2} \\left(b^{(131)}_{3}\\right)^{2}$"
      ],
      "text/plain": [
       "<IPython.core.display.Math object>"
      ]
     },
     "metadata": {},
     "output_type": "display_data"
    },
    {
     "name": "stdout",
     "output_type": "stream",
     "text": [
      "lambda_a_1^(131)\n"
     ]
    },
    {
     "data": {
      "text/latex": [
       "$\\displaystyle \\lambda^{(131)}_{a 1} = 3$"
      ],
      "text/plain": [
       "<IPython.core.display.Math object>"
      ]
     },
     "metadata": {},
     "output_type": "display_data"
    },
    {
     "name": "stdout",
     "output_type": "stream",
     "text": [
      "lambda_b_1^(131)\n"
     ]
    },
    {
     "data": {
      "text/latex": [
       "$\\displaystyle \\lambda^{(131)}_{b 1} = 3$"
      ],
      "text/plain": [
       "<IPython.core.display.Math object>"
      ]
     },
     "metadata": {},
     "output_type": "display_data"
    },
    {
     "name": "stdout",
     "output_type": "stream",
     "text": [
      "lambda_b_3^(131)\n"
     ]
    },
    {
     "data": {
      "text/latex": [
       "$\\displaystyle \\lambda^{(131)}_{b 3} = 3$"
      ],
      "text/plain": [
       "<IPython.core.display.Math object>"
      ]
     },
     "metadata": {},
     "output_type": "display_data"
    },
    {
     "data": {
      "text/latex": [
       "$\\displaystyle \\left[\\begin{matrix}b^{(131)}_{3} & 0 & 0 & 0 & 0 & a^{(131)}_{1}\\\\0 & 1 & 0 & 0 & 0 & 0\\\\0 & 0 & b^{(131)}_{3} & 0 & 0 & a^{(131)}_{2}\\\\b^{(131)}_{1} b^{(131)}_{2} & a^{(131)}_{1} b^{(131)}_{2} & 0 & a^{(131)}_{1} b^{(131)}_{1} & 0 & 0\\\\a^{(131)}_{3} b^{(131)}_{1} & a^{(131)}_{1} a^{(131)}_{3} & 0 & 0 & a^{(131)}_{1} b^{(131)}_{1} & 0\\\\0 & 0 & 0 & 0 & 0 & 1\\end{matrix}\\right]$"
      ],
      "text/plain": [
       "<IPython.core.display.Math object>"
      ]
     },
     "metadata": {},
     "output_type": "display_data"
    },
    {
     "data": {
      "text/latex": [
       "$\\displaystyle a_{1} = a^{(131)}_{1} b^{(131)}_{3}$"
      ],
      "text/plain": [
       "<IPython.core.display.Math object>"
      ]
     },
     "metadata": {},
     "output_type": "display_data"
    },
    {
     "data": {
      "text/latex": [
       "$\\displaystyle b_{1} = b^{(131)}_{1}$"
      ],
      "text/plain": [
       "<IPython.core.display.Math object>"
      ]
     },
     "metadata": {},
     "output_type": "display_data"
    },
    {
     "data": {
      "text/latex": [
       "$\\displaystyle a_{2} = a^{(131)}_{2} b^{(131)}_{3}$"
      ],
      "text/plain": [
       "<IPython.core.display.Math object>"
      ]
     },
     "metadata": {},
     "output_type": "display_data"
    },
    {
     "data": {
      "text/latex": [
       "$\\displaystyle b_{2} = a^{(131)}_{1} b^{(131)}_{1} b^{(131)}_{2}$"
      ],
      "text/plain": [
       "<IPython.core.display.Math object>"
      ]
     },
     "metadata": {},
     "output_type": "display_data"
    },
    {
     "data": {
      "text/latex": [
       "$\\displaystyle a_{3} = a^{(131)}_{1} a^{(131)}_{3} b^{(131)}_{1}$"
      ],
      "text/plain": [
       "<IPython.core.display.Math object>"
      ]
     },
     "metadata": {},
     "output_type": "display_data"
    },
    {
     "data": {
      "text/latex": [
       "$\\displaystyle b_{3} = b^{(131)}_{3}$"
      ],
      "text/plain": [
       "<IPython.core.display.Math object>"
      ]
     },
     "metadata": {},
     "output_type": "display_data"
    },
    {
     "data": {
      "text/latex": [
       "$\\displaystyle \\left(a^{(131)}_{1}\\right)^{2} \\left(b^{(131)}_{1}\\right)^{2} \\left(b^{(131)}_{3}\\right)^{2} \\left(a^{(131)}_{2} b^{(131)}_{2} + a^{(131)}_{3} + 1\\right)^{2}$"
      ],
      "text/plain": [
       "<IPython.core.display.Math object>"
      ]
     },
     "metadata": {},
     "output_type": "display_data"
    },
    {
     "name": "stdout",
     "output_type": "stream",
     "text": [
      "\n",
      "-----------\n",
      "Is leaf. Is normal crossing? True\n"
     ]
    },
    {
     "data": {
      "text/latex": [
       "$\\displaystyle a^{(1233)}_{2} a^{(1233)}_{3} b^{(1233)}_{1} b^{(1233)}_{3} \\left(a^{(1233)}_{1} + b^{(1233)}_{2} + 1\\right)$"
      ],
      "text/plain": [
       "<IPython.core.display.Math object>"
      ]
     },
     "metadata": {},
     "output_type": "display_data"
    },
    {
     "data": {
      "text/latex": [
       "$\\displaystyle \\left(a^{(1233)}_{2}\\right)^{2} \\left(a^{(1233)}_{3}\\right)^{2} \\left(b^{(1233)}_{1}\\right)^{2} \\left(b^{(1233)}_{3}\\right)^{2}$"
      ],
      "text/plain": [
       "<IPython.core.display.Math object>"
      ]
     },
     "metadata": {},
     "output_type": "display_data"
    },
    {
     "name": "stdout",
     "output_type": "stream",
     "text": [
      "lambda_a_2^(1233)\n"
     ]
    },
    {
     "data": {
      "text/latex": [
       "$\\displaystyle \\lambda^{(1233)}_{a 2} = 3$"
      ],
      "text/plain": [
       "<IPython.core.display.Math object>"
      ]
     },
     "metadata": {},
     "output_type": "display_data"
    },
    {
     "name": "stdout",
     "output_type": "stream",
     "text": [
      "lambda_a_3^(1233)\n"
     ]
    },
    {
     "data": {
      "text/latex": [
       "$\\displaystyle \\lambda^{(1233)}_{a 3} = 3$"
      ],
      "text/plain": [
       "<IPython.core.display.Math object>"
      ]
     },
     "metadata": {},
     "output_type": "display_data"
    },
    {
     "name": "stdout",
     "output_type": "stream",
     "text": [
      "lambda_b_1^(1233)\n"
     ]
    },
    {
     "data": {
      "text/latex": [
       "$\\displaystyle \\lambda^{(1233)}_{b 1} = 3$"
      ],
      "text/plain": [
       "<IPython.core.display.Math object>"
      ]
     },
     "metadata": {},
     "output_type": "display_data"
    },
    {
     "name": "stdout",
     "output_type": "stream",
     "text": [
      "lambda_b_3^(1233)\n"
     ]
    },
    {
     "data": {
      "text/latex": [
       "$\\displaystyle \\lambda^{(1233)}_{b 3} = 3$"
      ],
      "text/plain": [
       "<IPython.core.display.Math object>"
      ]
     },
     "metadata": {},
     "output_type": "display_data"
    },
    {
     "data": {
      "text/latex": [
       "$\\displaystyle \\left[\\begin{matrix}a^{(1233)}_{2} a^{(1233)}_{3} b^{(1233)}_{3} & 0 & a^{(1233)}_{1} a^{(1233)}_{3} b^{(1233)}_{3} & 0 & a^{(1233)}_{1} a^{(1233)}_{2} b^{(1233)}_{3} & a^{(1233)}_{1} a^{(1233)}_{2} a^{(1233)}_{3}\\\\0 & 1 & 0 & 0 & 0 & 0\\\\0 & 0 & 1 & 0 & 0 & 0\\\\0 & a^{(1233)}_{3} b^{(1233)}_{2} b^{(1233)}_{3} & 0 & a^{(1233)}_{3} b^{(1233)}_{1} b^{(1233)}_{3} & b^{(1233)}_{1} b^{(1233)}_{2} b^{(1233)}_{3} & a^{(1233)}_{3} b^{(1233)}_{1} b^{(1233)}_{2}\\\\0 & a^{(1233)}_{3} & 0 & 0 & b^{(1233)}_{1} & 0\\\\0 & 0 & b^{(1233)}_{3} & 0 & 0 & a^{(1233)}_{2}\\end{matrix}\\right]$"
      ],
      "text/plain": [
       "<IPython.core.display.Math object>"
      ]
     },
     "metadata": {},
     "output_type": "display_data"
    },
    {
     "data": {
      "text/latex": [
       "$\\displaystyle a_{1} = a^{(1233)}_{1} a^{(1233)}_{2} a^{(1233)}_{3} b^{(1233)}_{3}$"
      ],
      "text/plain": [
       "<IPython.core.display.Math object>"
      ]
     },
     "metadata": {},
     "output_type": "display_data"
    },
    {
     "data": {
      "text/latex": [
       "$\\displaystyle b_{1} = b^{(1233)}_{1}$"
      ],
      "text/plain": [
       "<IPython.core.display.Math object>"
      ]
     },
     "metadata": {},
     "output_type": "display_data"
    },
    {
     "data": {
      "text/latex": [
       "$\\displaystyle a_{2} = a^{(1233)}_{2}$"
      ],
      "text/plain": [
       "<IPython.core.display.Math object>"
      ]
     },
     "metadata": {},
     "output_type": "display_data"
    },
    {
     "data": {
      "text/latex": [
       "$\\displaystyle b_{2} = a^{(1233)}_{3} b^{(1233)}_{1} b^{(1233)}_{2} b^{(1233)}_{3}$"
      ],
      "text/plain": [
       "<IPython.core.display.Math object>"
      ]
     },
     "metadata": {},
     "output_type": "display_data"
    },
    {
     "data": {
      "text/latex": [
       "$\\displaystyle a_{3} = a^{(1233)}_{3} b^{(1233)}_{1}$"
      ],
      "text/plain": [
       "<IPython.core.display.Math object>"
      ]
     },
     "metadata": {},
     "output_type": "display_data"
    },
    {
     "data": {
      "text/latex": [
       "$\\displaystyle b_{3} = a^{(1233)}_{2} b^{(1233)}_{3}$"
      ],
      "text/plain": [
       "<IPython.core.display.Math object>"
      ]
     },
     "metadata": {},
     "output_type": "display_data"
    },
    {
     "data": {
      "text/latex": [
       "$\\displaystyle \\left(a^{(1233)}_{2}\\right)^{2} \\left(a^{(1233)}_{3}\\right)^{2} \\left(b^{(1233)}_{1}\\right)^{2} \\left(b^{(1233)}_{3}\\right)^{2} \\left(a^{(1233)}_{1} + b^{(1233)}_{2} + 1\\right)^{2}$"
      ],
      "text/plain": [
       "<IPython.core.display.Math object>"
      ]
     },
     "metadata": {},
     "output_type": "display_data"
    },
    {
     "name": "stdout",
     "output_type": "stream",
     "text": [
      "\n",
      "-----------\n",
      "Is leaf. Is normal crossing? True\n"
     ]
    },
    {
     "data": {
      "text/latex": [
       "$\\displaystyle a^{(1232)}_{2} a^{(1232)}_{3} b^{(1232)}_{1} b^{(1232)}_{2} \\left(a^{(1232)}_{1} + b^{(1232)}_{3} + 1\\right)$"
      ],
      "text/plain": [
       "<IPython.core.display.Math object>"
      ]
     },
     "metadata": {},
     "output_type": "display_data"
    },
    {
     "data": {
      "text/latex": [
       "$\\displaystyle \\left(a^{(1232)}_{2}\\right)^{2} \\left(a^{(1232)}_{3}\\right)^{2} \\left(b^{(1232)}_{1}\\right)^{2} \\left(b^{(1232)}_{2}\\right)^{2}$"
      ],
      "text/plain": [
       "<IPython.core.display.Math object>"
      ]
     },
     "metadata": {},
     "output_type": "display_data"
    },
    {
     "name": "stdout",
     "output_type": "stream",
     "text": [
      "lambda_a_2^(1232)\n"
     ]
    },
    {
     "data": {
      "text/latex": [
       "$\\displaystyle \\lambda^{(1232)}_{a 2} = 3$"
      ],
      "text/plain": [
       "<IPython.core.display.Math object>"
      ]
     },
     "metadata": {},
     "output_type": "display_data"
    },
    {
     "name": "stdout",
     "output_type": "stream",
     "text": [
      "lambda_a_3^(1232)\n"
     ]
    },
    {
     "data": {
      "text/latex": [
       "$\\displaystyle \\lambda^{(1232)}_{a 3} = 3$"
      ],
      "text/plain": [
       "<IPython.core.display.Math object>"
      ]
     },
     "metadata": {},
     "output_type": "display_data"
    },
    {
     "name": "stdout",
     "output_type": "stream",
     "text": [
      "lambda_b_1^(1232)\n"
     ]
    },
    {
     "data": {
      "text/latex": [
       "$\\displaystyle \\lambda^{(1232)}_{b 1} = 3$"
      ],
      "text/plain": [
       "<IPython.core.display.Math object>"
      ]
     },
     "metadata": {},
     "output_type": "display_data"
    },
    {
     "name": "stdout",
     "output_type": "stream",
     "text": [
      "lambda_b_2^(1232)\n"
     ]
    },
    {
     "data": {
      "text/latex": [
       "$\\displaystyle \\lambda^{(1232)}_{b 2} = 3$"
      ],
      "text/plain": [
       "<IPython.core.display.Math object>"
      ]
     },
     "metadata": {},
     "output_type": "display_data"
    },
    {
     "data": {
      "text/latex": [
       "$\\displaystyle \\left[\\begin{matrix}a^{(1232)}_{2} a^{(1232)}_{3} b^{(1232)}_{2} & 0 & a^{(1232)}_{1} a^{(1232)}_{3} b^{(1232)}_{2} & a^{(1232)}_{1} a^{(1232)}_{2} a^{(1232)}_{3} & a^{(1232)}_{1} a^{(1232)}_{2} b^{(1232)}_{2} & 0\\\\0 & 1 & 0 & 0 & 0 & 0\\\\0 & 0 & 1 & 0 & 0 & 0\\\\0 & a^{(1232)}_{3} b^{(1232)}_{2} & 0 & a^{(1232)}_{3} b^{(1232)}_{1} & b^{(1232)}_{1} b^{(1232)}_{2} & 0\\\\0 & a^{(1232)}_{3} & 0 & 0 & b^{(1232)}_{1} & 0\\\\0 & 0 & b^{(1232)}_{2} b^{(1232)}_{3} & a^{(1232)}_{2} b^{(1232)}_{3} & 0 & a^{(1232)}_{2} b^{(1232)}_{2}\\end{matrix}\\right]$"
      ],
      "text/plain": [
       "<IPython.core.display.Math object>"
      ]
     },
     "metadata": {},
     "output_type": "display_data"
    },
    {
     "data": {
      "text/latex": [
       "$\\displaystyle a_{1} = a^{(1232)}_{1} a^{(1232)}_{2} a^{(1232)}_{3} b^{(1232)}_{2}$"
      ],
      "text/plain": [
       "<IPython.core.display.Math object>"
      ]
     },
     "metadata": {},
     "output_type": "display_data"
    },
    {
     "data": {
      "text/latex": [
       "$\\displaystyle b_{1} = b^{(1232)}_{1}$"
      ],
      "text/plain": [
       "<IPython.core.display.Math object>"
      ]
     },
     "metadata": {},
     "output_type": "display_data"
    },
    {
     "data": {
      "text/latex": [
       "$\\displaystyle a_{2} = a^{(1232)}_{2}$"
      ],
      "text/plain": [
       "<IPython.core.display.Math object>"
      ]
     },
     "metadata": {},
     "output_type": "display_data"
    },
    {
     "data": {
      "text/latex": [
       "$\\displaystyle b_{2} = a^{(1232)}_{3} b^{(1232)}_{1} b^{(1232)}_{2}$"
      ],
      "text/plain": [
       "<IPython.core.display.Math object>"
      ]
     },
     "metadata": {},
     "output_type": "display_data"
    },
    {
     "data": {
      "text/latex": [
       "$\\displaystyle a_{3} = a^{(1232)}_{3} b^{(1232)}_{1}$"
      ],
      "text/plain": [
       "<IPython.core.display.Math object>"
      ]
     },
     "metadata": {},
     "output_type": "display_data"
    },
    {
     "data": {
      "text/latex": [
       "$\\displaystyle b_{3} = a^{(1232)}_{2} b^{(1232)}_{2} b^{(1232)}_{3}$"
      ],
      "text/plain": [
       "<IPython.core.display.Math object>"
      ]
     },
     "metadata": {},
     "output_type": "display_data"
    },
    {
     "data": {
      "text/latex": [
       "$\\displaystyle \\left(a^{(1232)}_{2}\\right)^{2} \\left(a^{(1232)}_{3}\\right)^{2} \\left(b^{(1232)}_{1}\\right)^{2} \\left(b^{(1232)}_{2}\\right)^{2} \\left(a^{(1232)}_{1} + b^{(1232)}_{3} + 1\\right)^{2}$"
      ],
      "text/plain": [
       "<IPython.core.display.Math object>"
      ]
     },
     "metadata": {},
     "output_type": "display_data"
    },
    {
     "name": "stdout",
     "output_type": "stream",
     "text": [
      "\n",
      "-----------\n",
      "Is leaf. Is normal crossing? True\n"
     ]
    },
    {
     "data": {
      "text/latex": [
       "$\\displaystyle a^{(1231)}_{1} a^{(1231)}_{2} a^{(1231)}_{3} b^{(1231)}_{1} \\left(b^{(1231)}_{2} + b^{(1231)}_{3} + 1\\right)$"
      ],
      "text/plain": [
       "<IPython.core.display.Math object>"
      ]
     },
     "metadata": {},
     "output_type": "display_data"
    },
    {
     "data": {
      "text/latex": [
       "$\\displaystyle \\left(a^{(1231)}_{1}\\right)^{2} \\left(a^{(1231)}_{2}\\right)^{2} \\left(a^{(1231)}_{3}\\right)^{2} \\left(b^{(1231)}_{1}\\right)^{2}$"
      ],
      "text/plain": [
       "<IPython.core.display.Math object>"
      ]
     },
     "metadata": {},
     "output_type": "display_data"
    },
    {
     "name": "stdout",
     "output_type": "stream",
     "text": [
      "lambda_a_1^(1231)\n"
     ]
    },
    {
     "data": {
      "text/latex": [
       "$\\displaystyle \\lambda^{(1231)}_{a 1} = 3$"
      ],
      "text/plain": [
       "<IPython.core.display.Math object>"
      ]
     },
     "metadata": {},
     "output_type": "display_data"
    },
    {
     "name": "stdout",
     "output_type": "stream",
     "text": [
      "lambda_a_2^(1231)\n"
     ]
    },
    {
     "data": {
      "text/latex": [
       "$\\displaystyle \\lambda^{(1231)}_{a 2} = 3$"
      ],
      "text/plain": [
       "<IPython.core.display.Math object>"
      ]
     },
     "metadata": {},
     "output_type": "display_data"
    },
    {
     "name": "stdout",
     "output_type": "stream",
     "text": [
      "lambda_a_3^(1231)\n"
     ]
    },
    {
     "data": {
      "text/latex": [
       "$\\displaystyle \\lambda^{(1231)}_{a 3} = 3$"
      ],
      "text/plain": [
       "<IPython.core.display.Math object>"
      ]
     },
     "metadata": {},
     "output_type": "display_data"
    },
    {
     "name": "stdout",
     "output_type": "stream",
     "text": [
      "lambda_b_1^(1231)\n"
     ]
    },
    {
     "data": {
      "text/latex": [
       "$\\displaystyle \\lambda^{(1231)}_{b 1} = 3$"
      ],
      "text/plain": [
       "<IPython.core.display.Math object>"
      ]
     },
     "metadata": {},
     "output_type": "display_data"
    },
    {
     "data": {
      "text/latex": [
       "$\\displaystyle \\left[\\begin{matrix}a^{(1231)}_{2} a^{(1231)}_{3} & 0 & a^{(1231)}_{1} a^{(1231)}_{3} & 0 & a^{(1231)}_{1} a^{(1231)}_{2} & 0\\\\0 & 1 & 0 & 0 & 0 & 0\\\\0 & 0 & 1 & 0 & 0 & 0\\\\a^{(1231)}_{3} b^{(1231)}_{1} b^{(1231)}_{2} & a^{(1231)}_{1} a^{(1231)}_{3} b^{(1231)}_{2} & 0 & a^{(1231)}_{1} a^{(1231)}_{3} b^{(1231)}_{1} & a^{(1231)}_{1} b^{(1231)}_{1} b^{(1231)}_{2} & 0\\\\0 & a^{(1231)}_{3} & 0 & 0 & b^{(1231)}_{1} & 0\\\\a^{(1231)}_{2} b^{(1231)}_{3} & 0 & a^{(1231)}_{1} b^{(1231)}_{3} & 0 & 0 & a^{(1231)}_{1} a^{(1231)}_{2}\\end{matrix}\\right]$"
      ],
      "text/plain": [
       "<IPython.core.display.Math object>"
      ]
     },
     "metadata": {},
     "output_type": "display_data"
    },
    {
     "data": {
      "text/latex": [
       "$\\displaystyle a_{1} = a^{(1231)}_{1} a^{(1231)}_{2} a^{(1231)}_{3}$"
      ],
      "text/plain": [
       "<IPython.core.display.Math object>"
      ]
     },
     "metadata": {},
     "output_type": "display_data"
    },
    {
     "data": {
      "text/latex": [
       "$\\displaystyle b_{1} = b^{(1231)}_{1}$"
      ],
      "text/plain": [
       "<IPython.core.display.Math object>"
      ]
     },
     "metadata": {},
     "output_type": "display_data"
    },
    {
     "data": {
      "text/latex": [
       "$\\displaystyle a_{2} = a^{(1231)}_{2}$"
      ],
      "text/plain": [
       "<IPython.core.display.Math object>"
      ]
     },
     "metadata": {},
     "output_type": "display_data"
    },
    {
     "data": {
      "text/latex": [
       "$\\displaystyle b_{2} = a^{(1231)}_{1} a^{(1231)}_{3} b^{(1231)}_{1} b^{(1231)}_{2}$"
      ],
      "text/plain": [
       "<IPython.core.display.Math object>"
      ]
     },
     "metadata": {},
     "output_type": "display_data"
    },
    {
     "data": {
      "text/latex": [
       "$\\displaystyle a_{3} = a^{(1231)}_{3} b^{(1231)}_{1}$"
      ],
      "text/plain": [
       "<IPython.core.display.Math object>"
      ]
     },
     "metadata": {},
     "output_type": "display_data"
    },
    {
     "data": {
      "text/latex": [
       "$\\displaystyle b_{3} = a^{(1231)}_{1} a^{(1231)}_{2} b^{(1231)}_{3}$"
      ],
      "text/plain": [
       "<IPython.core.display.Math object>"
      ]
     },
     "metadata": {},
     "output_type": "display_data"
    },
    {
     "data": {
      "text/latex": [
       "$\\displaystyle \\left(a^{(1231)}_{1}\\right)^{2} \\left(a^{(1231)}_{2}\\right)^{2} \\left(a^{(1231)}_{3}\\right)^{2} \\left(b^{(1231)}_{1}\\right)^{2} \\left(b^{(1231)}_{2} + b^{(1231)}_{3} + 1\\right)^{2}$"
      ],
      "text/plain": [
       "<IPython.core.display.Math object>"
      ]
     },
     "metadata": {},
     "output_type": "display_data"
    },
    {
     "name": "stdout",
     "output_type": "stream",
     "text": [
      "\n",
      "-----------\n",
      "Is leaf. Is normal crossing? True\n"
     ]
    },
    {
     "data": {
      "text/latex": [
       "$\\displaystyle a^{(122)}_{2} b^{(122)}_{1} b^{(122)}_{2} \\left(a^{(122)}_{1} + a^{(122)}_{3} b^{(122)}_{3} + 1\\right)$"
      ],
      "text/plain": [
       "<IPython.core.display.Math object>"
      ]
     },
     "metadata": {},
     "output_type": "display_data"
    },
    {
     "data": {
      "text/latex": [
       "$\\displaystyle \\left(a^{(122)}_{2}\\right)^{2} \\left(b^{(122)}_{1}\\right)^{2} \\left(b^{(122)}_{2}\\right)^{2}$"
      ],
      "text/plain": [
       "<IPython.core.display.Math object>"
      ]
     },
     "metadata": {},
     "output_type": "display_data"
    },
    {
     "name": "stdout",
     "output_type": "stream",
     "text": [
      "lambda_a_2^(122)\n"
     ]
    },
    {
     "data": {
      "text/latex": [
       "$\\displaystyle \\lambda^{(122)}_{a 2} = 3$"
      ],
      "text/plain": [
       "<IPython.core.display.Math object>"
      ]
     },
     "metadata": {},
     "output_type": "display_data"
    },
    {
     "name": "stdout",
     "output_type": "stream",
     "text": [
      "lambda_b_1^(122)\n"
     ]
    },
    {
     "data": {
      "text/latex": [
       "$\\displaystyle \\lambda^{(122)}_{b 1} = 3$"
      ],
      "text/plain": [
       "<IPython.core.display.Math object>"
      ]
     },
     "metadata": {},
     "output_type": "display_data"
    },
    {
     "name": "stdout",
     "output_type": "stream",
     "text": [
      "lambda_b_2^(122)\n"
     ]
    },
    {
     "data": {
      "text/latex": [
       "$\\displaystyle \\lambda^{(122)}_{b 2} = 3$"
      ],
      "text/plain": [
       "<IPython.core.display.Math object>"
      ]
     },
     "metadata": {},
     "output_type": "display_data"
    },
    {
     "data": {
      "text/latex": [
       "$\\displaystyle \\left[\\begin{matrix}a^{(122)}_{2} b^{(122)}_{2} & 0 & a^{(122)}_{1} b^{(122)}_{2} & a^{(122)}_{1} a^{(122)}_{2} & 0 & 0\\\\0 & 1 & 0 & 0 & 0 & 0\\\\0 & 0 & 1 & 0 & 0 & 0\\\\0 & b^{(122)}_{2} & 0 & b^{(122)}_{1} & 0 & 0\\\\0 & a^{(122)}_{3} b^{(122)}_{2} & 0 & a^{(122)}_{3} b^{(122)}_{1} & b^{(122)}_{1} b^{(122)}_{2} & 0\\\\0 & 0 & b^{(122)}_{3} & 0 & 0 & a^{(122)}_{2}\\end{matrix}\\right]$"
      ],
      "text/plain": [
       "<IPython.core.display.Math object>"
      ]
     },
     "metadata": {},
     "output_type": "display_data"
    },
    {
     "data": {
      "text/latex": [
       "$\\displaystyle a_{1} = a^{(122)}_{1} a^{(122)}_{2} b^{(122)}_{2}$"
      ],
      "text/plain": [
       "<IPython.core.display.Math object>"
      ]
     },
     "metadata": {},
     "output_type": "display_data"
    },
    {
     "data": {
      "text/latex": [
       "$\\displaystyle b_{1} = b^{(122)}_{1}$"
      ],
      "text/plain": [
       "<IPython.core.display.Math object>"
      ]
     },
     "metadata": {},
     "output_type": "display_data"
    },
    {
     "data": {
      "text/latex": [
       "$\\displaystyle a_{2} = a^{(122)}_{2}$"
      ],
      "text/plain": [
       "<IPython.core.display.Math object>"
      ]
     },
     "metadata": {},
     "output_type": "display_data"
    },
    {
     "data": {
      "text/latex": [
       "$\\displaystyle b_{2} = b^{(122)}_{1} b^{(122)}_{2}$"
      ],
      "text/plain": [
       "<IPython.core.display.Math object>"
      ]
     },
     "metadata": {},
     "output_type": "display_data"
    },
    {
     "data": {
      "text/latex": [
       "$\\displaystyle a_{3} = a^{(122)}_{3} b^{(122)}_{1} b^{(122)}_{2}$"
      ],
      "text/plain": [
       "<IPython.core.display.Math object>"
      ]
     },
     "metadata": {},
     "output_type": "display_data"
    },
    {
     "data": {
      "text/latex": [
       "$\\displaystyle b_{3} = a^{(122)}_{2} b^{(122)}_{3}$"
      ],
      "text/plain": [
       "<IPython.core.display.Math object>"
      ]
     },
     "metadata": {},
     "output_type": "display_data"
    },
    {
     "data": {
      "text/latex": [
       "$\\displaystyle \\left(a^{(122)}_{2}\\right)^{2} \\left(b^{(122)}_{1}\\right)^{2} \\left(b^{(122)}_{2}\\right)^{2} \\left(a^{(122)}_{1} + a^{(122)}_{3} b^{(122)}_{3} + 1\\right)^{2}$"
      ],
      "text/plain": [
       "<IPython.core.display.Math object>"
      ]
     },
     "metadata": {},
     "output_type": "display_data"
    },
    {
     "name": "stdout",
     "output_type": "stream",
     "text": [
      "\n",
      "-----------\n",
      "Is leaf. Is normal crossing? True\n"
     ]
    },
    {
     "data": {
      "text/latex": [
       "$\\displaystyle a^{(121)}_{1} a^{(121)}_{2} b^{(121)}_{1} \\left(a^{(121)}_{3} b^{(121)}_{3} + b^{(121)}_{2} + 1\\right)$"
      ],
      "text/plain": [
       "<IPython.core.display.Math object>"
      ]
     },
     "metadata": {},
     "output_type": "display_data"
    },
    {
     "data": {
      "text/latex": [
       "$\\displaystyle \\left(a^{(121)}_{1}\\right)^{2} \\left(a^{(121)}_{2}\\right)^{2} \\left(b^{(121)}_{1}\\right)^{2}$"
      ],
      "text/plain": [
       "<IPython.core.display.Math object>"
      ]
     },
     "metadata": {},
     "output_type": "display_data"
    },
    {
     "name": "stdout",
     "output_type": "stream",
     "text": [
      "lambda_a_1^(121)\n"
     ]
    },
    {
     "data": {
      "text/latex": [
       "$\\displaystyle \\lambda^{(121)}_{a 1} = 3$"
      ],
      "text/plain": [
       "<IPython.core.display.Math object>"
      ]
     },
     "metadata": {},
     "output_type": "display_data"
    },
    {
     "name": "stdout",
     "output_type": "stream",
     "text": [
      "lambda_a_2^(121)\n"
     ]
    },
    {
     "data": {
      "text/latex": [
       "$\\displaystyle \\lambda^{(121)}_{a 2} = 3$"
      ],
      "text/plain": [
       "<IPython.core.display.Math object>"
      ]
     },
     "metadata": {},
     "output_type": "display_data"
    },
    {
     "name": "stdout",
     "output_type": "stream",
     "text": [
      "lambda_b_1^(121)\n"
     ]
    },
    {
     "data": {
      "text/latex": [
       "$\\displaystyle \\lambda^{(121)}_{b 1} = 3$"
      ],
      "text/plain": [
       "<IPython.core.display.Math object>"
      ]
     },
     "metadata": {},
     "output_type": "display_data"
    },
    {
     "data": {
      "text/latex": [
       "$\\displaystyle \\left[\\begin{matrix}a^{(121)}_{2} & 0 & a^{(121)}_{1} & 0 & 0 & 0\\\\0 & 1 & 0 & 0 & 0 & 0\\\\0 & 0 & 1 & 0 & 0 & 0\\\\b^{(121)}_{1} b^{(121)}_{2} & a^{(121)}_{1} b^{(121)}_{2} & 0 & a^{(121)}_{1} b^{(121)}_{1} & 0 & 0\\\\a^{(121)}_{3} b^{(121)}_{1} & a^{(121)}_{1} a^{(121)}_{3} & 0 & 0 & a^{(121)}_{1} b^{(121)}_{1} & 0\\\\0 & 0 & b^{(121)}_{3} & 0 & 0 & a^{(121)}_{2}\\end{matrix}\\right]$"
      ],
      "text/plain": [
       "<IPython.core.display.Math object>"
      ]
     },
     "metadata": {},
     "output_type": "display_data"
    },
    {
     "data": {
      "text/latex": [
       "$\\displaystyle a_{1} = a^{(121)}_{1} a^{(121)}_{2}$"
      ],
      "text/plain": [
       "<IPython.core.display.Math object>"
      ]
     },
     "metadata": {},
     "output_type": "display_data"
    },
    {
     "data": {
      "text/latex": [
       "$\\displaystyle b_{1} = b^{(121)}_{1}$"
      ],
      "text/plain": [
       "<IPython.core.display.Math object>"
      ]
     },
     "metadata": {},
     "output_type": "display_data"
    },
    {
     "data": {
      "text/latex": [
       "$\\displaystyle a_{2} = a^{(121)}_{2}$"
      ],
      "text/plain": [
       "<IPython.core.display.Math object>"
      ]
     },
     "metadata": {},
     "output_type": "display_data"
    },
    {
     "data": {
      "text/latex": [
       "$\\displaystyle b_{2} = a^{(121)}_{1} b^{(121)}_{1} b^{(121)}_{2}$"
      ],
      "text/plain": [
       "<IPython.core.display.Math object>"
      ]
     },
     "metadata": {},
     "output_type": "display_data"
    },
    {
     "data": {
      "text/latex": [
       "$\\displaystyle a_{3} = a^{(121)}_{1} a^{(121)}_{3} b^{(121)}_{1}$"
      ],
      "text/plain": [
       "<IPython.core.display.Math object>"
      ]
     },
     "metadata": {},
     "output_type": "display_data"
    },
    {
     "data": {
      "text/latex": [
       "$\\displaystyle b_{3} = a^{(121)}_{2} b^{(121)}_{3}$"
      ],
      "text/plain": [
       "<IPython.core.display.Math object>"
      ]
     },
     "metadata": {},
     "output_type": "display_data"
    },
    {
     "data": {
      "text/latex": [
       "$\\displaystyle \\left(a^{(121)}_{1}\\right)^{2} \\left(a^{(121)}_{2}\\right)^{2} \\left(b^{(121)}_{1}\\right)^{2} \\left(a^{(121)}_{3} b^{(121)}_{3} + b^{(121)}_{2} + 1\\right)^{2}$"
      ],
      "text/plain": [
       "<IPython.core.display.Math object>"
      ]
     },
     "metadata": {},
     "output_type": "display_data"
    },
    {
     "name": "stdout",
     "output_type": "stream",
     "text": [
      "\n",
      "-----------\n",
      "Is leaf. Is normal crossing? True\n"
     ]
    },
    {
     "data": {
      "text/latex": [
       "$\\displaystyle a^{(11)}_{1} b^{(11)}_{1} \\left(a^{(11)}_{2} b^{(11)}_{2} + a^{(11)}_{3} b^{(11)}_{3} + 1\\right)$"
      ],
      "text/plain": [
       "<IPython.core.display.Math object>"
      ]
     },
     "metadata": {},
     "output_type": "display_data"
    },
    {
     "data": {
      "text/latex": [
       "$\\displaystyle \\left(a^{(11)}_{1}\\right)^{2} \\left(b^{(11)}_{1}\\right)^{2}$"
      ],
      "text/plain": [
       "<IPython.core.display.Math object>"
      ]
     },
     "metadata": {},
     "output_type": "display_data"
    },
    {
     "name": "stdout",
     "output_type": "stream",
     "text": [
      "lambda_a_1^(11)\n"
     ]
    },
    {
     "data": {
      "text/latex": [
       "$\\displaystyle \\lambda^{(11)}_{a 1} = 3$"
      ],
      "text/plain": [
       "<IPython.core.display.Math object>"
      ]
     },
     "metadata": {},
     "output_type": "display_data"
    },
    {
     "name": "stdout",
     "output_type": "stream",
     "text": [
      "lambda_b_1^(11)\n"
     ]
    },
    {
     "data": {
      "text/latex": [
       "$\\displaystyle \\lambda^{(11)}_{b 1} = 3$"
      ],
      "text/plain": [
       "<IPython.core.display.Math object>"
      ]
     },
     "metadata": {},
     "output_type": "display_data"
    },
    {
     "data": {
      "text/latex": [
       "$\\displaystyle \\left[\\begin{matrix}1 & 0 & 0 & 0 & 0 & 0\\\\0 & 1 & 0 & 0 & 0 & 0\\\\a^{(11)}_{2} & 0 & a^{(11)}_{1} & 0 & 0 & 0\\\\0 & b^{(11)}_{2} & 0 & b^{(11)}_{1} & 0 & 0\\\\0 & a^{(11)}_{3} & 0 & 0 & b^{(11)}_{1} & 0\\\\b^{(11)}_{3} & 0 & 0 & 0 & 0 & a^{(11)}_{1}\\end{matrix}\\right]$"
      ],
      "text/plain": [
       "<IPython.core.display.Math object>"
      ]
     },
     "metadata": {},
     "output_type": "display_data"
    },
    {
     "data": {
      "text/latex": [
       "$\\displaystyle a_{1} = a^{(11)}_{1}$"
      ],
      "text/plain": [
       "<IPython.core.display.Math object>"
      ]
     },
     "metadata": {},
     "output_type": "display_data"
    },
    {
     "data": {
      "text/latex": [
       "$\\displaystyle b_{1} = b^{(11)}_{1}$"
      ],
      "text/plain": [
       "<IPython.core.display.Math object>"
      ]
     },
     "metadata": {},
     "output_type": "display_data"
    },
    {
     "data": {
      "text/latex": [
       "$\\displaystyle a_{2} = a^{(11)}_{1} a^{(11)}_{2}$"
      ],
      "text/plain": [
       "<IPython.core.display.Math object>"
      ]
     },
     "metadata": {},
     "output_type": "display_data"
    },
    {
     "data": {
      "text/latex": [
       "$\\displaystyle b_{2} = b^{(11)}_{1} b^{(11)}_{2}$"
      ],
      "text/plain": [
       "<IPython.core.display.Math object>"
      ]
     },
     "metadata": {},
     "output_type": "display_data"
    },
    {
     "data": {
      "text/latex": [
       "$\\displaystyle a_{3} = a^{(11)}_{3} b^{(11)}_{1}$"
      ],
      "text/plain": [
       "<IPython.core.display.Math object>"
      ]
     },
     "metadata": {},
     "output_type": "display_data"
    },
    {
     "data": {
      "text/latex": [
       "$\\displaystyle b_{3} = a^{(11)}_{1} b^{(11)}_{3}$"
      ],
      "text/plain": [
       "<IPython.core.display.Math object>"
      ]
     },
     "metadata": {},
     "output_type": "display_data"
    },
    {
     "data": {
      "text/latex": [
       "$\\displaystyle \\left(a^{(11)}_{1}\\right)^{2} \\left(b^{(11)}_{1}\\right)^{2} \\left(a^{(11)}_{2} b^{(11)}_{2} + a^{(11)}_{3} b^{(11)}_{3} + 1\\right)^{2}$"
      ],
      "text/plain": [
       "<IPython.core.display.Math object>"
      ]
     },
     "metadata": {},
     "output_type": "display_data"
    }
   ],
   "source": [
    "from sympy import *\n",
    "from utils import *\n",
    "f = btree.f\n",
    "K = btree.K\n",
    "\n",
    "for chart in nx.dfs_preorder_nodes(T, source=''):\n",
    "    rec = T.nodes[chart]\n",
    "    m = rec[\"map\"]\n",
    "    expr = rec[\"expr\"]\n",
    "    var_list = rec[\"vars\"]\n",
    "    \n",
    "    f_pullback = f.subs(m).factor()\n",
    "    K_pullback = K.subs(m).factor()\n",
    "    assert Eq(expand(expr - f_pullback), 0)\n",
    "    is_nc = is_normal_crossing(f_pullback)\n",
    "    J = get_jacobian_matrix(m, var_list)\n",
    "    det = J.det()\n",
    "    \n",
    "    rec[\"is_normal_crossing\"] = is_nc\n",
    "    rec[\"J\"] = J\n",
    "    rec[\"det(J)\"] = det\n",
    "    rec[\"f_pullback\"] = f_pullback\n",
    "    \n",
    "    if len(list(T.successors(chart))) == 0:\n",
    "        print(f\"\\n-----------\\nIs leaf. Is normal crossing? {is_nc}\")\n",
    "        display(Math(latex(f_pullback)))\n",
    "        display(Math(latex(det)))\n",
    "\n",
    "        rlcts = get_rlct(f_pullback, det)\n",
    "        rec[\"rlcts\"] = rlcts\n",
    "        for s, lmbda_val in rlcts:\n",
    "            lmbda_s = symbols(f\"lambda_{s}\")\n",
    "            display(Math(f\"{latex(Eq(lmbda_s, lmbda_val))}\"))\n",
    "        # display(Math(f\"RLCTS = {latex(rlcts)}\"))\n",
    "        display(Math(latex(J)))\n",
    "        for x in m:\n",
    "            display(Math(latex(Eq(x[0], x[1]))))\n",
    "        \n",
    "        display(Math(latex(K_pullback)))\n",
    "        assert is_normal_crossing(K_pullback)"
   ]
  },
  {
   "cell_type": "markdown",
   "id": "24b8f898-1106-4410-a6ef-3d7f0f6c262a",
   "metadata": {},
   "source": [
    "# General case"
   ]
  },
  {
   "cell_type": "code",
   "execution_count": 5,
   "id": "d958e4d2-1fa9-4378-8035-f1f12bab37b3",
   "metadata": {},
   "outputs": [
    {
     "data": {
      "text/latex": [
       "$\\displaystyle \\left(a_{1} b_{1} + a_{2} b_{2} + a_{3} b_{3} + a_{4} b_{4}\\right)^{2}$"
      ],
      "text/plain": [
       "(a_1*b_1 + a_2*b_2 + a_3*b_3 + a_4*b_4)**2"
      ]
     },
     "execution_count": 5,
     "metadata": {},
     "output_type": "execute_result"
    }
   ],
   "source": [
    "H = 4\n",
    "btree = BlowupTree(H, verbose=True)\n",
    "btree.K\n"
   ]
  },
  {
   "cell_type": "code",
   "execution_count": 6,
   "id": "af29411f-7c93-43a0-9d63-2f38b0995240",
   "metadata": {},
   "outputs": [
    {
     "name": "stdout",
     "output_type": "stream",
     "text": [
      "\n",
      "---------------\n",
      "Current expression: \n"
     ]
    },
    {
     "data": {
      "text/latex": [
       "$\\displaystyle a_{1} b_{1} + a_{2} b_{2} + a_{3} b_{3} + a_{4} b_{4}$"
      ],
      "text/plain": [
       "<IPython.core.display.Math object>"
      ]
     },
     "metadata": {},
     "output_type": "display_data"
    },
    {
     "name": "stdout",
     "output_type": "stream",
     "text": [
      "Blowup coords    : [1, 3, 4, 6]\n"
     ]
    },
    {
     "data": {
      "text/latex": [
       "$\\displaystyle Blowup variables : \\left[ b_{1}, \\  b_{2}, \\  a_{3}, \\  a_{4}\\right]$"
      ],
      "text/plain": [
       "<IPython.core.display.Math object>"
      ]
     },
     "metadata": {},
     "output_type": "display_data"
    },
    {
     "data": {
      "text/latex": [
       "$\\displaystyle a^{(4)}_{4} \\left(a^{(4)}_{1} b^{(4)}_{1} + a^{(4)}_{2} b^{(4)}_{2} + a^{(4)}_{3} b^{(4)}_{3} + b^{(4)}_{4}\\right)$"
      ],
      "text/plain": [
       "<IPython.core.display.Math object>"
      ]
     },
     "metadata": {},
     "output_type": "display_data"
    },
    {
     "data": {
      "text/latex": [
       "$\\displaystyle a^{(3)}_{3} \\left(a^{(3)}_{1} b^{(3)}_{1} + a^{(3)}_{2} b^{(3)}_{2} + a^{(3)}_{4} b^{(3)}_{4} + b^{(3)}_{3}\\right)$"
      ],
      "text/plain": [
       "<IPython.core.display.Math object>"
      ]
     },
     "metadata": {},
     "output_type": "display_data"
    },
    {
     "data": {
      "text/latex": [
       "$\\displaystyle b^{(2)}_{2} \\left(a^{(2)}_{1} b^{(2)}_{1} + a^{(2)}_{2} + a^{(2)}_{3} b^{(2)}_{3} + a^{(2)}_{4} b^{(2)}_{4}\\right)$"
      ],
      "text/plain": [
       "<IPython.core.display.Math object>"
      ]
     },
     "metadata": {},
     "output_type": "display_data"
    },
    {
     "data": {
      "text/latex": [
       "$\\displaystyle b^{(1)}_{1} \\left(a^{(1)}_{1} + a^{(1)}_{2} b^{(1)}_{2} + a^{(1)}_{3} b^{(1)}_{3} + a^{(1)}_{4} b^{(1)}_{4}\\right)$"
      ],
      "text/plain": [
       "<IPython.core.display.Math object>"
      ]
     },
     "metadata": {},
     "output_type": "display_data"
    },
    {
     "name": "stdout",
     "output_type": "stream",
     "text": [
      "\n",
      "---------------\n",
      "Current expression: \n"
     ]
    },
    {
     "data": {
      "text/latex": [
       "$\\displaystyle b^{(1)}_{1} \\left(a^{(1)}_{1} + a^{(1)}_{2} b^{(1)}_{2} + a^{(1)}_{3} b^{(1)}_{3} + a^{(1)}_{4} b^{(1)}_{4}\\right)$"
      ],
      "text/plain": [
       "<IPython.core.display.Math object>"
      ]
     },
     "metadata": {},
     "output_type": "display_data"
    },
    {
     "name": "stdout",
     "output_type": "stream",
     "text": [
      "Blowup coords    : [0, 2, 5, 7]\n"
     ]
    },
    {
     "data": {
      "text/latex": [
       "$\\displaystyle Blowup variables : \\left[ a^{(1)}_{1}, \\  a^{(1)}_{2}, \\  b^{(1)}_{3}, \\  b^{(1)}_{4}\\right]$"
      ],
      "text/plain": [
       "<IPython.core.display.Math object>"
      ]
     },
     "metadata": {},
     "output_type": "display_data"
    },
    {
     "data": {
      "text/latex": [
       "$\\displaystyle b^{(14)}_{1} b^{(14)}_{4} \\left(a^{(14)}_{1} + a^{(14)}_{2} b^{(14)}_{2} + a^{(14)}_{3} b^{(14)}_{3} + a^{(14)}_{4}\\right)$"
      ],
      "text/plain": [
       "<IPython.core.display.Math object>"
      ]
     },
     "metadata": {},
     "output_type": "display_data"
    },
    {
     "data": {
      "text/latex": [
       "$\\displaystyle b^{(13)}_{1} b^{(13)}_{3} \\left(a^{(13)}_{1} + a^{(13)}_{2} b^{(13)}_{2} + a^{(13)}_{3} + a^{(13)}_{4} b^{(13)}_{4}\\right)$"
      ],
      "text/plain": [
       "<IPython.core.display.Math object>"
      ]
     },
     "metadata": {},
     "output_type": "display_data"
    },
    {
     "data": {
      "text/latex": [
       "$\\displaystyle a^{(12)}_{2} b^{(12)}_{1} \\left(a^{(12)}_{1} + a^{(12)}_{3} b^{(12)}_{3} + a^{(12)}_{4} b^{(12)}_{4} + b^{(12)}_{2}\\right)$"
      ],
      "text/plain": [
       "<IPython.core.display.Math object>"
      ]
     },
     "metadata": {},
     "output_type": "display_data"
    },
    {
     "data": {
      "text/latex": [
       "$\\displaystyle a^{(11)}_{1} b^{(11)}_{1} \\left(a^{(11)}_{2} b^{(11)}_{2} + a^{(11)}_{3} b^{(11)}_{3} + a^{(11)}_{4} b^{(11)}_{4} + 1\\right)$"
      ],
      "text/plain": [
       "<IPython.core.display.Math object>"
      ]
     },
     "metadata": {},
     "output_type": "display_data"
    },
    {
     "data": {
      "text/latex": [
       "$\\displaystyle RLCTS = \\left[ \\left( a^{(11)}_{1}, \\  4\\right), \\  \\left( b^{(11)}_{1}, \\  4\\right)\\right]$"
      ],
      "text/plain": [
       "<IPython.core.display.Math object>"
      ]
     },
     "metadata": {},
     "output_type": "display_data"
    },
    {
     "data": {
      "text/latex": [
       "$\\displaystyle (\\lambda, m) = (4, 0)$"
      ],
      "text/plain": [
       "<IPython.core.display.Math object>"
      ]
     },
     "metadata": {},
     "output_type": "display_data"
    },
    {
     "name": "stdout",
     "output_type": "stream",
     "text": [
      "\n",
      "---------------\n",
      "Current expression: \n"
     ]
    },
    {
     "data": {
      "text/latex": [
       "$\\displaystyle a^{(12)}_{2} b^{(12)}_{1} \\left(a^{(12)}_{1} + a^{(12)}_{3} b^{(12)}_{3} + a^{(12)}_{4} b^{(12)}_{4} + b^{(12)}_{2}\\right)$"
      ],
      "text/plain": [
       "<IPython.core.display.Math object>"
      ]
     },
     "metadata": {},
     "output_type": "display_data"
    },
    {
     "name": "stdout",
     "output_type": "stream",
     "text": [
      "Blowup coords    : [0, 3, 4, 6]\n"
     ]
    },
    {
     "data": {
      "text/latex": [
       "$\\displaystyle Blowup variables : \\left[ a^{(12)}_{1}, \\  b^{(12)}_{2}, \\  a^{(12)}_{3}, \\  a^{(12)}_{4}\\right]$"
      ],
      "text/plain": [
       "<IPython.core.display.Math object>"
      ]
     },
     "metadata": {},
     "output_type": "display_data"
    },
    {
     "data": {
      "text/latex": [
       "$\\displaystyle a^{(124)}_{2} a^{(124)}_{4} b^{(124)}_{1} \\left(a^{(124)}_{1} + a^{(124)}_{3} b^{(124)}_{3} + b^{(124)}_{2} + b^{(124)}_{4}\\right)$"
      ],
      "text/plain": [
       "<IPython.core.display.Math object>"
      ]
     },
     "metadata": {},
     "output_type": "display_data"
    },
    {
     "data": {
      "text/latex": [
       "$\\displaystyle a^{(123)}_{2} a^{(123)}_{3} b^{(123)}_{1} \\left(a^{(123)}_{1} + a^{(123)}_{4} b^{(123)}_{4} + b^{(123)}_{2} + b^{(123)}_{3}\\right)$"
      ],
      "text/plain": [
       "<IPython.core.display.Math object>"
      ]
     },
     "metadata": {},
     "output_type": "display_data"
    },
    {
     "data": {
      "text/latex": [
       "$\\displaystyle a^{(122)}_{2} b^{(122)}_{1} b^{(122)}_{2} \\left(a^{(122)}_{1} + a^{(122)}_{3} b^{(122)}_{3} + a^{(122)}_{4} b^{(122)}_{4} + 1\\right)$"
      ],
      "text/plain": [
       "<IPython.core.display.Math object>"
      ]
     },
     "metadata": {},
     "output_type": "display_data"
    },
    {
     "data": {
      "text/latex": [
       "$\\displaystyle RLCTS = \\left[ \\left( a^{(122)}_{2}, \\  4\\right), \\  \\left( b^{(122)}_{1}, \\  4\\right), \\  \\left( b^{(122)}_{2}, \\  4\\right)\\right]$"
      ],
      "text/plain": [
       "<IPython.core.display.Math object>"
      ]
     },
     "metadata": {},
     "output_type": "display_data"
    },
    {
     "data": {
      "text/latex": [
       "$\\displaystyle (\\lambda, m) = (4, 0)$"
      ],
      "text/plain": [
       "<IPython.core.display.Math object>"
      ]
     },
     "metadata": {},
     "output_type": "display_data"
    },
    {
     "data": {
      "text/latex": [
       "$\\displaystyle a^{(121)}_{1} a^{(121)}_{2} b^{(121)}_{1} \\left(a^{(121)}_{3} b^{(121)}_{3} + a^{(121)}_{4} b^{(121)}_{4} + b^{(121)}_{2} + 1\\right)$"
      ],
      "text/plain": [
       "<IPython.core.display.Math object>"
      ]
     },
     "metadata": {},
     "output_type": "display_data"
    },
    {
     "data": {
      "text/latex": [
       "$\\displaystyle RLCTS = \\left[ \\left( a^{(121)}_{1}, \\  4\\right), \\  \\left( a^{(121)}_{2}, \\  4\\right), \\  \\left( b^{(121)}_{1}, \\  4\\right)\\right]$"
      ],
      "text/plain": [
       "<IPython.core.display.Math object>"
      ]
     },
     "metadata": {},
     "output_type": "display_data"
    },
    {
     "data": {
      "text/latex": [
       "$\\displaystyle (\\lambda, m) = (4, 0)$"
      ],
      "text/plain": [
       "<IPython.core.display.Math object>"
      ]
     },
     "metadata": {},
     "output_type": "display_data"
    },
    {
     "name": "stdout",
     "output_type": "stream",
     "text": [
      "\n",
      "---------------\n",
      "Current expression: \n"
     ]
    },
    {
     "data": {
      "text/latex": [
       "$\\displaystyle a^{(123)}_{2} a^{(123)}_{3} b^{(123)}_{1} \\left(a^{(123)}_{1} + a^{(123)}_{4} b^{(123)}_{4} + b^{(123)}_{2} + b^{(123)}_{3}\\right)$"
      ],
      "text/plain": [
       "<IPython.core.display.Math object>"
      ]
     },
     "metadata": {},
     "output_type": "display_data"
    },
    {
     "name": "stdout",
     "output_type": "stream",
     "text": [
      "Blowup coords    : [0, 3, 5, 6]\n"
     ]
    },
    {
     "data": {
      "text/latex": [
       "$\\displaystyle Blowup variables : \\left[ a^{(123)}_{1}, \\  b^{(123)}_{2}, \\  b^{(123)}_{3}, \\  a^{(123)}_{4}\\right]$"
      ],
      "text/plain": [
       "<IPython.core.display.Math object>"
      ]
     },
     "metadata": {},
     "output_type": "display_data"
    },
    {
     "data": {
      "text/latex": [
       "$\\displaystyle a^{(1234)}_{2} a^{(1234)}_{3} a^{(1234)}_{4} b^{(1234)}_{1} \\left(a^{(1234)}_{1} + b^{(1234)}_{2} + b^{(1234)}_{3} + b^{(1234)}_{4}\\right)$"
      ],
      "text/plain": [
       "<IPython.core.display.Math object>"
      ]
     },
     "metadata": {},
     "output_type": "display_data"
    },
    {
     "data": {
      "text/latex": [
       "$\\displaystyle a^{(1233)}_{2} a^{(1233)}_{3} b^{(1233)}_{1} b^{(1233)}_{3} \\left(a^{(1233)}_{1} + a^{(1233)}_{4} b^{(1233)}_{4} + b^{(1233)}_{2} + 1\\right)$"
      ],
      "text/plain": [
       "<IPython.core.display.Math object>"
      ]
     },
     "metadata": {},
     "output_type": "display_data"
    },
    {
     "data": {
      "text/latex": [
       "$\\displaystyle RLCTS = \\left[ \\left( a^{(1233)}_{2}, \\  4\\right), \\  \\left( a^{(1233)}_{3}, \\  4\\right), \\  \\left( b^{(1233)}_{1}, \\  4\\right), \\  \\left( b^{(1233)}_{3}, \\  4\\right)\\right]$"
      ],
      "text/plain": [
       "<IPython.core.display.Math object>"
      ]
     },
     "metadata": {},
     "output_type": "display_data"
    },
    {
     "data": {
      "text/latex": [
       "$\\displaystyle (\\lambda, m) = (4, 0)$"
      ],
      "text/plain": [
       "<IPython.core.display.Math object>"
      ]
     },
     "metadata": {},
     "output_type": "display_data"
    },
    {
     "data": {
      "text/latex": [
       "$\\displaystyle a^{(1232)}_{2} a^{(1232)}_{3} b^{(1232)}_{1} b^{(1232)}_{2} \\left(a^{(1232)}_{1} + a^{(1232)}_{4} b^{(1232)}_{4} + b^{(1232)}_{3} + 1\\right)$"
      ],
      "text/plain": [
       "<IPython.core.display.Math object>"
      ]
     },
     "metadata": {},
     "output_type": "display_data"
    },
    {
     "data": {
      "text/latex": [
       "$\\displaystyle RLCTS = \\left[ \\left( a^{(1232)}_{2}, \\  4\\right), \\  \\left( a^{(1232)}_{3}, \\  4\\right), \\  \\left( b^{(1232)}_{1}, \\  4\\right), \\  \\left( b^{(1232)}_{2}, \\  4\\right)\\right]$"
      ],
      "text/plain": [
       "<IPython.core.display.Math object>"
      ]
     },
     "metadata": {},
     "output_type": "display_data"
    },
    {
     "data": {
      "text/latex": [
       "$\\displaystyle (\\lambda, m) = (4, 0)$"
      ],
      "text/plain": [
       "<IPython.core.display.Math object>"
      ]
     },
     "metadata": {},
     "output_type": "display_data"
    },
    {
     "data": {
      "text/latex": [
       "$\\displaystyle a^{(1231)}_{1} a^{(1231)}_{2} a^{(1231)}_{3} b^{(1231)}_{1} \\left(a^{(1231)}_{4} b^{(1231)}_{4} + b^{(1231)}_{2} + b^{(1231)}_{3} + 1\\right)$"
      ],
      "text/plain": [
       "<IPython.core.display.Math object>"
      ]
     },
     "metadata": {},
     "output_type": "display_data"
    },
    {
     "data": {
      "text/latex": [
       "$\\displaystyle RLCTS = \\left[ \\left( a^{(1231)}_{1}, \\  4\\right), \\  \\left( a^{(1231)}_{2}, \\  4\\right), \\  \\left( a^{(1231)}_{3}, \\  4\\right), \\  \\left( b^{(1231)}_{1}, \\  4\\right)\\right]$"
      ],
      "text/plain": [
       "<IPython.core.display.Math object>"
      ]
     },
     "metadata": {},
     "output_type": "display_data"
    },
    {
     "data": {
      "text/latex": [
       "$\\displaystyle (\\lambda, m) = (4, 0)$"
      ],
      "text/plain": [
       "<IPython.core.display.Math object>"
      ]
     },
     "metadata": {},
     "output_type": "display_data"
    },
    {
     "name": "stdout",
     "output_type": "stream",
     "text": [
      "\n",
      "---------------\n",
      "Current expression: \n"
     ]
    },
    {
     "data": {
      "text/latex": [
       "$\\displaystyle a^{(1234)}_{2} a^{(1234)}_{3} a^{(1234)}_{4} b^{(1234)}_{1} \\left(a^{(1234)}_{1} + b^{(1234)}_{2} + b^{(1234)}_{3} + b^{(1234)}_{4}\\right)$"
      ],
      "text/plain": [
       "<IPython.core.display.Math object>"
      ]
     },
     "metadata": {},
     "output_type": "display_data"
    },
    {
     "name": "stdout",
     "output_type": "stream",
     "text": [
      "Blowup coords    : [0, 3, 5, 7]\n"
     ]
    },
    {
     "data": {
      "text/latex": [
       "$\\displaystyle Blowup variables : \\left[ a^{(1234)}_{1}, \\  b^{(1234)}_{2}, \\  b^{(1234)}_{3}, \\  b^{(1234)}_{4}\\right]$"
      ],
      "text/plain": [
       "<IPython.core.display.Math object>"
      ]
     },
     "metadata": {},
     "output_type": "display_data"
    },
    {
     "data": {
      "text/latex": [
       "$\\displaystyle a^{(12344)}_{2} a^{(12344)}_{3} a^{(12344)}_{4} b^{(12344)}_{1} b^{(12344)}_{4} \\left(a^{(12344)}_{1} + b^{(12344)}_{2} + b^{(12344)}_{3} + 1\\right)$"
      ],
      "text/plain": [
       "<IPython.core.display.Math object>"
      ]
     },
     "metadata": {},
     "output_type": "display_data"
    },
    {
     "data": {
      "text/latex": [
       "$\\displaystyle RLCTS = \\left[ \\left( a^{(12344)}_{2}, \\  4\\right), \\  \\left( a^{(12344)}_{3}, \\  4\\right), \\  \\left( a^{(12344)}_{4}, \\  4\\right), \\  \\left( b^{(12344)}_{1}, \\  4\\right), \\  \\left( b^{(12344)}_{4}, \\  4\\right)\\right]$"
      ],
      "text/plain": [
       "<IPython.core.display.Math object>"
      ]
     },
     "metadata": {},
     "output_type": "display_data"
    },
    {
     "data": {
      "text/latex": [
       "$\\displaystyle (\\lambda, m) = (4, 0)$"
      ],
      "text/plain": [
       "<IPython.core.display.Math object>"
      ]
     },
     "metadata": {},
     "output_type": "display_data"
    },
    {
     "data": {
      "text/latex": [
       "$\\displaystyle a^{(12343)}_{2} a^{(12343)}_{3} a^{(12343)}_{4} b^{(12343)}_{1} b^{(12343)}_{3} \\left(a^{(12343)}_{1} + b^{(12343)}_{2} + b^{(12343)}_{4} + 1\\right)$"
      ],
      "text/plain": [
       "<IPython.core.display.Math object>"
      ]
     },
     "metadata": {},
     "output_type": "display_data"
    },
    {
     "data": {
      "text/latex": [
       "$\\displaystyle RLCTS = \\left[ \\left( a^{(12343)}_{2}, \\  4\\right), \\  \\left( a^{(12343)}_{3}, \\  4\\right), \\  \\left( a^{(12343)}_{4}, \\  4\\right), \\  \\left( b^{(12343)}_{1}, \\  4\\right), \\  \\left( b^{(12343)}_{3}, \\  4\\right)\\right]$"
      ],
      "text/plain": [
       "<IPython.core.display.Math object>"
      ]
     },
     "metadata": {},
     "output_type": "display_data"
    },
    {
     "data": {
      "text/latex": [
       "$\\displaystyle (\\lambda, m) = (4, 0)$"
      ],
      "text/plain": [
       "<IPython.core.display.Math object>"
      ]
     },
     "metadata": {},
     "output_type": "display_data"
    },
    {
     "data": {
      "text/latex": [
       "$\\displaystyle a^{(12342)}_{2} a^{(12342)}_{3} a^{(12342)}_{4} b^{(12342)}_{1} b^{(12342)}_{2} \\left(a^{(12342)}_{1} + b^{(12342)}_{3} + b^{(12342)}_{4} + 1\\right)$"
      ],
      "text/plain": [
       "<IPython.core.display.Math object>"
      ]
     },
     "metadata": {},
     "output_type": "display_data"
    },
    {
     "data": {
      "text/latex": [
       "$\\displaystyle RLCTS = \\left[ \\left( a^{(12342)}_{2}, \\  4\\right), \\  \\left( a^{(12342)}_{3}, \\  4\\right), \\  \\left( a^{(12342)}_{4}, \\  4\\right), \\  \\left( b^{(12342)}_{1}, \\  4\\right), \\  \\left( b^{(12342)}_{2}, \\  4\\right)\\right]$"
      ],
      "text/plain": [
       "<IPython.core.display.Math object>"
      ]
     },
     "metadata": {},
     "output_type": "display_data"
    },
    {
     "data": {
      "text/latex": [
       "$\\displaystyle (\\lambda, m) = (4, 0)$"
      ],
      "text/plain": [
       "<IPython.core.display.Math object>"
      ]
     },
     "metadata": {},
     "output_type": "display_data"
    },
    {
     "data": {
      "text/latex": [
       "$\\displaystyle a^{(12341)}_{1} a^{(12341)}_{2} a^{(12341)}_{3} a^{(12341)}_{4} b^{(12341)}_{1} \\left(b^{(12341)}_{2} + b^{(12341)}_{3} + b^{(12341)}_{4} + 1\\right)$"
      ],
      "text/plain": [
       "<IPython.core.display.Math object>"
      ]
     },
     "metadata": {},
     "output_type": "display_data"
    },
    {
     "data": {
      "text/latex": [
       "$\\displaystyle RLCTS = \\left[ \\left( a^{(12341)}_{1}, \\  4\\right), \\  \\left( a^{(12341)}_{2}, \\  4\\right), \\  \\left( a^{(12341)}_{3}, \\  4\\right), \\  \\left( a^{(12341)}_{4}, \\  4\\right), \\  \\left( b^{(12341)}_{1}, \\  4\\right)\\right]$"
      ],
      "text/plain": [
       "<IPython.core.display.Math object>"
      ]
     },
     "metadata": {},
     "output_type": "display_data"
    },
    {
     "data": {
      "text/latex": [
       "$\\displaystyle (\\lambda, m) = (4, 0)$"
      ],
      "text/plain": [
       "<IPython.core.display.Math object>"
      ]
     },
     "metadata": {},
     "output_type": "display_data"
    },
    {
     "name": "stdout",
     "output_type": "stream",
     "text": [
      "\n",
      "---------------\n",
      "Current expression: \n"
     ]
    },
    {
     "data": {
      "text/latex": [
       "$\\displaystyle a^{(124)}_{2} a^{(124)}_{4} b^{(124)}_{1} \\left(a^{(124)}_{1} + a^{(124)}_{3} b^{(124)}_{3} + b^{(124)}_{2} + b^{(124)}_{4}\\right)$"
      ],
      "text/plain": [
       "<IPython.core.display.Math object>"
      ]
     },
     "metadata": {},
     "output_type": "display_data"
    },
    {
     "name": "stdout",
     "output_type": "stream",
     "text": [
      "Blowup coords    : [0, 3, 7, 5]\n"
     ]
    },
    {
     "data": {
      "text/latex": [
       "$\\displaystyle Blowup variables : \\left[ a^{(124)}_{1}, \\  b^{(124)}_{2}, \\  b^{(124)}_{4}, \\  b^{(124)}_{3}\\right]$"
      ],
      "text/plain": [
       "<IPython.core.display.Math object>"
      ]
     },
     "metadata": {},
     "output_type": "display_data"
    },
    {
     "data": {
      "text/latex": [
       "$\\displaystyle a^{(1244)}_{2} a^{(1244)}_{4} b^{(1244)}_{1} b^{(1244)}_{4} \\left(a^{(1244)}_{1} + a^{(1244)}_{3} b^{(1244)}_{3} + b^{(1244)}_{2} + 1\\right)$"
      ],
      "text/plain": [
       "<IPython.core.display.Math object>"
      ]
     },
     "metadata": {},
     "output_type": "display_data"
    },
    {
     "data": {
      "text/latex": [
       "$\\displaystyle RLCTS = \\left[ \\left( a^{(1244)}_{2}, \\  4\\right), \\  \\left( a^{(1244)}_{4}, \\  4\\right), \\  \\left( b^{(1244)}_{1}, \\  4\\right), \\  \\left( b^{(1244)}_{4}, \\  4\\right)\\right]$"
      ],
      "text/plain": [
       "<IPython.core.display.Math object>"
      ]
     },
     "metadata": {},
     "output_type": "display_data"
    },
    {
     "data": {
      "text/latex": [
       "$\\displaystyle (\\lambda, m) = (4, 0)$"
      ],
      "text/plain": [
       "<IPython.core.display.Math object>"
      ]
     },
     "metadata": {},
     "output_type": "display_data"
    },
    {
     "data": {
      "text/latex": [
       "$\\displaystyle a^{(1243)}_{2} a^{(1243)}_{4} b^{(1243)}_{1} b^{(1243)}_{3} \\left(a^{(1243)}_{1} + a^{(1243)}_{3} + b^{(1243)}_{2} + b^{(1243)}_{4}\\right)$"
      ],
      "text/plain": [
       "<IPython.core.display.Math object>"
      ]
     },
     "metadata": {},
     "output_type": "display_data"
    },
    {
     "data": {
      "text/latex": [
       "$\\displaystyle a^{(1242)}_{2} a^{(1242)}_{4} b^{(1242)}_{1} b^{(1242)}_{2} \\left(a^{(1242)}_{1} + a^{(1242)}_{3} b^{(1242)}_{3} + b^{(1242)}_{4} + 1\\right)$"
      ],
      "text/plain": [
       "<IPython.core.display.Math object>"
      ]
     },
     "metadata": {},
     "output_type": "display_data"
    },
    {
     "data": {
      "text/latex": [
       "$\\displaystyle RLCTS = \\left[ \\left( a^{(1242)}_{2}, \\  4\\right), \\  \\left( a^{(1242)}_{4}, \\  4\\right), \\  \\left( b^{(1242)}_{1}, \\  4\\right), \\  \\left( b^{(1242)}_{2}, \\  4\\right)\\right]$"
      ],
      "text/plain": [
       "<IPython.core.display.Math object>"
      ]
     },
     "metadata": {},
     "output_type": "display_data"
    },
    {
     "data": {
      "text/latex": [
       "$\\displaystyle (\\lambda, m) = (4, 0)$"
      ],
      "text/plain": [
       "<IPython.core.display.Math object>"
      ]
     },
     "metadata": {},
     "output_type": "display_data"
    },
    {
     "data": {
      "text/latex": [
       "$\\displaystyle a^{(1241)}_{1} a^{(1241)}_{2} a^{(1241)}_{4} b^{(1241)}_{1} \\left(a^{(1241)}_{3} b^{(1241)}_{3} + b^{(1241)}_{2} + b^{(1241)}_{4} + 1\\right)$"
      ],
      "text/plain": [
       "<IPython.core.display.Math object>"
      ]
     },
     "metadata": {},
     "output_type": "display_data"
    },
    {
     "data": {
      "text/latex": [
       "$\\displaystyle RLCTS = \\left[ \\left( a^{(1241)}_{1}, \\  4\\right), \\  \\left( a^{(1241)}_{2}, \\  4\\right), \\  \\left( a^{(1241)}_{4}, \\  4\\right), \\  \\left( b^{(1241)}_{1}, \\  4\\right)\\right]$"
      ],
      "text/plain": [
       "<IPython.core.display.Math object>"
      ]
     },
     "metadata": {},
     "output_type": "display_data"
    },
    {
     "data": {
      "text/latex": [
       "$\\displaystyle (\\lambda, m) = (4, 0)$"
      ],
      "text/plain": [
       "<IPython.core.display.Math object>"
      ]
     },
     "metadata": {},
     "output_type": "display_data"
    },
    {
     "name": "stdout",
     "output_type": "stream",
     "text": [
      "\n",
      "---------------\n",
      "Current expression: \n"
     ]
    },
    {
     "data": {
      "text/latex": [
       "$\\displaystyle a^{(1243)}_{2} a^{(1243)}_{4} b^{(1243)}_{1} b^{(1243)}_{3} \\left(a^{(1243)}_{1} + a^{(1243)}_{3} + b^{(1243)}_{2} + b^{(1243)}_{4}\\right)$"
      ],
      "text/plain": [
       "<IPython.core.display.Math object>"
      ]
     },
     "metadata": {},
     "output_type": "display_data"
    },
    {
     "name": "stdout",
     "output_type": "stream",
     "text": [
      "Blowup coords    : [0, 4, 3, 7]\n"
     ]
    },
    {
     "data": {
      "text/latex": [
       "$\\displaystyle Blowup variables : \\left[ a^{(1243)}_{1}, \\  a^{(1243)}_{3}, \\  b^{(1243)}_{2}, \\  b^{(1243)}_{4}\\right]$"
      ],
      "text/plain": [
       "<IPython.core.display.Math object>"
      ]
     },
     "metadata": {},
     "output_type": "display_data"
    },
    {
     "data": {
      "text/latex": [
       "$\\displaystyle a^{(12434)}_{2} a^{(12434)}_{4} b^{(12434)}_{1} b^{(12434)}_{3} b^{(12434)}_{4} \\left(a^{(12434)}_{1} + a^{(12434)}_{3} + b^{(12434)}_{2} + 1\\right)$"
      ],
      "text/plain": [
       "<IPython.core.display.Math object>"
      ]
     },
     "metadata": {},
     "output_type": "display_data"
    },
    {
     "data": {
      "text/latex": [
       "$\\displaystyle RLCTS = \\left[ \\left( a^{(12434)}_{2}, \\  4\\right), \\  \\left( a^{(12434)}_{4}, \\  4\\right), \\  \\left( b^{(12434)}_{1}, \\  4\\right), \\  \\left( b^{(12434)}_{3}, \\  4\\right), \\  \\left( b^{(12434)}_{4}, \\  4\\right)\\right]$"
      ],
      "text/plain": [
       "<IPython.core.display.Math object>"
      ]
     },
     "metadata": {},
     "output_type": "display_data"
    },
    {
     "data": {
      "text/latex": [
       "$\\displaystyle (\\lambda, m) = (4, 0)$"
      ],
      "text/plain": [
       "<IPython.core.display.Math object>"
      ]
     },
     "metadata": {},
     "output_type": "display_data"
    },
    {
     "data": {
      "text/latex": [
       "$\\displaystyle a^{(12433)}_{2} a^{(12433)}_{3} a^{(12433)}_{4} b^{(12433)}_{1} b^{(12433)}_{3} \\left(a^{(12433)}_{1} + b^{(12433)}_{2} + b^{(12433)}_{4} + 1\\right)$"
      ],
      "text/plain": [
       "<IPython.core.display.Math object>"
      ]
     },
     "metadata": {},
     "output_type": "display_data"
    },
    {
     "data": {
      "text/latex": [
       "$\\displaystyle RLCTS = \\left[ \\left( a^{(12433)}_{2}, \\  4\\right), \\  \\left( a^{(12433)}_{3}, \\  4\\right), \\  \\left( a^{(12433)}_{4}, \\  4\\right), \\  \\left( b^{(12433)}_{1}, \\  4\\right), \\  \\left( b^{(12433)}_{3}, \\  4\\right)\\right]$"
      ],
      "text/plain": [
       "<IPython.core.display.Math object>"
      ]
     },
     "metadata": {},
     "output_type": "display_data"
    },
    {
     "data": {
      "text/latex": [
       "$\\displaystyle (\\lambda, m) = (4, 0)$"
      ],
      "text/plain": [
       "<IPython.core.display.Math object>"
      ]
     },
     "metadata": {},
     "output_type": "display_data"
    },
    {
     "data": {
      "text/latex": [
       "$\\displaystyle a^{(12432)}_{2} a^{(12432)}_{4} b^{(12432)}_{1} b^{(12432)}_{2} b^{(12432)}_{3} \\left(a^{(12432)}_{1} + a^{(12432)}_{3} + b^{(12432)}_{4} + 1\\right)$"
      ],
      "text/plain": [
       "<IPython.core.display.Math object>"
      ]
     },
     "metadata": {},
     "output_type": "display_data"
    },
    {
     "data": {
      "text/latex": [
       "$\\displaystyle RLCTS = \\left[ \\left( a^{(12432)}_{2}, \\  4\\right), \\  \\left( a^{(12432)}_{4}, \\  4\\right), \\  \\left( b^{(12432)}_{1}, \\  4\\right), \\  \\left( b^{(12432)}_{2}, \\  4\\right), \\  \\left( b^{(12432)}_{3}, \\  4\\right)\\right]$"
      ],
      "text/plain": [
       "<IPython.core.display.Math object>"
      ]
     },
     "metadata": {},
     "output_type": "display_data"
    },
    {
     "data": {
      "text/latex": [
       "$\\displaystyle (\\lambda, m) = (4, 0)$"
      ],
      "text/plain": [
       "<IPython.core.display.Math object>"
      ]
     },
     "metadata": {},
     "output_type": "display_data"
    },
    {
     "data": {
      "text/latex": [
       "$\\displaystyle a^{(12431)}_{1} a^{(12431)}_{2} a^{(12431)}_{4} b^{(12431)}_{1} b^{(12431)}_{3} \\left(a^{(12431)}_{3} + b^{(12431)}_{2} + b^{(12431)}_{4} + 1\\right)$"
      ],
      "text/plain": [
       "<IPython.core.display.Math object>"
      ]
     },
     "metadata": {},
     "output_type": "display_data"
    },
    {
     "data": {
      "text/latex": [
       "$\\displaystyle RLCTS = \\left[ \\left( a^{(12431)}_{1}, \\  4\\right), \\  \\left( a^{(12431)}_{2}, \\  4\\right), \\  \\left( a^{(12431)}_{4}, \\  4\\right), \\  \\left( b^{(12431)}_{1}, \\  4\\right), \\  \\left( b^{(12431)}_{3}, \\  4\\right)\\right]$"
      ],
      "text/plain": [
       "<IPython.core.display.Math object>"
      ]
     },
     "metadata": {},
     "output_type": "display_data"
    },
    {
     "data": {
      "text/latex": [
       "$\\displaystyle (\\lambda, m) = (4, 0)$"
      ],
      "text/plain": [
       "<IPython.core.display.Math object>"
      ]
     },
     "metadata": {},
     "output_type": "display_data"
    },
    {
     "name": "stdout",
     "output_type": "stream",
     "text": [
      "\n",
      "---------------\n",
      "Current expression: \n"
     ]
    },
    {
     "data": {
      "text/latex": [
       "$\\displaystyle b^{(13)}_{1} b^{(13)}_{3} \\left(a^{(13)}_{1} + a^{(13)}_{2} b^{(13)}_{2} + a^{(13)}_{3} + a^{(13)}_{4} b^{(13)}_{4}\\right)$"
      ],
      "text/plain": [
       "<IPython.core.display.Math object>"
      ]
     },
     "metadata": {},
     "output_type": "display_data"
    },
    {
     "name": "stdout",
     "output_type": "stream",
     "text": [
      "Blowup coords    : [0, 4, 2, 7]\n"
     ]
    },
    {
     "data": {
      "text/latex": [
       "$\\displaystyle Blowup variables : \\left[ a^{(13)}_{1}, \\  a^{(13)}_{3}, \\  a^{(13)}_{2}, \\  b^{(13)}_{4}\\right]$"
      ],
      "text/plain": [
       "<IPython.core.display.Math object>"
      ]
     },
     "metadata": {},
     "output_type": "display_data"
    },
    {
     "data": {
      "text/latex": [
       "$\\displaystyle b^{(134)}_{1} b^{(134)}_{3} b^{(134)}_{4} \\left(a^{(134)}_{1} + a^{(134)}_{2} b^{(134)}_{2} + a^{(134)}_{3} + a^{(134)}_{4}\\right)$"
      ],
      "text/plain": [
       "<IPython.core.display.Math object>"
      ]
     },
     "metadata": {},
     "output_type": "display_data"
    },
    {
     "data": {
      "text/latex": [
       "$\\displaystyle a^{(133)}_{3} b^{(133)}_{1} b^{(133)}_{3} \\left(a^{(133)}_{1} + a^{(133)}_{2} b^{(133)}_{2} + a^{(133)}_{4} b^{(133)}_{4} + 1\\right)$"
      ],
      "text/plain": [
       "<IPython.core.display.Math object>"
      ]
     },
     "metadata": {},
     "output_type": "display_data"
    },
    {
     "data": {
      "text/latex": [
       "$\\displaystyle RLCTS = \\left[ \\left( a^{(133)}_{3}, \\  4\\right), \\  \\left( b^{(133)}_{1}, \\  4\\right), \\  \\left( b^{(133)}_{3}, \\  4\\right)\\right]$"
      ],
      "text/plain": [
       "<IPython.core.display.Math object>"
      ]
     },
     "metadata": {},
     "output_type": "display_data"
    },
    {
     "data": {
      "text/latex": [
       "$\\displaystyle (\\lambda, m) = (4, 0)$"
      ],
      "text/plain": [
       "<IPython.core.display.Math object>"
      ]
     },
     "metadata": {},
     "output_type": "display_data"
    },
    {
     "data": {
      "text/latex": [
       "$\\displaystyle a^{(132)}_{2} b^{(132)}_{1} b^{(132)}_{3} \\left(a^{(132)}_{1} + a^{(132)}_{3} + a^{(132)}_{4} b^{(132)}_{4} + b^{(132)}_{2}\\right)$"
      ],
      "text/plain": [
       "<IPython.core.display.Math object>"
      ]
     },
     "metadata": {},
     "output_type": "display_data"
    },
    {
     "data": {
      "text/latex": [
       "$\\displaystyle a^{(131)}_{1} b^{(131)}_{1} b^{(131)}_{3} \\left(a^{(131)}_{2} b^{(131)}_{2} + a^{(131)}_{3} + a^{(131)}_{4} b^{(131)}_{4} + 1\\right)$"
      ],
      "text/plain": [
       "<IPython.core.display.Math object>"
      ]
     },
     "metadata": {},
     "output_type": "display_data"
    },
    {
     "data": {
      "text/latex": [
       "$\\displaystyle RLCTS = \\left[ \\left( a^{(131)}_{1}, \\  4\\right), \\  \\left( b^{(131)}_{1}, \\  4\\right), \\  \\left( b^{(131)}_{3}, \\  4\\right)\\right]$"
      ],
      "text/plain": [
       "<IPython.core.display.Math object>"
      ]
     },
     "metadata": {},
     "output_type": "display_data"
    },
    {
     "data": {
      "text/latex": [
       "$\\displaystyle (\\lambda, m) = (4, 0)$"
      ],
      "text/plain": [
       "<IPython.core.display.Math object>"
      ]
     },
     "metadata": {},
     "output_type": "display_data"
    },
    {
     "name": "stdout",
     "output_type": "stream",
     "text": [
      "\n",
      "---------------\n",
      "Current expression: \n"
     ]
    },
    {
     "data": {
      "text/latex": [
       "$\\displaystyle a^{(132)}_{2} b^{(132)}_{1} b^{(132)}_{3} \\left(a^{(132)}_{1} + a^{(132)}_{3} + a^{(132)}_{4} b^{(132)}_{4} + b^{(132)}_{2}\\right)$"
      ],
      "text/plain": [
       "<IPython.core.display.Math object>"
      ]
     },
     "metadata": {},
     "output_type": "display_data"
    },
    {
     "name": "stdout",
     "output_type": "stream",
     "text": [
      "Blowup coords    : [0, 4, 3, 7]\n"
     ]
    },
    {
     "data": {
      "text/latex": [
       "$\\displaystyle Blowup variables : \\left[ a^{(132)}_{1}, \\  a^{(132)}_{3}, \\  b^{(132)}_{2}, \\  b^{(132)}_{4}\\right]$"
      ],
      "text/plain": [
       "<IPython.core.display.Math object>"
      ]
     },
     "metadata": {},
     "output_type": "display_data"
    },
    {
     "data": {
      "text/latex": [
       "$\\displaystyle a^{(1324)}_{2} b^{(1324)}_{1} b^{(1324)}_{3} b^{(1324)}_{4} \\left(a^{(1324)}_{1} + a^{(1324)}_{3} + a^{(1324)}_{4} + b^{(1324)}_{2}\\right)$"
      ],
      "text/plain": [
       "<IPython.core.display.Math object>"
      ]
     },
     "metadata": {},
     "output_type": "display_data"
    },
    {
     "data": {
      "text/latex": [
       "$\\displaystyle a^{(1323)}_{2} a^{(1323)}_{3} b^{(1323)}_{1} b^{(1323)}_{3} \\left(a^{(1323)}_{1} + a^{(1323)}_{4} b^{(1323)}_{4} + b^{(1323)}_{2} + 1\\right)$"
      ],
      "text/plain": [
       "<IPython.core.display.Math object>"
      ]
     },
     "metadata": {},
     "output_type": "display_data"
    },
    {
     "data": {
      "text/latex": [
       "$\\displaystyle RLCTS = \\left[ \\left( a^{(1323)}_{2}, \\  4\\right), \\  \\left( a^{(1323)}_{3}, \\  4\\right), \\  \\left( b^{(1323)}_{1}, \\  4\\right), \\  \\left( b^{(1323)}_{3}, \\  4\\right)\\right]$"
      ],
      "text/plain": [
       "<IPython.core.display.Math object>"
      ]
     },
     "metadata": {},
     "output_type": "display_data"
    },
    {
     "data": {
      "text/latex": [
       "$\\displaystyle (\\lambda, m) = (4, 0)$"
      ],
      "text/plain": [
       "<IPython.core.display.Math object>"
      ]
     },
     "metadata": {},
     "output_type": "display_data"
    },
    {
     "data": {
      "text/latex": [
       "$\\displaystyle a^{(1322)}_{2} b^{(1322)}_{1} b^{(1322)}_{2} b^{(1322)}_{3} \\left(a^{(1322)}_{1} + a^{(1322)}_{3} + a^{(1322)}_{4} b^{(1322)}_{4} + 1\\right)$"
      ],
      "text/plain": [
       "<IPython.core.display.Math object>"
      ]
     },
     "metadata": {},
     "output_type": "display_data"
    },
    {
     "data": {
      "text/latex": [
       "$\\displaystyle RLCTS = \\left[ \\left( a^{(1322)}_{2}, \\  4\\right), \\  \\left( b^{(1322)}_{1}, \\  4\\right), \\  \\left( b^{(1322)}_{2}, \\  4\\right), \\  \\left( b^{(1322)}_{3}, \\  4\\right)\\right]$"
      ],
      "text/plain": [
       "<IPython.core.display.Math object>"
      ]
     },
     "metadata": {},
     "output_type": "display_data"
    },
    {
     "data": {
      "text/latex": [
       "$\\displaystyle (\\lambda, m) = (4, 0)$"
      ],
      "text/plain": [
       "<IPython.core.display.Math object>"
      ]
     },
     "metadata": {},
     "output_type": "display_data"
    },
    {
     "data": {
      "text/latex": [
       "$\\displaystyle a^{(1321)}_{1} a^{(1321)}_{2} b^{(1321)}_{1} b^{(1321)}_{3} \\left(a^{(1321)}_{3} + a^{(1321)}_{4} b^{(1321)}_{4} + b^{(1321)}_{2} + 1\\right)$"
      ],
      "text/plain": [
       "<IPython.core.display.Math object>"
      ]
     },
     "metadata": {},
     "output_type": "display_data"
    },
    {
     "data": {
      "text/latex": [
       "$\\displaystyle RLCTS = \\left[ \\left( a^{(1321)}_{1}, \\  4\\right), \\  \\left( a^{(1321)}_{2}, \\  4\\right), \\  \\left( b^{(1321)}_{1}, \\  4\\right), \\  \\left( b^{(1321)}_{3}, \\  4\\right)\\right]$"
      ],
      "text/plain": [
       "<IPython.core.display.Math object>"
      ]
     },
     "metadata": {},
     "output_type": "display_data"
    },
    {
     "data": {
      "text/latex": [
       "$\\displaystyle (\\lambda, m) = (4, 0)$"
      ],
      "text/plain": [
       "<IPython.core.display.Math object>"
      ]
     },
     "metadata": {},
     "output_type": "display_data"
    },
    {
     "name": "stdout",
     "output_type": "stream",
     "text": [
      "\n",
      "---------------\n",
      "Current expression: \n"
     ]
    },
    {
     "data": {
      "text/latex": [
       "$\\displaystyle a^{(1324)}_{2} b^{(1324)}_{1} b^{(1324)}_{3} b^{(1324)}_{4} \\left(a^{(1324)}_{1} + a^{(1324)}_{3} + a^{(1324)}_{4} + b^{(1324)}_{2}\\right)$"
      ],
      "text/plain": [
       "<IPython.core.display.Math object>"
      ]
     },
     "metadata": {},
     "output_type": "display_data"
    },
    {
     "name": "stdout",
     "output_type": "stream",
     "text": [
      "Blowup coords    : [0, 4, 6, 3]\n"
     ]
    },
    {
     "data": {
      "text/latex": [
       "$\\displaystyle Blowup variables : \\left[ a^{(1324)}_{1}, \\  a^{(1324)}_{3}, \\  a^{(1324)}_{4}, \\  b^{(1324)}_{2}\\right]$"
      ],
      "text/plain": [
       "<IPython.core.display.Math object>"
      ]
     },
     "metadata": {},
     "output_type": "display_data"
    },
    {
     "data": {
      "text/latex": [
       "$\\displaystyle a^{(13244)}_{2} a^{(13244)}_{4} b^{(13244)}_{1} b^{(13244)}_{3} b^{(13244)}_{4} \\left(a^{(13244)}_{1} + a^{(13244)}_{3} + b^{(13244)}_{2} + 1\\right)$"
      ],
      "text/plain": [
       "<IPython.core.display.Math object>"
      ]
     },
     "metadata": {},
     "output_type": "display_data"
    },
    {
     "data": {
      "text/latex": [
       "$\\displaystyle RLCTS = \\left[ \\left( a^{(13244)}_{2}, \\  4\\right), \\  \\left( a^{(13244)}_{4}, \\  4\\right), \\  \\left( b^{(13244)}_{1}, \\  4\\right), \\  \\left( b^{(13244)}_{3}, \\  4\\right), \\  \\left( b^{(13244)}_{4}, \\  4\\right)\\right]$"
      ],
      "text/plain": [
       "<IPython.core.display.Math object>"
      ]
     },
     "metadata": {},
     "output_type": "display_data"
    },
    {
     "data": {
      "text/latex": [
       "$\\displaystyle (\\lambda, m) = (4, 0)$"
      ],
      "text/plain": [
       "<IPython.core.display.Math object>"
      ]
     },
     "metadata": {},
     "output_type": "display_data"
    },
    {
     "data": {
      "text/latex": [
       "$\\displaystyle a^{(13243)}_{2} a^{(13243)}_{3} b^{(13243)}_{1} b^{(13243)}_{3} b^{(13243)}_{4} \\left(a^{(13243)}_{1} + a^{(13243)}_{4} + b^{(13243)}_{2} + 1\\right)$"
      ],
      "text/plain": [
       "<IPython.core.display.Math object>"
      ]
     },
     "metadata": {},
     "output_type": "display_data"
    },
    {
     "data": {
      "text/latex": [
       "$\\displaystyle RLCTS = \\left[ \\left( a^{(13243)}_{2}, \\  4\\right), \\  \\left( a^{(13243)}_{3}, \\  4\\right), \\  \\left( b^{(13243)}_{1}, \\  4\\right), \\  \\left( b^{(13243)}_{3}, \\  4\\right), \\  \\left( b^{(13243)}_{4}, \\  4\\right)\\right]$"
      ],
      "text/plain": [
       "<IPython.core.display.Math object>"
      ]
     },
     "metadata": {},
     "output_type": "display_data"
    },
    {
     "data": {
      "text/latex": [
       "$\\displaystyle (\\lambda, m) = (4, 0)$"
      ],
      "text/plain": [
       "<IPython.core.display.Math object>"
      ]
     },
     "metadata": {},
     "output_type": "display_data"
    },
    {
     "data": {
      "text/latex": [
       "$\\displaystyle a^{(13242)}_{2} b^{(13242)}_{1} b^{(13242)}_{2} b^{(13242)}_{3} b^{(13242)}_{4} \\left(a^{(13242)}_{1} + a^{(13242)}_{3} + a^{(13242)}_{4} + 1\\right)$"
      ],
      "text/plain": [
       "<IPython.core.display.Math object>"
      ]
     },
     "metadata": {},
     "output_type": "display_data"
    },
    {
     "data": {
      "text/latex": [
       "$\\displaystyle RLCTS = \\left[ \\left( a^{(13242)}_{2}, \\  4\\right), \\  \\left( b^{(13242)}_{1}, \\  4\\right), \\  \\left( b^{(13242)}_{2}, \\  4\\right), \\  \\left( b^{(13242)}_{3}, \\  4\\right), \\  \\left( b^{(13242)}_{4}, \\  4\\right)\\right]$"
      ],
      "text/plain": [
       "<IPython.core.display.Math object>"
      ]
     },
     "metadata": {},
     "output_type": "display_data"
    },
    {
     "data": {
      "text/latex": [
       "$\\displaystyle (\\lambda, m) = (4, 0)$"
      ],
      "text/plain": [
       "<IPython.core.display.Math object>"
      ]
     },
     "metadata": {},
     "output_type": "display_data"
    },
    {
     "data": {
      "text/latex": [
       "$\\displaystyle a^{(13241)}_{1} a^{(13241)}_{2} b^{(13241)}_{1} b^{(13241)}_{3} b^{(13241)}_{4} \\left(a^{(13241)}_{3} + a^{(13241)}_{4} + b^{(13241)}_{2} + 1\\right)$"
      ],
      "text/plain": [
       "<IPython.core.display.Math object>"
      ]
     },
     "metadata": {},
     "output_type": "display_data"
    },
    {
     "data": {
      "text/latex": [
       "$\\displaystyle RLCTS = \\left[ \\left( a^{(13241)}_{1}, \\  4\\right), \\  \\left( a^{(13241)}_{2}, \\  4\\right), \\  \\left( b^{(13241)}_{1}, \\  4\\right), \\  \\left( b^{(13241)}_{3}, \\  4\\right), \\  \\left( b^{(13241)}_{4}, \\  4\\right)\\right]$"
      ],
      "text/plain": [
       "<IPython.core.display.Math object>"
      ]
     },
     "metadata": {},
     "output_type": "display_data"
    },
    {
     "data": {
      "text/latex": [
       "$\\displaystyle (\\lambda, m) = (4, 0)$"
      ],
      "text/plain": [
       "<IPython.core.display.Math object>"
      ]
     },
     "metadata": {},
     "output_type": "display_data"
    },
    {
     "name": "stdout",
     "output_type": "stream",
     "text": [
      "\n",
      "---------------\n",
      "Current expression: \n"
     ]
    },
    {
     "data": {
      "text/latex": [
       "$\\displaystyle b^{(134)}_{1} b^{(134)}_{3} b^{(134)}_{4} \\left(a^{(134)}_{1} + a^{(134)}_{2} b^{(134)}_{2} + a^{(134)}_{3} + a^{(134)}_{4}\\right)$"
      ],
      "text/plain": [
       "<IPython.core.display.Math object>"
      ]
     },
     "metadata": {},
     "output_type": "display_data"
    },
    {
     "name": "stdout",
     "output_type": "stream",
     "text": [
      "Blowup coords    : [0, 4, 6, 2]\n"
     ]
    },
    {
     "data": {
      "text/latex": [
       "$\\displaystyle Blowup variables : \\left[ a^{(134)}_{1}, \\  a^{(134)}_{3}, \\  a^{(134)}_{4}, \\  a^{(134)}_{2}\\right]$"
      ],
      "text/plain": [
       "<IPython.core.display.Math object>"
      ]
     },
     "metadata": {},
     "output_type": "display_data"
    },
    {
     "data": {
      "text/latex": [
       "$\\displaystyle a^{(1344)}_{4} b^{(1344)}_{1} b^{(1344)}_{3} b^{(1344)}_{4} \\left(a^{(1344)}_{1} + a^{(1344)}_{2} b^{(1344)}_{2} + a^{(1344)}_{3} + 1\\right)$"
      ],
      "text/plain": [
       "<IPython.core.display.Math object>"
      ]
     },
     "metadata": {},
     "output_type": "display_data"
    },
    {
     "data": {
      "text/latex": [
       "$\\displaystyle RLCTS = \\left[ \\left( a^{(1344)}_{4}, \\  4\\right), \\  \\left( b^{(1344)}_{1}, \\  4\\right), \\  \\left( b^{(1344)}_{3}, \\  4\\right), \\  \\left( b^{(1344)}_{4}, \\  4\\right)\\right]$"
      ],
      "text/plain": [
       "<IPython.core.display.Math object>"
      ]
     },
     "metadata": {},
     "output_type": "display_data"
    },
    {
     "data": {
      "text/latex": [
       "$\\displaystyle (\\lambda, m) = (4, 0)$"
      ],
      "text/plain": [
       "<IPython.core.display.Math object>"
      ]
     },
     "metadata": {},
     "output_type": "display_data"
    },
    {
     "data": {
      "text/latex": [
       "$\\displaystyle a^{(1343)}_{3} b^{(1343)}_{1} b^{(1343)}_{3} b^{(1343)}_{4} \\left(a^{(1343)}_{1} + a^{(1343)}_{2} b^{(1343)}_{2} + a^{(1343)}_{4} + 1\\right)$"
      ],
      "text/plain": [
       "<IPython.core.display.Math object>"
      ]
     },
     "metadata": {},
     "output_type": "display_data"
    },
    {
     "data": {
      "text/latex": [
       "$\\displaystyle RLCTS = \\left[ \\left( a^{(1343)}_{3}, \\  4\\right), \\  \\left( b^{(1343)}_{1}, \\  4\\right), \\  \\left( b^{(1343)}_{3}, \\  4\\right), \\  \\left( b^{(1343)}_{4}, \\  4\\right)\\right]$"
      ],
      "text/plain": [
       "<IPython.core.display.Math object>"
      ]
     },
     "metadata": {},
     "output_type": "display_data"
    },
    {
     "data": {
      "text/latex": [
       "$\\displaystyle (\\lambda, m) = (4, 0)$"
      ],
      "text/plain": [
       "<IPython.core.display.Math object>"
      ]
     },
     "metadata": {},
     "output_type": "display_data"
    },
    {
     "data": {
      "text/latex": [
       "$\\displaystyle a^{(1342)}_{2} b^{(1342)}_{1} b^{(1342)}_{3} b^{(1342)}_{4} \\left(a^{(1342)}_{1} + a^{(1342)}_{3} + a^{(1342)}_{4} + b^{(1342)}_{2}\\right)$"
      ],
      "text/plain": [
       "<IPython.core.display.Math object>"
      ]
     },
     "metadata": {},
     "output_type": "display_data"
    },
    {
     "data": {
      "text/latex": [
       "$\\displaystyle a^{(1341)}_{1} b^{(1341)}_{1} b^{(1341)}_{3} b^{(1341)}_{4} \\left(a^{(1341)}_{2} b^{(1341)}_{2} + a^{(1341)}_{3} + a^{(1341)}_{4} + 1\\right)$"
      ],
      "text/plain": [
       "<IPython.core.display.Math object>"
      ]
     },
     "metadata": {},
     "output_type": "display_data"
    },
    {
     "data": {
      "text/latex": [
       "$\\displaystyle RLCTS = \\left[ \\left( a^{(1341)}_{1}, \\  4\\right), \\  \\left( b^{(1341)}_{1}, \\  4\\right), \\  \\left( b^{(1341)}_{3}, \\  4\\right), \\  \\left( b^{(1341)}_{4}, \\  4\\right)\\right]$"
      ],
      "text/plain": [
       "<IPython.core.display.Math object>"
      ]
     },
     "metadata": {},
     "output_type": "display_data"
    },
    {
     "data": {
      "text/latex": [
       "$\\displaystyle (\\lambda, m) = (4, 0)$"
      ],
      "text/plain": [
       "<IPython.core.display.Math object>"
      ]
     },
     "metadata": {},
     "output_type": "display_data"
    },
    {
     "name": "stdout",
     "output_type": "stream",
     "text": [
      "\n",
      "---------------\n",
      "Current expression: \n"
     ]
    },
    {
     "data": {
      "text/latex": [
       "$\\displaystyle a^{(1342)}_{2} b^{(1342)}_{1} b^{(1342)}_{3} b^{(1342)}_{4} \\left(a^{(1342)}_{1} + a^{(1342)}_{3} + a^{(1342)}_{4} + b^{(1342)}_{2}\\right)$"
      ],
      "text/plain": [
       "<IPython.core.display.Math object>"
      ]
     },
     "metadata": {},
     "output_type": "display_data"
    },
    {
     "name": "stdout",
     "output_type": "stream",
     "text": [
      "Blowup coords    : [0, 4, 6, 3]\n"
     ]
    },
    {
     "data": {
      "text/latex": [
       "$\\displaystyle Blowup variables : \\left[ a^{(1342)}_{1}, \\  a^{(1342)}_{3}, \\  a^{(1342)}_{4}, \\  b^{(1342)}_{2}\\right]$"
      ],
      "text/plain": [
       "<IPython.core.display.Math object>"
      ]
     },
     "metadata": {},
     "output_type": "display_data"
    },
    {
     "data": {
      "text/latex": [
       "$\\displaystyle a^{(13424)}_{2} a^{(13424)}_{4} b^{(13424)}_{1} b^{(13424)}_{3} b^{(13424)}_{4} \\left(a^{(13424)}_{1} + a^{(13424)}_{3} + b^{(13424)}_{2} + 1\\right)$"
      ],
      "text/plain": [
       "<IPython.core.display.Math object>"
      ]
     },
     "metadata": {},
     "output_type": "display_data"
    },
    {
     "data": {
      "text/latex": [
       "$\\displaystyle RLCTS = \\left[ \\left( a^{(13424)}_{2}, \\  4\\right), \\  \\left( a^{(13424)}_{4}, \\  4\\right), \\  \\left( b^{(13424)}_{1}, \\  4\\right), \\  \\left( b^{(13424)}_{3}, \\  4\\right), \\  \\left( b^{(13424)}_{4}, \\  4\\right)\\right]$"
      ],
      "text/plain": [
       "<IPython.core.display.Math object>"
      ]
     },
     "metadata": {},
     "output_type": "display_data"
    },
    {
     "data": {
      "text/latex": [
       "$\\displaystyle (\\lambda, m) = (4, 0)$"
      ],
      "text/plain": [
       "<IPython.core.display.Math object>"
      ]
     },
     "metadata": {},
     "output_type": "display_data"
    },
    {
     "data": {
      "text/latex": [
       "$\\displaystyle a^{(13423)}_{2} a^{(13423)}_{3} b^{(13423)}_{1} b^{(13423)}_{3} b^{(13423)}_{4} \\left(a^{(13423)}_{1} + a^{(13423)}_{4} + b^{(13423)}_{2} + 1\\right)$"
      ],
      "text/plain": [
       "<IPython.core.display.Math object>"
      ]
     },
     "metadata": {},
     "output_type": "display_data"
    },
    {
     "data": {
      "text/latex": [
       "$\\displaystyle RLCTS = \\left[ \\left( a^{(13423)}_{2}, \\  4\\right), \\  \\left( a^{(13423)}_{3}, \\  4\\right), \\  \\left( b^{(13423)}_{1}, \\  4\\right), \\  \\left( b^{(13423)}_{3}, \\  4\\right), \\  \\left( b^{(13423)}_{4}, \\  4\\right)\\right]$"
      ],
      "text/plain": [
       "<IPython.core.display.Math object>"
      ]
     },
     "metadata": {},
     "output_type": "display_data"
    },
    {
     "data": {
      "text/latex": [
       "$\\displaystyle (\\lambda, m) = (4, 0)$"
      ],
      "text/plain": [
       "<IPython.core.display.Math object>"
      ]
     },
     "metadata": {},
     "output_type": "display_data"
    },
    {
     "data": {
      "text/latex": [
       "$\\displaystyle a^{(13422)}_{2} b^{(13422)}_{1} b^{(13422)}_{2} b^{(13422)}_{3} b^{(13422)}_{4} \\left(a^{(13422)}_{1} + a^{(13422)}_{3} + a^{(13422)}_{4} + 1\\right)$"
      ],
      "text/plain": [
       "<IPython.core.display.Math object>"
      ]
     },
     "metadata": {},
     "output_type": "display_data"
    },
    {
     "data": {
      "text/latex": [
       "$\\displaystyle RLCTS = \\left[ \\left( a^{(13422)}_{2}, \\  4\\right), \\  \\left( b^{(13422)}_{1}, \\  4\\right), \\  \\left( b^{(13422)}_{2}, \\  4\\right), \\  \\left( b^{(13422)}_{3}, \\  4\\right), \\  \\left( b^{(13422)}_{4}, \\  4\\right)\\right]$"
      ],
      "text/plain": [
       "<IPython.core.display.Math object>"
      ]
     },
     "metadata": {},
     "output_type": "display_data"
    },
    {
     "data": {
      "text/latex": [
       "$\\displaystyle (\\lambda, m) = (4, 0)$"
      ],
      "text/plain": [
       "<IPython.core.display.Math object>"
      ]
     },
     "metadata": {},
     "output_type": "display_data"
    },
    {
     "data": {
      "text/latex": [
       "$\\displaystyle a^{(13421)}_{1} a^{(13421)}_{2} b^{(13421)}_{1} b^{(13421)}_{3} b^{(13421)}_{4} \\left(a^{(13421)}_{3} + a^{(13421)}_{4} + b^{(13421)}_{2} + 1\\right)$"
      ],
      "text/plain": [
       "<IPython.core.display.Math object>"
      ]
     },
     "metadata": {},
     "output_type": "display_data"
    },
    {
     "data": {
      "text/latex": [
       "$\\displaystyle RLCTS = \\left[ \\left( a^{(13421)}_{1}, \\  4\\right), \\  \\left( a^{(13421)}_{2}, \\  4\\right), \\  \\left( b^{(13421)}_{1}, \\  4\\right), \\  \\left( b^{(13421)}_{3}, \\  4\\right), \\  \\left( b^{(13421)}_{4}, \\  4\\right)\\right]$"
      ],
      "text/plain": [
       "<IPython.core.display.Math object>"
      ]
     },
     "metadata": {},
     "output_type": "display_data"
    },
    {
     "data": {
      "text/latex": [
       "$\\displaystyle (\\lambda, m) = (4, 0)$"
      ],
      "text/plain": [
       "<IPython.core.display.Math object>"
      ]
     },
     "metadata": {},
     "output_type": "display_data"
    },
    {
     "name": "stdout",
     "output_type": "stream",
     "text": [
      "\n",
      "---------------\n",
      "Current expression: \n"
     ]
    },
    {
     "data": {
      "text/latex": [
       "$\\displaystyle b^{(14)}_{1} b^{(14)}_{4} \\left(a^{(14)}_{1} + a^{(14)}_{2} b^{(14)}_{2} + a^{(14)}_{3} b^{(14)}_{3} + a^{(14)}_{4}\\right)$"
      ],
      "text/plain": [
       "<IPython.core.display.Math object>"
      ]
     },
     "metadata": {},
     "output_type": "display_data"
    },
    {
     "name": "stdout",
     "output_type": "stream",
     "text": [
      "Blowup coords    : [0, 6, 3, 5]\n"
     ]
    },
    {
     "data": {
      "text/latex": [
       "$\\displaystyle Blowup variables : \\left[ a^{(14)}_{1}, \\  a^{(14)}_{4}, \\  b^{(14)}_{2}, \\  b^{(14)}_{3}\\right]$"
      ],
      "text/plain": [
       "<IPython.core.display.Math object>"
      ]
     },
     "metadata": {},
     "output_type": "display_data"
    },
    {
     "data": {
      "text/latex": [
       "$\\displaystyle a^{(144)}_{4} b^{(144)}_{1} b^{(144)}_{4} \\left(a^{(144)}_{1} + a^{(144)}_{2} b^{(144)}_{2} + a^{(144)}_{3} b^{(144)}_{3} + 1\\right)$"
      ],
      "text/plain": [
       "<IPython.core.display.Math object>"
      ]
     },
     "metadata": {},
     "output_type": "display_data"
    },
    {
     "data": {
      "text/latex": [
       "$\\displaystyle RLCTS = \\left[ \\left( a^{(144)}_{4}, \\  4\\right), \\  \\left( b^{(144)}_{1}, \\  4\\right), \\  \\left( b^{(144)}_{4}, \\  4\\right)\\right]$"
      ],
      "text/plain": [
       "<IPython.core.display.Math object>"
      ]
     },
     "metadata": {},
     "output_type": "display_data"
    },
    {
     "data": {
      "text/latex": [
       "$\\displaystyle (\\lambda, m) = (4, 0)$"
      ],
      "text/plain": [
       "<IPython.core.display.Math object>"
      ]
     },
     "metadata": {},
     "output_type": "display_data"
    },
    {
     "data": {
      "text/latex": [
       "$\\displaystyle b^{(143)}_{1} b^{(143)}_{3} b^{(143)}_{4} \\left(a^{(143)}_{1} + a^{(143)}_{2} b^{(143)}_{2} + a^{(143)}_{3} + a^{(143)}_{4}\\right)$"
      ],
      "text/plain": [
       "<IPython.core.display.Math object>"
      ]
     },
     "metadata": {},
     "output_type": "display_data"
    },
    {
     "data": {
      "text/latex": [
       "$\\displaystyle b^{(142)}_{1} b^{(142)}_{2} b^{(142)}_{4} \\left(a^{(142)}_{1} + a^{(142)}_{2} + a^{(142)}_{3} b^{(142)}_{3} + a^{(142)}_{4}\\right)$"
      ],
      "text/plain": [
       "<IPython.core.display.Math object>"
      ]
     },
     "metadata": {},
     "output_type": "display_data"
    },
    {
     "data": {
      "text/latex": [
       "$\\displaystyle a^{(141)}_{1} b^{(141)}_{1} b^{(141)}_{4} \\left(a^{(141)}_{2} b^{(141)}_{2} + a^{(141)}_{3} b^{(141)}_{3} + a^{(141)}_{4} + 1\\right)$"
      ],
      "text/plain": [
       "<IPython.core.display.Math object>"
      ]
     },
     "metadata": {},
     "output_type": "display_data"
    },
    {
     "data": {
      "text/latex": [
       "$\\displaystyle RLCTS = \\left[ \\left( a^{(141)}_{1}, \\  4\\right), \\  \\left( b^{(141)}_{1}, \\  4\\right), \\  \\left( b^{(141)}_{4}, \\  4\\right)\\right]$"
      ],
      "text/plain": [
       "<IPython.core.display.Math object>"
      ]
     },
     "metadata": {},
     "output_type": "display_data"
    },
    {
     "data": {
      "text/latex": [
       "$\\displaystyle (\\lambda, m) = (4, 0)$"
      ],
      "text/plain": [
       "<IPython.core.display.Math object>"
      ]
     },
     "metadata": {},
     "output_type": "display_data"
    },
    {
     "name": "stdout",
     "output_type": "stream",
     "text": [
      "\n",
      "---------------\n",
      "Current expression: \n"
     ]
    },
    {
     "data": {
      "text/latex": [
       "$\\displaystyle b^{(142)}_{1} b^{(142)}_{2} b^{(142)}_{4} \\left(a^{(142)}_{1} + a^{(142)}_{2} + a^{(142)}_{3} b^{(142)}_{3} + a^{(142)}_{4}\\right)$"
      ],
      "text/plain": [
       "<IPython.core.display.Math object>"
      ]
     },
     "metadata": {},
     "output_type": "display_data"
    },
    {
     "name": "stdout",
     "output_type": "stream",
     "text": [
      "Blowup coords    : [0, 2, 6, 4]\n"
     ]
    },
    {
     "data": {
      "text/latex": [
       "$\\displaystyle Blowup variables : \\left[ a^{(142)}_{1}, \\  a^{(142)}_{2}, \\  a^{(142)}_{4}, \\  a^{(142)}_{3}\\right]$"
      ],
      "text/plain": [
       "<IPython.core.display.Math object>"
      ]
     },
     "metadata": {},
     "output_type": "display_data"
    },
    {
     "data": {
      "text/latex": [
       "$\\displaystyle a^{(1424)}_{4} b^{(1424)}_{1} b^{(1424)}_{2} b^{(1424)}_{4} \\left(a^{(1424)}_{1} + a^{(1424)}_{2} + a^{(1424)}_{3} b^{(1424)}_{3} + 1\\right)$"
      ],
      "text/plain": [
       "<IPython.core.display.Math object>"
      ]
     },
     "metadata": {},
     "output_type": "display_data"
    },
    {
     "data": {
      "text/latex": [
       "$\\displaystyle RLCTS = \\left[ \\left( a^{(1424)}_{4}, \\  4\\right), \\  \\left( b^{(1424)}_{1}, \\  4\\right), \\  \\left( b^{(1424)}_{2}, \\  4\\right), \\  \\left( b^{(1424)}_{4}, \\  4\\right)\\right]$"
      ],
      "text/plain": [
       "<IPython.core.display.Math object>"
      ]
     },
     "metadata": {},
     "output_type": "display_data"
    },
    {
     "data": {
      "text/latex": [
       "$\\displaystyle (\\lambda, m) = (4, 0)$"
      ],
      "text/plain": [
       "<IPython.core.display.Math object>"
      ]
     },
     "metadata": {},
     "output_type": "display_data"
    },
    {
     "data": {
      "text/latex": [
       "$\\displaystyle a^{(1423)}_{3} b^{(1423)}_{1} b^{(1423)}_{2} b^{(1423)}_{4} \\left(a^{(1423)}_{1} + a^{(1423)}_{2} + a^{(1423)}_{4} + b^{(1423)}_{3}\\right)$"
      ],
      "text/plain": [
       "<IPython.core.display.Math object>"
      ]
     },
     "metadata": {},
     "output_type": "display_data"
    },
    {
     "data": {
      "text/latex": [
       "$\\displaystyle a^{(1422)}_{2} b^{(1422)}_{1} b^{(1422)}_{2} b^{(1422)}_{4} \\left(a^{(1422)}_{1} + a^{(1422)}_{3} b^{(1422)}_{3} + a^{(1422)}_{4} + 1\\right)$"
      ],
      "text/plain": [
       "<IPython.core.display.Math object>"
      ]
     },
     "metadata": {},
     "output_type": "display_data"
    },
    {
     "data": {
      "text/latex": [
       "$\\displaystyle RLCTS = \\left[ \\left( a^{(1422)}_{2}, \\  4\\right), \\  \\left( b^{(1422)}_{1}, \\  4\\right), \\  \\left( b^{(1422)}_{2}, \\  4\\right), \\  \\left( b^{(1422)}_{4}, \\  4\\right)\\right]$"
      ],
      "text/plain": [
       "<IPython.core.display.Math object>"
      ]
     },
     "metadata": {},
     "output_type": "display_data"
    },
    {
     "data": {
      "text/latex": [
       "$\\displaystyle (\\lambda, m) = (4, 0)$"
      ],
      "text/plain": [
       "<IPython.core.display.Math object>"
      ]
     },
     "metadata": {},
     "output_type": "display_data"
    },
    {
     "data": {
      "text/latex": [
       "$\\displaystyle a^{(1421)}_{1} b^{(1421)}_{1} b^{(1421)}_{2} b^{(1421)}_{4} \\left(a^{(1421)}_{2} + a^{(1421)}_{3} b^{(1421)}_{3} + a^{(1421)}_{4} + 1\\right)$"
      ],
      "text/plain": [
       "<IPython.core.display.Math object>"
      ]
     },
     "metadata": {},
     "output_type": "display_data"
    },
    {
     "data": {
      "text/latex": [
       "$\\displaystyle RLCTS = \\left[ \\left( a^{(1421)}_{1}, \\  4\\right), \\  \\left( b^{(1421)}_{1}, \\  4\\right), \\  \\left( b^{(1421)}_{2}, \\  4\\right), \\  \\left( b^{(1421)}_{4}, \\  4\\right)\\right]$"
      ],
      "text/plain": [
       "<IPython.core.display.Math object>"
      ]
     },
     "metadata": {},
     "output_type": "display_data"
    },
    {
     "data": {
      "text/latex": [
       "$\\displaystyle (\\lambda, m) = (4, 0)$"
      ],
      "text/plain": [
       "<IPython.core.display.Math object>"
      ]
     },
     "metadata": {},
     "output_type": "display_data"
    },
    {
     "name": "stdout",
     "output_type": "stream",
     "text": [
      "\n",
      "---------------\n",
      "Current expression: \n"
     ]
    },
    {
     "data": {
      "text/latex": [
       "$\\displaystyle a^{(1423)}_{3} b^{(1423)}_{1} b^{(1423)}_{2} b^{(1423)}_{4} \\left(a^{(1423)}_{1} + a^{(1423)}_{2} + a^{(1423)}_{4} + b^{(1423)}_{3}\\right)$"
      ],
      "text/plain": [
       "<IPython.core.display.Math object>"
      ]
     },
     "metadata": {},
     "output_type": "display_data"
    },
    {
     "name": "stdout",
     "output_type": "stream",
     "text": [
      "Blowup coords    : [0, 2, 6, 5]\n"
     ]
    },
    {
     "data": {
      "text/latex": [
       "$\\displaystyle Blowup variables : \\left[ a^{(1423)}_{1}, \\  a^{(1423)}_{2}, \\  a^{(1423)}_{4}, \\  b^{(1423)}_{3}\\right]$"
      ],
      "text/plain": [
       "<IPython.core.display.Math object>"
      ]
     },
     "metadata": {},
     "output_type": "display_data"
    },
    {
     "data": {
      "text/latex": [
       "$\\displaystyle a^{(14234)}_{3} a^{(14234)}_{4} b^{(14234)}_{1} b^{(14234)}_{2} b^{(14234)}_{4} \\left(a^{(14234)}_{1} + a^{(14234)}_{2} + b^{(14234)}_{3} + 1\\right)$"
      ],
      "text/plain": [
       "<IPython.core.display.Math object>"
      ]
     },
     "metadata": {},
     "output_type": "display_data"
    },
    {
     "data": {
      "text/latex": [
       "$\\displaystyle RLCTS = \\left[ \\left( a^{(14234)}_{3}, \\  4\\right), \\  \\left( a^{(14234)}_{4}, \\  4\\right), \\  \\left( b^{(14234)}_{1}, \\  4\\right), \\  \\left( b^{(14234)}_{2}, \\  4\\right), \\  \\left( b^{(14234)}_{4}, \\  4\\right)\\right]$"
      ],
      "text/plain": [
       "<IPython.core.display.Math object>"
      ]
     },
     "metadata": {},
     "output_type": "display_data"
    },
    {
     "data": {
      "text/latex": [
       "$\\displaystyle (\\lambda, m) = (4, 0)$"
      ],
      "text/plain": [
       "<IPython.core.display.Math object>"
      ]
     },
     "metadata": {},
     "output_type": "display_data"
    },
    {
     "data": {
      "text/latex": [
       "$\\displaystyle a^{(14233)}_{3} b^{(14233)}_{1} b^{(14233)}_{2} b^{(14233)}_{3} b^{(14233)}_{4} \\left(a^{(14233)}_{1} + a^{(14233)}_{2} + a^{(14233)}_{4} + 1\\right)$"
      ],
      "text/plain": [
       "<IPython.core.display.Math object>"
      ]
     },
     "metadata": {},
     "output_type": "display_data"
    },
    {
     "data": {
      "text/latex": [
       "$\\displaystyle RLCTS = \\left[ \\left( a^{(14233)}_{3}, \\  4\\right), \\  \\left( b^{(14233)}_{1}, \\  4\\right), \\  \\left( b^{(14233)}_{2}, \\  4\\right), \\  \\left( b^{(14233)}_{3}, \\  4\\right), \\  \\left( b^{(14233)}_{4}, \\  4\\right)\\right]$"
      ],
      "text/plain": [
       "<IPython.core.display.Math object>"
      ]
     },
     "metadata": {},
     "output_type": "display_data"
    },
    {
     "data": {
      "text/latex": [
       "$\\displaystyle (\\lambda, m) = (4, 0)$"
      ],
      "text/plain": [
       "<IPython.core.display.Math object>"
      ]
     },
     "metadata": {},
     "output_type": "display_data"
    },
    {
     "data": {
      "text/latex": [
       "$\\displaystyle a^{(14232)}_{2} a^{(14232)}_{3} b^{(14232)}_{1} b^{(14232)}_{2} b^{(14232)}_{4} \\left(a^{(14232)}_{1} + a^{(14232)}_{4} + b^{(14232)}_{3} + 1\\right)$"
      ],
      "text/plain": [
       "<IPython.core.display.Math object>"
      ]
     },
     "metadata": {},
     "output_type": "display_data"
    },
    {
     "data": {
      "text/latex": [
       "$\\displaystyle RLCTS = \\left[ \\left( a^{(14232)}_{2}, \\  4\\right), \\  \\left( a^{(14232)}_{3}, \\  4\\right), \\  \\left( b^{(14232)}_{1}, \\  4\\right), \\  \\left( b^{(14232)}_{2}, \\  4\\right), \\  \\left( b^{(14232)}_{4}, \\  4\\right)\\right]$"
      ],
      "text/plain": [
       "<IPython.core.display.Math object>"
      ]
     },
     "metadata": {},
     "output_type": "display_data"
    },
    {
     "data": {
      "text/latex": [
       "$\\displaystyle (\\lambda, m) = (4, 0)$"
      ],
      "text/plain": [
       "<IPython.core.display.Math object>"
      ]
     },
     "metadata": {},
     "output_type": "display_data"
    },
    {
     "data": {
      "text/latex": [
       "$\\displaystyle a^{(14231)}_{1} a^{(14231)}_{3} b^{(14231)}_{1} b^{(14231)}_{2} b^{(14231)}_{4} \\left(a^{(14231)}_{2} + a^{(14231)}_{4} + b^{(14231)}_{3} + 1\\right)$"
      ],
      "text/plain": [
       "<IPython.core.display.Math object>"
      ]
     },
     "metadata": {},
     "output_type": "display_data"
    },
    {
     "data": {
      "text/latex": [
       "$\\displaystyle RLCTS = \\left[ \\left( a^{(14231)}_{1}, \\  4\\right), \\  \\left( a^{(14231)}_{3}, \\  4\\right), \\  \\left( b^{(14231)}_{1}, \\  4\\right), \\  \\left( b^{(14231)}_{2}, \\  4\\right), \\  \\left( b^{(14231)}_{4}, \\  4\\right)\\right]$"
      ],
      "text/plain": [
       "<IPython.core.display.Math object>"
      ]
     },
     "metadata": {},
     "output_type": "display_data"
    },
    {
     "data": {
      "text/latex": [
       "$\\displaystyle (\\lambda, m) = (4, 0)$"
      ],
      "text/plain": [
       "<IPython.core.display.Math object>"
      ]
     },
     "metadata": {},
     "output_type": "display_data"
    },
    {
     "name": "stdout",
     "output_type": "stream",
     "text": [
      "\n",
      "---------------\n",
      "Current expression: \n"
     ]
    },
    {
     "data": {
      "text/latex": [
       "$\\displaystyle b^{(143)}_{1} b^{(143)}_{3} b^{(143)}_{4} \\left(a^{(143)}_{1} + a^{(143)}_{2} b^{(143)}_{2} + a^{(143)}_{3} + a^{(143)}_{4}\\right)$"
      ],
      "text/plain": [
       "<IPython.core.display.Math object>"
      ]
     },
     "metadata": {},
     "output_type": "display_data"
    },
    {
     "name": "stdout",
     "output_type": "stream",
     "text": [
      "Blowup coords    : [0, 4, 6, 2]\n"
     ]
    },
    {
     "data": {
      "text/latex": [
       "$\\displaystyle Blowup variables : \\left[ a^{(143)}_{1}, \\  a^{(143)}_{3}, \\  a^{(143)}_{4}, \\  a^{(143)}_{2}\\right]$"
      ],
      "text/plain": [
       "<IPython.core.display.Math object>"
      ]
     },
     "metadata": {},
     "output_type": "display_data"
    },
    {
     "data": {
      "text/latex": [
       "$\\displaystyle a^{(1434)}_{4} b^{(1434)}_{1} b^{(1434)}_{3} b^{(1434)}_{4} \\left(a^{(1434)}_{1} + a^{(1434)}_{2} b^{(1434)}_{2} + a^{(1434)}_{3} + 1\\right)$"
      ],
      "text/plain": [
       "<IPython.core.display.Math object>"
      ]
     },
     "metadata": {},
     "output_type": "display_data"
    },
    {
     "data": {
      "text/latex": [
       "$\\displaystyle RLCTS = \\left[ \\left( a^{(1434)}_{4}, \\  4\\right), \\  \\left( b^{(1434)}_{1}, \\  4\\right), \\  \\left( b^{(1434)}_{3}, \\  4\\right), \\  \\left( b^{(1434)}_{4}, \\  4\\right)\\right]$"
      ],
      "text/plain": [
       "<IPython.core.display.Math object>"
      ]
     },
     "metadata": {},
     "output_type": "display_data"
    },
    {
     "data": {
      "text/latex": [
       "$\\displaystyle (\\lambda, m) = (4, 0)$"
      ],
      "text/plain": [
       "<IPython.core.display.Math object>"
      ]
     },
     "metadata": {},
     "output_type": "display_data"
    },
    {
     "data": {
      "text/latex": [
       "$\\displaystyle a^{(1433)}_{3} b^{(1433)}_{1} b^{(1433)}_{3} b^{(1433)}_{4} \\left(a^{(1433)}_{1} + a^{(1433)}_{2} b^{(1433)}_{2} + a^{(1433)}_{4} + 1\\right)$"
      ],
      "text/plain": [
       "<IPython.core.display.Math object>"
      ]
     },
     "metadata": {},
     "output_type": "display_data"
    },
    {
     "data": {
      "text/latex": [
       "$\\displaystyle RLCTS = \\left[ \\left( a^{(1433)}_{3}, \\  4\\right), \\  \\left( b^{(1433)}_{1}, \\  4\\right), \\  \\left( b^{(1433)}_{3}, \\  4\\right), \\  \\left( b^{(1433)}_{4}, \\  4\\right)\\right]$"
      ],
      "text/plain": [
       "<IPython.core.display.Math object>"
      ]
     },
     "metadata": {},
     "output_type": "display_data"
    },
    {
     "data": {
      "text/latex": [
       "$\\displaystyle (\\lambda, m) = (4, 0)$"
      ],
      "text/plain": [
       "<IPython.core.display.Math object>"
      ]
     },
     "metadata": {},
     "output_type": "display_data"
    },
    {
     "data": {
      "text/latex": [
       "$\\displaystyle a^{(1432)}_{2} b^{(1432)}_{1} b^{(1432)}_{3} b^{(1432)}_{4} \\left(a^{(1432)}_{1} + a^{(1432)}_{3} + a^{(1432)}_{4} + b^{(1432)}_{2}\\right)$"
      ],
      "text/plain": [
       "<IPython.core.display.Math object>"
      ]
     },
     "metadata": {},
     "output_type": "display_data"
    },
    {
     "data": {
      "text/latex": [
       "$\\displaystyle a^{(1431)}_{1} b^{(1431)}_{1} b^{(1431)}_{3} b^{(1431)}_{4} \\left(a^{(1431)}_{2} b^{(1431)}_{2} + a^{(1431)}_{3} + a^{(1431)}_{4} + 1\\right)$"
      ],
      "text/plain": [
       "<IPython.core.display.Math object>"
      ]
     },
     "metadata": {},
     "output_type": "display_data"
    },
    {
     "data": {
      "text/latex": [
       "$\\displaystyle RLCTS = \\left[ \\left( a^{(1431)}_{1}, \\  4\\right), \\  \\left( b^{(1431)}_{1}, \\  4\\right), \\  \\left( b^{(1431)}_{3}, \\  4\\right), \\  \\left( b^{(1431)}_{4}, \\  4\\right)\\right]$"
      ],
      "text/plain": [
       "<IPython.core.display.Math object>"
      ]
     },
     "metadata": {},
     "output_type": "display_data"
    },
    {
     "data": {
      "text/latex": [
       "$\\displaystyle (\\lambda, m) = (4, 0)$"
      ],
      "text/plain": [
       "<IPython.core.display.Math object>"
      ]
     },
     "metadata": {},
     "output_type": "display_data"
    },
    {
     "name": "stdout",
     "output_type": "stream",
     "text": [
      "\n",
      "---------------\n",
      "Current expression: \n"
     ]
    },
    {
     "data": {
      "text/latex": [
       "$\\displaystyle a^{(1432)}_{2} b^{(1432)}_{1} b^{(1432)}_{3} b^{(1432)}_{4} \\left(a^{(1432)}_{1} + a^{(1432)}_{3} + a^{(1432)}_{4} + b^{(1432)}_{2}\\right)$"
      ],
      "text/plain": [
       "<IPython.core.display.Math object>"
      ]
     },
     "metadata": {},
     "output_type": "display_data"
    },
    {
     "name": "stdout",
     "output_type": "stream",
     "text": [
      "Blowup coords    : [0, 4, 6, 3]\n"
     ]
    },
    {
     "data": {
      "text/latex": [
       "$\\displaystyle Blowup variables : \\left[ a^{(1432)}_{1}, \\  a^{(1432)}_{3}, \\  a^{(1432)}_{4}, \\  b^{(1432)}_{2}\\right]$"
      ],
      "text/plain": [
       "<IPython.core.display.Math object>"
      ]
     },
     "metadata": {},
     "output_type": "display_data"
    },
    {
     "data": {
      "text/latex": [
       "$\\displaystyle a^{(14324)}_{2} a^{(14324)}_{4} b^{(14324)}_{1} b^{(14324)}_{3} b^{(14324)}_{4} \\left(a^{(14324)}_{1} + a^{(14324)}_{3} + b^{(14324)}_{2} + 1\\right)$"
      ],
      "text/plain": [
       "<IPython.core.display.Math object>"
      ]
     },
     "metadata": {},
     "output_type": "display_data"
    },
    {
     "data": {
      "text/latex": [
       "$\\displaystyle RLCTS = \\left[ \\left( a^{(14324)}_{2}, \\  4\\right), \\  \\left( a^{(14324)}_{4}, \\  4\\right), \\  \\left( b^{(14324)}_{1}, \\  4\\right), \\  \\left( b^{(14324)}_{3}, \\  4\\right), \\  \\left( b^{(14324)}_{4}, \\  4\\right)\\right]$"
      ],
      "text/plain": [
       "<IPython.core.display.Math object>"
      ]
     },
     "metadata": {},
     "output_type": "display_data"
    },
    {
     "data": {
      "text/latex": [
       "$\\displaystyle (\\lambda, m) = (4, 0)$"
      ],
      "text/plain": [
       "<IPython.core.display.Math object>"
      ]
     },
     "metadata": {},
     "output_type": "display_data"
    },
    {
     "data": {
      "text/latex": [
       "$\\displaystyle a^{(14323)}_{2} a^{(14323)}_{3} b^{(14323)}_{1} b^{(14323)}_{3} b^{(14323)}_{4} \\left(a^{(14323)}_{1} + a^{(14323)}_{4} + b^{(14323)}_{2} + 1\\right)$"
      ],
      "text/plain": [
       "<IPython.core.display.Math object>"
      ]
     },
     "metadata": {},
     "output_type": "display_data"
    },
    {
     "data": {
      "text/latex": [
       "$\\displaystyle RLCTS = \\left[ \\left( a^{(14323)}_{2}, \\  4\\right), \\  \\left( a^{(14323)}_{3}, \\  4\\right), \\  \\left( b^{(14323)}_{1}, \\  4\\right), \\  \\left( b^{(14323)}_{3}, \\  4\\right), \\  \\left( b^{(14323)}_{4}, \\  4\\right)\\right]$"
      ],
      "text/plain": [
       "<IPython.core.display.Math object>"
      ]
     },
     "metadata": {},
     "output_type": "display_data"
    },
    {
     "data": {
      "text/latex": [
       "$\\displaystyle (\\lambda, m) = (4, 0)$"
      ],
      "text/plain": [
       "<IPython.core.display.Math object>"
      ]
     },
     "metadata": {},
     "output_type": "display_data"
    },
    {
     "data": {
      "text/latex": [
       "$\\displaystyle a^{(14322)}_{2} b^{(14322)}_{1} b^{(14322)}_{2} b^{(14322)}_{3} b^{(14322)}_{4} \\left(a^{(14322)}_{1} + a^{(14322)}_{3} + a^{(14322)}_{4} + 1\\right)$"
      ],
      "text/plain": [
       "<IPython.core.display.Math object>"
      ]
     },
     "metadata": {},
     "output_type": "display_data"
    },
    {
     "data": {
      "text/latex": [
       "$\\displaystyle RLCTS = \\left[ \\left( a^{(14322)}_{2}, \\  4\\right), \\  \\left( b^{(14322)}_{1}, \\  4\\right), \\  \\left( b^{(14322)}_{2}, \\  4\\right), \\  \\left( b^{(14322)}_{3}, \\  4\\right), \\  \\left( b^{(14322)}_{4}, \\  4\\right)\\right]$"
      ],
      "text/plain": [
       "<IPython.core.display.Math object>"
      ]
     },
     "metadata": {},
     "output_type": "display_data"
    },
    {
     "data": {
      "text/latex": [
       "$\\displaystyle (\\lambda, m) = (4, 0)$"
      ],
      "text/plain": [
       "<IPython.core.display.Math object>"
      ]
     },
     "metadata": {},
     "output_type": "display_data"
    },
    {
     "data": {
      "text/latex": [
       "$\\displaystyle a^{(14321)}_{1} a^{(14321)}_{2} b^{(14321)}_{1} b^{(14321)}_{3} b^{(14321)}_{4} \\left(a^{(14321)}_{3} + a^{(14321)}_{4} + b^{(14321)}_{2} + 1\\right)$"
      ],
      "text/plain": [
       "<IPython.core.display.Math object>"
      ]
     },
     "metadata": {},
     "output_type": "display_data"
    },
    {
     "data": {
      "text/latex": [
       "$\\displaystyle RLCTS = \\left[ \\left( a^{(14321)}_{1}, \\  4\\right), \\  \\left( a^{(14321)}_{2}, \\  4\\right), \\  \\left( b^{(14321)}_{1}, \\  4\\right), \\  \\left( b^{(14321)}_{3}, \\  4\\right), \\  \\left( b^{(14321)}_{4}, \\  4\\right)\\right]$"
      ],
      "text/plain": [
       "<IPython.core.display.Math object>"
      ]
     },
     "metadata": {},
     "output_type": "display_data"
    },
    {
     "data": {
      "text/latex": [
       "$\\displaystyle (\\lambda, m) = (4, 0)$"
      ],
      "text/plain": [
       "<IPython.core.display.Math object>"
      ]
     },
     "metadata": {},
     "output_type": "display_data"
    },
    {
     "name": "stdout",
     "output_type": "stream",
     "text": [
      "\n",
      "---------------\n",
      "Current expression: \n"
     ]
    },
    {
     "data": {
      "text/latex": [
       "$\\displaystyle b^{(2)}_{2} \\left(a^{(2)}_{1} b^{(2)}_{1} + a^{(2)}_{2} + a^{(2)}_{3} b^{(2)}_{3} + a^{(2)}_{4} b^{(2)}_{4}\\right)$"
      ],
      "text/plain": [
       "<IPython.core.display.Math object>"
      ]
     },
     "metadata": {},
     "output_type": "display_data"
    },
    {
     "name": "stdout",
     "output_type": "stream",
     "text": [
      "Blowup coords    : [2, 0, 4, 7]\n"
     ]
    },
    {
     "data": {
      "text/latex": [
       "$\\displaystyle Blowup variables : \\left[ a^{(2)}_{2}, \\  a^{(2)}_{1}, \\  a^{(2)}_{3}, \\  b^{(2)}_{4}\\right]$"
      ],
      "text/plain": [
       "<IPython.core.display.Math object>"
      ]
     },
     "metadata": {},
     "output_type": "display_data"
    },
    {
     "data": {
      "text/latex": [
       "$\\displaystyle b^{(24)}_{2} b^{(24)}_{4} \\left(a^{(24)}_{1} b^{(24)}_{1} + a^{(24)}_{2} + a^{(24)}_{3} b^{(24)}_{3} + a^{(24)}_{4}\\right)$"
      ],
      "text/plain": [
       "<IPython.core.display.Math object>"
      ]
     },
     "metadata": {},
     "output_type": "display_data"
    },
    {
     "data": {
      "text/latex": [
       "$\\displaystyle a^{(23)}_{3} b^{(23)}_{2} \\left(a^{(23)}_{1} b^{(23)}_{1} + a^{(23)}_{2} + a^{(23)}_{4} b^{(23)}_{4} + b^{(23)}_{3}\\right)$"
      ],
      "text/plain": [
       "<IPython.core.display.Math object>"
      ]
     },
     "metadata": {},
     "output_type": "display_data"
    },
    {
     "data": {
      "text/latex": [
       "$\\displaystyle a^{(22)}_{2} b^{(22)}_{2} \\left(a^{(22)}_{1} b^{(22)}_{1} + a^{(22)}_{3} b^{(22)}_{3} + a^{(22)}_{4} b^{(22)}_{4} + 1\\right)$"
      ],
      "text/plain": [
       "<IPython.core.display.Math object>"
      ]
     },
     "metadata": {},
     "output_type": "display_data"
    },
    {
     "data": {
      "text/latex": [
       "$\\displaystyle RLCTS = \\left[ \\left( a^{(22)}_{2}, \\  4\\right), \\  \\left( b^{(22)}_{2}, \\  4\\right)\\right]$"
      ],
      "text/plain": [
       "<IPython.core.display.Math object>"
      ]
     },
     "metadata": {},
     "output_type": "display_data"
    },
    {
     "data": {
      "text/latex": [
       "$\\displaystyle (\\lambda, m) = (4, 0)$"
      ],
      "text/plain": [
       "<IPython.core.display.Math object>"
      ]
     },
     "metadata": {},
     "output_type": "display_data"
    },
    {
     "data": {
      "text/latex": [
       "$\\displaystyle a^{(21)}_{1} b^{(21)}_{2} \\left(a^{(21)}_{2} + a^{(21)}_{3} b^{(21)}_{3} + a^{(21)}_{4} b^{(21)}_{4} + b^{(21)}_{1}\\right)$"
      ],
      "text/plain": [
       "<IPython.core.display.Math object>"
      ]
     },
     "metadata": {},
     "output_type": "display_data"
    },
    {
     "name": "stdout",
     "output_type": "stream",
     "text": [
      "\n",
      "---------------\n",
      "Current expression: \n"
     ]
    },
    {
     "data": {
      "text/latex": [
       "$\\displaystyle a^{(21)}_{1} b^{(21)}_{2} \\left(a^{(21)}_{2} + a^{(21)}_{3} b^{(21)}_{3} + a^{(21)}_{4} b^{(21)}_{4} + b^{(21)}_{1}\\right)$"
      ],
      "text/plain": [
       "<IPython.core.display.Math object>"
      ]
     },
     "metadata": {},
     "output_type": "display_data"
    },
    {
     "name": "stdout",
     "output_type": "stream",
     "text": [
      "Blowup coords    : [2, 1, 5, 7]\n"
     ]
    },
    {
     "data": {
      "text/latex": [
       "$\\displaystyle Blowup variables : \\left[ a^{(21)}_{2}, \\  b^{(21)}_{1}, \\  b^{(21)}_{3}, \\  b^{(21)}_{4}\\right]$"
      ],
      "text/plain": [
       "<IPython.core.display.Math object>"
      ]
     },
     "metadata": {},
     "output_type": "display_data"
    },
    {
     "data": {
      "text/latex": [
       "$\\displaystyle a^{(214)}_{1} b^{(214)}_{2} b^{(214)}_{4} \\left(a^{(214)}_{2} + a^{(214)}_{3} b^{(214)}_{3} + a^{(214)}_{4} + b^{(214)}_{1}\\right)$"
      ],
      "text/plain": [
       "<IPython.core.display.Math object>"
      ]
     },
     "metadata": {},
     "output_type": "display_data"
    },
    {
     "data": {
      "text/latex": [
       "$\\displaystyle a^{(213)}_{1} b^{(213)}_{2} b^{(213)}_{3} \\left(a^{(213)}_{2} + a^{(213)}_{3} + a^{(213)}_{4} b^{(213)}_{4} + b^{(213)}_{1}\\right)$"
      ],
      "text/plain": [
       "<IPython.core.display.Math object>"
      ]
     },
     "metadata": {},
     "output_type": "display_data"
    },
    {
     "data": {
      "text/latex": [
       "$\\displaystyle a^{(212)}_{1} a^{(212)}_{2} b^{(212)}_{2} \\left(a^{(212)}_{3} b^{(212)}_{3} + a^{(212)}_{4} b^{(212)}_{4} + b^{(212)}_{1} + 1\\right)$"
      ],
      "text/plain": [
       "<IPython.core.display.Math object>"
      ]
     },
     "metadata": {},
     "output_type": "display_data"
    },
    {
     "data": {
      "text/latex": [
       "$\\displaystyle RLCTS = \\left[ \\left( a^{(212)}_{1}, \\  4\\right), \\  \\left( a^{(212)}_{2}, \\  4\\right), \\  \\left( b^{(212)}_{2}, \\  4\\right)\\right]$"
      ],
      "text/plain": [
       "<IPython.core.display.Math object>"
      ]
     },
     "metadata": {},
     "output_type": "display_data"
    },
    {
     "data": {
      "text/latex": [
       "$\\displaystyle (\\lambda, m) = (4, 0)$"
      ],
      "text/plain": [
       "<IPython.core.display.Math object>"
      ]
     },
     "metadata": {},
     "output_type": "display_data"
    },
    {
     "data": {
      "text/latex": [
       "$\\displaystyle a^{(211)}_{1} b^{(211)}_{1} b^{(211)}_{2} \\left(a^{(211)}_{2} + a^{(211)}_{3} b^{(211)}_{3} + a^{(211)}_{4} b^{(211)}_{4} + 1\\right)$"
      ],
      "text/plain": [
       "<IPython.core.display.Math object>"
      ]
     },
     "metadata": {},
     "output_type": "display_data"
    },
    {
     "data": {
      "text/latex": [
       "$\\displaystyle RLCTS = \\left[ \\left( a^{(211)}_{1}, \\  4\\right), \\  \\left( b^{(211)}_{1}, \\  4\\right), \\  \\left( b^{(211)}_{2}, \\  4\\right)\\right]$"
      ],
      "text/plain": [
       "<IPython.core.display.Math object>"
      ]
     },
     "metadata": {},
     "output_type": "display_data"
    },
    {
     "data": {
      "text/latex": [
       "$\\displaystyle (\\lambda, m) = (4, 0)$"
      ],
      "text/plain": [
       "<IPython.core.display.Math object>"
      ]
     },
     "metadata": {},
     "output_type": "display_data"
    },
    {
     "name": "stdout",
     "output_type": "stream",
     "text": [
      "\n",
      "---------------\n",
      "Current expression: \n"
     ]
    },
    {
     "data": {
      "text/latex": [
       "$\\displaystyle a^{(213)}_{1} b^{(213)}_{2} b^{(213)}_{3} \\left(a^{(213)}_{2} + a^{(213)}_{3} + a^{(213)}_{4} b^{(213)}_{4} + b^{(213)}_{1}\\right)$"
      ],
      "text/plain": [
       "<IPython.core.display.Math object>"
      ]
     },
     "metadata": {},
     "output_type": "display_data"
    },
    {
     "name": "stdout",
     "output_type": "stream",
     "text": [
      "Blowup coords    : [2, 4, 1, 6]\n"
     ]
    },
    {
     "data": {
      "text/latex": [
       "$\\displaystyle Blowup variables : \\left[ a^{(213)}_{2}, \\  a^{(213)}_{3}, \\  b^{(213)}_{1}, \\  a^{(213)}_{4}\\right]$"
      ],
      "text/plain": [
       "<IPython.core.display.Math object>"
      ]
     },
     "metadata": {},
     "output_type": "display_data"
    },
    {
     "data": {
      "text/latex": [
       "$\\displaystyle a^{(2134)}_{1} a^{(2134)}_{4} b^{(2134)}_{2} b^{(2134)}_{3} \\left(a^{(2134)}_{2} + a^{(2134)}_{3} + b^{(2134)}_{1} + b^{(2134)}_{4}\\right)$"
      ],
      "text/plain": [
       "<IPython.core.display.Math object>"
      ]
     },
     "metadata": {},
     "output_type": "display_data"
    },
    {
     "data": {
      "text/latex": [
       "$\\displaystyle a^{(2133)}_{1} a^{(2133)}_{3} b^{(2133)}_{2} b^{(2133)}_{3} \\left(a^{(2133)}_{2} + a^{(2133)}_{4} b^{(2133)}_{4} + b^{(2133)}_{1} + 1\\right)$"
      ],
      "text/plain": [
       "<IPython.core.display.Math object>"
      ]
     },
     "metadata": {},
     "output_type": "display_data"
    },
    {
     "data": {
      "text/latex": [
       "$\\displaystyle RLCTS = \\left[ \\left( a^{(2133)}_{1}, \\  4\\right), \\  \\left( a^{(2133)}_{3}, \\  4\\right), \\  \\left( b^{(2133)}_{2}, \\  4\\right), \\  \\left( b^{(2133)}_{3}, \\  4\\right)\\right]$"
      ],
      "text/plain": [
       "<IPython.core.display.Math object>"
      ]
     },
     "metadata": {},
     "output_type": "display_data"
    },
    {
     "data": {
      "text/latex": [
       "$\\displaystyle (\\lambda, m) = (4, 0)$"
      ],
      "text/plain": [
       "<IPython.core.display.Math object>"
      ]
     },
     "metadata": {},
     "output_type": "display_data"
    },
    {
     "data": {
      "text/latex": [
       "$\\displaystyle a^{(2132)}_{1} a^{(2132)}_{2} b^{(2132)}_{2} b^{(2132)}_{3} \\left(a^{(2132)}_{3} + a^{(2132)}_{4} b^{(2132)}_{4} + b^{(2132)}_{1} + 1\\right)$"
      ],
      "text/plain": [
       "<IPython.core.display.Math object>"
      ]
     },
     "metadata": {},
     "output_type": "display_data"
    },
    {
     "data": {
      "text/latex": [
       "$\\displaystyle RLCTS = \\left[ \\left( a^{(2132)}_{1}, \\  4\\right), \\  \\left( a^{(2132)}_{2}, \\  4\\right), \\  \\left( b^{(2132)}_{2}, \\  4\\right), \\  \\left( b^{(2132)}_{3}, \\  4\\right)\\right]$"
      ],
      "text/plain": [
       "<IPython.core.display.Math object>"
      ]
     },
     "metadata": {},
     "output_type": "display_data"
    },
    {
     "data": {
      "text/latex": [
       "$\\displaystyle (\\lambda, m) = (4, 0)$"
      ],
      "text/plain": [
       "<IPython.core.display.Math object>"
      ]
     },
     "metadata": {},
     "output_type": "display_data"
    },
    {
     "data": {
      "text/latex": [
       "$\\displaystyle a^{(2131)}_{1} b^{(2131)}_{1} b^{(2131)}_{2} b^{(2131)}_{3} \\left(a^{(2131)}_{2} + a^{(2131)}_{3} + a^{(2131)}_{4} b^{(2131)}_{4} + 1\\right)$"
      ],
      "text/plain": [
       "<IPython.core.display.Math object>"
      ]
     },
     "metadata": {},
     "output_type": "display_data"
    },
    {
     "data": {
      "text/latex": [
       "$\\displaystyle RLCTS = \\left[ \\left( a^{(2131)}_{1}, \\  4\\right), \\  \\left( b^{(2131)}_{1}, \\  4\\right), \\  \\left( b^{(2131)}_{2}, \\  4\\right), \\  \\left( b^{(2131)}_{3}, \\  4\\right)\\right]$"
      ],
      "text/plain": [
       "<IPython.core.display.Math object>"
      ]
     },
     "metadata": {},
     "output_type": "display_data"
    },
    {
     "data": {
      "text/latex": [
       "$\\displaystyle (\\lambda, m) = (4, 0)$"
      ],
      "text/plain": [
       "<IPython.core.display.Math object>"
      ]
     },
     "metadata": {},
     "output_type": "display_data"
    },
    {
     "name": "stdout",
     "output_type": "stream",
     "text": [
      "\n",
      "---------------\n",
      "Current expression: \n"
     ]
    },
    {
     "data": {
      "text/latex": [
       "$\\displaystyle a^{(2134)}_{1} a^{(2134)}_{4} b^{(2134)}_{2} b^{(2134)}_{3} \\left(a^{(2134)}_{2} + a^{(2134)}_{3} + b^{(2134)}_{1} + b^{(2134)}_{4}\\right)$"
      ],
      "text/plain": [
       "<IPython.core.display.Math object>"
      ]
     },
     "metadata": {},
     "output_type": "display_data"
    },
    {
     "name": "stdout",
     "output_type": "stream",
     "text": [
      "Blowup coords    : [2, 4, 1, 7]\n"
     ]
    },
    {
     "data": {
      "text/latex": [
       "$\\displaystyle Blowup variables : \\left[ a^{(2134)}_{2}, \\  a^{(2134)}_{3}, \\  b^{(2134)}_{1}, \\  b^{(2134)}_{4}\\right]$"
      ],
      "text/plain": [
       "<IPython.core.display.Math object>"
      ]
     },
     "metadata": {},
     "output_type": "display_data"
    },
    {
     "data": {
      "text/latex": [
       "$\\displaystyle a^{(21344)}_{1} a^{(21344)}_{4} b^{(21344)}_{2} b^{(21344)}_{3} b^{(21344)}_{4} \\left(a^{(21344)}_{2} + a^{(21344)}_{3} + b^{(21344)}_{1} + 1\\right)$"
      ],
      "text/plain": [
       "<IPython.core.display.Math object>"
      ]
     },
     "metadata": {},
     "output_type": "display_data"
    },
    {
     "data": {
      "text/latex": [
       "$\\displaystyle RLCTS = \\left[ \\left( a^{(21344)}_{1}, \\  4\\right), \\  \\left( a^{(21344)}_{4}, \\  4\\right), \\  \\left( b^{(21344)}_{2}, \\  4\\right), \\  \\left( b^{(21344)}_{3}, \\  4\\right), \\  \\left( b^{(21344)}_{4}, \\  4\\right)\\right]$"
      ],
      "text/plain": [
       "<IPython.core.display.Math object>"
      ]
     },
     "metadata": {},
     "output_type": "display_data"
    },
    {
     "data": {
      "text/latex": [
       "$\\displaystyle (\\lambda, m) = (4, 0)$"
      ],
      "text/plain": [
       "<IPython.core.display.Math object>"
      ]
     },
     "metadata": {},
     "output_type": "display_data"
    },
    {
     "data": {
      "text/latex": [
       "$\\displaystyle a^{(21343)}_{1} a^{(21343)}_{3} a^{(21343)}_{4} b^{(21343)}_{2} b^{(21343)}_{3} \\left(a^{(21343)}_{2} + b^{(21343)}_{1} + b^{(21343)}_{4} + 1\\right)$"
      ],
      "text/plain": [
       "<IPython.core.display.Math object>"
      ]
     },
     "metadata": {},
     "output_type": "display_data"
    },
    {
     "data": {
      "text/latex": [
       "$\\displaystyle RLCTS = \\left[ \\left( a^{(21343)}_{1}, \\  4\\right), \\  \\left( a^{(21343)}_{3}, \\  4\\right), \\  \\left( a^{(21343)}_{4}, \\  4\\right), \\  \\left( b^{(21343)}_{2}, \\  4\\right), \\  \\left( b^{(21343)}_{3}, \\  4\\right)\\right]$"
      ],
      "text/plain": [
       "<IPython.core.display.Math object>"
      ]
     },
     "metadata": {},
     "output_type": "display_data"
    },
    {
     "data": {
      "text/latex": [
       "$\\displaystyle (\\lambda, m) = (4, 0)$"
      ],
      "text/plain": [
       "<IPython.core.display.Math object>"
      ]
     },
     "metadata": {},
     "output_type": "display_data"
    },
    {
     "data": {
      "text/latex": [
       "$\\displaystyle a^{(21342)}_{1} a^{(21342)}_{2} a^{(21342)}_{4} b^{(21342)}_{2} b^{(21342)}_{3} \\left(a^{(21342)}_{3} + b^{(21342)}_{1} + b^{(21342)}_{4} + 1\\right)$"
      ],
      "text/plain": [
       "<IPython.core.display.Math object>"
      ]
     },
     "metadata": {},
     "output_type": "display_data"
    },
    {
     "data": {
      "text/latex": [
       "$\\displaystyle RLCTS = \\left[ \\left( a^{(21342)}_{1}, \\  4\\right), \\  \\left( a^{(21342)}_{2}, \\  4\\right), \\  \\left( a^{(21342)}_{4}, \\  4\\right), \\  \\left( b^{(21342)}_{2}, \\  4\\right), \\  \\left( b^{(21342)}_{3}, \\  4\\right)\\right]$"
      ],
      "text/plain": [
       "<IPython.core.display.Math object>"
      ]
     },
     "metadata": {},
     "output_type": "display_data"
    },
    {
     "data": {
      "text/latex": [
       "$\\displaystyle (\\lambda, m) = (4, 0)$"
      ],
      "text/plain": [
       "<IPython.core.display.Math object>"
      ]
     },
     "metadata": {},
     "output_type": "display_data"
    },
    {
     "data": {
      "text/latex": [
       "$\\displaystyle a^{(21341)}_{1} a^{(21341)}_{4} b^{(21341)}_{1} b^{(21341)}_{2} b^{(21341)}_{3} \\left(a^{(21341)}_{2} + a^{(21341)}_{3} + b^{(21341)}_{4} + 1\\right)$"
      ],
      "text/plain": [
       "<IPython.core.display.Math object>"
      ]
     },
     "metadata": {},
     "output_type": "display_data"
    },
    {
     "data": {
      "text/latex": [
       "$\\displaystyle RLCTS = \\left[ \\left( a^{(21341)}_{1}, \\  4\\right), \\  \\left( a^{(21341)}_{4}, \\  4\\right), \\  \\left( b^{(21341)}_{1}, \\  4\\right), \\  \\left( b^{(21341)}_{2}, \\  4\\right), \\  \\left( b^{(21341)}_{3}, \\  4\\right)\\right]$"
      ],
      "text/plain": [
       "<IPython.core.display.Math object>"
      ]
     },
     "metadata": {},
     "output_type": "display_data"
    },
    {
     "data": {
      "text/latex": [
       "$\\displaystyle (\\lambda, m) = (4, 0)$"
      ],
      "text/plain": [
       "<IPython.core.display.Math object>"
      ]
     },
     "metadata": {},
     "output_type": "display_data"
    },
    {
     "name": "stdout",
     "output_type": "stream",
     "text": [
      "\n",
      "---------------\n",
      "Current expression: \n"
     ]
    },
    {
     "data": {
      "text/latex": [
       "$\\displaystyle a^{(214)}_{1} b^{(214)}_{2} b^{(214)}_{4} \\left(a^{(214)}_{2} + a^{(214)}_{3} b^{(214)}_{3} + a^{(214)}_{4} + b^{(214)}_{1}\\right)$"
      ],
      "text/plain": [
       "<IPython.core.display.Math object>"
      ]
     },
     "metadata": {},
     "output_type": "display_data"
    },
    {
     "name": "stdout",
     "output_type": "stream",
     "text": [
      "Blowup coords    : [2, 6, 1, 4]\n"
     ]
    },
    {
     "data": {
      "text/latex": [
       "$\\displaystyle Blowup variables : \\left[ a^{(214)}_{2}, \\  a^{(214)}_{4}, \\  b^{(214)}_{1}, \\  a^{(214)}_{3}\\right]$"
      ],
      "text/plain": [
       "<IPython.core.display.Math object>"
      ]
     },
     "metadata": {},
     "output_type": "display_data"
    },
    {
     "data": {
      "text/latex": [
       "$\\displaystyle a^{(2144)}_{1} a^{(2144)}_{4} b^{(2144)}_{2} b^{(2144)}_{4} \\left(a^{(2144)}_{2} + a^{(2144)}_{3} b^{(2144)}_{3} + b^{(2144)}_{1} + 1\\right)$"
      ],
      "text/plain": [
       "<IPython.core.display.Math object>"
      ]
     },
     "metadata": {},
     "output_type": "display_data"
    },
    {
     "data": {
      "text/latex": [
       "$\\displaystyle RLCTS = \\left[ \\left( a^{(2144)}_{1}, \\  4\\right), \\  \\left( a^{(2144)}_{4}, \\  4\\right), \\  \\left( b^{(2144)}_{2}, \\  4\\right), \\  \\left( b^{(2144)}_{4}, \\  4\\right)\\right]$"
      ],
      "text/plain": [
       "<IPython.core.display.Math object>"
      ]
     },
     "metadata": {},
     "output_type": "display_data"
    },
    {
     "data": {
      "text/latex": [
       "$\\displaystyle (\\lambda, m) = (4, 0)$"
      ],
      "text/plain": [
       "<IPython.core.display.Math object>"
      ]
     },
     "metadata": {},
     "output_type": "display_data"
    },
    {
     "data": {
      "text/latex": [
       "$\\displaystyle a^{(2143)}_{1} a^{(2143)}_{3} b^{(2143)}_{2} b^{(2143)}_{4} \\left(a^{(2143)}_{2} + a^{(2143)}_{4} + b^{(2143)}_{1} + b^{(2143)}_{3}\\right)$"
      ],
      "text/plain": [
       "<IPython.core.display.Math object>"
      ]
     },
     "metadata": {},
     "output_type": "display_data"
    },
    {
     "data": {
      "text/latex": [
       "$\\displaystyle a^{(2142)}_{1} a^{(2142)}_{2} b^{(2142)}_{2} b^{(2142)}_{4} \\left(a^{(2142)}_{3} b^{(2142)}_{3} + a^{(2142)}_{4} + b^{(2142)}_{1} + 1\\right)$"
      ],
      "text/plain": [
       "<IPython.core.display.Math object>"
      ]
     },
     "metadata": {},
     "output_type": "display_data"
    },
    {
     "data": {
      "text/latex": [
       "$\\displaystyle RLCTS = \\left[ \\left( a^{(2142)}_{1}, \\  4\\right), \\  \\left( a^{(2142)}_{2}, \\  4\\right), \\  \\left( b^{(2142)}_{2}, \\  4\\right), \\  \\left( b^{(2142)}_{4}, \\  4\\right)\\right]$"
      ],
      "text/plain": [
       "<IPython.core.display.Math object>"
      ]
     },
     "metadata": {},
     "output_type": "display_data"
    },
    {
     "data": {
      "text/latex": [
       "$\\displaystyle (\\lambda, m) = (4, 0)$"
      ],
      "text/plain": [
       "<IPython.core.display.Math object>"
      ]
     },
     "metadata": {},
     "output_type": "display_data"
    },
    {
     "data": {
      "text/latex": [
       "$\\displaystyle a^{(2141)}_{1} b^{(2141)}_{1} b^{(2141)}_{2} b^{(2141)}_{4} \\left(a^{(2141)}_{2} + a^{(2141)}_{3} b^{(2141)}_{3} + a^{(2141)}_{4} + 1\\right)$"
      ],
      "text/plain": [
       "<IPython.core.display.Math object>"
      ]
     },
     "metadata": {},
     "output_type": "display_data"
    },
    {
     "data": {
      "text/latex": [
       "$\\displaystyle RLCTS = \\left[ \\left( a^{(2141)}_{1}, \\  4\\right), \\  \\left( b^{(2141)}_{1}, \\  4\\right), \\  \\left( b^{(2141)}_{2}, \\  4\\right), \\  \\left( b^{(2141)}_{4}, \\  4\\right)\\right]$"
      ],
      "text/plain": [
       "<IPython.core.display.Math object>"
      ]
     },
     "metadata": {},
     "output_type": "display_data"
    },
    {
     "data": {
      "text/latex": [
       "$\\displaystyle (\\lambda, m) = (4, 0)$"
      ],
      "text/plain": [
       "<IPython.core.display.Math object>"
      ]
     },
     "metadata": {},
     "output_type": "display_data"
    },
    {
     "name": "stdout",
     "output_type": "stream",
     "text": [
      "\n",
      "---------------\n",
      "Current expression: \n"
     ]
    },
    {
     "data": {
      "text/latex": [
       "$\\displaystyle a^{(2143)}_{1} a^{(2143)}_{3} b^{(2143)}_{2} b^{(2143)}_{4} \\left(a^{(2143)}_{2} + a^{(2143)}_{4} + b^{(2143)}_{1} + b^{(2143)}_{3}\\right)$"
      ],
      "text/plain": [
       "<IPython.core.display.Math object>"
      ]
     },
     "metadata": {},
     "output_type": "display_data"
    },
    {
     "name": "stdout",
     "output_type": "stream",
     "text": [
      "Blowup coords    : [2, 6, 1, 5]\n"
     ]
    },
    {
     "data": {
      "text/latex": [
       "$\\displaystyle Blowup variables : \\left[ a^{(2143)}_{2}, \\  a^{(2143)}_{4}, \\  b^{(2143)}_{1}, \\  b^{(2143)}_{3}\\right]$"
      ],
      "text/plain": [
       "<IPython.core.display.Math object>"
      ]
     },
     "metadata": {},
     "output_type": "display_data"
    },
    {
     "data": {
      "text/latex": [
       "$\\displaystyle a^{(21434)}_{1} a^{(21434)}_{3} a^{(21434)}_{4} b^{(21434)}_{2} b^{(21434)}_{4} \\left(a^{(21434)}_{2} + b^{(21434)}_{1} + b^{(21434)}_{3} + 1\\right)$"
      ],
      "text/plain": [
       "<IPython.core.display.Math object>"
      ]
     },
     "metadata": {},
     "output_type": "display_data"
    },
    {
     "data": {
      "text/latex": [
       "$\\displaystyle RLCTS = \\left[ \\left( a^{(21434)}_{1}, \\  4\\right), \\  \\left( a^{(21434)}_{3}, \\  4\\right), \\  \\left( a^{(21434)}_{4}, \\  4\\right), \\  \\left( b^{(21434)}_{2}, \\  4\\right), \\  \\left( b^{(21434)}_{4}, \\  4\\right)\\right]$"
      ],
      "text/plain": [
       "<IPython.core.display.Math object>"
      ]
     },
     "metadata": {},
     "output_type": "display_data"
    },
    {
     "data": {
      "text/latex": [
       "$\\displaystyle (\\lambda, m) = (4, 0)$"
      ],
      "text/plain": [
       "<IPython.core.display.Math object>"
      ]
     },
     "metadata": {},
     "output_type": "display_data"
    },
    {
     "data": {
      "text/latex": [
       "$\\displaystyle a^{(21433)}_{1} a^{(21433)}_{3} b^{(21433)}_{2} b^{(21433)}_{3} b^{(21433)}_{4} \\left(a^{(21433)}_{2} + a^{(21433)}_{4} + b^{(21433)}_{1} + 1\\right)$"
      ],
      "text/plain": [
       "<IPython.core.display.Math object>"
      ]
     },
     "metadata": {},
     "output_type": "display_data"
    },
    {
     "data": {
      "text/latex": [
       "$\\displaystyle RLCTS = \\left[ \\left( a^{(21433)}_{1}, \\  4\\right), \\  \\left( a^{(21433)}_{3}, \\  4\\right), \\  \\left( b^{(21433)}_{2}, \\  4\\right), \\  \\left( b^{(21433)}_{3}, \\  4\\right), \\  \\left( b^{(21433)}_{4}, \\  4\\right)\\right]$"
      ],
      "text/plain": [
       "<IPython.core.display.Math object>"
      ]
     },
     "metadata": {},
     "output_type": "display_data"
    },
    {
     "data": {
      "text/latex": [
       "$\\displaystyle (\\lambda, m) = (4, 0)$"
      ],
      "text/plain": [
       "<IPython.core.display.Math object>"
      ]
     },
     "metadata": {},
     "output_type": "display_data"
    },
    {
     "data": {
      "text/latex": [
       "$\\displaystyle a^{(21432)}_{1} a^{(21432)}_{2} a^{(21432)}_{3} b^{(21432)}_{2} b^{(21432)}_{4} \\left(a^{(21432)}_{4} + b^{(21432)}_{1} + b^{(21432)}_{3} + 1\\right)$"
      ],
      "text/plain": [
       "<IPython.core.display.Math object>"
      ]
     },
     "metadata": {},
     "output_type": "display_data"
    },
    {
     "data": {
      "text/latex": [
       "$\\displaystyle RLCTS = \\left[ \\left( a^{(21432)}_{1}, \\  4\\right), \\  \\left( a^{(21432)}_{2}, \\  4\\right), \\  \\left( a^{(21432)}_{3}, \\  4\\right), \\  \\left( b^{(21432)}_{2}, \\  4\\right), \\  \\left( b^{(21432)}_{4}, \\  4\\right)\\right]$"
      ],
      "text/plain": [
       "<IPython.core.display.Math object>"
      ]
     },
     "metadata": {},
     "output_type": "display_data"
    },
    {
     "data": {
      "text/latex": [
       "$\\displaystyle (\\lambda, m) = (4, 0)$"
      ],
      "text/plain": [
       "<IPython.core.display.Math object>"
      ]
     },
     "metadata": {},
     "output_type": "display_data"
    },
    {
     "data": {
      "text/latex": [
       "$\\displaystyle a^{(21431)}_{1} a^{(21431)}_{3} b^{(21431)}_{1} b^{(21431)}_{2} b^{(21431)}_{4} \\left(a^{(21431)}_{2} + a^{(21431)}_{4} + b^{(21431)}_{3} + 1\\right)$"
      ],
      "text/plain": [
       "<IPython.core.display.Math object>"
      ]
     },
     "metadata": {},
     "output_type": "display_data"
    },
    {
     "data": {
      "text/latex": [
       "$\\displaystyle RLCTS = \\left[ \\left( a^{(21431)}_{1}, \\  4\\right), \\  \\left( a^{(21431)}_{3}, \\  4\\right), \\  \\left( b^{(21431)}_{1}, \\  4\\right), \\  \\left( b^{(21431)}_{2}, \\  4\\right), \\  \\left( b^{(21431)}_{4}, \\  4\\right)\\right]$"
      ],
      "text/plain": [
       "<IPython.core.display.Math object>"
      ]
     },
     "metadata": {},
     "output_type": "display_data"
    },
    {
     "data": {
      "text/latex": [
       "$\\displaystyle (\\lambda, m) = (4, 0)$"
      ],
      "text/plain": [
       "<IPython.core.display.Math object>"
      ]
     },
     "metadata": {},
     "output_type": "display_data"
    },
    {
     "name": "stdout",
     "output_type": "stream",
     "text": [
      "\n",
      "---------------\n",
      "Current expression: \n"
     ]
    },
    {
     "data": {
      "text/latex": [
       "$\\displaystyle a^{(23)}_{3} b^{(23)}_{2} \\left(a^{(23)}_{1} b^{(23)}_{1} + a^{(23)}_{2} + a^{(23)}_{4} b^{(23)}_{4} + b^{(23)}_{3}\\right)$"
      ],
      "text/plain": [
       "<IPython.core.display.Math object>"
      ]
     },
     "metadata": {},
     "output_type": "display_data"
    },
    {
     "name": "stdout",
     "output_type": "stream",
     "text": [
      "Blowup coords    : [2, 5, 1, 7]\n"
     ]
    },
    {
     "data": {
      "text/latex": [
       "$\\displaystyle Blowup variables : \\left[ a^{(23)}_{2}, \\  b^{(23)}_{3}, \\  b^{(23)}_{1}, \\  b^{(23)}_{4}\\right]$"
      ],
      "text/plain": [
       "<IPython.core.display.Math object>"
      ]
     },
     "metadata": {},
     "output_type": "display_data"
    },
    {
     "data": {
      "text/latex": [
       "$\\displaystyle a^{(234)}_{3} b^{(234)}_{2} b^{(234)}_{4} \\left(a^{(234)}_{1} b^{(234)}_{1} + a^{(234)}_{2} + a^{(234)}_{4} + b^{(234)}_{3}\\right)$"
      ],
      "text/plain": [
       "<IPython.core.display.Math object>"
      ]
     },
     "metadata": {},
     "output_type": "display_data"
    },
    {
     "data": {
      "text/latex": [
       "$\\displaystyle a^{(233)}_{3} b^{(233)}_{2} b^{(233)}_{3} \\left(a^{(233)}_{1} b^{(233)}_{1} + a^{(233)}_{2} + a^{(233)}_{4} b^{(233)}_{4} + 1\\right)$"
      ],
      "text/plain": [
       "<IPython.core.display.Math object>"
      ]
     },
     "metadata": {},
     "output_type": "display_data"
    },
    {
     "data": {
      "text/latex": [
       "$\\displaystyle RLCTS = \\left[ \\left( a^{(233)}_{3}, \\  4\\right), \\  \\left( b^{(233)}_{2}, \\  4\\right), \\  \\left( b^{(233)}_{3}, \\  4\\right)\\right]$"
      ],
      "text/plain": [
       "<IPython.core.display.Math object>"
      ]
     },
     "metadata": {},
     "output_type": "display_data"
    },
    {
     "data": {
      "text/latex": [
       "$\\displaystyle (\\lambda, m) = (4, 0)$"
      ],
      "text/plain": [
       "<IPython.core.display.Math object>"
      ]
     },
     "metadata": {},
     "output_type": "display_data"
    },
    {
     "data": {
      "text/latex": [
       "$\\displaystyle a^{(232)}_{2} a^{(232)}_{3} b^{(232)}_{2} \\left(a^{(232)}_{1} b^{(232)}_{1} + a^{(232)}_{4} b^{(232)}_{4} + b^{(232)}_{3} + 1\\right)$"
      ],
      "text/plain": [
       "<IPython.core.display.Math object>"
      ]
     },
     "metadata": {},
     "output_type": "display_data"
    },
    {
     "data": {
      "text/latex": [
       "$\\displaystyle RLCTS = \\left[ \\left( a^{(232)}_{2}, \\  4\\right), \\  \\left( a^{(232)}_{3}, \\  4\\right), \\  \\left( b^{(232)}_{2}, \\  4\\right)\\right]$"
      ],
      "text/plain": [
       "<IPython.core.display.Math object>"
      ]
     },
     "metadata": {},
     "output_type": "display_data"
    },
    {
     "data": {
      "text/latex": [
       "$\\displaystyle (\\lambda, m) = (4, 0)$"
      ],
      "text/plain": [
       "<IPython.core.display.Math object>"
      ]
     },
     "metadata": {},
     "output_type": "display_data"
    },
    {
     "data": {
      "text/latex": [
       "$\\displaystyle a^{(231)}_{3} b^{(231)}_{1} b^{(231)}_{2} \\left(a^{(231)}_{1} + a^{(231)}_{2} + a^{(231)}_{4} b^{(231)}_{4} + b^{(231)}_{3}\\right)$"
      ],
      "text/plain": [
       "<IPython.core.display.Math object>"
      ]
     },
     "metadata": {},
     "output_type": "display_data"
    },
    {
     "name": "stdout",
     "output_type": "stream",
     "text": [
      "\n",
      "---------------\n",
      "Current expression: \n"
     ]
    },
    {
     "data": {
      "text/latex": [
       "$\\displaystyle a^{(231)}_{3} b^{(231)}_{1} b^{(231)}_{2} \\left(a^{(231)}_{1} + a^{(231)}_{2} + a^{(231)}_{4} b^{(231)}_{4} + b^{(231)}_{3}\\right)$"
      ],
      "text/plain": [
       "<IPython.core.display.Math object>"
      ]
     },
     "metadata": {},
     "output_type": "display_data"
    },
    {
     "name": "stdout",
     "output_type": "stream",
     "text": [
      "Blowup coords    : [0, 2, 5, 6]\n"
     ]
    },
    {
     "data": {
      "text/latex": [
       "$\\displaystyle Blowup variables : \\left[ a^{(231)}_{1}, \\  a^{(231)}_{2}, \\  b^{(231)}_{3}, \\  a^{(231)}_{4}\\right]$"
      ],
      "text/plain": [
       "<IPython.core.display.Math object>"
      ]
     },
     "metadata": {},
     "output_type": "display_data"
    },
    {
     "data": {
      "text/latex": [
       "$\\displaystyle a^{(2314)}_{3} a^{(2314)}_{4} b^{(2314)}_{1} b^{(2314)}_{2} \\left(a^{(2314)}_{1} + a^{(2314)}_{2} + b^{(2314)}_{3} + b^{(2314)}_{4}\\right)$"
      ],
      "text/plain": [
       "<IPython.core.display.Math object>"
      ]
     },
     "metadata": {},
     "output_type": "display_data"
    },
    {
     "data": {
      "text/latex": [
       "$\\displaystyle a^{(2313)}_{3} b^{(2313)}_{1} b^{(2313)}_{2} b^{(2313)}_{3} \\left(a^{(2313)}_{1} + a^{(2313)}_{2} + a^{(2313)}_{4} b^{(2313)}_{4} + 1\\right)$"
      ],
      "text/plain": [
       "<IPython.core.display.Math object>"
      ]
     },
     "metadata": {},
     "output_type": "display_data"
    },
    {
     "data": {
      "text/latex": [
       "$\\displaystyle RLCTS = \\left[ \\left( a^{(2313)}_{3}, \\  4\\right), \\  \\left( b^{(2313)}_{1}, \\  4\\right), \\  \\left( b^{(2313)}_{2}, \\  4\\right), \\  \\left( b^{(2313)}_{3}, \\  4\\right)\\right]$"
      ],
      "text/plain": [
       "<IPython.core.display.Math object>"
      ]
     },
     "metadata": {},
     "output_type": "display_data"
    },
    {
     "data": {
      "text/latex": [
       "$\\displaystyle (\\lambda, m) = (4, 0)$"
      ],
      "text/plain": [
       "<IPython.core.display.Math object>"
      ]
     },
     "metadata": {},
     "output_type": "display_data"
    },
    {
     "data": {
      "text/latex": [
       "$\\displaystyle a^{(2312)}_{2} a^{(2312)}_{3} b^{(2312)}_{1} b^{(2312)}_{2} \\left(a^{(2312)}_{1} + a^{(2312)}_{4} b^{(2312)}_{4} + b^{(2312)}_{3} + 1\\right)$"
      ],
      "text/plain": [
       "<IPython.core.display.Math object>"
      ]
     },
     "metadata": {},
     "output_type": "display_data"
    },
    {
     "data": {
      "text/latex": [
       "$\\displaystyle RLCTS = \\left[ \\left( a^{(2312)}_{2}, \\  4\\right), \\  \\left( a^{(2312)}_{3}, \\  4\\right), \\  \\left( b^{(2312)}_{1}, \\  4\\right), \\  \\left( b^{(2312)}_{2}, \\  4\\right)\\right]$"
      ],
      "text/plain": [
       "<IPython.core.display.Math object>"
      ]
     },
     "metadata": {},
     "output_type": "display_data"
    },
    {
     "data": {
      "text/latex": [
       "$\\displaystyle (\\lambda, m) = (4, 0)$"
      ],
      "text/plain": [
       "<IPython.core.display.Math object>"
      ]
     },
     "metadata": {},
     "output_type": "display_data"
    },
    {
     "data": {
      "text/latex": [
       "$\\displaystyle a^{(2311)}_{1} a^{(2311)}_{3} b^{(2311)}_{1} b^{(2311)}_{2} \\left(a^{(2311)}_{2} + a^{(2311)}_{4} b^{(2311)}_{4} + b^{(2311)}_{3} + 1\\right)$"
      ],
      "text/plain": [
       "<IPython.core.display.Math object>"
      ]
     },
     "metadata": {},
     "output_type": "display_data"
    },
    {
     "data": {
      "text/latex": [
       "$\\displaystyle RLCTS = \\left[ \\left( a^{(2311)}_{1}, \\  4\\right), \\  \\left( a^{(2311)}_{3}, \\  4\\right), \\  \\left( b^{(2311)}_{1}, \\  4\\right), \\  \\left( b^{(2311)}_{2}, \\  4\\right)\\right]$"
      ],
      "text/plain": [
       "<IPython.core.display.Math object>"
      ]
     },
     "metadata": {},
     "output_type": "display_data"
    },
    {
     "data": {
      "text/latex": [
       "$\\displaystyle (\\lambda, m) = (4, 0)$"
      ],
      "text/plain": [
       "<IPython.core.display.Math object>"
      ]
     },
     "metadata": {},
     "output_type": "display_data"
    },
    {
     "name": "stdout",
     "output_type": "stream",
     "text": [
      "\n",
      "---------------\n",
      "Current expression: \n"
     ]
    },
    {
     "data": {
      "text/latex": [
       "$\\displaystyle a^{(2314)}_{3} a^{(2314)}_{4} b^{(2314)}_{1} b^{(2314)}_{2} \\left(a^{(2314)}_{1} + a^{(2314)}_{2} + b^{(2314)}_{3} + b^{(2314)}_{4}\\right)$"
      ],
      "text/plain": [
       "<IPython.core.display.Math object>"
      ]
     },
     "metadata": {},
     "output_type": "display_data"
    },
    {
     "name": "stdout",
     "output_type": "stream",
     "text": [
      "Blowup coords    : [0, 2, 5, 7]\n"
     ]
    },
    {
     "data": {
      "text/latex": [
       "$\\displaystyle Blowup variables : \\left[ a^{(2314)}_{1}, \\  a^{(2314)}_{2}, \\  b^{(2314)}_{3}, \\  b^{(2314)}_{4}\\right]$"
      ],
      "text/plain": [
       "<IPython.core.display.Math object>"
      ]
     },
     "metadata": {},
     "output_type": "display_data"
    },
    {
     "data": {
      "text/latex": [
       "$\\displaystyle a^{(23144)}_{3} a^{(23144)}_{4} b^{(23144)}_{1} b^{(23144)}_{2} b^{(23144)}_{4} \\left(a^{(23144)}_{1} + a^{(23144)}_{2} + b^{(23144)}_{3} + 1\\right)$"
      ],
      "text/plain": [
       "<IPython.core.display.Math object>"
      ]
     },
     "metadata": {},
     "output_type": "display_data"
    },
    {
     "data": {
      "text/latex": [
       "$\\displaystyle RLCTS = \\left[ \\left( a^{(23144)}_{3}, \\  4\\right), \\  \\left( a^{(23144)}_{4}, \\  4\\right), \\  \\left( b^{(23144)}_{1}, \\  4\\right), \\  \\left( b^{(23144)}_{2}, \\  4\\right), \\  \\left( b^{(23144)}_{4}, \\  4\\right)\\right]$"
      ],
      "text/plain": [
       "<IPython.core.display.Math object>"
      ]
     },
     "metadata": {},
     "output_type": "display_data"
    },
    {
     "data": {
      "text/latex": [
       "$\\displaystyle (\\lambda, m) = (4, 0)$"
      ],
      "text/plain": [
       "<IPython.core.display.Math object>"
      ]
     },
     "metadata": {},
     "output_type": "display_data"
    },
    {
     "data": {
      "text/latex": [
       "$\\displaystyle a^{(23143)}_{3} a^{(23143)}_{4} b^{(23143)}_{1} b^{(23143)}_{2} b^{(23143)}_{3} \\left(a^{(23143)}_{1} + a^{(23143)}_{2} + b^{(23143)}_{4} + 1\\right)$"
      ],
      "text/plain": [
       "<IPython.core.display.Math object>"
      ]
     },
     "metadata": {},
     "output_type": "display_data"
    },
    {
     "data": {
      "text/latex": [
       "$\\displaystyle RLCTS = \\left[ \\left( a^{(23143)}_{3}, \\  4\\right), \\  \\left( a^{(23143)}_{4}, \\  4\\right), \\  \\left( b^{(23143)}_{1}, \\  4\\right), \\  \\left( b^{(23143)}_{2}, \\  4\\right), \\  \\left( b^{(23143)}_{3}, \\  4\\right)\\right]$"
      ],
      "text/plain": [
       "<IPython.core.display.Math object>"
      ]
     },
     "metadata": {},
     "output_type": "display_data"
    },
    {
     "data": {
      "text/latex": [
       "$\\displaystyle (\\lambda, m) = (4, 0)$"
      ],
      "text/plain": [
       "<IPython.core.display.Math object>"
      ]
     },
     "metadata": {},
     "output_type": "display_data"
    },
    {
     "data": {
      "text/latex": [
       "$\\displaystyle a^{(23142)}_{2} a^{(23142)}_{3} a^{(23142)}_{4} b^{(23142)}_{1} b^{(23142)}_{2} \\left(a^{(23142)}_{1} + b^{(23142)}_{3} + b^{(23142)}_{4} + 1\\right)$"
      ],
      "text/plain": [
       "<IPython.core.display.Math object>"
      ]
     },
     "metadata": {},
     "output_type": "display_data"
    },
    {
     "data": {
      "text/latex": [
       "$\\displaystyle RLCTS = \\left[ \\left( a^{(23142)}_{2}, \\  4\\right), \\  \\left( a^{(23142)}_{3}, \\  4\\right), \\  \\left( a^{(23142)}_{4}, \\  4\\right), \\  \\left( b^{(23142)}_{1}, \\  4\\right), \\  \\left( b^{(23142)}_{2}, \\  4\\right)\\right]$"
      ],
      "text/plain": [
       "<IPython.core.display.Math object>"
      ]
     },
     "metadata": {},
     "output_type": "display_data"
    },
    {
     "data": {
      "text/latex": [
       "$\\displaystyle (\\lambda, m) = (4, 0)$"
      ],
      "text/plain": [
       "<IPython.core.display.Math object>"
      ]
     },
     "metadata": {},
     "output_type": "display_data"
    },
    {
     "data": {
      "text/latex": [
       "$\\displaystyle a^{(23141)}_{1} a^{(23141)}_{3} a^{(23141)}_{4} b^{(23141)}_{1} b^{(23141)}_{2} \\left(a^{(23141)}_{2} + b^{(23141)}_{3} + b^{(23141)}_{4} + 1\\right)$"
      ],
      "text/plain": [
       "<IPython.core.display.Math object>"
      ]
     },
     "metadata": {},
     "output_type": "display_data"
    },
    {
     "data": {
      "text/latex": [
       "$\\displaystyle RLCTS = \\left[ \\left( a^{(23141)}_{1}, \\  4\\right), \\  \\left( a^{(23141)}_{3}, \\  4\\right), \\  \\left( a^{(23141)}_{4}, \\  4\\right), \\  \\left( b^{(23141)}_{1}, \\  4\\right), \\  \\left( b^{(23141)}_{2}, \\  4\\right)\\right]$"
      ],
      "text/plain": [
       "<IPython.core.display.Math object>"
      ]
     },
     "metadata": {},
     "output_type": "display_data"
    },
    {
     "data": {
      "text/latex": [
       "$\\displaystyle (\\lambda, m) = (4, 0)$"
      ],
      "text/plain": [
       "<IPython.core.display.Math object>"
      ]
     },
     "metadata": {},
     "output_type": "display_data"
    },
    {
     "name": "stdout",
     "output_type": "stream",
     "text": [
      "\n",
      "---------------\n",
      "Current expression: \n"
     ]
    },
    {
     "data": {
      "text/latex": [
       "$\\displaystyle a^{(234)}_{3} b^{(234)}_{2} b^{(234)}_{4} \\left(a^{(234)}_{1} b^{(234)}_{1} + a^{(234)}_{2} + a^{(234)}_{4} + b^{(234)}_{3}\\right)$"
      ],
      "text/plain": [
       "<IPython.core.display.Math object>"
      ]
     },
     "metadata": {},
     "output_type": "display_data"
    },
    {
     "name": "stdout",
     "output_type": "stream",
     "text": [
      "Blowup coords    : [2, 6, 5, 0]\n"
     ]
    },
    {
     "data": {
      "text/latex": [
       "$\\displaystyle Blowup variables : \\left[ a^{(234)}_{2}, \\  a^{(234)}_{4}, \\  b^{(234)}_{3}, \\  a^{(234)}_{1}\\right]$"
      ],
      "text/plain": [
       "<IPython.core.display.Math object>"
      ]
     },
     "metadata": {},
     "output_type": "display_data"
    },
    {
     "data": {
      "text/latex": [
       "$\\displaystyle a^{(2344)}_{3} a^{(2344)}_{4} b^{(2344)}_{2} b^{(2344)}_{4} \\left(a^{(2344)}_{1} b^{(2344)}_{1} + a^{(2344)}_{2} + b^{(2344)}_{3} + 1\\right)$"
      ],
      "text/plain": [
       "<IPython.core.display.Math object>"
      ]
     },
     "metadata": {},
     "output_type": "display_data"
    },
    {
     "data": {
      "text/latex": [
       "$\\displaystyle RLCTS = \\left[ \\left( a^{(2344)}_{3}, \\  4\\right), \\  \\left( a^{(2344)}_{4}, \\  4\\right), \\  \\left( b^{(2344)}_{2}, \\  4\\right), \\  \\left( b^{(2344)}_{4}, \\  4\\right)\\right]$"
      ],
      "text/plain": [
       "<IPython.core.display.Math object>"
      ]
     },
     "metadata": {},
     "output_type": "display_data"
    },
    {
     "data": {
      "text/latex": [
       "$\\displaystyle (\\lambda, m) = (4, 0)$"
      ],
      "text/plain": [
       "<IPython.core.display.Math object>"
      ]
     },
     "metadata": {},
     "output_type": "display_data"
    },
    {
     "data": {
      "text/latex": [
       "$\\displaystyle a^{(2343)}_{3} b^{(2343)}_{2} b^{(2343)}_{3} b^{(2343)}_{4} \\left(a^{(2343)}_{1} b^{(2343)}_{1} + a^{(2343)}_{2} + a^{(2343)}_{4} + 1\\right)$"
      ],
      "text/plain": [
       "<IPython.core.display.Math object>"
      ]
     },
     "metadata": {},
     "output_type": "display_data"
    },
    {
     "data": {
      "text/latex": [
       "$\\displaystyle RLCTS = \\left[ \\left( a^{(2343)}_{3}, \\  4\\right), \\  \\left( b^{(2343)}_{2}, \\  4\\right), \\  \\left( b^{(2343)}_{3}, \\  4\\right), \\  \\left( b^{(2343)}_{4}, \\  4\\right)\\right]$"
      ],
      "text/plain": [
       "<IPython.core.display.Math object>"
      ]
     },
     "metadata": {},
     "output_type": "display_data"
    },
    {
     "data": {
      "text/latex": [
       "$\\displaystyle (\\lambda, m) = (4, 0)$"
      ],
      "text/plain": [
       "<IPython.core.display.Math object>"
      ]
     },
     "metadata": {},
     "output_type": "display_data"
    },
    {
     "data": {
      "text/latex": [
       "$\\displaystyle a^{(2342)}_{2} a^{(2342)}_{3} b^{(2342)}_{2} b^{(2342)}_{4} \\left(a^{(2342)}_{1} b^{(2342)}_{1} + a^{(2342)}_{4} + b^{(2342)}_{3} + 1\\right)$"
      ],
      "text/plain": [
       "<IPython.core.display.Math object>"
      ]
     },
     "metadata": {},
     "output_type": "display_data"
    },
    {
     "data": {
      "text/latex": [
       "$\\displaystyle RLCTS = \\left[ \\left( a^{(2342)}_{2}, \\  4\\right), \\  \\left( a^{(2342)}_{3}, \\  4\\right), \\  \\left( b^{(2342)}_{2}, \\  4\\right), \\  \\left( b^{(2342)}_{4}, \\  4\\right)\\right]$"
      ],
      "text/plain": [
       "<IPython.core.display.Math object>"
      ]
     },
     "metadata": {},
     "output_type": "display_data"
    },
    {
     "data": {
      "text/latex": [
       "$\\displaystyle (\\lambda, m) = (4, 0)$"
      ],
      "text/plain": [
       "<IPython.core.display.Math object>"
      ]
     },
     "metadata": {},
     "output_type": "display_data"
    },
    {
     "data": {
      "text/latex": [
       "$\\displaystyle a^{(2341)}_{1} a^{(2341)}_{3} b^{(2341)}_{2} b^{(2341)}_{4} \\left(a^{(2341)}_{2} + a^{(2341)}_{4} + b^{(2341)}_{1} + b^{(2341)}_{3}\\right)$"
      ],
      "text/plain": [
       "<IPython.core.display.Math object>"
      ]
     },
     "metadata": {},
     "output_type": "display_data"
    },
    {
     "name": "stdout",
     "output_type": "stream",
     "text": [
      "\n",
      "---------------\n",
      "Current expression: \n"
     ]
    },
    {
     "data": {
      "text/latex": [
       "$\\displaystyle a^{(2341)}_{1} a^{(2341)}_{3} b^{(2341)}_{2} b^{(2341)}_{4} \\left(a^{(2341)}_{2} + a^{(2341)}_{4} + b^{(2341)}_{1} + b^{(2341)}_{3}\\right)$"
      ],
      "text/plain": [
       "<IPython.core.display.Math object>"
      ]
     },
     "metadata": {},
     "output_type": "display_data"
    },
    {
     "name": "stdout",
     "output_type": "stream",
     "text": [
      "Blowup coords    : [2, 6, 1, 5]\n"
     ]
    },
    {
     "data": {
      "text/latex": [
       "$\\displaystyle Blowup variables : \\left[ a^{(2341)}_{2}, \\  a^{(2341)}_{4}, \\  b^{(2341)}_{1}, \\  b^{(2341)}_{3}\\right]$"
      ],
      "text/plain": [
       "<IPython.core.display.Math object>"
      ]
     },
     "metadata": {},
     "output_type": "display_data"
    },
    {
     "data": {
      "text/latex": [
       "$\\displaystyle a^{(23414)}_{1} a^{(23414)}_{3} a^{(23414)}_{4} b^{(23414)}_{2} b^{(23414)}_{4} \\left(a^{(23414)}_{2} + b^{(23414)}_{1} + b^{(23414)}_{3} + 1\\right)$"
      ],
      "text/plain": [
       "<IPython.core.display.Math object>"
      ]
     },
     "metadata": {},
     "output_type": "display_data"
    },
    {
     "data": {
      "text/latex": [
       "$\\displaystyle RLCTS = \\left[ \\left( a^{(23414)}_{1}, \\  4\\right), \\  \\left( a^{(23414)}_{3}, \\  4\\right), \\  \\left( a^{(23414)}_{4}, \\  4\\right), \\  \\left( b^{(23414)}_{2}, \\  4\\right), \\  \\left( b^{(23414)}_{4}, \\  4\\right)\\right]$"
      ],
      "text/plain": [
       "<IPython.core.display.Math object>"
      ]
     },
     "metadata": {},
     "output_type": "display_data"
    },
    {
     "data": {
      "text/latex": [
       "$\\displaystyle (\\lambda, m) = (4, 0)$"
      ],
      "text/plain": [
       "<IPython.core.display.Math object>"
      ]
     },
     "metadata": {},
     "output_type": "display_data"
    },
    {
     "data": {
      "text/latex": [
       "$\\displaystyle a^{(23413)}_{1} a^{(23413)}_{3} b^{(23413)}_{2} b^{(23413)}_{3} b^{(23413)}_{4} \\left(a^{(23413)}_{2} + a^{(23413)}_{4} + b^{(23413)}_{1} + 1\\right)$"
      ],
      "text/plain": [
       "<IPython.core.display.Math object>"
      ]
     },
     "metadata": {},
     "output_type": "display_data"
    },
    {
     "data": {
      "text/latex": [
       "$\\displaystyle RLCTS = \\left[ \\left( a^{(23413)}_{1}, \\  4\\right), \\  \\left( a^{(23413)}_{3}, \\  4\\right), \\  \\left( b^{(23413)}_{2}, \\  4\\right), \\  \\left( b^{(23413)}_{3}, \\  4\\right), \\  \\left( b^{(23413)}_{4}, \\  4\\right)\\right]$"
      ],
      "text/plain": [
       "<IPython.core.display.Math object>"
      ]
     },
     "metadata": {},
     "output_type": "display_data"
    },
    {
     "data": {
      "text/latex": [
       "$\\displaystyle (\\lambda, m) = (4, 0)$"
      ],
      "text/plain": [
       "<IPython.core.display.Math object>"
      ]
     },
     "metadata": {},
     "output_type": "display_data"
    },
    {
     "data": {
      "text/latex": [
       "$\\displaystyle a^{(23412)}_{1} a^{(23412)}_{2} a^{(23412)}_{3} b^{(23412)}_{2} b^{(23412)}_{4} \\left(a^{(23412)}_{4} + b^{(23412)}_{1} + b^{(23412)}_{3} + 1\\right)$"
      ],
      "text/plain": [
       "<IPython.core.display.Math object>"
      ]
     },
     "metadata": {},
     "output_type": "display_data"
    },
    {
     "data": {
      "text/latex": [
       "$\\displaystyle RLCTS = \\left[ \\left( a^{(23412)}_{1}, \\  4\\right), \\  \\left( a^{(23412)}_{2}, \\  4\\right), \\  \\left( a^{(23412)}_{3}, \\  4\\right), \\  \\left( b^{(23412)}_{2}, \\  4\\right), \\  \\left( b^{(23412)}_{4}, \\  4\\right)\\right]$"
      ],
      "text/plain": [
       "<IPython.core.display.Math object>"
      ]
     },
     "metadata": {},
     "output_type": "display_data"
    },
    {
     "data": {
      "text/latex": [
       "$\\displaystyle (\\lambda, m) = (4, 0)$"
      ],
      "text/plain": [
       "<IPython.core.display.Math object>"
      ]
     },
     "metadata": {},
     "output_type": "display_data"
    },
    {
     "data": {
      "text/latex": [
       "$\\displaystyle a^{(23411)}_{1} a^{(23411)}_{3} b^{(23411)}_{1} b^{(23411)}_{2} b^{(23411)}_{4} \\left(a^{(23411)}_{2} + a^{(23411)}_{4} + b^{(23411)}_{3} + 1\\right)$"
      ],
      "text/plain": [
       "<IPython.core.display.Math object>"
      ]
     },
     "metadata": {},
     "output_type": "display_data"
    },
    {
     "data": {
      "text/latex": [
       "$\\displaystyle RLCTS = \\left[ \\left( a^{(23411)}_{1}, \\  4\\right), \\  \\left( a^{(23411)}_{3}, \\  4\\right), \\  \\left( b^{(23411)}_{1}, \\  4\\right), \\  \\left( b^{(23411)}_{2}, \\  4\\right), \\  \\left( b^{(23411)}_{4}, \\  4\\right)\\right]$"
      ],
      "text/plain": [
       "<IPython.core.display.Math object>"
      ]
     },
     "metadata": {},
     "output_type": "display_data"
    },
    {
     "data": {
      "text/latex": [
       "$\\displaystyle (\\lambda, m) = (4, 0)$"
      ],
      "text/plain": [
       "<IPython.core.display.Math object>"
      ]
     },
     "metadata": {},
     "output_type": "display_data"
    },
    {
     "name": "stdout",
     "output_type": "stream",
     "text": [
      "\n",
      "---------------\n",
      "Current expression: \n"
     ]
    },
    {
     "data": {
      "text/latex": [
       "$\\displaystyle b^{(24)}_{2} b^{(24)}_{4} \\left(a^{(24)}_{1} b^{(24)}_{1} + a^{(24)}_{2} + a^{(24)}_{3} b^{(24)}_{3} + a^{(24)}_{4}\\right)$"
      ],
      "text/plain": [
       "<IPython.core.display.Math object>"
      ]
     },
     "metadata": {},
     "output_type": "display_data"
    },
    {
     "name": "stdout",
     "output_type": "stream",
     "text": [
      "Blowup coords    : [2, 6, 0, 5]\n"
     ]
    },
    {
     "data": {
      "text/latex": [
       "$\\displaystyle Blowup variables : \\left[ a^{(24)}_{2}, \\  a^{(24)}_{4}, \\  a^{(24)}_{1}, \\  b^{(24)}_{3}\\right]$"
      ],
      "text/plain": [
       "<IPython.core.display.Math object>"
      ]
     },
     "metadata": {},
     "output_type": "display_data"
    },
    {
     "data": {
      "text/latex": [
       "$\\displaystyle a^{(244)}_{4} b^{(244)}_{2} b^{(244)}_{4} \\left(a^{(244)}_{1} b^{(244)}_{1} + a^{(244)}_{2} + a^{(244)}_{3} b^{(244)}_{3} + 1\\right)$"
      ],
      "text/plain": [
       "<IPython.core.display.Math object>"
      ]
     },
     "metadata": {},
     "output_type": "display_data"
    },
    {
     "data": {
      "text/latex": [
       "$\\displaystyle RLCTS = \\left[ \\left( a^{(244)}_{4}, \\  4\\right), \\  \\left( b^{(244)}_{2}, \\  4\\right), \\  \\left( b^{(244)}_{4}, \\  4\\right)\\right]$"
      ],
      "text/plain": [
       "<IPython.core.display.Math object>"
      ]
     },
     "metadata": {},
     "output_type": "display_data"
    },
    {
     "data": {
      "text/latex": [
       "$\\displaystyle (\\lambda, m) = (4, 0)$"
      ],
      "text/plain": [
       "<IPython.core.display.Math object>"
      ]
     },
     "metadata": {},
     "output_type": "display_data"
    },
    {
     "data": {
      "text/latex": [
       "$\\displaystyle b^{(243)}_{2} b^{(243)}_{3} b^{(243)}_{4} \\left(a^{(243)}_{1} b^{(243)}_{1} + a^{(243)}_{2} + a^{(243)}_{3} + a^{(243)}_{4}\\right)$"
      ],
      "text/plain": [
       "<IPython.core.display.Math object>"
      ]
     },
     "metadata": {},
     "output_type": "display_data"
    },
    {
     "data": {
      "text/latex": [
       "$\\displaystyle a^{(242)}_{2} b^{(242)}_{2} b^{(242)}_{4} \\left(a^{(242)}_{1} b^{(242)}_{1} + a^{(242)}_{3} b^{(242)}_{3} + a^{(242)}_{4} + 1\\right)$"
      ],
      "text/plain": [
       "<IPython.core.display.Math object>"
      ]
     },
     "metadata": {},
     "output_type": "display_data"
    },
    {
     "data": {
      "text/latex": [
       "$\\displaystyle RLCTS = \\left[ \\left( a^{(242)}_{2}, \\  4\\right), \\  \\left( b^{(242)}_{2}, \\  4\\right), \\  \\left( b^{(242)}_{4}, \\  4\\right)\\right]$"
      ],
      "text/plain": [
       "<IPython.core.display.Math object>"
      ]
     },
     "metadata": {},
     "output_type": "display_data"
    },
    {
     "data": {
      "text/latex": [
       "$\\displaystyle (\\lambda, m) = (4, 0)$"
      ],
      "text/plain": [
       "<IPython.core.display.Math object>"
      ]
     },
     "metadata": {},
     "output_type": "display_data"
    },
    {
     "data": {
      "text/latex": [
       "$\\displaystyle a^{(241)}_{1} b^{(241)}_{2} b^{(241)}_{4} \\left(a^{(241)}_{2} + a^{(241)}_{3} b^{(241)}_{3} + a^{(241)}_{4} + b^{(241)}_{1}\\right)$"
      ],
      "text/plain": [
       "<IPython.core.display.Math object>"
      ]
     },
     "metadata": {},
     "output_type": "display_data"
    },
    {
     "name": "stdout",
     "output_type": "stream",
     "text": [
      "\n",
      "---------------\n",
      "Current expression: \n"
     ]
    },
    {
     "data": {
      "text/latex": [
       "$\\displaystyle a^{(241)}_{1} b^{(241)}_{2} b^{(241)}_{4} \\left(a^{(241)}_{2} + a^{(241)}_{3} b^{(241)}_{3} + a^{(241)}_{4} + b^{(241)}_{1}\\right)$"
      ],
      "text/plain": [
       "<IPython.core.display.Math object>"
      ]
     },
     "metadata": {},
     "output_type": "display_data"
    },
    {
     "name": "stdout",
     "output_type": "stream",
     "text": [
      "Blowup coords    : [2, 6, 1, 5]\n"
     ]
    },
    {
     "data": {
      "text/latex": [
       "$\\displaystyle Blowup variables : \\left[ a^{(241)}_{2}, \\  a^{(241)}_{4}, \\  b^{(241)}_{1}, \\  b^{(241)}_{3}\\right]$"
      ],
      "text/plain": [
       "<IPython.core.display.Math object>"
      ]
     },
     "metadata": {},
     "output_type": "display_data"
    },
    {
     "data": {
      "text/latex": [
       "$\\displaystyle a^{(2414)}_{1} a^{(2414)}_{4} b^{(2414)}_{2} b^{(2414)}_{4} \\left(a^{(2414)}_{2} + a^{(2414)}_{3} b^{(2414)}_{3} + b^{(2414)}_{1} + 1\\right)$"
      ],
      "text/plain": [
       "<IPython.core.display.Math object>"
      ]
     },
     "metadata": {},
     "output_type": "display_data"
    },
    {
     "data": {
      "text/latex": [
       "$\\displaystyle RLCTS = \\left[ \\left( a^{(2414)}_{1}, \\  4\\right), \\  \\left( a^{(2414)}_{4}, \\  4\\right), \\  \\left( b^{(2414)}_{2}, \\  4\\right), \\  \\left( b^{(2414)}_{4}, \\  4\\right)\\right]$"
      ],
      "text/plain": [
       "<IPython.core.display.Math object>"
      ]
     },
     "metadata": {},
     "output_type": "display_data"
    },
    {
     "data": {
      "text/latex": [
       "$\\displaystyle (\\lambda, m) = (4, 0)$"
      ],
      "text/plain": [
       "<IPython.core.display.Math object>"
      ]
     },
     "metadata": {},
     "output_type": "display_data"
    },
    {
     "data": {
      "text/latex": [
       "$\\displaystyle a^{(2413)}_{1} b^{(2413)}_{2} b^{(2413)}_{3} b^{(2413)}_{4} \\left(a^{(2413)}_{2} + a^{(2413)}_{3} + a^{(2413)}_{4} + b^{(2413)}_{1}\\right)$"
      ],
      "text/plain": [
       "<IPython.core.display.Math object>"
      ]
     },
     "metadata": {},
     "output_type": "display_data"
    },
    {
     "data": {
      "text/latex": [
       "$\\displaystyle a^{(2412)}_{1} a^{(2412)}_{2} b^{(2412)}_{2} b^{(2412)}_{4} \\left(a^{(2412)}_{3} b^{(2412)}_{3} + a^{(2412)}_{4} + b^{(2412)}_{1} + 1\\right)$"
      ],
      "text/plain": [
       "<IPython.core.display.Math object>"
      ]
     },
     "metadata": {},
     "output_type": "display_data"
    },
    {
     "data": {
      "text/latex": [
       "$\\displaystyle RLCTS = \\left[ \\left( a^{(2412)}_{1}, \\  4\\right), \\  \\left( a^{(2412)}_{2}, \\  4\\right), \\  \\left( b^{(2412)}_{2}, \\  4\\right), \\  \\left( b^{(2412)}_{4}, \\  4\\right)\\right]$"
      ],
      "text/plain": [
       "<IPython.core.display.Math object>"
      ]
     },
     "metadata": {},
     "output_type": "display_data"
    },
    {
     "data": {
      "text/latex": [
       "$\\displaystyle (\\lambda, m) = (4, 0)$"
      ],
      "text/plain": [
       "<IPython.core.display.Math object>"
      ]
     },
     "metadata": {},
     "output_type": "display_data"
    },
    {
     "data": {
      "text/latex": [
       "$\\displaystyle a^{(2411)}_{1} b^{(2411)}_{1} b^{(2411)}_{2} b^{(2411)}_{4} \\left(a^{(2411)}_{2} + a^{(2411)}_{3} b^{(2411)}_{3} + a^{(2411)}_{4} + 1\\right)$"
      ],
      "text/plain": [
       "<IPython.core.display.Math object>"
      ]
     },
     "metadata": {},
     "output_type": "display_data"
    },
    {
     "data": {
      "text/latex": [
       "$\\displaystyle RLCTS = \\left[ \\left( a^{(2411)}_{1}, \\  4\\right), \\  \\left( b^{(2411)}_{1}, \\  4\\right), \\  \\left( b^{(2411)}_{2}, \\  4\\right), \\  \\left( b^{(2411)}_{4}, \\  4\\right)\\right]$"
      ],
      "text/plain": [
       "<IPython.core.display.Math object>"
      ]
     },
     "metadata": {},
     "output_type": "display_data"
    },
    {
     "data": {
      "text/latex": [
       "$\\displaystyle (\\lambda, m) = (4, 0)$"
      ],
      "text/plain": [
       "<IPython.core.display.Math object>"
      ]
     },
     "metadata": {},
     "output_type": "display_data"
    },
    {
     "name": "stdout",
     "output_type": "stream",
     "text": [
      "\n",
      "---------------\n",
      "Current expression: \n"
     ]
    },
    {
     "data": {
      "text/latex": [
       "$\\displaystyle a^{(2413)}_{1} b^{(2413)}_{2} b^{(2413)}_{3} b^{(2413)}_{4} \\left(a^{(2413)}_{2} + a^{(2413)}_{3} + a^{(2413)}_{4} + b^{(2413)}_{1}\\right)$"
      ],
      "text/plain": [
       "<IPython.core.display.Math object>"
      ]
     },
     "metadata": {},
     "output_type": "display_data"
    },
    {
     "name": "stdout",
     "output_type": "stream",
     "text": [
      "Blowup coords    : [2, 4, 6, 1]\n"
     ]
    },
    {
     "data": {
      "text/latex": [
       "$\\displaystyle Blowup variables : \\left[ a^{(2413)}_{2}, \\  a^{(2413)}_{3}, \\  a^{(2413)}_{4}, \\  b^{(2413)}_{1}\\right]$"
      ],
      "text/plain": [
       "<IPython.core.display.Math object>"
      ]
     },
     "metadata": {},
     "output_type": "display_data"
    },
    {
     "data": {
      "text/latex": [
       "$\\displaystyle a^{(24134)}_{1} a^{(24134)}_{4} b^{(24134)}_{2} b^{(24134)}_{3} b^{(24134)}_{4} \\left(a^{(24134)}_{2} + a^{(24134)}_{3} + b^{(24134)}_{1} + 1\\right)$"
      ],
      "text/plain": [
       "<IPython.core.display.Math object>"
      ]
     },
     "metadata": {},
     "output_type": "display_data"
    },
    {
     "data": {
      "text/latex": [
       "$\\displaystyle RLCTS = \\left[ \\left( a^{(24134)}_{1}, \\  4\\right), \\  \\left( a^{(24134)}_{4}, \\  4\\right), \\  \\left( b^{(24134)}_{2}, \\  4\\right), \\  \\left( b^{(24134)}_{3}, \\  4\\right), \\  \\left( b^{(24134)}_{4}, \\  4\\right)\\right]$"
      ],
      "text/plain": [
       "<IPython.core.display.Math object>"
      ]
     },
     "metadata": {},
     "output_type": "display_data"
    },
    {
     "data": {
      "text/latex": [
       "$\\displaystyle (\\lambda, m) = (4, 0)$"
      ],
      "text/plain": [
       "<IPython.core.display.Math object>"
      ]
     },
     "metadata": {},
     "output_type": "display_data"
    },
    {
     "data": {
      "text/latex": [
       "$\\displaystyle a^{(24133)}_{1} a^{(24133)}_{3} b^{(24133)}_{2} b^{(24133)}_{3} b^{(24133)}_{4} \\left(a^{(24133)}_{2} + a^{(24133)}_{4} + b^{(24133)}_{1} + 1\\right)$"
      ],
      "text/plain": [
       "<IPython.core.display.Math object>"
      ]
     },
     "metadata": {},
     "output_type": "display_data"
    },
    {
     "data": {
      "text/latex": [
       "$\\displaystyle RLCTS = \\left[ \\left( a^{(24133)}_{1}, \\  4\\right), \\  \\left( a^{(24133)}_{3}, \\  4\\right), \\  \\left( b^{(24133)}_{2}, \\  4\\right), \\  \\left( b^{(24133)}_{3}, \\  4\\right), \\  \\left( b^{(24133)}_{4}, \\  4\\right)\\right]$"
      ],
      "text/plain": [
       "<IPython.core.display.Math object>"
      ]
     },
     "metadata": {},
     "output_type": "display_data"
    },
    {
     "data": {
      "text/latex": [
       "$\\displaystyle (\\lambda, m) = (4, 0)$"
      ],
      "text/plain": [
       "<IPython.core.display.Math object>"
      ]
     },
     "metadata": {},
     "output_type": "display_data"
    },
    {
     "data": {
      "text/latex": [
       "$\\displaystyle a^{(24132)}_{1} a^{(24132)}_{2} b^{(24132)}_{2} b^{(24132)}_{3} b^{(24132)}_{4} \\left(a^{(24132)}_{3} + a^{(24132)}_{4} + b^{(24132)}_{1} + 1\\right)$"
      ],
      "text/plain": [
       "<IPython.core.display.Math object>"
      ]
     },
     "metadata": {},
     "output_type": "display_data"
    },
    {
     "data": {
      "text/latex": [
       "$\\displaystyle RLCTS = \\left[ \\left( a^{(24132)}_{1}, \\  4\\right), \\  \\left( a^{(24132)}_{2}, \\  4\\right), \\  \\left( b^{(24132)}_{2}, \\  4\\right), \\  \\left( b^{(24132)}_{3}, \\  4\\right), \\  \\left( b^{(24132)}_{4}, \\  4\\right)\\right]$"
      ],
      "text/plain": [
       "<IPython.core.display.Math object>"
      ]
     },
     "metadata": {},
     "output_type": "display_data"
    },
    {
     "data": {
      "text/latex": [
       "$\\displaystyle (\\lambda, m) = (4, 0)$"
      ],
      "text/plain": [
       "<IPython.core.display.Math object>"
      ]
     },
     "metadata": {},
     "output_type": "display_data"
    },
    {
     "data": {
      "text/latex": [
       "$\\displaystyle a^{(24131)}_{1} b^{(24131)}_{1} b^{(24131)}_{2} b^{(24131)}_{3} b^{(24131)}_{4} \\left(a^{(24131)}_{2} + a^{(24131)}_{3} + a^{(24131)}_{4} + 1\\right)$"
      ],
      "text/plain": [
       "<IPython.core.display.Math object>"
      ]
     },
     "metadata": {},
     "output_type": "display_data"
    },
    {
     "data": {
      "text/latex": [
       "$\\displaystyle RLCTS = \\left[ \\left( a^{(24131)}_{1}, \\  4\\right), \\  \\left( b^{(24131)}_{1}, \\  4\\right), \\  \\left( b^{(24131)}_{2}, \\  4\\right), \\  \\left( b^{(24131)}_{3}, \\  4\\right), \\  \\left( b^{(24131)}_{4}, \\  4\\right)\\right]$"
      ],
      "text/plain": [
       "<IPython.core.display.Math object>"
      ]
     },
     "metadata": {},
     "output_type": "display_data"
    },
    {
     "data": {
      "text/latex": [
       "$\\displaystyle (\\lambda, m) = (4, 0)$"
      ],
      "text/plain": [
       "<IPython.core.display.Math object>"
      ]
     },
     "metadata": {},
     "output_type": "display_data"
    },
    {
     "name": "stdout",
     "output_type": "stream",
     "text": [
      "\n",
      "---------------\n",
      "Current expression: \n"
     ]
    },
    {
     "data": {
      "text/latex": [
       "$\\displaystyle b^{(243)}_{2} b^{(243)}_{3} b^{(243)}_{4} \\left(a^{(243)}_{1} b^{(243)}_{1} + a^{(243)}_{2} + a^{(243)}_{3} + a^{(243)}_{4}\\right)$"
      ],
      "text/plain": [
       "<IPython.core.display.Math object>"
      ]
     },
     "metadata": {},
     "output_type": "display_data"
    },
    {
     "name": "stdout",
     "output_type": "stream",
     "text": [
      "Blowup coords    : [2, 4, 6, 1]\n"
     ]
    },
    {
     "data": {
      "text/latex": [
       "$\\displaystyle Blowup variables : \\left[ a^{(243)}_{2}, \\  a^{(243)}_{3}, \\  a^{(243)}_{4}, \\  b^{(243)}_{1}\\right]$"
      ],
      "text/plain": [
       "<IPython.core.display.Math object>"
      ]
     },
     "metadata": {},
     "output_type": "display_data"
    },
    {
     "data": {
      "text/latex": [
       "$\\displaystyle a^{(2434)}_{4} b^{(2434)}_{2} b^{(2434)}_{3} b^{(2434)}_{4} \\left(a^{(2434)}_{1} b^{(2434)}_{1} + a^{(2434)}_{2} + a^{(2434)}_{3} + 1\\right)$"
      ],
      "text/plain": [
       "<IPython.core.display.Math object>"
      ]
     },
     "metadata": {},
     "output_type": "display_data"
    },
    {
     "data": {
      "text/latex": [
       "$\\displaystyle RLCTS = \\left[ \\left( a^{(2434)}_{4}, \\  4\\right), \\  \\left( b^{(2434)}_{2}, \\  4\\right), \\  \\left( b^{(2434)}_{3}, \\  4\\right), \\  \\left( b^{(2434)}_{4}, \\  4\\right)\\right]$"
      ],
      "text/plain": [
       "<IPython.core.display.Math object>"
      ]
     },
     "metadata": {},
     "output_type": "display_data"
    },
    {
     "data": {
      "text/latex": [
       "$\\displaystyle (\\lambda, m) = (4, 0)$"
      ],
      "text/plain": [
       "<IPython.core.display.Math object>"
      ]
     },
     "metadata": {},
     "output_type": "display_data"
    },
    {
     "data": {
      "text/latex": [
       "$\\displaystyle a^{(2433)}_{3} b^{(2433)}_{2} b^{(2433)}_{3} b^{(2433)}_{4} \\left(a^{(2433)}_{1} b^{(2433)}_{1} + a^{(2433)}_{2} + a^{(2433)}_{4} + 1\\right)$"
      ],
      "text/plain": [
       "<IPython.core.display.Math object>"
      ]
     },
     "metadata": {},
     "output_type": "display_data"
    },
    {
     "data": {
      "text/latex": [
       "$\\displaystyle RLCTS = \\left[ \\left( a^{(2433)}_{3}, \\  4\\right), \\  \\left( b^{(2433)}_{2}, \\  4\\right), \\  \\left( b^{(2433)}_{3}, \\  4\\right), \\  \\left( b^{(2433)}_{4}, \\  4\\right)\\right]$"
      ],
      "text/plain": [
       "<IPython.core.display.Math object>"
      ]
     },
     "metadata": {},
     "output_type": "display_data"
    },
    {
     "data": {
      "text/latex": [
       "$\\displaystyle (\\lambda, m) = (4, 0)$"
      ],
      "text/plain": [
       "<IPython.core.display.Math object>"
      ]
     },
     "metadata": {},
     "output_type": "display_data"
    },
    {
     "data": {
      "text/latex": [
       "$\\displaystyle a^{(2432)}_{2} b^{(2432)}_{2} b^{(2432)}_{3} b^{(2432)}_{4} \\left(a^{(2432)}_{1} b^{(2432)}_{1} + a^{(2432)}_{3} + a^{(2432)}_{4} + 1\\right)$"
      ],
      "text/plain": [
       "<IPython.core.display.Math object>"
      ]
     },
     "metadata": {},
     "output_type": "display_data"
    },
    {
     "data": {
      "text/latex": [
       "$\\displaystyle RLCTS = \\left[ \\left( a^{(2432)}_{2}, \\  4\\right), \\  \\left( b^{(2432)}_{2}, \\  4\\right), \\  \\left( b^{(2432)}_{3}, \\  4\\right), \\  \\left( b^{(2432)}_{4}, \\  4\\right)\\right]$"
      ],
      "text/plain": [
       "<IPython.core.display.Math object>"
      ]
     },
     "metadata": {},
     "output_type": "display_data"
    },
    {
     "data": {
      "text/latex": [
       "$\\displaystyle (\\lambda, m) = (4, 0)$"
      ],
      "text/plain": [
       "<IPython.core.display.Math object>"
      ]
     },
     "metadata": {},
     "output_type": "display_data"
    },
    {
     "data": {
      "text/latex": [
       "$\\displaystyle b^{(2431)}_{1} b^{(2431)}_{2} b^{(2431)}_{3} b^{(2431)}_{4} \\left(a^{(2431)}_{1} + a^{(2431)}_{2} + a^{(2431)}_{3} + a^{(2431)}_{4}\\right)$"
      ],
      "text/plain": [
       "<IPython.core.display.Math object>"
      ]
     },
     "metadata": {},
     "output_type": "display_data"
    },
    {
     "name": "stdout",
     "output_type": "stream",
     "text": [
      "\n",
      "---------------\n",
      "Current expression: \n"
     ]
    },
    {
     "data": {
      "text/latex": [
       "$\\displaystyle b^{(2431)}_{1} b^{(2431)}_{2} b^{(2431)}_{3} b^{(2431)}_{4} \\left(a^{(2431)}_{1} + a^{(2431)}_{2} + a^{(2431)}_{3} + a^{(2431)}_{4}\\right)$"
      ],
      "text/plain": [
       "<IPython.core.display.Math object>"
      ]
     },
     "metadata": {},
     "output_type": "display_data"
    },
    {
     "name": "stdout",
     "output_type": "stream",
     "text": [
      "Blowup coords    : [0, 2, 4, 6]\n"
     ]
    },
    {
     "data": {
      "text/latex": [
       "$\\displaystyle Blowup variables : \\left[ a^{(2431)}_{1}, \\  a^{(2431)}_{2}, \\  a^{(2431)}_{3}, \\  a^{(2431)}_{4}\\right]$"
      ],
      "text/plain": [
       "<IPython.core.display.Math object>"
      ]
     },
     "metadata": {},
     "output_type": "display_data"
    },
    {
     "data": {
      "text/latex": [
       "$\\displaystyle a^{(24314)}_{4} b^{(24314)}_{1} b^{(24314)}_{2} b^{(24314)}_{3} b^{(24314)}_{4} \\left(a^{(24314)}_{1} + a^{(24314)}_{2} + a^{(24314)}_{3} + 1\\right)$"
      ],
      "text/plain": [
       "<IPython.core.display.Math object>"
      ]
     },
     "metadata": {},
     "output_type": "display_data"
    },
    {
     "data": {
      "text/latex": [
       "$\\displaystyle RLCTS = \\left[ \\left( a^{(24314)}_{4}, \\  4\\right), \\  \\left( b^{(24314)}_{1}, \\  4\\right), \\  \\left( b^{(24314)}_{2}, \\  4\\right), \\  \\left( b^{(24314)}_{3}, \\  4\\right), \\  \\left( b^{(24314)}_{4}, \\  4\\right)\\right]$"
      ],
      "text/plain": [
       "<IPython.core.display.Math object>"
      ]
     },
     "metadata": {},
     "output_type": "display_data"
    },
    {
     "data": {
      "text/latex": [
       "$\\displaystyle (\\lambda, m) = (4, 0)$"
      ],
      "text/plain": [
       "<IPython.core.display.Math object>"
      ]
     },
     "metadata": {},
     "output_type": "display_data"
    },
    {
     "data": {
      "text/latex": [
       "$\\displaystyle a^{(24313)}_{3} b^{(24313)}_{1} b^{(24313)}_{2} b^{(24313)}_{3} b^{(24313)}_{4} \\left(a^{(24313)}_{1} + a^{(24313)}_{2} + a^{(24313)}_{4} + 1\\right)$"
      ],
      "text/plain": [
       "<IPython.core.display.Math object>"
      ]
     },
     "metadata": {},
     "output_type": "display_data"
    },
    {
     "data": {
      "text/latex": [
       "$\\displaystyle RLCTS = \\left[ \\left( a^{(24313)}_{3}, \\  4\\right), \\  \\left( b^{(24313)}_{1}, \\  4\\right), \\  \\left( b^{(24313)}_{2}, \\  4\\right), \\  \\left( b^{(24313)}_{3}, \\  4\\right), \\  \\left( b^{(24313)}_{4}, \\  4\\right)\\right]$"
      ],
      "text/plain": [
       "<IPython.core.display.Math object>"
      ]
     },
     "metadata": {},
     "output_type": "display_data"
    },
    {
     "data": {
      "text/latex": [
       "$\\displaystyle (\\lambda, m) = (4, 0)$"
      ],
      "text/plain": [
       "<IPython.core.display.Math object>"
      ]
     },
     "metadata": {},
     "output_type": "display_data"
    },
    {
     "data": {
      "text/latex": [
       "$\\displaystyle a^{(24312)}_{2} b^{(24312)}_{1} b^{(24312)}_{2} b^{(24312)}_{3} b^{(24312)}_{4} \\left(a^{(24312)}_{1} + a^{(24312)}_{3} + a^{(24312)}_{4} + 1\\right)$"
      ],
      "text/plain": [
       "<IPython.core.display.Math object>"
      ]
     },
     "metadata": {},
     "output_type": "display_data"
    },
    {
     "data": {
      "text/latex": [
       "$\\displaystyle RLCTS = \\left[ \\left( a^{(24312)}_{2}, \\  4\\right), \\  \\left( b^{(24312)}_{1}, \\  4\\right), \\  \\left( b^{(24312)}_{2}, \\  4\\right), \\  \\left( b^{(24312)}_{3}, \\  4\\right), \\  \\left( b^{(24312)}_{4}, \\  4\\right)\\right]$"
      ],
      "text/plain": [
       "<IPython.core.display.Math object>"
      ]
     },
     "metadata": {},
     "output_type": "display_data"
    },
    {
     "data": {
      "text/latex": [
       "$\\displaystyle (\\lambda, m) = (4, 0)$"
      ],
      "text/plain": [
       "<IPython.core.display.Math object>"
      ]
     },
     "metadata": {},
     "output_type": "display_data"
    },
    {
     "data": {
      "text/latex": [
       "$\\displaystyle a^{(24311)}_{1} b^{(24311)}_{1} b^{(24311)}_{2} b^{(24311)}_{3} b^{(24311)}_{4} \\left(a^{(24311)}_{2} + a^{(24311)}_{3} + a^{(24311)}_{4} + 1\\right)$"
      ],
      "text/plain": [
       "<IPython.core.display.Math object>"
      ]
     },
     "metadata": {},
     "output_type": "display_data"
    },
    {
     "data": {
      "text/latex": [
       "$\\displaystyle RLCTS = \\left[ \\left( a^{(24311)}_{1}, \\  4\\right), \\  \\left( b^{(24311)}_{1}, \\  4\\right), \\  \\left( b^{(24311)}_{2}, \\  4\\right), \\  \\left( b^{(24311)}_{3}, \\  4\\right), \\  \\left( b^{(24311)}_{4}, \\  4\\right)\\right]$"
      ],
      "text/plain": [
       "<IPython.core.display.Math object>"
      ]
     },
     "metadata": {},
     "output_type": "display_data"
    },
    {
     "data": {
      "text/latex": [
       "$\\displaystyle (\\lambda, m) = (4, 0)$"
      ],
      "text/plain": [
       "<IPython.core.display.Math object>"
      ]
     },
     "metadata": {},
     "output_type": "display_data"
    },
    {
     "name": "stdout",
     "output_type": "stream",
     "text": [
      "\n",
      "---------------\n",
      "Current expression: \n"
     ]
    },
    {
     "data": {
      "text/latex": [
       "$\\displaystyle a^{(3)}_{3} \\left(a^{(3)}_{1} b^{(3)}_{1} + a^{(3)}_{2} b^{(3)}_{2} + a^{(3)}_{4} b^{(3)}_{4} + b^{(3)}_{3}\\right)$"
      ],
      "text/plain": [
       "<IPython.core.display.Math object>"
      ]
     },
     "metadata": {},
     "output_type": "display_data"
    },
    {
     "name": "stdout",
     "output_type": "stream",
     "text": [
      "Blowup coords    : [5, 0, 2, 7]\n"
     ]
    },
    {
     "data": {
      "text/latex": [
       "$\\displaystyle Blowup variables : \\left[ b^{(3)}_{3}, \\  a^{(3)}_{1}, \\  a^{(3)}_{2}, \\  b^{(3)}_{4}\\right]$"
      ],
      "text/plain": [
       "<IPython.core.display.Math object>"
      ]
     },
     "metadata": {},
     "output_type": "display_data"
    },
    {
     "data": {
      "text/latex": [
       "$\\displaystyle a^{(34)}_{3} b^{(34)}_{4} \\left(a^{(34)}_{1} b^{(34)}_{1} + a^{(34)}_{2} b^{(34)}_{2} + a^{(34)}_{4} + b^{(34)}_{3}\\right)$"
      ],
      "text/plain": [
       "<IPython.core.display.Math object>"
      ]
     },
     "metadata": {},
     "output_type": "display_data"
    },
    {
     "data": {
      "text/latex": [
       "$\\displaystyle a^{(33)}_{3} b^{(33)}_{3} \\left(a^{(33)}_{1} b^{(33)}_{1} + a^{(33)}_{2} b^{(33)}_{2} + a^{(33)}_{4} b^{(33)}_{4} + 1\\right)$"
      ],
      "text/plain": [
       "<IPython.core.display.Math object>"
      ]
     },
     "metadata": {},
     "output_type": "display_data"
    },
    {
     "data": {
      "text/latex": [
       "$\\displaystyle RLCTS = \\left[ \\left( a^{(33)}_{3}, \\  4\\right), \\  \\left( b^{(33)}_{3}, \\  4\\right)\\right]$"
      ],
      "text/plain": [
       "<IPython.core.display.Math object>"
      ]
     },
     "metadata": {},
     "output_type": "display_data"
    },
    {
     "data": {
      "text/latex": [
       "$\\displaystyle (\\lambda, m) = (4, 0)$"
      ],
      "text/plain": [
       "<IPython.core.display.Math object>"
      ]
     },
     "metadata": {},
     "output_type": "display_data"
    },
    {
     "data": {
      "text/latex": [
       "$\\displaystyle a^{(32)}_{2} a^{(32)}_{3} \\left(a^{(32)}_{1} b^{(32)}_{1} + a^{(32)}_{4} b^{(32)}_{4} + b^{(32)}_{2} + b^{(32)}_{3}\\right)$"
      ],
      "text/plain": [
       "<IPython.core.display.Math object>"
      ]
     },
     "metadata": {},
     "output_type": "display_data"
    },
    {
     "data": {
      "text/latex": [
       "$\\displaystyle a^{(31)}_{1} a^{(31)}_{3} \\left(a^{(31)}_{2} b^{(31)}_{2} + a^{(31)}_{4} b^{(31)}_{4} + b^{(31)}_{1} + b^{(31)}_{3}\\right)$"
      ],
      "text/plain": [
       "<IPython.core.display.Math object>"
      ]
     },
     "metadata": {},
     "output_type": "display_data"
    },
    {
     "name": "stdout",
     "output_type": "stream",
     "text": [
      "\n",
      "---------------\n",
      "Current expression: \n"
     ]
    },
    {
     "data": {
      "text/latex": [
       "$\\displaystyle a^{(31)}_{1} a^{(31)}_{3} \\left(a^{(31)}_{2} b^{(31)}_{2} + a^{(31)}_{4} b^{(31)}_{4} + b^{(31)}_{1} + b^{(31)}_{3}\\right)$"
      ],
      "text/plain": [
       "<IPython.core.display.Math object>"
      ]
     },
     "metadata": {},
     "output_type": "display_data"
    },
    {
     "name": "stdout",
     "output_type": "stream",
     "text": [
      "Blowup coords    : [1, 5, 2, 7]\n"
     ]
    },
    {
     "data": {
      "text/latex": [
       "$\\displaystyle Blowup variables : \\left[ b^{(31)}_{1}, \\  b^{(31)}_{3}, \\  a^{(31)}_{2}, \\  b^{(31)}_{4}\\right]$"
      ],
      "text/plain": [
       "<IPython.core.display.Math object>"
      ]
     },
     "metadata": {},
     "output_type": "display_data"
    },
    {
     "data": {
      "text/latex": [
       "$\\displaystyle a^{(314)}_{1} a^{(314)}_{3} b^{(314)}_{4} \\left(a^{(314)}_{2} b^{(314)}_{2} + a^{(314)}_{4} + b^{(314)}_{1} + b^{(314)}_{3}\\right)$"
      ],
      "text/plain": [
       "<IPython.core.display.Math object>"
      ]
     },
     "metadata": {},
     "output_type": "display_data"
    },
    {
     "data": {
      "text/latex": [
       "$\\displaystyle a^{(313)}_{1} a^{(313)}_{3} b^{(313)}_{3} \\left(a^{(313)}_{2} b^{(313)}_{2} + a^{(313)}_{4} b^{(313)}_{4} + b^{(313)}_{1} + 1\\right)$"
      ],
      "text/plain": [
       "<IPython.core.display.Math object>"
      ]
     },
     "metadata": {},
     "output_type": "display_data"
    },
    {
     "data": {
      "text/latex": [
       "$\\displaystyle RLCTS = \\left[ \\left( a^{(313)}_{1}, \\  4\\right), \\  \\left( a^{(313)}_{3}, \\  4\\right), \\  \\left( b^{(313)}_{3}, \\  4\\right)\\right]$"
      ],
      "text/plain": [
       "<IPython.core.display.Math object>"
      ]
     },
     "metadata": {},
     "output_type": "display_data"
    },
    {
     "data": {
      "text/latex": [
       "$\\displaystyle (\\lambda, m) = (4, 0)$"
      ],
      "text/plain": [
       "<IPython.core.display.Math object>"
      ]
     },
     "metadata": {},
     "output_type": "display_data"
    },
    {
     "data": {
      "text/latex": [
       "$\\displaystyle a^{(312)}_{1} a^{(312)}_{2} a^{(312)}_{3} \\left(a^{(312)}_{4} b^{(312)}_{4} + b^{(312)}_{1} + b^{(312)}_{2} + b^{(312)}_{3}\\right)$"
      ],
      "text/plain": [
       "<IPython.core.display.Math object>"
      ]
     },
     "metadata": {},
     "output_type": "display_data"
    },
    {
     "data": {
      "text/latex": [
       "$\\displaystyle a^{(311)}_{1} a^{(311)}_{3} b^{(311)}_{1} \\left(a^{(311)}_{2} b^{(311)}_{2} + a^{(311)}_{4} b^{(311)}_{4} + b^{(311)}_{3} + 1\\right)$"
      ],
      "text/plain": [
       "<IPython.core.display.Math object>"
      ]
     },
     "metadata": {},
     "output_type": "display_data"
    },
    {
     "data": {
      "text/latex": [
       "$\\displaystyle RLCTS = \\left[ \\left( a^{(311)}_{1}, \\  4\\right), \\  \\left( a^{(311)}_{3}, \\  4\\right), \\  \\left( b^{(311)}_{1}, \\  4\\right)\\right]$"
      ],
      "text/plain": [
       "<IPython.core.display.Math object>"
      ]
     },
     "metadata": {},
     "output_type": "display_data"
    },
    {
     "data": {
      "text/latex": [
       "$\\displaystyle (\\lambda, m) = (4, 0)$"
      ],
      "text/plain": [
       "<IPython.core.display.Math object>"
      ]
     },
     "metadata": {},
     "output_type": "display_data"
    },
    {
     "name": "stdout",
     "output_type": "stream",
     "text": [
      "\n",
      "---------------\n",
      "Current expression: \n"
     ]
    },
    {
     "data": {
      "text/latex": [
       "$\\displaystyle a^{(312)}_{1} a^{(312)}_{2} a^{(312)}_{3} \\left(a^{(312)}_{4} b^{(312)}_{4} + b^{(312)}_{1} + b^{(312)}_{2} + b^{(312)}_{3}\\right)$"
      ],
      "text/plain": [
       "<IPython.core.display.Math object>"
      ]
     },
     "metadata": {},
     "output_type": "display_data"
    },
    {
     "name": "stdout",
     "output_type": "stream",
     "text": [
      "Blowup coords    : [1, 3, 5, 7]\n"
     ]
    },
    {
     "data": {
      "text/latex": [
       "$\\displaystyle Blowup variables : \\left[ b^{(312)}_{1}, \\  b^{(312)}_{2}, \\  b^{(312)}_{3}, \\  b^{(312)}_{4}\\right]$"
      ],
      "text/plain": [
       "<IPython.core.display.Math object>"
      ]
     },
     "metadata": {},
     "output_type": "display_data"
    },
    {
     "data": {
      "text/latex": [
       "$\\displaystyle a^{(3124)}_{1} a^{(3124)}_{2} a^{(3124)}_{3} b^{(3124)}_{4} \\left(a^{(3124)}_{4} + b^{(3124)}_{1} + b^{(3124)}_{2} + b^{(3124)}_{3}\\right)$"
      ],
      "text/plain": [
       "<IPython.core.display.Math object>"
      ]
     },
     "metadata": {},
     "output_type": "display_data"
    },
    {
     "data": {
      "text/latex": [
       "$\\displaystyle a^{(3123)}_{1} a^{(3123)}_{2} a^{(3123)}_{3} b^{(3123)}_{3} \\left(a^{(3123)}_{4} b^{(3123)}_{4} + b^{(3123)}_{1} + b^{(3123)}_{2} + 1\\right)$"
      ],
      "text/plain": [
       "<IPython.core.display.Math object>"
      ]
     },
     "metadata": {},
     "output_type": "display_data"
    },
    {
     "data": {
      "text/latex": [
       "$\\displaystyle RLCTS = \\left[ \\left( a^{(3123)}_{1}, \\  4\\right), \\  \\left( a^{(3123)}_{2}, \\  4\\right), \\  \\left( a^{(3123)}_{3}, \\  4\\right), \\  \\left( b^{(3123)}_{3}, \\  4\\right)\\right]$"
      ],
      "text/plain": [
       "<IPython.core.display.Math object>"
      ]
     },
     "metadata": {},
     "output_type": "display_data"
    },
    {
     "data": {
      "text/latex": [
       "$\\displaystyle (\\lambda, m) = (4, 0)$"
      ],
      "text/plain": [
       "<IPython.core.display.Math object>"
      ]
     },
     "metadata": {},
     "output_type": "display_data"
    },
    {
     "data": {
      "text/latex": [
       "$\\displaystyle a^{(3122)}_{1} a^{(3122)}_{2} a^{(3122)}_{3} b^{(3122)}_{2} \\left(a^{(3122)}_{4} b^{(3122)}_{4} + b^{(3122)}_{1} + b^{(3122)}_{3} + 1\\right)$"
      ],
      "text/plain": [
       "<IPython.core.display.Math object>"
      ]
     },
     "metadata": {},
     "output_type": "display_data"
    },
    {
     "data": {
      "text/latex": [
       "$\\displaystyle RLCTS = \\left[ \\left( a^{(3122)}_{1}, \\  4\\right), \\  \\left( a^{(3122)}_{2}, \\  4\\right), \\  \\left( a^{(3122)}_{3}, \\  4\\right), \\  \\left( b^{(3122)}_{2}, \\  4\\right)\\right]$"
      ],
      "text/plain": [
       "<IPython.core.display.Math object>"
      ]
     },
     "metadata": {},
     "output_type": "display_data"
    },
    {
     "data": {
      "text/latex": [
       "$\\displaystyle (\\lambda, m) = (4, 0)$"
      ],
      "text/plain": [
       "<IPython.core.display.Math object>"
      ]
     },
     "metadata": {},
     "output_type": "display_data"
    },
    {
     "data": {
      "text/latex": [
       "$\\displaystyle a^{(3121)}_{1} a^{(3121)}_{2} a^{(3121)}_{3} b^{(3121)}_{1} \\left(a^{(3121)}_{4} b^{(3121)}_{4} + b^{(3121)}_{2} + b^{(3121)}_{3} + 1\\right)$"
      ],
      "text/plain": [
       "<IPython.core.display.Math object>"
      ]
     },
     "metadata": {},
     "output_type": "display_data"
    },
    {
     "data": {
      "text/latex": [
       "$\\displaystyle RLCTS = \\left[ \\left( a^{(3121)}_{1}, \\  4\\right), \\  \\left( a^{(3121)}_{2}, \\  4\\right), \\  \\left( a^{(3121)}_{3}, \\  4\\right), \\  \\left( b^{(3121)}_{1}, \\  4\\right)\\right]$"
      ],
      "text/plain": [
       "<IPython.core.display.Math object>"
      ]
     },
     "metadata": {},
     "output_type": "display_data"
    },
    {
     "data": {
      "text/latex": [
       "$\\displaystyle (\\lambda, m) = (4, 0)$"
      ],
      "text/plain": [
       "<IPython.core.display.Math object>"
      ]
     },
     "metadata": {},
     "output_type": "display_data"
    },
    {
     "name": "stdout",
     "output_type": "stream",
     "text": [
      "\n",
      "---------------\n",
      "Current expression: \n"
     ]
    },
    {
     "data": {
      "text/latex": [
       "$\\displaystyle a^{(3124)}_{1} a^{(3124)}_{2} a^{(3124)}_{3} b^{(3124)}_{4} \\left(a^{(3124)}_{4} + b^{(3124)}_{1} + b^{(3124)}_{2} + b^{(3124)}_{3}\\right)$"
      ],
      "text/plain": [
       "<IPython.core.display.Math object>"
      ]
     },
     "metadata": {},
     "output_type": "display_data"
    },
    {
     "name": "stdout",
     "output_type": "stream",
     "text": [
      "Blowup coords    : [6, 1, 3, 5]\n"
     ]
    },
    {
     "data": {
      "text/latex": [
       "$\\displaystyle Blowup variables : \\left[ a^{(3124)}_{4}, \\  b^{(3124)}_{1}, \\  b^{(3124)}_{2}, \\  b^{(3124)}_{3}\\right]$"
      ],
      "text/plain": [
       "<IPython.core.display.Math object>"
      ]
     },
     "metadata": {},
     "output_type": "display_data"
    },
    {
     "data": {
      "text/latex": [
       "$\\displaystyle a^{(31244)}_{1} a^{(31244)}_{2} a^{(31244)}_{3} a^{(31244)}_{4} b^{(31244)}_{4} \\left(b^{(31244)}_{1} + b^{(31244)}_{2} + b^{(31244)}_{3} + 1\\right)$"
      ],
      "text/plain": [
       "<IPython.core.display.Math object>"
      ]
     },
     "metadata": {},
     "output_type": "display_data"
    },
    {
     "data": {
      "text/latex": [
       "$\\displaystyle RLCTS = \\left[ \\left( a^{(31244)}_{1}, \\  4\\right), \\  \\left( a^{(31244)}_{2}, \\  4\\right), \\  \\left( a^{(31244)}_{3}, \\  4\\right), \\  \\left( a^{(31244)}_{4}, \\  4\\right), \\  \\left( b^{(31244)}_{4}, \\  4\\right)\\right]$"
      ],
      "text/plain": [
       "<IPython.core.display.Math object>"
      ]
     },
     "metadata": {},
     "output_type": "display_data"
    },
    {
     "data": {
      "text/latex": [
       "$\\displaystyle (\\lambda, m) = (4, 0)$"
      ],
      "text/plain": [
       "<IPython.core.display.Math object>"
      ]
     },
     "metadata": {},
     "output_type": "display_data"
    },
    {
     "data": {
      "text/latex": [
       "$\\displaystyle a^{(31243)}_{1} a^{(31243)}_{2} a^{(31243)}_{3} b^{(31243)}_{3} b^{(31243)}_{4} \\left(a^{(31243)}_{4} + b^{(31243)}_{1} + b^{(31243)}_{2} + 1\\right)$"
      ],
      "text/plain": [
       "<IPython.core.display.Math object>"
      ]
     },
     "metadata": {},
     "output_type": "display_data"
    },
    {
     "data": {
      "text/latex": [
       "$\\displaystyle RLCTS = \\left[ \\left( a^{(31243)}_{1}, \\  4\\right), \\  \\left( a^{(31243)}_{2}, \\  4\\right), \\  \\left( a^{(31243)}_{3}, \\  4\\right), \\  \\left( b^{(31243)}_{3}, \\  4\\right), \\  \\left( b^{(31243)}_{4}, \\  4\\right)\\right]$"
      ],
      "text/plain": [
       "<IPython.core.display.Math object>"
      ]
     },
     "metadata": {},
     "output_type": "display_data"
    },
    {
     "data": {
      "text/latex": [
       "$\\displaystyle (\\lambda, m) = (4, 0)$"
      ],
      "text/plain": [
       "<IPython.core.display.Math object>"
      ]
     },
     "metadata": {},
     "output_type": "display_data"
    },
    {
     "data": {
      "text/latex": [
       "$\\displaystyle a^{(31242)}_{1} a^{(31242)}_{2} a^{(31242)}_{3} b^{(31242)}_{2} b^{(31242)}_{4} \\left(a^{(31242)}_{4} + b^{(31242)}_{1} + b^{(31242)}_{3} + 1\\right)$"
      ],
      "text/plain": [
       "<IPython.core.display.Math object>"
      ]
     },
     "metadata": {},
     "output_type": "display_data"
    },
    {
     "data": {
      "text/latex": [
       "$\\displaystyle RLCTS = \\left[ \\left( a^{(31242)}_{1}, \\  4\\right), \\  \\left( a^{(31242)}_{2}, \\  4\\right), \\  \\left( a^{(31242)}_{3}, \\  4\\right), \\  \\left( b^{(31242)}_{2}, \\  4\\right), \\  \\left( b^{(31242)}_{4}, \\  4\\right)\\right]$"
      ],
      "text/plain": [
       "<IPython.core.display.Math object>"
      ]
     },
     "metadata": {},
     "output_type": "display_data"
    },
    {
     "data": {
      "text/latex": [
       "$\\displaystyle (\\lambda, m) = (4, 0)$"
      ],
      "text/plain": [
       "<IPython.core.display.Math object>"
      ]
     },
     "metadata": {},
     "output_type": "display_data"
    },
    {
     "data": {
      "text/latex": [
       "$\\displaystyle a^{(31241)}_{1} a^{(31241)}_{2} a^{(31241)}_{3} b^{(31241)}_{1} b^{(31241)}_{4} \\left(a^{(31241)}_{4} + b^{(31241)}_{2} + b^{(31241)}_{3} + 1\\right)$"
      ],
      "text/plain": [
       "<IPython.core.display.Math object>"
      ]
     },
     "metadata": {},
     "output_type": "display_data"
    },
    {
     "data": {
      "text/latex": [
       "$\\displaystyle RLCTS = \\left[ \\left( a^{(31241)}_{1}, \\  4\\right), \\  \\left( a^{(31241)}_{2}, \\  4\\right), \\  \\left( a^{(31241)}_{3}, \\  4\\right), \\  \\left( b^{(31241)}_{1}, \\  4\\right), \\  \\left( b^{(31241)}_{4}, \\  4\\right)\\right]$"
      ],
      "text/plain": [
       "<IPython.core.display.Math object>"
      ]
     },
     "metadata": {},
     "output_type": "display_data"
    },
    {
     "data": {
      "text/latex": [
       "$\\displaystyle (\\lambda, m) = (4, 0)$"
      ],
      "text/plain": [
       "<IPython.core.display.Math object>"
      ]
     },
     "metadata": {},
     "output_type": "display_data"
    },
    {
     "name": "stdout",
     "output_type": "stream",
     "text": [
      "\n",
      "---------------\n",
      "Current expression: \n"
     ]
    },
    {
     "data": {
      "text/latex": [
       "$\\displaystyle a^{(314)}_{1} a^{(314)}_{3} b^{(314)}_{4} \\left(a^{(314)}_{2} b^{(314)}_{2} + a^{(314)}_{4} + b^{(314)}_{1} + b^{(314)}_{3}\\right)$"
      ],
      "text/plain": [
       "<IPython.core.display.Math object>"
      ]
     },
     "metadata": {},
     "output_type": "display_data"
    },
    {
     "name": "stdout",
     "output_type": "stream",
     "text": [
      "Blowup coords    : [6, 1, 5, 3]\n"
     ]
    },
    {
     "data": {
      "text/latex": [
       "$\\displaystyle Blowup variables : \\left[ a^{(314)}_{4}, \\  b^{(314)}_{1}, \\  b^{(314)}_{3}, \\  b^{(314)}_{2}\\right]$"
      ],
      "text/plain": [
       "<IPython.core.display.Math object>"
      ]
     },
     "metadata": {},
     "output_type": "display_data"
    },
    {
     "data": {
      "text/latex": [
       "$\\displaystyle a^{(3144)}_{1} a^{(3144)}_{3} a^{(3144)}_{4} b^{(3144)}_{4} \\left(a^{(3144)}_{2} b^{(3144)}_{2} + b^{(3144)}_{1} + b^{(3144)}_{3} + 1\\right)$"
      ],
      "text/plain": [
       "<IPython.core.display.Math object>"
      ]
     },
     "metadata": {},
     "output_type": "display_data"
    },
    {
     "data": {
      "text/latex": [
       "$\\displaystyle RLCTS = \\left[ \\left( a^{(3144)}_{1}, \\  4\\right), \\  \\left( a^{(3144)}_{3}, \\  4\\right), \\  \\left( a^{(3144)}_{4}, \\  4\\right), \\  \\left( b^{(3144)}_{4}, \\  4\\right)\\right]$"
      ],
      "text/plain": [
       "<IPython.core.display.Math object>"
      ]
     },
     "metadata": {},
     "output_type": "display_data"
    },
    {
     "data": {
      "text/latex": [
       "$\\displaystyle (\\lambda, m) = (4, 0)$"
      ],
      "text/plain": [
       "<IPython.core.display.Math object>"
      ]
     },
     "metadata": {},
     "output_type": "display_data"
    },
    {
     "data": {
      "text/latex": [
       "$\\displaystyle a^{(3143)}_{1} a^{(3143)}_{3} b^{(3143)}_{3} b^{(3143)}_{4} \\left(a^{(3143)}_{2} b^{(3143)}_{2} + a^{(3143)}_{4} + b^{(3143)}_{1} + 1\\right)$"
      ],
      "text/plain": [
       "<IPython.core.display.Math object>"
      ]
     },
     "metadata": {},
     "output_type": "display_data"
    },
    {
     "data": {
      "text/latex": [
       "$\\displaystyle RLCTS = \\left[ \\left( a^{(3143)}_{1}, \\  4\\right), \\  \\left( a^{(3143)}_{3}, \\  4\\right), \\  \\left( b^{(3143)}_{3}, \\  4\\right), \\  \\left( b^{(3143)}_{4}, \\  4\\right)\\right]$"
      ],
      "text/plain": [
       "<IPython.core.display.Math object>"
      ]
     },
     "metadata": {},
     "output_type": "display_data"
    },
    {
     "data": {
      "text/latex": [
       "$\\displaystyle (\\lambda, m) = (4, 0)$"
      ],
      "text/plain": [
       "<IPython.core.display.Math object>"
      ]
     },
     "metadata": {},
     "output_type": "display_data"
    },
    {
     "data": {
      "text/latex": [
       "$\\displaystyle a^{(3142)}_{1} a^{(3142)}_{3} b^{(3142)}_{2} b^{(3142)}_{4} \\left(a^{(3142)}_{2} + a^{(3142)}_{4} + b^{(3142)}_{1} + b^{(3142)}_{3}\\right)$"
      ],
      "text/plain": [
       "<IPython.core.display.Math object>"
      ]
     },
     "metadata": {},
     "output_type": "display_data"
    },
    {
     "data": {
      "text/latex": [
       "$\\displaystyle a^{(3141)}_{1} a^{(3141)}_{3} b^{(3141)}_{1} b^{(3141)}_{4} \\left(a^{(3141)}_{2} b^{(3141)}_{2} + a^{(3141)}_{4} + b^{(3141)}_{3} + 1\\right)$"
      ],
      "text/plain": [
       "<IPython.core.display.Math object>"
      ]
     },
     "metadata": {},
     "output_type": "display_data"
    },
    {
     "data": {
      "text/latex": [
       "$\\displaystyle RLCTS = \\left[ \\left( a^{(3141)}_{1}, \\  4\\right), \\  \\left( a^{(3141)}_{3}, \\  4\\right), \\  \\left( b^{(3141)}_{1}, \\  4\\right), \\  \\left( b^{(3141)}_{4}, \\  4\\right)\\right]$"
      ],
      "text/plain": [
       "<IPython.core.display.Math object>"
      ]
     },
     "metadata": {},
     "output_type": "display_data"
    },
    {
     "data": {
      "text/latex": [
       "$\\displaystyle (\\lambda, m) = (4, 0)$"
      ],
      "text/plain": [
       "<IPython.core.display.Math object>"
      ]
     },
     "metadata": {},
     "output_type": "display_data"
    },
    {
     "name": "stdout",
     "output_type": "stream",
     "text": [
      "\n",
      "---------------\n",
      "Current expression: \n"
     ]
    },
    {
     "data": {
      "text/latex": [
       "$\\displaystyle a^{(3142)}_{1} a^{(3142)}_{3} b^{(3142)}_{2} b^{(3142)}_{4} \\left(a^{(3142)}_{2} + a^{(3142)}_{4} + b^{(3142)}_{1} + b^{(3142)}_{3}\\right)$"
      ],
      "text/plain": [
       "<IPython.core.display.Math object>"
      ]
     },
     "metadata": {},
     "output_type": "display_data"
    },
    {
     "name": "stdout",
     "output_type": "stream",
     "text": [
      "Blowup coords    : [2, 6, 1, 5]\n"
     ]
    },
    {
     "data": {
      "text/latex": [
       "$\\displaystyle Blowup variables : \\left[ a^{(3142)}_{2}, \\  a^{(3142)}_{4}, \\  b^{(3142)}_{1}, \\  b^{(3142)}_{3}\\right]$"
      ],
      "text/plain": [
       "<IPython.core.display.Math object>"
      ]
     },
     "metadata": {},
     "output_type": "display_data"
    },
    {
     "data": {
      "text/latex": [
       "$\\displaystyle a^{(31424)}_{1} a^{(31424)}_{3} a^{(31424)}_{4} b^{(31424)}_{2} b^{(31424)}_{4} \\left(a^{(31424)}_{2} + b^{(31424)}_{1} + b^{(31424)}_{3} + 1\\right)$"
      ],
      "text/plain": [
       "<IPython.core.display.Math object>"
      ]
     },
     "metadata": {},
     "output_type": "display_data"
    },
    {
     "data": {
      "text/latex": [
       "$\\displaystyle RLCTS = \\left[ \\left( a^{(31424)}_{1}, \\  4\\right), \\  \\left( a^{(31424)}_{3}, \\  4\\right), \\  \\left( a^{(31424)}_{4}, \\  4\\right), \\  \\left( b^{(31424)}_{2}, \\  4\\right), \\  \\left( b^{(31424)}_{4}, \\  4\\right)\\right]$"
      ],
      "text/plain": [
       "<IPython.core.display.Math object>"
      ]
     },
     "metadata": {},
     "output_type": "display_data"
    },
    {
     "data": {
      "text/latex": [
       "$\\displaystyle (\\lambda, m) = (4, 0)$"
      ],
      "text/plain": [
       "<IPython.core.display.Math object>"
      ]
     },
     "metadata": {},
     "output_type": "display_data"
    },
    {
     "data": {
      "text/latex": [
       "$\\displaystyle a^{(31423)}_{1} a^{(31423)}_{3} b^{(31423)}_{2} b^{(31423)}_{3} b^{(31423)}_{4} \\left(a^{(31423)}_{2} + a^{(31423)}_{4} + b^{(31423)}_{1} + 1\\right)$"
      ],
      "text/plain": [
       "<IPython.core.display.Math object>"
      ]
     },
     "metadata": {},
     "output_type": "display_data"
    },
    {
     "data": {
      "text/latex": [
       "$\\displaystyle RLCTS = \\left[ \\left( a^{(31423)}_{1}, \\  4\\right), \\  \\left( a^{(31423)}_{3}, \\  4\\right), \\  \\left( b^{(31423)}_{2}, \\  4\\right), \\  \\left( b^{(31423)}_{3}, \\  4\\right), \\  \\left( b^{(31423)}_{4}, \\  4\\right)\\right]$"
      ],
      "text/plain": [
       "<IPython.core.display.Math object>"
      ]
     },
     "metadata": {},
     "output_type": "display_data"
    },
    {
     "data": {
      "text/latex": [
       "$\\displaystyle (\\lambda, m) = (4, 0)$"
      ],
      "text/plain": [
       "<IPython.core.display.Math object>"
      ]
     },
     "metadata": {},
     "output_type": "display_data"
    },
    {
     "data": {
      "text/latex": [
       "$\\displaystyle a^{(31422)}_{1} a^{(31422)}_{2} a^{(31422)}_{3} b^{(31422)}_{2} b^{(31422)}_{4} \\left(a^{(31422)}_{4} + b^{(31422)}_{1} + b^{(31422)}_{3} + 1\\right)$"
      ],
      "text/plain": [
       "<IPython.core.display.Math object>"
      ]
     },
     "metadata": {},
     "output_type": "display_data"
    },
    {
     "data": {
      "text/latex": [
       "$\\displaystyle RLCTS = \\left[ \\left( a^{(31422)}_{1}, \\  4\\right), \\  \\left( a^{(31422)}_{2}, \\  4\\right), \\  \\left( a^{(31422)}_{3}, \\  4\\right), \\  \\left( b^{(31422)}_{2}, \\  4\\right), \\  \\left( b^{(31422)}_{4}, \\  4\\right)\\right]$"
      ],
      "text/plain": [
       "<IPython.core.display.Math object>"
      ]
     },
     "metadata": {},
     "output_type": "display_data"
    },
    {
     "data": {
      "text/latex": [
       "$\\displaystyle (\\lambda, m) = (4, 0)$"
      ],
      "text/plain": [
       "<IPython.core.display.Math object>"
      ]
     },
     "metadata": {},
     "output_type": "display_data"
    },
    {
     "data": {
      "text/latex": [
       "$\\displaystyle a^{(31421)}_{1} a^{(31421)}_{3} b^{(31421)}_{1} b^{(31421)}_{2} b^{(31421)}_{4} \\left(a^{(31421)}_{2} + a^{(31421)}_{4} + b^{(31421)}_{3} + 1\\right)$"
      ],
      "text/plain": [
       "<IPython.core.display.Math object>"
      ]
     },
     "metadata": {},
     "output_type": "display_data"
    },
    {
     "data": {
      "text/latex": [
       "$\\displaystyle RLCTS = \\left[ \\left( a^{(31421)}_{1}, \\  4\\right), \\  \\left( a^{(31421)}_{3}, \\  4\\right), \\  \\left( b^{(31421)}_{1}, \\  4\\right), \\  \\left( b^{(31421)}_{2}, \\  4\\right), \\  \\left( b^{(31421)}_{4}, \\  4\\right)\\right]$"
      ],
      "text/plain": [
       "<IPython.core.display.Math object>"
      ]
     },
     "metadata": {},
     "output_type": "display_data"
    },
    {
     "data": {
      "text/latex": [
       "$\\displaystyle (\\lambda, m) = (4, 0)$"
      ],
      "text/plain": [
       "<IPython.core.display.Math object>"
      ]
     },
     "metadata": {},
     "output_type": "display_data"
    },
    {
     "name": "stdout",
     "output_type": "stream",
     "text": [
      "\n",
      "---------------\n",
      "Current expression: \n"
     ]
    },
    {
     "data": {
      "text/latex": [
       "$\\displaystyle a^{(32)}_{2} a^{(32)}_{3} \\left(a^{(32)}_{1} b^{(32)}_{1} + a^{(32)}_{4} b^{(32)}_{4} + b^{(32)}_{2} + b^{(32)}_{3}\\right)$"
      ],
      "text/plain": [
       "<IPython.core.display.Math object>"
      ]
     },
     "metadata": {},
     "output_type": "display_data"
    },
    {
     "name": "stdout",
     "output_type": "stream",
     "text": [
      "Blowup coords    : [3, 5, 0, 7]\n"
     ]
    },
    {
     "data": {
      "text/latex": [
       "$\\displaystyle Blowup variables : \\left[ b^{(32)}_{2}, \\  b^{(32)}_{3}, \\  a^{(32)}_{1}, \\  b^{(32)}_{4}\\right]$"
      ],
      "text/plain": [
       "<IPython.core.display.Math object>"
      ]
     },
     "metadata": {},
     "output_type": "display_data"
    },
    {
     "data": {
      "text/latex": [
       "$\\displaystyle a^{(324)}_{2} a^{(324)}_{3} b^{(324)}_{4} \\left(a^{(324)}_{1} b^{(324)}_{1} + a^{(324)}_{4} + b^{(324)}_{2} + b^{(324)}_{3}\\right)$"
      ],
      "text/plain": [
       "<IPython.core.display.Math object>"
      ]
     },
     "metadata": {},
     "output_type": "display_data"
    },
    {
     "data": {
      "text/latex": [
       "$\\displaystyle a^{(323)}_{2} a^{(323)}_{3} b^{(323)}_{3} \\left(a^{(323)}_{1} b^{(323)}_{1} + a^{(323)}_{4} b^{(323)}_{4} + b^{(323)}_{2} + 1\\right)$"
      ],
      "text/plain": [
       "<IPython.core.display.Math object>"
      ]
     },
     "metadata": {},
     "output_type": "display_data"
    },
    {
     "data": {
      "text/latex": [
       "$\\displaystyle RLCTS = \\left[ \\left( a^{(323)}_{2}, \\  4\\right), \\  \\left( a^{(323)}_{3}, \\  4\\right), \\  \\left( b^{(323)}_{3}, \\  4\\right)\\right]$"
      ],
      "text/plain": [
       "<IPython.core.display.Math object>"
      ]
     },
     "metadata": {},
     "output_type": "display_data"
    },
    {
     "data": {
      "text/latex": [
       "$\\displaystyle (\\lambda, m) = (4, 0)$"
      ],
      "text/plain": [
       "<IPython.core.display.Math object>"
      ]
     },
     "metadata": {},
     "output_type": "display_data"
    },
    {
     "data": {
      "text/latex": [
       "$\\displaystyle a^{(322)}_{2} a^{(322)}_{3} b^{(322)}_{2} \\left(a^{(322)}_{1} b^{(322)}_{1} + a^{(322)}_{4} b^{(322)}_{4} + b^{(322)}_{3} + 1\\right)$"
      ],
      "text/plain": [
       "<IPython.core.display.Math object>"
      ]
     },
     "metadata": {},
     "output_type": "display_data"
    },
    {
     "data": {
      "text/latex": [
       "$\\displaystyle RLCTS = \\left[ \\left( a^{(322)}_{2}, \\  4\\right), \\  \\left( a^{(322)}_{3}, \\  4\\right), \\  \\left( b^{(322)}_{2}, \\  4\\right)\\right]$"
      ],
      "text/plain": [
       "<IPython.core.display.Math object>"
      ]
     },
     "metadata": {},
     "output_type": "display_data"
    },
    {
     "data": {
      "text/latex": [
       "$\\displaystyle (\\lambda, m) = (4, 0)$"
      ],
      "text/plain": [
       "<IPython.core.display.Math object>"
      ]
     },
     "metadata": {},
     "output_type": "display_data"
    },
    {
     "data": {
      "text/latex": [
       "$\\displaystyle a^{(321)}_{1} a^{(321)}_{2} a^{(321)}_{3} \\left(a^{(321)}_{4} b^{(321)}_{4} + b^{(321)}_{1} + b^{(321)}_{2} + b^{(321)}_{3}\\right)$"
      ],
      "text/plain": [
       "<IPython.core.display.Math object>"
      ]
     },
     "metadata": {},
     "output_type": "display_data"
    },
    {
     "name": "stdout",
     "output_type": "stream",
     "text": [
      "\n",
      "---------------\n",
      "Current expression: \n"
     ]
    },
    {
     "data": {
      "text/latex": [
       "$\\displaystyle a^{(321)}_{1} a^{(321)}_{2} a^{(321)}_{3} \\left(a^{(321)}_{4} b^{(321)}_{4} + b^{(321)}_{1} + b^{(321)}_{2} + b^{(321)}_{3}\\right)$"
      ],
      "text/plain": [
       "<IPython.core.display.Math object>"
      ]
     },
     "metadata": {},
     "output_type": "display_data"
    },
    {
     "name": "stdout",
     "output_type": "stream",
     "text": [
      "Blowup coords    : [1, 3, 5, 7]\n"
     ]
    },
    {
     "data": {
      "text/latex": [
       "$\\displaystyle Blowup variables : \\left[ b^{(321)}_{1}, \\  b^{(321)}_{2}, \\  b^{(321)}_{3}, \\  b^{(321)}_{4}\\right]$"
      ],
      "text/plain": [
       "<IPython.core.display.Math object>"
      ]
     },
     "metadata": {},
     "output_type": "display_data"
    },
    {
     "data": {
      "text/latex": [
       "$\\displaystyle a^{(3214)}_{1} a^{(3214)}_{2} a^{(3214)}_{3} b^{(3214)}_{4} \\left(a^{(3214)}_{4} + b^{(3214)}_{1} + b^{(3214)}_{2} + b^{(3214)}_{3}\\right)$"
      ],
      "text/plain": [
       "<IPython.core.display.Math object>"
      ]
     },
     "metadata": {},
     "output_type": "display_data"
    },
    {
     "data": {
      "text/latex": [
       "$\\displaystyle a^{(3213)}_{1} a^{(3213)}_{2} a^{(3213)}_{3} b^{(3213)}_{3} \\left(a^{(3213)}_{4} b^{(3213)}_{4} + b^{(3213)}_{1} + b^{(3213)}_{2} + 1\\right)$"
      ],
      "text/plain": [
       "<IPython.core.display.Math object>"
      ]
     },
     "metadata": {},
     "output_type": "display_data"
    },
    {
     "data": {
      "text/latex": [
       "$\\displaystyle RLCTS = \\left[ \\left( a^{(3213)}_{1}, \\  4\\right), \\  \\left( a^{(3213)}_{2}, \\  4\\right), \\  \\left( a^{(3213)}_{3}, \\  4\\right), \\  \\left( b^{(3213)}_{3}, \\  4\\right)\\right]$"
      ],
      "text/plain": [
       "<IPython.core.display.Math object>"
      ]
     },
     "metadata": {},
     "output_type": "display_data"
    },
    {
     "data": {
      "text/latex": [
       "$\\displaystyle (\\lambda, m) = (4, 0)$"
      ],
      "text/plain": [
       "<IPython.core.display.Math object>"
      ]
     },
     "metadata": {},
     "output_type": "display_data"
    },
    {
     "data": {
      "text/latex": [
       "$\\displaystyle a^{(3212)}_{1} a^{(3212)}_{2} a^{(3212)}_{3} b^{(3212)}_{2} \\left(a^{(3212)}_{4} b^{(3212)}_{4} + b^{(3212)}_{1} + b^{(3212)}_{3} + 1\\right)$"
      ],
      "text/plain": [
       "<IPython.core.display.Math object>"
      ]
     },
     "metadata": {},
     "output_type": "display_data"
    },
    {
     "data": {
      "text/latex": [
       "$\\displaystyle RLCTS = \\left[ \\left( a^{(3212)}_{1}, \\  4\\right), \\  \\left( a^{(3212)}_{2}, \\  4\\right), \\  \\left( a^{(3212)}_{3}, \\  4\\right), \\  \\left( b^{(3212)}_{2}, \\  4\\right)\\right]$"
      ],
      "text/plain": [
       "<IPython.core.display.Math object>"
      ]
     },
     "metadata": {},
     "output_type": "display_data"
    },
    {
     "data": {
      "text/latex": [
       "$\\displaystyle (\\lambda, m) = (4, 0)$"
      ],
      "text/plain": [
       "<IPython.core.display.Math object>"
      ]
     },
     "metadata": {},
     "output_type": "display_data"
    },
    {
     "data": {
      "text/latex": [
       "$\\displaystyle a^{(3211)}_{1} a^{(3211)}_{2} a^{(3211)}_{3} b^{(3211)}_{1} \\left(a^{(3211)}_{4} b^{(3211)}_{4} + b^{(3211)}_{2} + b^{(3211)}_{3} + 1\\right)$"
      ],
      "text/plain": [
       "<IPython.core.display.Math object>"
      ]
     },
     "metadata": {},
     "output_type": "display_data"
    },
    {
     "data": {
      "text/latex": [
       "$\\displaystyle RLCTS = \\left[ \\left( a^{(3211)}_{1}, \\  4\\right), \\  \\left( a^{(3211)}_{2}, \\  4\\right), \\  \\left( a^{(3211)}_{3}, \\  4\\right), \\  \\left( b^{(3211)}_{1}, \\  4\\right)\\right]$"
      ],
      "text/plain": [
       "<IPython.core.display.Math object>"
      ]
     },
     "metadata": {},
     "output_type": "display_data"
    },
    {
     "data": {
      "text/latex": [
       "$\\displaystyle (\\lambda, m) = (4, 0)$"
      ],
      "text/plain": [
       "<IPython.core.display.Math object>"
      ]
     },
     "metadata": {},
     "output_type": "display_data"
    },
    {
     "name": "stdout",
     "output_type": "stream",
     "text": [
      "\n",
      "---------------\n",
      "Current expression: \n"
     ]
    },
    {
     "data": {
      "text/latex": [
       "$\\displaystyle a^{(3214)}_{1} a^{(3214)}_{2} a^{(3214)}_{3} b^{(3214)}_{4} \\left(a^{(3214)}_{4} + b^{(3214)}_{1} + b^{(3214)}_{2} + b^{(3214)}_{3}\\right)$"
      ],
      "text/plain": [
       "<IPython.core.display.Math object>"
      ]
     },
     "metadata": {},
     "output_type": "display_data"
    },
    {
     "name": "stdout",
     "output_type": "stream",
     "text": [
      "Blowup coords    : [6, 1, 3, 5]\n"
     ]
    },
    {
     "data": {
      "text/latex": [
       "$\\displaystyle Blowup variables : \\left[ a^{(3214)}_{4}, \\  b^{(3214)}_{1}, \\  b^{(3214)}_{2}, \\  b^{(3214)}_{3}\\right]$"
      ],
      "text/plain": [
       "<IPython.core.display.Math object>"
      ]
     },
     "metadata": {},
     "output_type": "display_data"
    },
    {
     "data": {
      "text/latex": [
       "$\\displaystyle a^{(32144)}_{1} a^{(32144)}_{2} a^{(32144)}_{3} a^{(32144)}_{4} b^{(32144)}_{4} \\left(b^{(32144)}_{1} + b^{(32144)}_{2} + b^{(32144)}_{3} + 1\\right)$"
      ],
      "text/plain": [
       "<IPython.core.display.Math object>"
      ]
     },
     "metadata": {},
     "output_type": "display_data"
    },
    {
     "data": {
      "text/latex": [
       "$\\displaystyle RLCTS = \\left[ \\left( a^{(32144)}_{1}, \\  4\\right), \\  \\left( a^{(32144)}_{2}, \\  4\\right), \\  \\left( a^{(32144)}_{3}, \\  4\\right), \\  \\left( a^{(32144)}_{4}, \\  4\\right), \\  \\left( b^{(32144)}_{4}, \\  4\\right)\\right]$"
      ],
      "text/plain": [
       "<IPython.core.display.Math object>"
      ]
     },
     "metadata": {},
     "output_type": "display_data"
    },
    {
     "data": {
      "text/latex": [
       "$\\displaystyle (\\lambda, m) = (4, 0)$"
      ],
      "text/plain": [
       "<IPython.core.display.Math object>"
      ]
     },
     "metadata": {},
     "output_type": "display_data"
    },
    {
     "data": {
      "text/latex": [
       "$\\displaystyle a^{(32143)}_{1} a^{(32143)}_{2} a^{(32143)}_{3} b^{(32143)}_{3} b^{(32143)}_{4} \\left(a^{(32143)}_{4} + b^{(32143)}_{1} + b^{(32143)}_{2} + 1\\right)$"
      ],
      "text/plain": [
       "<IPython.core.display.Math object>"
      ]
     },
     "metadata": {},
     "output_type": "display_data"
    },
    {
     "data": {
      "text/latex": [
       "$\\displaystyle RLCTS = \\left[ \\left( a^{(32143)}_{1}, \\  4\\right), \\  \\left( a^{(32143)}_{2}, \\  4\\right), \\  \\left( a^{(32143)}_{3}, \\  4\\right), \\  \\left( b^{(32143)}_{3}, \\  4\\right), \\  \\left( b^{(32143)}_{4}, \\  4\\right)\\right]$"
      ],
      "text/plain": [
       "<IPython.core.display.Math object>"
      ]
     },
     "metadata": {},
     "output_type": "display_data"
    },
    {
     "data": {
      "text/latex": [
       "$\\displaystyle (\\lambda, m) = (4, 0)$"
      ],
      "text/plain": [
       "<IPython.core.display.Math object>"
      ]
     },
     "metadata": {},
     "output_type": "display_data"
    },
    {
     "data": {
      "text/latex": [
       "$\\displaystyle a^{(32142)}_{1} a^{(32142)}_{2} a^{(32142)}_{3} b^{(32142)}_{2} b^{(32142)}_{4} \\left(a^{(32142)}_{4} + b^{(32142)}_{1} + b^{(32142)}_{3} + 1\\right)$"
      ],
      "text/plain": [
       "<IPython.core.display.Math object>"
      ]
     },
     "metadata": {},
     "output_type": "display_data"
    },
    {
     "data": {
      "text/latex": [
       "$\\displaystyle RLCTS = \\left[ \\left( a^{(32142)}_{1}, \\  4\\right), \\  \\left( a^{(32142)}_{2}, \\  4\\right), \\  \\left( a^{(32142)}_{3}, \\  4\\right), \\  \\left( b^{(32142)}_{2}, \\  4\\right), \\  \\left( b^{(32142)}_{4}, \\  4\\right)\\right]$"
      ],
      "text/plain": [
       "<IPython.core.display.Math object>"
      ]
     },
     "metadata": {},
     "output_type": "display_data"
    },
    {
     "data": {
      "text/latex": [
       "$\\displaystyle (\\lambda, m) = (4, 0)$"
      ],
      "text/plain": [
       "<IPython.core.display.Math object>"
      ]
     },
     "metadata": {},
     "output_type": "display_data"
    },
    {
     "data": {
      "text/latex": [
       "$\\displaystyle a^{(32141)}_{1} a^{(32141)}_{2} a^{(32141)}_{3} b^{(32141)}_{1} b^{(32141)}_{4} \\left(a^{(32141)}_{4} + b^{(32141)}_{2} + b^{(32141)}_{3} + 1\\right)$"
      ],
      "text/plain": [
       "<IPython.core.display.Math object>"
      ]
     },
     "metadata": {},
     "output_type": "display_data"
    },
    {
     "data": {
      "text/latex": [
       "$\\displaystyle RLCTS = \\left[ \\left( a^{(32141)}_{1}, \\  4\\right), \\  \\left( a^{(32141)}_{2}, \\  4\\right), \\  \\left( a^{(32141)}_{3}, \\  4\\right), \\  \\left( b^{(32141)}_{1}, \\  4\\right), \\  \\left( b^{(32141)}_{4}, \\  4\\right)\\right]$"
      ],
      "text/plain": [
       "<IPython.core.display.Math object>"
      ]
     },
     "metadata": {},
     "output_type": "display_data"
    },
    {
     "data": {
      "text/latex": [
       "$\\displaystyle (\\lambda, m) = (4, 0)$"
      ],
      "text/plain": [
       "<IPython.core.display.Math object>"
      ]
     },
     "metadata": {},
     "output_type": "display_data"
    },
    {
     "name": "stdout",
     "output_type": "stream",
     "text": [
      "\n",
      "---------------\n",
      "Current expression: \n"
     ]
    },
    {
     "data": {
      "text/latex": [
       "$\\displaystyle a^{(324)}_{2} a^{(324)}_{3} b^{(324)}_{4} \\left(a^{(324)}_{1} b^{(324)}_{1} + a^{(324)}_{4} + b^{(324)}_{2} + b^{(324)}_{3}\\right)$"
      ],
      "text/plain": [
       "<IPython.core.display.Math object>"
      ]
     },
     "metadata": {},
     "output_type": "display_data"
    },
    {
     "name": "stdout",
     "output_type": "stream",
     "text": [
      "Blowup coords    : [6, 3, 5, 0]\n"
     ]
    },
    {
     "data": {
      "text/latex": [
       "$\\displaystyle Blowup variables : \\left[ a^{(324)}_{4}, \\  b^{(324)}_{2}, \\  b^{(324)}_{3}, \\  a^{(324)}_{1}\\right]$"
      ],
      "text/plain": [
       "<IPython.core.display.Math object>"
      ]
     },
     "metadata": {},
     "output_type": "display_data"
    },
    {
     "data": {
      "text/latex": [
       "$\\displaystyle a^{(3244)}_{2} a^{(3244)}_{3} a^{(3244)}_{4} b^{(3244)}_{4} \\left(a^{(3244)}_{1} b^{(3244)}_{1} + b^{(3244)}_{2} + b^{(3244)}_{3} + 1\\right)$"
      ],
      "text/plain": [
       "<IPython.core.display.Math object>"
      ]
     },
     "metadata": {},
     "output_type": "display_data"
    },
    {
     "data": {
      "text/latex": [
       "$\\displaystyle RLCTS = \\left[ \\left( a^{(3244)}_{2}, \\  4\\right), \\  \\left( a^{(3244)}_{3}, \\  4\\right), \\  \\left( a^{(3244)}_{4}, \\  4\\right), \\  \\left( b^{(3244)}_{4}, \\  4\\right)\\right]$"
      ],
      "text/plain": [
       "<IPython.core.display.Math object>"
      ]
     },
     "metadata": {},
     "output_type": "display_data"
    },
    {
     "data": {
      "text/latex": [
       "$\\displaystyle (\\lambda, m) = (4, 0)$"
      ],
      "text/plain": [
       "<IPython.core.display.Math object>"
      ]
     },
     "metadata": {},
     "output_type": "display_data"
    },
    {
     "data": {
      "text/latex": [
       "$\\displaystyle a^{(3243)}_{2} a^{(3243)}_{3} b^{(3243)}_{3} b^{(3243)}_{4} \\left(a^{(3243)}_{1} b^{(3243)}_{1} + a^{(3243)}_{4} + b^{(3243)}_{2} + 1\\right)$"
      ],
      "text/plain": [
       "<IPython.core.display.Math object>"
      ]
     },
     "metadata": {},
     "output_type": "display_data"
    },
    {
     "data": {
      "text/latex": [
       "$\\displaystyle RLCTS = \\left[ \\left( a^{(3243)}_{2}, \\  4\\right), \\  \\left( a^{(3243)}_{3}, \\  4\\right), \\  \\left( b^{(3243)}_{3}, \\  4\\right), \\  \\left( b^{(3243)}_{4}, \\  4\\right)\\right]$"
      ],
      "text/plain": [
       "<IPython.core.display.Math object>"
      ]
     },
     "metadata": {},
     "output_type": "display_data"
    },
    {
     "data": {
      "text/latex": [
       "$\\displaystyle (\\lambda, m) = (4, 0)$"
      ],
      "text/plain": [
       "<IPython.core.display.Math object>"
      ]
     },
     "metadata": {},
     "output_type": "display_data"
    },
    {
     "data": {
      "text/latex": [
       "$\\displaystyle a^{(3242)}_{2} a^{(3242)}_{3} b^{(3242)}_{2} b^{(3242)}_{4} \\left(a^{(3242)}_{1} b^{(3242)}_{1} + a^{(3242)}_{4} + b^{(3242)}_{3} + 1\\right)$"
      ],
      "text/plain": [
       "<IPython.core.display.Math object>"
      ]
     },
     "metadata": {},
     "output_type": "display_data"
    },
    {
     "data": {
      "text/latex": [
       "$\\displaystyle RLCTS = \\left[ \\left( a^{(3242)}_{2}, \\  4\\right), \\  \\left( a^{(3242)}_{3}, \\  4\\right), \\  \\left( b^{(3242)}_{2}, \\  4\\right), \\  \\left( b^{(3242)}_{4}, \\  4\\right)\\right]$"
      ],
      "text/plain": [
       "<IPython.core.display.Math object>"
      ]
     },
     "metadata": {},
     "output_type": "display_data"
    },
    {
     "data": {
      "text/latex": [
       "$\\displaystyle (\\lambda, m) = (4, 0)$"
      ],
      "text/plain": [
       "<IPython.core.display.Math object>"
      ]
     },
     "metadata": {},
     "output_type": "display_data"
    },
    {
     "data": {
      "text/latex": [
       "$\\displaystyle a^{(3241)}_{1} a^{(3241)}_{2} a^{(3241)}_{3} b^{(3241)}_{4} \\left(a^{(3241)}_{4} + b^{(3241)}_{1} + b^{(3241)}_{2} + b^{(3241)}_{3}\\right)$"
      ],
      "text/plain": [
       "<IPython.core.display.Math object>"
      ]
     },
     "metadata": {},
     "output_type": "display_data"
    },
    {
     "name": "stdout",
     "output_type": "stream",
     "text": [
      "\n",
      "---------------\n",
      "Current expression: \n"
     ]
    },
    {
     "data": {
      "text/latex": [
       "$\\displaystyle a^{(3241)}_{1} a^{(3241)}_{2} a^{(3241)}_{3} b^{(3241)}_{4} \\left(a^{(3241)}_{4} + b^{(3241)}_{1} + b^{(3241)}_{2} + b^{(3241)}_{3}\\right)$"
      ],
      "text/plain": [
       "<IPython.core.display.Math object>"
      ]
     },
     "metadata": {},
     "output_type": "display_data"
    },
    {
     "name": "stdout",
     "output_type": "stream",
     "text": [
      "Blowup coords    : [6, 1, 3, 5]\n"
     ]
    },
    {
     "data": {
      "text/latex": [
       "$\\displaystyle Blowup variables : \\left[ a^{(3241)}_{4}, \\  b^{(3241)}_{1}, \\  b^{(3241)}_{2}, \\  b^{(3241)}_{3}\\right]$"
      ],
      "text/plain": [
       "<IPython.core.display.Math object>"
      ]
     },
     "metadata": {},
     "output_type": "display_data"
    },
    {
     "data": {
      "text/latex": [
       "$\\displaystyle a^{(32414)}_{1} a^{(32414)}_{2} a^{(32414)}_{3} a^{(32414)}_{4} b^{(32414)}_{4} \\left(b^{(32414)}_{1} + b^{(32414)}_{2} + b^{(32414)}_{3} + 1\\right)$"
      ],
      "text/plain": [
       "<IPython.core.display.Math object>"
      ]
     },
     "metadata": {},
     "output_type": "display_data"
    },
    {
     "data": {
      "text/latex": [
       "$\\displaystyle RLCTS = \\left[ \\left( a^{(32414)}_{1}, \\  4\\right), \\  \\left( a^{(32414)}_{2}, \\  4\\right), \\  \\left( a^{(32414)}_{3}, \\  4\\right), \\  \\left( a^{(32414)}_{4}, \\  4\\right), \\  \\left( b^{(32414)}_{4}, \\  4\\right)\\right]$"
      ],
      "text/plain": [
       "<IPython.core.display.Math object>"
      ]
     },
     "metadata": {},
     "output_type": "display_data"
    },
    {
     "data": {
      "text/latex": [
       "$\\displaystyle (\\lambda, m) = (4, 0)$"
      ],
      "text/plain": [
       "<IPython.core.display.Math object>"
      ]
     },
     "metadata": {},
     "output_type": "display_data"
    },
    {
     "data": {
      "text/latex": [
       "$\\displaystyle a^{(32413)}_{1} a^{(32413)}_{2} a^{(32413)}_{3} b^{(32413)}_{3} b^{(32413)}_{4} \\left(a^{(32413)}_{4} + b^{(32413)}_{1} + b^{(32413)}_{2} + 1\\right)$"
      ],
      "text/plain": [
       "<IPython.core.display.Math object>"
      ]
     },
     "metadata": {},
     "output_type": "display_data"
    },
    {
     "data": {
      "text/latex": [
       "$\\displaystyle RLCTS = \\left[ \\left( a^{(32413)}_{1}, \\  4\\right), \\  \\left( a^{(32413)}_{2}, \\  4\\right), \\  \\left( a^{(32413)}_{3}, \\  4\\right), \\  \\left( b^{(32413)}_{3}, \\  4\\right), \\  \\left( b^{(32413)}_{4}, \\  4\\right)\\right]$"
      ],
      "text/plain": [
       "<IPython.core.display.Math object>"
      ]
     },
     "metadata": {},
     "output_type": "display_data"
    },
    {
     "data": {
      "text/latex": [
       "$\\displaystyle (\\lambda, m) = (4, 0)$"
      ],
      "text/plain": [
       "<IPython.core.display.Math object>"
      ]
     },
     "metadata": {},
     "output_type": "display_data"
    },
    {
     "data": {
      "text/latex": [
       "$\\displaystyle a^{(32412)}_{1} a^{(32412)}_{2} a^{(32412)}_{3} b^{(32412)}_{2} b^{(32412)}_{4} \\left(a^{(32412)}_{4} + b^{(32412)}_{1} + b^{(32412)}_{3} + 1\\right)$"
      ],
      "text/plain": [
       "<IPython.core.display.Math object>"
      ]
     },
     "metadata": {},
     "output_type": "display_data"
    },
    {
     "data": {
      "text/latex": [
       "$\\displaystyle RLCTS = \\left[ \\left( a^{(32412)}_{1}, \\  4\\right), \\  \\left( a^{(32412)}_{2}, \\  4\\right), \\  \\left( a^{(32412)}_{3}, \\  4\\right), \\  \\left( b^{(32412)}_{2}, \\  4\\right), \\  \\left( b^{(32412)}_{4}, \\  4\\right)\\right]$"
      ],
      "text/plain": [
       "<IPython.core.display.Math object>"
      ]
     },
     "metadata": {},
     "output_type": "display_data"
    },
    {
     "data": {
      "text/latex": [
       "$\\displaystyle (\\lambda, m) = (4, 0)$"
      ],
      "text/plain": [
       "<IPython.core.display.Math object>"
      ]
     },
     "metadata": {},
     "output_type": "display_data"
    },
    {
     "data": {
      "text/latex": [
       "$\\displaystyle a^{(32411)}_{1} a^{(32411)}_{2} a^{(32411)}_{3} b^{(32411)}_{1} b^{(32411)}_{4} \\left(a^{(32411)}_{4} + b^{(32411)}_{2} + b^{(32411)}_{3} + 1\\right)$"
      ],
      "text/plain": [
       "<IPython.core.display.Math object>"
      ]
     },
     "metadata": {},
     "output_type": "display_data"
    },
    {
     "data": {
      "text/latex": [
       "$\\displaystyle RLCTS = \\left[ \\left( a^{(32411)}_{1}, \\  4\\right), \\  \\left( a^{(32411)}_{2}, \\  4\\right), \\  \\left( a^{(32411)}_{3}, \\  4\\right), \\  \\left( b^{(32411)}_{1}, \\  4\\right), \\  \\left( b^{(32411)}_{4}, \\  4\\right)\\right]$"
      ],
      "text/plain": [
       "<IPython.core.display.Math object>"
      ]
     },
     "metadata": {},
     "output_type": "display_data"
    },
    {
     "data": {
      "text/latex": [
       "$\\displaystyle (\\lambda, m) = (4, 0)$"
      ],
      "text/plain": [
       "<IPython.core.display.Math object>"
      ]
     },
     "metadata": {},
     "output_type": "display_data"
    },
    {
     "name": "stdout",
     "output_type": "stream",
     "text": [
      "\n",
      "---------------\n",
      "Current expression: \n"
     ]
    },
    {
     "data": {
      "text/latex": [
       "$\\displaystyle a^{(34)}_{3} b^{(34)}_{4} \\left(a^{(34)}_{1} b^{(34)}_{1} + a^{(34)}_{2} b^{(34)}_{2} + a^{(34)}_{4} + b^{(34)}_{3}\\right)$"
      ],
      "text/plain": [
       "<IPython.core.display.Math object>"
      ]
     },
     "metadata": {},
     "output_type": "display_data"
    },
    {
     "name": "stdout",
     "output_type": "stream",
     "text": [
      "Blowup coords    : [6, 5, 1, 3]\n"
     ]
    },
    {
     "data": {
      "text/latex": [
       "$\\displaystyle Blowup variables : \\left[ a^{(34)}_{4}, \\  b^{(34)}_{3}, \\  b^{(34)}_{1}, \\  b^{(34)}_{2}\\right]$"
      ],
      "text/plain": [
       "<IPython.core.display.Math object>"
      ]
     },
     "metadata": {},
     "output_type": "display_data"
    },
    {
     "data": {
      "text/latex": [
       "$\\displaystyle a^{(344)}_{3} a^{(344)}_{4} b^{(344)}_{4} \\left(a^{(344)}_{1} b^{(344)}_{1} + a^{(344)}_{2} b^{(344)}_{2} + b^{(344)}_{3} + 1\\right)$"
      ],
      "text/plain": [
       "<IPython.core.display.Math object>"
      ]
     },
     "metadata": {},
     "output_type": "display_data"
    },
    {
     "data": {
      "text/latex": [
       "$\\displaystyle RLCTS = \\left[ \\left( a^{(344)}_{3}, \\  4\\right), \\  \\left( a^{(344)}_{4}, \\  4\\right), \\  \\left( b^{(344)}_{4}, \\  4\\right)\\right]$"
      ],
      "text/plain": [
       "<IPython.core.display.Math object>"
      ]
     },
     "metadata": {},
     "output_type": "display_data"
    },
    {
     "data": {
      "text/latex": [
       "$\\displaystyle (\\lambda, m) = (4, 0)$"
      ],
      "text/plain": [
       "<IPython.core.display.Math object>"
      ]
     },
     "metadata": {},
     "output_type": "display_data"
    },
    {
     "data": {
      "text/latex": [
       "$\\displaystyle a^{(343)}_{3} b^{(343)}_{3} b^{(343)}_{4} \\left(a^{(343)}_{1} b^{(343)}_{1} + a^{(343)}_{2} b^{(343)}_{2} + a^{(343)}_{4} + 1\\right)$"
      ],
      "text/plain": [
       "<IPython.core.display.Math object>"
      ]
     },
     "metadata": {},
     "output_type": "display_data"
    },
    {
     "data": {
      "text/latex": [
       "$\\displaystyle RLCTS = \\left[ \\left( a^{(343)}_{3}, \\  4\\right), \\  \\left( b^{(343)}_{3}, \\  4\\right), \\  \\left( b^{(343)}_{4}, \\  4\\right)\\right]$"
      ],
      "text/plain": [
       "<IPython.core.display.Math object>"
      ]
     },
     "metadata": {},
     "output_type": "display_data"
    },
    {
     "data": {
      "text/latex": [
       "$\\displaystyle (\\lambda, m) = (4, 0)$"
      ],
      "text/plain": [
       "<IPython.core.display.Math object>"
      ]
     },
     "metadata": {},
     "output_type": "display_data"
    },
    {
     "data": {
      "text/latex": [
       "$\\displaystyle a^{(342)}_{3} b^{(342)}_{2} b^{(342)}_{4} \\left(a^{(342)}_{1} b^{(342)}_{1} + a^{(342)}_{2} + a^{(342)}_{4} + b^{(342)}_{3}\\right)$"
      ],
      "text/plain": [
       "<IPython.core.display.Math object>"
      ]
     },
     "metadata": {},
     "output_type": "display_data"
    },
    {
     "data": {
      "text/latex": [
       "$\\displaystyle a^{(341)}_{3} b^{(341)}_{1} b^{(341)}_{4} \\left(a^{(341)}_{1} + a^{(341)}_{2} b^{(341)}_{2} + a^{(341)}_{4} + b^{(341)}_{3}\\right)$"
      ],
      "text/plain": [
       "<IPython.core.display.Math object>"
      ]
     },
     "metadata": {},
     "output_type": "display_data"
    },
    {
     "name": "stdout",
     "output_type": "stream",
     "text": [
      "\n",
      "---------------\n",
      "Current expression: \n"
     ]
    },
    {
     "data": {
      "text/latex": [
       "$\\displaystyle a^{(341)}_{3} b^{(341)}_{1} b^{(341)}_{4} \\left(a^{(341)}_{1} + a^{(341)}_{2} b^{(341)}_{2} + a^{(341)}_{4} + b^{(341)}_{3}\\right)$"
      ],
      "text/plain": [
       "<IPython.core.display.Math object>"
      ]
     },
     "metadata": {},
     "output_type": "display_data"
    },
    {
     "name": "stdout",
     "output_type": "stream",
     "text": [
      "Blowup coords    : [0, 6, 5, 2]\n"
     ]
    },
    {
     "data": {
      "text/latex": [
       "$\\displaystyle Blowup variables : \\left[ a^{(341)}_{1}, \\  a^{(341)}_{4}, \\  b^{(341)}_{3}, \\  a^{(341)}_{2}\\right]$"
      ],
      "text/plain": [
       "<IPython.core.display.Math object>"
      ]
     },
     "metadata": {},
     "output_type": "display_data"
    },
    {
     "data": {
      "text/latex": [
       "$\\displaystyle a^{(3414)}_{3} a^{(3414)}_{4} b^{(3414)}_{1} b^{(3414)}_{4} \\left(a^{(3414)}_{1} + a^{(3414)}_{2} b^{(3414)}_{2} + b^{(3414)}_{3} + 1\\right)$"
      ],
      "text/plain": [
       "<IPython.core.display.Math object>"
      ]
     },
     "metadata": {},
     "output_type": "display_data"
    },
    {
     "data": {
      "text/latex": [
       "$\\displaystyle RLCTS = \\left[ \\left( a^{(3414)}_{3}, \\  4\\right), \\  \\left( a^{(3414)}_{4}, \\  4\\right), \\  \\left( b^{(3414)}_{1}, \\  4\\right), \\  \\left( b^{(3414)}_{4}, \\  4\\right)\\right]$"
      ],
      "text/plain": [
       "<IPython.core.display.Math object>"
      ]
     },
     "metadata": {},
     "output_type": "display_data"
    },
    {
     "data": {
      "text/latex": [
       "$\\displaystyle (\\lambda, m) = (4, 0)$"
      ],
      "text/plain": [
       "<IPython.core.display.Math object>"
      ]
     },
     "metadata": {},
     "output_type": "display_data"
    },
    {
     "data": {
      "text/latex": [
       "$\\displaystyle a^{(3413)}_{3} b^{(3413)}_{1} b^{(3413)}_{3} b^{(3413)}_{4} \\left(a^{(3413)}_{1} + a^{(3413)}_{2} b^{(3413)}_{2} + a^{(3413)}_{4} + 1\\right)$"
      ],
      "text/plain": [
       "<IPython.core.display.Math object>"
      ]
     },
     "metadata": {},
     "output_type": "display_data"
    },
    {
     "data": {
      "text/latex": [
       "$\\displaystyle RLCTS = \\left[ \\left( a^{(3413)}_{3}, \\  4\\right), \\  \\left( b^{(3413)}_{1}, \\  4\\right), \\  \\left( b^{(3413)}_{3}, \\  4\\right), \\  \\left( b^{(3413)}_{4}, \\  4\\right)\\right]$"
      ],
      "text/plain": [
       "<IPython.core.display.Math object>"
      ]
     },
     "metadata": {},
     "output_type": "display_data"
    },
    {
     "data": {
      "text/latex": [
       "$\\displaystyle (\\lambda, m) = (4, 0)$"
      ],
      "text/plain": [
       "<IPython.core.display.Math object>"
      ]
     },
     "metadata": {},
     "output_type": "display_data"
    },
    {
     "data": {
      "text/latex": [
       "$\\displaystyle a^{(3412)}_{2} a^{(3412)}_{3} b^{(3412)}_{1} b^{(3412)}_{4} \\left(a^{(3412)}_{1} + a^{(3412)}_{4} + b^{(3412)}_{2} + b^{(3412)}_{3}\\right)$"
      ],
      "text/plain": [
       "<IPython.core.display.Math object>"
      ]
     },
     "metadata": {},
     "output_type": "display_data"
    },
    {
     "data": {
      "text/latex": [
       "$\\displaystyle a^{(3411)}_{1} a^{(3411)}_{3} b^{(3411)}_{1} b^{(3411)}_{4} \\left(a^{(3411)}_{2} b^{(3411)}_{2} + a^{(3411)}_{4} + b^{(3411)}_{3} + 1\\right)$"
      ],
      "text/plain": [
       "<IPython.core.display.Math object>"
      ]
     },
     "metadata": {},
     "output_type": "display_data"
    },
    {
     "data": {
      "text/latex": [
       "$\\displaystyle RLCTS = \\left[ \\left( a^{(3411)}_{1}, \\  4\\right), \\  \\left( a^{(3411)}_{3}, \\  4\\right), \\  \\left( b^{(3411)}_{1}, \\  4\\right), \\  \\left( b^{(3411)}_{4}, \\  4\\right)\\right]$"
      ],
      "text/plain": [
       "<IPython.core.display.Math object>"
      ]
     },
     "metadata": {},
     "output_type": "display_data"
    },
    {
     "data": {
      "text/latex": [
       "$\\displaystyle (\\lambda, m) = (4, 0)$"
      ],
      "text/plain": [
       "<IPython.core.display.Math object>"
      ]
     },
     "metadata": {},
     "output_type": "display_data"
    },
    {
     "name": "stdout",
     "output_type": "stream",
     "text": [
      "\n",
      "---------------\n",
      "Current expression: \n"
     ]
    },
    {
     "data": {
      "text/latex": [
       "$\\displaystyle a^{(3412)}_{2} a^{(3412)}_{3} b^{(3412)}_{1} b^{(3412)}_{4} \\left(a^{(3412)}_{1} + a^{(3412)}_{4} + b^{(3412)}_{2} + b^{(3412)}_{3}\\right)$"
      ],
      "text/plain": [
       "<IPython.core.display.Math object>"
      ]
     },
     "metadata": {},
     "output_type": "display_data"
    },
    {
     "name": "stdout",
     "output_type": "stream",
     "text": [
      "Blowup coords    : [0, 6, 3, 5]\n"
     ]
    },
    {
     "data": {
      "text/latex": [
       "$\\displaystyle Blowup variables : \\left[ a^{(3412)}_{1}, \\  a^{(3412)}_{4}, \\  b^{(3412)}_{2}, \\  b^{(3412)}_{3}\\right]$"
      ],
      "text/plain": [
       "<IPython.core.display.Math object>"
      ]
     },
     "metadata": {},
     "output_type": "display_data"
    },
    {
     "data": {
      "text/latex": [
       "$\\displaystyle a^{(34124)}_{2} a^{(34124)}_{3} a^{(34124)}_{4} b^{(34124)}_{1} b^{(34124)}_{4} \\left(a^{(34124)}_{1} + b^{(34124)}_{2} + b^{(34124)}_{3} + 1\\right)$"
      ],
      "text/plain": [
       "<IPython.core.display.Math object>"
      ]
     },
     "metadata": {},
     "output_type": "display_data"
    },
    {
     "data": {
      "text/latex": [
       "$\\displaystyle RLCTS = \\left[ \\left( a^{(34124)}_{2}, \\  4\\right), \\  \\left( a^{(34124)}_{3}, \\  4\\right), \\  \\left( a^{(34124)}_{4}, \\  4\\right), \\  \\left( b^{(34124)}_{1}, \\  4\\right), \\  \\left( b^{(34124)}_{4}, \\  4\\right)\\right]$"
      ],
      "text/plain": [
       "<IPython.core.display.Math object>"
      ]
     },
     "metadata": {},
     "output_type": "display_data"
    },
    {
     "data": {
      "text/latex": [
       "$\\displaystyle (\\lambda, m) = (4, 0)$"
      ],
      "text/plain": [
       "<IPython.core.display.Math object>"
      ]
     },
     "metadata": {},
     "output_type": "display_data"
    },
    {
     "data": {
      "text/latex": [
       "$\\displaystyle a^{(34123)}_{2} a^{(34123)}_{3} b^{(34123)}_{1} b^{(34123)}_{3} b^{(34123)}_{4} \\left(a^{(34123)}_{1} + a^{(34123)}_{4} + b^{(34123)}_{2} + 1\\right)$"
      ],
      "text/plain": [
       "<IPython.core.display.Math object>"
      ]
     },
     "metadata": {},
     "output_type": "display_data"
    },
    {
     "data": {
      "text/latex": [
       "$\\displaystyle RLCTS = \\left[ \\left( a^{(34123)}_{2}, \\  4\\right), \\  \\left( a^{(34123)}_{3}, \\  4\\right), \\  \\left( b^{(34123)}_{1}, \\  4\\right), \\  \\left( b^{(34123)}_{3}, \\  4\\right), \\  \\left( b^{(34123)}_{4}, \\  4\\right)\\right]$"
      ],
      "text/plain": [
       "<IPython.core.display.Math object>"
      ]
     },
     "metadata": {},
     "output_type": "display_data"
    },
    {
     "data": {
      "text/latex": [
       "$\\displaystyle (\\lambda, m) = (4, 0)$"
      ],
      "text/plain": [
       "<IPython.core.display.Math object>"
      ]
     },
     "metadata": {},
     "output_type": "display_data"
    },
    {
     "data": {
      "text/latex": [
       "$\\displaystyle a^{(34122)}_{2} a^{(34122)}_{3} b^{(34122)}_{1} b^{(34122)}_{2} b^{(34122)}_{4} \\left(a^{(34122)}_{1} + a^{(34122)}_{4} + b^{(34122)}_{3} + 1\\right)$"
      ],
      "text/plain": [
       "<IPython.core.display.Math object>"
      ]
     },
     "metadata": {},
     "output_type": "display_data"
    },
    {
     "data": {
      "text/latex": [
       "$\\displaystyle RLCTS = \\left[ \\left( a^{(34122)}_{2}, \\  4\\right), \\  \\left( a^{(34122)}_{3}, \\  4\\right), \\  \\left( b^{(34122)}_{1}, \\  4\\right), \\  \\left( b^{(34122)}_{2}, \\  4\\right), \\  \\left( b^{(34122)}_{4}, \\  4\\right)\\right]$"
      ],
      "text/plain": [
       "<IPython.core.display.Math object>"
      ]
     },
     "metadata": {},
     "output_type": "display_data"
    },
    {
     "data": {
      "text/latex": [
       "$\\displaystyle (\\lambda, m) = (4, 0)$"
      ],
      "text/plain": [
       "<IPython.core.display.Math object>"
      ]
     },
     "metadata": {},
     "output_type": "display_data"
    },
    {
     "data": {
      "text/latex": [
       "$\\displaystyle a^{(34121)}_{1} a^{(34121)}_{2} a^{(34121)}_{3} b^{(34121)}_{1} b^{(34121)}_{4} \\left(a^{(34121)}_{4} + b^{(34121)}_{2} + b^{(34121)}_{3} + 1\\right)$"
      ],
      "text/plain": [
       "<IPython.core.display.Math object>"
      ]
     },
     "metadata": {},
     "output_type": "display_data"
    },
    {
     "data": {
      "text/latex": [
       "$\\displaystyle RLCTS = \\left[ \\left( a^{(34121)}_{1}, \\  4\\right), \\  \\left( a^{(34121)}_{2}, \\  4\\right), \\  \\left( a^{(34121)}_{3}, \\  4\\right), \\  \\left( b^{(34121)}_{1}, \\  4\\right), \\  \\left( b^{(34121)}_{4}, \\  4\\right)\\right]$"
      ],
      "text/plain": [
       "<IPython.core.display.Math object>"
      ]
     },
     "metadata": {},
     "output_type": "display_data"
    },
    {
     "data": {
      "text/latex": [
       "$\\displaystyle (\\lambda, m) = (4, 0)$"
      ],
      "text/plain": [
       "<IPython.core.display.Math object>"
      ]
     },
     "metadata": {},
     "output_type": "display_data"
    },
    {
     "name": "stdout",
     "output_type": "stream",
     "text": [
      "\n",
      "---------------\n",
      "Current expression: \n"
     ]
    },
    {
     "data": {
      "text/latex": [
       "$\\displaystyle a^{(342)}_{3} b^{(342)}_{2} b^{(342)}_{4} \\left(a^{(342)}_{1} b^{(342)}_{1} + a^{(342)}_{2} + a^{(342)}_{4} + b^{(342)}_{3}\\right)$"
      ],
      "text/plain": [
       "<IPython.core.display.Math object>"
      ]
     },
     "metadata": {},
     "output_type": "display_data"
    },
    {
     "name": "stdout",
     "output_type": "stream",
     "text": [
      "Blowup coords    : [2, 6, 5, 1]\n"
     ]
    },
    {
     "data": {
      "text/latex": [
       "$\\displaystyle Blowup variables : \\left[ a^{(342)}_{2}, \\  a^{(342)}_{4}, \\  b^{(342)}_{3}, \\  b^{(342)}_{1}\\right]$"
      ],
      "text/plain": [
       "<IPython.core.display.Math object>"
      ]
     },
     "metadata": {},
     "output_type": "display_data"
    },
    {
     "data": {
      "text/latex": [
       "$\\displaystyle a^{(3424)}_{3} a^{(3424)}_{4} b^{(3424)}_{2} b^{(3424)}_{4} \\left(a^{(3424)}_{1} b^{(3424)}_{1} + a^{(3424)}_{2} + b^{(3424)}_{3} + 1\\right)$"
      ],
      "text/plain": [
       "<IPython.core.display.Math object>"
      ]
     },
     "metadata": {},
     "output_type": "display_data"
    },
    {
     "data": {
      "text/latex": [
       "$\\displaystyle RLCTS = \\left[ \\left( a^{(3424)}_{3}, \\  4\\right), \\  \\left( a^{(3424)}_{4}, \\  4\\right), \\  \\left( b^{(3424)}_{2}, \\  4\\right), \\  \\left( b^{(3424)}_{4}, \\  4\\right)\\right]$"
      ],
      "text/plain": [
       "<IPython.core.display.Math object>"
      ]
     },
     "metadata": {},
     "output_type": "display_data"
    },
    {
     "data": {
      "text/latex": [
       "$\\displaystyle (\\lambda, m) = (4, 0)$"
      ],
      "text/plain": [
       "<IPython.core.display.Math object>"
      ]
     },
     "metadata": {},
     "output_type": "display_data"
    },
    {
     "data": {
      "text/latex": [
       "$\\displaystyle a^{(3423)}_{3} b^{(3423)}_{2} b^{(3423)}_{3} b^{(3423)}_{4} \\left(a^{(3423)}_{1} b^{(3423)}_{1} + a^{(3423)}_{2} + a^{(3423)}_{4} + 1\\right)$"
      ],
      "text/plain": [
       "<IPython.core.display.Math object>"
      ]
     },
     "metadata": {},
     "output_type": "display_data"
    },
    {
     "data": {
      "text/latex": [
       "$\\displaystyle RLCTS = \\left[ \\left( a^{(3423)}_{3}, \\  4\\right), \\  \\left( b^{(3423)}_{2}, \\  4\\right), \\  \\left( b^{(3423)}_{3}, \\  4\\right), \\  \\left( b^{(3423)}_{4}, \\  4\\right)\\right]$"
      ],
      "text/plain": [
       "<IPython.core.display.Math object>"
      ]
     },
     "metadata": {},
     "output_type": "display_data"
    },
    {
     "data": {
      "text/latex": [
       "$\\displaystyle (\\lambda, m) = (4, 0)$"
      ],
      "text/plain": [
       "<IPython.core.display.Math object>"
      ]
     },
     "metadata": {},
     "output_type": "display_data"
    },
    {
     "data": {
      "text/latex": [
       "$\\displaystyle a^{(3422)}_{2} a^{(3422)}_{3} b^{(3422)}_{2} b^{(3422)}_{4} \\left(a^{(3422)}_{1} b^{(3422)}_{1} + a^{(3422)}_{4} + b^{(3422)}_{3} + 1\\right)$"
      ],
      "text/plain": [
       "<IPython.core.display.Math object>"
      ]
     },
     "metadata": {},
     "output_type": "display_data"
    },
    {
     "data": {
      "text/latex": [
       "$\\displaystyle RLCTS = \\left[ \\left( a^{(3422)}_{2}, \\  4\\right), \\  \\left( a^{(3422)}_{3}, \\  4\\right), \\  \\left( b^{(3422)}_{2}, \\  4\\right), \\  \\left( b^{(3422)}_{4}, \\  4\\right)\\right]$"
      ],
      "text/plain": [
       "<IPython.core.display.Math object>"
      ]
     },
     "metadata": {},
     "output_type": "display_data"
    },
    {
     "data": {
      "text/latex": [
       "$\\displaystyle (\\lambda, m) = (4, 0)$"
      ],
      "text/plain": [
       "<IPython.core.display.Math object>"
      ]
     },
     "metadata": {},
     "output_type": "display_data"
    },
    {
     "data": {
      "text/latex": [
       "$\\displaystyle a^{(3421)}_{3} b^{(3421)}_{1} b^{(3421)}_{2} b^{(3421)}_{4} \\left(a^{(3421)}_{1} + a^{(3421)}_{2} + a^{(3421)}_{4} + b^{(3421)}_{3}\\right)$"
      ],
      "text/plain": [
       "<IPython.core.display.Math object>"
      ]
     },
     "metadata": {},
     "output_type": "display_data"
    },
    {
     "name": "stdout",
     "output_type": "stream",
     "text": [
      "\n",
      "---------------\n",
      "Current expression: \n"
     ]
    },
    {
     "data": {
      "text/latex": [
       "$\\displaystyle a^{(3421)}_{3} b^{(3421)}_{1} b^{(3421)}_{2} b^{(3421)}_{4} \\left(a^{(3421)}_{1} + a^{(3421)}_{2} + a^{(3421)}_{4} + b^{(3421)}_{3}\\right)$"
      ],
      "text/plain": [
       "<IPython.core.display.Math object>"
      ]
     },
     "metadata": {},
     "output_type": "display_data"
    },
    {
     "name": "stdout",
     "output_type": "stream",
     "text": [
      "Blowup coords    : [0, 2, 6, 5]\n"
     ]
    },
    {
     "data": {
      "text/latex": [
       "$\\displaystyle Blowup variables : \\left[ a^{(3421)}_{1}, \\  a^{(3421)}_{2}, \\  a^{(3421)}_{4}, \\  b^{(3421)}_{3}\\right]$"
      ],
      "text/plain": [
       "<IPython.core.display.Math object>"
      ]
     },
     "metadata": {},
     "output_type": "display_data"
    },
    {
     "data": {
      "text/latex": [
       "$\\displaystyle a^{(34214)}_{3} a^{(34214)}_{4} b^{(34214)}_{1} b^{(34214)}_{2} b^{(34214)}_{4} \\left(a^{(34214)}_{1} + a^{(34214)}_{2} + b^{(34214)}_{3} + 1\\right)$"
      ],
      "text/plain": [
       "<IPython.core.display.Math object>"
      ]
     },
     "metadata": {},
     "output_type": "display_data"
    },
    {
     "data": {
      "text/latex": [
       "$\\displaystyle RLCTS = \\left[ \\left( a^{(34214)}_{3}, \\  4\\right), \\  \\left( a^{(34214)}_{4}, \\  4\\right), \\  \\left( b^{(34214)}_{1}, \\  4\\right), \\  \\left( b^{(34214)}_{2}, \\  4\\right), \\  \\left( b^{(34214)}_{4}, \\  4\\right)\\right]$"
      ],
      "text/plain": [
       "<IPython.core.display.Math object>"
      ]
     },
     "metadata": {},
     "output_type": "display_data"
    },
    {
     "data": {
      "text/latex": [
       "$\\displaystyle (\\lambda, m) = (4, 0)$"
      ],
      "text/plain": [
       "<IPython.core.display.Math object>"
      ]
     },
     "metadata": {},
     "output_type": "display_data"
    },
    {
     "data": {
      "text/latex": [
       "$\\displaystyle a^{(34213)}_{3} b^{(34213)}_{1} b^{(34213)}_{2} b^{(34213)}_{3} b^{(34213)}_{4} \\left(a^{(34213)}_{1} + a^{(34213)}_{2} + a^{(34213)}_{4} + 1\\right)$"
      ],
      "text/plain": [
       "<IPython.core.display.Math object>"
      ]
     },
     "metadata": {},
     "output_type": "display_data"
    },
    {
     "data": {
      "text/latex": [
       "$\\displaystyle RLCTS = \\left[ \\left( a^{(34213)}_{3}, \\  4\\right), \\  \\left( b^{(34213)}_{1}, \\  4\\right), \\  \\left( b^{(34213)}_{2}, \\  4\\right), \\  \\left( b^{(34213)}_{3}, \\  4\\right), \\  \\left( b^{(34213)}_{4}, \\  4\\right)\\right]$"
      ],
      "text/plain": [
       "<IPython.core.display.Math object>"
      ]
     },
     "metadata": {},
     "output_type": "display_data"
    },
    {
     "data": {
      "text/latex": [
       "$\\displaystyle (\\lambda, m) = (4, 0)$"
      ],
      "text/plain": [
       "<IPython.core.display.Math object>"
      ]
     },
     "metadata": {},
     "output_type": "display_data"
    },
    {
     "data": {
      "text/latex": [
       "$\\displaystyle a^{(34212)}_{2} a^{(34212)}_{3} b^{(34212)}_{1} b^{(34212)}_{2} b^{(34212)}_{4} \\left(a^{(34212)}_{1} + a^{(34212)}_{4} + b^{(34212)}_{3} + 1\\right)$"
      ],
      "text/plain": [
       "<IPython.core.display.Math object>"
      ]
     },
     "metadata": {},
     "output_type": "display_data"
    },
    {
     "data": {
      "text/latex": [
       "$\\displaystyle RLCTS = \\left[ \\left( a^{(34212)}_{2}, \\  4\\right), \\  \\left( a^{(34212)}_{3}, \\  4\\right), \\  \\left( b^{(34212)}_{1}, \\  4\\right), \\  \\left( b^{(34212)}_{2}, \\  4\\right), \\  \\left( b^{(34212)}_{4}, \\  4\\right)\\right]$"
      ],
      "text/plain": [
       "<IPython.core.display.Math object>"
      ]
     },
     "metadata": {},
     "output_type": "display_data"
    },
    {
     "data": {
      "text/latex": [
       "$\\displaystyle (\\lambda, m) = (4, 0)$"
      ],
      "text/plain": [
       "<IPython.core.display.Math object>"
      ]
     },
     "metadata": {},
     "output_type": "display_data"
    },
    {
     "data": {
      "text/latex": [
       "$\\displaystyle a^{(34211)}_{1} a^{(34211)}_{3} b^{(34211)}_{1} b^{(34211)}_{2} b^{(34211)}_{4} \\left(a^{(34211)}_{2} + a^{(34211)}_{4} + b^{(34211)}_{3} + 1\\right)$"
      ],
      "text/plain": [
       "<IPython.core.display.Math object>"
      ]
     },
     "metadata": {},
     "output_type": "display_data"
    },
    {
     "data": {
      "text/latex": [
       "$\\displaystyle RLCTS = \\left[ \\left( a^{(34211)}_{1}, \\  4\\right), \\  \\left( a^{(34211)}_{3}, \\  4\\right), \\  \\left( b^{(34211)}_{1}, \\  4\\right), \\  \\left( b^{(34211)}_{2}, \\  4\\right), \\  \\left( b^{(34211)}_{4}, \\  4\\right)\\right]$"
      ],
      "text/plain": [
       "<IPython.core.display.Math object>"
      ]
     },
     "metadata": {},
     "output_type": "display_data"
    },
    {
     "data": {
      "text/latex": [
       "$\\displaystyle (\\lambda, m) = (4, 0)$"
      ],
      "text/plain": [
       "<IPython.core.display.Math object>"
      ]
     },
     "metadata": {},
     "output_type": "display_data"
    },
    {
     "name": "stdout",
     "output_type": "stream",
     "text": [
      "\n",
      "---------------\n",
      "Current expression: \n"
     ]
    },
    {
     "data": {
      "text/latex": [
       "$\\displaystyle a^{(4)}_{4} \\left(a^{(4)}_{1} b^{(4)}_{1} + a^{(4)}_{2} b^{(4)}_{2} + a^{(4)}_{3} b^{(4)}_{3} + b^{(4)}_{4}\\right)$"
      ],
      "text/plain": [
       "<IPython.core.display.Math object>"
      ]
     },
     "metadata": {},
     "output_type": "display_data"
    },
    {
     "name": "stdout",
     "output_type": "stream",
     "text": [
      "Blowup coords    : [7, 0, 3, 5]\n"
     ]
    },
    {
     "data": {
      "text/latex": [
       "$\\displaystyle Blowup variables : \\left[ b^{(4)}_{4}, \\  a^{(4)}_{1}, \\  b^{(4)}_{2}, \\  b^{(4)}_{3}\\right]$"
      ],
      "text/plain": [
       "<IPython.core.display.Math object>"
      ]
     },
     "metadata": {},
     "output_type": "display_data"
    },
    {
     "data": {
      "text/latex": [
       "$\\displaystyle a^{(44)}_{4} b^{(44)}_{4} \\left(a^{(44)}_{1} b^{(44)}_{1} + a^{(44)}_{2} b^{(44)}_{2} + a^{(44)}_{3} b^{(44)}_{3} + 1\\right)$"
      ],
      "text/plain": [
       "<IPython.core.display.Math object>"
      ]
     },
     "metadata": {},
     "output_type": "display_data"
    },
    {
     "data": {
      "text/latex": [
       "$\\displaystyle RLCTS = \\left[ \\left( a^{(44)}_{4}, \\  4\\right), \\  \\left( b^{(44)}_{4}, \\  4\\right)\\right]$"
      ],
      "text/plain": [
       "<IPython.core.display.Math object>"
      ]
     },
     "metadata": {},
     "output_type": "display_data"
    },
    {
     "data": {
      "text/latex": [
       "$\\displaystyle (\\lambda, m) = (4, 0)$"
      ],
      "text/plain": [
       "<IPython.core.display.Math object>"
      ]
     },
     "metadata": {},
     "output_type": "display_data"
    },
    {
     "data": {
      "text/latex": [
       "$\\displaystyle a^{(43)}_{4} b^{(43)}_{3} \\left(a^{(43)}_{1} b^{(43)}_{1} + a^{(43)}_{2} b^{(43)}_{2} + a^{(43)}_{3} + b^{(43)}_{4}\\right)$"
      ],
      "text/plain": [
       "<IPython.core.display.Math object>"
      ]
     },
     "metadata": {},
     "output_type": "display_data"
    },
    {
     "data": {
      "text/latex": [
       "$\\displaystyle a^{(42)}_{4} b^{(42)}_{2} \\left(a^{(42)}_{1} b^{(42)}_{1} + a^{(42)}_{2} + a^{(42)}_{3} b^{(42)}_{3} + b^{(42)}_{4}\\right)$"
      ],
      "text/plain": [
       "<IPython.core.display.Math object>"
      ]
     },
     "metadata": {},
     "output_type": "display_data"
    },
    {
     "data": {
      "text/latex": [
       "$\\displaystyle a^{(41)}_{1} a^{(41)}_{4} \\left(a^{(41)}_{2} b^{(41)}_{2} + a^{(41)}_{3} b^{(41)}_{3} + b^{(41)}_{1} + b^{(41)}_{4}\\right)$"
      ],
      "text/plain": [
       "<IPython.core.display.Math object>"
      ]
     },
     "metadata": {},
     "output_type": "display_data"
    },
    {
     "name": "stdout",
     "output_type": "stream",
     "text": [
      "\n",
      "---------------\n",
      "Current expression: \n"
     ]
    },
    {
     "data": {
      "text/latex": [
       "$\\displaystyle a^{(41)}_{1} a^{(41)}_{4} \\left(a^{(41)}_{2} b^{(41)}_{2} + a^{(41)}_{3} b^{(41)}_{3} + b^{(41)}_{1} + b^{(41)}_{4}\\right)$"
      ],
      "text/plain": [
       "<IPython.core.display.Math object>"
      ]
     },
     "metadata": {},
     "output_type": "display_data"
    },
    {
     "name": "stdout",
     "output_type": "stream",
     "text": [
      "Blowup coords    : [1, 7, 2, 4]\n"
     ]
    },
    {
     "data": {
      "text/latex": [
       "$\\displaystyle Blowup variables : \\left[ b^{(41)}_{1}, \\  b^{(41)}_{4}, \\  a^{(41)}_{2}, \\  a^{(41)}_{3}\\right]$"
      ],
      "text/plain": [
       "<IPython.core.display.Math object>"
      ]
     },
     "metadata": {},
     "output_type": "display_data"
    },
    {
     "data": {
      "text/latex": [
       "$\\displaystyle a^{(414)}_{1} a^{(414)}_{4} b^{(414)}_{4} \\left(a^{(414)}_{2} b^{(414)}_{2} + a^{(414)}_{3} b^{(414)}_{3} + b^{(414)}_{1} + 1\\right)$"
      ],
      "text/plain": [
       "<IPython.core.display.Math object>"
      ]
     },
     "metadata": {},
     "output_type": "display_data"
    },
    {
     "data": {
      "text/latex": [
       "$\\displaystyle RLCTS = \\left[ \\left( a^{(414)}_{1}, \\  4\\right), \\  \\left( a^{(414)}_{4}, \\  4\\right), \\  \\left( b^{(414)}_{4}, \\  4\\right)\\right]$"
      ],
      "text/plain": [
       "<IPython.core.display.Math object>"
      ]
     },
     "metadata": {},
     "output_type": "display_data"
    },
    {
     "data": {
      "text/latex": [
       "$\\displaystyle (\\lambda, m) = (4, 0)$"
      ],
      "text/plain": [
       "<IPython.core.display.Math object>"
      ]
     },
     "metadata": {},
     "output_type": "display_data"
    },
    {
     "data": {
      "text/latex": [
       "$\\displaystyle a^{(413)}_{1} a^{(413)}_{3} a^{(413)}_{4} \\left(a^{(413)}_{2} b^{(413)}_{2} + b^{(413)}_{1} + b^{(413)}_{3} + b^{(413)}_{4}\\right)$"
      ],
      "text/plain": [
       "<IPython.core.display.Math object>"
      ]
     },
     "metadata": {},
     "output_type": "display_data"
    },
    {
     "data": {
      "text/latex": [
       "$\\displaystyle a^{(412)}_{1} a^{(412)}_{2} a^{(412)}_{4} \\left(a^{(412)}_{3} b^{(412)}_{3} + b^{(412)}_{1} + b^{(412)}_{2} + b^{(412)}_{4}\\right)$"
      ],
      "text/plain": [
       "<IPython.core.display.Math object>"
      ]
     },
     "metadata": {},
     "output_type": "display_data"
    },
    {
     "data": {
      "text/latex": [
       "$\\displaystyle a^{(411)}_{1} a^{(411)}_{4} b^{(411)}_{1} \\left(a^{(411)}_{2} b^{(411)}_{2} + a^{(411)}_{3} b^{(411)}_{3} + b^{(411)}_{4} + 1\\right)$"
      ],
      "text/plain": [
       "<IPython.core.display.Math object>"
      ]
     },
     "metadata": {},
     "output_type": "display_data"
    },
    {
     "data": {
      "text/latex": [
       "$\\displaystyle RLCTS = \\left[ \\left( a^{(411)}_{1}, \\  4\\right), \\  \\left( a^{(411)}_{4}, \\  4\\right), \\  \\left( b^{(411)}_{1}, \\  4\\right)\\right]$"
      ],
      "text/plain": [
       "<IPython.core.display.Math object>"
      ]
     },
     "metadata": {},
     "output_type": "display_data"
    },
    {
     "data": {
      "text/latex": [
       "$\\displaystyle (\\lambda, m) = (4, 0)$"
      ],
      "text/plain": [
       "<IPython.core.display.Math object>"
      ]
     },
     "metadata": {},
     "output_type": "display_data"
    },
    {
     "name": "stdout",
     "output_type": "stream",
     "text": [
      "\n",
      "---------------\n",
      "Current expression: \n"
     ]
    },
    {
     "data": {
      "text/latex": [
       "$\\displaystyle a^{(412)}_{1} a^{(412)}_{2} a^{(412)}_{4} \\left(a^{(412)}_{3} b^{(412)}_{3} + b^{(412)}_{1} + b^{(412)}_{2} + b^{(412)}_{4}\\right)$"
      ],
      "text/plain": [
       "<IPython.core.display.Math object>"
      ]
     },
     "metadata": {},
     "output_type": "display_data"
    },
    {
     "name": "stdout",
     "output_type": "stream",
     "text": [
      "Blowup coords    : [1, 3, 7, 4]\n"
     ]
    },
    {
     "data": {
      "text/latex": [
       "$\\displaystyle Blowup variables : \\left[ b^{(412)}_{1}, \\  b^{(412)}_{2}, \\  b^{(412)}_{4}, \\  a^{(412)}_{3}\\right]$"
      ],
      "text/plain": [
       "<IPython.core.display.Math object>"
      ]
     },
     "metadata": {},
     "output_type": "display_data"
    },
    {
     "data": {
      "text/latex": [
       "$\\displaystyle a^{(4124)}_{1} a^{(4124)}_{2} a^{(4124)}_{4} b^{(4124)}_{4} \\left(a^{(4124)}_{3} b^{(4124)}_{3} + b^{(4124)}_{1} + b^{(4124)}_{2} + 1\\right)$"
      ],
      "text/plain": [
       "<IPython.core.display.Math object>"
      ]
     },
     "metadata": {},
     "output_type": "display_data"
    },
    {
     "data": {
      "text/latex": [
       "$\\displaystyle RLCTS = \\left[ \\left( a^{(4124)}_{1}, \\  4\\right), \\  \\left( a^{(4124)}_{2}, \\  4\\right), \\  \\left( a^{(4124)}_{4}, \\  4\\right), \\  \\left( b^{(4124)}_{4}, \\  4\\right)\\right]$"
      ],
      "text/plain": [
       "<IPython.core.display.Math object>"
      ]
     },
     "metadata": {},
     "output_type": "display_data"
    },
    {
     "data": {
      "text/latex": [
       "$\\displaystyle (\\lambda, m) = (4, 0)$"
      ],
      "text/plain": [
       "<IPython.core.display.Math object>"
      ]
     },
     "metadata": {},
     "output_type": "display_data"
    },
    {
     "data": {
      "text/latex": [
       "$\\displaystyle a^{(4123)}_{1} a^{(4123)}_{2} a^{(4123)}_{3} a^{(4123)}_{4} \\left(b^{(4123)}_{1} + b^{(4123)}_{2} + b^{(4123)}_{3} + b^{(4123)}_{4}\\right)$"
      ],
      "text/plain": [
       "<IPython.core.display.Math object>"
      ]
     },
     "metadata": {},
     "output_type": "display_data"
    },
    {
     "data": {
      "text/latex": [
       "$\\displaystyle a^{(4122)}_{1} a^{(4122)}_{2} a^{(4122)}_{4} b^{(4122)}_{2} \\left(a^{(4122)}_{3} b^{(4122)}_{3} + b^{(4122)}_{1} + b^{(4122)}_{4} + 1\\right)$"
      ],
      "text/plain": [
       "<IPython.core.display.Math object>"
      ]
     },
     "metadata": {},
     "output_type": "display_data"
    },
    {
     "data": {
      "text/latex": [
       "$\\displaystyle RLCTS = \\left[ \\left( a^{(4122)}_{1}, \\  4\\right), \\  \\left( a^{(4122)}_{2}, \\  4\\right), \\  \\left( a^{(4122)}_{4}, \\  4\\right), \\  \\left( b^{(4122)}_{2}, \\  4\\right)\\right]$"
      ],
      "text/plain": [
       "<IPython.core.display.Math object>"
      ]
     },
     "metadata": {},
     "output_type": "display_data"
    },
    {
     "data": {
      "text/latex": [
       "$\\displaystyle (\\lambda, m) = (4, 0)$"
      ],
      "text/plain": [
       "<IPython.core.display.Math object>"
      ]
     },
     "metadata": {},
     "output_type": "display_data"
    },
    {
     "data": {
      "text/latex": [
       "$\\displaystyle a^{(4121)}_{1} a^{(4121)}_{2} a^{(4121)}_{4} b^{(4121)}_{1} \\left(a^{(4121)}_{3} b^{(4121)}_{3} + b^{(4121)}_{2} + b^{(4121)}_{4} + 1\\right)$"
      ],
      "text/plain": [
       "<IPython.core.display.Math object>"
      ]
     },
     "metadata": {},
     "output_type": "display_data"
    },
    {
     "data": {
      "text/latex": [
       "$\\displaystyle RLCTS = \\left[ \\left( a^{(4121)}_{1}, \\  4\\right), \\  \\left( a^{(4121)}_{2}, \\  4\\right), \\  \\left( a^{(4121)}_{4}, \\  4\\right), \\  \\left( b^{(4121)}_{1}, \\  4\\right)\\right]$"
      ],
      "text/plain": [
       "<IPython.core.display.Math object>"
      ]
     },
     "metadata": {},
     "output_type": "display_data"
    },
    {
     "data": {
      "text/latex": [
       "$\\displaystyle (\\lambda, m) = (4, 0)$"
      ],
      "text/plain": [
       "<IPython.core.display.Math object>"
      ]
     },
     "metadata": {},
     "output_type": "display_data"
    },
    {
     "name": "stdout",
     "output_type": "stream",
     "text": [
      "\n",
      "---------------\n",
      "Current expression: \n"
     ]
    },
    {
     "data": {
      "text/latex": [
       "$\\displaystyle a^{(4123)}_{1} a^{(4123)}_{2} a^{(4123)}_{3} a^{(4123)}_{4} \\left(b^{(4123)}_{1} + b^{(4123)}_{2} + b^{(4123)}_{3} + b^{(4123)}_{4}\\right)$"
      ],
      "text/plain": [
       "<IPython.core.display.Math object>"
      ]
     },
     "metadata": {},
     "output_type": "display_data"
    },
    {
     "name": "stdout",
     "output_type": "stream",
     "text": [
      "Blowup coords    : [1, 3, 5, 7]\n"
     ]
    },
    {
     "data": {
      "text/latex": [
       "$\\displaystyle Blowup variables : \\left[ b^{(4123)}_{1}, \\  b^{(4123)}_{2}, \\  b^{(4123)}_{3}, \\  b^{(4123)}_{4}\\right]$"
      ],
      "text/plain": [
       "<IPython.core.display.Math object>"
      ]
     },
     "metadata": {},
     "output_type": "display_data"
    },
    {
     "data": {
      "text/latex": [
       "$\\displaystyle a^{(41234)}_{1} a^{(41234)}_{2} a^{(41234)}_{3} a^{(41234)}_{4} b^{(41234)}_{4} \\left(b^{(41234)}_{1} + b^{(41234)}_{2} + b^{(41234)}_{3} + 1\\right)$"
      ],
      "text/plain": [
       "<IPython.core.display.Math object>"
      ]
     },
     "metadata": {},
     "output_type": "display_data"
    },
    {
     "data": {
      "text/latex": [
       "$\\displaystyle RLCTS = \\left[ \\left( a^{(41234)}_{1}, \\  4\\right), \\  \\left( a^{(41234)}_{2}, \\  4\\right), \\  \\left( a^{(41234)}_{3}, \\  4\\right), \\  \\left( a^{(41234)}_{4}, \\  4\\right), \\  \\left( b^{(41234)}_{4}, \\  4\\right)\\right]$"
      ],
      "text/plain": [
       "<IPython.core.display.Math object>"
      ]
     },
     "metadata": {},
     "output_type": "display_data"
    },
    {
     "data": {
      "text/latex": [
       "$\\displaystyle (\\lambda, m) = (4, 0)$"
      ],
      "text/plain": [
       "<IPython.core.display.Math object>"
      ]
     },
     "metadata": {},
     "output_type": "display_data"
    },
    {
     "data": {
      "text/latex": [
       "$\\displaystyle a^{(41233)}_{1} a^{(41233)}_{2} a^{(41233)}_{3} a^{(41233)}_{4} b^{(41233)}_{3} \\left(b^{(41233)}_{1} + b^{(41233)}_{2} + b^{(41233)}_{4} + 1\\right)$"
      ],
      "text/plain": [
       "<IPython.core.display.Math object>"
      ]
     },
     "metadata": {},
     "output_type": "display_data"
    },
    {
     "data": {
      "text/latex": [
       "$\\displaystyle RLCTS = \\left[ \\left( a^{(41233)}_{1}, \\  4\\right), \\  \\left( a^{(41233)}_{2}, \\  4\\right), \\  \\left( a^{(41233)}_{3}, \\  4\\right), \\  \\left( a^{(41233)}_{4}, \\  4\\right), \\  \\left( b^{(41233)}_{3}, \\  4\\right)\\right]$"
      ],
      "text/plain": [
       "<IPython.core.display.Math object>"
      ]
     },
     "metadata": {},
     "output_type": "display_data"
    },
    {
     "data": {
      "text/latex": [
       "$\\displaystyle (\\lambda, m) = (4, 0)$"
      ],
      "text/plain": [
       "<IPython.core.display.Math object>"
      ]
     },
     "metadata": {},
     "output_type": "display_data"
    },
    {
     "data": {
      "text/latex": [
       "$\\displaystyle a^{(41232)}_{1} a^{(41232)}_{2} a^{(41232)}_{3} a^{(41232)}_{4} b^{(41232)}_{2} \\left(b^{(41232)}_{1} + b^{(41232)}_{3} + b^{(41232)}_{4} + 1\\right)$"
      ],
      "text/plain": [
       "<IPython.core.display.Math object>"
      ]
     },
     "metadata": {},
     "output_type": "display_data"
    },
    {
     "data": {
      "text/latex": [
       "$\\displaystyle RLCTS = \\left[ \\left( a^{(41232)}_{1}, \\  4\\right), \\  \\left( a^{(41232)}_{2}, \\  4\\right), \\  \\left( a^{(41232)}_{3}, \\  4\\right), \\  \\left( a^{(41232)}_{4}, \\  4\\right), \\  \\left( b^{(41232)}_{2}, \\  4\\right)\\right]$"
      ],
      "text/plain": [
       "<IPython.core.display.Math object>"
      ]
     },
     "metadata": {},
     "output_type": "display_data"
    },
    {
     "data": {
      "text/latex": [
       "$\\displaystyle (\\lambda, m) = (4, 0)$"
      ],
      "text/plain": [
       "<IPython.core.display.Math object>"
      ]
     },
     "metadata": {},
     "output_type": "display_data"
    },
    {
     "data": {
      "text/latex": [
       "$\\displaystyle a^{(41231)}_{1} a^{(41231)}_{2} a^{(41231)}_{3} a^{(41231)}_{4} b^{(41231)}_{1} \\left(b^{(41231)}_{2} + b^{(41231)}_{3} + b^{(41231)}_{4} + 1\\right)$"
      ],
      "text/plain": [
       "<IPython.core.display.Math object>"
      ]
     },
     "metadata": {},
     "output_type": "display_data"
    },
    {
     "data": {
      "text/latex": [
       "$\\displaystyle RLCTS = \\left[ \\left( a^{(41231)}_{1}, \\  4\\right), \\  \\left( a^{(41231)}_{2}, \\  4\\right), \\  \\left( a^{(41231)}_{3}, \\  4\\right), \\  \\left( a^{(41231)}_{4}, \\  4\\right), \\  \\left( b^{(41231)}_{1}, \\  4\\right)\\right]$"
      ],
      "text/plain": [
       "<IPython.core.display.Math object>"
      ]
     },
     "metadata": {},
     "output_type": "display_data"
    },
    {
     "data": {
      "text/latex": [
       "$\\displaystyle (\\lambda, m) = (4, 0)$"
      ],
      "text/plain": [
       "<IPython.core.display.Math object>"
      ]
     },
     "metadata": {},
     "output_type": "display_data"
    },
    {
     "name": "stdout",
     "output_type": "stream",
     "text": [
      "\n",
      "---------------\n",
      "Current expression: \n"
     ]
    },
    {
     "data": {
      "text/latex": [
       "$\\displaystyle a^{(413)}_{1} a^{(413)}_{3} a^{(413)}_{4} \\left(a^{(413)}_{2} b^{(413)}_{2} + b^{(413)}_{1} + b^{(413)}_{3} + b^{(413)}_{4}\\right)$"
      ],
      "text/plain": [
       "<IPython.core.display.Math object>"
      ]
     },
     "metadata": {},
     "output_type": "display_data"
    },
    {
     "name": "stdout",
     "output_type": "stream",
     "text": [
      "Blowup coords    : [1, 5, 7, 2]\n"
     ]
    },
    {
     "data": {
      "text/latex": [
       "$\\displaystyle Blowup variables : \\left[ b^{(413)}_{1}, \\  b^{(413)}_{3}, \\  b^{(413)}_{4}, \\  a^{(413)}_{2}\\right]$"
      ],
      "text/plain": [
       "<IPython.core.display.Math object>"
      ]
     },
     "metadata": {},
     "output_type": "display_data"
    },
    {
     "data": {
      "text/latex": [
       "$\\displaystyle a^{(4134)}_{1} a^{(4134)}_{3} a^{(4134)}_{4} b^{(4134)}_{4} \\left(a^{(4134)}_{2} b^{(4134)}_{2} + b^{(4134)}_{1} + b^{(4134)}_{3} + 1\\right)$"
      ],
      "text/plain": [
       "<IPython.core.display.Math object>"
      ]
     },
     "metadata": {},
     "output_type": "display_data"
    },
    {
     "data": {
      "text/latex": [
       "$\\displaystyle RLCTS = \\left[ \\left( a^{(4134)}_{1}, \\  4\\right), \\  \\left( a^{(4134)}_{3}, \\  4\\right), \\  \\left( a^{(4134)}_{4}, \\  4\\right), \\  \\left( b^{(4134)}_{4}, \\  4\\right)\\right]$"
      ],
      "text/plain": [
       "<IPython.core.display.Math object>"
      ]
     },
     "metadata": {},
     "output_type": "display_data"
    },
    {
     "data": {
      "text/latex": [
       "$\\displaystyle (\\lambda, m) = (4, 0)$"
      ],
      "text/plain": [
       "<IPython.core.display.Math object>"
      ]
     },
     "metadata": {},
     "output_type": "display_data"
    },
    {
     "data": {
      "text/latex": [
       "$\\displaystyle a^{(4133)}_{1} a^{(4133)}_{3} a^{(4133)}_{4} b^{(4133)}_{3} \\left(a^{(4133)}_{2} b^{(4133)}_{2} + b^{(4133)}_{1} + b^{(4133)}_{4} + 1\\right)$"
      ],
      "text/plain": [
       "<IPython.core.display.Math object>"
      ]
     },
     "metadata": {},
     "output_type": "display_data"
    },
    {
     "data": {
      "text/latex": [
       "$\\displaystyle RLCTS = \\left[ \\left( a^{(4133)}_{1}, \\  4\\right), \\  \\left( a^{(4133)}_{3}, \\  4\\right), \\  \\left( a^{(4133)}_{4}, \\  4\\right), \\  \\left( b^{(4133)}_{3}, \\  4\\right)\\right]$"
      ],
      "text/plain": [
       "<IPython.core.display.Math object>"
      ]
     },
     "metadata": {},
     "output_type": "display_data"
    },
    {
     "data": {
      "text/latex": [
       "$\\displaystyle (\\lambda, m) = (4, 0)$"
      ],
      "text/plain": [
       "<IPython.core.display.Math object>"
      ]
     },
     "metadata": {},
     "output_type": "display_data"
    },
    {
     "data": {
      "text/latex": [
       "$\\displaystyle a^{(4132)}_{1} a^{(4132)}_{2} a^{(4132)}_{3} a^{(4132)}_{4} \\left(b^{(4132)}_{1} + b^{(4132)}_{2} + b^{(4132)}_{3} + b^{(4132)}_{4}\\right)$"
      ],
      "text/plain": [
       "<IPython.core.display.Math object>"
      ]
     },
     "metadata": {},
     "output_type": "display_data"
    },
    {
     "data": {
      "text/latex": [
       "$\\displaystyle a^{(4131)}_{1} a^{(4131)}_{3} a^{(4131)}_{4} b^{(4131)}_{1} \\left(a^{(4131)}_{2} b^{(4131)}_{2} + b^{(4131)}_{3} + b^{(4131)}_{4} + 1\\right)$"
      ],
      "text/plain": [
       "<IPython.core.display.Math object>"
      ]
     },
     "metadata": {},
     "output_type": "display_data"
    },
    {
     "data": {
      "text/latex": [
       "$\\displaystyle RLCTS = \\left[ \\left( a^{(4131)}_{1}, \\  4\\right), \\  \\left( a^{(4131)}_{3}, \\  4\\right), \\  \\left( a^{(4131)}_{4}, \\  4\\right), \\  \\left( b^{(4131)}_{1}, \\  4\\right)\\right]$"
      ],
      "text/plain": [
       "<IPython.core.display.Math object>"
      ]
     },
     "metadata": {},
     "output_type": "display_data"
    },
    {
     "data": {
      "text/latex": [
       "$\\displaystyle (\\lambda, m) = (4, 0)$"
      ],
      "text/plain": [
       "<IPython.core.display.Math object>"
      ]
     },
     "metadata": {},
     "output_type": "display_data"
    },
    {
     "name": "stdout",
     "output_type": "stream",
     "text": [
      "\n",
      "---------------\n",
      "Current expression: \n"
     ]
    },
    {
     "data": {
      "text/latex": [
       "$\\displaystyle a^{(4132)}_{1} a^{(4132)}_{2} a^{(4132)}_{3} a^{(4132)}_{4} \\left(b^{(4132)}_{1} + b^{(4132)}_{2} + b^{(4132)}_{3} + b^{(4132)}_{4}\\right)$"
      ],
      "text/plain": [
       "<IPython.core.display.Math object>"
      ]
     },
     "metadata": {},
     "output_type": "display_data"
    },
    {
     "name": "stdout",
     "output_type": "stream",
     "text": [
      "Blowup coords    : [1, 3, 5, 7]\n"
     ]
    },
    {
     "data": {
      "text/latex": [
       "$\\displaystyle Blowup variables : \\left[ b^{(4132)}_{1}, \\  b^{(4132)}_{2}, \\  b^{(4132)}_{3}, \\  b^{(4132)}_{4}\\right]$"
      ],
      "text/plain": [
       "<IPython.core.display.Math object>"
      ]
     },
     "metadata": {},
     "output_type": "display_data"
    },
    {
     "data": {
      "text/latex": [
       "$\\displaystyle a^{(41324)}_{1} a^{(41324)}_{2} a^{(41324)}_{3} a^{(41324)}_{4} b^{(41324)}_{4} \\left(b^{(41324)}_{1} + b^{(41324)}_{2} + b^{(41324)}_{3} + 1\\right)$"
      ],
      "text/plain": [
       "<IPython.core.display.Math object>"
      ]
     },
     "metadata": {},
     "output_type": "display_data"
    },
    {
     "data": {
      "text/latex": [
       "$\\displaystyle RLCTS = \\left[ \\left( a^{(41324)}_{1}, \\  4\\right), \\  \\left( a^{(41324)}_{2}, \\  4\\right), \\  \\left( a^{(41324)}_{3}, \\  4\\right), \\  \\left( a^{(41324)}_{4}, \\  4\\right), \\  \\left( b^{(41324)}_{4}, \\  4\\right)\\right]$"
      ],
      "text/plain": [
       "<IPython.core.display.Math object>"
      ]
     },
     "metadata": {},
     "output_type": "display_data"
    },
    {
     "data": {
      "text/latex": [
       "$\\displaystyle (\\lambda, m) = (4, 0)$"
      ],
      "text/plain": [
       "<IPython.core.display.Math object>"
      ]
     },
     "metadata": {},
     "output_type": "display_data"
    },
    {
     "data": {
      "text/latex": [
       "$\\displaystyle a^{(41323)}_{1} a^{(41323)}_{2} a^{(41323)}_{3} a^{(41323)}_{4} b^{(41323)}_{3} \\left(b^{(41323)}_{1} + b^{(41323)}_{2} + b^{(41323)}_{4} + 1\\right)$"
      ],
      "text/plain": [
       "<IPython.core.display.Math object>"
      ]
     },
     "metadata": {},
     "output_type": "display_data"
    },
    {
     "data": {
      "text/latex": [
       "$\\displaystyle RLCTS = \\left[ \\left( a^{(41323)}_{1}, \\  4\\right), \\  \\left( a^{(41323)}_{2}, \\  4\\right), \\  \\left( a^{(41323)}_{3}, \\  4\\right), \\  \\left( a^{(41323)}_{4}, \\  4\\right), \\  \\left( b^{(41323)}_{3}, \\  4\\right)\\right]$"
      ],
      "text/plain": [
       "<IPython.core.display.Math object>"
      ]
     },
     "metadata": {},
     "output_type": "display_data"
    },
    {
     "data": {
      "text/latex": [
       "$\\displaystyle (\\lambda, m) = (4, 0)$"
      ],
      "text/plain": [
       "<IPython.core.display.Math object>"
      ]
     },
     "metadata": {},
     "output_type": "display_data"
    },
    {
     "data": {
      "text/latex": [
       "$\\displaystyle a^{(41322)}_{1} a^{(41322)}_{2} a^{(41322)}_{3} a^{(41322)}_{4} b^{(41322)}_{2} \\left(b^{(41322)}_{1} + b^{(41322)}_{3} + b^{(41322)}_{4} + 1\\right)$"
      ],
      "text/plain": [
       "<IPython.core.display.Math object>"
      ]
     },
     "metadata": {},
     "output_type": "display_data"
    },
    {
     "data": {
      "text/latex": [
       "$\\displaystyle RLCTS = \\left[ \\left( a^{(41322)}_{1}, \\  4\\right), \\  \\left( a^{(41322)}_{2}, \\  4\\right), \\  \\left( a^{(41322)}_{3}, \\  4\\right), \\  \\left( a^{(41322)}_{4}, \\  4\\right), \\  \\left( b^{(41322)}_{2}, \\  4\\right)\\right]$"
      ],
      "text/plain": [
       "<IPython.core.display.Math object>"
      ]
     },
     "metadata": {},
     "output_type": "display_data"
    },
    {
     "data": {
      "text/latex": [
       "$\\displaystyle (\\lambda, m) = (4, 0)$"
      ],
      "text/plain": [
       "<IPython.core.display.Math object>"
      ]
     },
     "metadata": {},
     "output_type": "display_data"
    },
    {
     "data": {
      "text/latex": [
       "$\\displaystyle a^{(41321)}_{1} a^{(41321)}_{2} a^{(41321)}_{3} a^{(41321)}_{4} b^{(41321)}_{1} \\left(b^{(41321)}_{2} + b^{(41321)}_{3} + b^{(41321)}_{4} + 1\\right)$"
      ],
      "text/plain": [
       "<IPython.core.display.Math object>"
      ]
     },
     "metadata": {},
     "output_type": "display_data"
    },
    {
     "data": {
      "text/latex": [
       "$\\displaystyle RLCTS = \\left[ \\left( a^{(41321)}_{1}, \\  4\\right), \\  \\left( a^{(41321)}_{2}, \\  4\\right), \\  \\left( a^{(41321)}_{3}, \\  4\\right), \\  \\left( a^{(41321)}_{4}, \\  4\\right), \\  \\left( b^{(41321)}_{1}, \\  4\\right)\\right]$"
      ],
      "text/plain": [
       "<IPython.core.display.Math object>"
      ]
     },
     "metadata": {},
     "output_type": "display_data"
    },
    {
     "data": {
      "text/latex": [
       "$\\displaystyle (\\lambda, m) = (4, 0)$"
      ],
      "text/plain": [
       "<IPython.core.display.Math object>"
      ]
     },
     "metadata": {},
     "output_type": "display_data"
    },
    {
     "name": "stdout",
     "output_type": "stream",
     "text": [
      "\n",
      "---------------\n",
      "Current expression: \n"
     ]
    },
    {
     "data": {
      "text/latex": [
       "$\\displaystyle a^{(42)}_{4} b^{(42)}_{2} \\left(a^{(42)}_{1} b^{(42)}_{1} + a^{(42)}_{2} + a^{(42)}_{3} b^{(42)}_{3} + b^{(42)}_{4}\\right)$"
      ],
      "text/plain": [
       "<IPython.core.display.Math object>"
      ]
     },
     "metadata": {},
     "output_type": "display_data"
    },
    {
     "name": "stdout",
     "output_type": "stream",
     "text": [
      "Blowup coords    : [2, 7, 0, 4]\n"
     ]
    },
    {
     "data": {
      "text/latex": [
       "$\\displaystyle Blowup variables : \\left[ a^{(42)}_{2}, \\  b^{(42)}_{4}, \\  a^{(42)}_{1}, \\  a^{(42)}_{3}\\right]$"
      ],
      "text/plain": [
       "<IPython.core.display.Math object>"
      ]
     },
     "metadata": {},
     "output_type": "display_data"
    },
    {
     "data": {
      "text/latex": [
       "$\\displaystyle a^{(424)}_{4} b^{(424)}_{2} b^{(424)}_{4} \\left(a^{(424)}_{1} b^{(424)}_{1} + a^{(424)}_{2} + a^{(424)}_{3} b^{(424)}_{3} + 1\\right)$"
      ],
      "text/plain": [
       "<IPython.core.display.Math object>"
      ]
     },
     "metadata": {},
     "output_type": "display_data"
    },
    {
     "data": {
      "text/latex": [
       "$\\displaystyle RLCTS = \\left[ \\left( a^{(424)}_{4}, \\  4\\right), \\  \\left( b^{(424)}_{2}, \\  4\\right), \\  \\left( b^{(424)}_{4}, \\  4\\right)\\right]$"
      ],
      "text/plain": [
       "<IPython.core.display.Math object>"
      ]
     },
     "metadata": {},
     "output_type": "display_data"
    },
    {
     "data": {
      "text/latex": [
       "$\\displaystyle (\\lambda, m) = (4, 0)$"
      ],
      "text/plain": [
       "<IPython.core.display.Math object>"
      ]
     },
     "metadata": {},
     "output_type": "display_data"
    },
    {
     "data": {
      "text/latex": [
       "$\\displaystyle a^{(423)}_{3} a^{(423)}_{4} b^{(423)}_{2} \\left(a^{(423)}_{1} b^{(423)}_{1} + a^{(423)}_{2} + b^{(423)}_{3} + b^{(423)}_{4}\\right)$"
      ],
      "text/plain": [
       "<IPython.core.display.Math object>"
      ]
     },
     "metadata": {},
     "output_type": "display_data"
    },
    {
     "data": {
      "text/latex": [
       "$\\displaystyle a^{(422)}_{2} a^{(422)}_{4} b^{(422)}_{2} \\left(a^{(422)}_{1} b^{(422)}_{1} + a^{(422)}_{3} b^{(422)}_{3} + b^{(422)}_{4} + 1\\right)$"
      ],
      "text/plain": [
       "<IPython.core.display.Math object>"
      ]
     },
     "metadata": {},
     "output_type": "display_data"
    },
    {
     "data": {
      "text/latex": [
       "$\\displaystyle RLCTS = \\left[ \\left( a^{(422)}_{2}, \\  4\\right), \\  \\left( a^{(422)}_{4}, \\  4\\right), \\  \\left( b^{(422)}_{2}, \\  4\\right)\\right]$"
      ],
      "text/plain": [
       "<IPython.core.display.Math object>"
      ]
     },
     "metadata": {},
     "output_type": "display_data"
    },
    {
     "data": {
      "text/latex": [
       "$\\displaystyle (\\lambda, m) = (4, 0)$"
      ],
      "text/plain": [
       "<IPython.core.display.Math object>"
      ]
     },
     "metadata": {},
     "output_type": "display_data"
    },
    {
     "data": {
      "text/latex": [
       "$\\displaystyle a^{(421)}_{1} a^{(421)}_{4} b^{(421)}_{2} \\left(a^{(421)}_{2} + a^{(421)}_{3} b^{(421)}_{3} + b^{(421)}_{1} + b^{(421)}_{4}\\right)$"
      ],
      "text/plain": [
       "<IPython.core.display.Math object>"
      ]
     },
     "metadata": {},
     "output_type": "display_data"
    },
    {
     "name": "stdout",
     "output_type": "stream",
     "text": [
      "\n",
      "---------------\n",
      "Current expression: \n"
     ]
    },
    {
     "data": {
      "text/latex": [
       "$\\displaystyle a^{(421)}_{1} a^{(421)}_{4} b^{(421)}_{2} \\left(a^{(421)}_{2} + a^{(421)}_{3} b^{(421)}_{3} + b^{(421)}_{1} + b^{(421)}_{4}\\right)$"
      ],
      "text/plain": [
       "<IPython.core.display.Math object>"
      ]
     },
     "metadata": {},
     "output_type": "display_data"
    },
    {
     "name": "stdout",
     "output_type": "stream",
     "text": [
      "Blowup coords    : [2, 1, 7, 5]\n"
     ]
    },
    {
     "data": {
      "text/latex": [
       "$\\displaystyle Blowup variables : \\left[ a^{(421)}_{2}, \\  b^{(421)}_{1}, \\  b^{(421)}_{4}, \\  b^{(421)}_{3}\\right]$"
      ],
      "text/plain": [
       "<IPython.core.display.Math object>"
      ]
     },
     "metadata": {},
     "output_type": "display_data"
    },
    {
     "data": {
      "text/latex": [
       "$\\displaystyle a^{(4214)}_{1} a^{(4214)}_{4} b^{(4214)}_{2} b^{(4214)}_{4} \\left(a^{(4214)}_{2} + a^{(4214)}_{3} b^{(4214)}_{3} + b^{(4214)}_{1} + 1\\right)$"
      ],
      "text/plain": [
       "<IPython.core.display.Math object>"
      ]
     },
     "metadata": {},
     "output_type": "display_data"
    },
    {
     "data": {
      "text/latex": [
       "$\\displaystyle RLCTS = \\left[ \\left( a^{(4214)}_{1}, \\  4\\right), \\  \\left( a^{(4214)}_{4}, \\  4\\right), \\  \\left( b^{(4214)}_{2}, \\  4\\right), \\  \\left( b^{(4214)}_{4}, \\  4\\right)\\right]$"
      ],
      "text/plain": [
       "<IPython.core.display.Math object>"
      ]
     },
     "metadata": {},
     "output_type": "display_data"
    },
    {
     "data": {
      "text/latex": [
       "$\\displaystyle (\\lambda, m) = (4, 0)$"
      ],
      "text/plain": [
       "<IPython.core.display.Math object>"
      ]
     },
     "metadata": {},
     "output_type": "display_data"
    },
    {
     "data": {
      "text/latex": [
       "$\\displaystyle a^{(4213)}_{1} a^{(4213)}_{4} b^{(4213)}_{2} b^{(4213)}_{3} \\left(a^{(4213)}_{2} + a^{(4213)}_{3} + b^{(4213)}_{1} + b^{(4213)}_{4}\\right)$"
      ],
      "text/plain": [
       "<IPython.core.display.Math object>"
      ]
     },
     "metadata": {},
     "output_type": "display_data"
    },
    {
     "data": {
      "text/latex": [
       "$\\displaystyle a^{(4212)}_{1} a^{(4212)}_{2} a^{(4212)}_{4} b^{(4212)}_{2} \\left(a^{(4212)}_{3} b^{(4212)}_{3} + b^{(4212)}_{1} + b^{(4212)}_{4} + 1\\right)$"
      ],
      "text/plain": [
       "<IPython.core.display.Math object>"
      ]
     },
     "metadata": {},
     "output_type": "display_data"
    },
    {
     "data": {
      "text/latex": [
       "$\\displaystyle RLCTS = \\left[ \\left( a^{(4212)}_{1}, \\  4\\right), \\  \\left( a^{(4212)}_{2}, \\  4\\right), \\  \\left( a^{(4212)}_{4}, \\  4\\right), \\  \\left( b^{(4212)}_{2}, \\  4\\right)\\right]$"
      ],
      "text/plain": [
       "<IPython.core.display.Math object>"
      ]
     },
     "metadata": {},
     "output_type": "display_data"
    },
    {
     "data": {
      "text/latex": [
       "$\\displaystyle (\\lambda, m) = (4, 0)$"
      ],
      "text/plain": [
       "<IPython.core.display.Math object>"
      ]
     },
     "metadata": {},
     "output_type": "display_data"
    },
    {
     "data": {
      "text/latex": [
       "$\\displaystyle a^{(4211)}_{1} a^{(4211)}_{4} b^{(4211)}_{1} b^{(4211)}_{2} \\left(a^{(4211)}_{2} + a^{(4211)}_{3} b^{(4211)}_{3} + b^{(4211)}_{4} + 1\\right)$"
      ],
      "text/plain": [
       "<IPython.core.display.Math object>"
      ]
     },
     "metadata": {},
     "output_type": "display_data"
    },
    {
     "data": {
      "text/latex": [
       "$\\displaystyle RLCTS = \\left[ \\left( a^{(4211)}_{1}, \\  4\\right), \\  \\left( a^{(4211)}_{4}, \\  4\\right), \\  \\left( b^{(4211)}_{1}, \\  4\\right), \\  \\left( b^{(4211)}_{2}, \\  4\\right)\\right]$"
      ],
      "text/plain": [
       "<IPython.core.display.Math object>"
      ]
     },
     "metadata": {},
     "output_type": "display_data"
    },
    {
     "data": {
      "text/latex": [
       "$\\displaystyle (\\lambda, m) = (4, 0)$"
      ],
      "text/plain": [
       "<IPython.core.display.Math object>"
      ]
     },
     "metadata": {},
     "output_type": "display_data"
    },
    {
     "name": "stdout",
     "output_type": "stream",
     "text": [
      "\n",
      "---------------\n",
      "Current expression: \n"
     ]
    },
    {
     "data": {
      "text/latex": [
       "$\\displaystyle a^{(4213)}_{1} a^{(4213)}_{4} b^{(4213)}_{2} b^{(4213)}_{3} \\left(a^{(4213)}_{2} + a^{(4213)}_{3} + b^{(4213)}_{1} + b^{(4213)}_{4}\\right)$"
      ],
      "text/plain": [
       "<IPython.core.display.Math object>"
      ]
     },
     "metadata": {},
     "output_type": "display_data"
    },
    {
     "name": "stdout",
     "output_type": "stream",
     "text": [
      "Blowup coords    : [2, 4, 1, 7]\n"
     ]
    },
    {
     "data": {
      "text/latex": [
       "$\\displaystyle Blowup variables : \\left[ a^{(4213)}_{2}, \\  a^{(4213)}_{3}, \\  b^{(4213)}_{1}, \\  b^{(4213)}_{4}\\right]$"
      ],
      "text/plain": [
       "<IPython.core.display.Math object>"
      ]
     },
     "metadata": {},
     "output_type": "display_data"
    },
    {
     "data": {
      "text/latex": [
       "$\\displaystyle a^{(42134)}_{1} a^{(42134)}_{4} b^{(42134)}_{2} b^{(42134)}_{3} b^{(42134)}_{4} \\left(a^{(42134)}_{2} + a^{(42134)}_{3} + b^{(42134)}_{1} + 1\\right)$"
      ],
      "text/plain": [
       "<IPython.core.display.Math object>"
      ]
     },
     "metadata": {},
     "output_type": "display_data"
    },
    {
     "data": {
      "text/latex": [
       "$\\displaystyle RLCTS = \\left[ \\left( a^{(42134)}_{1}, \\  4\\right), \\  \\left( a^{(42134)}_{4}, \\  4\\right), \\  \\left( b^{(42134)}_{2}, \\  4\\right), \\  \\left( b^{(42134)}_{3}, \\  4\\right), \\  \\left( b^{(42134)}_{4}, \\  4\\right)\\right]$"
      ],
      "text/plain": [
       "<IPython.core.display.Math object>"
      ]
     },
     "metadata": {},
     "output_type": "display_data"
    },
    {
     "data": {
      "text/latex": [
       "$\\displaystyle (\\lambda, m) = (4, 0)$"
      ],
      "text/plain": [
       "<IPython.core.display.Math object>"
      ]
     },
     "metadata": {},
     "output_type": "display_data"
    },
    {
     "data": {
      "text/latex": [
       "$\\displaystyle a^{(42133)}_{1} a^{(42133)}_{3} a^{(42133)}_{4} b^{(42133)}_{2} b^{(42133)}_{3} \\left(a^{(42133)}_{2} + b^{(42133)}_{1} + b^{(42133)}_{4} + 1\\right)$"
      ],
      "text/plain": [
       "<IPython.core.display.Math object>"
      ]
     },
     "metadata": {},
     "output_type": "display_data"
    },
    {
     "data": {
      "text/latex": [
       "$\\displaystyle RLCTS = \\left[ \\left( a^{(42133)}_{1}, \\  4\\right), \\  \\left( a^{(42133)}_{3}, \\  4\\right), \\  \\left( a^{(42133)}_{4}, \\  4\\right), \\  \\left( b^{(42133)}_{2}, \\  4\\right), \\  \\left( b^{(42133)}_{3}, \\  4\\right)\\right]$"
      ],
      "text/plain": [
       "<IPython.core.display.Math object>"
      ]
     },
     "metadata": {},
     "output_type": "display_data"
    },
    {
     "data": {
      "text/latex": [
       "$\\displaystyle (\\lambda, m) = (4, 0)$"
      ],
      "text/plain": [
       "<IPython.core.display.Math object>"
      ]
     },
     "metadata": {},
     "output_type": "display_data"
    },
    {
     "data": {
      "text/latex": [
       "$\\displaystyle a^{(42132)}_{1} a^{(42132)}_{2} a^{(42132)}_{4} b^{(42132)}_{2} b^{(42132)}_{3} \\left(a^{(42132)}_{3} + b^{(42132)}_{1} + b^{(42132)}_{4} + 1\\right)$"
      ],
      "text/plain": [
       "<IPython.core.display.Math object>"
      ]
     },
     "metadata": {},
     "output_type": "display_data"
    },
    {
     "data": {
      "text/latex": [
       "$\\displaystyle RLCTS = \\left[ \\left( a^{(42132)}_{1}, \\  4\\right), \\  \\left( a^{(42132)}_{2}, \\  4\\right), \\  \\left( a^{(42132)}_{4}, \\  4\\right), \\  \\left( b^{(42132)}_{2}, \\  4\\right), \\  \\left( b^{(42132)}_{3}, \\  4\\right)\\right]$"
      ],
      "text/plain": [
       "<IPython.core.display.Math object>"
      ]
     },
     "metadata": {},
     "output_type": "display_data"
    },
    {
     "data": {
      "text/latex": [
       "$\\displaystyle (\\lambda, m) = (4, 0)$"
      ],
      "text/plain": [
       "<IPython.core.display.Math object>"
      ]
     },
     "metadata": {},
     "output_type": "display_data"
    },
    {
     "data": {
      "text/latex": [
       "$\\displaystyle a^{(42131)}_{1} a^{(42131)}_{4} b^{(42131)}_{1} b^{(42131)}_{2} b^{(42131)}_{3} \\left(a^{(42131)}_{2} + a^{(42131)}_{3} + b^{(42131)}_{4} + 1\\right)$"
      ],
      "text/plain": [
       "<IPython.core.display.Math object>"
      ]
     },
     "metadata": {},
     "output_type": "display_data"
    },
    {
     "data": {
      "text/latex": [
       "$\\displaystyle RLCTS = \\left[ \\left( a^{(42131)}_{1}, \\  4\\right), \\  \\left( a^{(42131)}_{4}, \\  4\\right), \\  \\left( b^{(42131)}_{1}, \\  4\\right), \\  \\left( b^{(42131)}_{2}, \\  4\\right), \\  \\left( b^{(42131)}_{3}, \\  4\\right)\\right]$"
      ],
      "text/plain": [
       "<IPython.core.display.Math object>"
      ]
     },
     "metadata": {},
     "output_type": "display_data"
    },
    {
     "data": {
      "text/latex": [
       "$\\displaystyle (\\lambda, m) = (4, 0)$"
      ],
      "text/plain": [
       "<IPython.core.display.Math object>"
      ]
     },
     "metadata": {},
     "output_type": "display_data"
    },
    {
     "name": "stdout",
     "output_type": "stream",
     "text": [
      "\n",
      "---------------\n",
      "Current expression: \n"
     ]
    },
    {
     "data": {
      "text/latex": [
       "$\\displaystyle a^{(423)}_{3} a^{(423)}_{4} b^{(423)}_{2} \\left(a^{(423)}_{1} b^{(423)}_{1} + a^{(423)}_{2} + b^{(423)}_{3} + b^{(423)}_{4}\\right)$"
      ],
      "text/plain": [
       "<IPython.core.display.Math object>"
      ]
     },
     "metadata": {},
     "output_type": "display_data"
    },
    {
     "name": "stdout",
     "output_type": "stream",
     "text": [
      "Blowup coords    : [2, 5, 7, 0]\n"
     ]
    },
    {
     "data": {
      "text/latex": [
       "$\\displaystyle Blowup variables : \\left[ a^{(423)}_{2}, \\  b^{(423)}_{3}, \\  b^{(423)}_{4}, \\  a^{(423)}_{1}\\right]$"
      ],
      "text/plain": [
       "<IPython.core.display.Math object>"
      ]
     },
     "metadata": {},
     "output_type": "display_data"
    },
    {
     "data": {
      "text/latex": [
       "$\\displaystyle a^{(4234)}_{3} a^{(4234)}_{4} b^{(4234)}_{2} b^{(4234)}_{4} \\left(a^{(4234)}_{1} b^{(4234)}_{1} + a^{(4234)}_{2} + b^{(4234)}_{3} + 1\\right)$"
      ],
      "text/plain": [
       "<IPython.core.display.Math object>"
      ]
     },
     "metadata": {},
     "output_type": "display_data"
    },
    {
     "data": {
      "text/latex": [
       "$\\displaystyle RLCTS = \\left[ \\left( a^{(4234)}_{3}, \\  4\\right), \\  \\left( a^{(4234)}_{4}, \\  4\\right), \\  \\left( b^{(4234)}_{2}, \\  4\\right), \\  \\left( b^{(4234)}_{4}, \\  4\\right)\\right]$"
      ],
      "text/plain": [
       "<IPython.core.display.Math object>"
      ]
     },
     "metadata": {},
     "output_type": "display_data"
    },
    {
     "data": {
      "text/latex": [
       "$\\displaystyle (\\lambda, m) = (4, 0)$"
      ],
      "text/plain": [
       "<IPython.core.display.Math object>"
      ]
     },
     "metadata": {},
     "output_type": "display_data"
    },
    {
     "data": {
      "text/latex": [
       "$\\displaystyle a^{(4233)}_{3} a^{(4233)}_{4} b^{(4233)}_{2} b^{(4233)}_{3} \\left(a^{(4233)}_{1} b^{(4233)}_{1} + a^{(4233)}_{2} + b^{(4233)}_{4} + 1\\right)$"
      ],
      "text/plain": [
       "<IPython.core.display.Math object>"
      ]
     },
     "metadata": {},
     "output_type": "display_data"
    },
    {
     "data": {
      "text/latex": [
       "$\\displaystyle RLCTS = \\left[ \\left( a^{(4233)}_{3}, \\  4\\right), \\  \\left( a^{(4233)}_{4}, \\  4\\right), \\  \\left( b^{(4233)}_{2}, \\  4\\right), \\  \\left( b^{(4233)}_{3}, \\  4\\right)\\right]$"
      ],
      "text/plain": [
       "<IPython.core.display.Math object>"
      ]
     },
     "metadata": {},
     "output_type": "display_data"
    },
    {
     "data": {
      "text/latex": [
       "$\\displaystyle (\\lambda, m) = (4, 0)$"
      ],
      "text/plain": [
       "<IPython.core.display.Math object>"
      ]
     },
     "metadata": {},
     "output_type": "display_data"
    },
    {
     "data": {
      "text/latex": [
       "$\\displaystyle a^{(4232)}_{2} a^{(4232)}_{3} a^{(4232)}_{4} b^{(4232)}_{2} \\left(a^{(4232)}_{1} b^{(4232)}_{1} + b^{(4232)}_{3} + b^{(4232)}_{4} + 1\\right)$"
      ],
      "text/plain": [
       "<IPython.core.display.Math object>"
      ]
     },
     "metadata": {},
     "output_type": "display_data"
    },
    {
     "data": {
      "text/latex": [
       "$\\displaystyle RLCTS = \\left[ \\left( a^{(4232)}_{2}, \\  4\\right), \\  \\left( a^{(4232)}_{3}, \\  4\\right), \\  \\left( a^{(4232)}_{4}, \\  4\\right), \\  \\left( b^{(4232)}_{2}, \\  4\\right)\\right]$"
      ],
      "text/plain": [
       "<IPython.core.display.Math object>"
      ]
     },
     "metadata": {},
     "output_type": "display_data"
    },
    {
     "data": {
      "text/latex": [
       "$\\displaystyle (\\lambda, m) = (4, 0)$"
      ],
      "text/plain": [
       "<IPython.core.display.Math object>"
      ]
     },
     "metadata": {},
     "output_type": "display_data"
    },
    {
     "data": {
      "text/latex": [
       "$\\displaystyle a^{(4231)}_{1} a^{(4231)}_{3} a^{(4231)}_{4} b^{(4231)}_{2} \\left(a^{(4231)}_{2} + b^{(4231)}_{1} + b^{(4231)}_{3} + b^{(4231)}_{4}\\right)$"
      ],
      "text/plain": [
       "<IPython.core.display.Math object>"
      ]
     },
     "metadata": {},
     "output_type": "display_data"
    },
    {
     "name": "stdout",
     "output_type": "stream",
     "text": [
      "\n",
      "---------------\n",
      "Current expression: \n"
     ]
    },
    {
     "data": {
      "text/latex": [
       "$\\displaystyle a^{(4231)}_{1} a^{(4231)}_{3} a^{(4231)}_{4} b^{(4231)}_{2} \\left(a^{(4231)}_{2} + b^{(4231)}_{1} + b^{(4231)}_{3} + b^{(4231)}_{4}\\right)$"
      ],
      "text/plain": [
       "<IPython.core.display.Math object>"
      ]
     },
     "metadata": {},
     "output_type": "display_data"
    },
    {
     "name": "stdout",
     "output_type": "stream",
     "text": [
      "Blowup coords    : [2, 1, 5, 7]\n"
     ]
    },
    {
     "data": {
      "text/latex": [
       "$\\displaystyle Blowup variables : \\left[ a^{(4231)}_{2}, \\  b^{(4231)}_{1}, \\  b^{(4231)}_{3}, \\  b^{(4231)}_{4}\\right]$"
      ],
      "text/plain": [
       "<IPython.core.display.Math object>"
      ]
     },
     "metadata": {},
     "output_type": "display_data"
    },
    {
     "data": {
      "text/latex": [
       "$\\displaystyle a^{(42314)}_{1} a^{(42314)}_{3} a^{(42314)}_{4} b^{(42314)}_{2} b^{(42314)}_{4} \\left(a^{(42314)}_{2} + b^{(42314)}_{1} + b^{(42314)}_{3} + 1\\right)$"
      ],
      "text/plain": [
       "<IPython.core.display.Math object>"
      ]
     },
     "metadata": {},
     "output_type": "display_data"
    },
    {
     "data": {
      "text/latex": [
       "$\\displaystyle RLCTS = \\left[ \\left( a^{(42314)}_{1}, \\  4\\right), \\  \\left( a^{(42314)}_{3}, \\  4\\right), \\  \\left( a^{(42314)}_{4}, \\  4\\right), \\  \\left( b^{(42314)}_{2}, \\  4\\right), \\  \\left( b^{(42314)}_{4}, \\  4\\right)\\right]$"
      ],
      "text/plain": [
       "<IPython.core.display.Math object>"
      ]
     },
     "metadata": {},
     "output_type": "display_data"
    },
    {
     "data": {
      "text/latex": [
       "$\\displaystyle (\\lambda, m) = (4, 0)$"
      ],
      "text/plain": [
       "<IPython.core.display.Math object>"
      ]
     },
     "metadata": {},
     "output_type": "display_data"
    },
    {
     "data": {
      "text/latex": [
       "$\\displaystyle a^{(42313)}_{1} a^{(42313)}_{3} a^{(42313)}_{4} b^{(42313)}_{2} b^{(42313)}_{3} \\left(a^{(42313)}_{2} + b^{(42313)}_{1} + b^{(42313)}_{4} + 1\\right)$"
      ],
      "text/plain": [
       "<IPython.core.display.Math object>"
      ]
     },
     "metadata": {},
     "output_type": "display_data"
    },
    {
     "data": {
      "text/latex": [
       "$\\displaystyle RLCTS = \\left[ \\left( a^{(42313)}_{1}, \\  4\\right), \\  \\left( a^{(42313)}_{3}, \\  4\\right), \\  \\left( a^{(42313)}_{4}, \\  4\\right), \\  \\left( b^{(42313)}_{2}, \\  4\\right), \\  \\left( b^{(42313)}_{3}, \\  4\\right)\\right]$"
      ],
      "text/plain": [
       "<IPython.core.display.Math object>"
      ]
     },
     "metadata": {},
     "output_type": "display_data"
    },
    {
     "data": {
      "text/latex": [
       "$\\displaystyle (\\lambda, m) = (4, 0)$"
      ],
      "text/plain": [
       "<IPython.core.display.Math object>"
      ]
     },
     "metadata": {},
     "output_type": "display_data"
    },
    {
     "data": {
      "text/latex": [
       "$\\displaystyle a^{(42312)}_{1} a^{(42312)}_{2} a^{(42312)}_{3} a^{(42312)}_{4} b^{(42312)}_{2} \\left(b^{(42312)}_{1} + b^{(42312)}_{3} + b^{(42312)}_{4} + 1\\right)$"
      ],
      "text/plain": [
       "<IPython.core.display.Math object>"
      ]
     },
     "metadata": {},
     "output_type": "display_data"
    },
    {
     "data": {
      "text/latex": [
       "$\\displaystyle RLCTS = \\left[ \\left( a^{(42312)}_{1}, \\  4\\right), \\  \\left( a^{(42312)}_{2}, \\  4\\right), \\  \\left( a^{(42312)}_{3}, \\  4\\right), \\  \\left( a^{(42312)}_{4}, \\  4\\right), \\  \\left( b^{(42312)}_{2}, \\  4\\right)\\right]$"
      ],
      "text/plain": [
       "<IPython.core.display.Math object>"
      ]
     },
     "metadata": {},
     "output_type": "display_data"
    },
    {
     "data": {
      "text/latex": [
       "$\\displaystyle (\\lambda, m) = (4, 0)$"
      ],
      "text/plain": [
       "<IPython.core.display.Math object>"
      ]
     },
     "metadata": {},
     "output_type": "display_data"
    },
    {
     "data": {
      "text/latex": [
       "$\\displaystyle a^{(42311)}_{1} a^{(42311)}_{3} a^{(42311)}_{4} b^{(42311)}_{1} b^{(42311)}_{2} \\left(a^{(42311)}_{2} + b^{(42311)}_{3} + b^{(42311)}_{4} + 1\\right)$"
      ],
      "text/plain": [
       "<IPython.core.display.Math object>"
      ]
     },
     "metadata": {},
     "output_type": "display_data"
    },
    {
     "data": {
      "text/latex": [
       "$\\displaystyle RLCTS = \\left[ \\left( a^{(42311)}_{1}, \\  4\\right), \\  \\left( a^{(42311)}_{3}, \\  4\\right), \\  \\left( a^{(42311)}_{4}, \\  4\\right), \\  \\left( b^{(42311)}_{1}, \\  4\\right), \\  \\left( b^{(42311)}_{2}, \\  4\\right)\\right]$"
      ],
      "text/plain": [
       "<IPython.core.display.Math object>"
      ]
     },
     "metadata": {},
     "output_type": "display_data"
    },
    {
     "data": {
      "text/latex": [
       "$\\displaystyle (\\lambda, m) = (4, 0)$"
      ],
      "text/plain": [
       "<IPython.core.display.Math object>"
      ]
     },
     "metadata": {},
     "output_type": "display_data"
    },
    {
     "name": "stdout",
     "output_type": "stream",
     "text": [
      "\n",
      "---------------\n",
      "Current expression: \n"
     ]
    },
    {
     "data": {
      "text/latex": [
       "$\\displaystyle a^{(43)}_{4} b^{(43)}_{3} \\left(a^{(43)}_{1} b^{(43)}_{1} + a^{(43)}_{2} b^{(43)}_{2} + a^{(43)}_{3} + b^{(43)}_{4}\\right)$"
      ],
      "text/plain": [
       "<IPython.core.display.Math object>"
      ]
     },
     "metadata": {},
     "output_type": "display_data"
    },
    {
     "name": "stdout",
     "output_type": "stream",
     "text": [
      "Blowup coords    : [4, 7, 1, 3]\n"
     ]
    },
    {
     "data": {
      "text/latex": [
       "$\\displaystyle Blowup variables : \\left[ a^{(43)}_{3}, \\  b^{(43)}_{4}, \\  b^{(43)}_{1}, \\  b^{(43)}_{2}\\right]$"
      ],
      "text/plain": [
       "<IPython.core.display.Math object>"
      ]
     },
     "metadata": {},
     "output_type": "display_data"
    },
    {
     "data": {
      "text/latex": [
       "$\\displaystyle a^{(434)}_{4} b^{(434)}_{3} b^{(434)}_{4} \\left(a^{(434)}_{1} b^{(434)}_{1} + a^{(434)}_{2} b^{(434)}_{2} + a^{(434)}_{3} + 1\\right)$"
      ],
      "text/plain": [
       "<IPython.core.display.Math object>"
      ]
     },
     "metadata": {},
     "output_type": "display_data"
    },
    {
     "data": {
      "text/latex": [
       "$\\displaystyle RLCTS = \\left[ \\left( a^{(434)}_{4}, \\  4\\right), \\  \\left( b^{(434)}_{3}, \\  4\\right), \\  \\left( b^{(434)}_{4}, \\  4\\right)\\right]$"
      ],
      "text/plain": [
       "<IPython.core.display.Math object>"
      ]
     },
     "metadata": {},
     "output_type": "display_data"
    },
    {
     "data": {
      "text/latex": [
       "$\\displaystyle (\\lambda, m) = (4, 0)$"
      ],
      "text/plain": [
       "<IPython.core.display.Math object>"
      ]
     },
     "metadata": {},
     "output_type": "display_data"
    },
    {
     "data": {
      "text/latex": [
       "$\\displaystyle a^{(433)}_{3} a^{(433)}_{4} b^{(433)}_{3} \\left(a^{(433)}_{1} b^{(433)}_{1} + a^{(433)}_{2} b^{(433)}_{2} + b^{(433)}_{4} + 1\\right)$"
      ],
      "text/plain": [
       "<IPython.core.display.Math object>"
      ]
     },
     "metadata": {},
     "output_type": "display_data"
    },
    {
     "data": {
      "text/latex": [
       "$\\displaystyle RLCTS = \\left[ \\left( a^{(433)}_{3}, \\  4\\right), \\  \\left( a^{(433)}_{4}, \\  4\\right), \\  \\left( b^{(433)}_{3}, \\  4\\right)\\right]$"
      ],
      "text/plain": [
       "<IPython.core.display.Math object>"
      ]
     },
     "metadata": {},
     "output_type": "display_data"
    },
    {
     "data": {
      "text/latex": [
       "$\\displaystyle (\\lambda, m) = (4, 0)$"
      ],
      "text/plain": [
       "<IPython.core.display.Math object>"
      ]
     },
     "metadata": {},
     "output_type": "display_data"
    },
    {
     "data": {
      "text/latex": [
       "$\\displaystyle a^{(432)}_{4} b^{(432)}_{2} b^{(432)}_{3} \\left(a^{(432)}_{1} b^{(432)}_{1} + a^{(432)}_{2} + a^{(432)}_{3} + b^{(432)}_{4}\\right)$"
      ],
      "text/plain": [
       "<IPython.core.display.Math object>"
      ]
     },
     "metadata": {},
     "output_type": "display_data"
    },
    {
     "data": {
      "text/latex": [
       "$\\displaystyle a^{(431)}_{4} b^{(431)}_{1} b^{(431)}_{3} \\left(a^{(431)}_{1} + a^{(431)}_{2} b^{(431)}_{2} + a^{(431)}_{3} + b^{(431)}_{4}\\right)$"
      ],
      "text/plain": [
       "<IPython.core.display.Math object>"
      ]
     },
     "metadata": {},
     "output_type": "display_data"
    },
    {
     "name": "stdout",
     "output_type": "stream",
     "text": [
      "\n",
      "---------------\n",
      "Current expression: \n"
     ]
    },
    {
     "data": {
      "text/latex": [
       "$\\displaystyle a^{(431)}_{4} b^{(431)}_{1} b^{(431)}_{3} \\left(a^{(431)}_{1} + a^{(431)}_{2} b^{(431)}_{2} + a^{(431)}_{3} + b^{(431)}_{4}\\right)$"
      ],
      "text/plain": [
       "<IPython.core.display.Math object>"
      ]
     },
     "metadata": {},
     "output_type": "display_data"
    },
    {
     "name": "stdout",
     "output_type": "stream",
     "text": [
      "Blowup coords    : [0, 4, 7, 3]\n"
     ]
    },
    {
     "data": {
      "text/latex": [
       "$\\displaystyle Blowup variables : \\left[ a^{(431)}_{1}, \\  a^{(431)}_{3}, \\  b^{(431)}_{4}, \\  b^{(431)}_{2}\\right]$"
      ],
      "text/plain": [
       "<IPython.core.display.Math object>"
      ]
     },
     "metadata": {},
     "output_type": "display_data"
    },
    {
     "data": {
      "text/latex": [
       "$\\displaystyle a^{(4314)}_{4} b^{(4314)}_{1} b^{(4314)}_{3} b^{(4314)}_{4} \\left(a^{(4314)}_{1} + a^{(4314)}_{2} b^{(4314)}_{2} + a^{(4314)}_{3} + 1\\right)$"
      ],
      "text/plain": [
       "<IPython.core.display.Math object>"
      ]
     },
     "metadata": {},
     "output_type": "display_data"
    },
    {
     "data": {
      "text/latex": [
       "$\\displaystyle RLCTS = \\left[ \\left( a^{(4314)}_{4}, \\  4\\right), \\  \\left( b^{(4314)}_{1}, \\  4\\right), \\  \\left( b^{(4314)}_{3}, \\  4\\right), \\  \\left( b^{(4314)}_{4}, \\  4\\right)\\right]$"
      ],
      "text/plain": [
       "<IPython.core.display.Math object>"
      ]
     },
     "metadata": {},
     "output_type": "display_data"
    },
    {
     "data": {
      "text/latex": [
       "$\\displaystyle (\\lambda, m) = (4, 0)$"
      ],
      "text/plain": [
       "<IPython.core.display.Math object>"
      ]
     },
     "metadata": {},
     "output_type": "display_data"
    },
    {
     "data": {
      "text/latex": [
       "$\\displaystyle a^{(4313)}_{3} a^{(4313)}_{4} b^{(4313)}_{1} b^{(4313)}_{3} \\left(a^{(4313)}_{1} + a^{(4313)}_{2} b^{(4313)}_{2} + b^{(4313)}_{4} + 1\\right)$"
      ],
      "text/plain": [
       "<IPython.core.display.Math object>"
      ]
     },
     "metadata": {},
     "output_type": "display_data"
    },
    {
     "data": {
      "text/latex": [
       "$\\displaystyle RLCTS = \\left[ \\left( a^{(4313)}_{3}, \\  4\\right), \\  \\left( a^{(4313)}_{4}, \\  4\\right), \\  \\left( b^{(4313)}_{1}, \\  4\\right), \\  \\left( b^{(4313)}_{3}, \\  4\\right)\\right]$"
      ],
      "text/plain": [
       "<IPython.core.display.Math object>"
      ]
     },
     "metadata": {},
     "output_type": "display_data"
    },
    {
     "data": {
      "text/latex": [
       "$\\displaystyle (\\lambda, m) = (4, 0)$"
      ],
      "text/plain": [
       "<IPython.core.display.Math object>"
      ]
     },
     "metadata": {},
     "output_type": "display_data"
    },
    {
     "data": {
      "text/latex": [
       "$\\displaystyle a^{(4312)}_{4} b^{(4312)}_{1} b^{(4312)}_{2} b^{(4312)}_{3} \\left(a^{(4312)}_{1} + a^{(4312)}_{2} + a^{(4312)}_{3} + b^{(4312)}_{4}\\right)$"
      ],
      "text/plain": [
       "<IPython.core.display.Math object>"
      ]
     },
     "metadata": {},
     "output_type": "display_data"
    },
    {
     "data": {
      "text/latex": [
       "$\\displaystyle a^{(4311)}_{1} a^{(4311)}_{4} b^{(4311)}_{1} b^{(4311)}_{3} \\left(a^{(4311)}_{2} b^{(4311)}_{2} + a^{(4311)}_{3} + b^{(4311)}_{4} + 1\\right)$"
      ],
      "text/plain": [
       "<IPython.core.display.Math object>"
      ]
     },
     "metadata": {},
     "output_type": "display_data"
    },
    {
     "data": {
      "text/latex": [
       "$\\displaystyle RLCTS = \\left[ \\left( a^{(4311)}_{1}, \\  4\\right), \\  \\left( a^{(4311)}_{4}, \\  4\\right), \\  \\left( b^{(4311)}_{1}, \\  4\\right), \\  \\left( b^{(4311)}_{3}, \\  4\\right)\\right]$"
      ],
      "text/plain": [
       "<IPython.core.display.Math object>"
      ]
     },
     "metadata": {},
     "output_type": "display_data"
    },
    {
     "data": {
      "text/latex": [
       "$\\displaystyle (\\lambda, m) = (4, 0)$"
      ],
      "text/plain": [
       "<IPython.core.display.Math object>"
      ]
     },
     "metadata": {},
     "output_type": "display_data"
    },
    {
     "name": "stdout",
     "output_type": "stream",
     "text": [
      "\n",
      "---------------\n",
      "Current expression: \n"
     ]
    },
    {
     "data": {
      "text/latex": [
       "$\\displaystyle a^{(4312)}_{4} b^{(4312)}_{1} b^{(4312)}_{2} b^{(4312)}_{3} \\left(a^{(4312)}_{1} + a^{(4312)}_{2} + a^{(4312)}_{3} + b^{(4312)}_{4}\\right)$"
      ],
      "text/plain": [
       "<IPython.core.display.Math object>"
      ]
     },
     "metadata": {},
     "output_type": "display_data"
    },
    {
     "name": "stdout",
     "output_type": "stream",
     "text": [
      "Blowup coords    : [0, 2, 4, 7]\n"
     ]
    },
    {
     "data": {
      "text/latex": [
       "$\\displaystyle Blowup variables : \\left[ a^{(4312)}_{1}, \\  a^{(4312)}_{2}, \\  a^{(4312)}_{3}, \\  b^{(4312)}_{4}\\right]$"
      ],
      "text/plain": [
       "<IPython.core.display.Math object>"
      ]
     },
     "metadata": {},
     "output_type": "display_data"
    },
    {
     "data": {
      "text/latex": [
       "$\\displaystyle a^{(43124)}_{4} b^{(43124)}_{1} b^{(43124)}_{2} b^{(43124)}_{3} b^{(43124)}_{4} \\left(a^{(43124)}_{1} + a^{(43124)}_{2} + a^{(43124)}_{3} + 1\\right)$"
      ],
      "text/plain": [
       "<IPython.core.display.Math object>"
      ]
     },
     "metadata": {},
     "output_type": "display_data"
    },
    {
     "data": {
      "text/latex": [
       "$\\displaystyle RLCTS = \\left[ \\left( a^{(43124)}_{4}, \\  4\\right), \\  \\left( b^{(43124)}_{1}, \\  4\\right), \\  \\left( b^{(43124)}_{2}, \\  4\\right), \\  \\left( b^{(43124)}_{3}, \\  4\\right), \\  \\left( b^{(43124)}_{4}, \\  4\\right)\\right]$"
      ],
      "text/plain": [
       "<IPython.core.display.Math object>"
      ]
     },
     "metadata": {},
     "output_type": "display_data"
    },
    {
     "data": {
      "text/latex": [
       "$\\displaystyle (\\lambda, m) = (4, 0)$"
      ],
      "text/plain": [
       "<IPython.core.display.Math object>"
      ]
     },
     "metadata": {},
     "output_type": "display_data"
    },
    {
     "data": {
      "text/latex": [
       "$\\displaystyle a^{(43123)}_{3} a^{(43123)}_{4} b^{(43123)}_{1} b^{(43123)}_{2} b^{(43123)}_{3} \\left(a^{(43123)}_{1} + a^{(43123)}_{2} + b^{(43123)}_{4} + 1\\right)$"
      ],
      "text/plain": [
       "<IPython.core.display.Math object>"
      ]
     },
     "metadata": {},
     "output_type": "display_data"
    },
    {
     "data": {
      "text/latex": [
       "$\\displaystyle RLCTS = \\left[ \\left( a^{(43123)}_{3}, \\  4\\right), \\  \\left( a^{(43123)}_{4}, \\  4\\right), \\  \\left( b^{(43123)}_{1}, \\  4\\right), \\  \\left( b^{(43123)}_{2}, \\  4\\right), \\  \\left( b^{(43123)}_{3}, \\  4\\right)\\right]$"
      ],
      "text/plain": [
       "<IPython.core.display.Math object>"
      ]
     },
     "metadata": {},
     "output_type": "display_data"
    },
    {
     "data": {
      "text/latex": [
       "$\\displaystyle (\\lambda, m) = (4, 0)$"
      ],
      "text/plain": [
       "<IPython.core.display.Math object>"
      ]
     },
     "metadata": {},
     "output_type": "display_data"
    },
    {
     "data": {
      "text/latex": [
       "$\\displaystyle a^{(43122)}_{2} a^{(43122)}_{4} b^{(43122)}_{1} b^{(43122)}_{2} b^{(43122)}_{3} \\left(a^{(43122)}_{1} + a^{(43122)}_{3} + b^{(43122)}_{4} + 1\\right)$"
      ],
      "text/plain": [
       "<IPython.core.display.Math object>"
      ]
     },
     "metadata": {},
     "output_type": "display_data"
    },
    {
     "data": {
      "text/latex": [
       "$\\displaystyle RLCTS = \\left[ \\left( a^{(43122)}_{2}, \\  4\\right), \\  \\left( a^{(43122)}_{4}, \\  4\\right), \\  \\left( b^{(43122)}_{1}, \\  4\\right), \\  \\left( b^{(43122)}_{2}, \\  4\\right), \\  \\left( b^{(43122)}_{3}, \\  4\\right)\\right]$"
      ],
      "text/plain": [
       "<IPython.core.display.Math object>"
      ]
     },
     "metadata": {},
     "output_type": "display_data"
    },
    {
     "data": {
      "text/latex": [
       "$\\displaystyle (\\lambda, m) = (4, 0)$"
      ],
      "text/plain": [
       "<IPython.core.display.Math object>"
      ]
     },
     "metadata": {},
     "output_type": "display_data"
    },
    {
     "data": {
      "text/latex": [
       "$\\displaystyle a^{(43121)}_{1} a^{(43121)}_{4} b^{(43121)}_{1} b^{(43121)}_{2} b^{(43121)}_{3} \\left(a^{(43121)}_{2} + a^{(43121)}_{3} + b^{(43121)}_{4} + 1\\right)$"
      ],
      "text/plain": [
       "<IPython.core.display.Math object>"
      ]
     },
     "metadata": {},
     "output_type": "display_data"
    },
    {
     "data": {
      "text/latex": [
       "$\\displaystyle RLCTS = \\left[ \\left( a^{(43121)}_{1}, \\  4\\right), \\  \\left( a^{(43121)}_{4}, \\  4\\right), \\  \\left( b^{(43121)}_{1}, \\  4\\right), \\  \\left( b^{(43121)}_{2}, \\  4\\right), \\  \\left( b^{(43121)}_{3}, \\  4\\right)\\right]$"
      ],
      "text/plain": [
       "<IPython.core.display.Math object>"
      ]
     },
     "metadata": {},
     "output_type": "display_data"
    },
    {
     "data": {
      "text/latex": [
       "$\\displaystyle (\\lambda, m) = (4, 0)$"
      ],
      "text/plain": [
       "<IPython.core.display.Math object>"
      ]
     },
     "metadata": {},
     "output_type": "display_data"
    },
    {
     "name": "stdout",
     "output_type": "stream",
     "text": [
      "\n",
      "---------------\n",
      "Current expression: \n"
     ]
    },
    {
     "data": {
      "text/latex": [
       "$\\displaystyle a^{(432)}_{4} b^{(432)}_{2} b^{(432)}_{3} \\left(a^{(432)}_{1} b^{(432)}_{1} + a^{(432)}_{2} + a^{(432)}_{3} + b^{(432)}_{4}\\right)$"
      ],
      "text/plain": [
       "<IPython.core.display.Math object>"
      ]
     },
     "metadata": {},
     "output_type": "display_data"
    },
    {
     "name": "stdout",
     "output_type": "stream",
     "text": [
      "Blowup coords    : [2, 4, 7, 1]\n"
     ]
    },
    {
     "data": {
      "text/latex": [
       "$\\displaystyle Blowup variables : \\left[ a^{(432)}_{2}, \\  a^{(432)}_{3}, \\  b^{(432)}_{4}, \\  b^{(432)}_{1}\\right]$"
      ],
      "text/plain": [
       "<IPython.core.display.Math object>"
      ]
     },
     "metadata": {},
     "output_type": "display_data"
    },
    {
     "data": {
      "text/latex": [
       "$\\displaystyle a^{(4324)}_{4} b^{(4324)}_{2} b^{(4324)}_{3} b^{(4324)}_{4} \\left(a^{(4324)}_{1} b^{(4324)}_{1} + a^{(4324)}_{2} + a^{(4324)}_{3} + 1\\right)$"
      ],
      "text/plain": [
       "<IPython.core.display.Math object>"
      ]
     },
     "metadata": {},
     "output_type": "display_data"
    },
    {
     "data": {
      "text/latex": [
       "$\\displaystyle RLCTS = \\left[ \\left( a^{(4324)}_{4}, \\  4\\right), \\  \\left( b^{(4324)}_{2}, \\  4\\right), \\  \\left( b^{(4324)}_{3}, \\  4\\right), \\  \\left( b^{(4324)}_{4}, \\  4\\right)\\right]$"
      ],
      "text/plain": [
       "<IPython.core.display.Math object>"
      ]
     },
     "metadata": {},
     "output_type": "display_data"
    },
    {
     "data": {
      "text/latex": [
       "$\\displaystyle (\\lambda, m) = (4, 0)$"
      ],
      "text/plain": [
       "<IPython.core.display.Math object>"
      ]
     },
     "metadata": {},
     "output_type": "display_data"
    },
    {
     "data": {
      "text/latex": [
       "$\\displaystyle a^{(4323)}_{3} a^{(4323)}_{4} b^{(4323)}_{2} b^{(4323)}_{3} \\left(a^{(4323)}_{1} b^{(4323)}_{1} + a^{(4323)}_{2} + b^{(4323)}_{4} + 1\\right)$"
      ],
      "text/plain": [
       "<IPython.core.display.Math object>"
      ]
     },
     "metadata": {},
     "output_type": "display_data"
    },
    {
     "data": {
      "text/latex": [
       "$\\displaystyle RLCTS = \\left[ \\left( a^{(4323)}_{3}, \\  4\\right), \\  \\left( a^{(4323)}_{4}, \\  4\\right), \\  \\left( b^{(4323)}_{2}, \\  4\\right), \\  \\left( b^{(4323)}_{3}, \\  4\\right)\\right]$"
      ],
      "text/plain": [
       "<IPython.core.display.Math object>"
      ]
     },
     "metadata": {},
     "output_type": "display_data"
    },
    {
     "data": {
      "text/latex": [
       "$\\displaystyle (\\lambda, m) = (4, 0)$"
      ],
      "text/plain": [
       "<IPython.core.display.Math object>"
      ]
     },
     "metadata": {},
     "output_type": "display_data"
    },
    {
     "data": {
      "text/latex": [
       "$\\displaystyle a^{(4322)}_{2} a^{(4322)}_{4} b^{(4322)}_{2} b^{(4322)}_{3} \\left(a^{(4322)}_{1} b^{(4322)}_{1} + a^{(4322)}_{3} + b^{(4322)}_{4} + 1\\right)$"
      ],
      "text/plain": [
       "<IPython.core.display.Math object>"
      ]
     },
     "metadata": {},
     "output_type": "display_data"
    },
    {
     "data": {
      "text/latex": [
       "$\\displaystyle RLCTS = \\left[ \\left( a^{(4322)}_{2}, \\  4\\right), \\  \\left( a^{(4322)}_{4}, \\  4\\right), \\  \\left( b^{(4322)}_{2}, \\  4\\right), \\  \\left( b^{(4322)}_{3}, \\  4\\right)\\right]$"
      ],
      "text/plain": [
       "<IPython.core.display.Math object>"
      ]
     },
     "metadata": {},
     "output_type": "display_data"
    },
    {
     "data": {
      "text/latex": [
       "$\\displaystyle (\\lambda, m) = (4, 0)$"
      ],
      "text/plain": [
       "<IPython.core.display.Math object>"
      ]
     },
     "metadata": {},
     "output_type": "display_data"
    },
    {
     "data": {
      "text/latex": [
       "$\\displaystyle a^{(4321)}_{4} b^{(4321)}_{1} b^{(4321)}_{2} b^{(4321)}_{3} \\left(a^{(4321)}_{1} + a^{(4321)}_{2} + a^{(4321)}_{3} + b^{(4321)}_{4}\\right)$"
      ],
      "text/plain": [
       "<IPython.core.display.Math object>"
      ]
     },
     "metadata": {},
     "output_type": "display_data"
    },
    {
     "name": "stdout",
     "output_type": "stream",
     "text": [
      "\n",
      "---------------\n",
      "Current expression: \n"
     ]
    },
    {
     "data": {
      "text/latex": [
       "$\\displaystyle a^{(4321)}_{4} b^{(4321)}_{1} b^{(4321)}_{2} b^{(4321)}_{3} \\left(a^{(4321)}_{1} + a^{(4321)}_{2} + a^{(4321)}_{3} + b^{(4321)}_{4}\\right)$"
      ],
      "text/plain": [
       "<IPython.core.display.Math object>"
      ]
     },
     "metadata": {},
     "output_type": "display_data"
    },
    {
     "name": "stdout",
     "output_type": "stream",
     "text": [
      "Blowup coords    : [0, 2, 4, 7]\n"
     ]
    },
    {
     "data": {
      "text/latex": [
       "$\\displaystyle Blowup variables : \\left[ a^{(4321)}_{1}, \\  a^{(4321)}_{2}, \\  a^{(4321)}_{3}, \\  b^{(4321)}_{4}\\right]$"
      ],
      "text/plain": [
       "<IPython.core.display.Math object>"
      ]
     },
     "metadata": {},
     "output_type": "display_data"
    },
    {
     "data": {
      "text/latex": [
       "$\\displaystyle a^{(43214)}_{4} b^{(43214)}_{1} b^{(43214)}_{2} b^{(43214)}_{3} b^{(43214)}_{4} \\left(a^{(43214)}_{1} + a^{(43214)}_{2} + a^{(43214)}_{3} + 1\\right)$"
      ],
      "text/plain": [
       "<IPython.core.display.Math object>"
      ]
     },
     "metadata": {},
     "output_type": "display_data"
    },
    {
     "data": {
      "text/latex": [
       "$\\displaystyle RLCTS = \\left[ \\left( a^{(43214)}_{4}, \\  4\\right), \\  \\left( b^{(43214)}_{1}, \\  4\\right), \\  \\left( b^{(43214)}_{2}, \\  4\\right), \\  \\left( b^{(43214)}_{3}, \\  4\\right), \\  \\left( b^{(43214)}_{4}, \\  4\\right)\\right]$"
      ],
      "text/plain": [
       "<IPython.core.display.Math object>"
      ]
     },
     "metadata": {},
     "output_type": "display_data"
    },
    {
     "data": {
      "text/latex": [
       "$\\displaystyle (\\lambda, m) = (4, 0)$"
      ],
      "text/plain": [
       "<IPython.core.display.Math object>"
      ]
     },
     "metadata": {},
     "output_type": "display_data"
    },
    {
     "data": {
      "text/latex": [
       "$\\displaystyle a^{(43213)}_{3} a^{(43213)}_{4} b^{(43213)}_{1} b^{(43213)}_{2} b^{(43213)}_{3} \\left(a^{(43213)}_{1} + a^{(43213)}_{2} + b^{(43213)}_{4} + 1\\right)$"
      ],
      "text/plain": [
       "<IPython.core.display.Math object>"
      ]
     },
     "metadata": {},
     "output_type": "display_data"
    },
    {
     "data": {
      "text/latex": [
       "$\\displaystyle RLCTS = \\left[ \\left( a^{(43213)}_{3}, \\  4\\right), \\  \\left( a^{(43213)}_{4}, \\  4\\right), \\  \\left( b^{(43213)}_{1}, \\  4\\right), \\  \\left( b^{(43213)}_{2}, \\  4\\right), \\  \\left( b^{(43213)}_{3}, \\  4\\right)\\right]$"
      ],
      "text/plain": [
       "<IPython.core.display.Math object>"
      ]
     },
     "metadata": {},
     "output_type": "display_data"
    },
    {
     "data": {
      "text/latex": [
       "$\\displaystyle (\\lambda, m) = (4, 0)$"
      ],
      "text/plain": [
       "<IPython.core.display.Math object>"
      ]
     },
     "metadata": {},
     "output_type": "display_data"
    },
    {
     "data": {
      "text/latex": [
       "$\\displaystyle a^{(43212)}_{2} a^{(43212)}_{4} b^{(43212)}_{1} b^{(43212)}_{2} b^{(43212)}_{3} \\left(a^{(43212)}_{1} + a^{(43212)}_{3} + b^{(43212)}_{4} + 1\\right)$"
      ],
      "text/plain": [
       "<IPython.core.display.Math object>"
      ]
     },
     "metadata": {},
     "output_type": "display_data"
    },
    {
     "data": {
      "text/latex": [
       "$\\displaystyle RLCTS = \\left[ \\left( a^{(43212)}_{2}, \\  4\\right), \\  \\left( a^{(43212)}_{4}, \\  4\\right), \\  \\left( b^{(43212)}_{1}, \\  4\\right), \\  \\left( b^{(43212)}_{2}, \\  4\\right), \\  \\left( b^{(43212)}_{3}, \\  4\\right)\\right]$"
      ],
      "text/plain": [
       "<IPython.core.display.Math object>"
      ]
     },
     "metadata": {},
     "output_type": "display_data"
    },
    {
     "data": {
      "text/latex": [
       "$\\displaystyle (\\lambda, m) = (4, 0)$"
      ],
      "text/plain": [
       "<IPython.core.display.Math object>"
      ]
     },
     "metadata": {},
     "output_type": "display_data"
    },
    {
     "data": {
      "text/latex": [
       "$\\displaystyle a^{(43211)}_{1} a^{(43211)}_{4} b^{(43211)}_{1} b^{(43211)}_{2} b^{(43211)}_{3} \\left(a^{(43211)}_{2} + a^{(43211)}_{3} + b^{(43211)}_{4} + 1\\right)$"
      ],
      "text/plain": [
       "<IPython.core.display.Math object>"
      ]
     },
     "metadata": {},
     "output_type": "display_data"
    },
    {
     "data": {
      "text/latex": [
       "$\\displaystyle RLCTS = \\left[ \\left( a^{(43211)}_{1}, \\  4\\right), \\  \\left( a^{(43211)}_{4}, \\  4\\right), \\  \\left( b^{(43211)}_{1}, \\  4\\right), \\  \\left( b^{(43211)}_{2}, \\  4\\right), \\  \\left( b^{(43211)}_{3}, \\  4\\right)\\right]$"
      ],
      "text/plain": [
       "<IPython.core.display.Math object>"
      ]
     },
     "metadata": {},
     "output_type": "display_data"
    },
    {
     "data": {
      "text/latex": [
       "$\\displaystyle (\\lambda, m) = (4, 0)$"
      ],
      "text/plain": [
       "<IPython.core.display.Math object>"
      ]
     },
     "metadata": {},
     "output_type": "display_data"
    },
    {
     "name": "stdout",
     "output_type": "stream",
     "text": [
      "Task stack empty\n"
     ]
    }
   ],
   "source": [
    "btree.auto_blowup()"
   ]
  },
  {
   "cell_type": "code",
   "execution_count": 7,
   "id": "1a4b40f7-219a-431d-8ef5-e2f6021bb8ba",
   "metadata": {},
   "outputs": [
    {
     "data": {
      "text/plain": [
       "(<Figure size 800x800 with 1 Axes>, <AxesSubplot: >)"
      ]
     },
     "execution_count": 7,
     "metadata": {},
     "output_type": "execute_result"
    },
    {
     "data": {
      "image/png": "[encoded data removed]",
      "text/plain": [
       "<Figure size 800x800 with 1 Axes>"
      ]
     },
     "metadata": {},
     "output_type": "display_data"
    }
   ],
   "source": [
    "btree.display_tree(figsize=(8, 8))"
   ]
  },
  {
   "cell_type": "code",
   "execution_count": 8,
   "id": "e77a25b5-ad00-4744-9580-c2f29973e750",
   "metadata": {},
   "outputs": [
    {
     "data": {
      "text/latex": [
       "$\\displaystyle a^{(44)}_{4} b^{(44)}_{4} \\left(a^{(44)}_{1} b^{(44)}_{1} + a^{(44)}_{2} b^{(44)}_{2} + a^{(44)}_{3} b^{(44)}_{3} + 1\\right)$"
      ],
      "text/plain": [
       "<IPython.core.display.Math object>"
      ]
     },
     "metadata": {},
     "output_type": "display_data"
    },
    {
     "data": {
      "text/latex": [
       "$\\displaystyle \\left(a^{(44)}_{4}\\right)^{3} \\left(b^{(44)}_{4}\\right)^{3}$"
      ],
      "text/plain": [
       "<IPython.core.display.Math object>"
      ]
     },
     "metadata": {},
     "output_type": "display_data"
    },
    {
     "name": "stdout",
     "output_type": "stream",
     "text": [
      "4 2\n"
     ]
    },
    {
     "data": {
      "text/latex": [
       "$\\displaystyle a^{(33)}_{3} b^{(33)}_{3} \\left(a^{(33)}_{1} b^{(33)}_{1} + a^{(33)}_{2} b^{(33)}_{2} + a^{(33)}_{4} b^{(33)}_{4} + 1\\right)$"
      ],
      "text/plain": [
       "<IPython.core.display.Math object>"
      ]
     },
     "metadata": {},
     "output_type": "display_data"
    },
    {
     "data": {
      "text/latex": [
       "$\\displaystyle \\left(a^{(33)}_{3}\\right)^{3} \\left(b^{(33)}_{3}\\right)^{3}$"
      ],
      "text/plain": [
       "<IPython.core.display.Math object>"
      ]
     },
     "metadata": {},
     "output_type": "display_data"
    },
    {
     "name": "stdout",
     "output_type": "stream",
     "text": [
      "4 2\n"
     ]
    },
    {
     "data": {
      "text/latex": [
       "$\\displaystyle a^{(22)}_{2} b^{(22)}_{2} \\left(a^{(22)}_{1} b^{(22)}_{1} + a^{(22)}_{3} b^{(22)}_{3} + a^{(22)}_{4} b^{(22)}_{4} + 1\\right)$"
      ],
      "text/plain": [
       "<IPython.core.display.Math object>"
      ]
     },
     "metadata": {},
     "output_type": "display_data"
    },
    {
     "data": {
      "text/latex": [
       "$\\displaystyle \\left(a^{(22)}_{2}\\right)^{3} \\left(b^{(22)}_{2}\\right)^{3}$"
      ],
      "text/plain": [
       "<IPython.core.display.Math object>"
      ]
     },
     "metadata": {},
     "output_type": "display_data"
    },
    {
     "name": "stdout",
     "output_type": "stream",
     "text": [
      "4 2\n"
     ]
    },
    {
     "data": {
      "text/latex": [
       "$\\displaystyle a^{(11)}_{1} b^{(11)}_{1} \\left(a^{(11)}_{2} b^{(11)}_{2} + a^{(11)}_{3} b^{(11)}_{3} + a^{(11)}_{4} b^{(11)}_{4} + 1\\right)$"
      ],
      "text/plain": [
       "<IPython.core.display.Math object>"
      ]
     },
     "metadata": {},
     "output_type": "display_data"
    },
    {
     "data": {
      "text/latex": [
       "$\\displaystyle \\left(a^{(11)}_{1}\\right)^{3} \\left(b^{(11)}_{1}\\right)^{3}$"
      ],
      "text/plain": [
       "<IPython.core.display.Math object>"
      ]
     },
     "metadata": {},
     "output_type": "display_data"
    },
    {
     "name": "stdout",
     "output_type": "stream",
     "text": [
      "4 2\n"
     ]
    },
    {
     "data": {
      "text/latex": [
       "$\\displaystyle a^{(434)}_{4} b^{(434)}_{3} b^{(434)}_{4} \\left(a^{(434)}_{1} b^{(434)}_{1} + a^{(434)}_{2} b^{(434)}_{2} + a^{(434)}_{3} + 1\\right)$"
      ],
      "text/plain": [
       "<IPython.core.display.Math object>"
      ]
     },
     "metadata": {},
     "output_type": "display_data"
    },
    {
     "data": {
      "text/latex": [
       "$\\displaystyle \\left(a^{(434)}_{4}\\right)^{3} \\left(b^{(434)}_{3}\\right)^{3} \\left(b^{(434)}_{4}\\right)^{3}$"
      ],
      "text/plain": [
       "<IPython.core.display.Math object>"
      ]
     },
     "metadata": {},
     "output_type": "display_data"
    },
    {
     "name": "stdout",
     "output_type": "stream",
     "text": [
      "4 3\n"
     ]
    },
    {
     "data": {
      "text/latex": [
       "$\\displaystyle a^{(433)}_{3} a^{(433)}_{4} b^{(433)}_{3} \\left(a^{(433)}_{1} b^{(433)}_{1} + a^{(433)}_{2} b^{(433)}_{2} + b^{(433)}_{4} + 1\\right)$"
      ],
      "text/plain": [
       "<IPython.core.display.Math object>"
      ]
     },
     "metadata": {},
     "output_type": "display_data"
    },
    {
     "data": {
      "text/latex": [
       "$\\displaystyle \\left(a^{(433)}_{3}\\right)^{3} \\left(a^{(433)}_{4}\\right)^{3} \\left(b^{(433)}_{3}\\right)^{3}$"
      ],
      "text/plain": [
       "<IPython.core.display.Math object>"
      ]
     },
     "metadata": {},
     "output_type": "display_data"
    },
    {
     "name": "stdout",
     "output_type": "stream",
     "text": [
      "4 3\n"
     ]
    },
    {
     "data": {
      "text/latex": [
       "$\\displaystyle a^{(424)}_{4} b^{(424)}_{2} b^{(424)}_{4} \\left(a^{(424)}_{1} b^{(424)}_{1} + a^{(424)}_{2} + a^{(424)}_{3} b^{(424)}_{3} + 1\\right)$"
      ],
      "text/plain": [
       "<IPython.core.display.Math object>"
      ]
     },
     "metadata": {},
     "output_type": "display_data"
    },
    {
     "data": {
      "text/latex": [
       "$\\displaystyle \\left(a^{(424)}_{4}\\right)^{3} \\left(b^{(424)}_{2}\\right)^{3} \\left(b^{(424)}_{4}\\right)^{3}$"
      ],
      "text/plain": [
       "<IPython.core.display.Math object>"
      ]
     },
     "metadata": {},
     "output_type": "display_data"
    },
    {
     "name": "stdout",
     "output_type": "stream",
     "text": [
      "4 3\n"
     ]
    },
    {
     "data": {
      "text/latex": [
       "$\\displaystyle a^{(422)}_{2} a^{(422)}_{4} b^{(422)}_{2} \\left(a^{(422)}_{1} b^{(422)}_{1} + a^{(422)}_{3} b^{(422)}_{3} + b^{(422)}_{4} + 1\\right)$"
      ],
      "text/plain": [
       "<IPython.core.display.Math object>"
      ]
     },
     "metadata": {},
     "output_type": "display_data"
    },
    {
     "data": {
      "text/latex": [
       "$\\displaystyle \\left(a^{(422)}_{2}\\right)^{3} \\left(a^{(422)}_{4}\\right)^{3} \\left(b^{(422)}_{2}\\right)^{3}$"
      ],
      "text/plain": [
       "<IPython.core.display.Math object>"
      ]
     },
     "metadata": {},
     "output_type": "display_data"
    },
    {
     "name": "stdout",
     "output_type": "stream",
     "text": [
      "4 3\n"
     ]
    },
    {
     "data": {
      "text/latex": [
       "$\\displaystyle a^{(414)}_{1} a^{(414)}_{4} b^{(414)}_{4} \\left(a^{(414)}_{2} b^{(414)}_{2} + a^{(414)}_{3} b^{(414)}_{3} + b^{(414)}_{1} + 1\\right)$"
      ],
      "text/plain": [
       "<IPython.core.display.Math object>"
      ]
     },
     "metadata": {},
     "output_type": "display_data"
    },
    {
     "data": {
      "text/latex": [
       "$\\displaystyle \\left(a^{(414)}_{1}\\right)^{3} \\left(a^{(414)}_{4}\\right)^{3} \\left(b^{(414)}_{4}\\right)^{3}$"
      ],
      "text/plain": [
       "<IPython.core.display.Math object>"
      ]
     },
     "metadata": {},
     "output_type": "display_data"
    },
    {
     "name": "stdout",
     "output_type": "stream",
     "text": [
      "4 3\n"
     ]
    },
    {
     "data": {
      "text/latex": [
       "$\\displaystyle a^{(411)}_{1} a^{(411)}_{4} b^{(411)}_{1} \\left(a^{(411)}_{2} b^{(411)}_{2} + a^{(411)}_{3} b^{(411)}_{3} + b^{(411)}_{4} + 1\\right)$"
      ],
      "text/plain": [
       "<IPython.core.display.Math object>"
      ]
     },
     "metadata": {},
     "output_type": "display_data"
    },
    {
     "data": {
      "text/latex": [
       "$\\displaystyle \\left(a^{(411)}_{1}\\right)^{3} \\left(a^{(411)}_{4}\\right)^{3} \\left(b^{(411)}_{1}\\right)^{3}$"
      ],
      "text/plain": [
       "<IPython.core.display.Math object>"
      ]
     },
     "metadata": {},
     "output_type": "display_data"
    },
    {
     "name": "stdout",
     "output_type": "stream",
     "text": [
      "4 3\n"
     ]
    },
    {
     "data": {
      "text/latex": [
       "$\\displaystyle a^{(344)}_{3} a^{(344)}_{4} b^{(344)}_{4} \\left(a^{(344)}_{1} b^{(344)}_{1} + a^{(344)}_{2} b^{(344)}_{2} + b^{(344)}_{3} + 1\\right)$"
      ],
      "text/plain": [
       "<IPython.core.display.Math object>"
      ]
     },
     "metadata": {},
     "output_type": "display_data"
    },
    {
     "data": {
      "text/latex": [
       "$\\displaystyle \\left(a^{(344)}_{3}\\right)^{3} \\left(a^{(344)}_{4}\\right)^{3} \\left(b^{(344)}_{4}\\right)^{3}$"
      ],
      "text/plain": [
       "<IPython.core.display.Math object>"
      ]
     },
     "metadata": {},
     "output_type": "display_data"
    },
    {
     "name": "stdout",
     "output_type": "stream",
     "text": [
      "4 3\n"
     ]
    },
    {
     "data": {
      "text/latex": [
       "$\\displaystyle a^{(343)}_{3} b^{(343)}_{3} b^{(343)}_{4} \\left(a^{(343)}_{1} b^{(343)}_{1} + a^{(343)}_{2} b^{(343)}_{2} + a^{(343)}_{4} + 1\\right)$"
      ],
      "text/plain": [
       "<IPython.core.display.Math object>"
      ]
     },
     "metadata": {},
     "output_type": "display_data"
    },
    {
     "data": {
      "text/latex": [
       "$\\displaystyle \\left(a^{(343)}_{3}\\right)^{3} \\left(b^{(343)}_{3}\\right)^{3} \\left(b^{(343)}_{4}\\right)^{3}$"
      ],
      "text/plain": [
       "<IPython.core.display.Math object>"
      ]
     },
     "metadata": {},
     "output_type": "display_data"
    },
    {
     "name": "stdout",
     "output_type": "stream",
     "text": [
      "4 3\n"
     ]
    },
    {
     "data": {
      "text/latex": [
       "$\\displaystyle a^{(323)}_{2} a^{(323)}_{3} b^{(323)}_{3} \\left(a^{(323)}_{1} b^{(323)}_{1} + a^{(323)}_{4} b^{(323)}_{4} + b^{(323)}_{2} + 1\\right)$"
      ],
      "text/plain": [
       "<IPython.core.display.Math object>"
      ]
     },
     "metadata": {},
     "output_type": "display_data"
    },
    {
     "data": {
      "text/latex": [
       "$\\displaystyle \\left(a^{(323)}_{2}\\right)^{3} \\left(a^{(323)}_{3}\\right)^{3} \\left(b^{(323)}_{3}\\right)^{3}$"
      ],
      "text/plain": [
       "<IPython.core.display.Math object>"
      ]
     },
     "metadata": {},
     "output_type": "display_data"
    },
    {
     "name": "stdout",
     "output_type": "stream",
     "text": [
      "4 3\n"
     ]
    },
    {
     "data": {
      "text/latex": [
       "$\\displaystyle a^{(322)}_{2} a^{(322)}_{3} b^{(322)}_{2} \\left(a^{(322)}_{1} b^{(322)}_{1} + a^{(322)}_{4} b^{(322)}_{4} + b^{(322)}_{3} + 1\\right)$"
      ],
      "text/plain": [
       "<IPython.core.display.Math object>"
      ]
     },
     "metadata": {},
     "output_type": "display_data"
    },
    {
     "data": {
      "text/latex": [
       "$\\displaystyle \\left(a^{(322)}_{2}\\right)^{3} \\left(a^{(322)}_{3}\\right)^{3} \\left(b^{(322)}_{2}\\right)^{3}$"
      ],
      "text/plain": [
       "<IPython.core.display.Math object>"
      ]
     },
     "metadata": {},
     "output_type": "display_data"
    },
    {
     "name": "stdout",
     "output_type": "stream",
     "text": [
      "4 3\n"
     ]
    },
    {
     "data": {
      "text/latex": [
       "$\\displaystyle a^{(313)}_{1} a^{(313)}_{3} b^{(313)}_{3} \\left(a^{(313)}_{2} b^{(313)}_{2} + a^{(313)}_{4} b^{(313)}_{4} + b^{(313)}_{1} + 1\\right)$"
      ],
      "text/plain": [
       "<IPython.core.display.Math object>"
      ]
     },
     "metadata": {},
     "output_type": "display_data"
    },
    {
     "data": {
      "text/latex": [
       "$\\displaystyle \\left(a^{(313)}_{1}\\right)^{3} \\left(a^{(313)}_{3}\\right)^{3} \\left(b^{(313)}_{3}\\right)^{3}$"
      ],
      "text/plain": [
       "<IPython.core.display.Math object>"
      ]
     },
     "metadata": {},
     "output_type": "display_data"
    },
    {
     "name": "stdout",
     "output_type": "stream",
     "text": [
      "4 3\n"
     ]
    },
    {
     "data": {
      "text/latex": [
       "$\\displaystyle a^{(311)}_{1} a^{(311)}_{3} b^{(311)}_{1} \\left(a^{(311)}_{2} b^{(311)}_{2} + a^{(311)}_{4} b^{(311)}_{4} + b^{(311)}_{3} + 1\\right)$"
      ],
      "text/plain": [
       "<IPython.core.display.Math object>"
      ]
     },
     "metadata": {},
     "output_type": "display_data"
    },
    {
     "data": {
      "text/latex": [
       "$\\displaystyle \\left(a^{(311)}_{1}\\right)^{3} \\left(a^{(311)}_{3}\\right)^{3} \\left(b^{(311)}_{1}\\right)^{3}$"
      ],
      "text/plain": [
       "<IPython.core.display.Math object>"
      ]
     },
     "metadata": {},
     "output_type": "display_data"
    },
    {
     "name": "stdout",
     "output_type": "stream",
     "text": [
      "4 3\n"
     ]
    },
    {
     "data": {
      "text/latex": [
       "$\\displaystyle a^{(244)}_{4} b^{(244)}_{2} b^{(244)}_{4} \\left(a^{(244)}_{1} b^{(244)}_{1} + a^{(244)}_{2} + a^{(244)}_{3} b^{(244)}_{3} + 1\\right)$"
      ],
      "text/plain": [
       "<IPython.core.display.Math object>"
      ]
     },
     "metadata": {},
     "output_type": "display_data"
    },
    {
     "data": {
      "text/latex": [
       "$\\displaystyle \\left(a^{(244)}_{4}\\right)^{3} \\left(b^{(244)}_{2}\\right)^{3} \\left(b^{(244)}_{4}\\right)^{3}$"
      ],
      "text/plain": [
       "<IPython.core.display.Math object>"
      ]
     },
     "metadata": {},
     "output_type": "display_data"
    },
    {
     "name": "stdout",
     "output_type": "stream",
     "text": [
      "4 3\n"
     ]
    },
    {
     "data": {
      "text/latex": [
       "$\\displaystyle a^{(242)}_{2} b^{(242)}_{2} b^{(242)}_{4} \\left(a^{(242)}_{1} b^{(242)}_{1} + a^{(242)}_{3} b^{(242)}_{3} + a^{(242)}_{4} + 1\\right)$"
      ],
      "text/plain": [
       "<IPython.core.display.Math object>"
      ]
     },
     "metadata": {},
     "output_type": "display_data"
    },
    {
     "data": {
      "text/latex": [
       "$\\displaystyle \\left(a^{(242)}_{2}\\right)^{3} \\left(b^{(242)}_{2}\\right)^{3} \\left(b^{(242)}_{4}\\right)^{3}$"
      ],
      "text/plain": [
       "<IPython.core.display.Math object>"
      ]
     },
     "metadata": {},
     "output_type": "display_data"
    },
    {
     "name": "stdout",
     "output_type": "stream",
     "text": [
      "4 3\n"
     ]
    },
    {
     "data": {
      "text/latex": [
       "$\\displaystyle a^{(233)}_{3} b^{(233)}_{2} b^{(233)}_{3} \\left(a^{(233)}_{1} b^{(233)}_{1} + a^{(233)}_{2} + a^{(233)}_{4} b^{(233)}_{4} + 1\\right)$"
      ],
      "text/plain": [
       "<IPython.core.display.Math object>"
      ]
     },
     "metadata": {},
     "output_type": "display_data"
    },
    {
     "data": {
      "text/latex": [
       "$\\displaystyle \\left(a^{(233)}_{3}\\right)^{3} \\left(b^{(233)}_{2}\\right)^{3} \\left(b^{(233)}_{3}\\right)^{3}$"
      ],
      "text/plain": [
       "<IPython.core.display.Math object>"
      ]
     },
     "metadata": {},
     "output_type": "display_data"
    },
    {
     "name": "stdout",
     "output_type": "stream",
     "text": [
      "4 3\n"
     ]
    },
    {
     "data": {
      "text/latex": [
       "$\\displaystyle a^{(232)}_{2} a^{(232)}_{3} b^{(232)}_{2} \\left(a^{(232)}_{1} b^{(232)}_{1} + a^{(232)}_{4} b^{(232)}_{4} + b^{(232)}_{3} + 1\\right)$"
      ],
      "text/plain": [
       "<IPython.core.display.Math object>"
      ]
     },
     "metadata": {},
     "output_type": "display_data"
    },
    {
     "data": {
      "text/latex": [
       "$\\displaystyle \\left(a^{(232)}_{2}\\right)^{3} \\left(a^{(232)}_{3}\\right)^{3} \\left(b^{(232)}_{2}\\right)^{3}$"
      ],
      "text/plain": [
       "<IPython.core.display.Math object>"
      ]
     },
     "metadata": {},
     "output_type": "display_data"
    },
    {
     "name": "stdout",
     "output_type": "stream",
     "text": [
      "4 3\n"
     ]
    },
    {
     "data": {
      "text/latex": [
       "$\\displaystyle a^{(212)}_{1} a^{(212)}_{2} b^{(212)}_{2} \\left(a^{(212)}_{3} b^{(212)}_{3} + a^{(212)}_{4} b^{(212)}_{4} + b^{(212)}_{1} + 1\\right)$"
      ],
      "text/plain": [
       "<IPython.core.display.Math object>"
      ]
     },
     "metadata": {},
     "output_type": "display_data"
    },
    {
     "data": {
      "text/latex": [
       "$\\displaystyle \\left(a^{(212)}_{1}\\right)^{3} \\left(a^{(212)}_{2}\\right)^{3} \\left(b^{(212)}_{2}\\right)^{3}$"
      ],
      "text/plain": [
       "<IPython.core.display.Math object>"
      ]
     },
     "metadata": {},
     "output_type": "display_data"
    },
    {
     "name": "stdout",
     "output_type": "stream",
     "text": [
      "4 3\n"
     ]
    },
    {
     "data": {
      "text/latex": [
       "$\\displaystyle a^{(211)}_{1} b^{(211)}_{1} b^{(211)}_{2} \\left(a^{(211)}_{2} + a^{(211)}_{3} b^{(211)}_{3} + a^{(211)}_{4} b^{(211)}_{4} + 1\\right)$"
      ],
      "text/plain": [
       "<IPython.core.display.Math object>"
      ]
     },
     "metadata": {},
     "output_type": "display_data"
    },
    {
     "data": {
      "text/latex": [
       "$\\displaystyle \\left(a^{(211)}_{1}\\right)^{3} \\left(b^{(211)}_{1}\\right)^{3} \\left(b^{(211)}_{2}\\right)^{3}$"
      ],
      "text/plain": [
       "<IPython.core.display.Math object>"
      ]
     },
     "metadata": {},
     "output_type": "display_data"
    },
    {
     "name": "stdout",
     "output_type": "stream",
     "text": [
      "4 3\n"
     ]
    },
    {
     "data": {
      "text/latex": [
       "$\\displaystyle a^{(144)}_{4} b^{(144)}_{1} b^{(144)}_{4} \\left(a^{(144)}_{1} + a^{(144)}_{2} b^{(144)}_{2} + a^{(144)}_{3} b^{(144)}_{3} + 1\\right)$"
      ],
      "text/plain": [
       "<IPython.core.display.Math object>"
      ]
     },
     "metadata": {},
     "output_type": "display_data"
    },
    {
     "data": {
      "text/latex": [
       "$\\displaystyle \\left(a^{(144)}_{4}\\right)^{3} \\left(b^{(144)}_{1}\\right)^{3} \\left(b^{(144)}_{4}\\right)^{3}$"
      ],
      "text/plain": [
       "<IPython.core.display.Math object>"
      ]
     },
     "metadata": {},
     "output_type": "display_data"
    },
    {
     "name": "stdout",
     "output_type": "stream",
     "text": [
      "4 3\n"
     ]
    },
    {
     "data": {
      "text/latex": [
       "$\\displaystyle a^{(141)}_{1} b^{(141)}_{1} b^{(141)}_{4} \\left(a^{(141)}_{2} b^{(141)}_{2} + a^{(141)}_{3} b^{(141)}_{3} + a^{(141)}_{4} + 1\\right)$"
      ],
      "text/plain": [
       "<IPython.core.display.Math object>"
      ]
     },
     "metadata": {},
     "output_type": "display_data"
    },
    {
     "data": {
      "text/latex": [
       "$\\displaystyle \\left(a^{(141)}_{1}\\right)^{3} \\left(b^{(141)}_{1}\\right)^{3} \\left(b^{(141)}_{4}\\right)^{3}$"
      ],
      "text/plain": [
       "<IPython.core.display.Math object>"
      ]
     },
     "metadata": {},
     "output_type": "display_data"
    },
    {
     "name": "stdout",
     "output_type": "stream",
     "text": [
      "4 3\n"
     ]
    },
    {
     "data": {
      "text/latex": [
       "$\\displaystyle a^{(133)}_{3} b^{(133)}_{1} b^{(133)}_{3} \\left(a^{(133)}_{1} + a^{(133)}_{2} b^{(133)}_{2} + a^{(133)}_{4} b^{(133)}_{4} + 1\\right)$"
      ],
      "text/plain": [
       "<IPython.core.display.Math object>"
      ]
     },
     "metadata": {},
     "output_type": "display_data"
    },
    {
     "data": {
      "text/latex": [
       "$\\displaystyle \\left(a^{(133)}_{3}\\right)^{3} \\left(b^{(133)}_{1}\\right)^{3} \\left(b^{(133)}_{3}\\right)^{3}$"
      ],
      "text/plain": [
       "<IPython.core.display.Math object>"
      ]
     },
     "metadata": {},
     "output_type": "display_data"
    },
    {
     "name": "stdout",
     "output_type": "stream",
     "text": [
      "4 3\n"
     ]
    },
    {
     "data": {
      "text/latex": [
       "$\\displaystyle a^{(131)}_{1} b^{(131)}_{1} b^{(131)}_{3} \\left(a^{(131)}_{2} b^{(131)}_{2} + a^{(131)}_{3} + a^{(131)}_{4} b^{(131)}_{4} + 1\\right)$"
      ],
      "text/plain": [
       "<IPython.core.display.Math object>"
      ]
     },
     "metadata": {},
     "output_type": "display_data"
    },
    {
     "data": {
      "text/latex": [
       "$\\displaystyle \\left(a^{(131)}_{1}\\right)^{3} \\left(b^{(131)}_{1}\\right)^{3} \\left(b^{(131)}_{3}\\right)^{3}$"
      ],
      "text/plain": [
       "<IPython.core.display.Math object>"
      ]
     },
     "metadata": {},
     "output_type": "display_data"
    },
    {
     "name": "stdout",
     "output_type": "stream",
     "text": [
      "4 3\n"
     ]
    },
    {
     "data": {
      "text/latex": [
       "$\\displaystyle a^{(122)}_{2} b^{(122)}_{1} b^{(122)}_{2} \\left(a^{(122)}_{1} + a^{(122)}_{3} b^{(122)}_{3} + a^{(122)}_{4} b^{(122)}_{4} + 1\\right)$"
      ],
      "text/plain": [
       "<IPython.core.display.Math object>"
      ]
     },
     "metadata": {},
     "output_type": "display_data"
    },
    {
     "data": {
      "text/latex": [
       "$\\displaystyle \\left(a^{(122)}_{2}\\right)^{3} \\left(b^{(122)}_{1}\\right)^{3} \\left(b^{(122)}_{2}\\right)^{3}$"
      ],
      "text/plain": [
       "<IPython.core.display.Math object>"
      ]
     },
     "metadata": {},
     "output_type": "display_data"
    },
    {
     "name": "stdout",
     "output_type": "stream",
     "text": [
      "4 3\n"
     ]
    },
    {
     "data": {
      "text/latex": [
       "$\\displaystyle a^{(121)}_{1} a^{(121)}_{2} b^{(121)}_{1} \\left(a^{(121)}_{3} b^{(121)}_{3} + a^{(121)}_{4} b^{(121)}_{4} + b^{(121)}_{2} + 1\\right)$"
      ],
      "text/plain": [
       "<IPython.core.display.Math object>"
      ]
     },
     "metadata": {},
     "output_type": "display_data"
    },
    {
     "data": {
      "text/latex": [
       "$\\displaystyle \\left(a^{(121)}_{1}\\right)^{3} \\left(a^{(121)}_{2}\\right)^{3} \\left(b^{(121)}_{1}\\right)^{3}$"
      ],
      "text/plain": [
       "<IPython.core.display.Math object>"
      ]
     },
     "metadata": {},
     "output_type": "display_data"
    },
    {
     "name": "stdout",
     "output_type": "stream",
     "text": [
      "4 3\n"
     ]
    },
    {
     "data": {
      "text/latex": [
       "$\\displaystyle a^{(4324)}_{4} b^{(4324)}_{2} b^{(4324)}_{3} b^{(4324)}_{4} \\left(a^{(4324)}_{1} b^{(4324)}_{1} + a^{(4324)}_{2} + a^{(4324)}_{3} + 1\\right)$"
      ],
      "text/plain": [
       "<IPython.core.display.Math object>"
      ]
     },
     "metadata": {},
     "output_type": "display_data"
    },
    {
     "data": {
      "text/latex": [
       "$\\displaystyle \\left(a^{(4324)}_{4}\\right)^{3} \\left(b^{(4324)}_{2}\\right)^{3} \\left(b^{(4324)}_{3}\\right)^{3} \\left(b^{(4324)}_{4}\\right)^{3}$"
      ],
      "text/plain": [
       "<IPython.core.display.Math object>"
      ]
     },
     "metadata": {},
     "output_type": "display_data"
    },
    {
     "name": "stdout",
     "output_type": "stream",
     "text": [
      "4 4\n"
     ]
    },
    {
     "data": {
      "text/latex": [
       "$\\displaystyle a^{(4323)}_{3} a^{(4323)}_{4} b^{(4323)}_{2} b^{(4323)}_{3} \\left(a^{(4323)}_{1} b^{(4323)}_{1} + a^{(4323)}_{2} + b^{(4323)}_{4} + 1\\right)$"
      ],
      "text/plain": [
       "<IPython.core.display.Math object>"
      ]
     },
     "metadata": {},
     "output_type": "display_data"
    },
    {
     "data": {
      "text/latex": [
       "$\\displaystyle \\left(a^{(4323)}_{3}\\right)^{3} \\left(a^{(4323)}_{4}\\right)^{3} \\left(b^{(4323)}_{2}\\right)^{3} \\left(b^{(4323)}_{3}\\right)^{3}$"
      ],
      "text/plain": [
       "<IPython.core.display.Math object>"
      ]
     },
     "metadata": {},
     "output_type": "display_data"
    },
    {
     "name": "stdout",
     "output_type": "stream",
     "text": [
      "4 4\n"
     ]
    },
    {
     "data": {
      "text/latex": [
       "$\\displaystyle a^{(4322)}_{2} a^{(4322)}_{4} b^{(4322)}_{2} b^{(4322)}_{3} \\left(a^{(4322)}_{1} b^{(4322)}_{1} + a^{(4322)}_{3} + b^{(4322)}_{4} + 1\\right)$"
      ],
      "text/plain": [
       "<IPython.core.display.Math object>"
      ]
     },
     "metadata": {},
     "output_type": "display_data"
    },
    {
     "data": {
      "text/latex": [
       "$\\displaystyle \\left(a^{(4322)}_{2}\\right)^{3} \\left(a^{(4322)}_{4}\\right)^{3} \\left(b^{(4322)}_{2}\\right)^{3} \\left(b^{(4322)}_{3}\\right)^{3}$"
      ],
      "text/plain": [
       "<IPython.core.display.Math object>"
      ]
     },
     "metadata": {},
     "output_type": "display_data"
    },
    {
     "name": "stdout",
     "output_type": "stream",
     "text": [
      "4 4\n"
     ]
    },
    {
     "data": {
      "text/latex": [
       "$\\displaystyle a^{(4314)}_{4} b^{(4314)}_{1} b^{(4314)}_{3} b^{(4314)}_{4} \\left(a^{(4314)}_{1} + a^{(4314)}_{2} b^{(4314)}_{2} + a^{(4314)}_{3} + 1\\right)$"
      ],
      "text/plain": [
       "<IPython.core.display.Math object>"
      ]
     },
     "metadata": {},
     "output_type": "display_data"
    },
    {
     "data": {
      "text/latex": [
       "$\\displaystyle \\left(a^{(4314)}_{4}\\right)^{3} \\left(b^{(4314)}_{1}\\right)^{3} \\left(b^{(4314)}_{3}\\right)^{3} \\left(b^{(4314)}_{4}\\right)^{3}$"
      ],
      "text/plain": [
       "<IPython.core.display.Math object>"
      ]
     },
     "metadata": {},
     "output_type": "display_data"
    },
    {
     "name": "stdout",
     "output_type": "stream",
     "text": [
      "4 4\n"
     ]
    },
    {
     "data": {
      "text/latex": [
       "$\\displaystyle a^{(4313)}_{3} a^{(4313)}_{4} b^{(4313)}_{1} b^{(4313)}_{3} \\left(a^{(4313)}_{1} + a^{(4313)}_{2} b^{(4313)}_{2} + b^{(4313)}_{4} + 1\\right)$"
      ],
      "text/plain": [
       "<IPython.core.display.Math object>"
      ]
     },
     "metadata": {},
     "output_type": "display_data"
    },
    {
     "data": {
      "text/latex": [
       "$\\displaystyle \\left(a^{(4313)}_{3}\\right)^{3} \\left(a^{(4313)}_{4}\\right)^{3} \\left(b^{(4313)}_{1}\\right)^{3} \\left(b^{(4313)}_{3}\\right)^{3}$"
      ],
      "text/plain": [
       "<IPython.core.display.Math object>"
      ]
     },
     "metadata": {},
     "output_type": "display_data"
    },
    {
     "name": "stdout",
     "output_type": "stream",
     "text": [
      "4 4\n"
     ]
    },
    {
     "data": {
      "text/latex": [
       "$\\displaystyle a^{(4311)}_{1} a^{(4311)}_{4} b^{(4311)}_{1} b^{(4311)}_{3} \\left(a^{(4311)}_{2} b^{(4311)}_{2} + a^{(4311)}_{3} + b^{(4311)}_{4} + 1\\right)$"
      ],
      "text/plain": [
       "<IPython.core.display.Math object>"
      ]
     },
     "metadata": {},
     "output_type": "display_data"
    },
    {
     "data": {
      "text/latex": [
       "$\\displaystyle \\left(a^{(4311)}_{1}\\right)^{3} \\left(a^{(4311)}_{4}\\right)^{3} \\left(b^{(4311)}_{1}\\right)^{3} \\left(b^{(4311)}_{3}\\right)^{3}$"
      ],
      "text/plain": [
       "<IPython.core.display.Math object>"
      ]
     },
     "metadata": {},
     "output_type": "display_data"
    },
    {
     "name": "stdout",
     "output_type": "stream",
     "text": [
      "4 4\n"
     ]
    },
    {
     "data": {
      "text/latex": [
       "$\\displaystyle a^{(4234)}_{3} a^{(4234)}_{4} b^{(4234)}_{2} b^{(4234)}_{4} \\left(a^{(4234)}_{1} b^{(4234)}_{1} + a^{(4234)}_{2} + b^{(4234)}_{3} + 1\\right)$"
      ],
      "text/plain": [
       "<IPython.core.display.Math object>"
      ]
     },
     "metadata": {},
     "output_type": "display_data"
    },
    {
     "data": {
      "text/latex": [
       "$\\displaystyle \\left(a^{(4234)}_{3}\\right)^{3} \\left(a^{(4234)}_{4}\\right)^{3} \\left(b^{(4234)}_{2}\\right)^{3} \\left(b^{(4234)}_{4}\\right)^{3}$"
      ],
      "text/plain": [
       "<IPython.core.display.Math object>"
      ]
     },
     "metadata": {},
     "output_type": "display_data"
    },
    {
     "name": "stdout",
     "output_type": "stream",
     "text": [
      "4 4\n"
     ]
    },
    {
     "data": {
      "text/latex": [
       "$\\displaystyle a^{(4233)}_{3} a^{(4233)}_{4} b^{(4233)}_{2} b^{(4233)}_{3} \\left(a^{(4233)}_{1} b^{(4233)}_{1} + a^{(4233)}_{2} + b^{(4233)}_{4} + 1\\right)$"
      ],
      "text/plain": [
       "<IPython.core.display.Math object>"
      ]
     },
     "metadata": {},
     "output_type": "display_data"
    },
    {
     "data": {
      "text/latex": [
       "$\\displaystyle \\left(a^{(4233)}_{3}\\right)^{3} \\left(a^{(4233)}_{4}\\right)^{3} \\left(b^{(4233)}_{2}\\right)^{3} \\left(b^{(4233)}_{3}\\right)^{3}$"
      ],
      "text/plain": [
       "<IPython.core.display.Math object>"
      ]
     },
     "metadata": {},
     "output_type": "display_data"
    },
    {
     "name": "stdout",
     "output_type": "stream",
     "text": [
      "4 4\n"
     ]
    },
    {
     "data": {
      "text/latex": [
       "$\\displaystyle a^{(4232)}_{2} a^{(4232)}_{3} a^{(4232)}_{4} b^{(4232)}_{2} \\left(a^{(4232)}_{1} b^{(4232)}_{1} + b^{(4232)}_{3} + b^{(4232)}_{4} + 1\\right)$"
      ],
      "text/plain": [
       "<IPython.core.display.Math object>"
      ]
     },
     "metadata": {},
     "output_type": "display_data"
    },
    {
     "data": {
      "text/latex": [
       "$\\displaystyle \\left(a^{(4232)}_{2}\\right)^{3} \\left(a^{(4232)}_{3}\\right)^{3} \\left(a^{(4232)}_{4}\\right)^{3} \\left(b^{(4232)}_{2}\\right)^{3}$"
      ],
      "text/plain": [
       "<IPython.core.display.Math object>"
      ]
     },
     "metadata": {},
     "output_type": "display_data"
    },
    {
     "name": "stdout",
     "output_type": "stream",
     "text": [
      "4 4\n"
     ]
    },
    {
     "data": {
      "text/latex": [
       "$\\displaystyle a^{(4214)}_{1} a^{(4214)}_{4} b^{(4214)}_{2} b^{(4214)}_{4} \\left(a^{(4214)}_{2} + a^{(4214)}_{3} b^{(4214)}_{3} + b^{(4214)}_{1} + 1\\right)$"
      ],
      "text/plain": [
       "<IPython.core.display.Math object>"
      ]
     },
     "metadata": {},
     "output_type": "display_data"
    },
    {
     "data": {
      "text/latex": [
       "$\\displaystyle \\left(a^{(4214)}_{1}\\right)^{3} \\left(a^{(4214)}_{4}\\right)^{3} \\left(b^{(4214)}_{2}\\right)^{3} \\left(b^{(4214)}_{4}\\right)^{3}$"
      ],
      "text/plain": [
       "<IPython.core.display.Math object>"
      ]
     },
     "metadata": {},
     "output_type": "display_data"
    },
    {
     "name": "stdout",
     "output_type": "stream",
     "text": [
      "4 4\n"
     ]
    },
    {
     "data": {
      "text/latex": [
       "$\\displaystyle a^{(4212)}_{1} a^{(4212)}_{2} a^{(4212)}_{4} b^{(4212)}_{2} \\left(a^{(4212)}_{3} b^{(4212)}_{3} + b^{(4212)}_{1} + b^{(4212)}_{4} + 1\\right)$"
      ],
      "text/plain": [
       "<IPython.core.display.Math object>"
      ]
     },
     "metadata": {},
     "output_type": "display_data"
    },
    {
     "data": {
      "text/latex": [
       "$\\displaystyle \\left(a^{(4212)}_{1}\\right)^{3} \\left(a^{(4212)}_{2}\\right)^{3} \\left(a^{(4212)}_{4}\\right)^{3} \\left(b^{(4212)}_{2}\\right)^{3}$"
      ],
      "text/plain": [
       "<IPython.core.display.Math object>"
      ]
     },
     "metadata": {},
     "output_type": "display_data"
    },
    {
     "name": "stdout",
     "output_type": "stream",
     "text": [
      "4 4\n"
     ]
    },
    {
     "data": {
      "text/latex": [
       "$\\displaystyle a^{(4211)}_{1} a^{(4211)}_{4} b^{(4211)}_{1} b^{(4211)}_{2} \\left(a^{(4211)}_{2} + a^{(4211)}_{3} b^{(4211)}_{3} + b^{(4211)}_{4} + 1\\right)$"
      ],
      "text/plain": [
       "<IPython.core.display.Math object>"
      ]
     },
     "metadata": {},
     "output_type": "display_data"
    },
    {
     "data": {
      "text/latex": [
       "$\\displaystyle \\left(a^{(4211)}_{1}\\right)^{3} \\left(a^{(4211)}_{4}\\right)^{3} \\left(b^{(4211)}_{1}\\right)^{3} \\left(b^{(4211)}_{2}\\right)^{3}$"
      ],
      "text/plain": [
       "<IPython.core.display.Math object>"
      ]
     },
     "metadata": {},
     "output_type": "display_data"
    },
    {
     "name": "stdout",
     "output_type": "stream",
     "text": [
      "4 4\n"
     ]
    },
    {
     "data": {
      "text/latex": [
       "$\\displaystyle a^{(4134)}_{1} a^{(4134)}_{3} a^{(4134)}_{4} b^{(4134)}_{4} \\left(a^{(4134)}_{2} b^{(4134)}_{2} + b^{(4134)}_{1} + b^{(4134)}_{3} + 1\\right)$"
      ],
      "text/plain": [
       "<IPython.core.display.Math object>"
      ]
     },
     "metadata": {},
     "output_type": "display_data"
    },
    {
     "data": {
      "text/latex": [
       "$\\displaystyle \\left(a^{(4134)}_{1}\\right)^{3} \\left(a^{(4134)}_{3}\\right)^{3} \\left(a^{(4134)}_{4}\\right)^{3} \\left(b^{(4134)}_{4}\\right)^{3}$"
      ],
      "text/plain": [
       "<IPython.core.display.Math object>"
      ]
     },
     "metadata": {},
     "output_type": "display_data"
    },
    {
     "name": "stdout",
     "output_type": "stream",
     "text": [
      "4 4\n"
     ]
    },
    {
     "data": {
      "text/latex": [
       "$\\displaystyle a^{(4133)}_{1} a^{(4133)}_{3} a^{(4133)}_{4} b^{(4133)}_{3} \\left(a^{(4133)}_{2} b^{(4133)}_{2} + b^{(4133)}_{1} + b^{(4133)}_{4} + 1\\right)$"
      ],
      "text/plain": [
       "<IPython.core.display.Math object>"
      ]
     },
     "metadata": {},
     "output_type": "display_data"
    },
    {
     "data": {
      "text/latex": [
       "$\\displaystyle \\left(a^{(4133)}_{1}\\right)^{3} \\left(a^{(4133)}_{3}\\right)^{3} \\left(a^{(4133)}_{4}\\right)^{3} \\left(b^{(4133)}_{3}\\right)^{3}$"
      ],
      "text/plain": [
       "<IPython.core.display.Math object>"
      ]
     },
     "metadata": {},
     "output_type": "display_data"
    },
    {
     "name": "stdout",
     "output_type": "stream",
     "text": [
      "4 4\n"
     ]
    },
    {
     "data": {
      "text/latex": [
       "$\\displaystyle a^{(4131)}_{1} a^{(4131)}_{3} a^{(4131)}_{4} b^{(4131)}_{1} \\left(a^{(4131)}_{2} b^{(4131)}_{2} + b^{(4131)}_{3} + b^{(4131)}_{4} + 1\\right)$"
      ],
      "text/plain": [
       "<IPython.core.display.Math object>"
      ]
     },
     "metadata": {},
     "output_type": "display_data"
    },
    {
     "data": {
      "text/latex": [
       "$\\displaystyle \\left(a^{(4131)}_{1}\\right)^{3} \\left(a^{(4131)}_{3}\\right)^{3} \\left(a^{(4131)}_{4}\\right)^{3} \\left(b^{(4131)}_{1}\\right)^{3}$"
      ],
      "text/plain": [
       "<IPython.core.display.Math object>"
      ]
     },
     "metadata": {},
     "output_type": "display_data"
    },
    {
     "name": "stdout",
     "output_type": "stream",
     "text": [
      "4 4\n"
     ]
    },
    {
     "data": {
      "text/latex": [
       "$\\displaystyle a^{(4124)}_{1} a^{(4124)}_{2} a^{(4124)}_{4} b^{(4124)}_{4} \\left(a^{(4124)}_{3} b^{(4124)}_{3} + b^{(4124)}_{1} + b^{(4124)}_{2} + 1\\right)$"
      ],
      "text/plain": [
       "<IPython.core.display.Math object>"
      ]
     },
     "metadata": {},
     "output_type": "display_data"
    },
    {
     "data": {
      "text/latex": [
       "$\\displaystyle \\left(a^{(4124)}_{1}\\right)^{3} \\left(a^{(4124)}_{2}\\right)^{3} \\left(a^{(4124)}_{4}\\right)^{3} \\left(b^{(4124)}_{4}\\right)^{3}$"
      ],
      "text/plain": [
       "<IPython.core.display.Math object>"
      ]
     },
     "metadata": {},
     "output_type": "display_data"
    },
    {
     "name": "stdout",
     "output_type": "stream",
     "text": [
      "4 4\n"
     ]
    },
    {
     "data": {
      "text/latex": [
       "$\\displaystyle a^{(4122)}_{1} a^{(4122)}_{2} a^{(4122)}_{4} b^{(4122)}_{2} \\left(a^{(4122)}_{3} b^{(4122)}_{3} + b^{(4122)}_{1} + b^{(4122)}_{4} + 1\\right)$"
      ],
      "text/plain": [
       "<IPython.core.display.Math object>"
      ]
     },
     "metadata": {},
     "output_type": "display_data"
    },
    {
     "data": {
      "text/latex": [
       "$\\displaystyle \\left(a^{(4122)}_{1}\\right)^{3} \\left(a^{(4122)}_{2}\\right)^{3} \\left(a^{(4122)}_{4}\\right)^{3} \\left(b^{(4122)}_{2}\\right)^{3}$"
      ],
      "text/plain": [
       "<IPython.core.display.Math object>"
      ]
     },
     "metadata": {},
     "output_type": "display_data"
    },
    {
     "name": "stdout",
     "output_type": "stream",
     "text": [
      "4 4\n"
     ]
    },
    {
     "data": {
      "text/latex": [
       "$\\displaystyle a^{(4121)}_{1} a^{(4121)}_{2} a^{(4121)}_{4} b^{(4121)}_{1} \\left(a^{(4121)}_{3} b^{(4121)}_{3} + b^{(4121)}_{2} + b^{(4121)}_{4} + 1\\right)$"
      ],
      "text/plain": [
       "<IPython.core.display.Math object>"
      ]
     },
     "metadata": {},
     "output_type": "display_data"
    },
    {
     "data": {
      "text/latex": [
       "$\\displaystyle \\left(a^{(4121)}_{1}\\right)^{3} \\left(a^{(4121)}_{2}\\right)^{3} \\left(a^{(4121)}_{4}\\right)^{3} \\left(b^{(4121)}_{1}\\right)^{3}$"
      ],
      "text/plain": [
       "<IPython.core.display.Math object>"
      ]
     },
     "metadata": {},
     "output_type": "display_data"
    },
    {
     "name": "stdout",
     "output_type": "stream",
     "text": [
      "4 4\n"
     ]
    },
    {
     "data": {
      "text/latex": [
       "$\\displaystyle a^{(3424)}_{3} a^{(3424)}_{4} b^{(3424)}_{2} b^{(3424)}_{4} \\left(a^{(3424)}_{1} b^{(3424)}_{1} + a^{(3424)}_{2} + b^{(3424)}_{3} + 1\\right)$"
      ],
      "text/plain": [
       "<IPython.core.display.Math object>"
      ]
     },
     "metadata": {},
     "output_type": "display_data"
    },
    {
     "data": {
      "text/latex": [
       "$\\displaystyle \\left(a^{(3424)}_{3}\\right)^{3} \\left(a^{(3424)}_{4}\\right)^{3} \\left(b^{(3424)}_{2}\\right)^{3} \\left(b^{(3424)}_{4}\\right)^{3}$"
      ],
      "text/plain": [
       "<IPython.core.display.Math object>"
      ]
     },
     "metadata": {},
     "output_type": "display_data"
    },
    {
     "name": "stdout",
     "output_type": "stream",
     "text": [
      "4 4\n"
     ]
    },
    {
     "data": {
      "text/latex": [
       "$\\displaystyle a^{(3423)}_{3} b^{(3423)}_{2} b^{(3423)}_{3} b^{(3423)}_{4} \\left(a^{(3423)}_{1} b^{(3423)}_{1} + a^{(3423)}_{2} + a^{(3423)}_{4} + 1\\right)$"
      ],
      "text/plain": [
       "<IPython.core.display.Math object>"
      ]
     },
     "metadata": {},
     "output_type": "display_data"
    },
    {
     "data": {
      "text/latex": [
       "$\\displaystyle \\left(a^{(3423)}_{3}\\right)^{3} \\left(b^{(3423)}_{2}\\right)^{3} \\left(b^{(3423)}_{3}\\right)^{3} \\left(b^{(3423)}_{4}\\right)^{3}$"
      ],
      "text/plain": [
       "<IPython.core.display.Math object>"
      ]
     },
     "metadata": {},
     "output_type": "display_data"
    },
    {
     "name": "stdout",
     "output_type": "stream",
     "text": [
      "4 4\n"
     ]
    },
    {
     "data": {
      "text/latex": [
       "$\\displaystyle a^{(3422)}_{2} a^{(3422)}_{3} b^{(3422)}_{2} b^{(3422)}_{4} \\left(a^{(3422)}_{1} b^{(3422)}_{1} + a^{(3422)}_{4} + b^{(3422)}_{3} + 1\\right)$"
      ],
      "text/plain": [
       "<IPython.core.display.Math object>"
      ]
     },
     "metadata": {},
     "output_type": "display_data"
    },
    {
     "data": {
      "text/latex": [
       "$\\displaystyle \\left(a^{(3422)}_{2}\\right)^{3} \\left(a^{(3422)}_{3}\\right)^{3} \\left(b^{(3422)}_{2}\\right)^{3} \\left(b^{(3422)}_{4}\\right)^{3}$"
      ],
      "text/plain": [
       "<IPython.core.display.Math object>"
      ]
     },
     "metadata": {},
     "output_type": "display_data"
    },
    {
     "name": "stdout",
     "output_type": "stream",
     "text": [
      "4 4\n"
     ]
    },
    {
     "data": {
      "text/latex": [
       "$\\displaystyle a^{(3414)}_{3} a^{(3414)}_{4} b^{(3414)}_{1} b^{(3414)}_{4} \\left(a^{(3414)}_{1} + a^{(3414)}_{2} b^{(3414)}_{2} + b^{(3414)}_{3} + 1\\right)$"
      ],
      "text/plain": [
       "<IPython.core.display.Math object>"
      ]
     },
     "metadata": {},
     "output_type": "display_data"
    },
    {
     "data": {
      "text/latex": [
       "$\\displaystyle \\left(a^{(3414)}_{3}\\right)^{3} \\left(a^{(3414)}_{4}\\right)^{3} \\left(b^{(3414)}_{1}\\right)^{3} \\left(b^{(3414)}_{4}\\right)^{3}$"
      ],
      "text/plain": [
       "<IPython.core.display.Math object>"
      ]
     },
     "metadata": {},
     "output_type": "display_data"
    },
    {
     "name": "stdout",
     "output_type": "stream",
     "text": [
      "4 4\n"
     ]
    },
    {
     "data": {
      "text/latex": [
       "$\\displaystyle a^{(3413)}_{3} b^{(3413)}_{1} b^{(3413)}_{3} b^{(3413)}_{4} \\left(a^{(3413)}_{1} + a^{(3413)}_{2} b^{(3413)}_{2} + a^{(3413)}_{4} + 1\\right)$"
      ],
      "text/plain": [
       "<IPython.core.display.Math object>"
      ]
     },
     "metadata": {},
     "output_type": "display_data"
    },
    {
     "data": {
      "text/latex": [
       "$\\displaystyle \\left(a^{(3413)}_{3}\\right)^{3} \\left(b^{(3413)}_{1}\\right)^{3} \\left(b^{(3413)}_{3}\\right)^{3} \\left(b^{(3413)}_{4}\\right)^{3}$"
      ],
      "text/plain": [
       "<IPython.core.display.Math object>"
      ]
     },
     "metadata": {},
     "output_type": "display_data"
    },
    {
     "name": "stdout",
     "output_type": "stream",
     "text": [
      "4 4\n"
     ]
    },
    {
     "data": {
      "text/latex": [
       "$\\displaystyle a^{(3411)}_{1} a^{(3411)}_{3} b^{(3411)}_{1} b^{(3411)}_{4} \\left(a^{(3411)}_{2} b^{(3411)}_{2} + a^{(3411)}_{4} + b^{(3411)}_{3} + 1\\right)$"
      ],
      "text/plain": [
       "<IPython.core.display.Math object>"
      ]
     },
     "metadata": {},
     "output_type": "display_data"
    },
    {
     "data": {
      "text/latex": [
       "$\\displaystyle \\left(a^{(3411)}_{1}\\right)^{3} \\left(a^{(3411)}_{3}\\right)^{3} \\left(b^{(3411)}_{1}\\right)^{3} \\left(b^{(3411)}_{4}\\right)^{3}$"
      ],
      "text/plain": [
       "<IPython.core.display.Math object>"
      ]
     },
     "metadata": {},
     "output_type": "display_data"
    },
    {
     "name": "stdout",
     "output_type": "stream",
     "text": [
      "4 4\n"
     ]
    },
    {
     "data": {
      "text/latex": [
       "$\\displaystyle a^{(3244)}_{2} a^{(3244)}_{3} a^{(3244)}_{4} b^{(3244)}_{4} \\left(a^{(3244)}_{1} b^{(3244)}_{1} + b^{(3244)}_{2} + b^{(3244)}_{3} + 1\\right)$"
      ],
      "text/plain": [
       "<IPython.core.display.Math object>"
      ]
     },
     "metadata": {},
     "output_type": "display_data"
    },
    {
     "data": {
      "text/latex": [
       "$\\displaystyle \\left(a^{(3244)}_{2}\\right)^{3} \\left(a^{(3244)}_{3}\\right)^{3} \\left(a^{(3244)}_{4}\\right)^{3} \\left(b^{(3244)}_{4}\\right)^{3}$"
      ],
      "text/plain": [
       "<IPython.core.display.Math object>"
      ]
     },
     "metadata": {},
     "output_type": "display_data"
    },
    {
     "name": "stdout",
     "output_type": "stream",
     "text": [
      "4 4\n"
     ]
    },
    {
     "data": {
      "text/latex": [
       "$\\displaystyle a^{(3243)}_{2} a^{(3243)}_{3} b^{(3243)}_{3} b^{(3243)}_{4} \\left(a^{(3243)}_{1} b^{(3243)}_{1} + a^{(3243)}_{4} + b^{(3243)}_{2} + 1\\right)$"
      ],
      "text/plain": [
       "<IPython.core.display.Math object>"
      ]
     },
     "metadata": {},
     "output_type": "display_data"
    },
    {
     "data": {
      "text/latex": [
       "$\\displaystyle \\left(a^{(3243)}_{2}\\right)^{3} \\left(a^{(3243)}_{3}\\right)^{3} \\left(b^{(3243)}_{3}\\right)^{3} \\left(b^{(3243)}_{4}\\right)^{3}$"
      ],
      "text/plain": [
       "<IPython.core.display.Math object>"
      ]
     },
     "metadata": {},
     "output_type": "display_data"
    },
    {
     "name": "stdout",
     "output_type": "stream",
     "text": [
      "4 4\n"
     ]
    },
    {
     "data": {
      "text/latex": [
       "$\\displaystyle a^{(3242)}_{2} a^{(3242)}_{3} b^{(3242)}_{2} b^{(3242)}_{4} \\left(a^{(3242)}_{1} b^{(3242)}_{1} + a^{(3242)}_{4} + b^{(3242)}_{3} + 1\\right)$"
      ],
      "text/plain": [
       "<IPython.core.display.Math object>"
      ]
     },
     "metadata": {},
     "output_type": "display_data"
    },
    {
     "data": {
      "text/latex": [
       "$\\displaystyle \\left(a^{(3242)}_{2}\\right)^{3} \\left(a^{(3242)}_{3}\\right)^{3} \\left(b^{(3242)}_{2}\\right)^{3} \\left(b^{(3242)}_{4}\\right)^{3}$"
      ],
      "text/plain": [
       "<IPython.core.display.Math object>"
      ]
     },
     "metadata": {},
     "output_type": "display_data"
    },
    {
     "name": "stdout",
     "output_type": "stream",
     "text": [
      "4 4\n"
     ]
    },
    {
     "data": {
      "text/latex": [
       "$\\displaystyle a^{(3213)}_{1} a^{(3213)}_{2} a^{(3213)}_{3} b^{(3213)}_{3} \\left(a^{(3213)}_{4} b^{(3213)}_{4} + b^{(3213)}_{1} + b^{(3213)}_{2} + 1\\right)$"
      ],
      "text/plain": [
       "<IPython.core.display.Math object>"
      ]
     },
     "metadata": {},
     "output_type": "display_data"
    },
    {
     "data": {
      "text/latex": [
       "$\\displaystyle \\left(a^{(3213)}_{1}\\right)^{3} \\left(a^{(3213)}_{2}\\right)^{3} \\left(a^{(3213)}_{3}\\right)^{3} \\left(b^{(3213)}_{3}\\right)^{3}$"
      ],
      "text/plain": [
       "<IPython.core.display.Math object>"
      ]
     },
     "metadata": {},
     "output_type": "display_data"
    },
    {
     "name": "stdout",
     "output_type": "stream",
     "text": [
      "4 4\n"
     ]
    },
    {
     "data": {
      "text/latex": [
       "$\\displaystyle a^{(3212)}_{1} a^{(3212)}_{2} a^{(3212)}_{3} b^{(3212)}_{2} \\left(a^{(3212)}_{4} b^{(3212)}_{4} + b^{(3212)}_{1} + b^{(3212)}_{3} + 1\\right)$"
      ],
      "text/plain": [
       "<IPython.core.display.Math object>"
      ]
     },
     "metadata": {},
     "output_type": "display_data"
    },
    {
     "data": {
      "text/latex": [
       "$\\displaystyle \\left(a^{(3212)}_{1}\\right)^{3} \\left(a^{(3212)}_{2}\\right)^{3} \\left(a^{(3212)}_{3}\\right)^{3} \\left(b^{(3212)}_{2}\\right)^{3}$"
      ],
      "text/plain": [
       "<IPython.core.display.Math object>"
      ]
     },
     "metadata": {},
     "output_type": "display_data"
    },
    {
     "name": "stdout",
     "output_type": "stream",
     "text": [
      "4 4\n"
     ]
    },
    {
     "data": {
      "text/latex": [
       "$\\displaystyle a^{(3211)}_{1} a^{(3211)}_{2} a^{(3211)}_{3} b^{(3211)}_{1} \\left(a^{(3211)}_{4} b^{(3211)}_{4} + b^{(3211)}_{2} + b^{(3211)}_{3} + 1\\right)$"
      ],
      "text/plain": [
       "<IPython.core.display.Math object>"
      ]
     },
     "metadata": {},
     "output_type": "display_data"
    },
    {
     "data": {
      "text/latex": [
       "$\\displaystyle \\left(a^{(3211)}_{1}\\right)^{3} \\left(a^{(3211)}_{2}\\right)^{3} \\left(a^{(3211)}_{3}\\right)^{3} \\left(b^{(3211)}_{1}\\right)^{3}$"
      ],
      "text/plain": [
       "<IPython.core.display.Math object>"
      ]
     },
     "metadata": {},
     "output_type": "display_data"
    },
    {
     "name": "stdout",
     "output_type": "stream",
     "text": [
      "4 4\n"
     ]
    },
    {
     "data": {
      "text/latex": [
       "$\\displaystyle a^{(3144)}_{1} a^{(3144)}_{3} a^{(3144)}_{4} b^{(3144)}_{4} \\left(a^{(3144)}_{2} b^{(3144)}_{2} + b^{(3144)}_{1} + b^{(3144)}_{3} + 1\\right)$"
      ],
      "text/plain": [
       "<IPython.core.display.Math object>"
      ]
     },
     "metadata": {},
     "output_type": "display_data"
    },
    {
     "data": {
      "text/latex": [
       "$\\displaystyle \\left(a^{(3144)}_{1}\\right)^{3} \\left(a^{(3144)}_{3}\\right)^{3} \\left(a^{(3144)}_{4}\\right)^{3} \\left(b^{(3144)}_{4}\\right)^{3}$"
      ],
      "text/plain": [
       "<IPython.core.display.Math object>"
      ]
     },
     "metadata": {},
     "output_type": "display_data"
    },
    {
     "name": "stdout",
     "output_type": "stream",
     "text": [
      "4 4\n"
     ]
    },
    {
     "data": {
      "text/latex": [
       "$\\displaystyle a^{(3143)}_{1} a^{(3143)}_{3} b^{(3143)}_{3} b^{(3143)}_{4} \\left(a^{(3143)}_{2} b^{(3143)}_{2} + a^{(3143)}_{4} + b^{(3143)}_{1} + 1\\right)$"
      ],
      "text/plain": [
       "<IPython.core.display.Math object>"
      ]
     },
     "metadata": {},
     "output_type": "display_data"
    },
    {
     "data": {
      "text/latex": [
       "$\\displaystyle \\left(a^{(3143)}_{1}\\right)^{3} \\left(a^{(3143)}_{3}\\right)^{3} \\left(b^{(3143)}_{3}\\right)^{3} \\left(b^{(3143)}_{4}\\right)^{3}$"
      ],
      "text/plain": [
       "<IPython.core.display.Math object>"
      ]
     },
     "metadata": {},
     "output_type": "display_data"
    },
    {
     "name": "stdout",
     "output_type": "stream",
     "text": [
      "4 4\n"
     ]
    },
    {
     "data": {
      "text/latex": [
       "$\\displaystyle a^{(3141)}_{1} a^{(3141)}_{3} b^{(3141)}_{1} b^{(3141)}_{4} \\left(a^{(3141)}_{2} b^{(3141)}_{2} + a^{(3141)}_{4} + b^{(3141)}_{3} + 1\\right)$"
      ],
      "text/plain": [
       "<IPython.core.display.Math object>"
      ]
     },
     "metadata": {},
     "output_type": "display_data"
    },
    {
     "data": {
      "text/latex": [
       "$\\displaystyle \\left(a^{(3141)}_{1}\\right)^{3} \\left(a^{(3141)}_{3}\\right)^{3} \\left(b^{(3141)}_{1}\\right)^{3} \\left(b^{(3141)}_{4}\\right)^{3}$"
      ],
      "text/plain": [
       "<IPython.core.display.Math object>"
      ]
     },
     "metadata": {},
     "output_type": "display_data"
    },
    {
     "name": "stdout",
     "output_type": "stream",
     "text": [
      "4 4\n"
     ]
    },
    {
     "data": {
      "text/latex": [
       "$\\displaystyle a^{(3123)}_{1} a^{(3123)}_{2} a^{(3123)}_{3} b^{(3123)}_{3} \\left(a^{(3123)}_{4} b^{(3123)}_{4} + b^{(3123)}_{1} + b^{(3123)}_{2} + 1\\right)$"
      ],
      "text/plain": [
       "<IPython.core.display.Math object>"
      ]
     },
     "metadata": {},
     "output_type": "display_data"
    },
    {
     "data": {
      "text/latex": [
       "$\\displaystyle \\left(a^{(3123)}_{1}\\right)^{3} \\left(a^{(3123)}_{2}\\right)^{3} \\left(a^{(3123)}_{3}\\right)^{3} \\left(b^{(3123)}_{3}\\right)^{3}$"
      ],
      "text/plain": [
       "<IPython.core.display.Math object>"
      ]
     },
     "metadata": {},
     "output_type": "display_data"
    },
    {
     "name": "stdout",
     "output_type": "stream",
     "text": [
      "4 4\n"
     ]
    },
    {
     "data": {
      "text/latex": [
       "$\\displaystyle a^{(3122)}_{1} a^{(3122)}_{2} a^{(3122)}_{3} b^{(3122)}_{2} \\left(a^{(3122)}_{4} b^{(3122)}_{4} + b^{(3122)}_{1} + b^{(3122)}_{3} + 1\\right)$"
      ],
      "text/plain": [
       "<IPython.core.display.Math object>"
      ]
     },
     "metadata": {},
     "output_type": "display_data"
    },
    {
     "data": {
      "text/latex": [
       "$\\displaystyle \\left(a^{(3122)}_{1}\\right)^{3} \\left(a^{(3122)}_{2}\\right)^{3} \\left(a^{(3122)}_{3}\\right)^{3} \\left(b^{(3122)}_{2}\\right)^{3}$"
      ],
      "text/plain": [
       "<IPython.core.display.Math object>"
      ]
     },
     "metadata": {},
     "output_type": "display_data"
    },
    {
     "name": "stdout",
     "output_type": "stream",
     "text": [
      "4 4\n"
     ]
    },
    {
     "data": {
      "text/latex": [
       "$\\displaystyle a^{(3121)}_{1} a^{(3121)}_{2} a^{(3121)}_{3} b^{(3121)}_{1} \\left(a^{(3121)}_{4} b^{(3121)}_{4} + b^{(3121)}_{2} + b^{(3121)}_{3} + 1\\right)$"
      ],
      "text/plain": [
       "<IPython.core.display.Math object>"
      ]
     },
     "metadata": {},
     "output_type": "display_data"
    },
    {
     "data": {
      "text/latex": [
       "$\\displaystyle \\left(a^{(3121)}_{1}\\right)^{3} \\left(a^{(3121)}_{2}\\right)^{3} \\left(a^{(3121)}_{3}\\right)^{3} \\left(b^{(3121)}_{1}\\right)^{3}$"
      ],
      "text/plain": [
       "<IPython.core.display.Math object>"
      ]
     },
     "metadata": {},
     "output_type": "display_data"
    },
    {
     "name": "stdout",
     "output_type": "stream",
     "text": [
      "4 4\n"
     ]
    },
    {
     "data": {
      "text/latex": [
       "$\\displaystyle a^{(2434)}_{4} b^{(2434)}_{2} b^{(2434)}_{3} b^{(2434)}_{4} \\left(a^{(2434)}_{1} b^{(2434)}_{1} + a^{(2434)}_{2} + a^{(2434)}_{3} + 1\\right)$"
      ],
      "text/plain": [
       "<IPython.core.display.Math object>"
      ]
     },
     "metadata": {},
     "output_type": "display_data"
    },
    {
     "data": {
      "text/latex": [
       "$\\displaystyle \\left(a^{(2434)}_{4}\\right)^{3} \\left(b^{(2434)}_{2}\\right)^{3} \\left(b^{(2434)}_{3}\\right)^{3} \\left(b^{(2434)}_{4}\\right)^{3}$"
      ],
      "text/plain": [
       "<IPython.core.display.Math object>"
      ]
     },
     "metadata": {},
     "output_type": "display_data"
    },
    {
     "name": "stdout",
     "output_type": "stream",
     "text": [
      "4 4\n"
     ]
    },
    {
     "data": {
      "text/latex": [
       "$\\displaystyle a^{(2433)}_{3} b^{(2433)}_{2} b^{(2433)}_{3} b^{(2433)}_{4} \\left(a^{(2433)}_{1} b^{(2433)}_{1} + a^{(2433)}_{2} + a^{(2433)}_{4} + 1\\right)$"
      ],
      "text/plain": [
       "<IPython.core.display.Math object>"
      ]
     },
     "metadata": {},
     "output_type": "display_data"
    },
    {
     "data": {
      "text/latex": [
       "$\\displaystyle \\left(a^{(2433)}_{3}\\right)^{3} \\left(b^{(2433)}_{2}\\right)^{3} \\left(b^{(2433)}_{3}\\right)^{3} \\left(b^{(2433)}_{4}\\right)^{3}$"
      ],
      "text/plain": [
       "<IPython.core.display.Math object>"
      ]
     },
     "metadata": {},
     "output_type": "display_data"
    },
    {
     "name": "stdout",
     "output_type": "stream",
     "text": [
      "4 4\n"
     ]
    },
    {
     "data": {
      "text/latex": [
       "$\\displaystyle a^{(2432)}_{2} b^{(2432)}_{2} b^{(2432)}_{3} b^{(2432)}_{4} \\left(a^{(2432)}_{1} b^{(2432)}_{1} + a^{(2432)}_{3} + a^{(2432)}_{4} + 1\\right)$"
      ],
      "text/plain": [
       "<IPython.core.display.Math object>"
      ]
     },
     "metadata": {},
     "output_type": "display_data"
    },
    {
     "data": {
      "text/latex": [
       "$\\displaystyle \\left(a^{(2432)}_{2}\\right)^{3} \\left(b^{(2432)}_{2}\\right)^{3} \\left(b^{(2432)}_{3}\\right)^{3} \\left(b^{(2432)}_{4}\\right)^{3}$"
      ],
      "text/plain": [
       "<IPython.core.display.Math object>"
      ]
     },
     "metadata": {},
     "output_type": "display_data"
    },
    {
     "name": "stdout",
     "output_type": "stream",
     "text": [
      "4 4\n"
     ]
    },
    {
     "data": {
      "text/latex": [
       "$\\displaystyle a^{(2414)}_{1} a^{(2414)}_{4} b^{(2414)}_{2} b^{(2414)}_{4} \\left(a^{(2414)}_{2} + a^{(2414)}_{3} b^{(2414)}_{3} + b^{(2414)}_{1} + 1\\right)$"
      ],
      "text/plain": [
       "<IPython.core.display.Math object>"
      ]
     },
     "metadata": {},
     "output_type": "display_data"
    },
    {
     "data": {
      "text/latex": [
       "$\\displaystyle \\left(a^{(2414)}_{1}\\right)^{3} \\left(a^{(2414)}_{4}\\right)^{3} \\left(b^{(2414)}_{2}\\right)^{3} \\left(b^{(2414)}_{4}\\right)^{3}$"
      ],
      "text/plain": [
       "<IPython.core.display.Math object>"
      ]
     },
     "metadata": {},
     "output_type": "display_data"
    },
    {
     "name": "stdout",
     "output_type": "stream",
     "text": [
      "4 4\n"
     ]
    },
    {
     "data": {
      "text/latex": [
       "$\\displaystyle a^{(2412)}_{1} a^{(2412)}_{2} b^{(2412)}_{2} b^{(2412)}_{4} \\left(a^{(2412)}_{3} b^{(2412)}_{3} + a^{(2412)}_{4} + b^{(2412)}_{1} + 1\\right)$"
      ],
      "text/plain": [
       "<IPython.core.display.Math object>"
      ]
     },
     "metadata": {},
     "output_type": "display_data"
    },
    {
     "data": {
      "text/latex": [
       "$\\displaystyle \\left(a^{(2412)}_{1}\\right)^{3} \\left(a^{(2412)}_{2}\\right)^{3} \\left(b^{(2412)}_{2}\\right)^{3} \\left(b^{(2412)}_{4}\\right)^{3}$"
      ],
      "text/plain": [
       "<IPython.core.display.Math object>"
      ]
     },
     "metadata": {},
     "output_type": "display_data"
    },
    {
     "name": "stdout",
     "output_type": "stream",
     "text": [
      "4 4\n"
     ]
    },
    {
     "data": {
      "text/latex": [
       "$\\displaystyle a^{(2411)}_{1} b^{(2411)}_{1} b^{(2411)}_{2} b^{(2411)}_{4} \\left(a^{(2411)}_{2} + a^{(2411)}_{3} b^{(2411)}_{3} + a^{(2411)}_{4} + 1\\right)$"
      ],
      "text/plain": [
       "<IPython.core.display.Math object>"
      ]
     },
     "metadata": {},
     "output_type": "display_data"
    },
    {
     "data": {
      "text/latex": [
       "$\\displaystyle \\left(a^{(2411)}_{1}\\right)^{3} \\left(b^{(2411)}_{1}\\right)^{3} \\left(b^{(2411)}_{2}\\right)^{3} \\left(b^{(2411)}_{4}\\right)^{3}$"
      ],
      "text/plain": [
       "<IPython.core.display.Math object>"
      ]
     },
     "metadata": {},
     "output_type": "display_data"
    },
    {
     "name": "stdout",
     "output_type": "stream",
     "text": [
      "4 4\n"
     ]
    },
    {
     "data": {
      "text/latex": [
       "$\\displaystyle a^{(2344)}_{3} a^{(2344)}_{4} b^{(2344)}_{2} b^{(2344)}_{4} \\left(a^{(2344)}_{1} b^{(2344)}_{1} + a^{(2344)}_{2} + b^{(2344)}_{3} + 1\\right)$"
      ],
      "text/plain": [
       "<IPython.core.display.Math object>"
      ]
     },
     "metadata": {},
     "output_type": "display_data"
    },
    {
     "data": {
      "text/latex": [
       "$\\displaystyle \\left(a^{(2344)}_{3}\\right)^{3} \\left(a^{(2344)}_{4}\\right)^{3} \\left(b^{(2344)}_{2}\\right)^{3} \\left(b^{(2344)}_{4}\\right)^{3}$"
      ],
      "text/plain": [
       "<IPython.core.display.Math object>"
      ]
     },
     "metadata": {},
     "output_type": "display_data"
    },
    {
     "name": "stdout",
     "output_type": "stream",
     "text": [
      "4 4\n"
     ]
    },
    {
     "data": {
      "text/latex": [
       "$\\displaystyle a^{(2343)}_{3} b^{(2343)}_{2} b^{(2343)}_{3} b^{(2343)}_{4} \\left(a^{(2343)}_{1} b^{(2343)}_{1} + a^{(2343)}_{2} + a^{(2343)}_{4} + 1\\right)$"
      ],
      "text/plain": [
       "<IPython.core.display.Math object>"
      ]
     },
     "metadata": {},
     "output_type": "display_data"
    },
    {
     "data": {
      "text/latex": [
       "$\\displaystyle \\left(a^{(2343)}_{3}\\right)^{3} \\left(b^{(2343)}_{2}\\right)^{3} \\left(b^{(2343)}_{3}\\right)^{3} \\left(b^{(2343)}_{4}\\right)^{3}$"
      ],
      "text/plain": [
       "<IPython.core.display.Math object>"
      ]
     },
     "metadata": {},
     "output_type": "display_data"
    },
    {
     "name": "stdout",
     "output_type": "stream",
     "text": [
      "4 4\n"
     ]
    },
    {
     "data": {
      "text/latex": [
       "$\\displaystyle a^{(2342)}_{2} a^{(2342)}_{3} b^{(2342)}_{2} b^{(2342)}_{4} \\left(a^{(2342)}_{1} b^{(2342)}_{1} + a^{(2342)}_{4} + b^{(2342)}_{3} + 1\\right)$"
      ],
      "text/plain": [
       "<IPython.core.display.Math object>"
      ]
     },
     "metadata": {},
     "output_type": "display_data"
    },
    {
     "data": {
      "text/latex": [
       "$\\displaystyle \\left(a^{(2342)}_{2}\\right)^{3} \\left(a^{(2342)}_{3}\\right)^{3} \\left(b^{(2342)}_{2}\\right)^{3} \\left(b^{(2342)}_{4}\\right)^{3}$"
      ],
      "text/plain": [
       "<IPython.core.display.Math object>"
      ]
     },
     "metadata": {},
     "output_type": "display_data"
    },
    {
     "name": "stdout",
     "output_type": "stream",
     "text": [
      "4 4\n"
     ]
    },
    {
     "data": {
      "text/latex": [
       "$\\displaystyle a^{(2313)}_{3} b^{(2313)}_{1} b^{(2313)}_{2} b^{(2313)}_{3} \\left(a^{(2313)}_{1} + a^{(2313)}_{2} + a^{(2313)}_{4} b^{(2313)}_{4} + 1\\right)$"
      ],
      "text/plain": [
       "<IPython.core.display.Math object>"
      ]
     },
     "metadata": {},
     "output_type": "display_data"
    },
    {
     "data": {
      "text/latex": [
       "$\\displaystyle \\left(a^{(2313)}_{3}\\right)^{3} \\left(b^{(2313)}_{1}\\right)^{3} \\left(b^{(2313)}_{2}\\right)^{3} \\left(b^{(2313)}_{3}\\right)^{3}$"
      ],
      "text/plain": [
       "<IPython.core.display.Math object>"
      ]
     },
     "metadata": {},
     "output_type": "display_data"
    },
    {
     "name": "stdout",
     "output_type": "stream",
     "text": [
      "4 4\n"
     ]
    },
    {
     "data": {
      "text/latex": [
       "$\\displaystyle a^{(2312)}_{2} a^{(2312)}_{3} b^{(2312)}_{1} b^{(2312)}_{2} \\left(a^{(2312)}_{1} + a^{(2312)}_{4} b^{(2312)}_{4} + b^{(2312)}_{3} + 1\\right)$"
      ],
      "text/plain": [
       "<IPython.core.display.Math object>"
      ]
     },
     "metadata": {},
     "output_type": "display_data"
    },
    {
     "data": {
      "text/latex": [
       "$\\displaystyle \\left(a^{(2312)}_{2}\\right)^{3} \\left(a^{(2312)}_{3}\\right)^{3} \\left(b^{(2312)}_{1}\\right)^{3} \\left(b^{(2312)}_{2}\\right)^{3}$"
      ],
      "text/plain": [
       "<IPython.core.display.Math object>"
      ]
     },
     "metadata": {},
     "output_type": "display_data"
    },
    {
     "name": "stdout",
     "output_type": "stream",
     "text": [
      "4 4\n"
     ]
    },
    {
     "data": {
      "text/latex": [
       "$\\displaystyle a^{(2311)}_{1} a^{(2311)}_{3} b^{(2311)}_{1} b^{(2311)}_{2} \\left(a^{(2311)}_{2} + a^{(2311)}_{4} b^{(2311)}_{4} + b^{(2311)}_{3} + 1\\right)$"
      ],
      "text/plain": [
       "<IPython.core.display.Math object>"
      ]
     },
     "metadata": {},
     "output_type": "display_data"
    },
    {
     "data": {
      "text/latex": [
       "$\\displaystyle \\left(a^{(2311)}_{1}\\right)^{3} \\left(a^{(2311)}_{3}\\right)^{3} \\left(b^{(2311)}_{1}\\right)^{3} \\left(b^{(2311)}_{2}\\right)^{3}$"
      ],
      "text/plain": [
       "<IPython.core.display.Math object>"
      ]
     },
     "metadata": {},
     "output_type": "display_data"
    },
    {
     "name": "stdout",
     "output_type": "stream",
     "text": [
      "4 4\n"
     ]
    },
    {
     "data": {
      "text/latex": [
       "$\\displaystyle a^{(2144)}_{1} a^{(2144)}_{4} b^{(2144)}_{2} b^{(2144)}_{4} \\left(a^{(2144)}_{2} + a^{(2144)}_{3} b^{(2144)}_{3} + b^{(2144)}_{1} + 1\\right)$"
      ],
      "text/plain": [
       "<IPython.core.display.Math object>"
      ]
     },
     "metadata": {},
     "output_type": "display_data"
    },
    {
     "data": {
      "text/latex": [
       "$\\displaystyle \\left(a^{(2144)}_{1}\\right)^{3} \\left(a^{(2144)}_{4}\\right)^{3} \\left(b^{(2144)}_{2}\\right)^{3} \\left(b^{(2144)}_{4}\\right)^{3}$"
      ],
      "text/plain": [
       "<IPython.core.display.Math object>"
      ]
     },
     "metadata": {},
     "output_type": "display_data"
    },
    {
     "name": "stdout",
     "output_type": "stream",
     "text": [
      "4 4\n"
     ]
    },
    {
     "data": {
      "text/latex": [
       "$\\displaystyle a^{(2142)}_{1} a^{(2142)}_{2} b^{(2142)}_{2} b^{(2142)}_{4} \\left(a^{(2142)}_{3} b^{(2142)}_{3} + a^{(2142)}_{4} + b^{(2142)}_{1} + 1\\right)$"
      ],
      "text/plain": [
       "<IPython.core.display.Math object>"
      ]
     },
     "metadata": {},
     "output_type": "display_data"
    },
    {
     "data": {
      "text/latex": [
       "$\\displaystyle \\left(a^{(2142)}_{1}\\right)^{3} \\left(a^{(2142)}_{2}\\right)^{3} \\left(b^{(2142)}_{2}\\right)^{3} \\left(b^{(2142)}_{4}\\right)^{3}$"
      ],
      "text/plain": [
       "<IPython.core.display.Math object>"
      ]
     },
     "metadata": {},
     "output_type": "display_data"
    },
    {
     "name": "stdout",
     "output_type": "stream",
     "text": [
      "4 4\n"
     ]
    },
    {
     "data": {
      "text/latex": [
       "$\\displaystyle a^{(2141)}_{1} b^{(2141)}_{1} b^{(2141)}_{2} b^{(2141)}_{4} \\left(a^{(2141)}_{2} + a^{(2141)}_{3} b^{(2141)}_{3} + a^{(2141)}_{4} + 1\\right)$"
      ],
      "text/plain": [
       "<IPython.core.display.Math object>"
      ]
     },
     "metadata": {},
     "output_type": "display_data"
    },
    {
     "data": {
      "text/latex": [
       "$\\displaystyle \\left(a^{(2141)}_{1}\\right)^{3} \\left(b^{(2141)}_{1}\\right)^{3} \\left(b^{(2141)}_{2}\\right)^{3} \\left(b^{(2141)}_{4}\\right)^{3}$"
      ],
      "text/plain": [
       "<IPython.core.display.Math object>"
      ]
     },
     "metadata": {},
     "output_type": "display_data"
    },
    {
     "name": "stdout",
     "output_type": "stream",
     "text": [
      "4 4\n"
     ]
    },
    {
     "data": {
      "text/latex": [
       "$\\displaystyle a^{(2133)}_{1} a^{(2133)}_{3} b^{(2133)}_{2} b^{(2133)}_{3} \\left(a^{(2133)}_{2} + a^{(2133)}_{4} b^{(2133)}_{4} + b^{(2133)}_{1} + 1\\right)$"
      ],
      "text/plain": [
       "<IPython.core.display.Math object>"
      ]
     },
     "metadata": {},
     "output_type": "display_data"
    },
    {
     "data": {
      "text/latex": [
       "$\\displaystyle \\left(a^{(2133)}_{1}\\right)^{3} \\left(a^{(2133)}_{3}\\right)^{3} \\left(b^{(2133)}_{2}\\right)^{3} \\left(b^{(2133)}_{3}\\right)^{3}$"
      ],
      "text/plain": [
       "<IPython.core.display.Math object>"
      ]
     },
     "metadata": {},
     "output_type": "display_data"
    },
    {
     "name": "stdout",
     "output_type": "stream",
     "text": [
      "4 4\n"
     ]
    },
    {
     "data": {
      "text/latex": [
       "$\\displaystyle a^{(2132)}_{1} a^{(2132)}_{2} b^{(2132)}_{2} b^{(2132)}_{3} \\left(a^{(2132)}_{3} + a^{(2132)}_{4} b^{(2132)}_{4} + b^{(2132)}_{1} + 1\\right)$"
      ],
      "text/plain": [
       "<IPython.core.display.Math object>"
      ]
     },
     "metadata": {},
     "output_type": "display_data"
    },
    {
     "data": {
      "text/latex": [
       "$\\displaystyle \\left(a^{(2132)}_{1}\\right)^{3} \\left(a^{(2132)}_{2}\\right)^{3} \\left(b^{(2132)}_{2}\\right)^{3} \\left(b^{(2132)}_{3}\\right)^{3}$"
      ],
      "text/plain": [
       "<IPython.core.display.Math object>"
      ]
     },
     "metadata": {},
     "output_type": "display_data"
    },
    {
     "name": "stdout",
     "output_type": "stream",
     "text": [
      "4 4\n"
     ]
    },
    {
     "data": {
      "text/latex": [
       "$\\displaystyle a^{(2131)}_{1} b^{(2131)}_{1} b^{(2131)}_{2} b^{(2131)}_{3} \\left(a^{(2131)}_{2} + a^{(2131)}_{3} + a^{(2131)}_{4} b^{(2131)}_{4} + 1\\right)$"
      ],
      "text/plain": [
       "<IPython.core.display.Math object>"
      ]
     },
     "metadata": {},
     "output_type": "display_data"
    },
    {
     "data": {
      "text/latex": [
       "$\\displaystyle \\left(a^{(2131)}_{1}\\right)^{3} \\left(b^{(2131)}_{1}\\right)^{3} \\left(b^{(2131)}_{2}\\right)^{3} \\left(b^{(2131)}_{3}\\right)^{3}$"
      ],
      "text/plain": [
       "<IPython.core.display.Math object>"
      ]
     },
     "metadata": {},
     "output_type": "display_data"
    },
    {
     "name": "stdout",
     "output_type": "stream",
     "text": [
      "4 4\n"
     ]
    },
    {
     "data": {
      "text/latex": [
       "$\\displaystyle a^{(1434)}_{4} b^{(1434)}_{1} b^{(1434)}_{3} b^{(1434)}_{4} \\left(a^{(1434)}_{1} + a^{(1434)}_{2} b^{(1434)}_{2} + a^{(1434)}_{3} + 1\\right)$"
      ],
      "text/plain": [
       "<IPython.core.display.Math object>"
      ]
     },
     "metadata": {},
     "output_type": "display_data"
    },
    {
     "data": {
      "text/latex": [
       "$\\displaystyle \\left(a^{(1434)}_{4}\\right)^{3} \\left(b^{(1434)}_{1}\\right)^{3} \\left(b^{(1434)}_{3}\\right)^{3} \\left(b^{(1434)}_{4}\\right)^{3}$"
      ],
      "text/plain": [
       "<IPython.core.display.Math object>"
      ]
     },
     "metadata": {},
     "output_type": "display_data"
    },
    {
     "name": "stdout",
     "output_type": "stream",
     "text": [
      "4 4\n"
     ]
    },
    {
     "data": {
      "text/latex": [
       "$\\displaystyle a^{(1433)}_{3} b^{(1433)}_{1} b^{(1433)}_{3} b^{(1433)}_{4} \\left(a^{(1433)}_{1} + a^{(1433)}_{2} b^{(1433)}_{2} + a^{(1433)}_{4} + 1\\right)$"
      ],
      "text/plain": [
       "<IPython.core.display.Math object>"
      ]
     },
     "metadata": {},
     "output_type": "display_data"
    },
    {
     "data": {
      "text/latex": [
       "$\\displaystyle \\left(a^{(1433)}_{3}\\right)^{3} \\left(b^{(1433)}_{1}\\right)^{3} \\left(b^{(1433)}_{3}\\right)^{3} \\left(b^{(1433)}_{4}\\right)^{3}$"
      ],
      "text/plain": [
       "<IPython.core.display.Math object>"
      ]
     },
     "metadata": {},
     "output_type": "display_data"
    },
    {
     "name": "stdout",
     "output_type": "stream",
     "text": [
      "4 4\n"
     ]
    },
    {
     "data": {
      "text/latex": [
       "$\\displaystyle a^{(1431)}_{1} b^{(1431)}_{1} b^{(1431)}_{3} b^{(1431)}_{4} \\left(a^{(1431)}_{2} b^{(1431)}_{2} + a^{(1431)}_{3} + a^{(1431)}_{4} + 1\\right)$"
      ],
      "text/plain": [
       "<IPython.core.display.Math object>"
      ]
     },
     "metadata": {},
     "output_type": "display_data"
    },
    {
     "data": {
      "text/latex": [
       "$\\displaystyle \\left(a^{(1431)}_{1}\\right)^{3} \\left(b^{(1431)}_{1}\\right)^{3} \\left(b^{(1431)}_{3}\\right)^{3} \\left(b^{(1431)}_{4}\\right)^{3}$"
      ],
      "text/plain": [
       "<IPython.core.display.Math object>"
      ]
     },
     "metadata": {},
     "output_type": "display_data"
    },
    {
     "name": "stdout",
     "output_type": "stream",
     "text": [
      "4 4\n"
     ]
    },
    {
     "data": {
      "text/latex": [
       "$\\displaystyle a^{(1424)}_{4} b^{(1424)}_{1} b^{(1424)}_{2} b^{(1424)}_{4} \\left(a^{(1424)}_{1} + a^{(1424)}_{2} + a^{(1424)}_{3} b^{(1424)}_{3} + 1\\right)$"
      ],
      "text/plain": [
       "<IPython.core.display.Math object>"
      ]
     },
     "metadata": {},
     "output_type": "display_data"
    },
    {
     "data": {
      "text/latex": [
       "$\\displaystyle \\left(a^{(1424)}_{4}\\right)^{3} \\left(b^{(1424)}_{1}\\right)^{3} \\left(b^{(1424)}_{2}\\right)^{3} \\left(b^{(1424)}_{4}\\right)^{3}$"
      ],
      "text/plain": [
       "<IPython.core.display.Math object>"
      ]
     },
     "metadata": {},
     "output_type": "display_data"
    },
    {
     "name": "stdout",
     "output_type": "stream",
     "text": [
      "4 4\n"
     ]
    },
    {
     "data": {
      "text/latex": [
       "$\\displaystyle a^{(1422)}_{2} b^{(1422)}_{1} b^{(1422)}_{2} b^{(1422)}_{4} \\left(a^{(1422)}_{1} + a^{(1422)}_{3} b^{(1422)}_{3} + a^{(1422)}_{4} + 1\\right)$"
      ],
      "text/plain": [
       "<IPython.core.display.Math object>"
      ]
     },
     "metadata": {},
     "output_type": "display_data"
    },
    {
     "data": {
      "text/latex": [
       "$\\displaystyle \\left(a^{(1422)}_{2}\\right)^{3} \\left(b^{(1422)}_{1}\\right)^{3} \\left(b^{(1422)}_{2}\\right)^{3} \\left(b^{(1422)}_{4}\\right)^{3}$"
      ],
      "text/plain": [
       "<IPython.core.display.Math object>"
      ]
     },
     "metadata": {},
     "output_type": "display_data"
    },
    {
     "name": "stdout",
     "output_type": "stream",
     "text": [
      "4 4\n"
     ]
    },
    {
     "data": {
      "text/latex": [
       "$\\displaystyle a^{(1421)}_{1} b^{(1421)}_{1} b^{(1421)}_{2} b^{(1421)}_{4} \\left(a^{(1421)}_{2} + a^{(1421)}_{3} b^{(1421)}_{3} + a^{(1421)}_{4} + 1\\right)$"
      ],
      "text/plain": [
       "<IPython.core.display.Math object>"
      ]
     },
     "metadata": {},
     "output_type": "display_data"
    },
    {
     "data": {
      "text/latex": [
       "$\\displaystyle \\left(a^{(1421)}_{1}\\right)^{3} \\left(b^{(1421)}_{1}\\right)^{3} \\left(b^{(1421)}_{2}\\right)^{3} \\left(b^{(1421)}_{4}\\right)^{3}$"
      ],
      "text/plain": [
       "<IPython.core.display.Math object>"
      ]
     },
     "metadata": {},
     "output_type": "display_data"
    },
    {
     "name": "stdout",
     "output_type": "stream",
     "text": [
      "4 4\n"
     ]
    },
    {
     "data": {
      "text/latex": [
       "$\\displaystyle a^{(1344)}_{4} b^{(1344)}_{1} b^{(1344)}_{3} b^{(1344)}_{4} \\left(a^{(1344)}_{1} + a^{(1344)}_{2} b^{(1344)}_{2} + a^{(1344)}_{3} + 1\\right)$"
      ],
      "text/plain": [
       "<IPython.core.display.Math object>"
      ]
     },
     "metadata": {},
     "output_type": "display_data"
    },
    {
     "data": {
      "text/latex": [
       "$\\displaystyle \\left(a^{(1344)}_{4}\\right)^{3} \\left(b^{(1344)}_{1}\\right)^{3} \\left(b^{(1344)}_{3}\\right)^{3} \\left(b^{(1344)}_{4}\\right)^{3}$"
      ],
      "text/plain": [
       "<IPython.core.display.Math object>"
      ]
     },
     "metadata": {},
     "output_type": "display_data"
    },
    {
     "name": "stdout",
     "output_type": "stream",
     "text": [
      "4 4\n"
     ]
    },
    {
     "data": {
      "text/latex": [
       "$\\displaystyle a^{(1343)}_{3} b^{(1343)}_{1} b^{(1343)}_{3} b^{(1343)}_{4} \\left(a^{(1343)}_{1} + a^{(1343)}_{2} b^{(1343)}_{2} + a^{(1343)}_{4} + 1\\right)$"
      ],
      "text/plain": [
       "<IPython.core.display.Math object>"
      ]
     },
     "metadata": {},
     "output_type": "display_data"
    },
    {
     "data": {
      "text/latex": [
       "$\\displaystyle \\left(a^{(1343)}_{3}\\right)^{3} \\left(b^{(1343)}_{1}\\right)^{3} \\left(b^{(1343)}_{3}\\right)^{3} \\left(b^{(1343)}_{4}\\right)^{3}$"
      ],
      "text/plain": [
       "<IPython.core.display.Math object>"
      ]
     },
     "metadata": {},
     "output_type": "display_data"
    },
    {
     "name": "stdout",
     "output_type": "stream",
     "text": [
      "4 4\n"
     ]
    },
    {
     "data": {
      "text/latex": [
       "$\\displaystyle a^{(1341)}_{1} b^{(1341)}_{1} b^{(1341)}_{3} b^{(1341)}_{4} \\left(a^{(1341)}_{2} b^{(1341)}_{2} + a^{(1341)}_{3} + a^{(1341)}_{4} + 1\\right)$"
      ],
      "text/plain": [
       "<IPython.core.display.Math object>"
      ]
     },
     "metadata": {},
     "output_type": "display_data"
    },
    {
     "data": {
      "text/latex": [
       "$\\displaystyle \\left(a^{(1341)}_{1}\\right)^{3} \\left(b^{(1341)}_{1}\\right)^{3} \\left(b^{(1341)}_{3}\\right)^{3} \\left(b^{(1341)}_{4}\\right)^{3}$"
      ],
      "text/plain": [
       "<IPython.core.display.Math object>"
      ]
     },
     "metadata": {},
     "output_type": "display_data"
    },
    {
     "name": "stdout",
     "output_type": "stream",
     "text": [
      "4 4\n"
     ]
    },
    {
     "data": {
      "text/latex": [
       "$\\displaystyle a^{(1323)}_{2} a^{(1323)}_{3} b^{(1323)}_{1} b^{(1323)}_{3} \\left(a^{(1323)}_{1} + a^{(1323)}_{4} b^{(1323)}_{4} + b^{(1323)}_{2} + 1\\right)$"
      ],
      "text/plain": [
       "<IPython.core.display.Math object>"
      ]
     },
     "metadata": {},
     "output_type": "display_data"
    },
    {
     "data": {
      "text/latex": [
       "$\\displaystyle \\left(a^{(1323)}_{2}\\right)^{3} \\left(a^{(1323)}_{3}\\right)^{3} \\left(b^{(1323)}_{1}\\right)^{3} \\left(b^{(1323)}_{3}\\right)^{3}$"
      ],
      "text/plain": [
       "<IPython.core.display.Math object>"
      ]
     },
     "metadata": {},
     "output_type": "display_data"
    },
    {
     "name": "stdout",
     "output_type": "stream",
     "text": [
      "4 4\n"
     ]
    },
    {
     "data": {
      "text/latex": [
       "$\\displaystyle a^{(1322)}_{2} b^{(1322)}_{1} b^{(1322)}_{2} b^{(1322)}_{3} \\left(a^{(1322)}_{1} + a^{(1322)}_{3} + a^{(1322)}_{4} b^{(1322)}_{4} + 1\\right)$"
      ],
      "text/plain": [
       "<IPython.core.display.Math object>"
      ]
     },
     "metadata": {},
     "output_type": "display_data"
    },
    {
     "data": {
      "text/latex": [
       "$\\displaystyle \\left(a^{(1322)}_{2}\\right)^{3} \\left(b^{(1322)}_{1}\\right)^{3} \\left(b^{(1322)}_{2}\\right)^{3} \\left(b^{(1322)}_{3}\\right)^{3}$"
      ],
      "text/plain": [
       "<IPython.core.display.Math object>"
      ]
     },
     "metadata": {},
     "output_type": "display_data"
    },
    {
     "name": "stdout",
     "output_type": "stream",
     "text": [
      "4 4\n"
     ]
    },
    {
     "data": {
      "text/latex": [
       "$\\displaystyle a^{(1321)}_{1} a^{(1321)}_{2} b^{(1321)}_{1} b^{(1321)}_{3} \\left(a^{(1321)}_{3} + a^{(1321)}_{4} b^{(1321)}_{4} + b^{(1321)}_{2} + 1\\right)$"
      ],
      "text/plain": [
       "<IPython.core.display.Math object>"
      ]
     },
     "metadata": {},
     "output_type": "display_data"
    },
    {
     "data": {
      "text/latex": [
       "$\\displaystyle \\left(a^{(1321)}_{1}\\right)^{3} \\left(a^{(1321)}_{2}\\right)^{3} \\left(b^{(1321)}_{1}\\right)^{3} \\left(b^{(1321)}_{3}\\right)^{3}$"
      ],
      "text/plain": [
       "<IPython.core.display.Math object>"
      ]
     },
     "metadata": {},
     "output_type": "display_data"
    },
    {
     "name": "stdout",
     "output_type": "stream",
     "text": [
      "4 4\n"
     ]
    },
    {
     "data": {
      "text/latex": [
       "$\\displaystyle a^{(1244)}_{2} a^{(1244)}_{4} b^{(1244)}_{1} b^{(1244)}_{4} \\left(a^{(1244)}_{1} + a^{(1244)}_{3} b^{(1244)}_{3} + b^{(1244)}_{2} + 1\\right)$"
      ],
      "text/plain": [
       "<IPython.core.display.Math object>"
      ]
     },
     "metadata": {},
     "output_type": "display_data"
    },
    {
     "data": {
      "text/latex": [
       "$\\displaystyle \\left(a^{(1244)}_{2}\\right)^{3} \\left(a^{(1244)}_{4}\\right)^{3} \\left(b^{(1244)}_{1}\\right)^{3} \\left(b^{(1244)}_{4}\\right)^{3}$"
      ],
      "text/plain": [
       "<IPython.core.display.Math object>"
      ]
     },
     "metadata": {},
     "output_type": "display_data"
    },
    {
     "name": "stdout",
     "output_type": "stream",
     "text": [
      "4 4\n"
     ]
    },
    {
     "data": {
      "text/latex": [
       "$\\displaystyle a^{(1242)}_{2} a^{(1242)}_{4} b^{(1242)}_{1} b^{(1242)}_{2} \\left(a^{(1242)}_{1} + a^{(1242)}_{3} b^{(1242)}_{3} + b^{(1242)}_{4} + 1\\right)$"
      ],
      "text/plain": [
       "<IPython.core.display.Math object>"
      ]
     },
     "metadata": {},
     "output_type": "display_data"
    },
    {
     "data": {
      "text/latex": [
       "$\\displaystyle \\left(a^{(1242)}_{2}\\right)^{3} \\left(a^{(1242)}_{4}\\right)^{3} \\left(b^{(1242)}_{1}\\right)^{3} \\left(b^{(1242)}_{2}\\right)^{3}$"
      ],
      "text/plain": [
       "<IPython.core.display.Math object>"
      ]
     },
     "metadata": {},
     "output_type": "display_data"
    },
    {
     "name": "stdout",
     "output_type": "stream",
     "text": [
      "4 4\n"
     ]
    },
    {
     "data": {
      "text/latex": [
       "$\\displaystyle a^{(1241)}_{1} a^{(1241)}_{2} a^{(1241)}_{4} b^{(1241)}_{1} \\left(a^{(1241)}_{3} b^{(1241)}_{3} + b^{(1241)}_{2} + b^{(1241)}_{4} + 1\\right)$"
      ],
      "text/plain": [
       "<IPython.core.display.Math object>"
      ]
     },
     "metadata": {},
     "output_type": "display_data"
    },
    {
     "data": {
      "text/latex": [
       "$\\displaystyle \\left(a^{(1241)}_{1}\\right)^{3} \\left(a^{(1241)}_{2}\\right)^{3} \\left(a^{(1241)}_{4}\\right)^{3} \\left(b^{(1241)}_{1}\\right)^{3}$"
      ],
      "text/plain": [
       "<IPython.core.display.Math object>"
      ]
     },
     "metadata": {},
     "output_type": "display_data"
    },
    {
     "name": "stdout",
     "output_type": "stream",
     "text": [
      "4 4\n"
     ]
    },
    {
     "data": {
      "text/latex": [
       "$\\displaystyle a^{(1233)}_{2} a^{(1233)}_{3} b^{(1233)}_{1} b^{(1233)}_{3} \\left(a^{(1233)}_{1} + a^{(1233)}_{4} b^{(1233)}_{4} + b^{(1233)}_{2} + 1\\right)$"
      ],
      "text/plain": [
       "<IPython.core.display.Math object>"
      ]
     },
     "metadata": {},
     "output_type": "display_data"
    },
    {
     "data": {
      "text/latex": [
       "$\\displaystyle \\left(a^{(1233)}_{2}\\right)^{3} \\left(a^{(1233)}_{3}\\right)^{3} \\left(b^{(1233)}_{1}\\right)^{3} \\left(b^{(1233)}_{3}\\right)^{3}$"
      ],
      "text/plain": [
       "<IPython.core.display.Math object>"
      ]
     },
     "metadata": {},
     "output_type": "display_data"
    },
    {
     "name": "stdout",
     "output_type": "stream",
     "text": [
      "4 4\n"
     ]
    },
    {
     "data": {
      "text/latex": [
       "$\\displaystyle a^{(1232)}_{2} a^{(1232)}_{3} b^{(1232)}_{1} b^{(1232)}_{2} \\left(a^{(1232)}_{1} + a^{(1232)}_{4} b^{(1232)}_{4} + b^{(1232)}_{3} + 1\\right)$"
      ],
      "text/plain": [
       "<IPython.core.display.Math object>"
      ]
     },
     "metadata": {},
     "output_type": "display_data"
    },
    {
     "data": {
      "text/latex": [
       "$\\displaystyle \\left(a^{(1232)}_{2}\\right)^{3} \\left(a^{(1232)}_{3}\\right)^{3} \\left(b^{(1232)}_{1}\\right)^{3} \\left(b^{(1232)}_{2}\\right)^{3}$"
      ],
      "text/plain": [
       "<IPython.core.display.Math object>"
      ]
     },
     "metadata": {},
     "output_type": "display_data"
    },
    {
     "name": "stdout",
     "output_type": "stream",
     "text": [
      "4 4\n"
     ]
    },
    {
     "data": {
      "text/latex": [
       "$\\displaystyle a^{(1231)}_{1} a^{(1231)}_{2} a^{(1231)}_{3} b^{(1231)}_{1} \\left(a^{(1231)}_{4} b^{(1231)}_{4} + b^{(1231)}_{2} + b^{(1231)}_{3} + 1\\right)$"
      ],
      "text/plain": [
       "<IPython.core.display.Math object>"
      ]
     },
     "metadata": {},
     "output_type": "display_data"
    },
    {
     "data": {
      "text/latex": [
       "$\\displaystyle \\left(a^{(1231)}_{1}\\right)^{3} \\left(a^{(1231)}_{2}\\right)^{3} \\left(a^{(1231)}_{3}\\right)^{3} \\left(b^{(1231)}_{1}\\right)^{3}$"
      ],
      "text/plain": [
       "<IPython.core.display.Math object>"
      ]
     },
     "metadata": {},
     "output_type": "display_data"
    },
    {
     "name": "stdout",
     "output_type": "stream",
     "text": [
      "4 4\n"
     ]
    },
    {
     "data": {
      "text/latex": [
       "$\\displaystyle a^{(43214)}_{4} b^{(43214)}_{1} b^{(43214)}_{2} b^{(43214)}_{3} b^{(43214)}_{4} \\left(a^{(43214)}_{1} + a^{(43214)}_{2} + a^{(43214)}_{3} + 1\\right)$"
      ],
      "text/plain": [
       "<IPython.core.display.Math object>"
      ]
     },
     "metadata": {},
     "output_type": "display_data"
    },
    {
     "data": {
      "text/latex": [
       "$\\displaystyle \\left(a^{(43214)}_{4}\\right)^{3} \\left(b^{(43214)}_{1}\\right)^{3} \\left(b^{(43214)}_{2}\\right)^{3} \\left(b^{(43214)}_{3}\\right)^{3} \\left(b^{(43214)}_{4}\\right)^{3}$"
      ],
      "text/plain": [
       "<IPython.core.display.Math object>"
      ]
     },
     "metadata": {},
     "output_type": "display_data"
    },
    {
     "name": "stdout",
     "output_type": "stream",
     "text": [
      "4 5\n"
     ]
    },
    {
     "data": {
      "text/latex": [
       "$\\displaystyle a^{(43213)}_{3} a^{(43213)}_{4} b^{(43213)}_{1} b^{(43213)}_{2} b^{(43213)}_{3} \\left(a^{(43213)}_{1} + a^{(43213)}_{2} + b^{(43213)}_{4} + 1\\right)$"
      ],
      "text/plain": [
       "<IPython.core.display.Math object>"
      ]
     },
     "metadata": {},
     "output_type": "display_data"
    },
    {
     "data": {
      "text/latex": [
       "$\\displaystyle \\left(a^{(43213)}_{3}\\right)^{3} \\left(a^{(43213)}_{4}\\right)^{3} \\left(b^{(43213)}_{1}\\right)^{3} \\left(b^{(43213)}_{2}\\right)^{3} \\left(b^{(43213)}_{3}\\right)^{3}$"
      ],
      "text/plain": [
       "<IPython.core.display.Math object>"
      ]
     },
     "metadata": {},
     "output_type": "display_data"
    },
    {
     "name": "stdout",
     "output_type": "stream",
     "text": [
      "4 5\n"
     ]
    },
    {
     "data": {
      "text/latex": [
       "$\\displaystyle a^{(43212)}_{2} a^{(43212)}_{4} b^{(43212)}_{1} b^{(43212)}_{2} b^{(43212)}_{3} \\left(a^{(43212)}_{1} + a^{(43212)}_{3} + b^{(43212)}_{4} + 1\\right)$"
      ],
      "text/plain": [
       "<IPython.core.display.Math object>"
      ]
     },
     "metadata": {},
     "output_type": "display_data"
    },
    {
     "data": {
      "text/latex": [
       "$\\displaystyle \\left(a^{(43212)}_{2}\\right)^{3} \\left(a^{(43212)}_{4}\\right)^{3} \\left(b^{(43212)}_{1}\\right)^{3} \\left(b^{(43212)}_{2}\\right)^{3} \\left(b^{(43212)}_{3}\\right)^{3}$"
      ],
      "text/plain": [
       "<IPython.core.display.Math object>"
      ]
     },
     "metadata": {},
     "output_type": "display_data"
    },
    {
     "name": "stdout",
     "output_type": "stream",
     "text": [
      "4 5\n"
     ]
    },
    {
     "data": {
      "text/latex": [
       "$\\displaystyle a^{(43211)}_{1} a^{(43211)}_{4} b^{(43211)}_{1} b^{(43211)}_{2} b^{(43211)}_{3} \\left(a^{(43211)}_{2} + a^{(43211)}_{3} + b^{(43211)}_{4} + 1\\right)$"
      ],
      "text/plain": [
       "<IPython.core.display.Math object>"
      ]
     },
     "metadata": {},
     "output_type": "display_data"
    },
    {
     "data": {
      "text/latex": [
       "$\\displaystyle \\left(a^{(43211)}_{1}\\right)^{3} \\left(a^{(43211)}_{4}\\right)^{3} \\left(b^{(43211)}_{1}\\right)^{3} \\left(b^{(43211)}_{2}\\right)^{3} \\left(b^{(43211)}_{3}\\right)^{3}$"
      ],
      "text/plain": [
       "<IPython.core.display.Math object>"
      ]
     },
     "metadata": {},
     "output_type": "display_data"
    },
    {
     "name": "stdout",
     "output_type": "stream",
     "text": [
      "4 5\n"
     ]
    },
    {
     "data": {
      "text/latex": [
       "$\\displaystyle a^{(43124)}_{4} b^{(43124)}_{1} b^{(43124)}_{2} b^{(43124)}_{3} b^{(43124)}_{4} \\left(a^{(43124)}_{1} + a^{(43124)}_{2} + a^{(43124)}_{3} + 1\\right)$"
      ],
      "text/plain": [
       "<IPython.core.display.Math object>"
      ]
     },
     "metadata": {},
     "output_type": "display_data"
    },
    {
     "data": {
      "text/latex": [
       "$\\displaystyle \\left(a^{(43124)}_{4}\\right)^{3} \\left(b^{(43124)}_{1}\\right)^{3} \\left(b^{(43124)}_{2}\\right)^{3} \\left(b^{(43124)}_{3}\\right)^{3} \\left(b^{(43124)}_{4}\\right)^{3}$"
      ],
      "text/plain": [
       "<IPython.core.display.Math object>"
      ]
     },
     "metadata": {},
     "output_type": "display_data"
    },
    {
     "name": "stdout",
     "output_type": "stream",
     "text": [
      "4 5\n"
     ]
    },
    {
     "data": {
      "text/latex": [
       "$\\displaystyle a^{(43123)}_{3} a^{(43123)}_{4} b^{(43123)}_{1} b^{(43123)}_{2} b^{(43123)}_{3} \\left(a^{(43123)}_{1} + a^{(43123)}_{2} + b^{(43123)}_{4} + 1\\right)$"
      ],
      "text/plain": [
       "<IPython.core.display.Math object>"
      ]
     },
     "metadata": {},
     "output_type": "display_data"
    },
    {
     "data": {
      "text/latex": [
       "$\\displaystyle \\left(a^{(43123)}_{3}\\right)^{3} \\left(a^{(43123)}_{4}\\right)^{3} \\left(b^{(43123)}_{1}\\right)^{3} \\left(b^{(43123)}_{2}\\right)^{3} \\left(b^{(43123)}_{3}\\right)^{3}$"
      ],
      "text/plain": [
       "<IPython.core.display.Math object>"
      ]
     },
     "metadata": {},
     "output_type": "display_data"
    },
    {
     "name": "stdout",
     "output_type": "stream",
     "text": [
      "4 5\n"
     ]
    },
    {
     "data": {
      "text/latex": [
       "$\\displaystyle a^{(43122)}_{2} a^{(43122)}_{4} b^{(43122)}_{1} b^{(43122)}_{2} b^{(43122)}_{3} \\left(a^{(43122)}_{1} + a^{(43122)}_{3} + b^{(43122)}_{4} + 1\\right)$"
      ],
      "text/plain": [
       "<IPython.core.display.Math object>"
      ]
     },
     "metadata": {},
     "output_type": "display_data"
    },
    {
     "data": {
      "text/latex": [
       "$\\displaystyle \\left(a^{(43122)}_{2}\\right)^{3} \\left(a^{(43122)}_{4}\\right)^{3} \\left(b^{(43122)}_{1}\\right)^{3} \\left(b^{(43122)}_{2}\\right)^{3} \\left(b^{(43122)}_{3}\\right)^{3}$"
      ],
      "text/plain": [
       "<IPython.core.display.Math object>"
      ]
     },
     "metadata": {},
     "output_type": "display_data"
    },
    {
     "name": "stdout",
     "output_type": "stream",
     "text": [
      "4 5\n"
     ]
    },
    {
     "data": {
      "text/latex": [
       "$\\displaystyle a^{(43121)}_{1} a^{(43121)}_{4} b^{(43121)}_{1} b^{(43121)}_{2} b^{(43121)}_{3} \\left(a^{(43121)}_{2} + a^{(43121)}_{3} + b^{(43121)}_{4} + 1\\right)$"
      ],
      "text/plain": [
       "<IPython.core.display.Math object>"
      ]
     },
     "metadata": {},
     "output_type": "display_data"
    },
    {
     "data": {
      "text/latex": [
       "$\\displaystyle \\left(a^{(43121)}_{1}\\right)^{3} \\left(a^{(43121)}_{4}\\right)^{3} \\left(b^{(43121)}_{1}\\right)^{3} \\left(b^{(43121)}_{2}\\right)^{3} \\left(b^{(43121)}_{3}\\right)^{3}$"
      ],
      "text/plain": [
       "<IPython.core.display.Math object>"
      ]
     },
     "metadata": {},
     "output_type": "display_data"
    },
    {
     "name": "stdout",
     "output_type": "stream",
     "text": [
      "4 5\n"
     ]
    },
    {
     "data": {
      "text/latex": [
       "$\\displaystyle a^{(42314)}_{1} a^{(42314)}_{3} a^{(42314)}_{4} b^{(42314)}_{2} b^{(42314)}_{4} \\left(a^{(42314)}_{2} + b^{(42314)}_{1} + b^{(42314)}_{3} + 1\\right)$"
      ],
      "text/plain": [
       "<IPython.core.display.Math object>"
      ]
     },
     "metadata": {},
     "output_type": "display_data"
    },
    {
     "data": {
      "text/latex": [
       "$\\displaystyle \\left(a^{(42314)}_{1}\\right)^{3} \\left(a^{(42314)}_{3}\\right)^{3} \\left(a^{(42314)}_{4}\\right)^{3} \\left(b^{(42314)}_{2}\\right)^{3} \\left(b^{(42314)}_{4}\\right)^{3}$"
      ],
      "text/plain": [
       "<IPython.core.display.Math object>"
      ]
     },
     "metadata": {},
     "output_type": "display_data"
    },
    {
     "name": "stdout",
     "output_type": "stream",
     "text": [
      "4 5\n"
     ]
    },
    {
     "data": {
      "text/latex": [
       "$\\displaystyle a^{(42313)}_{1} a^{(42313)}_{3} a^{(42313)}_{4} b^{(42313)}_{2} b^{(42313)}_{3} \\left(a^{(42313)}_{2} + b^{(42313)}_{1} + b^{(42313)}_{4} + 1\\right)$"
      ],
      "text/plain": [
       "<IPython.core.display.Math object>"
      ]
     },
     "metadata": {},
     "output_type": "display_data"
    },
    {
     "data": {
      "text/latex": [
       "$\\displaystyle \\left(a^{(42313)}_{1}\\right)^{3} \\left(a^{(42313)}_{3}\\right)^{3} \\left(a^{(42313)}_{4}\\right)^{3} \\left(b^{(42313)}_{2}\\right)^{3} \\left(b^{(42313)}_{3}\\right)^{3}$"
      ],
      "text/plain": [
       "<IPython.core.display.Math object>"
      ]
     },
     "metadata": {},
     "output_type": "display_data"
    },
    {
     "name": "stdout",
     "output_type": "stream",
     "text": [
      "4 5\n"
     ]
    },
    {
     "data": {
      "text/latex": [
       "$\\displaystyle a^{(42312)}_{1} a^{(42312)}_{2} a^{(42312)}_{3} a^{(42312)}_{4} b^{(42312)}_{2} \\left(b^{(42312)}_{1} + b^{(42312)}_{3} + b^{(42312)}_{4} + 1\\right)$"
      ],
      "text/plain": [
       "<IPython.core.display.Math object>"
      ]
     },
     "metadata": {},
     "output_type": "display_data"
    },
    {
     "data": {
      "text/latex": [
       "$\\displaystyle \\left(a^{(42312)}_{1}\\right)^{3} \\left(a^{(42312)}_{2}\\right)^{3} \\left(a^{(42312)}_{3}\\right)^{3} \\left(a^{(42312)}_{4}\\right)^{3} \\left(b^{(42312)}_{2}\\right)^{3}$"
      ],
      "text/plain": [
       "<IPython.core.display.Math object>"
      ]
     },
     "metadata": {},
     "output_type": "display_data"
    },
    {
     "name": "stdout",
     "output_type": "stream",
     "text": [
      "4 5\n"
     ]
    },
    {
     "data": {
      "text/latex": [
       "$\\displaystyle a^{(42311)}_{1} a^{(42311)}_{3} a^{(42311)}_{4} b^{(42311)}_{1} b^{(42311)}_{2} \\left(a^{(42311)}_{2} + b^{(42311)}_{3} + b^{(42311)}_{4} + 1\\right)$"
      ],
      "text/plain": [
       "<IPython.core.display.Math object>"
      ]
     },
     "metadata": {},
     "output_type": "display_data"
    },
    {
     "data": {
      "text/latex": [
       "$\\displaystyle \\left(a^{(42311)}_{1}\\right)^{3} \\left(a^{(42311)}_{3}\\right)^{3} \\left(a^{(42311)}_{4}\\right)^{3} \\left(b^{(42311)}_{1}\\right)^{3} \\left(b^{(42311)}_{2}\\right)^{3}$"
      ],
      "text/plain": [
       "<IPython.core.display.Math object>"
      ]
     },
     "metadata": {},
     "output_type": "display_data"
    },
    {
     "name": "stdout",
     "output_type": "stream",
     "text": [
      "4 5\n"
     ]
    },
    {
     "data": {
      "text/latex": [
       "$\\displaystyle a^{(42134)}_{1} a^{(42134)}_{4} b^{(42134)}_{2} b^{(42134)}_{3} b^{(42134)}_{4} \\left(a^{(42134)}_{2} + a^{(42134)}_{3} + b^{(42134)}_{1} + 1\\right)$"
      ],
      "text/plain": [
       "<IPython.core.display.Math object>"
      ]
     },
     "metadata": {},
     "output_type": "display_data"
    },
    {
     "data": {
      "text/latex": [
       "$\\displaystyle \\left(a^{(42134)}_{1}\\right)^{3} \\left(a^{(42134)}_{4}\\right)^{3} \\left(b^{(42134)}_{2}\\right)^{3} \\left(b^{(42134)}_{3}\\right)^{3} \\left(b^{(42134)}_{4}\\right)^{3}$"
      ],
      "text/plain": [
       "<IPython.core.display.Math object>"
      ]
     },
     "metadata": {},
     "output_type": "display_data"
    },
    {
     "name": "stdout",
     "output_type": "stream",
     "text": [
      "4 5\n"
     ]
    },
    {
     "data": {
      "text/latex": [
       "$\\displaystyle a^{(42133)}_{1} a^{(42133)}_{3} a^{(42133)}_{4} b^{(42133)}_{2} b^{(42133)}_{3} \\left(a^{(42133)}_{2} + b^{(42133)}_{1} + b^{(42133)}_{4} + 1\\right)$"
      ],
      "text/plain": [
       "<IPython.core.display.Math object>"
      ]
     },
     "metadata": {},
     "output_type": "display_data"
    },
    {
     "data": {
      "text/latex": [
       "$\\displaystyle \\left(a^{(42133)}_{1}\\right)^{3} \\left(a^{(42133)}_{3}\\right)^{3} \\left(a^{(42133)}_{4}\\right)^{3} \\left(b^{(42133)}_{2}\\right)^{3} \\left(b^{(42133)}_{3}\\right)^{3}$"
      ],
      "text/plain": [
       "<IPython.core.display.Math object>"
      ]
     },
     "metadata": {},
     "output_type": "display_data"
    },
    {
     "name": "stdout",
     "output_type": "stream",
     "text": [
      "4 5\n"
     ]
    },
    {
     "data": {
      "text/latex": [
       "$\\displaystyle a^{(42132)}_{1} a^{(42132)}_{2} a^{(42132)}_{4} b^{(42132)}_{2} b^{(42132)}_{3} \\left(a^{(42132)}_{3} + b^{(42132)}_{1} + b^{(42132)}_{4} + 1\\right)$"
      ],
      "text/plain": [
       "<IPython.core.display.Math object>"
      ]
     },
     "metadata": {},
     "output_type": "display_data"
    },
    {
     "data": {
      "text/latex": [
       "$\\displaystyle \\left(a^{(42132)}_{1}\\right)^{3} \\left(a^{(42132)}_{2}\\right)^{3} \\left(a^{(42132)}_{4}\\right)^{3} \\left(b^{(42132)}_{2}\\right)^{3} \\left(b^{(42132)}_{3}\\right)^{3}$"
      ],
      "text/plain": [
       "<IPython.core.display.Math object>"
      ]
     },
     "metadata": {},
     "output_type": "display_data"
    },
    {
     "name": "stdout",
     "output_type": "stream",
     "text": [
      "4 5\n"
     ]
    },
    {
     "data": {
      "text/latex": [
       "$\\displaystyle a^{(42131)}_{1} a^{(42131)}_{4} b^{(42131)}_{1} b^{(42131)}_{2} b^{(42131)}_{3} \\left(a^{(42131)}_{2} + a^{(42131)}_{3} + b^{(42131)}_{4} + 1\\right)$"
      ],
      "text/plain": [
       "<IPython.core.display.Math object>"
      ]
     },
     "metadata": {},
     "output_type": "display_data"
    },
    {
     "data": {
      "text/latex": [
       "$\\displaystyle \\left(a^{(42131)}_{1}\\right)^{3} \\left(a^{(42131)}_{4}\\right)^{3} \\left(b^{(42131)}_{1}\\right)^{3} \\left(b^{(42131)}_{2}\\right)^{3} \\left(b^{(42131)}_{3}\\right)^{3}$"
      ],
      "text/plain": [
       "<IPython.core.display.Math object>"
      ]
     },
     "metadata": {},
     "output_type": "display_data"
    },
    {
     "name": "stdout",
     "output_type": "stream",
     "text": [
      "4 5\n"
     ]
    },
    {
     "data": {
      "text/latex": [
       "$\\displaystyle a^{(41324)}_{1} a^{(41324)}_{2} a^{(41324)}_{3} a^{(41324)}_{4} b^{(41324)}_{4} \\left(b^{(41324)}_{1} + b^{(41324)}_{2} + b^{(41324)}_{3} + 1\\right)$"
      ],
      "text/plain": [
       "<IPython.core.display.Math object>"
      ]
     },
     "metadata": {},
     "output_type": "display_data"
    },
    {
     "data": {
      "text/latex": [
       "$\\displaystyle \\left(a^{(41324)}_{1}\\right)^{3} \\left(a^{(41324)}_{2}\\right)^{3} \\left(a^{(41324)}_{3}\\right)^{3} \\left(a^{(41324)}_{4}\\right)^{3} \\left(b^{(41324)}_{4}\\right)^{3}$"
      ],
      "text/plain": [
       "<IPython.core.display.Math object>"
      ]
     },
     "metadata": {},
     "output_type": "display_data"
    },
    {
     "name": "stdout",
     "output_type": "stream",
     "text": [
      "4 5\n"
     ]
    },
    {
     "data": {
      "text/latex": [
       "$\\displaystyle a^{(41323)}_{1} a^{(41323)}_{2} a^{(41323)}_{3} a^{(41323)}_{4} b^{(41323)}_{3} \\left(b^{(41323)}_{1} + b^{(41323)}_{2} + b^{(41323)}_{4} + 1\\right)$"
      ],
      "text/plain": [
       "<IPython.core.display.Math object>"
      ]
     },
     "metadata": {},
     "output_type": "display_data"
    },
    {
     "data": {
      "text/latex": [
       "$\\displaystyle \\left(a^{(41323)}_{1}\\right)^{3} \\left(a^{(41323)}_{2}\\right)^{3} \\left(a^{(41323)}_{3}\\right)^{3} \\left(a^{(41323)}_{4}\\right)^{3} \\left(b^{(41323)}_{3}\\right)^{3}$"
      ],
      "text/plain": [
       "<IPython.core.display.Math object>"
      ]
     },
     "metadata": {},
     "output_type": "display_data"
    },
    {
     "name": "stdout",
     "output_type": "stream",
     "text": [
      "4 5\n"
     ]
    },
    {
     "data": {
      "text/latex": [
       "$\\displaystyle a^{(41322)}_{1} a^{(41322)}_{2} a^{(41322)}_{3} a^{(41322)}_{4} b^{(41322)}_{2} \\left(b^{(41322)}_{1} + b^{(41322)}_{3} + b^{(41322)}_{4} + 1\\right)$"
      ],
      "text/plain": [
       "<IPython.core.display.Math object>"
      ]
     },
     "metadata": {},
     "output_type": "display_data"
    },
    {
     "data": {
      "text/latex": [
       "$\\displaystyle \\left(a^{(41322)}_{1}\\right)^{3} \\left(a^{(41322)}_{2}\\right)^{3} \\left(a^{(41322)}_{3}\\right)^{3} \\left(a^{(41322)}_{4}\\right)^{3} \\left(b^{(41322)}_{2}\\right)^{3}$"
      ],
      "text/plain": [
       "<IPython.core.display.Math object>"
      ]
     },
     "metadata": {},
     "output_type": "display_data"
    },
    {
     "name": "stdout",
     "output_type": "stream",
     "text": [
      "4 5\n"
     ]
    },
    {
     "data": {
      "text/latex": [
       "$\\displaystyle a^{(41321)}_{1} a^{(41321)}_{2} a^{(41321)}_{3} a^{(41321)}_{4} b^{(41321)}_{1} \\left(b^{(41321)}_{2} + b^{(41321)}_{3} + b^{(41321)}_{4} + 1\\right)$"
      ],
      "text/plain": [
       "<IPython.core.display.Math object>"
      ]
     },
     "metadata": {},
     "output_type": "display_data"
    },
    {
     "data": {
      "text/latex": [
       "$\\displaystyle \\left(a^{(41321)}_{1}\\right)^{3} \\left(a^{(41321)}_{2}\\right)^{3} \\left(a^{(41321)}_{3}\\right)^{3} \\left(a^{(41321)}_{4}\\right)^{3} \\left(b^{(41321)}_{1}\\right)^{3}$"
      ],
      "text/plain": [
       "<IPython.core.display.Math object>"
      ]
     },
     "metadata": {},
     "output_type": "display_data"
    },
    {
     "name": "stdout",
     "output_type": "stream",
     "text": [
      "4 5\n"
     ]
    },
    {
     "data": {
      "text/latex": [
       "$\\displaystyle a^{(41234)}_{1} a^{(41234)}_{2} a^{(41234)}_{3} a^{(41234)}_{4} b^{(41234)}_{4} \\left(b^{(41234)}_{1} + b^{(41234)}_{2} + b^{(41234)}_{3} + 1\\right)$"
      ],
      "text/plain": [
       "<IPython.core.display.Math object>"
      ]
     },
     "metadata": {},
     "output_type": "display_data"
    },
    {
     "data": {
      "text/latex": [
       "$\\displaystyle \\left(a^{(41234)}_{1}\\right)^{3} \\left(a^{(41234)}_{2}\\right)^{3} \\left(a^{(41234)}_{3}\\right)^{3} \\left(a^{(41234)}_{4}\\right)^{3} \\left(b^{(41234)}_{4}\\right)^{3}$"
      ],
      "text/plain": [
       "<IPython.core.display.Math object>"
      ]
     },
     "metadata": {},
     "output_type": "display_data"
    },
    {
     "name": "stdout",
     "output_type": "stream",
     "text": [
      "4 5\n"
     ]
    },
    {
     "data": {
      "text/latex": [
       "$\\displaystyle a^{(41233)}_{1} a^{(41233)}_{2} a^{(41233)}_{3} a^{(41233)}_{4} b^{(41233)}_{3} \\left(b^{(41233)}_{1} + b^{(41233)}_{2} + b^{(41233)}_{4} + 1\\right)$"
      ],
      "text/plain": [
       "<IPython.core.display.Math object>"
      ]
     },
     "metadata": {},
     "output_type": "display_data"
    },
    {
     "data": {
      "text/latex": [
       "$\\displaystyle \\left(a^{(41233)}_{1}\\right)^{3} \\left(a^{(41233)}_{2}\\right)^{3} \\left(a^{(41233)}_{3}\\right)^{3} \\left(a^{(41233)}_{4}\\right)^{3} \\left(b^{(41233)}_{3}\\right)^{3}$"
      ],
      "text/plain": [
       "<IPython.core.display.Math object>"
      ]
     },
     "metadata": {},
     "output_type": "display_data"
    },
    {
     "name": "stdout",
     "output_type": "stream",
     "text": [
      "4 5\n"
     ]
    },
    {
     "data": {
      "text/latex": [
       "$\\displaystyle a^{(41232)}_{1} a^{(41232)}_{2} a^{(41232)}_{3} a^{(41232)}_{4} b^{(41232)}_{2} \\left(b^{(41232)}_{1} + b^{(41232)}_{3} + b^{(41232)}_{4} + 1\\right)$"
      ],
      "text/plain": [
       "<IPython.core.display.Math object>"
      ]
     },
     "metadata": {},
     "output_type": "display_data"
    },
    {
     "data": {
      "text/latex": [
       "$\\displaystyle \\left(a^{(41232)}_{1}\\right)^{3} \\left(a^{(41232)}_{2}\\right)^{3} \\left(a^{(41232)}_{3}\\right)^{3} \\left(a^{(41232)}_{4}\\right)^{3} \\left(b^{(41232)}_{2}\\right)^{3}$"
      ],
      "text/plain": [
       "<IPython.core.display.Math object>"
      ]
     },
     "metadata": {},
     "output_type": "display_data"
    },
    {
     "name": "stdout",
     "output_type": "stream",
     "text": [
      "4 5\n"
     ]
    },
    {
     "data": {
      "text/latex": [
       "$\\displaystyle a^{(41231)}_{1} a^{(41231)}_{2} a^{(41231)}_{3} a^{(41231)}_{4} b^{(41231)}_{1} \\left(b^{(41231)}_{2} + b^{(41231)}_{3} + b^{(41231)}_{4} + 1\\right)$"
      ],
      "text/plain": [
       "<IPython.core.display.Math object>"
      ]
     },
     "metadata": {},
     "output_type": "display_data"
    },
    {
     "data": {
      "text/latex": [
       "$\\displaystyle \\left(a^{(41231)}_{1}\\right)^{3} \\left(a^{(41231)}_{2}\\right)^{3} \\left(a^{(41231)}_{3}\\right)^{3} \\left(a^{(41231)}_{4}\\right)^{3} \\left(b^{(41231)}_{1}\\right)^{3}$"
      ],
      "text/plain": [
       "<IPython.core.display.Math object>"
      ]
     },
     "metadata": {},
     "output_type": "display_data"
    },
    {
     "name": "stdout",
     "output_type": "stream",
     "text": [
      "4 5\n"
     ]
    },
    {
     "data": {
      "text/latex": [
       "$\\displaystyle a^{(34214)}_{3} a^{(34214)}_{4} b^{(34214)}_{1} b^{(34214)}_{2} b^{(34214)}_{4} \\left(a^{(34214)}_{1} + a^{(34214)}_{2} + b^{(34214)}_{3} + 1\\right)$"
      ],
      "text/plain": [
       "<IPython.core.display.Math object>"
      ]
     },
     "metadata": {},
     "output_type": "display_data"
    },
    {
     "data": {
      "text/latex": [
       "$\\displaystyle \\left(a^{(34214)}_{3}\\right)^{3} \\left(a^{(34214)}_{4}\\right)^{3} \\left(b^{(34214)}_{1}\\right)^{3} \\left(b^{(34214)}_{2}\\right)^{3} \\left(b^{(34214)}_{4}\\right)^{3}$"
      ],
      "text/plain": [
       "<IPython.core.display.Math object>"
      ]
     },
     "metadata": {},
     "output_type": "display_data"
    },
    {
     "name": "stdout",
     "output_type": "stream",
     "text": [
      "4 5\n"
     ]
    },
    {
     "data": {
      "text/latex": [
       "$\\displaystyle a^{(34213)}_{3} b^{(34213)}_{1} b^{(34213)}_{2} b^{(34213)}_{3} b^{(34213)}_{4} \\left(a^{(34213)}_{1} + a^{(34213)}_{2} + a^{(34213)}_{4} + 1\\right)$"
      ],
      "text/plain": [
       "<IPython.core.display.Math object>"
      ]
     },
     "metadata": {},
     "output_type": "display_data"
    },
    {
     "data": {
      "text/latex": [
       "$\\displaystyle \\left(a^{(34213)}_{3}\\right)^{3} \\left(b^{(34213)}_{1}\\right)^{3} \\left(b^{(34213)}_{2}\\right)^{3} \\left(b^{(34213)}_{3}\\right)^{3} \\left(b^{(34213)}_{4}\\right)^{3}$"
      ],
      "text/plain": [
       "<IPython.core.display.Math object>"
      ]
     },
     "metadata": {},
     "output_type": "display_data"
    },
    {
     "name": "stdout",
     "output_type": "stream",
     "text": [
      "4 5\n"
     ]
    },
    {
     "data": {
      "text/latex": [
       "$\\displaystyle a^{(34212)}_{2} a^{(34212)}_{3} b^{(34212)}_{1} b^{(34212)}_{2} b^{(34212)}_{4} \\left(a^{(34212)}_{1} + a^{(34212)}_{4} + b^{(34212)}_{3} + 1\\right)$"
      ],
      "text/plain": [
       "<IPython.core.display.Math object>"
      ]
     },
     "metadata": {},
     "output_type": "display_data"
    },
    {
     "data": {
      "text/latex": [
       "$\\displaystyle \\left(a^{(34212)}_{2}\\right)^{3} \\left(a^{(34212)}_{3}\\right)^{3} \\left(b^{(34212)}_{1}\\right)^{3} \\left(b^{(34212)}_{2}\\right)^{3} \\left(b^{(34212)}_{4}\\right)^{3}$"
      ],
      "text/plain": [
       "<IPython.core.display.Math object>"
      ]
     },
     "metadata": {},
     "output_type": "display_data"
    },
    {
     "name": "stdout",
     "output_type": "stream",
     "text": [
      "4 5\n"
     ]
    },
    {
     "data": {
      "text/latex": [
       "$\\displaystyle a^{(34211)}_{1} a^{(34211)}_{3} b^{(34211)}_{1} b^{(34211)}_{2} b^{(34211)}_{4} \\left(a^{(34211)}_{2} + a^{(34211)}_{4} + b^{(34211)}_{3} + 1\\right)$"
      ],
      "text/plain": [
       "<IPython.core.display.Math object>"
      ]
     },
     "metadata": {},
     "output_type": "display_data"
    },
    {
     "data": {
      "text/latex": [
       "$\\displaystyle \\left(a^{(34211)}_{1}\\right)^{3} \\left(a^{(34211)}_{3}\\right)^{3} \\left(b^{(34211)}_{1}\\right)^{3} \\left(b^{(34211)}_{2}\\right)^{3} \\left(b^{(34211)}_{4}\\right)^{3}$"
      ],
      "text/plain": [
       "<IPython.core.display.Math object>"
      ]
     },
     "metadata": {},
     "output_type": "display_data"
    },
    {
     "name": "stdout",
     "output_type": "stream",
     "text": [
      "4 5\n"
     ]
    },
    {
     "data": {
      "text/latex": [
       "$\\displaystyle a^{(34124)}_{2} a^{(34124)}_{3} a^{(34124)}_{4} b^{(34124)}_{1} b^{(34124)}_{4} \\left(a^{(34124)}_{1} + b^{(34124)}_{2} + b^{(34124)}_{3} + 1\\right)$"
      ],
      "text/plain": [
       "<IPython.core.display.Math object>"
      ]
     },
     "metadata": {},
     "output_type": "display_data"
    },
    {
     "data": {
      "text/latex": [
       "$\\displaystyle \\left(a^{(34124)}_{2}\\right)^{3} \\left(a^{(34124)}_{3}\\right)^{3} \\left(a^{(34124)}_{4}\\right)^{3} \\left(b^{(34124)}_{1}\\right)^{3} \\left(b^{(34124)}_{4}\\right)^{3}$"
      ],
      "text/plain": [
       "<IPython.core.display.Math object>"
      ]
     },
     "metadata": {},
     "output_type": "display_data"
    },
    {
     "name": "stdout",
     "output_type": "stream",
     "text": [
      "4 5\n"
     ]
    },
    {
     "data": {
      "text/latex": [
       "$\\displaystyle a^{(34123)}_{2} a^{(34123)}_{3} b^{(34123)}_{1} b^{(34123)}_{3} b^{(34123)}_{4} \\left(a^{(34123)}_{1} + a^{(34123)}_{4} + b^{(34123)}_{2} + 1\\right)$"
      ],
      "text/plain": [
       "<IPython.core.display.Math object>"
      ]
     },
     "metadata": {},
     "output_type": "display_data"
    },
    {
     "data": {
      "text/latex": [
       "$\\displaystyle \\left(a^{(34123)}_{2}\\right)^{3} \\left(a^{(34123)}_{3}\\right)^{3} \\left(b^{(34123)}_{1}\\right)^{3} \\left(b^{(34123)}_{3}\\right)^{3} \\left(b^{(34123)}_{4}\\right)^{3}$"
      ],
      "text/plain": [
       "<IPython.core.display.Math object>"
      ]
     },
     "metadata": {},
     "output_type": "display_data"
    },
    {
     "name": "stdout",
     "output_type": "stream",
     "text": [
      "4 5\n"
     ]
    },
    {
     "data": {
      "text/latex": [
       "$\\displaystyle a^{(34122)}_{2} a^{(34122)}_{3} b^{(34122)}_{1} b^{(34122)}_{2} b^{(34122)}_{4} \\left(a^{(34122)}_{1} + a^{(34122)}_{4} + b^{(34122)}_{3} + 1\\right)$"
      ],
      "text/plain": [
       "<IPython.core.display.Math object>"
      ]
     },
     "metadata": {},
     "output_type": "display_data"
    },
    {
     "data": {
      "text/latex": [
       "$\\displaystyle \\left(a^{(34122)}_{2}\\right)^{3} \\left(a^{(34122)}_{3}\\right)^{3} \\left(b^{(34122)}_{1}\\right)^{3} \\left(b^{(34122)}_{2}\\right)^{3} \\left(b^{(34122)}_{4}\\right)^{3}$"
      ],
      "text/plain": [
       "<IPython.core.display.Math object>"
      ]
     },
     "metadata": {},
     "output_type": "display_data"
    },
    {
     "name": "stdout",
     "output_type": "stream",
     "text": [
      "4 5\n"
     ]
    },
    {
     "data": {
      "text/latex": [
       "$\\displaystyle a^{(34121)}_{1} a^{(34121)}_{2} a^{(34121)}_{3} b^{(34121)}_{1} b^{(34121)}_{4} \\left(a^{(34121)}_{4} + b^{(34121)}_{2} + b^{(34121)}_{3} + 1\\right)$"
      ],
      "text/plain": [
       "<IPython.core.display.Math object>"
      ]
     },
     "metadata": {},
     "output_type": "display_data"
    },
    {
     "data": {
      "text/latex": [
       "$\\displaystyle \\left(a^{(34121)}_{1}\\right)^{3} \\left(a^{(34121)}_{2}\\right)^{3} \\left(a^{(34121)}_{3}\\right)^{3} \\left(b^{(34121)}_{1}\\right)^{3} \\left(b^{(34121)}_{4}\\right)^{3}$"
      ],
      "text/plain": [
       "<IPython.core.display.Math object>"
      ]
     },
     "metadata": {},
     "output_type": "display_data"
    },
    {
     "name": "stdout",
     "output_type": "stream",
     "text": [
      "4 5\n"
     ]
    },
    {
     "data": {
      "text/latex": [
       "$\\displaystyle a^{(32414)}_{1} a^{(32414)}_{2} a^{(32414)}_{3} a^{(32414)}_{4} b^{(32414)}_{4} \\left(b^{(32414)}_{1} + b^{(32414)}_{2} + b^{(32414)}_{3} + 1\\right)$"
      ],
      "text/plain": [
       "<IPython.core.display.Math object>"
      ]
     },
     "metadata": {},
     "output_type": "display_data"
    },
    {
     "data": {
      "text/latex": [
       "$\\displaystyle \\left(a^{(32414)}_{1}\\right)^{3} \\left(a^{(32414)}_{2}\\right)^{3} \\left(a^{(32414)}_{3}\\right)^{3} \\left(a^{(32414)}_{4}\\right)^{3} \\left(b^{(32414)}_{4}\\right)^{3}$"
      ],
      "text/plain": [
       "<IPython.core.display.Math object>"
      ]
     },
     "metadata": {},
     "output_type": "display_data"
    },
    {
     "name": "stdout",
     "output_type": "stream",
     "text": [
      "4 5\n"
     ]
    },
    {
     "data": {
      "text/latex": [
       "$\\displaystyle a^{(32413)}_{1} a^{(32413)}_{2} a^{(32413)}_{3} b^{(32413)}_{3} b^{(32413)}_{4} \\left(a^{(32413)}_{4} + b^{(32413)}_{1} + b^{(32413)}_{2} + 1\\right)$"
      ],
      "text/plain": [
       "<IPython.core.display.Math object>"
      ]
     },
     "metadata": {},
     "output_type": "display_data"
    },
    {
     "data": {
      "text/latex": [
       "$\\displaystyle \\left(a^{(32413)}_{1}\\right)^{3} \\left(a^{(32413)}_{2}\\right)^{3} \\left(a^{(32413)}_{3}\\right)^{3} \\left(b^{(32413)}_{3}\\right)^{3} \\left(b^{(32413)}_{4}\\right)^{3}$"
      ],
      "text/plain": [
       "<IPython.core.display.Math object>"
      ]
     },
     "metadata": {},
     "output_type": "display_data"
    },
    {
     "name": "stdout",
     "output_type": "stream",
     "text": [
      "4 5\n"
     ]
    },
    {
     "data": {
      "text/latex": [
       "$\\displaystyle a^{(32412)}_{1} a^{(32412)}_{2} a^{(32412)}_{3} b^{(32412)}_{2} b^{(32412)}_{4} \\left(a^{(32412)}_{4} + b^{(32412)}_{1} + b^{(32412)}_{3} + 1\\right)$"
      ],
      "text/plain": [
       "<IPython.core.display.Math object>"
      ]
     },
     "metadata": {},
     "output_type": "display_data"
    },
    {
     "data": {
      "text/latex": [
       "$\\displaystyle \\left(a^{(32412)}_{1}\\right)^{3} \\left(a^{(32412)}_{2}\\right)^{3} \\left(a^{(32412)}_{3}\\right)^{3} \\left(b^{(32412)}_{2}\\right)^{3} \\left(b^{(32412)}_{4}\\right)^{3}$"
      ],
      "text/plain": [
       "<IPython.core.display.Math object>"
      ]
     },
     "metadata": {},
     "output_type": "display_data"
    },
    {
     "name": "stdout",
     "output_type": "stream",
     "text": [
      "4 5\n"
     ]
    },
    {
     "data": {
      "text/latex": [
       "$\\displaystyle a^{(32411)}_{1} a^{(32411)}_{2} a^{(32411)}_{3} b^{(32411)}_{1} b^{(32411)}_{4} \\left(a^{(32411)}_{4} + b^{(32411)}_{2} + b^{(32411)}_{3} + 1\\right)$"
      ],
      "text/plain": [
       "<IPython.core.display.Math object>"
      ]
     },
     "metadata": {},
     "output_type": "display_data"
    },
    {
     "data": {
      "text/latex": [
       "$\\displaystyle \\left(a^{(32411)}_{1}\\right)^{3} \\left(a^{(32411)}_{2}\\right)^{3} \\left(a^{(32411)}_{3}\\right)^{3} \\left(b^{(32411)}_{1}\\right)^{3} \\left(b^{(32411)}_{4}\\right)^{3}$"
      ],
      "text/plain": [
       "<IPython.core.display.Math object>"
      ]
     },
     "metadata": {},
     "output_type": "display_data"
    },
    {
     "name": "stdout",
     "output_type": "stream",
     "text": [
      "4 5\n"
     ]
    },
    {
     "data": {
      "text/latex": [
       "$\\displaystyle a^{(32144)}_{1} a^{(32144)}_{2} a^{(32144)}_{3} a^{(32144)}_{4} b^{(32144)}_{4} \\left(b^{(32144)}_{1} + b^{(32144)}_{2} + b^{(32144)}_{3} + 1\\right)$"
      ],
      "text/plain": [
       "<IPython.core.display.Math object>"
      ]
     },
     "metadata": {},
     "output_type": "display_data"
    },
    {
     "data": {
      "text/latex": [
       "$\\displaystyle \\left(a^{(32144)}_{1}\\right)^{3} \\left(a^{(32144)}_{2}\\right)^{3} \\left(a^{(32144)}_{3}\\right)^{3} \\left(a^{(32144)}_{4}\\right)^{3} \\left(b^{(32144)}_{4}\\right)^{3}$"
      ],
      "text/plain": [
       "<IPython.core.display.Math object>"
      ]
     },
     "metadata": {},
     "output_type": "display_data"
    },
    {
     "name": "stdout",
     "output_type": "stream",
     "text": [
      "4 5\n"
     ]
    },
    {
     "data": {
      "text/latex": [
       "$\\displaystyle a^{(32143)}_{1} a^{(32143)}_{2} a^{(32143)}_{3} b^{(32143)}_{3} b^{(32143)}_{4} \\left(a^{(32143)}_{4} + b^{(32143)}_{1} + b^{(32143)}_{2} + 1\\right)$"
      ],
      "text/plain": [
       "<IPython.core.display.Math object>"
      ]
     },
     "metadata": {},
     "output_type": "display_data"
    },
    {
     "data": {
      "text/latex": [
       "$\\displaystyle \\left(a^{(32143)}_{1}\\right)^{3} \\left(a^{(32143)}_{2}\\right)^{3} \\left(a^{(32143)}_{3}\\right)^{3} \\left(b^{(32143)}_{3}\\right)^{3} \\left(b^{(32143)}_{4}\\right)^{3}$"
      ],
      "text/plain": [
       "<IPython.core.display.Math object>"
      ]
     },
     "metadata": {},
     "output_type": "display_data"
    },
    {
     "name": "stdout",
     "output_type": "stream",
     "text": [
      "4 5\n"
     ]
    },
    {
     "data": {
      "text/latex": [
       "$\\displaystyle a^{(32142)}_{1} a^{(32142)}_{2} a^{(32142)}_{3} b^{(32142)}_{2} b^{(32142)}_{4} \\left(a^{(32142)}_{4} + b^{(32142)}_{1} + b^{(32142)}_{3} + 1\\right)$"
      ],
      "text/plain": [
       "<IPython.core.display.Math object>"
      ]
     },
     "metadata": {},
     "output_type": "display_data"
    },
    {
     "data": {
      "text/latex": [
       "$\\displaystyle \\left(a^{(32142)}_{1}\\right)^{3} \\left(a^{(32142)}_{2}\\right)^{3} \\left(a^{(32142)}_{3}\\right)^{3} \\left(b^{(32142)}_{2}\\right)^{3} \\left(b^{(32142)}_{4}\\right)^{3}$"
      ],
      "text/plain": [
       "<IPython.core.display.Math object>"
      ]
     },
     "metadata": {},
     "output_type": "display_data"
    },
    {
     "name": "stdout",
     "output_type": "stream",
     "text": [
      "4 5\n"
     ]
    },
    {
     "data": {
      "text/latex": [
       "$\\displaystyle a^{(32141)}_{1} a^{(32141)}_{2} a^{(32141)}_{3} b^{(32141)}_{1} b^{(32141)}_{4} \\left(a^{(32141)}_{4} + b^{(32141)}_{2} + b^{(32141)}_{3} + 1\\right)$"
      ],
      "text/plain": [
       "<IPython.core.display.Math object>"
      ]
     },
     "metadata": {},
     "output_type": "display_data"
    },
    {
     "data": {
      "text/latex": [
       "$\\displaystyle \\left(a^{(32141)}_{1}\\right)^{3} \\left(a^{(32141)}_{2}\\right)^{3} \\left(a^{(32141)}_{3}\\right)^{3} \\left(b^{(32141)}_{1}\\right)^{3} \\left(b^{(32141)}_{4}\\right)^{3}$"
      ],
      "text/plain": [
       "<IPython.core.display.Math object>"
      ]
     },
     "metadata": {},
     "output_type": "display_data"
    },
    {
     "name": "stdout",
     "output_type": "stream",
     "text": [
      "4 5\n"
     ]
    },
    {
     "data": {
      "text/latex": [
       "$\\displaystyle a^{(31424)}_{1} a^{(31424)}_{3} a^{(31424)}_{4} b^{(31424)}_{2} b^{(31424)}_{4} \\left(a^{(31424)}_{2} + b^{(31424)}_{1} + b^{(31424)}_{3} + 1\\right)$"
      ],
      "text/plain": [
       "<IPython.core.display.Math object>"
      ]
     },
     "metadata": {},
     "output_type": "display_data"
    },
    {
     "data": {
      "text/latex": [
       "$\\displaystyle \\left(a^{(31424)}_{1}\\right)^{3} \\left(a^{(31424)}_{3}\\right)^{3} \\left(a^{(31424)}_{4}\\right)^{3} \\left(b^{(31424)}_{2}\\right)^{3} \\left(b^{(31424)}_{4}\\right)^{3}$"
      ],
      "text/plain": [
       "<IPython.core.display.Math object>"
      ]
     },
     "metadata": {},
     "output_type": "display_data"
    },
    {
     "name": "stdout",
     "output_type": "stream",
     "text": [
      "4 5\n"
     ]
    },
    {
     "data": {
      "text/latex": [
       "$\\displaystyle a^{(31423)}_{1} a^{(31423)}_{3} b^{(31423)}_{2} b^{(31423)}_{3} b^{(31423)}_{4} \\left(a^{(31423)}_{2} + a^{(31423)}_{4} + b^{(31423)}_{1} + 1\\right)$"
      ],
      "text/plain": [
       "<IPython.core.display.Math object>"
      ]
     },
     "metadata": {},
     "output_type": "display_data"
    },
    {
     "data": {
      "text/latex": [
       "$\\displaystyle \\left(a^{(31423)}_{1}\\right)^{3} \\left(a^{(31423)}_{3}\\right)^{3} \\left(b^{(31423)}_{2}\\right)^{3} \\left(b^{(31423)}_{3}\\right)^{3} \\left(b^{(31423)}_{4}\\right)^{3}$"
      ],
      "text/plain": [
       "<IPython.core.display.Math object>"
      ]
     },
     "metadata": {},
     "output_type": "display_data"
    },
    {
     "name": "stdout",
     "output_type": "stream",
     "text": [
      "4 5\n"
     ]
    },
    {
     "data": {
      "text/latex": [
       "$\\displaystyle a^{(31422)}_{1} a^{(31422)}_{2} a^{(31422)}_{3} b^{(31422)}_{2} b^{(31422)}_{4} \\left(a^{(31422)}_{4} + b^{(31422)}_{1} + b^{(31422)}_{3} + 1\\right)$"
      ],
      "text/plain": [
       "<IPython.core.display.Math object>"
      ]
     },
     "metadata": {},
     "output_type": "display_data"
    },
    {
     "data": {
      "text/latex": [
       "$\\displaystyle \\left(a^{(31422)}_{1}\\right)^{3} \\left(a^{(31422)}_{2}\\right)^{3} \\left(a^{(31422)}_{3}\\right)^{3} \\left(b^{(31422)}_{2}\\right)^{3} \\left(b^{(31422)}_{4}\\right)^{3}$"
      ],
      "text/plain": [
       "<IPython.core.display.Math object>"
      ]
     },
     "metadata": {},
     "output_type": "display_data"
    },
    {
     "name": "stdout",
     "output_type": "stream",
     "text": [
      "4 5\n"
     ]
    },
    {
     "data": {
      "text/latex": [
       "$\\displaystyle a^{(31421)}_{1} a^{(31421)}_{3} b^{(31421)}_{1} b^{(31421)}_{2} b^{(31421)}_{4} \\left(a^{(31421)}_{2} + a^{(31421)}_{4} + b^{(31421)}_{3} + 1\\right)$"
      ],
      "text/plain": [
       "<IPython.core.display.Math object>"
      ]
     },
     "metadata": {},
     "output_type": "display_data"
    },
    {
     "data": {
      "text/latex": [
       "$\\displaystyle \\left(a^{(31421)}_{1}\\right)^{3} \\left(a^{(31421)}_{3}\\right)^{3} \\left(b^{(31421)}_{1}\\right)^{3} \\left(b^{(31421)}_{2}\\right)^{3} \\left(b^{(31421)}_{4}\\right)^{3}$"
      ],
      "text/plain": [
       "<IPython.core.display.Math object>"
      ]
     },
     "metadata": {},
     "output_type": "display_data"
    },
    {
     "name": "stdout",
     "output_type": "stream",
     "text": [
      "4 5\n"
     ]
    },
    {
     "data": {
      "text/latex": [
       "$\\displaystyle a^{(31244)}_{1} a^{(31244)}_{2} a^{(31244)}_{3} a^{(31244)}_{4} b^{(31244)}_{4} \\left(b^{(31244)}_{1} + b^{(31244)}_{2} + b^{(31244)}_{3} + 1\\right)$"
      ],
      "text/plain": [
       "<IPython.core.display.Math object>"
      ]
     },
     "metadata": {},
     "output_type": "display_data"
    },
    {
     "data": {
      "text/latex": [
       "$\\displaystyle \\left(a^{(31244)}_{1}\\right)^{3} \\left(a^{(31244)}_{2}\\right)^{3} \\left(a^{(31244)}_{3}\\right)^{3} \\left(a^{(31244)}_{4}\\right)^{3} \\left(b^{(31244)}_{4}\\right)^{3}$"
      ],
      "text/plain": [
       "<IPython.core.display.Math object>"
      ]
     },
     "metadata": {},
     "output_type": "display_data"
    },
    {
     "name": "stdout",
     "output_type": "stream",
     "text": [
      "4 5\n"
     ]
    },
    {
     "data": {
      "text/latex": [
       "$\\displaystyle a^{(31243)}_{1} a^{(31243)}_{2} a^{(31243)}_{3} b^{(31243)}_{3} b^{(31243)}_{4} \\left(a^{(31243)}_{4} + b^{(31243)}_{1} + b^{(31243)}_{2} + 1\\right)$"
      ],
      "text/plain": [
       "<IPython.core.display.Math object>"
      ]
     },
     "metadata": {},
     "output_type": "display_data"
    },
    {
     "data": {
      "text/latex": [
       "$\\displaystyle \\left(a^{(31243)}_{1}\\right)^{3} \\left(a^{(31243)}_{2}\\right)^{3} \\left(a^{(31243)}_{3}\\right)^{3} \\left(b^{(31243)}_{3}\\right)^{3} \\left(b^{(31243)}_{4}\\right)^{3}$"
      ],
      "text/plain": [
       "<IPython.core.display.Math object>"
      ]
     },
     "metadata": {},
     "output_type": "display_data"
    },
    {
     "name": "stdout",
     "output_type": "stream",
     "text": [
      "4 5\n"
     ]
    },
    {
     "data": {
      "text/latex": [
       "$\\displaystyle a^{(31242)}_{1} a^{(31242)}_{2} a^{(31242)}_{3} b^{(31242)}_{2} b^{(31242)}_{4} \\left(a^{(31242)}_{4} + b^{(31242)}_{1} + b^{(31242)}_{3} + 1\\right)$"
      ],
      "text/plain": [
       "<IPython.core.display.Math object>"
      ]
     },
     "metadata": {},
     "output_type": "display_data"
    },
    {
     "data": {
      "text/latex": [
       "$\\displaystyle \\left(a^{(31242)}_{1}\\right)^{3} \\left(a^{(31242)}_{2}\\right)^{3} \\left(a^{(31242)}_{3}\\right)^{3} \\left(b^{(31242)}_{2}\\right)^{3} \\left(b^{(31242)}_{4}\\right)^{3}$"
      ],
      "text/plain": [
       "<IPython.core.display.Math object>"
      ]
     },
     "metadata": {},
     "output_type": "display_data"
    },
    {
     "name": "stdout",
     "output_type": "stream",
     "text": [
      "4 5\n"
     ]
    },
    {
     "data": {
      "text/latex": [
       "$\\displaystyle a^{(31241)}_{1} a^{(31241)}_{2} a^{(31241)}_{3} b^{(31241)}_{1} b^{(31241)}_{4} \\left(a^{(31241)}_{4} + b^{(31241)}_{2} + b^{(31241)}_{3} + 1\\right)$"
      ],
      "text/plain": [
       "<IPython.core.display.Math object>"
      ]
     },
     "metadata": {},
     "output_type": "display_data"
    },
    {
     "data": {
      "text/latex": [
       "$\\displaystyle \\left(a^{(31241)}_{1}\\right)^{3} \\left(a^{(31241)}_{2}\\right)^{3} \\left(a^{(31241)}_{3}\\right)^{3} \\left(b^{(31241)}_{1}\\right)^{3} \\left(b^{(31241)}_{4}\\right)^{3}$"
      ],
      "text/plain": [
       "<IPython.core.display.Math object>"
      ]
     },
     "metadata": {},
     "output_type": "display_data"
    },
    {
     "name": "stdout",
     "output_type": "stream",
     "text": [
      "4 5\n"
     ]
    },
    {
     "data": {
      "text/latex": [
       "$\\displaystyle a^{(24314)}_{4} b^{(24314)}_{1} b^{(24314)}_{2} b^{(24314)}_{3} b^{(24314)}_{4} \\left(a^{(24314)}_{1} + a^{(24314)}_{2} + a^{(24314)}_{3} + 1\\right)$"
      ],
      "text/plain": [
       "<IPython.core.display.Math object>"
      ]
     },
     "metadata": {},
     "output_type": "display_data"
    },
    {
     "data": {
      "text/latex": [
       "$\\displaystyle \\left(a^{(24314)}_{4}\\right)^{3} \\left(b^{(24314)}_{1}\\right)^{3} \\left(b^{(24314)}_{2}\\right)^{3} \\left(b^{(24314)}_{3}\\right)^{3} \\left(b^{(24314)}_{4}\\right)^{3}$"
      ],
      "text/plain": [
       "<IPython.core.display.Math object>"
      ]
     },
     "metadata": {},
     "output_type": "display_data"
    },
    {
     "name": "stdout",
     "output_type": "stream",
     "text": [
      "4 5\n"
     ]
    },
    {
     "data": {
      "text/latex": [
       "$\\displaystyle a^{(24313)}_{3} b^{(24313)}_{1} b^{(24313)}_{2} b^{(24313)}_{3} b^{(24313)}_{4} \\left(a^{(24313)}_{1} + a^{(24313)}_{2} + a^{(24313)}_{4} + 1\\right)$"
      ],
      "text/plain": [
       "<IPython.core.display.Math object>"
      ]
     },
     "metadata": {},
     "output_type": "display_data"
    },
    {
     "data": {
      "text/latex": [
       "$\\displaystyle \\left(a^{(24313)}_{3}\\right)^{3} \\left(b^{(24313)}_{1}\\right)^{3} \\left(b^{(24313)}_{2}\\right)^{3} \\left(b^{(24313)}_{3}\\right)^{3} \\left(b^{(24313)}_{4}\\right)^{3}$"
      ],
      "text/plain": [
       "<IPython.core.display.Math object>"
      ]
     },
     "metadata": {},
     "output_type": "display_data"
    },
    {
     "name": "stdout",
     "output_type": "stream",
     "text": [
      "4 5\n"
     ]
    },
    {
     "data": {
      "text/latex": [
       "$\\displaystyle a^{(24312)}_{2} b^{(24312)}_{1} b^{(24312)}_{2} b^{(24312)}_{3} b^{(24312)}_{4} \\left(a^{(24312)}_{1} + a^{(24312)}_{3} + a^{(24312)}_{4} + 1\\right)$"
      ],
      "text/plain": [
       "<IPython.core.display.Math object>"
      ]
     },
     "metadata": {},
     "output_type": "display_data"
    },
    {
     "data": {
      "text/latex": [
       "$\\displaystyle \\left(a^{(24312)}_{2}\\right)^{3} \\left(b^{(24312)}_{1}\\right)^{3} \\left(b^{(24312)}_{2}\\right)^{3} \\left(b^{(24312)}_{3}\\right)^{3} \\left(b^{(24312)}_{4}\\right)^{3}$"
      ],
      "text/plain": [
       "<IPython.core.display.Math object>"
      ]
     },
     "metadata": {},
     "output_type": "display_data"
    },
    {
     "name": "stdout",
     "output_type": "stream",
     "text": [
      "4 5\n"
     ]
    },
    {
     "data": {
      "text/latex": [
       "$\\displaystyle a^{(24311)}_{1} b^{(24311)}_{1} b^{(24311)}_{2} b^{(24311)}_{3} b^{(24311)}_{4} \\left(a^{(24311)}_{2} + a^{(24311)}_{3} + a^{(24311)}_{4} + 1\\right)$"
      ],
      "text/plain": [
       "<IPython.core.display.Math object>"
      ]
     },
     "metadata": {},
     "output_type": "display_data"
    },
    {
     "data": {
      "text/latex": [
       "$\\displaystyle \\left(a^{(24311)}_{1}\\right)^{3} \\left(b^{(24311)}_{1}\\right)^{3} \\left(b^{(24311)}_{2}\\right)^{3} \\left(b^{(24311)}_{3}\\right)^{3} \\left(b^{(24311)}_{4}\\right)^{3}$"
      ],
      "text/plain": [
       "<IPython.core.display.Math object>"
      ]
     },
     "metadata": {},
     "output_type": "display_data"
    },
    {
     "name": "stdout",
     "output_type": "stream",
     "text": [
      "4 5\n"
     ]
    },
    {
     "data": {
      "text/latex": [
       "$\\displaystyle a^{(24134)}_{1} a^{(24134)}_{4} b^{(24134)}_{2} b^{(24134)}_{3} b^{(24134)}_{4} \\left(a^{(24134)}_{2} + a^{(24134)}_{3} + b^{(24134)}_{1} + 1\\right)$"
      ],
      "text/plain": [
       "<IPython.core.display.Math object>"
      ]
     },
     "metadata": {},
     "output_type": "display_data"
    },
    {
     "data": {
      "text/latex": [
       "$\\displaystyle \\left(a^{(24134)}_{1}\\right)^{3} \\left(a^{(24134)}_{4}\\right)^{3} \\left(b^{(24134)}_{2}\\right)^{3} \\left(b^{(24134)}_{3}\\right)^{3} \\left(b^{(24134)}_{4}\\right)^{3}$"
      ],
      "text/plain": [
       "<IPython.core.display.Math object>"
      ]
     },
     "metadata": {},
     "output_type": "display_data"
    },
    {
     "name": "stdout",
     "output_type": "stream",
     "text": [
      "4 5\n"
     ]
    },
    {
     "data": {
      "text/latex": [
       "$\\displaystyle a^{(24133)}_{1} a^{(24133)}_{3} b^{(24133)}_{2} b^{(24133)}_{3} b^{(24133)}_{4} \\left(a^{(24133)}_{2} + a^{(24133)}_{4} + b^{(24133)}_{1} + 1\\right)$"
      ],
      "text/plain": [
       "<IPython.core.display.Math object>"
      ]
     },
     "metadata": {},
     "output_type": "display_data"
    },
    {
     "data": {
      "text/latex": [
       "$\\displaystyle \\left(a^{(24133)}_{1}\\right)^{3} \\left(a^{(24133)}_{3}\\right)^{3} \\left(b^{(24133)}_{2}\\right)^{3} \\left(b^{(24133)}_{3}\\right)^{3} \\left(b^{(24133)}_{4}\\right)^{3}$"
      ],
      "text/plain": [
       "<IPython.core.display.Math object>"
      ]
     },
     "metadata": {},
     "output_type": "display_data"
    },
    {
     "name": "stdout",
     "output_type": "stream",
     "text": [
      "4 5\n"
     ]
    },
    {
     "data": {
      "text/latex": [
       "$\\displaystyle a^{(24132)}_{1} a^{(24132)}_{2} b^{(24132)}_{2} b^{(24132)}_{3} b^{(24132)}_{4} \\left(a^{(24132)}_{3} + a^{(24132)}_{4} + b^{(24132)}_{1} + 1\\right)$"
      ],
      "text/plain": [
       "<IPython.core.display.Math object>"
      ]
     },
     "metadata": {},
     "output_type": "display_data"
    },
    {
     "data": {
      "text/latex": [
       "$\\displaystyle \\left(a^{(24132)}_{1}\\right)^{3} \\left(a^{(24132)}_{2}\\right)^{3} \\left(b^{(24132)}_{2}\\right)^{3} \\left(b^{(24132)}_{3}\\right)^{3} \\left(b^{(24132)}_{4}\\right)^{3}$"
      ],
      "text/plain": [
       "<IPython.core.display.Math object>"
      ]
     },
     "metadata": {},
     "output_type": "display_data"
    },
    {
     "name": "stdout",
     "output_type": "stream",
     "text": [
      "4 5\n"
     ]
    },
    {
     "data": {
      "text/latex": [
       "$\\displaystyle a^{(24131)}_{1} b^{(24131)}_{1} b^{(24131)}_{2} b^{(24131)}_{3} b^{(24131)}_{4} \\left(a^{(24131)}_{2} + a^{(24131)}_{3} + a^{(24131)}_{4} + 1\\right)$"
      ],
      "text/plain": [
       "<IPython.core.display.Math object>"
      ]
     },
     "metadata": {},
     "output_type": "display_data"
    },
    {
     "data": {
      "text/latex": [
       "$\\displaystyle \\left(a^{(24131)}_{1}\\right)^{3} \\left(b^{(24131)}_{1}\\right)^{3} \\left(b^{(24131)}_{2}\\right)^{3} \\left(b^{(24131)}_{3}\\right)^{3} \\left(b^{(24131)}_{4}\\right)^{3}$"
      ],
      "text/plain": [
       "<IPython.core.display.Math object>"
      ]
     },
     "metadata": {},
     "output_type": "display_data"
    },
    {
     "name": "stdout",
     "output_type": "stream",
     "text": [
      "4 5\n"
     ]
    },
    {
     "data": {
      "text/latex": [
       "$\\displaystyle a^{(23414)}_{1} a^{(23414)}_{3} a^{(23414)}_{4} b^{(23414)}_{2} b^{(23414)}_{4} \\left(a^{(23414)}_{2} + b^{(23414)}_{1} + b^{(23414)}_{3} + 1\\right)$"
      ],
      "text/plain": [
       "<IPython.core.display.Math object>"
      ]
     },
     "metadata": {},
     "output_type": "display_data"
    },
    {
     "data": {
      "text/latex": [
       "$\\displaystyle \\left(a^{(23414)}_{1}\\right)^{3} \\left(a^{(23414)}_{3}\\right)^{3} \\left(a^{(23414)}_{4}\\right)^{3} \\left(b^{(23414)}_{2}\\right)^{3} \\left(b^{(23414)}_{4}\\right)^{3}$"
      ],
      "text/plain": [
       "<IPython.core.display.Math object>"
      ]
     },
     "metadata": {},
     "output_type": "display_data"
    },
    {
     "name": "stdout",
     "output_type": "stream",
     "text": [
      "4 5\n"
     ]
    },
    {
     "data": {
      "text/latex": [
       "$\\displaystyle a^{(23413)}_{1} a^{(23413)}_{3} b^{(23413)}_{2} b^{(23413)}_{3} b^{(23413)}_{4} \\left(a^{(23413)}_{2} + a^{(23413)}_{4} + b^{(23413)}_{1} + 1\\right)$"
      ],
      "text/plain": [
       "<IPython.core.display.Math object>"
      ]
     },
     "metadata": {},
     "output_type": "display_data"
    },
    {
     "data": {
      "text/latex": [
       "$\\displaystyle \\left(a^{(23413)}_{1}\\right)^{3} \\left(a^{(23413)}_{3}\\right)^{3} \\left(b^{(23413)}_{2}\\right)^{3} \\left(b^{(23413)}_{3}\\right)^{3} \\left(b^{(23413)}_{4}\\right)^{3}$"
      ],
      "text/plain": [
       "<IPython.core.display.Math object>"
      ]
     },
     "metadata": {},
     "output_type": "display_data"
    },
    {
     "name": "stdout",
     "output_type": "stream",
     "text": [
      "4 5\n"
     ]
    },
    {
     "data": {
      "text/latex": [
       "$\\displaystyle a^{(23412)}_{1} a^{(23412)}_{2} a^{(23412)}_{3} b^{(23412)}_{2} b^{(23412)}_{4} \\left(a^{(23412)}_{4} + b^{(23412)}_{1} + b^{(23412)}_{3} + 1\\right)$"
      ],
      "text/plain": [
       "<IPython.core.display.Math object>"
      ]
     },
     "metadata": {},
     "output_type": "display_data"
    },
    {
     "data": {
      "text/latex": [
       "$\\displaystyle \\left(a^{(23412)}_{1}\\right)^{3} \\left(a^{(23412)}_{2}\\right)^{3} \\left(a^{(23412)}_{3}\\right)^{3} \\left(b^{(23412)}_{2}\\right)^{3} \\left(b^{(23412)}_{4}\\right)^{3}$"
      ],
      "text/plain": [
       "<IPython.core.display.Math object>"
      ]
     },
     "metadata": {},
     "output_type": "display_data"
    },
    {
     "name": "stdout",
     "output_type": "stream",
     "text": [
      "4 5\n"
     ]
    },
    {
     "data": {
      "text/latex": [
       "$\\displaystyle a^{(23411)}_{1} a^{(23411)}_{3} b^{(23411)}_{1} b^{(23411)}_{2} b^{(23411)}_{4} \\left(a^{(23411)}_{2} + a^{(23411)}_{4} + b^{(23411)}_{3} + 1\\right)$"
      ],
      "text/plain": [
       "<IPython.core.display.Math object>"
      ]
     },
     "metadata": {},
     "output_type": "display_data"
    },
    {
     "data": {
      "text/latex": [
       "$\\displaystyle \\left(a^{(23411)}_{1}\\right)^{3} \\left(a^{(23411)}_{3}\\right)^{3} \\left(b^{(23411)}_{1}\\right)^{3} \\left(b^{(23411)}_{2}\\right)^{3} \\left(b^{(23411)}_{4}\\right)^{3}$"
      ],
      "text/plain": [
       "<IPython.core.display.Math object>"
      ]
     },
     "metadata": {},
     "output_type": "display_data"
    },
    {
     "name": "stdout",
     "output_type": "stream",
     "text": [
      "4 5\n"
     ]
    },
    {
     "data": {
      "text/latex": [
       "$\\displaystyle a^{(23144)}_{3} a^{(23144)}_{4} b^{(23144)}_{1} b^{(23144)}_{2} b^{(23144)}_{4} \\left(a^{(23144)}_{1} + a^{(23144)}_{2} + b^{(23144)}_{3} + 1\\right)$"
      ],
      "text/plain": [
       "<IPython.core.display.Math object>"
      ]
     },
     "metadata": {},
     "output_type": "display_data"
    },
    {
     "data": {
      "text/latex": [
       "$\\displaystyle \\left(a^{(23144)}_{3}\\right)^{3} \\left(a^{(23144)}_{4}\\right)^{3} \\left(b^{(23144)}_{1}\\right)^{3} \\left(b^{(23144)}_{2}\\right)^{3} \\left(b^{(23144)}_{4}\\right)^{3}$"
      ],
      "text/plain": [
       "<IPython.core.display.Math object>"
      ]
     },
     "metadata": {},
     "output_type": "display_data"
    },
    {
     "name": "stdout",
     "output_type": "stream",
     "text": [
      "4 5\n"
     ]
    },
    {
     "data": {
      "text/latex": [
       "$\\displaystyle a^{(23143)}_{3} a^{(23143)}_{4} b^{(23143)}_{1} b^{(23143)}_{2} b^{(23143)}_{3} \\left(a^{(23143)}_{1} + a^{(23143)}_{2} + b^{(23143)}_{4} + 1\\right)$"
      ],
      "text/plain": [
       "<IPython.core.display.Math object>"
      ]
     },
     "metadata": {},
     "output_type": "display_data"
    },
    {
     "data": {
      "text/latex": [
       "$\\displaystyle \\left(a^{(23143)}_{3}\\right)^{3} \\left(a^{(23143)}_{4}\\right)^{3} \\left(b^{(23143)}_{1}\\right)^{3} \\left(b^{(23143)}_{2}\\right)^{3} \\left(b^{(23143)}_{3}\\right)^{3}$"
      ],
      "text/plain": [
       "<IPython.core.display.Math object>"
      ]
     },
     "metadata": {},
     "output_type": "display_data"
    },
    {
     "name": "stdout",
     "output_type": "stream",
     "text": [
      "4 5\n"
     ]
    },
    {
     "data": {
      "text/latex": [
       "$\\displaystyle a^{(23142)}_{2} a^{(23142)}_{3} a^{(23142)}_{4} b^{(23142)}_{1} b^{(23142)}_{2} \\left(a^{(23142)}_{1} + b^{(23142)}_{3} + b^{(23142)}_{4} + 1\\right)$"
      ],
      "text/plain": [
       "<IPython.core.display.Math object>"
      ]
     },
     "metadata": {},
     "output_type": "display_data"
    },
    {
     "data": {
      "text/latex": [
       "$\\displaystyle \\left(a^{(23142)}_{2}\\right)^{3} \\left(a^{(23142)}_{3}\\right)^{3} \\left(a^{(23142)}_{4}\\right)^{3} \\left(b^{(23142)}_{1}\\right)^{3} \\left(b^{(23142)}_{2}\\right)^{3}$"
      ],
      "text/plain": [
       "<IPython.core.display.Math object>"
      ]
     },
     "metadata": {},
     "output_type": "display_data"
    },
    {
     "name": "stdout",
     "output_type": "stream",
     "text": [
      "4 5\n"
     ]
    },
    {
     "data": {
      "text/latex": [
       "$\\displaystyle a^{(23141)}_{1} a^{(23141)}_{3} a^{(23141)}_{4} b^{(23141)}_{1} b^{(23141)}_{2} \\left(a^{(23141)}_{2} + b^{(23141)}_{3} + b^{(23141)}_{4} + 1\\right)$"
      ],
      "text/plain": [
       "<IPython.core.display.Math object>"
      ]
     },
     "metadata": {},
     "output_type": "display_data"
    },
    {
     "data": {
      "text/latex": [
       "$\\displaystyle \\left(a^{(23141)}_{1}\\right)^{3} \\left(a^{(23141)}_{3}\\right)^{3} \\left(a^{(23141)}_{4}\\right)^{3} \\left(b^{(23141)}_{1}\\right)^{3} \\left(b^{(23141)}_{2}\\right)^{3}$"
      ],
      "text/plain": [
       "<IPython.core.display.Math object>"
      ]
     },
     "metadata": {},
     "output_type": "display_data"
    },
    {
     "name": "stdout",
     "output_type": "stream",
     "text": [
      "4 5\n"
     ]
    },
    {
     "data": {
      "text/latex": [
       "$\\displaystyle a^{(21434)}_{1} a^{(21434)}_{3} a^{(21434)}_{4} b^{(21434)}_{2} b^{(21434)}_{4} \\left(a^{(21434)}_{2} + b^{(21434)}_{1} + b^{(21434)}_{3} + 1\\right)$"
      ],
      "text/plain": [
       "<IPython.core.display.Math object>"
      ]
     },
     "metadata": {},
     "output_type": "display_data"
    },
    {
     "data": {
      "text/latex": [
       "$\\displaystyle \\left(a^{(21434)}_{1}\\right)^{3} \\left(a^{(21434)}_{3}\\right)^{3} \\left(a^{(21434)}_{4}\\right)^{3} \\left(b^{(21434)}_{2}\\right)^{3} \\left(b^{(21434)}_{4}\\right)^{3}$"
      ],
      "text/plain": [
       "<IPython.core.display.Math object>"
      ]
     },
     "metadata": {},
     "output_type": "display_data"
    },
    {
     "name": "stdout",
     "output_type": "stream",
     "text": [
      "4 5\n"
     ]
    },
    {
     "data": {
      "text/latex": [
       "$\\displaystyle a^{(21433)}_{1} a^{(21433)}_{3} b^{(21433)}_{2} b^{(21433)}_{3} b^{(21433)}_{4} \\left(a^{(21433)}_{2} + a^{(21433)}_{4} + b^{(21433)}_{1} + 1\\right)$"
      ],
      "text/plain": [
       "<IPython.core.display.Math object>"
      ]
     },
     "metadata": {},
     "output_type": "display_data"
    },
    {
     "data": {
      "text/latex": [
       "$\\displaystyle \\left(a^{(21433)}_{1}\\right)^{3} \\left(a^{(21433)}_{3}\\right)^{3} \\left(b^{(21433)}_{2}\\right)^{3} \\left(b^{(21433)}_{3}\\right)^{3} \\left(b^{(21433)}_{4}\\right)^{3}$"
      ],
      "text/plain": [
       "<IPython.core.display.Math object>"
      ]
     },
     "metadata": {},
     "output_type": "display_data"
    },
    {
     "name": "stdout",
     "output_type": "stream",
     "text": [
      "4 5\n"
     ]
    },
    {
     "data": {
      "text/latex": [
       "$\\displaystyle a^{(21432)}_{1} a^{(21432)}_{2} a^{(21432)}_{3} b^{(21432)}_{2} b^{(21432)}_{4} \\left(a^{(21432)}_{4} + b^{(21432)}_{1} + b^{(21432)}_{3} + 1\\right)$"
      ],
      "text/plain": [
       "<IPython.core.display.Math object>"
      ]
     },
     "metadata": {},
     "output_type": "display_data"
    },
    {
     "data": {
      "text/latex": [
       "$\\displaystyle \\left(a^{(21432)}_{1}\\right)^{3} \\left(a^{(21432)}_{2}\\right)^{3} \\left(a^{(21432)}_{3}\\right)^{3} \\left(b^{(21432)}_{2}\\right)^{3} \\left(b^{(21432)}_{4}\\right)^{3}$"
      ],
      "text/plain": [
       "<IPython.core.display.Math object>"
      ]
     },
     "metadata": {},
     "output_type": "display_data"
    },
    {
     "name": "stdout",
     "output_type": "stream",
     "text": [
      "4 5\n"
     ]
    },
    {
     "data": {
      "text/latex": [
       "$\\displaystyle a^{(21431)}_{1} a^{(21431)}_{3} b^{(21431)}_{1} b^{(21431)}_{2} b^{(21431)}_{4} \\left(a^{(21431)}_{2} + a^{(21431)}_{4} + b^{(21431)}_{3} + 1\\right)$"
      ],
      "text/plain": [
       "<IPython.core.display.Math object>"
      ]
     },
     "metadata": {},
     "output_type": "display_data"
    },
    {
     "data": {
      "text/latex": [
       "$\\displaystyle \\left(a^{(21431)}_{1}\\right)^{3} \\left(a^{(21431)}_{3}\\right)^{3} \\left(b^{(21431)}_{1}\\right)^{3} \\left(b^{(21431)}_{2}\\right)^{3} \\left(b^{(21431)}_{4}\\right)^{3}$"
      ],
      "text/plain": [
       "<IPython.core.display.Math object>"
      ]
     },
     "metadata": {},
     "output_type": "display_data"
    },
    {
     "name": "stdout",
     "output_type": "stream",
     "text": [
      "4 5\n"
     ]
    },
    {
     "data": {
      "text/latex": [
       "$\\displaystyle a^{(21344)}_{1} a^{(21344)}_{4} b^{(21344)}_{2} b^{(21344)}_{3} b^{(21344)}_{4} \\left(a^{(21344)}_{2} + a^{(21344)}_{3} + b^{(21344)}_{1} + 1\\right)$"
      ],
      "text/plain": [
       "<IPython.core.display.Math object>"
      ]
     },
     "metadata": {},
     "output_type": "display_data"
    },
    {
     "data": {
      "text/latex": [
       "$\\displaystyle \\left(a^{(21344)}_{1}\\right)^{3} \\left(a^{(21344)}_{4}\\right)^{3} \\left(b^{(21344)}_{2}\\right)^{3} \\left(b^{(21344)}_{3}\\right)^{3} \\left(b^{(21344)}_{4}\\right)^{3}$"
      ],
      "text/plain": [
       "<IPython.core.display.Math object>"
      ]
     },
     "metadata": {},
     "output_type": "display_data"
    },
    {
     "name": "stdout",
     "output_type": "stream",
     "text": [
      "4 5\n"
     ]
    },
    {
     "data": {
      "text/latex": [
       "$\\displaystyle a^{(21343)}_{1} a^{(21343)}_{3} a^{(21343)}_{4} b^{(21343)}_{2} b^{(21343)}_{3} \\left(a^{(21343)}_{2} + b^{(21343)}_{1} + b^{(21343)}_{4} + 1\\right)$"
      ],
      "text/plain": [
       "<IPython.core.display.Math object>"
      ]
     },
     "metadata": {},
     "output_type": "display_data"
    },
    {
     "data": {
      "text/latex": [
       "$\\displaystyle \\left(a^{(21343)}_{1}\\right)^{3} \\left(a^{(21343)}_{3}\\right)^{3} \\left(a^{(21343)}_{4}\\right)^{3} \\left(b^{(21343)}_{2}\\right)^{3} \\left(b^{(21343)}_{3}\\right)^{3}$"
      ],
      "text/plain": [
       "<IPython.core.display.Math object>"
      ]
     },
     "metadata": {},
     "output_type": "display_data"
    },
    {
     "name": "stdout",
     "output_type": "stream",
     "text": [
      "4 5\n"
     ]
    },
    {
     "data": {
      "text/latex": [
       "$\\displaystyle a^{(21342)}_{1} a^{(21342)}_{2} a^{(21342)}_{4} b^{(21342)}_{2} b^{(21342)}_{3} \\left(a^{(21342)}_{3} + b^{(21342)}_{1} + b^{(21342)}_{4} + 1\\right)$"
      ],
      "text/plain": [
       "<IPython.core.display.Math object>"
      ]
     },
     "metadata": {},
     "output_type": "display_data"
    },
    {
     "data": {
      "text/latex": [
       "$\\displaystyle \\left(a^{(21342)}_{1}\\right)^{3} \\left(a^{(21342)}_{2}\\right)^{3} \\left(a^{(21342)}_{4}\\right)^{3} \\left(b^{(21342)}_{2}\\right)^{3} \\left(b^{(21342)}_{3}\\right)^{3}$"
      ],
      "text/plain": [
       "<IPython.core.display.Math object>"
      ]
     },
     "metadata": {},
     "output_type": "display_data"
    },
    {
     "name": "stdout",
     "output_type": "stream",
     "text": [
      "4 5\n"
     ]
    },
    {
     "data": {
      "text/latex": [
       "$\\displaystyle a^{(21341)}_{1} a^{(21341)}_{4} b^{(21341)}_{1} b^{(21341)}_{2} b^{(21341)}_{3} \\left(a^{(21341)}_{2} + a^{(21341)}_{3} + b^{(21341)}_{4} + 1\\right)$"
      ],
      "text/plain": [
       "<IPython.core.display.Math object>"
      ]
     },
     "metadata": {},
     "output_type": "display_data"
    },
    {
     "data": {
      "text/latex": [
       "$\\displaystyle \\left(a^{(21341)}_{1}\\right)^{3} \\left(a^{(21341)}_{4}\\right)^{3} \\left(b^{(21341)}_{1}\\right)^{3} \\left(b^{(21341)}_{2}\\right)^{3} \\left(b^{(21341)}_{3}\\right)^{3}$"
      ],
      "text/plain": [
       "<IPython.core.display.Math object>"
      ]
     },
     "metadata": {},
     "output_type": "display_data"
    },
    {
     "name": "stdout",
     "output_type": "stream",
     "text": [
      "4 5\n"
     ]
    },
    {
     "data": {
      "text/latex": [
       "$\\displaystyle a^{(14324)}_{2} a^{(14324)}_{4} b^{(14324)}_{1} b^{(14324)}_{3} b^{(14324)}_{4} \\left(a^{(14324)}_{1} + a^{(14324)}_{3} + b^{(14324)}_{2} + 1\\right)$"
      ],
      "text/plain": [
       "<IPython.core.display.Math object>"
      ]
     },
     "metadata": {},
     "output_type": "display_data"
    },
    {
     "data": {
      "text/latex": [
       "$\\displaystyle \\left(a^{(14324)}_{2}\\right)^{3} \\left(a^{(14324)}_{4}\\right)^{3} \\left(b^{(14324)}_{1}\\right)^{3} \\left(b^{(14324)}_{3}\\right)^{3} \\left(b^{(14324)}_{4}\\right)^{3}$"
      ],
      "text/plain": [
       "<IPython.core.display.Math object>"
      ]
     },
     "metadata": {},
     "output_type": "display_data"
    },
    {
     "name": "stdout",
     "output_type": "stream",
     "text": [
      "4 5\n"
     ]
    },
    {
     "data": {
      "text/latex": [
       "$\\displaystyle a^{(14323)}_{2} a^{(14323)}_{3} b^{(14323)}_{1} b^{(14323)}_{3} b^{(14323)}_{4} \\left(a^{(14323)}_{1} + a^{(14323)}_{4} + b^{(14323)}_{2} + 1\\right)$"
      ],
      "text/plain": [
       "<IPython.core.display.Math object>"
      ]
     },
     "metadata": {},
     "output_type": "display_data"
    },
    {
     "data": {
      "text/latex": [
       "$\\displaystyle \\left(a^{(14323)}_{2}\\right)^{3} \\left(a^{(14323)}_{3}\\right)^{3} \\left(b^{(14323)}_{1}\\right)^{3} \\left(b^{(14323)}_{3}\\right)^{3} \\left(b^{(14323)}_{4}\\right)^{3}$"
      ],
      "text/plain": [
       "<IPython.core.display.Math object>"
      ]
     },
     "metadata": {},
     "output_type": "display_data"
    },
    {
     "name": "stdout",
     "output_type": "stream",
     "text": [
      "4 5\n"
     ]
    },
    {
     "data": {
      "text/latex": [
       "$\\displaystyle a^{(14322)}_{2} b^{(14322)}_{1} b^{(14322)}_{2} b^{(14322)}_{3} b^{(14322)}_{4} \\left(a^{(14322)}_{1} + a^{(14322)}_{3} + a^{(14322)}_{4} + 1\\right)$"
      ],
      "text/plain": [
       "<IPython.core.display.Math object>"
      ]
     },
     "metadata": {},
     "output_type": "display_data"
    },
    {
     "data": {
      "text/latex": [
       "$\\displaystyle \\left(a^{(14322)}_{2}\\right)^{3} \\left(b^{(14322)}_{1}\\right)^{3} \\left(b^{(14322)}_{2}\\right)^{3} \\left(b^{(14322)}_{3}\\right)^{3} \\left(b^{(14322)}_{4}\\right)^{3}$"
      ],
      "text/plain": [
       "<IPython.core.display.Math object>"
      ]
     },
     "metadata": {},
     "output_type": "display_data"
    },
    {
     "name": "stdout",
     "output_type": "stream",
     "text": [
      "4 5\n"
     ]
    },
    {
     "data": {
      "text/latex": [
       "$\\displaystyle a^{(14321)}_{1} a^{(14321)}_{2} b^{(14321)}_{1} b^{(14321)}_{3} b^{(14321)}_{4} \\left(a^{(14321)}_{3} + a^{(14321)}_{4} + b^{(14321)}_{2} + 1\\right)$"
      ],
      "text/plain": [
       "<IPython.core.display.Math object>"
      ]
     },
     "metadata": {},
     "output_type": "display_data"
    },
    {
     "data": {
      "text/latex": [
       "$\\displaystyle \\left(a^{(14321)}_{1}\\right)^{3} \\left(a^{(14321)}_{2}\\right)^{3} \\left(b^{(14321)}_{1}\\right)^{3} \\left(b^{(14321)}_{3}\\right)^{3} \\left(b^{(14321)}_{4}\\right)^{3}$"
      ],
      "text/plain": [
       "<IPython.core.display.Math object>"
      ]
     },
     "metadata": {},
     "output_type": "display_data"
    },
    {
     "name": "stdout",
     "output_type": "stream",
     "text": [
      "4 5\n"
     ]
    },
    {
     "data": {
      "text/latex": [
       "$\\displaystyle a^{(14234)}_{3} a^{(14234)}_{4} b^{(14234)}_{1} b^{(14234)}_{2} b^{(14234)}_{4} \\left(a^{(14234)}_{1} + a^{(14234)}_{2} + b^{(14234)}_{3} + 1\\right)$"
      ],
      "text/plain": [
       "<IPython.core.display.Math object>"
      ]
     },
     "metadata": {},
     "output_type": "display_data"
    },
    {
     "data": {
      "text/latex": [
       "$\\displaystyle \\left(a^{(14234)}_{3}\\right)^{3} \\left(a^{(14234)}_{4}\\right)^{3} \\left(b^{(14234)}_{1}\\right)^{3} \\left(b^{(14234)}_{2}\\right)^{3} \\left(b^{(14234)}_{4}\\right)^{3}$"
      ],
      "text/plain": [
       "<IPython.core.display.Math object>"
      ]
     },
     "metadata": {},
     "output_type": "display_data"
    },
    {
     "name": "stdout",
     "output_type": "stream",
     "text": [
      "4 5\n"
     ]
    },
    {
     "data": {
      "text/latex": [
       "$\\displaystyle a^{(14233)}_{3} b^{(14233)}_{1} b^{(14233)}_{2} b^{(14233)}_{3} b^{(14233)}_{4} \\left(a^{(14233)}_{1} + a^{(14233)}_{2} + a^{(14233)}_{4} + 1\\right)$"
      ],
      "text/plain": [
       "<IPython.core.display.Math object>"
      ]
     },
     "metadata": {},
     "output_type": "display_data"
    },
    {
     "data": {
      "text/latex": [
       "$\\displaystyle \\left(a^{(14233)}_{3}\\right)^{3} \\left(b^{(14233)}_{1}\\right)^{3} \\left(b^{(14233)}_{2}\\right)^{3} \\left(b^{(14233)}_{3}\\right)^{3} \\left(b^{(14233)}_{4}\\right)^{3}$"
      ],
      "text/plain": [
       "<IPython.core.display.Math object>"
      ]
     },
     "metadata": {},
     "output_type": "display_data"
    },
    {
     "name": "stdout",
     "output_type": "stream",
     "text": [
      "4 5\n"
     ]
    },
    {
     "data": {
      "text/latex": [
       "$\\displaystyle a^{(14232)}_{2} a^{(14232)}_{3} b^{(14232)}_{1} b^{(14232)}_{2} b^{(14232)}_{4} \\left(a^{(14232)}_{1} + a^{(14232)}_{4} + b^{(14232)}_{3} + 1\\right)$"
      ],
      "text/plain": [
       "<IPython.core.display.Math object>"
      ]
     },
     "metadata": {},
     "output_type": "display_data"
    },
    {
     "data": {
      "text/latex": [
       "$\\displaystyle \\left(a^{(14232)}_{2}\\right)^{3} \\left(a^{(14232)}_{3}\\right)^{3} \\left(b^{(14232)}_{1}\\right)^{3} \\left(b^{(14232)}_{2}\\right)^{3} \\left(b^{(14232)}_{4}\\right)^{3}$"
      ],
      "text/plain": [
       "<IPython.core.display.Math object>"
      ]
     },
     "metadata": {},
     "output_type": "display_data"
    },
    {
     "name": "stdout",
     "output_type": "stream",
     "text": [
      "4 5\n"
     ]
    },
    {
     "data": {
      "text/latex": [
       "$\\displaystyle a^{(14231)}_{1} a^{(14231)}_{3} b^{(14231)}_{1} b^{(14231)}_{2} b^{(14231)}_{4} \\left(a^{(14231)}_{2} + a^{(14231)}_{4} + b^{(14231)}_{3} + 1\\right)$"
      ],
      "text/plain": [
       "<IPython.core.display.Math object>"
      ]
     },
     "metadata": {},
     "output_type": "display_data"
    },
    {
     "data": {
      "text/latex": [
       "$\\displaystyle \\left(a^{(14231)}_{1}\\right)^{3} \\left(a^{(14231)}_{3}\\right)^{3} \\left(b^{(14231)}_{1}\\right)^{3} \\left(b^{(14231)}_{2}\\right)^{3} \\left(b^{(14231)}_{4}\\right)^{3}$"
      ],
      "text/plain": [
       "<IPython.core.display.Math object>"
      ]
     },
     "metadata": {},
     "output_type": "display_data"
    },
    {
     "name": "stdout",
     "output_type": "stream",
     "text": [
      "4 5\n"
     ]
    },
    {
     "data": {
      "text/latex": [
       "$\\displaystyle a^{(13424)}_{2} a^{(13424)}_{4} b^{(13424)}_{1} b^{(13424)}_{3} b^{(13424)}_{4} \\left(a^{(13424)}_{1} + a^{(13424)}_{3} + b^{(13424)}_{2} + 1\\right)$"
      ],
      "text/plain": [
       "<IPython.core.display.Math object>"
      ]
     },
     "metadata": {},
     "output_type": "display_data"
    },
    {
     "data": {
      "text/latex": [
       "$\\displaystyle \\left(a^{(13424)}_{2}\\right)^{3} \\left(a^{(13424)}_{4}\\right)^{3} \\left(b^{(13424)}_{1}\\right)^{3} \\left(b^{(13424)}_{3}\\right)^{3} \\left(b^{(13424)}_{4}\\right)^{3}$"
      ],
      "text/plain": [
       "<IPython.core.display.Math object>"
      ]
     },
     "metadata": {},
     "output_type": "display_data"
    },
    {
     "name": "stdout",
     "output_type": "stream",
     "text": [
      "4 5\n"
     ]
    },
    {
     "data": {
      "text/latex": [
       "$\\displaystyle a^{(13423)}_{2} a^{(13423)}_{3} b^{(13423)}_{1} b^{(13423)}_{3} b^{(13423)}_{4} \\left(a^{(13423)}_{1} + a^{(13423)}_{4} + b^{(13423)}_{2} + 1\\right)$"
      ],
      "text/plain": [
       "<IPython.core.display.Math object>"
      ]
     },
     "metadata": {},
     "output_type": "display_data"
    },
    {
     "data": {
      "text/latex": [
       "$\\displaystyle \\left(a^{(13423)}_{2}\\right)^{3} \\left(a^{(13423)}_{3}\\right)^{3} \\left(b^{(13423)}_{1}\\right)^{3} \\left(b^{(13423)}_{3}\\right)^{3} \\left(b^{(13423)}_{4}\\right)^{3}$"
      ],
      "text/plain": [
       "<IPython.core.display.Math object>"
      ]
     },
     "metadata": {},
     "output_type": "display_data"
    },
    {
     "name": "stdout",
     "output_type": "stream",
     "text": [
      "4 5\n"
     ]
    },
    {
     "data": {
      "text/latex": [
       "$\\displaystyle a^{(13422)}_{2} b^{(13422)}_{1} b^{(13422)}_{2} b^{(13422)}_{3} b^{(13422)}_{4} \\left(a^{(13422)}_{1} + a^{(13422)}_{3} + a^{(13422)}_{4} + 1\\right)$"
      ],
      "text/plain": [
       "<IPython.core.display.Math object>"
      ]
     },
     "metadata": {},
     "output_type": "display_data"
    },
    {
     "data": {
      "text/latex": [
       "$\\displaystyle \\left(a^{(13422)}_{2}\\right)^{3} \\left(b^{(13422)}_{1}\\right)^{3} \\left(b^{(13422)}_{2}\\right)^{3} \\left(b^{(13422)}_{3}\\right)^{3} \\left(b^{(13422)}_{4}\\right)^{3}$"
      ],
      "text/plain": [
       "<IPython.core.display.Math object>"
      ]
     },
     "metadata": {},
     "output_type": "display_data"
    },
    {
     "name": "stdout",
     "output_type": "stream",
     "text": [
      "4 5\n"
     ]
    },
    {
     "data": {
      "text/latex": [
       "$\\displaystyle a^{(13421)}_{1} a^{(13421)}_{2} b^{(13421)}_{1} b^{(13421)}_{3} b^{(13421)}_{4} \\left(a^{(13421)}_{3} + a^{(13421)}_{4} + b^{(13421)}_{2} + 1\\right)$"
      ],
      "text/plain": [
       "<IPython.core.display.Math object>"
      ]
     },
     "metadata": {},
     "output_type": "display_data"
    },
    {
     "data": {
      "text/latex": [
       "$\\displaystyle \\left(a^{(13421)}_{1}\\right)^{3} \\left(a^{(13421)}_{2}\\right)^{3} \\left(b^{(13421)}_{1}\\right)^{3} \\left(b^{(13421)}_{3}\\right)^{3} \\left(b^{(13421)}_{4}\\right)^{3}$"
      ],
      "text/plain": [
       "<IPython.core.display.Math object>"
      ]
     },
     "metadata": {},
     "output_type": "display_data"
    },
    {
     "name": "stdout",
     "output_type": "stream",
     "text": [
      "4 5\n"
     ]
    },
    {
     "data": {
      "text/latex": [
       "$\\displaystyle a^{(13244)}_{2} a^{(13244)}_{4} b^{(13244)}_{1} b^{(13244)}_{3} b^{(13244)}_{4} \\left(a^{(13244)}_{1} + a^{(13244)}_{3} + b^{(13244)}_{2} + 1\\right)$"
      ],
      "text/plain": [
       "<IPython.core.display.Math object>"
      ]
     },
     "metadata": {},
     "output_type": "display_data"
    },
    {
     "data": {
      "text/latex": [
       "$\\displaystyle \\left(a^{(13244)}_{2}\\right)^{3} \\left(a^{(13244)}_{4}\\right)^{3} \\left(b^{(13244)}_{1}\\right)^{3} \\left(b^{(13244)}_{3}\\right)^{3} \\left(b^{(13244)}_{4}\\right)^{3}$"
      ],
      "text/plain": [
       "<IPython.core.display.Math object>"
      ]
     },
     "metadata": {},
     "output_type": "display_data"
    },
    {
     "name": "stdout",
     "output_type": "stream",
     "text": [
      "4 5\n"
     ]
    },
    {
     "data": {
      "text/latex": [
       "$\\displaystyle a^{(13243)}_{2} a^{(13243)}_{3} b^{(13243)}_{1} b^{(13243)}_{3} b^{(13243)}_{4} \\left(a^{(13243)}_{1} + a^{(13243)}_{4} + b^{(13243)}_{2} + 1\\right)$"
      ],
      "text/plain": [
       "<IPython.core.display.Math object>"
      ]
     },
     "metadata": {},
     "output_type": "display_data"
    },
    {
     "data": {
      "text/latex": [
       "$\\displaystyle \\left(a^{(13243)}_{2}\\right)^{3} \\left(a^{(13243)}_{3}\\right)^{3} \\left(b^{(13243)}_{1}\\right)^{3} \\left(b^{(13243)}_{3}\\right)^{3} \\left(b^{(13243)}_{4}\\right)^{3}$"
      ],
      "text/plain": [
       "<IPython.core.display.Math object>"
      ]
     },
     "metadata": {},
     "output_type": "display_data"
    },
    {
     "name": "stdout",
     "output_type": "stream",
     "text": [
      "4 5\n"
     ]
    },
    {
     "data": {
      "text/latex": [
       "$\\displaystyle a^{(13242)}_{2} b^{(13242)}_{1} b^{(13242)}_{2} b^{(13242)}_{3} b^{(13242)}_{4} \\left(a^{(13242)}_{1} + a^{(13242)}_{3} + a^{(13242)}_{4} + 1\\right)$"
      ],
      "text/plain": [
       "<IPython.core.display.Math object>"
      ]
     },
     "metadata": {},
     "output_type": "display_data"
    },
    {
     "data": {
      "text/latex": [
       "$\\displaystyle \\left(a^{(13242)}_{2}\\right)^{3} \\left(b^{(13242)}_{1}\\right)^{3} \\left(b^{(13242)}_{2}\\right)^{3} \\left(b^{(13242)}_{3}\\right)^{3} \\left(b^{(13242)}_{4}\\right)^{3}$"
      ],
      "text/plain": [
       "<IPython.core.display.Math object>"
      ]
     },
     "metadata": {},
     "output_type": "display_data"
    },
    {
     "name": "stdout",
     "output_type": "stream",
     "text": [
      "4 5\n"
     ]
    },
    {
     "data": {
      "text/latex": [
       "$\\displaystyle a^{(13241)}_{1} a^{(13241)}_{2} b^{(13241)}_{1} b^{(13241)}_{3} b^{(13241)}_{4} \\left(a^{(13241)}_{3} + a^{(13241)}_{4} + b^{(13241)}_{2} + 1\\right)$"
      ],
      "text/plain": [
       "<IPython.core.display.Math object>"
      ]
     },
     "metadata": {},
     "output_type": "display_data"
    },
    {
     "data": {
      "text/latex": [
       "$\\displaystyle \\left(a^{(13241)}_{1}\\right)^{3} \\left(a^{(13241)}_{2}\\right)^{3} \\left(b^{(13241)}_{1}\\right)^{3} \\left(b^{(13241)}_{3}\\right)^{3} \\left(b^{(13241)}_{4}\\right)^{3}$"
      ],
      "text/plain": [
       "<IPython.core.display.Math object>"
      ]
     },
     "metadata": {},
     "output_type": "display_data"
    },
    {
     "name": "stdout",
     "output_type": "stream",
     "text": [
      "4 5\n"
     ]
    },
    {
     "data": {
      "text/latex": [
       "$\\displaystyle a^{(12434)}_{2} a^{(12434)}_{4} b^{(12434)}_{1} b^{(12434)}_{3} b^{(12434)}_{4} \\left(a^{(12434)}_{1} + a^{(12434)}_{3} + b^{(12434)}_{2} + 1\\right)$"
      ],
      "text/plain": [
       "<IPython.core.display.Math object>"
      ]
     },
     "metadata": {},
     "output_type": "display_data"
    },
    {
     "data": {
      "text/latex": [
       "$\\displaystyle \\left(a^{(12434)}_{2}\\right)^{3} \\left(a^{(12434)}_{4}\\right)^{3} \\left(b^{(12434)}_{1}\\right)^{3} \\left(b^{(12434)}_{3}\\right)^{3} \\left(b^{(12434)}_{4}\\right)^{3}$"
      ],
      "text/plain": [
       "<IPython.core.display.Math object>"
      ]
     },
     "metadata": {},
     "output_type": "display_data"
    },
    {
     "name": "stdout",
     "output_type": "stream",
     "text": [
      "4 5\n"
     ]
    },
    {
     "data": {
      "text/latex": [
       "$\\displaystyle a^{(12433)}_{2} a^{(12433)}_{3} a^{(12433)}_{4} b^{(12433)}_{1} b^{(12433)}_{3} \\left(a^{(12433)}_{1} + b^{(12433)}_{2} + b^{(12433)}_{4} + 1\\right)$"
      ],
      "text/plain": [
       "<IPython.core.display.Math object>"
      ]
     },
     "metadata": {},
     "output_type": "display_data"
    },
    {
     "data": {
      "text/latex": [
       "$\\displaystyle \\left(a^{(12433)}_{2}\\right)^{3} \\left(a^{(12433)}_{3}\\right)^{3} \\left(a^{(12433)}_{4}\\right)^{3} \\left(b^{(12433)}_{1}\\right)^{3} \\left(b^{(12433)}_{3}\\right)^{3}$"
      ],
      "text/plain": [
       "<IPython.core.display.Math object>"
      ]
     },
     "metadata": {},
     "output_type": "display_data"
    },
    {
     "name": "stdout",
     "output_type": "stream",
     "text": [
      "4 5\n"
     ]
    },
    {
     "data": {
      "text/latex": [
       "$\\displaystyle a^{(12432)}_{2} a^{(12432)}_{4} b^{(12432)}_{1} b^{(12432)}_{2} b^{(12432)}_{3} \\left(a^{(12432)}_{1} + a^{(12432)}_{3} + b^{(12432)}_{4} + 1\\right)$"
      ],
      "text/plain": [
       "<IPython.core.display.Math object>"
      ]
     },
     "metadata": {},
     "output_type": "display_data"
    },
    {
     "data": {
      "text/latex": [
       "$\\displaystyle \\left(a^{(12432)}_{2}\\right)^{3} \\left(a^{(12432)}_{4}\\right)^{3} \\left(b^{(12432)}_{1}\\right)^{3} \\left(b^{(12432)}_{2}\\right)^{3} \\left(b^{(12432)}_{3}\\right)^{3}$"
      ],
      "text/plain": [
       "<IPython.core.display.Math object>"
      ]
     },
     "metadata": {},
     "output_type": "display_data"
    },
    {
     "name": "stdout",
     "output_type": "stream",
     "text": [
      "4 5\n"
     ]
    },
    {
     "data": {
      "text/latex": [
       "$\\displaystyle a^{(12431)}_{1} a^{(12431)}_{2} a^{(12431)}_{4} b^{(12431)}_{1} b^{(12431)}_{3} \\left(a^{(12431)}_{3} + b^{(12431)}_{2} + b^{(12431)}_{4} + 1\\right)$"
      ],
      "text/plain": [
       "<IPython.core.display.Math object>"
      ]
     },
     "metadata": {},
     "output_type": "display_data"
    },
    {
     "data": {
      "text/latex": [
       "$\\displaystyle \\left(a^{(12431)}_{1}\\right)^{3} \\left(a^{(12431)}_{2}\\right)^{3} \\left(a^{(12431)}_{4}\\right)^{3} \\left(b^{(12431)}_{1}\\right)^{3} \\left(b^{(12431)}_{3}\\right)^{3}$"
      ],
      "text/plain": [
       "<IPython.core.display.Math object>"
      ]
     },
     "metadata": {},
     "output_type": "display_data"
    },
    {
     "name": "stdout",
     "output_type": "stream",
     "text": [
      "4 5\n"
     ]
    },
    {
     "data": {
      "text/latex": [
       "$\\displaystyle a^{(12344)}_{2} a^{(12344)}_{3} a^{(12344)}_{4} b^{(12344)}_{1} b^{(12344)}_{4} \\left(a^{(12344)}_{1} + b^{(12344)}_{2} + b^{(12344)}_{3} + 1\\right)$"
      ],
      "text/plain": [
       "<IPython.core.display.Math object>"
      ]
     },
     "metadata": {},
     "output_type": "display_data"
    },
    {
     "data": {
      "text/latex": [
       "$\\displaystyle \\left(a^{(12344)}_{2}\\right)^{3} \\left(a^{(12344)}_{3}\\right)^{3} \\left(a^{(12344)}_{4}\\right)^{3} \\left(b^{(12344)}_{1}\\right)^{3} \\left(b^{(12344)}_{4}\\right)^{3}$"
      ],
      "text/plain": [
       "<IPython.core.display.Math object>"
      ]
     },
     "metadata": {},
     "output_type": "display_data"
    },
    {
     "name": "stdout",
     "output_type": "stream",
     "text": [
      "4 5\n"
     ]
    },
    {
     "data": {
      "text/latex": [
       "$\\displaystyle a^{(12343)}_{2} a^{(12343)}_{3} a^{(12343)}_{4} b^{(12343)}_{1} b^{(12343)}_{3} \\left(a^{(12343)}_{1} + b^{(12343)}_{2} + b^{(12343)}_{4} + 1\\right)$"
      ],
      "text/plain": [
       "<IPython.core.display.Math object>"
      ]
     },
     "metadata": {},
     "output_type": "display_data"
    },
    {
     "data": {
      "text/latex": [
       "$\\displaystyle \\left(a^{(12343)}_{2}\\right)^{3} \\left(a^{(12343)}_{3}\\right)^{3} \\left(a^{(12343)}_{4}\\right)^{3} \\left(b^{(12343)}_{1}\\right)^{3} \\left(b^{(12343)}_{3}\\right)^{3}$"
      ],
      "text/plain": [
       "<IPython.core.display.Math object>"
      ]
     },
     "metadata": {},
     "output_type": "display_data"
    },
    {
     "name": "stdout",
     "output_type": "stream",
     "text": [
      "4 5\n"
     ]
    },
    {
     "data": {
      "text/latex": [
       "$\\displaystyle a^{(12342)}_{2} a^{(12342)}_{3} a^{(12342)}_{4} b^{(12342)}_{1} b^{(12342)}_{2} \\left(a^{(12342)}_{1} + b^{(12342)}_{3} + b^{(12342)}_{4} + 1\\right)$"
      ],
      "text/plain": [
       "<IPython.core.display.Math object>"
      ]
     },
     "metadata": {},
     "output_type": "display_data"
    },
    {
     "data": {
      "text/latex": [
       "$\\displaystyle \\left(a^{(12342)}_{2}\\right)^{3} \\left(a^{(12342)}_{3}\\right)^{3} \\left(a^{(12342)}_{4}\\right)^{3} \\left(b^{(12342)}_{1}\\right)^{3} \\left(b^{(12342)}_{2}\\right)^{3}$"
      ],
      "text/plain": [
       "<IPython.core.display.Math object>"
      ]
     },
     "metadata": {},
     "output_type": "display_data"
    },
    {
     "name": "stdout",
     "output_type": "stream",
     "text": [
      "4 5\n"
     ]
    },
    {
     "data": {
      "text/latex": [
       "$\\displaystyle a^{(12341)}_{1} a^{(12341)}_{2} a^{(12341)}_{3} a^{(12341)}_{4} b^{(12341)}_{1} \\left(b^{(12341)}_{2} + b^{(12341)}_{3} + b^{(12341)}_{4} + 1\\right)$"
      ],
      "text/plain": [
       "<IPython.core.display.Math object>"
      ]
     },
     "metadata": {},
     "output_type": "display_data"
    },
    {
     "data": {
      "text/latex": [
       "$\\displaystyle \\left(a^{(12341)}_{1}\\right)^{3} \\left(a^{(12341)}_{2}\\right)^{3} \\left(a^{(12341)}_{3}\\right)^{3} \\left(a^{(12341)}_{4}\\right)^{3} \\left(b^{(12341)}_{1}\\right)^{3}$"
      ],
      "text/plain": [
       "<IPython.core.display.Math object>"
      ]
     },
     "metadata": {},
     "output_type": "display_data"
    },
    {
     "name": "stdout",
     "output_type": "stream",
     "text": [
      "4 5\n"
     ]
    }
   ],
   "source": [
    "import sympy\n",
    "rlct_rec = []\n",
    "for gen in nx.topological_generations(btree.tree):\n",
    "    for chart in gen:\n",
    "        if \"rlcts\" in btree.tree.nodes[chart].keys() and btree.tree.nodes[chart][\"is_normal_crossing\"]:\n",
    "            rlcts = [r for _, r in btree.tree.nodes[chart][\"rlcts\"]]\n",
    "            min_rlct = min(rlcts)\n",
    "            multiplicity = rlcts.count(min_rlct)\n",
    "            expr = btree.tree.nodes[chart][\"expr\"]\n",
    "            display(Math(sympy.latex(expr)))\n",
    "            display(Math(sympy.latex(btree.tree.nodes[chart][\"det(J)\"])))\n",
    "            print(min_rlct, multiplicity)\n",
    "            rlct_rec.append((min_rlct, multiplicity))"
   ]
  },
  {
   "cell_type": "code",
   "execution_count": 9,
   "id": "8d887404-83c2-4177-9b99-12efb0f4c410",
   "metadata": {},
   "outputs": [
    {
     "name": "stdout",
     "output_type": "stream",
     "text": [
      "[(4, 5), (4, 5), (4, 5), (4, 5), (4, 5), (4, 5), (4, 5), (4, 5), (4, 5), (4, 5), (4, 5), (4, 5), (4, 5), (4, 5), (4, 5), (4, 5), (4, 5), (4, 5), (4, 5), (4, 5), (4, 5), (4, 5), (4, 5), (4, 5), (4, 5), (4, 5), (4, 5), (4, 5), (4, 5), (4, 5), (4, 5), (4, 5), (4, 5), (4, 5), (4, 5), (4, 5), (4, 5), (4, 5), (4, 5), (4, 5), (4, 5), (4, 5), (4, 5), (4, 5), (4, 5), (4, 5), (4, 5), (4, 5), (4, 5), (4, 5), (4, 5), (4, 5), (4, 5), (4, 5), (4, 5), (4, 5), (4, 5), (4, 5), (4, 5), (4, 5), (4, 5), (4, 5), (4, 5), (4, 5), (4, 5), (4, 5), (4, 5), (4, 5), (4, 5), (4, 5), (4, 5), (4, 5), (4, 5), (4, 5), (4, 5), (4, 5), (4, 5), (4, 5), (4, 5), (4, 5), (4, 5), (4, 5), (4, 5), (4, 5), (4, 5), (4, 5), (4, 5), (4, 5), (4, 5), (4, 5), (4, 5), (4, 5), (4, 5), (4, 5), (4, 5), (4, 5), (4, 4), (4, 4), (4, 4), (4, 4), (4, 4), (4, 4), (4, 4), (4, 4), (4, 4), (4, 4), (4, 4), (4, 4), (4, 4), (4, 4), (4, 4), (4, 4), (4, 4), (4, 4), (4, 4), (4, 4), (4, 4), (4, 4), (4, 4), (4, 4), (4, 4), (4, 4), (4, 4), (4, 4), (4, 4), (4, 4), (4, 4), (4, 4), (4, 4), (4, 4), (4, 4), (4, 4), (4, 4), (4, 4), (4, 4), (4, 4), (4, 4), (4, 4), (4, 4), (4, 4), (4, 4), (4, 4), (4, 4), (4, 4), (4, 4), (4, 4), (4, 4), (4, 4), (4, 4), (4, 4), (4, 4), (4, 4), (4, 4), (4, 4), (4, 4), (4, 4), (4, 4), (4, 4), (4, 4), (4, 4), (4, 4), (4, 4), (4, 4), (4, 4), (4, 4), (4, 4), (4, 4), (4, 4), (4, 3), (4, 3), (4, 3), (4, 3), (4, 3), (4, 3), (4, 3), (4, 3), (4, 3), (4, 3), (4, 3), (4, 3), (4, 3), (4, 3), (4, 3), (4, 3), (4, 3), (4, 3), (4, 3), (4, 3), (4, 3), (4, 3), (4, 3), (4, 3), (4, 2), (4, 2), (4, 2), (4, 2)]\n"
     ]
    }
   ],
   "source": [
    "print(sorted(rlct_rec, key=lambda x: (x[0], -x[1])))"
   ]
  },
  {
   "cell_type": "code",
   "execution_count": 7,
   "id": "75660992-7898-416f-99ff-a99a5aff61e6",
   "metadata": {},
   "outputs": [
    {
     "data": {
      "text/latex": [
       "$\\displaystyle f^* = a^{(22)}_{2} b^{(22)}_{2} \\left(a^{(22)}_{1} b^{(22)}_{1} + 1\\right)$"
      ],
      "text/plain": [
       "<IPython.core.display.Math object>"
      ]
     },
     "metadata": {},
     "output_type": "display_data"
    },
    {
     "data": {
      "text/latex": [
       "$\\displaystyle det(J) = a^{(22)}_{2} b^{(22)}_{2}$"
      ],
      "text/plain": [
       "<IPython.core.display.Math object>"
      ]
     },
     "metadata": {},
     "output_type": "display_data"
    },
    {
     "data": {
      "text/latex": [
       "$\\displaystyle \\lambda^{(22)}_{a 2} = 2.0$"
      ],
      "text/plain": [
       "<IPython.core.display.Math object>"
      ]
     },
     "metadata": {},
     "output_type": "display_data"
    },
    {
     "data": {
      "text/latex": [
       "$\\displaystyle \\lambda^{(22)}_{b 2} = 2.0$"
      ],
      "text/plain": [
       "<IPython.core.display.Math object>"
      ]
     },
     "metadata": {},
     "output_type": "display_data"
    },
    {
     "data": {
      "text/latex": [
       "$\\displaystyle a_{1} = a^{(22)}_{1} a^{(22)}_{2}$"
      ],
      "text/plain": [
       "<IPython.core.display.Math object>"
      ]
     },
     "metadata": {},
     "output_type": "display_data"
    },
    {
     "data": {
      "text/latex": [
       "$\\displaystyle b_{1} = b^{(22)}_{1} b^{(22)}_{2}$"
      ],
      "text/plain": [
       "<IPython.core.display.Math object>"
      ]
     },
     "metadata": {},
     "output_type": "display_data"
    },
    {
     "data": {
      "text/latex": [
       "$\\displaystyle a_{2} = a^{(22)}_{2}$"
      ],
      "text/plain": [
       "<IPython.core.display.Math object>"
      ]
     },
     "metadata": {},
     "output_type": "display_data"
    },
    {
     "data": {
      "text/latex": [
       "$\\displaystyle b_{2} = b^{(22)}_{2}$"
      ],
      "text/plain": [
       "<IPython.core.display.Math object>"
      ]
     },
     "metadata": {},
     "output_type": "display_data"
    },
    {
     "data": {
      "text/latex": [
       "$\\displaystyle K = \\left(a^{(22)}_{2}\\right)^{2} \\left(b^{(22)}_{2}\\right)^{2} \\left(a^{(22)}_{1} b^{(22)}_{1} + 1\\right)^{2}$"
      ],
      "text/plain": [
       "<IPython.core.display.Math object>"
      ]
     },
     "metadata": {},
     "output_type": "display_data"
    },
    {
     "name": "stdout",
     "output_type": "stream",
     "text": [
      "------------\n",
      "\n"
     ]
    },
    {
     "data": {
      "text/latex": [
       "$\\displaystyle f^* = a^{(212)}_{2} b^{(212)}_{1} b^{(212)}_{2} \\left(a^{(212)}_{1} + 1\\right)$"
      ],
      "text/plain": [
       "<IPython.core.display.Math object>"
      ]
     },
     "metadata": {},
     "output_type": "display_data"
    },
    {
     "data": {
      "text/latex": [
       "$\\displaystyle det(J) = a^{(212)}_{2} b^{(212)}_{1} b^{(212)}_{2}$"
      ],
      "text/plain": [
       "<IPython.core.display.Math object>"
      ]
     },
     "metadata": {},
     "output_type": "display_data"
    },
    {
     "data": {
      "text/latex": [
       "$\\displaystyle \\lambda^{(212)}_{a 2} = 2.0$"
      ],
      "text/plain": [
       "<IPython.core.display.Math object>"
      ]
     },
     "metadata": {},
     "output_type": "display_data"
    },
    {
     "data": {
      "text/latex": [
       "$\\displaystyle \\lambda^{(212)}_{b 1} = 2.0$"
      ],
      "text/plain": [
       "<IPython.core.display.Math object>"
      ]
     },
     "metadata": {},
     "output_type": "display_data"
    },
    {
     "data": {
      "text/latex": [
       "$\\displaystyle \\lambda^{(212)}_{b 2} = 2.0$"
      ],
      "text/plain": [
       "<IPython.core.display.Math object>"
      ]
     },
     "metadata": {},
     "output_type": "display_data"
    },
    {
     "data": {
      "text/latex": [
       "$\\displaystyle a_{1} = a^{(212)}_{1} a^{(212)}_{2} b^{(212)}_{2}$"
      ],
      "text/plain": [
       "<IPython.core.display.Math object>"
      ]
     },
     "metadata": {},
     "output_type": "display_data"
    },
    {
     "data": {
      "text/latex": [
       "$\\displaystyle b_{1} = b^{(212)}_{1}$"
      ],
      "text/plain": [
       "<IPython.core.display.Math object>"
      ]
     },
     "metadata": {},
     "output_type": "display_data"
    },
    {
     "data": {
      "text/latex": [
       "$\\displaystyle a_{2} = a^{(212)}_{2}$"
      ],
      "text/plain": [
       "<IPython.core.display.Math object>"
      ]
     },
     "metadata": {},
     "output_type": "display_data"
    },
    {
     "data": {
      "text/latex": [
       "$\\displaystyle b_{2} = b^{(212)}_{1} b^{(212)}_{2}$"
      ],
      "text/plain": [
       "<IPython.core.display.Math object>"
      ]
     },
     "metadata": {},
     "output_type": "display_data"
    },
    {
     "data": {
      "text/latex": [
       "$\\displaystyle K = \\left(a^{(212)}_{2}\\right)^{2} \\left(b^{(212)}_{1}\\right)^{2} \\left(b^{(212)}_{2}\\right)^{2} \\left(a^{(212)}_{1} + 1\\right)^{2}$"
      ],
      "text/plain": [
       "<IPython.core.display.Math object>"
      ]
     },
     "metadata": {},
     "output_type": "display_data"
    },
    {
     "name": "stdout",
     "output_type": "stream",
     "text": [
      "------------\n",
      "\n"
     ]
    },
    {
     "data": {
      "text/latex": [
       "$\\displaystyle f^* = a^{(211)}_{1} a^{(211)}_{2} b^{(211)}_{1} \\left(b^{(211)}_{2} + 1\\right)$"
      ],
      "text/plain": [
       "<IPython.core.display.Math object>"
      ]
     },
     "metadata": {},
     "output_type": "display_data"
    },
    {
     "data": {
      "text/latex": [
       "$\\displaystyle det(J) = a^{(211)}_{1} a^{(211)}_{2} b^{(211)}_{1}$"
      ],
      "text/plain": [
       "<IPython.core.display.Math object>"
      ]
     },
     "metadata": {},
     "output_type": "display_data"
    },
    {
     "data": {
      "text/latex": [
       "$\\displaystyle \\lambda^{(211)}_{a 1} = 2.0$"
      ],
      "text/plain": [
       "<IPython.core.display.Math object>"
      ]
     },
     "metadata": {},
     "output_type": "display_data"
    },
    {
     "data": {
      "text/latex": [
       "$\\displaystyle \\lambda^{(211)}_{a 2} = 2.0$"
      ],
      "text/plain": [
       "<IPython.core.display.Math object>"
      ]
     },
     "metadata": {},
     "output_type": "display_data"
    },
    {
     "data": {
      "text/latex": [
       "$\\displaystyle \\lambda^{(211)}_{b 1} = 2.0$"
      ],
      "text/plain": [
       "<IPython.core.display.Math object>"
      ]
     },
     "metadata": {},
     "output_type": "display_data"
    },
    {
     "data": {
      "text/latex": [
       "$\\displaystyle a_{1} = a^{(211)}_{1} a^{(211)}_{2}$"
      ],
      "text/plain": [
       "<IPython.core.display.Math object>"
      ]
     },
     "metadata": {},
     "output_type": "display_data"
    },
    {
     "data": {
      "text/latex": [
       "$\\displaystyle b_{1} = b^{(211)}_{1}$"
      ],
      "text/plain": [
       "<IPython.core.display.Math object>"
      ]
     },
     "metadata": {},
     "output_type": "display_data"
    },
    {
     "data": {
      "text/latex": [
       "$\\displaystyle a_{2} = a^{(211)}_{2}$"
      ],
      "text/plain": [
       "<IPython.core.display.Math object>"
      ]
     },
     "metadata": {},
     "output_type": "display_data"
    },
    {
     "data": {
      "text/latex": [
       "$\\displaystyle b_{2} = a^{(211)}_{1} b^{(211)}_{1} b^{(211)}_{2}$"
      ],
      "text/plain": [
       "<IPython.core.display.Math object>"
      ]
     },
     "metadata": {},
     "output_type": "display_data"
    },
    {
     "data": {
      "text/latex": [
       "$\\displaystyle K = \\left(a^{(211)}_{1}\\right)^{2} \\left(a^{(211)}_{2}\\right)^{2} \\left(b^{(211)}_{1}\\right)^{2} \\left(b^{(211)}_{2} + 1\\right)^{2}$"
      ],
      "text/plain": [
       "<IPython.core.display.Math object>"
      ]
     },
     "metadata": {},
     "output_type": "display_data"
    },
    {
     "name": "stdout",
     "output_type": "stream",
     "text": [
      "------------\n",
      "\n"
     ]
    },
    {
     "data": {
      "text/latex": [
       "$\\displaystyle f^* = a^{(122)}_{1} a^{(122)}_{2} b^{(122)}_{2} \\left(b^{(122)}_{1} + 1\\right)$"
      ],
      "text/plain": [
       "<IPython.core.display.Math object>"
      ]
     },
     "metadata": {},
     "output_type": "display_data"
    },
    {
     "data": {
      "text/latex": [
       "$\\displaystyle det(J) = a^{(122)}_{1} a^{(122)}_{2} b^{(122)}_{2}$"
      ],
      "text/plain": [
       "<IPython.core.display.Math object>"
      ]
     },
     "metadata": {},
     "output_type": "display_data"
    },
    {
     "data": {
      "text/latex": [
       "$\\displaystyle \\lambda^{(122)}_{a 1} = 2.0$"
      ],
      "text/plain": [
       "<IPython.core.display.Math object>"
      ]
     },
     "metadata": {},
     "output_type": "display_data"
    },
    {
     "data": {
      "text/latex": [
       "$\\displaystyle \\lambda^{(122)}_{a 2} = 2.0$"
      ],
      "text/plain": [
       "<IPython.core.display.Math object>"
      ]
     },
     "metadata": {},
     "output_type": "display_data"
    },
    {
     "data": {
      "text/latex": [
       "$\\displaystyle \\lambda^{(122)}_{b 2} = 2.0$"
      ],
      "text/plain": [
       "<IPython.core.display.Math object>"
      ]
     },
     "metadata": {},
     "output_type": "display_data"
    },
    {
     "data": {
      "text/latex": [
       "$\\displaystyle a_{1} = a^{(122)}_{1}$"
      ],
      "text/plain": [
       "<IPython.core.display.Math object>"
      ]
     },
     "metadata": {},
     "output_type": "display_data"
    },
    {
     "data": {
      "text/latex": [
       "$\\displaystyle b_{1} = a^{(122)}_{2} b^{(122)}_{1} b^{(122)}_{2}$"
      ],
      "text/plain": [
       "<IPython.core.display.Math object>"
      ]
     },
     "metadata": {},
     "output_type": "display_data"
    },
    {
     "data": {
      "text/latex": [
       "$\\displaystyle a_{2} = a^{(122)}_{1} a^{(122)}_{2}$"
      ],
      "text/plain": [
       "<IPython.core.display.Math object>"
      ]
     },
     "metadata": {},
     "output_type": "display_data"
    },
    {
     "data": {
      "text/latex": [
       "$\\displaystyle b_{2} = b^{(122)}_{2}$"
      ],
      "text/plain": [
       "<IPython.core.display.Math object>"
      ]
     },
     "metadata": {},
     "output_type": "display_data"
    },
    {
     "data": {
      "text/latex": [
       "$\\displaystyle K = \\left(a^{(122)}_{1}\\right)^{2} \\left(a^{(122)}_{2}\\right)^{2} \\left(b^{(122)}_{2}\\right)^{2} \\left(b^{(122)}_{1} + 1\\right)^{2}$"
      ],
      "text/plain": [
       "<IPython.core.display.Math object>"
      ]
     },
     "metadata": {},
     "output_type": "display_data"
    },
    {
     "name": "stdout",
     "output_type": "stream",
     "text": [
      "------------\n",
      "\n"
     ]
    },
    {
     "data": {
      "text/latex": [
       "$\\displaystyle f^* = a^{(121)}_{1} a^{(121)}_{2} b^{(121)}_{1} \\left(b^{(121)}_{2} + 1\\right)$"
      ],
      "text/plain": [
       "<IPython.core.display.Math object>"
      ]
     },
     "metadata": {},
     "output_type": "display_data"
    },
    {
     "data": {
      "text/latex": [
       "$\\displaystyle det(J) = a^{(121)}_{1} a^{(121)}_{2} b^{(121)}_{1}$"
      ],
      "text/plain": [
       "<IPython.core.display.Math object>"
      ]
     },
     "metadata": {},
     "output_type": "display_data"
    },
    {
     "data": {
      "text/latex": [
       "$\\displaystyle \\lambda^{(121)}_{a 1} = 2.0$"
      ],
      "text/plain": [
       "<IPython.core.display.Math object>"
      ]
     },
     "metadata": {},
     "output_type": "display_data"
    },
    {
     "data": {
      "text/latex": [
       "$\\displaystyle \\lambda^{(121)}_{a 2} = 2.0$"
      ],
      "text/plain": [
       "<IPython.core.display.Math object>"
      ]
     },
     "metadata": {},
     "output_type": "display_data"
    },
    {
     "data": {
      "text/latex": [
       "$\\displaystyle \\lambda^{(121)}_{b 1} = 2.0$"
      ],
      "text/plain": [
       "<IPython.core.display.Math object>"
      ]
     },
     "metadata": {},
     "output_type": "display_data"
    },
    {
     "data": {
      "text/latex": [
       "$\\displaystyle a_{1} = a^{(121)}_{1}$"
      ],
      "text/plain": [
       "<IPython.core.display.Math object>"
      ]
     },
     "metadata": {},
     "output_type": "display_data"
    },
    {
     "data": {
      "text/latex": [
       "$\\displaystyle b_{1} = a^{(121)}_{2} b^{(121)}_{1}$"
      ],
      "text/plain": [
       "<IPython.core.display.Math object>"
      ]
     },
     "metadata": {},
     "output_type": "display_data"
    },
    {
     "data": {
      "text/latex": [
       "$\\displaystyle a_{2} = a^{(121)}_{1} a^{(121)}_{2}$"
      ],
      "text/plain": [
       "<IPython.core.display.Math object>"
      ]
     },
     "metadata": {},
     "output_type": "display_data"
    },
    {
     "data": {
      "text/latex": [
       "$\\displaystyle b_{2} = b^{(121)}_{1} b^{(121)}_{2}$"
      ],
      "text/plain": [
       "<IPython.core.display.Math object>"
      ]
     },
     "metadata": {},
     "output_type": "display_data"
    },
    {
     "data": {
      "text/latex": [
       "$\\displaystyle K = \\left(a^{(121)}_{1}\\right)^{2} \\left(a^{(121)}_{2}\\right)^{2} \\left(b^{(121)}_{1}\\right)^{2} \\left(b^{(121)}_{2} + 1\\right)^{2}$"
      ],
      "text/plain": [
       "<IPython.core.display.Math object>"
      ]
     },
     "metadata": {},
     "output_type": "display_data"
    },
    {
     "name": "stdout",
     "output_type": "stream",
     "text": [
      "------------\n",
      "\n"
     ]
    },
    {
     "data": {
      "text/latex": [
       "$\\displaystyle f^* = a^{(11)}_{1} b^{(11)}_{1} \\left(a^{(11)}_{2} b^{(11)}_{2} + 1\\right)$"
      ],
      "text/plain": [
       "<IPython.core.display.Math object>"
      ]
     },
     "metadata": {},
     "output_type": "display_data"
    },
    {
     "data": {
      "text/latex": [
       "$\\displaystyle det(J) = a^{(11)}_{1} b^{(11)}_{1}$"
      ],
      "text/plain": [
       "<IPython.core.display.Math object>"
      ]
     },
     "metadata": {},
     "output_type": "display_data"
    },
    {
     "data": {
      "text/latex": [
       "$\\displaystyle \\lambda^{(11)}_{a 1} = 2.0$"
      ],
      "text/plain": [
       "<IPython.core.display.Math object>"
      ]
     },
     "metadata": {},
     "output_type": "display_data"
    },
    {
     "data": {
      "text/latex": [
       "$\\displaystyle \\lambda^{(11)}_{b 1} = 2.0$"
      ],
      "text/plain": [
       "<IPython.core.display.Math object>"
      ]
     },
     "metadata": {},
     "output_type": "display_data"
    },
    {
     "data": {
      "text/latex": [
       "$\\displaystyle a_{1} = a^{(11)}_{1}$"
      ],
      "text/plain": [
       "<IPython.core.display.Math object>"
      ]
     },
     "metadata": {},
     "output_type": "display_data"
    },
    {
     "data": {
      "text/latex": [
       "$\\displaystyle b_{1} = b^{(11)}_{1}$"
      ],
      "text/plain": [
       "<IPython.core.display.Math object>"
      ]
     },
     "metadata": {},
     "output_type": "display_data"
    },
    {
     "data": {
      "text/latex": [
       "$\\displaystyle a_{2} = a^{(11)}_{1} a^{(11)}_{2} b^{(11)}_{1}$"
      ],
      "text/plain": [
       "<IPython.core.display.Math object>"
      ]
     },
     "metadata": {},
     "output_type": "display_data"
    },
    {
     "data": {
      "text/latex": [
       "$\\displaystyle b_{2} = b^{(11)}_{2}$"
      ],
      "text/plain": [
       "<IPython.core.display.Math object>"
      ]
     },
     "metadata": {},
     "output_type": "display_data"
    },
    {
     "data": {
      "text/latex": [
       "$\\displaystyle K = \\left(a^{(11)}_{1}\\right)^{2} \\left(b^{(11)}_{1}\\right)^{2} \\left(a^{(11)}_{2} b^{(11)}_{2} + 1\\right)^{2}$"
      ],
      "text/plain": [
       "<IPython.core.display.Math object>"
      ]
     },
     "metadata": {},
     "output_type": "display_data"
    },
    {
     "name": "stdout",
     "output_type": "stream",
     "text": [
      "------------\n",
      "\n"
     ]
    }
   ],
   "source": [
    "btree.display_leaves_data()"
   ]
  },
  {
   "cell_type": "code",
   "execution_count": null,
   "id": "e14e7fb8-4408-41ec-809b-4ec59373fb9b",
   "metadata": {},
   "outputs": [],
   "source": []
  }
 ],
 "metadata": {
  "kernelspec": {
   "display_name": "Python 3 (ipykernel)",
   "language": "python",
   "name": "python3"
  },
  "language_info": {
   "codemirror_mode": {
    "name": "ipython",
    "version": 3
   },
   "file_extension": ".py",
   "mimetype": "text/x-python",
   "name": "python",
   "nbconvert_exporter": "python",
   "pygments_lexer": "ipython3",
   "version": "3.10.9"
  }
 },
 "nbformat": 4,
 "nbformat_minor": 5
}
