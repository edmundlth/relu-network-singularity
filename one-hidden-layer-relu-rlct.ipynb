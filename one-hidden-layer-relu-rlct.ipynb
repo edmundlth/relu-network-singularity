{
 "cells": [
  {
   "cell_type": "code",
   "execution_count": 1,
   "id": "b11617c6",
   "metadata": {},
   "outputs": [],
   "source": [
    "from sympy import *\n",
    "from IPython.display import display, Math\n",
    "import networkx as nx\n",
    "import matplotlib.pyplot as plt"
   ]
  },
  {
   "cell_type": "markdown",
   "id": "19f5e026",
   "metadata": {},
   "source": [
    "# $h = 2$ case"
   ]
  },
  {
   "cell_type": "markdown",
   "id": "15532707",
   "metadata": {},
   "source": [
    "### First blow up"
   ]
  },
  {
   "cell_type": "code",
   "execution_count": 7,
   "id": "a15d4bda",
   "metadata": {},
   "outputs": [
    {
     "data": {
      "text/latex": [
       "$\\displaystyle a_{1} b_{1} + a_{2} b_{2}$"
      ],
      "text/plain": [
       "a_1*b_1 + a_2*b_2"
      ]
     },
     "execution_count": 7,
     "metadata": {},
     "output_type": "execute_result"
    }
   ],
   "source": [
    "a1, b1, a2, b2 = symbols(' '.join([f\"{s}_{i}\" for i in [1, 2] for s in ['a', 'b']]))\n",
    "f = a1 * b1 + a2 * b2\n",
    "f"
   ]
  },
  {
   "cell_type": "code",
   "execution_count": 21,
   "id": "1966e458",
   "metadata": {},
   "outputs": [
    {
     "name": "stdout",
     "output_type": "stream",
     "text": [
      "[(a_1, a^(1)_1), (b_1, a^(1)_1*b^(1)_1), (a_2, a^(1)_1*a^(1)_2), (b_2, a^(1)_1*b^(1)_2)]\n"
     ]
    },
    {
     "data": {
      "text/latex": [
       "$\\displaystyle \\left(a^{(1)}_{1}\\right)^{2} \\left(a^{(1)}_{2} b^{(1)}_{2} + b^{(1)}_{1}\\right)$"
      ],
      "text/plain": [
       "a^(1)_1**2*(a^(1)_2*b^(1)_2 + b^(1)_1)"
      ]
     },
     "execution_count": 21,
     "metadata": {},
     "output_type": "execute_result"
    }
   ],
   "source": [
    "w1 = symbols(' '.join([f\"{s}^(1)_{i}\" for i in [1, 2] for s in ['a', 'b']]))\n",
    "subs1 = [\n",
    "    (a1, w1[0]), \n",
    "    (b1, w1[0] * w1[1]), \n",
    "    (a2, w1[0] * w1[2]), \n",
    "    (b2, w1[0] * w1[3]), \n",
    "]\n",
    "print(subs1)\n",
    "f1 = factor(f.subs(subs1))\n",
    "f1"
   ]
  },
  {
   "cell_type": "code",
   "execution_count": 22,
   "id": "170d00a4",
   "metadata": {},
   "outputs": [
    {
     "name": "stdout",
     "output_type": "stream",
     "text": [
      "[(a_1, a^(2)_1*b^(2)_1), (b_1, b^(2)_1), (a_2, a^(2)_2*b^(2)_1), (b_2, b^(2)_1*b^(2)_2)]\n"
     ]
    },
    {
     "data": {
      "text/latex": [
       "$\\displaystyle \\left(b^{(2)}_{1}\\right)^{2} \\left(a^{(2)}_{1} + a^{(2)}_{2} b^{(2)}_{2}\\right)$"
      ],
      "text/plain": [
       "b^(2)_1**2*(a^(2)_1 + a^(2)_2*b^(2)_2)"
      ]
     },
     "execution_count": 22,
     "metadata": {},
     "output_type": "execute_result"
    }
   ],
   "source": [
    "w2 = symbols(' '.join([f\"{s}^(2)_{i}\" for i in [1, 2] for s in ['a', 'b']]))\n",
    "subs2 = [\n",
    "    (a1, w2[0] * w2[1]), \n",
    "    (b1, w2[1]), \n",
    "    (a2, w2[1] * w2[2]), \n",
    "    (b2, w2[1] * w2[3]), \n",
    "]\n",
    "print(subs2)\n",
    "f2 = factor(f.subs(subs2))\n",
    "f2"
   ]
  },
  {
   "cell_type": "code",
   "execution_count": 23,
   "id": "462b8172",
   "metadata": {},
   "outputs": [
    {
     "name": "stdout",
     "output_type": "stream",
     "text": [
      "[(a_1, a^(3)_1*a^(3)_2), (b_1, a^(3)_2*b^(3)_1), (a_2, a^(3)_2), (b_2, a^(3)_2*b^(3)_2)]\n"
     ]
    },
    {
     "data": {
      "text/latex": [
       "$\\displaystyle \\left(a^{(3)}_{2}\\right)^{2} \\left(a^{(3)}_{1} b^{(3)}_{1} + b^{(3)}_{2}\\right)$"
      ],
      "text/plain": [
       "a^(3)_2**2*(a^(3)_1*b^(3)_1 + b^(3)_2)"
      ]
     },
     "execution_count": 23,
     "metadata": {},
     "output_type": "execute_result"
    }
   ],
   "source": [
    "w3 = symbols(' '.join([f\"{s}^(3)_{i}\" for i in [1, 2] for s in ['a', 'b']]))\n",
    "subs3 = [\n",
    "    (a1, w3[0] * w3[2]), \n",
    "    (b1, w3[1] * w3[2]), \n",
    "    (a2, w3[2]), \n",
    "    (b2, w3[3] * w3[2]), \n",
    "]\n",
    "print(subs3)\n",
    "f3 = factor(f.subs(subs3))\n",
    "f3"
   ]
  },
  {
   "cell_type": "code",
   "execution_count": 24,
   "id": "96c747dd",
   "metadata": {},
   "outputs": [
    {
     "name": "stdout",
     "output_type": "stream",
     "text": [
      "[(a_1, a^(4)_1*b^(4)_2), (b_1, b^(4)_1*b^(4)_2), (a_2, a^(4)_2*b^(4)_2), (b_2, b^(4)_2)]\n"
     ]
    },
    {
     "data": {
      "text/latex": [
       "$\\displaystyle \\left(b^{(4)}_{2}\\right)^{2} \\left(a^{(4)}_{1} b^{(4)}_{1} + a^{(4)}_{2}\\right)$"
      ],
      "text/plain": [
       "b^(4)_2**2*(a^(4)_1*b^(4)_1 + a^(4)_2)"
      ]
     },
     "execution_count": 24,
     "metadata": {},
     "output_type": "execute_result"
    }
   ],
   "source": [
    "w4 = symbols(' '.join([f\"{s}^(4)_{i}\" for i in [1, 2] for s in ['a', 'b']]))\n",
    "subs4 = [\n",
    "    (a1, w4[0] * w4[3]), \n",
    "    (b1, w4[1] * w4[3]), \n",
    "    (a2, w4[2] * w4[3]), \n",
    "    (b2, w4[3]), \n",
    "]\n",
    "print(subs4)\n",
    "f4 = factor(f.subs(subs4))\n",
    "f4"
   ]
  },
  {
   "cell_type": "markdown",
   "id": "395fd94b",
   "metadata": {},
   "source": [
    "### Second blow up (in the first chart only)"
   ]
  },
  {
   "cell_type": "code",
   "execution_count": 52,
   "id": "d061f8e8",
   "metadata": {},
   "outputs": [
    {
     "name": "stdout",
     "output_type": "stream",
     "text": [
      "[(b^(1)_1, a^(11)_1*b^(11)_1), (a^(1)_2, a^(11)_1*a^(11)_2), (b^(1)_2, a^(11)_1*b^(11)_2), (a^(1)_1, a^(11)_1)]\n"
     ]
    },
    {
     "data": {
      "text/latex": [
       "$\\displaystyle \\left(a^{(11)}_{1}\\right)^{3} \\left(a^{(11)}_{1} a^{(11)}_{2} b^{(11)}_{2} + b^{(11)}_{1}\\right)$"
      ],
      "text/plain": [
       "a^(11)_1**3*(a^(11)_1*a^(11)_2*b^(11)_2 + b^(11)_1)"
      ]
     },
     "execution_count": 52,
     "metadata": {},
     "output_type": "execute_result"
    }
   ],
   "source": [
    "n = 0\n",
    "w11 = symbols(' '.join([f\"{s}^(1{n + 1})_{i}\" for i in [1, 2] for s in ['a', 'b']]))\n",
    "subs11 = [\n",
    "    (w1[i], w11[n] * w11[i]) for i in range(4) if i != 0\n",
    "]\n",
    "subs11.append((w1[n], w11[n]))\n",
    "\n",
    "print(subs11)\n",
    "f11 = factor(f1.subs(subs11))\n",
    "f11"
   ]
  },
  {
   "cell_type": "code",
   "execution_count": 49,
   "id": "9578b158",
   "metadata": {},
   "outputs": [
    {
     "name": "stdout",
     "output_type": "stream",
     "text": [
      "[(b^(1)_1, b^(12)_1**2), (a^(1)_2, a^(12)_2*b^(12)_1), (b^(1)_2, b^(12)_1*b^(12)_2), (b^(1)_1, b^(12)_1)]\n"
     ]
    },
    {
     "data": {
      "text/latex": [
       "$\\displaystyle \\left(a^{(1)}_{1}\\right)^{2} \\left(b^{(12)}_{1}\\right)^{2} \\left(a^{(12)}_{2} b^{(12)}_{2} + 1\\right)$"
      ],
      "text/plain": [
       "a^(1)_1**2*b^(12)_1**2*(a^(12)_2*b^(12)_2 + 1)"
      ]
     },
     "execution_count": 49,
     "metadata": {},
     "output_type": "execute_result"
    }
   ],
   "source": [
    "w12 = symbols(' '.join([f\"{s}^(12)_{i}\" for i in [1, 2] for s in ['a', 'b']]))\n",
    "n = 1\n",
    "subs12 = [\n",
    "    (w1[i], w12[n] * w12[i]) for i in range(4) if i != 0\n",
    "]\n",
    "subs12.append((w1[n], w12[n]))\n",
    "\n",
    "print(subs12)\n",
    "f12 = factor(f1.subs(subs12))\n",
    "f12"
   ]
  },
  {
   "cell_type": "markdown",
   "id": "bc5ea24e",
   "metadata": {},
   "source": [
    "# Better program"
   ]
  },
  {
   "cell_type": "code",
   "execution_count": 8,
   "id": "fee9a4d4",
   "metadata": {},
   "outputs": [],
   "source": [
    "def get_sym_chart_str(sym):\n",
    "    sym = str(sym)\n",
    "    if \"(\" not in sym:\n",
    "        return ''\n",
    "    else:\n",
    "        return sym.split('(')[1].split(')')[0]\n",
    "\n",
    "    \n",
    "def get_sym_name(sym):\n",
    "    sym = str(sym)\n",
    "    if \"(\" not in sym:\n",
    "        return sym\n",
    "    else:\n",
    "        return sym.split(\"^\")[0]\n",
    "\n",
    "def get_rlct(f_pullback, det_of_jacobian):\n",
    "    result = []\n",
    "    for fac, exponent in factor_list(f_pullback)[1]:\n",
    "        if Eq(fac.subs([(v, 0) for v in fac.free_symbols]), 0) and len(fac.atoms()) == 1:\n",
    "            for fac_j, exponent_j in factor_list(det)[1]:\n",
    "                if fac_j.atoms() == fac.atoms():\n",
    "                    rlct = (exponent_j + 1) / exponent\n",
    "                    result.append((fac, rlct))\n",
    "                    break\n",
    "    return result\n",
    "    \n",
    "def get_jacobian_matrix(mapping, var_list):\n",
    "    return Matrix([[diff(e, v) for v in var_list] for _, e in mapping])\n",
    "\n",
    "def _eval_at_val(expr, val=0):\n",
    "    return expr.subs([(v, val) for v in expr.free_symbols]).expand()\n",
    "\n",
    "\n",
    "def is_normal_crossing(expr):\n",
    "    factors = factor_list(expr.factor())[1]    \n",
    "    for t, m in factors:\n",
    "        # if term t is not an exceptional divisor\n",
    "        if (len(t.atoms(Symbol)) != 1): \n",
    "            if Eq(_eval_at_val(t), 0): \n",
    "                return False\n",
    "        else:\n",
    "            deg_list = Poly(t).degree_list()\n",
    "            if len(deg_list) != 1: # therefore not an exceptional divisor\n",
    "                if 0 not in deg_list:\n",
    "                    return False\n",
    "    return True\n",
    "\n",
    "            \n",
    "def embedded_blowup(v_old, var_indices=None):\n",
    "    chart_old = get_sym_chart_str(v_old[0])\n",
    "    if var_indices is None:\n",
    "        var_indices = list(range(len(v_old)))\n",
    "    else:\n",
    "        var_indices = sorted(var_indices)\n",
    "    excluded_indices = sorted(set(range(len(v_old))) - set(var_indices))\n",
    "    \n",
    "    sub_list = []\n",
    "    for i, vidx in enumerate(var_indices):\n",
    "        sym_strings = [f\"{get_sym_name(s)}^({get_sym_chart_str(s)}{i + 1})\" for s in v_old]\n",
    "        v = symbols(' '.join(sym_strings))\n",
    "        subs = [(v_old[vidx], v[vidx])]\n",
    "        subs += [\n",
    "            (v_old[k], v[k]) for k in excluded_indices\n",
    "        ]\n",
    "        subs += [\n",
    "            (v_old[k], v[vidx] * v[k]) for k in var_indices if k != vidx\n",
    "        ]\n",
    "        \n",
    "        sub_list.append((v, subs))\n",
    "    return sub_list\n",
    "\n",
    "\n",
    "\n",
    "\n",
    "class BlowupTree(object):\n",
    "    \n",
    "    def __init__(self, H):\n",
    "        self.tree = nx.DiGraph()\n",
    "        self.H = H\n",
    "        vs = symbols(' '.join([f\"{s}_{i + 1}\" for i in range(H) for s in ['a', 'b']]))\n",
    "        self.f = sum([vs[2 * i] * vs[2 * i + 1] for i in range(0, H)])\n",
    "        self.K = self.f**2\n",
    "        subs = [(v, v) for v in vs]\n",
    "        attr = {\n",
    "            \"vars\": vs, \n",
    "            \"expr\": self.f, \n",
    "            \"map\": subs, \n",
    "            \"subs\": subs\n",
    "        }\n",
    "        self.tree.add_node('', **attr)\n",
    "        \n",
    "        self.task_stack = ['']\n",
    "\n",
    "    \n",
    "    def next_blowup(self):\n",
    "        if not self.task_stack:\n",
    "            print(\"No more blow-up task.\")\n",
    "            return \n",
    "        \n",
    "        chart_old = self.task_stack.pop()\n",
    "        rec = self.tree.nodes[chart_old]\n",
    "        vars_old = rec[\"vars\"]\n",
    "        expr_old = rec[\"expr\"]\n",
    "        map_old = rec[\"map\"]\n",
    "        print(\"\\n---------------\\nCurrent expression: \")\n",
    "        display(Math(latex(expr_old)))\n",
    "        blowup_coord_indices = [int(num) for num in input(\"Enter coordinate indices: \").split()]\n",
    "        print(f\"Blowup coords: {blowup_coord_indices}\")\n",
    "        rec[\"blowup-coords\"] = blowup_coord_indices\n",
    "\n",
    "        blow_up_subs = embedded_blowup(\n",
    "            vars_old, \n",
    "            var_indices=blowup_coord_indices\n",
    "        )\n",
    "        while blow_up_subs:\n",
    "            vars_new, subs = blow_up_subs.pop()\n",
    "            chart_new = get_sym_chart_str(vars_new[0])\n",
    "            map_new = [(v, e.subs(subs)) for v, e in map_old]\n",
    "            expr_new = factor(expr_old.subs(subs))\n",
    "\n",
    "\n",
    "            f_pullback = self.f.subs(map_new).factor()\n",
    "            K_pullback = self.K.subs(map_new).factor()\n",
    "\n",
    "\n",
    "            is_nc = is_normal_crossing(f_pullback)\n",
    "            J = get_jacobian_matrix(map_new, vars_new)\n",
    "            det = J.det()\n",
    "            attr = {\n",
    "                \"vars\": vars_new, \n",
    "                \"subs\": subs, \n",
    "                \"expr\": expr_new, \n",
    "                \"map\": map_new, \n",
    "                \"is_normal_crossing\": is_nc,\n",
    "                \"J\": J,\n",
    "                \"det(J)\": det,\n",
    "                \"f_pullback\": f_pullback\n",
    "            }\n",
    "            self.tree.add_node(chart_new, **attr)\n",
    "            self.tree.add_edge(chart_old, chart_new)\n",
    "            display(Math(latex(f_pullback)))\n",
    "            \n",
    "            # If new expression is not normal crossing, add it to the blow-up task stack. \n",
    "            if not is_nc:\n",
    "                self.task_stack.append(chart_new)\n",
    "        return \n",
    "    \n",
    "    def blowup_game(self):\n",
    "        while self.task_stack:\n",
    "            self.next_blowup()\n",
    "        print(\"Tasks stack is empty!\")\n",
    "        return \n",
    "    \n",
    "    def check_resolved(self):\n",
    "        for chart in nx.dfs_preorder_nodes(self.tree, source=''):\n",
    "            if len(list(self.tree.successors(chart))) == 0: # is a leaf node\n",
    "                if not is_normal_crossing(self.tree.nodes[chart][\"expr\"]):\n",
    "                    return False\n",
    "        return True\n",
    "    \n",
    "        "
   ]
  },
  {
   "cell_type": "code",
   "execution_count": 9,
   "id": "9a69764f",
   "metadata": {},
   "outputs": [
    {
     "data": {
      "text/latex": [
       "$\\displaystyle x$"
      ],
      "text/plain": [
       "<IPython.core.display.Math object>"
      ]
     },
     "metadata": {},
     "output_type": "display_data"
    },
    {
     "name": "stdout",
     "output_type": "stream",
     "text": [
      "True\n"
     ]
    },
    {
     "data": {
      "text/latex": [
       "$\\displaystyle y^{2}$"
      ],
      "text/plain": [
       "<IPython.core.display.Math object>"
      ]
     },
     "metadata": {},
     "output_type": "display_data"
    },
    {
     "name": "stdout",
     "output_type": "stream",
     "text": [
      "True\n"
     ]
    },
    {
     "data": {
      "text/latex": [
       "$\\displaystyle x^{2} y$"
      ],
      "text/plain": [
       "<IPython.core.display.Math object>"
      ]
     },
     "metadata": {},
     "output_type": "display_data"
    },
    {
     "name": "stdout",
     "output_type": "stream",
     "text": [
      "True\n"
     ]
    },
    {
     "data": {
      "text/latex": [
       "$\\displaystyle 2 x^{3}$"
      ],
      "text/plain": [
       "<IPython.core.display.Math object>"
      ]
     },
     "metadata": {},
     "output_type": "display_data"
    },
    {
     "name": "stdout",
     "output_type": "stream",
     "text": [
      "True\n"
     ]
    },
    {
     "data": {
      "text/latex": [
       "$\\displaystyle 2 x^{3} y$"
      ],
      "text/plain": [
       "<IPython.core.display.Math object>"
      ]
     },
     "metadata": {},
     "output_type": "display_data"
    },
    {
     "name": "stdout",
     "output_type": "stream",
     "text": [
      "True\n"
     ]
    },
    {
     "data": {
      "text/latex": [
       "$\\displaystyle y^{2} \\left(x + 1\\right)$"
      ],
      "text/plain": [
       "<IPython.core.display.Math object>"
      ]
     },
     "metadata": {},
     "output_type": "display_data"
    },
    {
     "name": "stdout",
     "output_type": "stream",
     "text": [
      "True\n"
     ]
    },
    {
     "data": {
      "text/latex": [
       "$\\displaystyle y^{2} \\left(x y + y z\\right)$"
      ],
      "text/plain": [
       "<IPython.core.display.Math object>"
      ]
     },
     "metadata": {},
     "output_type": "display_data"
    },
    {
     "name": "stdout",
     "output_type": "stream",
     "text": [
      "False\n"
     ]
    },
    {
     "data": {
      "text/latex": [
       "$\\displaystyle a x^{2} y z \\left(b + c + 1\\right)$"
      ],
      "text/plain": [
       "<IPython.core.display.Math object>"
      ]
     },
     "metadata": {},
     "output_type": "display_data"
    },
    {
     "name": "stdout",
     "output_type": "stream",
     "text": [
      "True\n"
     ]
    }
   ],
   "source": [
    "# UNIT TESTS\n",
    "x, y, z, a, b, c = symbols(\"x, y, z, a, b, c\")\n",
    "\n",
    "exprs = [\n",
    "    x, \n",
    "    y**2, \n",
    "    x**2 * y, \n",
    "    x**2 * (x + x), \n",
    "    2 * x**3 * y, \n",
    "    (x + 1) * y**2, \n",
    "    (x * y + y * z) * y**2, \n",
    "    x**2 * y * z * a * (b + c + 1)\n",
    "]\n",
    "for t in exprs:\n",
    "    display(Math(latex(t)))\n",
    "    print(is_normal_crossing(t))"
   ]
  },
  {
   "cell_type": "code",
   "execution_count": 10,
   "id": "29423dc8",
   "metadata": {
    "scrolled": false
   },
   "outputs": [
    {
     "name": "stdout",
     "output_type": "stream",
     "text": [
      "\n",
      "---------------\n",
      "Current expression: \n"
     ]
    },
    {
     "data": {
      "text/latex": [
       "$\\displaystyle a_{1} b_{1} + a_{2} b_{2} + a_{3} b_{3}$"
      ],
      "text/plain": [
       "<IPython.core.display.Math object>"
      ]
     },
     "metadata": {},
     "output_type": "display_data"
    },
    {
     "name": "stdout",
     "output_type": "stream",
     "text": [
      "Enter coordinate indices: 0 1 2 3 4 5\n",
      "Blowup coords: [0, 1, 2, 3, 4, 5]\n"
     ]
    },
    {
     "data": {
      "text/latex": [
       "$\\displaystyle \\left(b^{(6)}_{3}\\right)^{2} \\left(a^{(6)}_{1} b^{(6)}_{1} + a^{(6)}_{2} b^{(6)}_{2} + a^{(6)}_{3}\\right)$"
      ],
      "text/plain": [
       "<IPython.core.display.Math object>"
      ]
     },
     "metadata": {},
     "output_type": "display_data"
    },
    {
     "data": {
      "text/latex": [
       "$\\displaystyle \\left(a^{(5)}_{3}\\right)^{2} \\left(a^{(5)}_{1} b^{(5)}_{1} + a^{(5)}_{2} b^{(5)}_{2} + b^{(5)}_{3}\\right)$"
      ],
      "text/plain": [
       "<IPython.core.display.Math object>"
      ]
     },
     "metadata": {},
     "output_type": "display_data"
    },
    {
     "data": {
      "text/latex": [
       "$\\displaystyle \\left(b^{(4)}_{2}\\right)^{2} \\left(a^{(4)}_{1} b^{(4)}_{1} + a^{(4)}_{2} + a^{(4)}_{3} b^{(4)}_{3}\\right)$"
      ],
      "text/plain": [
       "<IPython.core.display.Math object>"
      ]
     },
     "metadata": {},
     "output_type": "display_data"
    },
    {
     "data": {
      "text/latex": [
       "$\\displaystyle \\left(a^{(3)}_{2}\\right)^{2} \\left(a^{(3)}_{1} b^{(3)}_{1} + a^{(3)}_{3} b^{(3)}_{3} + b^{(3)}_{2}\\right)$"
      ],
      "text/plain": [
       "<IPython.core.display.Math object>"
      ]
     },
     "metadata": {},
     "output_type": "display_data"
    },
    {
     "data": {
      "text/latex": [
       "$\\displaystyle \\left(b^{(2)}_{1}\\right)^{2} \\left(a^{(2)}_{1} + a^{(2)}_{2} b^{(2)}_{2} + a^{(2)}_{3} b^{(2)}_{3}\\right)$"
      ],
      "text/plain": [
       "<IPython.core.display.Math object>"
      ]
     },
     "metadata": {},
     "output_type": "display_data"
    },
    {
     "data": {
      "text/latex": [
       "$\\displaystyle \\left(a^{(1)}_{1}\\right)^{2} \\left(a^{(1)}_{2} b^{(1)}_{2} + a^{(1)}_{3} b^{(1)}_{3} + b^{(1)}_{1}\\right)$"
      ],
      "text/plain": [
       "<IPython.core.display.Math object>"
      ]
     },
     "metadata": {},
     "output_type": "display_data"
    },
    {
     "name": "stdout",
     "output_type": "stream",
     "text": [
      "\n",
      "---------------\n",
      "Current expression: \n"
     ]
    },
    {
     "data": {
      "text/latex": [
       "$\\displaystyle \\left(a^{(1)}_{1}\\right)^{2} \\left(a^{(1)}_{2} b^{(1)}_{2} + a^{(1)}_{3} b^{(1)}_{3} + b^{(1)}_{1}\\right)$"
      ],
      "text/plain": [
       "<IPython.core.display.Math object>"
      ]
     },
     "metadata": {},
     "output_type": "display_data"
    },
    {
     "name": "stdout",
     "output_type": "stream",
     "text": [
      "Enter coordinate indices: 1 2 4\n",
      "Blowup coords: [1, 2, 4]\n"
     ]
    },
    {
     "data": {
      "text/latex": [
       "$\\displaystyle \\left(a^{(13)}_{1}\\right)^{2} a^{(13)}_{3} \\left(a^{(13)}_{2} b^{(13)}_{2} + b^{(13)}_{1} + b^{(13)}_{3}\\right)$"
      ],
      "text/plain": [
       "<IPython.core.display.Math object>"
      ]
     },
     "metadata": {},
     "output_type": "display_data"
    },
    {
     "data": {
      "text/latex": [
       "$\\displaystyle \\left(a^{(12)}_{1}\\right)^{2} a^{(12)}_{2} \\left(a^{(12)}_{3} b^{(12)}_{3} + b^{(12)}_{1} + b^{(12)}_{2}\\right)$"
      ],
      "text/plain": [
       "<IPython.core.display.Math object>"
      ]
     },
     "metadata": {},
     "output_type": "display_data"
    },
    {
     "data": {
      "text/latex": [
       "$\\displaystyle \\left(a^{(11)}_{1}\\right)^{2} b^{(11)}_{1} \\left(a^{(11)}_{2} b^{(11)}_{2} + a^{(11)}_{3} b^{(11)}_{3} + 1\\right)$"
      ],
      "text/plain": [
       "<IPython.core.display.Math object>"
      ]
     },
     "metadata": {},
     "output_type": "display_data"
    },
    {
     "name": "stdout",
     "output_type": "stream",
     "text": [
      "\n",
      "---------------\n",
      "Current expression: \n"
     ]
    },
    {
     "data": {
      "text/latex": [
       "$\\displaystyle \\left(a^{(12)}_{1}\\right)^{2} a^{(12)}_{2} \\left(a^{(12)}_{3} b^{(12)}_{3} + b^{(12)}_{1} + b^{(12)}_{2}\\right)$"
      ],
      "text/plain": [
       "<IPython.core.display.Math object>"
      ]
     },
     "metadata": {},
     "output_type": "display_data"
    },
    {
     "name": "stdout",
     "output_type": "stream",
     "text": [
      "Enter coordinate indices: 1 3 4\n",
      "Blowup coords: [1, 3, 4]\n"
     ]
    },
    {
     "data": {
      "text/latex": [
       "$\\displaystyle \\left(a^{(123)}_{1}\\right)^{2} a^{(123)}_{2} a^{(123)}_{3} \\left(b^{(123)}_{1} + b^{(123)}_{2} + b^{(123)}_{3}\\right)$"
      ],
      "text/plain": [
       "<IPython.core.display.Math object>"
      ]
     },
     "metadata": {},
     "output_type": "display_data"
    },
    {
     "data": {
      "text/latex": [
       "$\\displaystyle \\left(a^{(122)}_{1}\\right)^{2} a^{(122)}_{2} b^{(122)}_{2} \\left(a^{(122)}_{3} b^{(122)}_{3} + b^{(122)}_{1} + 1\\right)$"
      ],
      "text/plain": [
       "<IPython.core.display.Math object>"
      ]
     },
     "metadata": {},
     "output_type": "display_data"
    },
    {
     "data": {
      "text/latex": [
       "$\\displaystyle \\left(a^{(121)}_{1}\\right)^{2} a^{(121)}_{2} b^{(121)}_{1} \\left(a^{(121)}_{3} b^{(121)}_{3} + b^{(121)}_{2} + 1\\right)$"
      ],
      "text/plain": [
       "<IPython.core.display.Math object>"
      ]
     },
     "metadata": {},
     "output_type": "display_data"
    },
    {
     "name": "stdout",
     "output_type": "stream",
     "text": [
      "\n",
      "---------------\n",
      "Current expression: \n"
     ]
    },
    {
     "data": {
      "text/latex": [
       "$\\displaystyle \\left(a^{(123)}_{1}\\right)^{2} a^{(123)}_{2} a^{(123)}_{3} \\left(b^{(123)}_{1} + b^{(123)}_{2} + b^{(123)}_{3}\\right)$"
      ],
      "text/plain": [
       "<IPython.core.display.Math object>"
      ]
     },
     "metadata": {},
     "output_type": "display_data"
    },
    {
     "name": "stdout",
     "output_type": "stream",
     "text": [
      "Enter coordinate indices: 1 3 5\n",
      "Blowup coords: [1, 3, 5]\n"
     ]
    },
    {
     "data": {
      "text/latex": [
       "$\\displaystyle \\left(a^{(1233)}_{1}\\right)^{2} a^{(1233)}_{2} a^{(1233)}_{3} b^{(1233)}_{3} \\left(b^{(1233)}_{1} + b^{(1233)}_{2} + 1\\right)$"
      ],
      "text/plain": [
       "<IPython.core.display.Math object>"
      ]
     },
     "metadata": {},
     "output_type": "display_data"
    },
    {
     "data": {
      "text/latex": [
       "$\\displaystyle \\left(a^{(1232)}_{1}\\right)^{2} a^{(1232)}_{2} a^{(1232)}_{3} b^{(1232)}_{2} \\left(b^{(1232)}_{1} + b^{(1232)}_{3} + 1\\right)$"
      ],
      "text/plain": [
       "<IPython.core.display.Math object>"
      ]
     },
     "metadata": {},
     "output_type": "display_data"
    },
    {
     "data": {
      "text/latex": [
       "$\\displaystyle \\left(a^{(1231)}_{1}\\right)^{2} a^{(1231)}_{2} a^{(1231)}_{3} b^{(1231)}_{1} \\left(b^{(1231)}_{2} + b^{(1231)}_{3} + 1\\right)$"
      ],
      "text/plain": [
       "<IPython.core.display.Math object>"
      ]
     },
     "metadata": {},
     "output_type": "display_data"
    },
    {
     "name": "stdout",
     "output_type": "stream",
     "text": [
      "\n",
      "---------------\n",
      "Current expression: \n"
     ]
    },
    {
     "data": {
      "text/latex": [
       "$\\displaystyle \\left(a^{(13)}_{1}\\right)^{2} a^{(13)}_{3} \\left(a^{(13)}_{2} b^{(13)}_{2} + b^{(13)}_{1} + b^{(13)}_{3}\\right)$"
      ],
      "text/plain": [
       "<IPython.core.display.Math object>"
      ]
     },
     "metadata": {},
     "output_type": "display_data"
    },
    {
     "name": "stdout",
     "output_type": "stream",
     "text": [
      "Enter coordinate indices: 1 2 5\n",
      "Blowup coords: [1, 2, 5]\n"
     ]
    },
    {
     "data": {
      "text/latex": [
       "$\\displaystyle \\left(a^{(133)}_{1}\\right)^{2} a^{(133)}_{3} b^{(133)}_{3} \\left(a^{(133)}_{2} b^{(133)}_{2} + b^{(133)}_{1} + 1\\right)$"
      ],
      "text/plain": [
       "<IPython.core.display.Math object>"
      ]
     },
     "metadata": {},
     "output_type": "display_data"
    },
    {
     "data": {
      "text/latex": [
       "$\\displaystyle \\left(a^{(132)}_{1}\\right)^{2} a^{(132)}_{2} a^{(132)}_{3} \\left(b^{(132)}_{1} + b^{(132)}_{2} + b^{(132)}_{3}\\right)$"
      ],
      "text/plain": [
       "<IPython.core.display.Math object>"
      ]
     },
     "metadata": {},
     "output_type": "display_data"
    },
    {
     "data": {
      "text/latex": [
       "$\\displaystyle \\left(a^{(131)}_{1}\\right)^{2} a^{(131)}_{3} b^{(131)}_{1} \\left(a^{(131)}_{2} b^{(131)}_{2} + b^{(131)}_{3} + 1\\right)$"
      ],
      "text/plain": [
       "<IPython.core.display.Math object>"
      ]
     },
     "metadata": {},
     "output_type": "display_data"
    },
    {
     "name": "stdout",
     "output_type": "stream",
     "text": [
      "\n",
      "---------------\n",
      "Current expression: \n"
     ]
    },
    {
     "data": {
      "text/latex": [
       "$\\displaystyle \\left(a^{(132)}_{1}\\right)^{2} a^{(132)}_{2} a^{(132)}_{3} \\left(b^{(132)}_{1} + b^{(132)}_{2} + b^{(132)}_{3}\\right)$"
      ],
      "text/plain": [
       "<IPython.core.display.Math object>"
      ]
     },
     "metadata": {},
     "output_type": "display_data"
    },
    {
     "name": "stdout",
     "output_type": "stream",
     "text": [
      "Enter coordinate indices: 1 3 5\n",
      "Blowup coords: [1, 3, 5]\n"
     ]
    },
    {
     "data": {
      "text/latex": [
       "$\\displaystyle \\left(a^{(1323)}_{1}\\right)^{2} a^{(1323)}_{2} a^{(1323)}_{3} b^{(1323)}_{3} \\left(b^{(1323)}_{1} + b^{(1323)}_{2} + 1\\right)$"
      ],
      "text/plain": [
       "<IPython.core.display.Math object>"
      ]
     },
     "metadata": {},
     "output_type": "display_data"
    },
    {
     "data": {
      "text/latex": [
       "$\\displaystyle \\left(a^{(1322)}_{1}\\right)^{2} a^{(1322)}_{2} a^{(1322)}_{3} b^{(1322)}_{2} \\left(b^{(1322)}_{1} + b^{(1322)}_{3} + 1\\right)$"
      ],
      "text/plain": [
       "<IPython.core.display.Math object>"
      ]
     },
     "metadata": {},
     "output_type": "display_data"
    },
    {
     "data": {
      "text/latex": [
       "$\\displaystyle \\left(a^{(1321)}_{1}\\right)^{2} a^{(1321)}_{2} a^{(1321)}_{3} b^{(1321)}_{1} \\left(b^{(1321)}_{2} + b^{(1321)}_{3} + 1\\right)$"
      ],
      "text/plain": [
       "<IPython.core.display.Math object>"
      ]
     },
     "metadata": {},
     "output_type": "display_data"
    },
    {
     "name": "stdout",
     "output_type": "stream",
     "text": [
      "\n",
      "---------------\n",
      "Current expression: \n"
     ]
    },
    {
     "data": {
      "text/latex": [
       "$\\displaystyle \\left(b^{(2)}_{1}\\right)^{2} \\left(a^{(2)}_{1} + a^{(2)}_{2} b^{(2)}_{2} + a^{(2)}_{3} b^{(2)}_{3}\\right)$"
      ],
      "text/plain": [
       "<IPython.core.display.Math object>"
      ]
     },
     "metadata": {},
     "output_type": "display_data"
    },
    {
     "name": "stdout",
     "output_type": "stream",
     "text": [
      "Enter coordinate indices: 0 2 4\n",
      "Blowup coords: [0, 2, 4]\n"
     ]
    },
    {
     "data": {
      "text/latex": [
       "$\\displaystyle a^{(23)}_{3} \\left(b^{(23)}_{1}\\right)^{2} \\left(a^{(23)}_{1} + a^{(23)}_{2} b^{(23)}_{2} + b^{(23)}_{3}\\right)$"
      ],
      "text/plain": [
       "<IPython.core.display.Math object>"
      ]
     },
     "metadata": {},
     "output_type": "display_data"
    },
    {
     "data": {
      "text/latex": [
       "$\\displaystyle a^{(22)}_{2} \\left(b^{(22)}_{1}\\right)^{2} \\left(a^{(22)}_{1} + a^{(22)}_{3} b^{(22)}_{3} + b^{(22)}_{2}\\right)$"
      ],
      "text/plain": [
       "<IPython.core.display.Math object>"
      ]
     },
     "metadata": {},
     "output_type": "display_data"
    },
    {
     "data": {
      "text/latex": [
       "$\\displaystyle a^{(21)}_{1} \\left(b^{(21)}_{1}\\right)^{2} \\left(a^{(21)}_{2} b^{(21)}_{2} + a^{(21)}_{3} b^{(21)}_{3} + 1\\right)$"
      ],
      "text/plain": [
       "<IPython.core.display.Math object>"
      ]
     },
     "metadata": {},
     "output_type": "display_data"
    },
    {
     "name": "stdout",
     "output_type": "stream",
     "text": [
      "\n",
      "---------------\n",
      "Current expression: \n"
     ]
    },
    {
     "data": {
      "text/latex": [
       "$\\displaystyle a^{(22)}_{2} \\left(b^{(22)}_{1}\\right)^{2} \\left(a^{(22)}_{1} + a^{(22)}_{3} b^{(22)}_{3} + b^{(22)}_{2}\\right)$"
      ],
      "text/plain": [
       "<IPython.core.display.Math object>"
      ]
     },
     "metadata": {},
     "output_type": "display_data"
    },
    {
     "name": "stdout",
     "output_type": "stream",
     "text": [
      "Enter coordinate indices: 0 3 4\n",
      "Blowup coords: [0, 3, 4]\n"
     ]
    },
    {
     "data": {
      "text/latex": [
       "$\\displaystyle a^{(223)}_{2} a^{(223)}_{3} \\left(b^{(223)}_{1}\\right)^{2} \\left(a^{(223)}_{1} + b^{(223)}_{2} + b^{(223)}_{3}\\right)$"
      ],
      "text/plain": [
       "<IPython.core.display.Math object>"
      ]
     },
     "metadata": {},
     "output_type": "display_data"
    },
    {
     "data": {
      "text/latex": [
       "$\\displaystyle a^{(222)}_{2} \\left(b^{(222)}_{1}\\right)^{2} b^{(222)}_{2} \\left(a^{(222)}_{1} + a^{(222)}_{3} b^{(222)}_{3} + 1\\right)$"
      ],
      "text/plain": [
       "<IPython.core.display.Math object>"
      ]
     },
     "metadata": {},
     "output_type": "display_data"
    },
    {
     "data": {
      "text/latex": [
       "$\\displaystyle a^{(221)}_{1} a^{(221)}_{2} \\left(b^{(221)}_{1}\\right)^{2} \\left(a^{(221)}_{3} b^{(221)}_{3} + b^{(221)}_{2} + 1\\right)$"
      ],
      "text/plain": [
       "<IPython.core.display.Math object>"
      ]
     },
     "metadata": {},
     "output_type": "display_data"
    },
    {
     "name": "stdout",
     "output_type": "stream",
     "text": [
      "\n",
      "---------------\n",
      "Current expression: \n"
     ]
    },
    {
     "data": {
      "text/latex": [
       "$\\displaystyle a^{(223)}_{2} a^{(223)}_{3} \\left(b^{(223)}_{1}\\right)^{2} \\left(a^{(223)}_{1} + b^{(223)}_{2} + b^{(223)}_{3}\\right)$"
      ],
      "text/plain": [
       "<IPython.core.display.Math object>"
      ]
     },
     "metadata": {},
     "output_type": "display_data"
    },
    {
     "name": "stdout",
     "output_type": "stream",
     "text": [
      "Enter coordinate indices: 0 3 5\n",
      "Blowup coords: [0, 3, 5]\n"
     ]
    },
    {
     "data": {
      "text/latex": [
       "$\\displaystyle a^{(2233)}_{2} a^{(2233)}_{3} \\left(b^{(2233)}_{1}\\right)^{2} b^{(2233)}_{3} \\left(a^{(2233)}_{1} + b^{(2233)}_{2} + 1\\right)$"
      ],
      "text/plain": [
       "<IPython.core.display.Math object>"
      ]
     },
     "metadata": {},
     "output_type": "display_data"
    },
    {
     "data": {
      "text/latex": [
       "$\\displaystyle a^{(2232)}_{2} a^{(2232)}_{3} \\left(b^{(2232)}_{1}\\right)^{2} b^{(2232)}_{2} \\left(a^{(2232)}_{1} + b^{(2232)}_{3} + 1\\right)$"
      ],
      "text/plain": [
       "<IPython.core.display.Math object>"
      ]
     },
     "metadata": {},
     "output_type": "display_data"
    },
    {
     "data": {
      "text/latex": [
       "$\\displaystyle a^{(2231)}_{1} a^{(2231)}_{2} a^{(2231)}_{3} \\left(b^{(2231)}_{1}\\right)^{2} \\left(b^{(2231)}_{2} + b^{(2231)}_{3} + 1\\right)$"
      ],
      "text/plain": [
       "<IPython.core.display.Math object>"
      ]
     },
     "metadata": {},
     "output_type": "display_data"
    },
    {
     "name": "stdout",
     "output_type": "stream",
     "text": [
      "\n",
      "---------------\n",
      "Current expression: \n"
     ]
    },
    {
     "data": {
      "text/latex": [
       "$\\displaystyle a^{(23)}_{3} \\left(b^{(23)}_{1}\\right)^{2} \\left(a^{(23)}_{1} + a^{(23)}_{2} b^{(23)}_{2} + b^{(23)}_{3}\\right)$"
      ],
      "text/plain": [
       "<IPython.core.display.Math object>"
      ]
     },
     "metadata": {},
     "output_type": "display_data"
    },
    {
     "name": "stdout",
     "output_type": "stream",
     "text": [
      "Enter coordinate indices: 0 2 5\n",
      "Blowup coords: [0, 2, 5]\n"
     ]
    },
    {
     "data": {
      "text/latex": [
       "$\\displaystyle a^{(233)}_{3} \\left(b^{(233)}_{1}\\right)^{2} b^{(233)}_{3} \\left(a^{(233)}_{1} + a^{(233)}_{2} b^{(233)}_{2} + 1\\right)$"
      ],
      "text/plain": [
       "<IPython.core.display.Math object>"
      ]
     },
     "metadata": {},
     "output_type": "display_data"
    },
    {
     "data": {
      "text/latex": [
       "$\\displaystyle a^{(232)}_{2} a^{(232)}_{3} \\left(b^{(232)}_{1}\\right)^{2} \\left(a^{(232)}_{1} + b^{(232)}_{2} + b^{(232)}_{3}\\right)$"
      ],
      "text/plain": [
       "<IPython.core.display.Math object>"
      ]
     },
     "metadata": {},
     "output_type": "display_data"
    },
    {
     "data": {
      "text/latex": [
       "$\\displaystyle a^{(231)}_{1} a^{(231)}_{3} \\left(b^{(231)}_{1}\\right)^{2} \\left(a^{(231)}_{2} b^{(231)}_{2} + b^{(231)}_{3} + 1\\right)$"
      ],
      "text/plain": [
       "<IPython.core.display.Math object>"
      ]
     },
     "metadata": {},
     "output_type": "display_data"
    },
    {
     "name": "stdout",
     "output_type": "stream",
     "text": [
      "\n",
      "---------------\n",
      "Current expression: \n"
     ]
    },
    {
     "data": {
      "text/latex": [
       "$\\displaystyle a^{(232)}_{2} a^{(232)}_{3} \\left(b^{(232)}_{1}\\right)^{2} \\left(a^{(232)}_{1} + b^{(232)}_{2} + b^{(232)}_{3}\\right)$"
      ],
      "text/plain": [
       "<IPython.core.display.Math object>"
      ]
     },
     "metadata": {},
     "output_type": "display_data"
    },
    {
     "name": "stdout",
     "output_type": "stream",
     "text": [
      "Enter coordinate indices: 0 3 5\n",
      "Blowup coords: [0, 3, 5]\n"
     ]
    },
    {
     "data": {
      "text/latex": [
       "$\\displaystyle a^{(2323)}_{2} a^{(2323)}_{3} \\left(b^{(2323)}_{1}\\right)^{2} b^{(2323)}_{3} \\left(a^{(2323)}_{1} + b^{(2323)}_{2} + 1\\right)$"
      ],
      "text/plain": [
       "<IPython.core.display.Math object>"
      ]
     },
     "metadata": {},
     "output_type": "display_data"
    },
    {
     "data": {
      "text/latex": [
       "$\\displaystyle a^{(2322)}_{2} a^{(2322)}_{3} \\left(b^{(2322)}_{1}\\right)^{2} b^{(2322)}_{2} \\left(a^{(2322)}_{1} + b^{(2322)}_{3} + 1\\right)$"
      ],
      "text/plain": [
       "<IPython.core.display.Math object>"
      ]
     },
     "metadata": {},
     "output_type": "display_data"
    },
    {
     "data": {
      "text/latex": [
       "$\\displaystyle a^{(2321)}_{1} a^{(2321)}_{2} a^{(2321)}_{3} \\left(b^{(2321)}_{1}\\right)^{2} \\left(b^{(2321)}_{2} + b^{(2321)}_{3} + 1\\right)$"
      ],
      "text/plain": [
       "<IPython.core.display.Math object>"
      ]
     },
     "metadata": {},
     "output_type": "display_data"
    },
    {
     "name": "stdout",
     "output_type": "stream",
     "text": [
      "\n",
      "---------------\n",
      "Current expression: \n"
     ]
    },
    {
     "data": {
      "text/latex": [
       "$\\displaystyle \\left(a^{(3)}_{2}\\right)^{2} \\left(a^{(3)}_{1} b^{(3)}_{1} + a^{(3)}_{3} b^{(3)}_{3} + b^{(3)}_{2}\\right)$"
      ],
      "text/plain": [
       "<IPython.core.display.Math object>"
      ]
     },
     "metadata": {},
     "output_type": "display_data"
    },
    {
     "name": "stdout",
     "output_type": "stream",
     "text": [
      "Enter coordinate indices: 0 3 4\n",
      "Blowup coords: [0, 3, 4]\n"
     ]
    },
    {
     "data": {
      "text/latex": [
       "$\\displaystyle \\left(a^{(33)}_{2}\\right)^{2} a^{(33)}_{3} \\left(a^{(33)}_{1} b^{(33)}_{1} + b^{(33)}_{2} + b^{(33)}_{3}\\right)$"
      ],
      "text/plain": [
       "<IPython.core.display.Math object>"
      ]
     },
     "metadata": {},
     "output_type": "display_data"
    },
    {
     "data": {
      "text/latex": [
       "$\\displaystyle \\left(a^{(32)}_{2}\\right)^{2} b^{(32)}_{2} \\left(a^{(32)}_{1} b^{(32)}_{1} + a^{(32)}_{3} b^{(32)}_{3} + 1\\right)$"
      ],
      "text/plain": [
       "<IPython.core.display.Math object>"
      ]
     },
     "metadata": {},
     "output_type": "display_data"
    },
    {
     "data": {
      "text/latex": [
       "$\\displaystyle a^{(31)}_{1} \\left(a^{(31)}_{2}\\right)^{2} \\left(a^{(31)}_{3} b^{(31)}_{3} + b^{(31)}_{1} + b^{(31)}_{2}\\right)$"
      ],
      "text/plain": [
       "<IPython.core.display.Math object>"
      ]
     },
     "metadata": {},
     "output_type": "display_data"
    },
    {
     "name": "stdout",
     "output_type": "stream",
     "text": [
      "\n",
      "---------------\n",
      "Current expression: \n"
     ]
    },
    {
     "data": {
      "text/latex": [
       "$\\displaystyle a^{(31)}_{1} \\left(a^{(31)}_{2}\\right)^{2} \\left(a^{(31)}_{3} b^{(31)}_{3} + b^{(31)}_{1} + b^{(31)}_{2}\\right)$"
      ],
      "text/plain": [
       "<IPython.core.display.Math object>"
      ]
     },
     "metadata": {},
     "output_type": "display_data"
    },
    {
     "name": "stdout",
     "output_type": "stream",
     "text": [
      "Enter coordinate indices: 1 3 4\n",
      "Blowup coords: [1, 3, 4]\n"
     ]
    },
    {
     "data": {
      "text/latex": [
       "$\\displaystyle a^{(313)}_{1} \\left(a^{(313)}_{2}\\right)^{2} a^{(313)}_{3} \\left(b^{(313)}_{1} + b^{(313)}_{2} + b^{(313)}_{3}\\right)$"
      ],
      "text/plain": [
       "<IPython.core.display.Math object>"
      ]
     },
     "metadata": {},
     "output_type": "display_data"
    },
    {
     "data": {
      "text/latex": [
       "$\\displaystyle a^{(312)}_{1} \\left(a^{(312)}_{2}\\right)^{2} b^{(312)}_{2} \\left(a^{(312)}_{3} b^{(312)}_{3} + b^{(312)}_{1} + 1\\right)$"
      ],
      "text/plain": [
       "<IPython.core.display.Math object>"
      ]
     },
     "metadata": {},
     "output_type": "display_data"
    },
    {
     "data": {
      "text/latex": [
       "$\\displaystyle a^{(311)}_{1} \\left(a^{(311)}_{2}\\right)^{2} b^{(311)}_{1} \\left(a^{(311)}_{3} b^{(311)}_{3} + b^{(311)}_{2} + 1\\right)$"
      ],
      "text/plain": [
       "<IPython.core.display.Math object>"
      ]
     },
     "metadata": {},
     "output_type": "display_data"
    },
    {
     "name": "stdout",
     "output_type": "stream",
     "text": [
      "\n",
      "---------------\n",
      "Current expression: \n"
     ]
    },
    {
     "data": {
      "text/latex": [
       "$\\displaystyle a^{(313)}_{1} \\left(a^{(313)}_{2}\\right)^{2} a^{(313)}_{3} \\left(b^{(313)}_{1} + b^{(313)}_{2} + b^{(313)}_{3}\\right)$"
      ],
      "text/plain": [
       "<IPython.core.display.Math object>"
      ]
     },
     "metadata": {},
     "output_type": "display_data"
    },
    {
     "name": "stdout",
     "output_type": "stream",
     "text": [
      "Enter coordinate indices: 1 3 5\n",
      "Blowup coords: [1, 3, 5]\n"
     ]
    },
    {
     "data": {
      "text/latex": [
       "$\\displaystyle a^{(3133)}_{1} \\left(a^{(3133)}_{2}\\right)^{2} a^{(3133)}_{3} b^{(3133)}_{3} \\left(b^{(3133)}_{1} + b^{(3133)}_{2} + 1\\right)$"
      ],
      "text/plain": [
       "<IPython.core.display.Math object>"
      ]
     },
     "metadata": {},
     "output_type": "display_data"
    },
    {
     "data": {
      "text/latex": [
       "$\\displaystyle a^{(3132)}_{1} \\left(a^{(3132)}_{2}\\right)^{2} a^{(3132)}_{3} b^{(3132)}_{2} \\left(b^{(3132)}_{1} + b^{(3132)}_{3} + 1\\right)$"
      ],
      "text/plain": [
       "<IPython.core.display.Math object>"
      ]
     },
     "metadata": {},
     "output_type": "display_data"
    },
    {
     "data": {
      "text/latex": [
       "$\\displaystyle a^{(3131)}_{1} \\left(a^{(3131)}_{2}\\right)^{2} a^{(3131)}_{3} b^{(3131)}_{1} \\left(b^{(3131)}_{2} + b^{(3131)}_{3} + 1\\right)$"
      ],
      "text/plain": [
       "<IPython.core.display.Math object>"
      ]
     },
     "metadata": {},
     "output_type": "display_data"
    },
    {
     "name": "stdout",
     "output_type": "stream",
     "text": [
      "\n",
      "---------------\n",
      "Current expression: \n"
     ]
    },
    {
     "data": {
      "text/latex": [
       "$\\displaystyle \\left(a^{(33)}_{2}\\right)^{2} a^{(33)}_{3} \\left(a^{(33)}_{1} b^{(33)}_{1} + b^{(33)}_{2} + b^{(33)}_{3}\\right)$"
      ],
      "text/plain": [
       "<IPython.core.display.Math object>"
      ]
     },
     "metadata": {},
     "output_type": "display_data"
    },
    {
     "name": "stdout",
     "output_type": "stream",
     "text": [
      "Enter coordinate indices: 0 3 5\n",
      "Blowup coords: [0, 3, 5]\n"
     ]
    },
    {
     "data": {
      "text/latex": [
       "$\\displaystyle \\left(a^{(333)}_{2}\\right)^{2} a^{(333)}_{3} b^{(333)}_{3} \\left(a^{(333)}_{1} b^{(333)}_{1} + b^{(333)}_{2} + 1\\right)$"
      ],
      "text/plain": [
       "<IPython.core.display.Math object>"
      ]
     },
     "metadata": {},
     "output_type": "display_data"
    },
    {
     "data": {
      "text/latex": [
       "$\\displaystyle \\left(a^{(332)}_{2}\\right)^{2} a^{(332)}_{3} b^{(332)}_{2} \\left(a^{(332)}_{1} b^{(332)}_{1} + b^{(332)}_{3} + 1\\right)$"
      ],
      "text/plain": [
       "<IPython.core.display.Math object>"
      ]
     },
     "metadata": {},
     "output_type": "display_data"
    },
    {
     "data": {
      "text/latex": [
       "$\\displaystyle a^{(331)}_{1} \\left(a^{(331)}_{2}\\right)^{2} a^{(331)}_{3} \\left(b^{(331)}_{1} + b^{(331)}_{2} + b^{(331)}_{3}\\right)$"
      ],
      "text/plain": [
       "<IPython.core.display.Math object>"
      ]
     },
     "metadata": {},
     "output_type": "display_data"
    },
    {
     "name": "stdout",
     "output_type": "stream",
     "text": [
      "\n",
      "---------------\n",
      "Current expression: \n"
     ]
    },
    {
     "data": {
      "text/latex": [
       "$\\displaystyle a^{(331)}_{1} \\left(a^{(331)}_{2}\\right)^{2} a^{(331)}_{3} \\left(b^{(331)}_{1} + b^{(331)}_{2} + b^{(331)}_{3}\\right)$"
      ],
      "text/plain": [
       "<IPython.core.display.Math object>"
      ]
     },
     "metadata": {},
     "output_type": "display_data"
    },
    {
     "name": "stdout",
     "output_type": "stream",
     "text": [
      "Enter coordinate indices: 1 3 5\n",
      "Blowup coords: [1, 3, 5]\n"
     ]
    },
    {
     "data": {
      "text/latex": [
       "$\\displaystyle a^{(3313)}_{1} \\left(a^{(3313)}_{2}\\right)^{2} a^{(3313)}_{3} b^{(3313)}_{3} \\left(b^{(3313)}_{1} + b^{(3313)}_{2} + 1\\right)$"
      ],
      "text/plain": [
       "<IPython.core.display.Math object>"
      ]
     },
     "metadata": {},
     "output_type": "display_data"
    },
    {
     "data": {
      "text/latex": [
       "$\\displaystyle a^{(3312)}_{1} \\left(a^{(3312)}_{2}\\right)^{2} a^{(3312)}_{3} b^{(3312)}_{2} \\left(b^{(3312)}_{1} + b^{(3312)}_{3} + 1\\right)$"
      ],
      "text/plain": [
       "<IPython.core.display.Math object>"
      ]
     },
     "metadata": {},
     "output_type": "display_data"
    },
    {
     "data": {
      "text/latex": [
       "$\\displaystyle a^{(3311)}_{1} \\left(a^{(3311)}_{2}\\right)^{2} a^{(3311)}_{3} b^{(3311)}_{1} \\left(b^{(3311)}_{2} + b^{(3311)}_{3} + 1\\right)$"
      ],
      "text/plain": [
       "<IPython.core.display.Math object>"
      ]
     },
     "metadata": {},
     "output_type": "display_data"
    },
    {
     "name": "stdout",
     "output_type": "stream",
     "text": [
      "\n",
      "---------------\n",
      "Current expression: \n"
     ]
    },
    {
     "data": {
      "text/latex": [
       "$\\displaystyle \\left(b^{(4)}_{2}\\right)^{2} \\left(a^{(4)}_{1} b^{(4)}_{1} + a^{(4)}_{2} + a^{(4)}_{3} b^{(4)}_{3}\\right)$"
      ],
      "text/plain": [
       "<IPython.core.display.Math object>"
      ]
     },
     "metadata": {},
     "output_type": "display_data"
    },
    {
     "name": "stdout",
     "output_type": "stream",
     "text": [
      "Enter coordinate indices: 0 2 4\n",
      "Blowup coords: [0, 2, 4]\n"
     ]
    },
    {
     "data": {
      "text/latex": [
       "$\\displaystyle a^{(43)}_{3} \\left(b^{(43)}_{2}\\right)^{2} \\left(a^{(43)}_{1} b^{(43)}_{1} + a^{(43)}_{2} + b^{(43)}_{3}\\right)$"
      ],
      "text/plain": [
       "<IPython.core.display.Math object>"
      ]
     },
     "metadata": {},
     "output_type": "display_data"
    },
    {
     "data": {
      "text/latex": [
       "$\\displaystyle a^{(42)}_{2} \\left(b^{(42)}_{2}\\right)^{2} \\left(a^{(42)}_{1} b^{(42)}_{1} + a^{(42)}_{3} b^{(42)}_{3} + 1\\right)$"
      ],
      "text/plain": [
       "<IPython.core.display.Math object>"
      ]
     },
     "metadata": {},
     "output_type": "display_data"
    },
    {
     "data": {
      "text/latex": [
       "$\\displaystyle a^{(41)}_{1} \\left(b^{(41)}_{2}\\right)^{2} \\left(a^{(41)}_{2} + a^{(41)}_{3} b^{(41)}_{3} + b^{(41)}_{1}\\right)$"
      ],
      "text/plain": [
       "<IPython.core.display.Math object>"
      ]
     },
     "metadata": {},
     "output_type": "display_data"
    },
    {
     "name": "stdout",
     "output_type": "stream",
     "text": [
      "\n",
      "---------------\n",
      "Current expression: \n"
     ]
    },
    {
     "data": {
      "text/latex": [
       "$\\displaystyle a^{(41)}_{1} \\left(b^{(41)}_{2}\\right)^{2} \\left(a^{(41)}_{2} + a^{(41)}_{3} b^{(41)}_{3} + b^{(41)}_{1}\\right)$"
      ],
      "text/plain": [
       "<IPython.core.display.Math object>"
      ]
     },
     "metadata": {},
     "output_type": "display_data"
    },
    {
     "name": "stdout",
     "output_type": "stream",
     "text": [
      "Enter coordinate indices: 1 2 4\n",
      "Blowup coords: [1, 2, 4]\n"
     ]
    },
    {
     "data": {
      "text/latex": [
       "$\\displaystyle a^{(413)}_{1} a^{(413)}_{3} \\left(b^{(413)}_{2}\\right)^{2} \\left(a^{(413)}_{2} + b^{(413)}_{1} + b^{(413)}_{3}\\right)$"
      ],
      "text/plain": [
       "<IPython.core.display.Math object>"
      ]
     },
     "metadata": {},
     "output_type": "display_data"
    },
    {
     "data": {
      "text/latex": [
       "$\\displaystyle a^{(412)}_{1} a^{(412)}_{2} \\left(b^{(412)}_{2}\\right)^{2} \\left(a^{(412)}_{3} b^{(412)}_{3} + b^{(412)}_{1} + 1\\right)$"
      ],
      "text/plain": [
       "<IPython.core.display.Math object>"
      ]
     },
     "metadata": {},
     "output_type": "display_data"
    },
    {
     "data": {
      "text/latex": [
       "$\\displaystyle a^{(411)}_{1} b^{(411)}_{1} \\left(b^{(411)}_{2}\\right)^{2} \\left(a^{(411)}_{2} + a^{(411)}_{3} b^{(411)}_{3} + 1\\right)$"
      ],
      "text/plain": [
       "<IPython.core.display.Math object>"
      ]
     },
     "metadata": {},
     "output_type": "display_data"
    },
    {
     "name": "stdout",
     "output_type": "stream",
     "text": [
      "\n",
      "---------------\n",
      "Current expression: \n"
     ]
    },
    {
     "data": {
      "text/latex": [
       "$\\displaystyle a^{(413)}_{1} a^{(413)}_{3} \\left(b^{(413)}_{2}\\right)^{2} \\left(a^{(413)}_{2} + b^{(413)}_{1} + b^{(413)}_{3}\\right)$"
      ],
      "text/plain": [
       "<IPython.core.display.Math object>"
      ]
     },
     "metadata": {},
     "output_type": "display_data"
    },
    {
     "name": "stdout",
     "output_type": "stream",
     "text": [
      "Enter coordinate indices: 1 2 5\n",
      "Blowup coords: [1, 2, 5]\n"
     ]
    },
    {
     "data": {
      "text/latex": [
       "$\\displaystyle a^{(4133)}_{1} a^{(4133)}_{3} \\left(b^{(4133)}_{2}\\right)^{2} b^{(4133)}_{3} \\left(a^{(4133)}_{2} + b^{(4133)}_{1} + 1\\right)$"
      ],
      "text/plain": [
       "<IPython.core.display.Math object>"
      ]
     },
     "metadata": {},
     "output_type": "display_data"
    },
    {
     "data": {
      "text/latex": [
       "$\\displaystyle a^{(4132)}_{1} a^{(4132)}_{2} a^{(4132)}_{3} \\left(b^{(4132)}_{2}\\right)^{2} \\left(b^{(4132)}_{1} + b^{(4132)}_{3} + 1\\right)$"
      ],
      "text/plain": [
       "<IPython.core.display.Math object>"
      ]
     },
     "metadata": {},
     "output_type": "display_data"
    },
    {
     "data": {
      "text/latex": [
       "$\\displaystyle a^{(4131)}_{1} a^{(4131)}_{3} b^{(4131)}_{1} \\left(b^{(4131)}_{2}\\right)^{2} \\left(a^{(4131)}_{2} + b^{(4131)}_{3} + 1\\right)$"
      ],
      "text/plain": [
       "<IPython.core.display.Math object>"
      ]
     },
     "metadata": {},
     "output_type": "display_data"
    },
    {
     "name": "stdout",
     "output_type": "stream",
     "text": [
      "\n",
      "---------------\n",
      "Current expression: \n"
     ]
    },
    {
     "data": {
      "text/latex": [
       "$\\displaystyle a^{(43)}_{3} \\left(b^{(43)}_{2}\\right)^{2} \\left(a^{(43)}_{1} b^{(43)}_{1} + a^{(43)}_{2} + b^{(43)}_{3}\\right)$"
      ],
      "text/plain": [
       "<IPython.core.display.Math object>"
      ]
     },
     "metadata": {},
     "output_type": "display_data"
    },
    {
     "name": "stdout",
     "output_type": "stream",
     "text": [
      "Enter coordinate indices: 0 2 5\n",
      "Blowup coords: [0, 2, 5]\n"
     ]
    },
    {
     "data": {
      "text/latex": [
       "$\\displaystyle a^{(433)}_{3} \\left(b^{(433)}_{2}\\right)^{2} b^{(433)}_{3} \\left(a^{(433)}_{1} b^{(433)}_{1} + a^{(433)}_{2} + 1\\right)$"
      ],
      "text/plain": [
       "<IPython.core.display.Math object>"
      ]
     },
     "metadata": {},
     "output_type": "display_data"
    },
    {
     "data": {
      "text/latex": [
       "$\\displaystyle a^{(432)}_{2} a^{(432)}_{3} \\left(b^{(432)}_{2}\\right)^{2} \\left(a^{(432)}_{1} b^{(432)}_{1} + b^{(432)}_{3} + 1\\right)$"
      ],
      "text/plain": [
       "<IPython.core.display.Math object>"
      ]
     },
     "metadata": {},
     "output_type": "display_data"
    },
    {
     "data": {
      "text/latex": [
       "$\\displaystyle a^{(431)}_{1} a^{(431)}_{3} \\left(b^{(431)}_{2}\\right)^{2} \\left(a^{(431)}_{2} + b^{(431)}_{1} + b^{(431)}_{3}\\right)$"
      ],
      "text/plain": [
       "<IPython.core.display.Math object>"
      ]
     },
     "metadata": {},
     "output_type": "display_data"
    },
    {
     "name": "stdout",
     "output_type": "stream",
     "text": [
      "\n",
      "---------------\n",
      "Current expression: \n"
     ]
    },
    {
     "data": {
      "text/latex": [
       "$\\displaystyle a^{(431)}_{1} a^{(431)}_{3} \\left(b^{(431)}_{2}\\right)^{2} \\left(a^{(431)}_{2} + b^{(431)}_{1} + b^{(431)}_{3}\\right)$"
      ],
      "text/plain": [
       "<IPython.core.display.Math object>"
      ]
     },
     "metadata": {},
     "output_type": "display_data"
    },
    {
     "name": "stdout",
     "output_type": "stream",
     "text": [
      "Enter coordinate indices: 1 2 5\n",
      "Blowup coords: [1, 2, 5]\n"
     ]
    },
    {
     "data": {
      "text/latex": [
       "$\\displaystyle a^{(4313)}_{1} a^{(4313)}_{3} \\left(b^{(4313)}_{2}\\right)^{2} b^{(4313)}_{3} \\left(a^{(4313)}_{2} + b^{(4313)}_{1} + 1\\right)$"
      ],
      "text/plain": [
       "<IPython.core.display.Math object>"
      ]
     },
     "metadata": {},
     "output_type": "display_data"
    },
    {
     "data": {
      "text/latex": [
       "$\\displaystyle a^{(4312)}_{1} a^{(4312)}_{2} a^{(4312)}_{3} \\left(b^{(4312)}_{2}\\right)^{2} \\left(b^{(4312)}_{1} + b^{(4312)}_{3} + 1\\right)$"
      ],
      "text/plain": [
       "<IPython.core.display.Math object>"
      ]
     },
     "metadata": {},
     "output_type": "display_data"
    },
    {
     "data": {
      "text/latex": [
       "$\\displaystyle a^{(4311)}_{1} a^{(4311)}_{3} b^{(4311)}_{1} \\left(b^{(4311)}_{2}\\right)^{2} \\left(a^{(4311)}_{2} + b^{(4311)}_{3} + 1\\right)$"
      ],
      "text/plain": [
       "<IPython.core.display.Math object>"
      ]
     },
     "metadata": {},
     "output_type": "display_data"
    },
    {
     "name": "stdout",
     "output_type": "stream",
     "text": [
      "\n",
      "---------------\n",
      "Current expression: \n"
     ]
    },
    {
     "data": {
      "text/latex": [
       "$\\displaystyle \\left(a^{(5)}_{3}\\right)^{2} \\left(a^{(5)}_{1} b^{(5)}_{1} + a^{(5)}_{2} b^{(5)}_{2} + b^{(5)}_{3}\\right)$"
      ],
      "text/plain": [
       "<IPython.core.display.Math object>"
      ]
     },
     "metadata": {},
     "output_type": "display_data"
    },
    {
     "name": "stdout",
     "output_type": "stream",
     "text": [
      "Enter coordinate indices: 0 2 5\n",
      "Blowup coords: [0, 2, 5]\n"
     ]
    },
    {
     "data": {
      "text/latex": [
       "$\\displaystyle \\left(a^{(53)}_{3}\\right)^{2} b^{(53)}_{3} \\left(a^{(53)}_{1} b^{(53)}_{1} + a^{(53)}_{2} b^{(53)}_{2} + 1\\right)$"
      ],
      "text/plain": [
       "<IPython.core.display.Math object>"
      ]
     },
     "metadata": {},
     "output_type": "display_data"
    },
    {
     "data": {
      "text/latex": [
       "$\\displaystyle a^{(52)}_{2} \\left(a^{(52)}_{3}\\right)^{2} \\left(a^{(52)}_{1} b^{(52)}_{1} + b^{(52)}_{2} + b^{(52)}_{3}\\right)$"
      ],
      "text/plain": [
       "<IPython.core.display.Math object>"
      ]
     },
     "metadata": {},
     "output_type": "display_data"
    },
    {
     "data": {
      "text/latex": [
       "$\\displaystyle a^{(51)}_{1} \\left(a^{(51)}_{3}\\right)^{2} \\left(a^{(51)}_{2} b^{(51)}_{2} + b^{(51)}_{1} + b^{(51)}_{3}\\right)$"
      ],
      "text/plain": [
       "<IPython.core.display.Math object>"
      ]
     },
     "metadata": {},
     "output_type": "display_data"
    },
    {
     "name": "stdout",
     "output_type": "stream",
     "text": [
      "\n",
      "---------------\n",
      "Current expression: \n"
     ]
    },
    {
     "data": {
      "text/latex": [
       "$\\displaystyle a^{(51)}_{1} \\left(a^{(51)}_{3}\\right)^{2} \\left(a^{(51)}_{2} b^{(51)}_{2} + b^{(51)}_{1} + b^{(51)}_{3}\\right)$"
      ],
      "text/plain": [
       "<IPython.core.display.Math object>"
      ]
     },
     "metadata": {},
     "output_type": "display_data"
    },
    {
     "name": "stdout",
     "output_type": "stream",
     "text": [
      "Enter coordinate indices: 1 2 5\n",
      "Blowup coords: [1, 2, 5]\n"
     ]
    },
    {
     "data": {
      "text/latex": [
       "$\\displaystyle a^{(513)}_{1} \\left(a^{(513)}_{3}\\right)^{2} b^{(513)}_{3} \\left(a^{(513)}_{2} b^{(513)}_{2} + b^{(513)}_{1} + 1\\right)$"
      ],
      "text/plain": [
       "<IPython.core.display.Math object>"
      ]
     },
     "metadata": {},
     "output_type": "display_data"
    },
    {
     "data": {
      "text/latex": [
       "$\\displaystyle a^{(512)}_{1} a^{(512)}_{2} \\left(a^{(512)}_{3}\\right)^{2} \\left(b^{(512)}_{1} + b^{(512)}_{2} + b^{(512)}_{3}\\right)$"
      ],
      "text/plain": [
       "<IPython.core.display.Math object>"
      ]
     },
     "metadata": {},
     "output_type": "display_data"
    },
    {
     "data": {
      "text/latex": [
       "$\\displaystyle a^{(511)}_{1} \\left(a^{(511)}_{3}\\right)^{2} b^{(511)}_{1} \\left(a^{(511)}_{2} b^{(511)}_{2} + b^{(511)}_{3} + 1\\right)$"
      ],
      "text/plain": [
       "<IPython.core.display.Math object>"
      ]
     },
     "metadata": {},
     "output_type": "display_data"
    },
    {
     "name": "stdout",
     "output_type": "stream",
     "text": [
      "\n",
      "---------------\n",
      "Current expression: \n"
     ]
    },
    {
     "data": {
      "text/latex": [
       "$\\displaystyle a^{(512)}_{1} a^{(512)}_{2} \\left(a^{(512)}_{3}\\right)^{2} \\left(b^{(512)}_{1} + b^{(512)}_{2} + b^{(512)}_{3}\\right)$"
      ],
      "text/plain": [
       "<IPython.core.display.Math object>"
      ]
     },
     "metadata": {},
     "output_type": "display_data"
    },
    {
     "name": "stdout",
     "output_type": "stream",
     "text": [
      "Enter coordinate indices: 1 3 5\n",
      "Blowup coords: [1, 3, 5]\n"
     ]
    },
    {
     "data": {
      "text/latex": [
       "$\\displaystyle a^{(5123)}_{1} a^{(5123)}_{2} \\left(a^{(5123)}_{3}\\right)^{2} b^{(5123)}_{3} \\left(b^{(5123)}_{1} + b^{(5123)}_{2} + 1\\right)$"
      ],
      "text/plain": [
       "<IPython.core.display.Math object>"
      ]
     },
     "metadata": {},
     "output_type": "display_data"
    },
    {
     "data": {
      "text/latex": [
       "$\\displaystyle a^{(5122)}_{1} a^{(5122)}_{2} \\left(a^{(5122)}_{3}\\right)^{2} b^{(5122)}_{2} \\left(b^{(5122)}_{1} + b^{(5122)}_{3} + 1\\right)$"
      ],
      "text/plain": [
       "<IPython.core.display.Math object>"
      ]
     },
     "metadata": {},
     "output_type": "display_data"
    },
    {
     "data": {
      "text/latex": [
       "$\\displaystyle a^{(5121)}_{1} a^{(5121)}_{2} \\left(a^{(5121)}_{3}\\right)^{2} b^{(5121)}_{1} \\left(b^{(5121)}_{2} + b^{(5121)}_{3} + 1\\right)$"
      ],
      "text/plain": [
       "<IPython.core.display.Math object>"
      ]
     },
     "metadata": {},
     "output_type": "display_data"
    },
    {
     "name": "stdout",
     "output_type": "stream",
     "text": [
      "\n",
      "---------------\n",
      "Current expression: \n"
     ]
    },
    {
     "data": {
      "text/latex": [
       "$\\displaystyle a^{(52)}_{2} \\left(a^{(52)}_{3}\\right)^{2} \\left(a^{(52)}_{1} b^{(52)}_{1} + b^{(52)}_{2} + b^{(52)}_{3}\\right)$"
      ],
      "text/plain": [
       "<IPython.core.display.Math object>"
      ]
     },
     "metadata": {},
     "output_type": "display_data"
    },
    {
     "name": "stdout",
     "output_type": "stream",
     "text": [
      "Enter coordinate indices: 0 3 5\n",
      "Blowup coords: [0, 3, 5]\n"
     ]
    },
    {
     "data": {
      "text/latex": [
       "$\\displaystyle a^{(523)}_{2} \\left(a^{(523)}_{3}\\right)^{2} b^{(523)}_{3} \\left(a^{(523)}_{1} b^{(523)}_{1} + b^{(523)}_{2} + 1\\right)$"
      ],
      "text/plain": [
       "<IPython.core.display.Math object>"
      ]
     },
     "metadata": {},
     "output_type": "display_data"
    },
    {
     "data": {
      "text/latex": [
       "$\\displaystyle a^{(522)}_{2} \\left(a^{(522)}_{3}\\right)^{2} b^{(522)}_{2} \\left(a^{(522)}_{1} b^{(522)}_{1} + b^{(522)}_{3} + 1\\right)$"
      ],
      "text/plain": [
       "<IPython.core.display.Math object>"
      ]
     },
     "metadata": {},
     "output_type": "display_data"
    },
    {
     "data": {
      "text/latex": [
       "$\\displaystyle a^{(521)}_{1} a^{(521)}_{2} \\left(a^{(521)}_{3}\\right)^{2} \\left(b^{(521)}_{1} + b^{(521)}_{2} + b^{(521)}_{3}\\right)$"
      ],
      "text/plain": [
       "<IPython.core.display.Math object>"
      ]
     },
     "metadata": {},
     "output_type": "display_data"
    },
    {
     "name": "stdout",
     "output_type": "stream",
     "text": [
      "\n",
      "---------------\n",
      "Current expression: \n"
     ]
    },
    {
     "data": {
      "text/latex": [
       "$\\displaystyle a^{(521)}_{1} a^{(521)}_{2} \\left(a^{(521)}_{3}\\right)^{2} \\left(b^{(521)}_{1} + b^{(521)}_{2} + b^{(521)}_{3}\\right)$"
      ],
      "text/plain": [
       "<IPython.core.display.Math object>"
      ]
     },
     "metadata": {},
     "output_type": "display_data"
    },
    {
     "name": "stdout",
     "output_type": "stream",
     "text": [
      "Enter coordinate indices: 1 3 5\n",
      "Blowup coords: [1, 3, 5]\n"
     ]
    },
    {
     "data": {
      "text/latex": [
       "$\\displaystyle a^{(5213)}_{1} a^{(5213)}_{2} \\left(a^{(5213)}_{3}\\right)^{2} b^{(5213)}_{3} \\left(b^{(5213)}_{1} + b^{(5213)}_{2} + 1\\right)$"
      ],
      "text/plain": [
       "<IPython.core.display.Math object>"
      ]
     },
     "metadata": {},
     "output_type": "display_data"
    },
    {
     "data": {
      "text/latex": [
       "$\\displaystyle a^{(5212)}_{1} a^{(5212)}_{2} \\left(a^{(5212)}_{3}\\right)^{2} b^{(5212)}_{2} \\left(b^{(5212)}_{1} + b^{(5212)}_{3} + 1\\right)$"
      ],
      "text/plain": [
       "<IPython.core.display.Math object>"
      ]
     },
     "metadata": {},
     "output_type": "display_data"
    },
    {
     "data": {
      "text/latex": [
       "$\\displaystyle a^{(5211)}_{1} a^{(5211)}_{2} \\left(a^{(5211)}_{3}\\right)^{2} b^{(5211)}_{1} \\left(b^{(5211)}_{2} + b^{(5211)}_{3} + 1\\right)$"
      ],
      "text/plain": [
       "<IPython.core.display.Math object>"
      ]
     },
     "metadata": {},
     "output_type": "display_data"
    },
    {
     "name": "stdout",
     "output_type": "stream",
     "text": [
      "\n",
      "---------------\n",
      "Current expression: \n"
     ]
    },
    {
     "data": {
      "text/latex": [
       "$\\displaystyle \\left(b^{(6)}_{3}\\right)^{2} \\left(a^{(6)}_{1} b^{(6)}_{1} + a^{(6)}_{2} b^{(6)}_{2} + a^{(6)}_{3}\\right)$"
      ],
      "text/plain": [
       "<IPython.core.display.Math object>"
      ]
     },
     "metadata": {},
     "output_type": "display_data"
    },
    {
     "name": "stdout",
     "output_type": "stream",
     "text": [
      "Enter coordinate indices: 0 2 4\n",
      "Blowup coords: [0, 2, 4]\n"
     ]
    },
    {
     "data": {
      "text/latex": [
       "$\\displaystyle a^{(63)}_{3} \\left(b^{(63)}_{3}\\right)^{2} \\left(a^{(63)}_{1} b^{(63)}_{1} + a^{(63)}_{2} b^{(63)}_{2} + 1\\right)$"
      ],
      "text/plain": [
       "<IPython.core.display.Math object>"
      ]
     },
     "metadata": {},
     "output_type": "display_data"
    },
    {
     "data": {
      "text/latex": [
       "$\\displaystyle a^{(62)}_{2} \\left(b^{(62)}_{3}\\right)^{2} \\left(a^{(62)}_{1} b^{(62)}_{1} + a^{(62)}_{3} + b^{(62)}_{2}\\right)$"
      ],
      "text/plain": [
       "<IPython.core.display.Math object>"
      ]
     },
     "metadata": {},
     "output_type": "display_data"
    },
    {
     "data": {
      "text/latex": [
       "$\\displaystyle a^{(61)}_{1} \\left(b^{(61)}_{3}\\right)^{2} \\left(a^{(61)}_{2} b^{(61)}_{2} + a^{(61)}_{3} + b^{(61)}_{1}\\right)$"
      ],
      "text/plain": [
       "<IPython.core.display.Math object>"
      ]
     },
     "metadata": {},
     "output_type": "display_data"
    },
    {
     "name": "stdout",
     "output_type": "stream",
     "text": [
      "\n",
      "---------------\n",
      "Current expression: \n"
     ]
    },
    {
     "data": {
      "text/latex": [
       "$\\displaystyle a^{(61)}_{1} \\left(b^{(61)}_{3}\\right)^{2} \\left(a^{(61)}_{2} b^{(61)}_{2} + a^{(61)}_{3} + b^{(61)}_{1}\\right)$"
      ],
      "text/plain": [
       "<IPython.core.display.Math object>"
      ]
     },
     "metadata": {},
     "output_type": "display_data"
    },
    {
     "name": "stdout",
     "output_type": "stream",
     "text": [
      "Enter coordinate indices: 1 2 4\n",
      "Blowup coords: [1, 2, 4]\n"
     ]
    },
    {
     "data": {
      "text/latex": [
       "$\\displaystyle a^{(613)}_{1} a^{(613)}_{3} \\left(b^{(613)}_{3}\\right)^{2} \\left(a^{(613)}_{2} b^{(613)}_{2} + b^{(613)}_{1} + 1\\right)$"
      ],
      "text/plain": [
       "<IPython.core.display.Math object>"
      ]
     },
     "metadata": {},
     "output_type": "display_data"
    },
    {
     "data": {
      "text/latex": [
       "$\\displaystyle a^{(612)}_{1} a^{(612)}_{2} \\left(b^{(612)}_{3}\\right)^{2} \\left(a^{(612)}_{3} + b^{(612)}_{1} + b^{(612)}_{2}\\right)$"
      ],
      "text/plain": [
       "<IPython.core.display.Math object>"
      ]
     },
     "metadata": {},
     "output_type": "display_data"
    },
    {
     "data": {
      "text/latex": [
       "$\\displaystyle a^{(611)}_{1} b^{(611)}_{1} \\left(b^{(611)}_{3}\\right)^{2} \\left(a^{(611)}_{2} b^{(611)}_{2} + a^{(611)}_{3} + 1\\right)$"
      ],
      "text/plain": [
       "<IPython.core.display.Math object>"
      ]
     },
     "metadata": {},
     "output_type": "display_data"
    },
    {
     "name": "stdout",
     "output_type": "stream",
     "text": [
      "\n",
      "---------------\n",
      "Current expression: \n"
     ]
    },
    {
     "data": {
      "text/latex": [
       "$\\displaystyle a^{(612)}_{1} a^{(612)}_{2} \\left(b^{(612)}_{3}\\right)^{2} \\left(a^{(612)}_{3} + b^{(612)}_{1} + b^{(612)}_{2}\\right)$"
      ],
      "text/plain": [
       "<IPython.core.display.Math object>"
      ]
     },
     "metadata": {},
     "output_type": "display_data"
    },
    {
     "name": "stdout",
     "output_type": "stream",
     "text": [
      "Enter coordinate indices: 1 3 4\n",
      "Blowup coords: [1, 3, 4]\n"
     ]
    },
    {
     "data": {
      "text/latex": [
       "$\\displaystyle a^{(6123)}_{1} a^{(6123)}_{2} a^{(6123)}_{3} \\left(b^{(6123)}_{3}\\right)^{2} \\left(b^{(6123)}_{1} + b^{(6123)}_{2} + 1\\right)$"
      ],
      "text/plain": [
       "<IPython.core.display.Math object>"
      ]
     },
     "metadata": {},
     "output_type": "display_data"
    },
    {
     "data": {
      "text/latex": [
       "$\\displaystyle a^{(6122)}_{1} a^{(6122)}_{2} b^{(6122)}_{2} \\left(b^{(6122)}_{3}\\right)^{2} \\left(a^{(6122)}_{3} + b^{(6122)}_{1} + 1\\right)$"
      ],
      "text/plain": [
       "<IPython.core.display.Math object>"
      ]
     },
     "metadata": {},
     "output_type": "display_data"
    },
    {
     "data": {
      "text/latex": [
       "$\\displaystyle a^{(6121)}_{1} a^{(6121)}_{2} b^{(6121)}_{1} \\left(b^{(6121)}_{3}\\right)^{2} \\left(a^{(6121)}_{3} + b^{(6121)}_{2} + 1\\right)$"
      ],
      "text/plain": [
       "<IPython.core.display.Math object>"
      ]
     },
     "metadata": {},
     "output_type": "display_data"
    },
    {
     "name": "stdout",
     "output_type": "stream",
     "text": [
      "\n",
      "---------------\n",
      "Current expression: \n"
     ]
    },
    {
     "data": {
      "text/latex": [
       "$\\displaystyle a^{(62)}_{2} \\left(b^{(62)}_{3}\\right)^{2} \\left(a^{(62)}_{1} b^{(62)}_{1} + a^{(62)}_{3} + b^{(62)}_{2}\\right)$"
      ],
      "text/plain": [
       "<IPython.core.display.Math object>"
      ]
     },
     "metadata": {},
     "output_type": "display_data"
    },
    {
     "name": "stdout",
     "output_type": "stream",
     "text": [
      "Enter coordinate indices: 0 3 4\n",
      "Blowup coords: [0, 3, 4]\n"
     ]
    },
    {
     "data": {
      "text/latex": [
       "$\\displaystyle a^{(623)}_{2} a^{(623)}_{3} \\left(b^{(623)}_{3}\\right)^{2} \\left(a^{(623)}_{1} b^{(623)}_{1} + b^{(623)}_{2} + 1\\right)$"
      ],
      "text/plain": [
       "<IPython.core.display.Math object>"
      ]
     },
     "metadata": {},
     "output_type": "display_data"
    },
    {
     "data": {
      "text/latex": [
       "$\\displaystyle a^{(622)}_{2} b^{(622)}_{2} \\left(b^{(622)}_{3}\\right)^{2} \\left(a^{(622)}_{1} b^{(622)}_{1} + a^{(622)}_{3} + 1\\right)$"
      ],
      "text/plain": [
       "<IPython.core.display.Math object>"
      ]
     },
     "metadata": {},
     "output_type": "display_data"
    },
    {
     "data": {
      "text/latex": [
       "$\\displaystyle a^{(621)}_{1} a^{(621)}_{2} \\left(b^{(621)}_{3}\\right)^{2} \\left(a^{(621)}_{3} + b^{(621)}_{1} + b^{(621)}_{2}\\right)$"
      ],
      "text/plain": [
       "<IPython.core.display.Math object>"
      ]
     },
     "metadata": {},
     "output_type": "display_data"
    },
    {
     "name": "stdout",
     "output_type": "stream",
     "text": [
      "\n",
      "---------------\n",
      "Current expression: \n"
     ]
    },
    {
     "data": {
      "text/latex": [
       "$\\displaystyle a^{(621)}_{1} a^{(621)}_{2} \\left(b^{(621)}_{3}\\right)^{2} \\left(a^{(621)}_{3} + b^{(621)}_{1} + b^{(621)}_{2}\\right)$"
      ],
      "text/plain": [
       "<IPython.core.display.Math object>"
      ]
     },
     "metadata": {},
     "output_type": "display_data"
    },
    {
     "name": "stdout",
     "output_type": "stream",
     "text": [
      "Enter coordinate indices: 1 3 4\n",
      "Blowup coords: [1, 3, 4]\n"
     ]
    },
    {
     "data": {
      "text/latex": [
       "$\\displaystyle a^{(6213)}_{1} a^{(6213)}_{2} a^{(6213)}_{3} \\left(b^{(6213)}_{3}\\right)^{2} \\left(b^{(6213)}_{1} + b^{(6213)}_{2} + 1\\right)$"
      ],
      "text/plain": [
       "<IPython.core.display.Math object>"
      ]
     },
     "metadata": {},
     "output_type": "display_data"
    },
    {
     "data": {
      "text/latex": [
       "$\\displaystyle a^{(6212)}_{1} a^{(6212)}_{2} b^{(6212)}_{2} \\left(b^{(6212)}_{3}\\right)^{2} \\left(a^{(6212)}_{3} + b^{(6212)}_{1} + 1\\right)$"
      ],
      "text/plain": [
       "<IPython.core.display.Math object>"
      ]
     },
     "metadata": {},
     "output_type": "display_data"
    },
    {
     "data": {
      "text/latex": [
       "$\\displaystyle a^{(6211)}_{1} a^{(6211)}_{2} b^{(6211)}_{1} \\left(b^{(6211)}_{3}\\right)^{2} \\left(a^{(6211)}_{3} + b^{(6211)}_{2} + 1\\right)$"
      ],
      "text/plain": [
       "<IPython.core.display.Math object>"
      ]
     },
     "metadata": {},
     "output_type": "display_data"
    },
    {
     "name": "stdout",
     "output_type": "stream",
     "text": [
      "Tasks stack is empty!\n"
     ]
    }
   ],
   "source": [
    "btree = BlowupTree(3)\n",
    "btree.blowup_game()"
   ]
  },
  {
   "cell_type": "code",
   "execution_count": 571,
   "id": "698aecc8",
   "metadata": {},
   "outputs": [
    {
     "data": {
      "text/latex": [
       "$\\displaystyle \\left(a^{(1233)}_{1}\\right)^{2} a^{(1233)}_{2} a^{(1233)}_{3} b^{(1233)}_{3} \\left(b^{(1233)}_{1} + b^{(1233)}_{2} + 1\\right)$"
      ],
      "text/plain": [
       "a_1^(1233)**2*a_2^(1233)*a_3^(1233)*b_3^(1233)*(b_1^(1233) + b_2^(1233) + 1)"
      ]
     },
     "execution_count": 571,
     "metadata": {},
     "output_type": "execute_result"
    }
   ],
   "source": [
    "btree.tree.nodes[\"1233\"][\"expr\"]"
   ]
  },
  {
   "cell_type": "code",
   "execution_count": 503,
   "id": "e6a8f082",
   "metadata": {},
   "outputs": [],
   "source": [
    "# Initialisation\n",
    "H = 2\n",
    "blow_up_tree = nx.DiGraph()\n",
    "chart = ''\n",
    "var_list = symbols(' '.join([f\"{s}_{i + 1}\" for i in range(H) for s in ['a', 'b']]))\n",
    "f = sum([vs[2 * i] * vs[2 * i + 1] for i in range(0, H)])\n",
    "K = f**2\n",
    "subs = [(v, v) for v in var_list]\n",
    "attr = {\n",
    "    \"vars\": var_list, \n",
    "    \"expr\": f, \n",
    "    \"map\": subs, \n",
    "    \"subs\": subs\n",
    "}\n",
    "blow_up_tree.add_node(chart, **attr)\n"
   ]
  },
  {
   "cell_type": "code",
   "execution_count": 504,
   "id": "5a91a7cb",
   "metadata": {
    "scrolled": false
   },
   "outputs": [
    {
     "name": "stdout",
     "output_type": "stream",
     "text": [
      "\n",
      "---------------\n",
      "Current expression: \n"
     ]
    },
    {
     "data": {
      "text/latex": [
       "$\\displaystyle a_{1} b_{1} + a_{2} b_{2}$"
      ],
      "text/plain": [
       "<IPython.core.display.Math object>"
      ]
     },
     "metadata": {},
     "output_type": "display_data"
    },
    {
     "name": "stdout",
     "output_type": "stream",
     "text": [
      "Enter coordinate indices: 0 1 2 3\n",
      "Blowup coords: [0, 1, 2, 3]\n"
     ]
    },
    {
     "data": {
      "text/latex": [
       "$\\displaystyle \\left(b^{(4)}_{2}\\right)^{2} \\left(a^{(4)}_{1} b^{(4)}_{1} + a^{(4)}_{2}\\right)$"
      ],
      "text/plain": [
       "<IPython.core.display.Math object>"
      ]
     },
     "metadata": {},
     "output_type": "display_data"
    },
    {
     "data": {
      "text/latex": [
       "$\\displaystyle \\left(a^{(3)}_{2}\\right)^{2} \\left(a^{(3)}_{1} b^{(3)}_{1} + b^{(3)}_{2}\\right)$"
      ],
      "text/plain": [
       "<IPython.core.display.Math object>"
      ]
     },
     "metadata": {},
     "output_type": "display_data"
    },
    {
     "data": {
      "text/latex": [
       "$\\displaystyle \\left(b^{(2)}_{1}\\right)^{2} \\left(a^{(2)}_{1} + a^{(2)}_{2} b^{(2)}_{2}\\right)$"
      ],
      "text/plain": [
       "<IPython.core.display.Math object>"
      ]
     },
     "metadata": {},
     "output_type": "display_data"
    },
    {
     "data": {
      "text/latex": [
       "$\\displaystyle \\left(a^{(1)}_{1}\\right)^{2} \\left(a^{(1)}_{2} b^{(1)}_{2} + b^{(1)}_{1}\\right)$"
      ],
      "text/plain": [
       "<IPython.core.display.Math object>"
      ]
     },
     "metadata": {},
     "output_type": "display_data"
    },
    {
     "name": "stdout",
     "output_type": "stream",
     "text": [
      "\n",
      "---------------\n",
      "Current expression: \n"
     ]
    },
    {
     "data": {
      "text/latex": [
       "$\\displaystyle \\left(a^{(1)}_{1}\\right)^{2} \\left(a^{(1)}_{2} b^{(1)}_{2} + b^{(1)}_{1}\\right)$"
      ],
      "text/plain": [
       "<IPython.core.display.Math object>"
      ]
     },
     "metadata": {},
     "output_type": "display_data"
    },
    {
     "name": "stdout",
     "output_type": "stream",
     "text": [
      "Enter coordinate indices: 1 2\n",
      "Blowup coords: [1, 2]\n"
     ]
    },
    {
     "data": {
      "text/latex": [
       "$\\displaystyle \\left(a^{(12)}_{1}\\right)^{2} a^{(12)}_{2} \\left(b^{(12)}_{1} + b^{(12)}_{2}\\right)$"
      ],
      "text/plain": [
       "<IPython.core.display.Math object>"
      ]
     },
     "metadata": {},
     "output_type": "display_data"
    },
    {
     "data": {
      "text/latex": [
       "$\\displaystyle \\left(a^{(11)}_{1}\\right)^{2} b^{(11)}_{1} \\left(a^{(11)}_{2} b^{(11)}_{2} + 1\\right)$"
      ],
      "text/plain": [
       "<IPython.core.display.Math object>"
      ]
     },
     "metadata": {},
     "output_type": "display_data"
    },
    {
     "name": "stdout",
     "output_type": "stream",
     "text": [
      "\n",
      "---------------\n",
      "Current expression: \n"
     ]
    },
    {
     "data": {
      "text/latex": [
       "$\\displaystyle \\left(a^{(12)}_{1}\\right)^{2} a^{(12)}_{2} \\left(b^{(12)}_{1} + b^{(12)}_{2}\\right)$"
      ],
      "text/plain": [
       "<IPython.core.display.Math object>"
      ]
     },
     "metadata": {},
     "output_type": "display_data"
    },
    {
     "name": "stdout",
     "output_type": "stream",
     "text": [
      "Enter coordinate indices: 1 3\n",
      "Blowup coords: [1, 3]\n"
     ]
    },
    {
     "data": {
      "text/latex": [
       "$\\displaystyle \\left(a^{(122)}_{1}\\right)^{2} a^{(122)}_{2} b^{(122)}_{2} \\left(b^{(122)}_{1} + 1\\right)$"
      ],
      "text/plain": [
       "<IPython.core.display.Math object>"
      ]
     },
     "metadata": {},
     "output_type": "display_data"
    },
    {
     "data": {
      "text/latex": [
       "$\\displaystyle \\left(a^{(121)}_{1}\\right)^{2} a^{(121)}_{2} b^{(121)}_{1} \\left(b^{(121)}_{2} + 1\\right)$"
      ],
      "text/plain": [
       "<IPython.core.display.Math object>"
      ]
     },
     "metadata": {},
     "output_type": "display_data"
    },
    {
     "name": "stdout",
     "output_type": "stream",
     "text": [
      "\n",
      "---------------\n",
      "Current expression: \n"
     ]
    },
    {
     "data": {
      "text/latex": [
       "$\\displaystyle \\left(b^{(2)}_{1}\\right)^{2} \\left(a^{(2)}_{1} + a^{(2)}_{2} b^{(2)}_{2}\\right)$"
      ],
      "text/plain": [
       "<IPython.core.display.Math object>"
      ]
     },
     "metadata": {},
     "output_type": "display_data"
    },
    {
     "name": "stdout",
     "output_type": "stream",
     "text": [
      "Enter coordinate indices: 0 2\n",
      "Blowup coords: [0, 2]\n"
     ]
    },
    {
     "data": {
      "text/latex": [
       "$\\displaystyle a^{(22)}_{2} \\left(b^{(22)}_{1}\\right)^{2} \\left(a^{(22)}_{1} + b^{(22)}_{2}\\right)$"
      ],
      "text/plain": [
       "<IPython.core.display.Math object>"
      ]
     },
     "metadata": {},
     "output_type": "display_data"
    },
    {
     "data": {
      "text/latex": [
       "$\\displaystyle a^{(21)}_{1} \\left(b^{(21)}_{1}\\right)^{2} \\left(a^{(21)}_{2} b^{(21)}_{2} + 1\\right)$"
      ],
      "text/plain": [
       "<IPython.core.display.Math object>"
      ]
     },
     "metadata": {},
     "output_type": "display_data"
    },
    {
     "name": "stdout",
     "output_type": "stream",
     "text": [
      "\n",
      "---------------\n",
      "Current expression: \n"
     ]
    },
    {
     "data": {
      "text/latex": [
       "$\\displaystyle a^{(22)}_{2} \\left(b^{(22)}_{1}\\right)^{2} \\left(a^{(22)}_{1} + b^{(22)}_{2}\\right)$"
      ],
      "text/plain": [
       "<IPython.core.display.Math object>"
      ]
     },
     "metadata": {},
     "output_type": "display_data"
    },
    {
     "name": "stdout",
     "output_type": "stream",
     "text": [
      "Enter coordinate indices: 0 3\n",
      "Blowup coords: [0, 3]\n"
     ]
    },
    {
     "data": {
      "text/latex": [
       "$\\displaystyle a^{(222)}_{2} \\left(b^{(222)}_{1}\\right)^{2} b^{(222)}_{2} \\left(a^{(222)}_{1} + 1\\right)$"
      ],
      "text/plain": [
       "<IPython.core.display.Math object>"
      ]
     },
     "metadata": {},
     "output_type": "display_data"
    },
    {
     "data": {
      "text/latex": [
       "$\\displaystyle a^{(221)}_{1} a^{(221)}_{2} \\left(b^{(221)}_{1}\\right)^{2} \\left(b^{(221)}_{2} + 1\\right)$"
      ],
      "text/plain": [
       "<IPython.core.display.Math object>"
      ]
     },
     "metadata": {},
     "output_type": "display_data"
    },
    {
     "name": "stdout",
     "output_type": "stream",
     "text": [
      "\n",
      "---------------\n",
      "Current expression: \n"
     ]
    },
    {
     "data": {
      "text/latex": [
       "$\\displaystyle \\left(a^{(3)}_{2}\\right)^{2} \\left(a^{(3)}_{1} b^{(3)}_{1} + b^{(3)}_{2}\\right)$"
      ],
      "text/plain": [
       "<IPython.core.display.Math object>"
      ]
     },
     "metadata": {},
     "output_type": "display_data"
    },
    {
     "name": "stdout",
     "output_type": "stream",
     "text": [
      "Enter coordinate indices: 0 3\n",
      "Blowup coords: [0, 3]\n"
     ]
    },
    {
     "data": {
      "text/latex": [
       "$\\displaystyle \\left(a^{(32)}_{2}\\right)^{2} b^{(32)}_{2} \\left(a^{(32)}_{1} b^{(32)}_{1} + 1\\right)$"
      ],
      "text/plain": [
       "<IPython.core.display.Math object>"
      ]
     },
     "metadata": {},
     "output_type": "display_data"
    },
    {
     "data": {
      "text/latex": [
       "$\\displaystyle a^{(31)}_{1} \\left(a^{(31)}_{2}\\right)^{2} \\left(b^{(31)}_{1} + b^{(31)}_{2}\\right)$"
      ],
      "text/plain": [
       "<IPython.core.display.Math object>"
      ]
     },
     "metadata": {},
     "output_type": "display_data"
    },
    {
     "name": "stdout",
     "output_type": "stream",
     "text": [
      "\n",
      "---------------\n",
      "Current expression: \n"
     ]
    },
    {
     "data": {
      "text/latex": [
       "$\\displaystyle a^{(31)}_{1} \\left(a^{(31)}_{2}\\right)^{2} \\left(b^{(31)}_{1} + b^{(31)}_{2}\\right)$"
      ],
      "text/plain": [
       "<IPython.core.display.Math object>"
      ]
     },
     "metadata": {},
     "output_type": "display_data"
    },
    {
     "name": "stdout",
     "output_type": "stream",
     "text": [
      "Enter coordinate indices: 1 3\n",
      "Blowup coords: [1, 3]\n"
     ]
    },
    {
     "data": {
      "text/latex": [
       "$\\displaystyle a^{(312)}_{1} \\left(a^{(312)}_{2}\\right)^{2} b^{(312)}_{2} \\left(b^{(312)}_{1} + 1\\right)$"
      ],
      "text/plain": [
       "<IPython.core.display.Math object>"
      ]
     },
     "metadata": {},
     "output_type": "display_data"
    },
    {
     "data": {
      "text/latex": [
       "$\\displaystyle a^{(311)}_{1} \\left(a^{(311)}_{2}\\right)^{2} b^{(311)}_{1} \\left(b^{(311)}_{2} + 1\\right)$"
      ],
      "text/plain": [
       "<IPython.core.display.Math object>"
      ]
     },
     "metadata": {},
     "output_type": "display_data"
    },
    {
     "name": "stdout",
     "output_type": "stream",
     "text": [
      "\n",
      "---------------\n",
      "Current expression: \n"
     ]
    },
    {
     "data": {
      "text/latex": [
       "$\\displaystyle \\left(b^{(4)}_{2}\\right)^{2} \\left(a^{(4)}_{1} b^{(4)}_{1} + a^{(4)}_{2}\\right)$"
      ],
      "text/plain": [
       "<IPython.core.display.Math object>"
      ]
     },
     "metadata": {},
     "output_type": "display_data"
    },
    {
     "name": "stdout",
     "output_type": "stream",
     "text": [
      "Enter coordinate indices: 0 2\n",
      "Blowup coords: [0, 2]\n"
     ]
    },
    {
     "data": {
      "text/latex": [
       "$\\displaystyle a^{(42)}_{2} \\left(b^{(42)}_{2}\\right)^{2} \\left(a^{(42)}_{1} b^{(42)}_{1} + 1\\right)$"
      ],
      "text/plain": [
       "<IPython.core.display.Math object>"
      ]
     },
     "metadata": {},
     "output_type": "display_data"
    },
    {
     "data": {
      "text/latex": [
       "$\\displaystyle a^{(41)}_{1} \\left(b^{(41)}_{2}\\right)^{2} \\left(a^{(41)}_{2} + b^{(41)}_{1}\\right)$"
      ],
      "text/plain": [
       "<IPython.core.display.Math object>"
      ]
     },
     "metadata": {},
     "output_type": "display_data"
    },
    {
     "name": "stdout",
     "output_type": "stream",
     "text": [
      "\n",
      "---------------\n",
      "Current expression: \n"
     ]
    },
    {
     "data": {
      "text/latex": [
       "$\\displaystyle a^{(41)}_{1} \\left(b^{(41)}_{2}\\right)^{2} \\left(a^{(41)}_{2} + b^{(41)}_{1}\\right)$"
      ],
      "text/plain": [
       "<IPython.core.display.Math object>"
      ]
     },
     "metadata": {},
     "output_type": "display_data"
    },
    {
     "name": "stdout",
     "output_type": "stream",
     "text": [
      "Enter coordinate indices: 1 2\n",
      "Blowup coords: [1, 2]\n"
     ]
    },
    {
     "data": {
      "text/latex": [
       "$\\displaystyle a^{(412)}_{1} a^{(412)}_{2} \\left(b^{(412)}_{2}\\right)^{2} \\left(b^{(412)}_{1} + 1\\right)$"
      ],
      "text/plain": [
       "<IPython.core.display.Math object>"
      ]
     },
     "metadata": {},
     "output_type": "display_data"
    },
    {
     "data": {
      "text/latex": [
       "$\\displaystyle a^{(411)}_{1} b^{(411)}_{1} \\left(b^{(411)}_{2}\\right)^{2} \\left(a^{(411)}_{2} + 1\\right)$"
      ],
      "text/plain": [
       "<IPython.core.display.Math object>"
      ]
     },
     "metadata": {},
     "output_type": "display_data"
    },
    {
     "name": "stdout",
     "output_type": "stream",
     "text": [
      "No new tasks!\n"
     ]
    }
   ],
   "source": [
    "task_stack = ['']\n",
    "while task_stack:\n",
    "    chart_old = task_stack.pop()\n",
    "    rec = blow_up_tree.nodes[chart_old]\n",
    "    vars_old = rec[\"vars\"]\n",
    "    expr_old = rec[\"expr\"]\n",
    "    map_old = rec[\"map\"]\n",
    "    print(\"\\n---------------\\nCurrent expression: \")\n",
    "    display(Math(latex(expr_old)))\n",
    "    blowup_coord_indices = [int(num) for num in input(\"Enter coordinate indices: \").split()]\n",
    "    print(f\"Blowup coords: {blowup_coord_indices}\")\n",
    "    rec[\"blowup-coords\"] = blowup_coord_indices\n",
    "    \n",
    "    blow_up_subs = embedded_blowup(\n",
    "        vars_old, \n",
    "        var_indices=blowup_coord_indices\n",
    "    )\n",
    "    while blow_up_subs:\n",
    "        vars_new, subs = blow_up_subs.pop()\n",
    "        chart_new = get_sym_chart_str(vars_new[0])\n",
    "        map_new = [(v, e.subs(subs)) for v, e in map_old]\n",
    "        expr_new = factor(expr_old.subs(subs))\n",
    "\n",
    "        \n",
    "        f_pullback = f.subs(map_new).factor()\n",
    "        K_pullback = K.subs(map_new).factor()\n",
    "\n",
    "\n",
    "        is_nc = is_normal_crossing(f_pullback)\n",
    "        J = get_jacobian_matrix(m, var_list)\n",
    "        det = J.det()\n",
    "        attr = {\n",
    "            \"vars\": vars_new, \n",
    "            \"subs\": subs, \n",
    "            \"expr\": expr_new, \n",
    "            \"map\": map_new, \n",
    "            \"is_normal_crossing\": is_nc,\n",
    "            \"J\": J,\n",
    "            \"det(J)\": det,\n",
    "            \"f_pullback\": f_pullback\n",
    "        }\n",
    "        blow_up_tree.add_node(chart_new, **attr)\n",
    "        blow_up_tree.add_edge(chart_old, chart_new)\n",
    "        \n",
    "#         print(attr)\n",
    "#         assert Eq(expand(expr_new - f_pullback), 0)\n",
    "#         display(Math(latex(expr_new)))\n",
    "        display(Math(latex(f_pullback)))\n",
    "        \n",
    "#         display(Math(latex(map_old)))\n",
    "#         display(Math(latex(map_new)))\n",
    "#         display(Math(latex(subs)))\n",
    "        if not is_nc:\n",
    "            task_stack.append(chart_new)\n",
    "print(\"No new tasks!\")"
   ]
  },
  {
   "cell_type": "code",
   "execution_count": 509,
   "id": "6b3f5e65",
   "metadata": {},
   "outputs": [
    {
     "name": "stdout",
     "output_type": "stream",
     "text": [
      " [0, 1, 2, 3]\n",
      "4 [0, 2]\n",
      "3 [0, 3]\n",
      "2 [0, 2]\n",
      "1 [1, 2]\n",
      "12 [1, 3]\n",
      "11 None\n",
      "122 None\n",
      "121 None\n",
      "22 [0, 3]\n",
      "21 None\n",
      "222 None\n",
      "221 None\n",
      "32 None\n",
      "31 [1, 3]\n",
      "312 None\n",
      "311 None\n",
      "42 None\n",
      "41 [1, 2]\n",
      "412 None\n",
      "411 None\n"
     ]
    }
   ],
   "source": [
    "for chart, coords in dict(blow_up_tree.nodes.data(data=\"blowup-coords\")).items():\n",
    "    print(chart, coords)"
   ]
  },
  {
   "cell_type": "code",
   "execution_count": null,
   "id": "b3db7880",
   "metadata": {},
   "outputs": [],
   "source": []
  },
  {
   "cell_type": "code",
   "execution_count": null,
   "id": "40fe18e3",
   "metadata": {},
   "outputs": [],
   "source": []
  },
  {
   "cell_type": "code",
   "execution_count": 185,
   "id": "e85c1d4e",
   "metadata": {},
   "outputs": [
    {
     "data": {
      "text/latex": [
       "$\\displaystyle a_{1} b_{1} + a_{2} b_{2}$"
      ],
      "text/plain": [
       "a_1*b_1 + a_2*b_2"
      ]
     },
     "execution_count": 185,
     "metadata": {},
     "output_type": "execute_result"
    }
   ],
   "source": [
    "w = {}\n",
    "\n",
    "chart = ''\n",
    "w[chart] = {\"vars\" : symbols(' '.join([f\"{s}_{i}\" for i in [1, 2] for s in ['a', 'b']]))}\n",
    "v = w[''][\"vars\"]\n",
    "f = v[0] * v[1] + v[2] * v[3]\n",
    "w[chart][\"expr\"] = f\n",
    "K = f**2\n",
    "display(Math(latex(K)))\n",
    "f"
   ]
  },
  {
   "cell_type": "code",
   "execution_count": 218,
   "id": "df7310a7",
   "metadata": {},
   "outputs": [
    {
     "name": "stdout",
     "output_type": "stream",
     "text": [
      "b_1^(41) = b_1^(411)\n",
      "a_1^(41) = a_1^(411)\n",
      "b_2^(41) = b_2^(411)\n",
      "a_2^(41) = a_2^(411)*b_1^(411)\n",
      "--------\n",
      "a_2^(41) = a_2^(412)\n",
      "a_1^(41) = a_1^(412)\n",
      "b_2^(41) = b_2^(412)\n",
      "b_1^(41) = a_2^(412)*b_1^(412)\n",
      "--------\n"
     ]
    },
    {
     "data": {
      "text/latex": [
       "$\\displaystyle \\left(a^{(11)}_{1}\\right)^{2} b^{(11)}_{1} \\left(a^{(11)}_{2} b^{(11)}_{2} + 1\\right)$"
      ],
      "text/plain": [
       "<IPython.core.display.Math object>"
      ]
     },
     "metadata": {},
     "output_type": "display_data"
    },
    {
     "data": {
      "text/latex": [
       "$\\displaystyle a^{(21)}_{1} \\left(b^{(21)}_{1}\\right)^{2} \\left(a^{(21)}_{2} b^{(21)}_{2} + 1\\right)$"
      ],
      "text/plain": [
       "<IPython.core.display.Math object>"
      ]
     },
     "metadata": {},
     "output_type": "display_data"
    },
    {
     "data": {
      "text/latex": [
       "$\\displaystyle \\left(a^{(32)}_{2}\\right)^{2} b^{(32)}_{2} \\left(a^{(32)}_{1} b^{(32)}_{1} + 1\\right)$"
      ],
      "text/plain": [
       "<IPython.core.display.Math object>"
      ]
     },
     "metadata": {},
     "output_type": "display_data"
    },
    {
     "data": {
      "text/latex": [
       "$\\displaystyle a^{(42)}_{2} \\left(b^{(42)}_{2}\\right)^{2} \\left(a^{(42)}_{1} b^{(42)}_{1} + 1\\right)$"
      ],
      "text/plain": [
       "<IPython.core.display.Math object>"
      ]
     },
     "metadata": {},
     "output_type": "display_data"
    },
    {
     "data": {
      "text/latex": [
       "$\\displaystyle \\left(a^{(121)}_{1}\\right)^{2} a^{(121)}_{2} b^{(121)}_{1} \\left(b^{(121)}_{2} + 1\\right)$"
      ],
      "text/plain": [
       "<IPython.core.display.Math object>"
      ]
     },
     "metadata": {},
     "output_type": "display_data"
    },
    {
     "data": {
      "text/latex": [
       "$\\displaystyle \\left(a^{(122)}_{1}\\right)^{2} a^{(122)}_{2} b^{(122)}_{2} \\left(b^{(122)}_{1} + 1\\right)$"
      ],
      "text/plain": [
       "<IPython.core.display.Math object>"
      ]
     },
     "metadata": {},
     "output_type": "display_data"
    },
    {
     "data": {
      "text/latex": [
       "$\\displaystyle a^{(221)}_{1} a^{(221)}_{2} \\left(b^{(221)}_{1}\\right)^{2} \\left(b^{(221)}_{2} + 1\\right)$"
      ],
      "text/plain": [
       "<IPython.core.display.Math object>"
      ]
     },
     "metadata": {},
     "output_type": "display_data"
    },
    {
     "data": {
      "text/latex": [
       "$\\displaystyle a^{(222)}_{2} \\left(b^{(222)}_{1}\\right)^{2} b^{(222)}_{2} \\left(a^{(222)}_{1} + 1\\right)$"
      ],
      "text/plain": [
       "<IPython.core.display.Math object>"
      ]
     },
     "metadata": {},
     "output_type": "display_data"
    },
    {
     "data": {
      "text/latex": [
       "$\\displaystyle a^{(311)}_{1} \\left(a^{(311)}_{2}\\right)^{2} b^{(311)}_{1} \\left(b^{(311)}_{2} + 1\\right)$"
      ],
      "text/plain": [
       "<IPython.core.display.Math object>"
      ]
     },
     "metadata": {},
     "output_type": "display_data"
    },
    {
     "data": {
      "text/latex": [
       "$\\displaystyle a^{(312)}_{1} \\left(a^{(312)}_{2}\\right)^{2} b^{(312)}_{2} \\left(b^{(312)}_{1} + 1\\right)$"
      ],
      "text/plain": [
       "<IPython.core.display.Math object>"
      ]
     },
     "metadata": {},
     "output_type": "display_data"
    },
    {
     "data": {
      "text/latex": [
       "$\\displaystyle a^{(411)}_{1} b^{(411)}_{1} \\left(b^{(411)}_{2}\\right)^{2} \\left(a^{(411)}_{2} + 1\\right)$"
      ],
      "text/plain": [
       "<IPython.core.display.Math object>"
      ]
     },
     "metadata": {},
     "output_type": "display_data"
    },
    {
     "data": {
      "text/latex": [
       "$\\displaystyle a^{(412)}_{1} a^{(412)}_{2} \\left(b^{(412)}_{2}\\right)^{2} \\left(b^{(412)}_{1} + 1\\right)$"
      ],
      "text/plain": [
       "<IPython.core.display.Math object>"
      ]
     },
     "metadata": {},
     "output_type": "display_data"
    }
   ],
   "source": [
    "chart_old = '41'\n",
    "vars_old = w[chart_old][\"vars\"]\n",
    "expr_old = w[chart_old][\"expr\"]\n",
    "blow_up_subs = embedded_blowup(\n",
    "    vars_old, \n",
    "    var_indices=[1, 2]\n",
    ")\n",
    "\n",
    "for vars_new, subs in blow_up_subs:\n",
    "    chart_new = get_sym_chart_str(vars_new[0])\n",
    "    \n",
    "    w[chart_new] = {\n",
    "        \"vars\": vars_new, \n",
    "        \"subs\": subs, \n",
    "        \"expr\": factor(expr_old.subs(subs))\n",
    "    }\n",
    "    for s in subs:\n",
    "        print(f\"{str(s[0]):8s} = {str(s[1]):8s}\")\n",
    "    print(\"--------\")\n",
    "\n",
    "\n",
    "for chart in sorted(w.keys(), key=lambda x: (len(x), x)):\n",
    "    rec = w[chart]\n",
    "    expr = rec[\"expr\"]\n",
    "    var_list = rec[\"vars\"]\n",
    "    if is_normal_crossing(expr, var_list):\n",
    "        display(Math(latex(expr)))"
   ]
  },
  {
   "cell_type": "markdown",
   "id": "c505835a",
   "metadata": {},
   "source": [
    "# Visualise"
   ]
  },
  {
   "cell_type": "code",
   "execution_count": 248,
   "id": "99d0eda6",
   "metadata": {},
   "outputs": [],
   "source": [
    "T = nx.DiGraph()\n",
    "for chart in sorted(w.keys()):\n",
    "    if chart not in T.nodes:\n",
    "        T.add_node(chart, **w[chart])\n",
    "    if chart:\n",
    "        parent = chart[:-1]\n",
    "        T.add_edge(parent, chart)"
   ]
  },
  {
   "cell_type": "code",
   "execution_count": 11,
   "id": "9c075340",
   "metadata": {},
   "outputs": [],
   "source": [
    "T = btree.tree"
   ]
  },
  {
   "cell_type": "code",
   "execution_count": 17,
   "id": "cea86748",
   "metadata": {},
   "outputs": [
    {
     "data": {
      "image/png": "[encoded data removed]",
      "text/plain": [
       "<Figure size 1000x1000 with 1 Axes>"
      ]
     },
     "metadata": {},
     "output_type": "display_data"
    }
   ],
   "source": [
    "assert nx.is_tree(T)\n",
    "fig, ax = plt.subplots(1,1, figsize=(10, 10))\n",
    "nx.draw(\n",
    "    T, \n",
    "    with_labels=True, \n",
    "#     font_weight=\"bold\", \n",
    "    ax=ax, \n",
    "#     pos=nx.kamada_kawai_layout(T), \n",
    "    pos=nx.planar_layout(T), \n",
    "    node_size=10, \n",
    "    font_size=8,\n",
    ")\n",
    "# list(nx.topological_generations(T))"
   ]
  },
  {
   "cell_type": "markdown",
   "id": "96462a69",
   "metadata": {},
   "source": [
    "# Resolution map, Jacobian Matrix, RLCT"
   ]
  },
  {
   "cell_type": "code",
   "execution_count": 313,
   "id": "e4bcc99e",
   "metadata": {
    "scrolled": true
   },
   "outputs": [
    {
     "name": "stdout",
     "output_type": "stream",
     "text": [
      "1 \n",
      "(a_1, a_1^(1))\n",
      "(b_1, a_1^(1)*b_1^(1))\n",
      "(a_2, a_1^(1)*a_2^(1))\n",
      "(b_2, a_1^(1)*b_2^(1))\n",
      "\n",
      "11 1\n",
      "(a_1, a_1^(11))\n",
      "(b_1, a_1^(11)*b_1^(11))\n",
      "(a_2, a_1^(11)*a_2^(11)*b_1^(11))\n",
      "(b_2, a_1^(11)*b_2^(11))\n",
      "\n",
      "12 1\n",
      "(a_1, a_1^(12))\n",
      "(b_1, a_1^(12)*a_2^(12)*b_1^(12))\n",
      "(a_2, a_1^(12)*a_2^(12))\n",
      "(b_2, a_1^(12)*b_2^(12))\n",
      "\n",
      "121 12\n",
      "(a_1, a_1^(121))\n",
      "(b_1, a_1^(121)*a_2^(121)*b_1^(121))\n",
      "(a_2, a_1^(121)*a_2^(121))\n",
      "(b_2, a_1^(121)*b_1^(121)*b_2^(121))\n",
      "\n",
      "122 12\n",
      "(a_1, a_1^(122))\n",
      "(b_1, a_1^(122)*a_2^(122)*b_1^(122)*b_2^(122))\n",
      "(a_2, a_1^(122)*a_2^(122))\n",
      "(b_2, a_1^(122)*b_2^(122))\n",
      "\n",
      "2 \n",
      "(a_1, a_1^(2)*b_1^(2))\n",
      "(b_1, b_1^(2))\n",
      "(a_2, a_2^(2)*b_1^(2))\n",
      "(b_2, b_1^(2)*b_2^(2))\n",
      "\n",
      "21 2\n",
      "(a_1, a_1^(21)*b_1^(21))\n",
      "(b_1, b_1^(21))\n",
      "(a_2, a_1^(21)*a_2^(21)*b_1^(21))\n",
      "(b_2, b_1^(21)*b_2^(21))\n",
      "\n",
      "22 2\n",
      "(a_1, a_1^(22)*a_2^(22)*b_1^(22))\n",
      "(b_1, b_1^(22))\n",
      "(a_2, a_2^(22)*b_1^(22))\n",
      "(b_2, b_1^(22)*b_2^(22))\n",
      "\n",
      "221 22\n",
      "(a_1, a_1^(221)*a_2^(221)*b_1^(221))\n",
      "(b_1, b_1^(221))\n",
      "(a_2, a_2^(221)*b_1^(221))\n",
      "(b_2, a_1^(221)*b_1^(221)*b_2^(221))\n",
      "\n",
      "222 22\n",
      "(a_1, a_1^(222)*a_2^(222)*b_1^(222)*b_2^(222))\n",
      "(b_1, b_1^(222))\n",
      "(a_2, a_2^(222)*b_1^(222))\n",
      "(b_2, b_1^(222)*b_2^(222))\n",
      "\n",
      "3 \n",
      "(a_1, a_1^(3)*a_2^(3))\n",
      "(b_1, a_2^(3)*b_1^(3))\n",
      "(a_2, a_2^(3))\n",
      "(b_2, a_2^(3)*b_2^(3))\n",
      "\n",
      "31 3\n",
      "(a_1, a_1^(31)*a_2^(31))\n",
      "(b_1, a_2^(31)*b_1^(31))\n",
      "(a_2, a_2^(31))\n",
      "(b_2, a_1^(31)*a_2^(31)*b_2^(31))\n",
      "\n",
      "311 31\n",
      "(a_1, a_1^(311)*a_2^(311))\n",
      "(b_1, a_2^(311)*b_1^(311))\n",
      "(a_2, a_2^(311))\n",
      "(b_2, a_1^(311)*a_2^(311)*b_1^(311)*b_2^(311))\n",
      "\n",
      "312 31\n",
      "(a_1, a_1^(312)*a_2^(312))\n",
      "(b_1, a_2^(312)*b_1^(312)*b_2^(312))\n",
      "(a_2, a_2^(312))\n",
      "(b_2, a_1^(312)*a_2^(312)*b_2^(312))\n",
      "\n",
      "32 3\n",
      "(a_1, a_1^(32)*a_2^(32)*b_2^(32))\n",
      "(b_1, a_2^(32)*b_1^(32))\n",
      "(a_2, a_2^(32))\n",
      "(b_2, a_2^(32)*b_2^(32))\n",
      "\n",
      "4 \n",
      "(a_1, a_1^(4)*b_2^(4))\n",
      "(b_1, b_1^(4)*b_2^(4))\n",
      "(a_2, a_2^(4)*b_2^(4))\n",
      "(b_2, b_2^(4))\n",
      "\n",
      "41 4\n",
      "(a_1, a_1^(41)*b_2^(41))\n",
      "(b_1, b_1^(41)*b_2^(41))\n",
      "(a_2, a_1^(41)*a_2^(41)*b_2^(41))\n",
      "(b_2, b_2^(41))\n",
      "\n",
      "411 41\n",
      "(a_1, a_1^(411)*b_2^(411))\n",
      "(b_1, b_1^(411)*b_2^(411))\n",
      "(a_2, a_1^(411)*a_2^(411)*b_1^(411)*b_2^(411))\n",
      "(b_2, b_2^(411))\n",
      "\n",
      "412 41\n",
      "(a_1, a_1^(412)*b_2^(412))\n",
      "(b_1, a_2^(412)*b_1^(412)*b_2^(412))\n",
      "(a_2, a_1^(412)*a_2^(412)*b_2^(412))\n",
      "(b_2, b_2^(412))\n",
      "\n",
      "42 4\n",
      "(a_1, a_1^(42)*a_2^(42)*b_2^(42))\n",
      "(b_1, b_1^(42)*b_2^(42))\n",
      "(a_2, a_2^(42)*b_2^(42))\n",
      "(b_2, b_2^(42))\n",
      "\n"
     ]
    }
   ],
   "source": [
    "prev_chart = ''\n",
    "for chart in nx.dfs_preorder_nodes(T, source=''):\n",
    "    if chart == '':\n",
    "        continue\n",
    "    prev_chart = list(T.predecessors(chart))[0]\n",
    "    rec = T.nodes[chart]\n",
    "    subs = rec[\"subs\"]\n",
    "    rec[\"map\"] = [(v, e.subs(subs)) for v, e in T.nodes[prev_chart][\"map\"]]\n",
    "\n",
    "    print(chart, prev_chart)\n",
    "    for x in rec[\"map\"]:\n",
    "        print(x)\n",
    "    print()\n"
   ]
  },
  {
   "cell_type": "code",
   "execution_count": 28,
   "id": "c7dadc5e",
   "metadata": {
    "scrolled": false
   },
   "outputs": [
    {
     "name": "stdout",
     "output_type": "stream",
     "text": [
      "\n",
      "-----------\n",
      "Is leaf. Is normal crossing? True\n"
     ]
    },
    {
     "data": {
      "text/latex": [
       "$\\displaystyle a^{(63)}_{3} \\left(b^{(63)}_{3}\\right)^{2} \\left(a^{(63)}_{1} b^{(63)}_{1} + a^{(63)}_{2} b^{(63)}_{2} + 1\\right)$"
      ],
      "text/plain": [
       "<IPython.core.display.Math object>"
      ]
     },
     "metadata": {},
     "output_type": "display_data"
    },
    {
     "data": {
      "text/latex": [
       "$\\displaystyle \\left(a^{(63)}_{3}\\right)^{2} \\left(b^{(63)}_{3}\\right)^{5}$"
      ],
      "text/plain": [
       "<IPython.core.display.Math object>"
      ]
     },
     "metadata": {},
     "output_type": "display_data"
    },
    {
     "data": {
      "text/latex": [
       "$\\displaystyle RLCTS = \\left[ \\left( a^{(63)}_{3}, \\  3\\right), \\  \\left( b^{(63)}_{3}, \\  3\\right)\\right]$"
      ],
      "text/plain": [
       "<IPython.core.display.Math object>"
      ]
     },
     "metadata": {},
     "output_type": "display_data"
    },
    {
     "data": {
      "text/latex": [
       "$\\displaystyle \\left[\\begin{matrix}a^{(63)}_{3} b^{(63)}_{3} & 0 & 0 & 0 & a^{(63)}_{1} b^{(63)}_{3} & a^{(63)}_{1} a^{(63)}_{3}\\\\0 & b^{(63)}_{3} & 0 & 0 & 0 & b^{(63)}_{1}\\\\0 & 0 & a^{(63)}_{3} b^{(63)}_{3} & 0 & a^{(63)}_{2} b^{(63)}_{3} & a^{(63)}_{2} a^{(63)}_{3}\\\\0 & 0 & 0 & b^{(63)}_{3} & 0 & b^{(63)}_{2}\\\\0 & 0 & 0 & 0 & b^{(63)}_{3} & a^{(63)}_{3}\\\\0 & 0 & 0 & 0 & 0 & 1\\end{matrix}\\right]$"
      ],
      "text/plain": [
       "<IPython.core.display.Math object>"
      ]
     },
     "metadata": {},
     "output_type": "display_data"
    },
    {
     "data": {
      "text/latex": [
       "$\\displaystyle a_{1} = a^{(63)}_{1} a^{(63)}_{3} b^{(63)}_{3}$"
      ],
      "text/plain": [
       "<IPython.core.display.Math object>"
      ]
     },
     "metadata": {},
     "output_type": "display_data"
    },
    {
     "data": {
      "text/latex": [
       "$\\displaystyle b_{1} = b^{(63)}_{1} b^{(63)}_{3}$"
      ],
      "text/plain": [
       "<IPython.core.display.Math object>"
      ]
     },
     "metadata": {},
     "output_type": "display_data"
    },
    {
     "data": {
      "text/latex": [
       "$\\displaystyle a_{2} = a^{(63)}_{2} a^{(63)}_{3} b^{(63)}_{3}$"
      ],
      "text/plain": [
       "<IPython.core.display.Math object>"
      ]
     },
     "metadata": {},
     "output_type": "display_data"
    },
    {
     "data": {
      "text/latex": [
       "$\\displaystyle b_{2} = b^{(63)}_{2} b^{(63)}_{3}$"
      ],
      "text/plain": [
       "<IPython.core.display.Math object>"
      ]
     },
     "metadata": {},
     "output_type": "display_data"
    },
    {
     "data": {
      "text/latex": [
       "$\\displaystyle a_{3} = a^{(63)}_{3} b^{(63)}_{3}$"
      ],
      "text/plain": [
       "<IPython.core.display.Math object>"
      ]
     },
     "metadata": {},
     "output_type": "display_data"
    },
    {
     "data": {
      "text/latex": [
       "$\\displaystyle b_{3} = b^{(63)}_{3}$"
      ],
      "text/plain": [
       "<IPython.core.display.Math object>"
      ]
     },
     "metadata": {},
     "output_type": "display_data"
    },
    {
     "data": {
      "text/latex": [
       "$\\displaystyle \\left(a^{(63)}_{3}\\right)^{2} \\left(b^{(63)}_{3}\\right)^{4} \\left(a^{(63)}_{1} b^{(63)}_{1} + a^{(63)}_{2} b^{(63)}_{2} + 1\\right)^{2}$"
      ],
      "text/plain": [
       "<IPython.core.display.Math object>"
      ]
     },
     "metadata": {},
     "output_type": "display_data"
    },
    {
     "name": "stdout",
     "output_type": "stream",
     "text": [
      "\n",
      "-----------\n",
      "Is leaf. Is normal crossing? True\n"
     ]
    },
    {
     "data": {
      "text/latex": [
       "$\\displaystyle a^{(623)}_{2} a^{(623)}_{3} \\left(b^{(623)}_{3}\\right)^{2} \\left(a^{(623)}_{1} b^{(623)}_{1} + b^{(623)}_{2} + 1\\right)$"
      ],
      "text/plain": [
       "<IPython.core.display.Math object>"
      ]
     },
     "metadata": {},
     "output_type": "display_data"
    },
    {
     "data": {
      "text/latex": [
       "$\\displaystyle \\left(a^{(623)}_{2}\\right)^{2} \\left(a^{(623)}_{3}\\right)^{2} \\left(b^{(623)}_{3}\\right)^{5}$"
      ],
      "text/plain": [
       "<IPython.core.display.Math object>"
      ]
     },
     "metadata": {},
     "output_type": "display_data"
    },
    {
     "data": {
      "text/latex": [
       "$\\displaystyle RLCTS = \\left[ \\left( a^{(623)}_{2}, \\  3\\right), \\  \\left( a^{(623)}_{3}, \\  3\\right), \\  \\left( b^{(623)}_{3}, \\  3\\right)\\right]$"
      ],
      "text/plain": [
       "<IPython.core.display.Math object>"
      ]
     },
     "metadata": {},
     "output_type": "display_data"
    },
    {
     "data": {
      "text/latex": [
       "$\\displaystyle \\left[\\begin{matrix}a^{(623)}_{2} a^{(623)}_{3} b^{(623)}_{3} & 0 & a^{(623)}_{1} a^{(623)}_{3} b^{(623)}_{3} & 0 & a^{(623)}_{1} a^{(623)}_{2} b^{(623)}_{3} & a^{(623)}_{1} a^{(623)}_{2} a^{(623)}_{3}\\\\0 & b^{(623)}_{3} & 0 & 0 & 0 & b^{(623)}_{1}\\\\0 & 0 & b^{(623)}_{3} & 0 & 0 & a^{(623)}_{2}\\\\0 & 0 & 0 & a^{(623)}_{3} b^{(623)}_{3} & b^{(623)}_{2} b^{(623)}_{3} & a^{(623)}_{3} b^{(623)}_{2}\\\\0 & 0 & a^{(623)}_{3} b^{(623)}_{3} & 0 & a^{(623)}_{2} b^{(623)}_{3} & a^{(623)}_{2} a^{(623)}_{3}\\\\0 & 0 & 0 & 0 & 0 & 1\\end{matrix}\\right]$"
      ],
      "text/plain": [
       "<IPython.core.display.Math object>"
      ]
     },
     "metadata": {},
     "output_type": "display_data"
    },
    {
     "data": {
      "text/latex": [
       "$\\displaystyle a_{1} = a^{(623)}_{1} a^{(623)}_{2} a^{(623)}_{3} b^{(623)}_{3}$"
      ],
      "text/plain": [
       "<IPython.core.display.Math object>"
      ]
     },
     "metadata": {},
     "output_type": "display_data"
    },
    {
     "data": {
      "text/latex": [
       "$\\displaystyle b_{1} = b^{(623)}_{1} b^{(623)}_{3}$"
      ],
      "text/plain": [
       "<IPython.core.display.Math object>"
      ]
     },
     "metadata": {},
     "output_type": "display_data"
    },
    {
     "data": {
      "text/latex": [
       "$\\displaystyle a_{2} = a^{(623)}_{2} b^{(623)}_{3}$"
      ],
      "text/plain": [
       "<IPython.core.display.Math object>"
      ]
     },
     "metadata": {},
     "output_type": "display_data"
    },
    {
     "data": {
      "text/latex": [
       "$\\displaystyle b_{2} = a^{(623)}_{3} b^{(623)}_{2} b^{(623)}_{3}$"
      ],
      "text/plain": [
       "<IPython.core.display.Math object>"
      ]
     },
     "metadata": {},
     "output_type": "display_data"
    },
    {
     "data": {
      "text/latex": [
       "$\\displaystyle a_{3} = a^{(623)}_{2} a^{(623)}_{3} b^{(623)}_{3}$"
      ],
      "text/plain": [
       "<IPython.core.display.Math object>"
      ]
     },
     "metadata": {},
     "output_type": "display_data"
    },
    {
     "data": {
      "text/latex": [
       "$\\displaystyle b_{3} = b^{(623)}_{3}$"
      ],
      "text/plain": [
       "<IPython.core.display.Math object>"
      ]
     },
     "metadata": {},
     "output_type": "display_data"
    },
    {
     "data": {
      "text/latex": [
       "$\\displaystyle \\left(a^{(623)}_{2}\\right)^{2} \\left(a^{(623)}_{3}\\right)^{2} \\left(b^{(623)}_{3}\\right)^{4} \\left(a^{(623)}_{1} b^{(623)}_{1} + b^{(623)}_{2} + 1\\right)^{2}$"
      ],
      "text/plain": [
       "<IPython.core.display.Math object>"
      ]
     },
     "metadata": {},
     "output_type": "display_data"
    },
    {
     "name": "stdout",
     "output_type": "stream",
     "text": [
      "\n",
      "-----------\n",
      "Is leaf. Is normal crossing? True\n"
     ]
    },
    {
     "data": {
      "text/latex": [
       "$\\displaystyle a^{(622)}_{2} b^{(622)}_{2} \\left(b^{(622)}_{3}\\right)^{2} \\left(a^{(622)}_{1} b^{(622)}_{1} + a^{(622)}_{3} + 1\\right)$"
      ],
      "text/plain": [
       "<IPython.core.display.Math object>"
      ]
     },
     "metadata": {},
     "output_type": "display_data"
    },
    {
     "data": {
      "text/latex": [
       "$\\displaystyle \\left(a^{(622)}_{2}\\right)^{2} \\left(b^{(622)}_{2}\\right)^{2} \\left(b^{(622)}_{3}\\right)^{5}$"
      ],
      "text/plain": [
       "<IPython.core.display.Math object>"
      ]
     },
     "metadata": {},
     "output_type": "display_data"
    },
    {
     "data": {
      "text/latex": [
       "$\\displaystyle RLCTS = \\left[ \\left( a^{(622)}_{2}, \\  3\\right), \\  \\left( b^{(622)}_{2}, \\  3\\right), \\  \\left( b^{(622)}_{3}, \\  3\\right)\\right]$"
      ],
      "text/plain": [
       "<IPython.core.display.Math object>"
      ]
     },
     "metadata": {},
     "output_type": "display_data"
    },
    {
     "data": {
      "text/latex": [
       "$\\displaystyle \\left[\\begin{matrix}a^{(622)}_{2} b^{(622)}_{2} b^{(622)}_{3} & 0 & a^{(622)}_{1} b^{(622)}_{2} b^{(622)}_{3} & a^{(622)}_{1} a^{(622)}_{2} b^{(622)}_{3} & 0 & a^{(622)}_{1} a^{(622)}_{2} b^{(622)}_{2}\\\\0 & b^{(622)}_{3} & 0 & 0 & 0 & b^{(622)}_{1}\\\\0 & 0 & b^{(622)}_{3} & 0 & 0 & a^{(622)}_{2}\\\\0 & 0 & 0 & b^{(622)}_{3} & 0 & b^{(622)}_{2}\\\\0 & 0 & a^{(622)}_{3} b^{(622)}_{2} b^{(622)}_{3} & a^{(622)}_{2} a^{(622)}_{3} b^{(622)}_{3} & a^{(622)}_{2} b^{(622)}_{2} b^{(622)}_{3} & a^{(622)}_{2} a^{(622)}_{3} b^{(622)}_{2}\\\\0 & 0 & 0 & 0 & 0 & 1\\end{matrix}\\right]$"
      ],
      "text/plain": [
       "<IPython.core.display.Math object>"
      ]
     },
     "metadata": {},
     "output_type": "display_data"
    },
    {
     "data": {
      "text/latex": [
       "$\\displaystyle a_{1} = a^{(622)}_{1} a^{(622)}_{2} b^{(622)}_{2} b^{(622)}_{3}$"
      ],
      "text/plain": [
       "<IPython.core.display.Math object>"
      ]
     },
     "metadata": {},
     "output_type": "display_data"
    },
    {
     "data": {
      "text/latex": [
       "$\\displaystyle b_{1} = b^{(622)}_{1} b^{(622)}_{3}$"
      ],
      "text/plain": [
       "<IPython.core.display.Math object>"
      ]
     },
     "metadata": {},
     "output_type": "display_data"
    },
    {
     "data": {
      "text/latex": [
       "$\\displaystyle a_{2} = a^{(622)}_{2} b^{(622)}_{3}$"
      ],
      "text/plain": [
       "<IPython.core.display.Math object>"
      ]
     },
     "metadata": {},
     "output_type": "display_data"
    },
    {
     "data": {
      "text/latex": [
       "$\\displaystyle b_{2} = b^{(622)}_{2} b^{(622)}_{3}$"
      ],
      "text/plain": [
       "<IPython.core.display.Math object>"
      ]
     },
     "metadata": {},
     "output_type": "display_data"
    },
    {
     "data": {
      "text/latex": [
       "$\\displaystyle a_{3} = a^{(622)}_{2} a^{(622)}_{3} b^{(622)}_{2} b^{(622)}_{3}$"
      ],
      "text/plain": [
       "<IPython.core.display.Math object>"
      ]
     },
     "metadata": {},
     "output_type": "display_data"
    },
    {
     "data": {
      "text/latex": [
       "$\\displaystyle b_{3} = b^{(622)}_{3}$"
      ],
      "text/plain": [
       "<IPython.core.display.Math object>"
      ]
     },
     "metadata": {},
     "output_type": "display_data"
    },
    {
     "data": {
      "text/latex": [
       "$\\displaystyle \\left(a^{(622)}_{2}\\right)^{2} \\left(b^{(622)}_{2}\\right)^{2} \\left(b^{(622)}_{3}\\right)^{4} \\left(a^{(622)}_{1} b^{(622)}_{1} + a^{(622)}_{3} + 1\\right)^{2}$"
      ],
      "text/plain": [
       "<IPython.core.display.Math object>"
      ]
     },
     "metadata": {},
     "output_type": "display_data"
    },
    {
     "name": "stdout",
     "output_type": "stream",
     "text": [
      "\n",
      "-----------\n",
      "Is leaf. Is normal crossing? True\n"
     ]
    },
    {
     "data": {
      "text/latex": [
       "$\\displaystyle a^{(6213)}_{1} a^{(6213)}_{2} a^{(6213)}_{3} \\left(b^{(6213)}_{3}\\right)^{2} \\left(b^{(6213)}_{1} + b^{(6213)}_{2} + 1\\right)$"
      ],
      "text/plain": [
       "<IPython.core.display.Math object>"
      ]
     },
     "metadata": {},
     "output_type": "display_data"
    },
    {
     "data": {
      "text/latex": [
       "$\\displaystyle \\left(a^{(6213)}_{1}\\right)^{2} \\left(a^{(6213)}_{2}\\right)^{2} \\left(a^{(6213)}_{3}\\right)^{2} \\left(b^{(6213)}_{3}\\right)^{5}$"
      ],
      "text/plain": [
       "<IPython.core.display.Math object>"
      ]
     },
     "metadata": {},
     "output_type": "display_data"
    },
    {
     "data": {
      "text/latex": [
       "$\\displaystyle RLCTS = \\left[ \\left( a^{(6213)}_{1}, \\  3\\right), \\  \\left( a^{(6213)}_{2}, \\  3\\right), \\  \\left( a^{(6213)}_{3}, \\  3\\right), \\  \\left( b^{(6213)}_{3}, \\  3\\right)\\right]$"
      ],
      "text/plain": [
       "<IPython.core.display.Math object>"
      ]
     },
     "metadata": {},
     "output_type": "display_data"
    },
    {
     "data": {
      "text/latex": [
       "$\\displaystyle \\left[\\begin{matrix}a^{(6213)}_{2} b^{(6213)}_{3} & 0 & a^{(6213)}_{1} b^{(6213)}_{3} & 0 & 0 & a^{(6213)}_{1} a^{(6213)}_{2}\\\\0 & a^{(6213)}_{3} b^{(6213)}_{3} & 0 & 0 & b^{(6213)}_{1} b^{(6213)}_{3} & a^{(6213)}_{3} b^{(6213)}_{1}\\\\0 & 0 & b^{(6213)}_{3} & 0 & 0 & a^{(6213)}_{2}\\\\a^{(6213)}_{3} b^{(6213)}_{2} b^{(6213)}_{3} & 0 & 0 & a^{(6213)}_{1} a^{(6213)}_{3} b^{(6213)}_{3} & a^{(6213)}_{1} b^{(6213)}_{2} b^{(6213)}_{3} & a^{(6213)}_{1} a^{(6213)}_{3} b^{(6213)}_{2}\\\\a^{(6213)}_{2} a^{(6213)}_{3} b^{(6213)}_{3} & 0 & a^{(6213)}_{1} a^{(6213)}_{3} b^{(6213)}_{3} & 0 & a^{(6213)}_{1} a^{(6213)}_{2} b^{(6213)}_{3} & a^{(6213)}_{1} a^{(6213)}_{2} a^{(6213)}_{3}\\\\0 & 0 & 0 & 0 & 0 & 1\\end{matrix}\\right]$"
      ],
      "text/plain": [
       "<IPython.core.display.Math object>"
      ]
     },
     "metadata": {},
     "output_type": "display_data"
    },
    {
     "data": {
      "text/latex": [
       "$\\displaystyle a_{1} = a^{(6213)}_{1} a^{(6213)}_{2} b^{(6213)}_{3}$"
      ],
      "text/plain": [
       "<IPython.core.display.Math object>"
      ]
     },
     "metadata": {},
     "output_type": "display_data"
    },
    {
     "data": {
      "text/latex": [
       "$\\displaystyle b_{1} = a^{(6213)}_{3} b^{(6213)}_{1} b^{(6213)}_{3}$"
      ],
      "text/plain": [
       "<IPython.core.display.Math object>"
      ]
     },
     "metadata": {},
     "output_type": "display_data"
    },
    {
     "data": {
      "text/latex": [
       "$\\displaystyle a_{2} = a^{(6213)}_{2} b^{(6213)}_{3}$"
      ],
      "text/plain": [
       "<IPython.core.display.Math object>"
      ]
     },
     "metadata": {},
     "output_type": "display_data"
    },
    {
     "data": {
      "text/latex": [
       "$\\displaystyle b_{2} = a^{(6213)}_{1} a^{(6213)}_{3} b^{(6213)}_{2} b^{(6213)}_{3}$"
      ],
      "text/plain": [
       "<IPython.core.display.Math object>"
      ]
     },
     "metadata": {},
     "output_type": "display_data"
    },
    {
     "data": {
      "text/latex": [
       "$\\displaystyle a_{3} = a^{(6213)}_{1} a^{(6213)}_{2} a^{(6213)}_{3} b^{(6213)}_{3}$"
      ],
      "text/plain": [
       "<IPython.core.display.Math object>"
      ]
     },
     "metadata": {},
     "output_type": "display_data"
    },
    {
     "data": {
      "text/latex": [
       "$\\displaystyle b_{3} = b^{(6213)}_{3}$"
      ],
      "text/plain": [
       "<IPython.core.display.Math object>"
      ]
     },
     "metadata": {},
     "output_type": "display_data"
    },
    {
     "data": {
      "text/latex": [
       "$\\displaystyle \\left(a^{(6213)}_{1}\\right)^{2} \\left(a^{(6213)}_{2}\\right)^{2} \\left(a^{(6213)}_{3}\\right)^{2} \\left(b^{(6213)}_{3}\\right)^{4} \\left(b^{(6213)}_{1} + b^{(6213)}_{2} + 1\\right)^{2}$"
      ],
      "text/plain": [
       "<IPython.core.display.Math object>"
      ]
     },
     "metadata": {},
     "output_type": "display_data"
    },
    {
     "name": "stdout",
     "output_type": "stream",
     "text": [
      "\n",
      "-----------\n",
      "Is leaf. Is normal crossing? True\n"
     ]
    },
    {
     "data": {
      "text/latex": [
       "$\\displaystyle a^{(6212)}_{1} a^{(6212)}_{2} b^{(6212)}_{2} \\left(b^{(6212)}_{3}\\right)^{2} \\left(a^{(6212)}_{3} + b^{(6212)}_{1} + 1\\right)$"
      ],
      "text/plain": [
       "<IPython.core.display.Math object>"
      ]
     },
     "metadata": {},
     "output_type": "display_data"
    },
    {
     "data": {
      "text/latex": [
       "$\\displaystyle \\left(a^{(6212)}_{1}\\right)^{2} \\left(a^{(6212)}_{2}\\right)^{2} \\left(b^{(6212)}_{2}\\right)^{2} \\left(b^{(6212)}_{3}\\right)^{5}$"
      ],
      "text/plain": [
       "<IPython.core.display.Math object>"
      ]
     },
     "metadata": {},
     "output_type": "display_data"
    },
    {
     "data": {
      "text/latex": [
       "$\\displaystyle RLCTS = \\left[ \\left( a^{(6212)}_{1}, \\  3\\right), \\  \\left( a^{(6212)}_{2}, \\  3\\right), \\  \\left( b^{(6212)}_{2}, \\  3\\right), \\  \\left( b^{(6212)}_{3}, \\  3\\right)\\right]$"
      ],
      "text/plain": [
       "<IPython.core.display.Math object>"
      ]
     },
     "metadata": {},
     "output_type": "display_data"
    },
    {
     "data": {
      "text/latex": [
       "$\\displaystyle \\left[\\begin{matrix}a^{(6212)}_{2} b^{(6212)}_{3} & 0 & a^{(6212)}_{1} b^{(6212)}_{3} & 0 & 0 & a^{(6212)}_{1} a^{(6212)}_{2}\\\\0 & b^{(6212)}_{2} b^{(6212)}_{3} & 0 & b^{(6212)}_{1} b^{(6212)}_{3} & 0 & b^{(6212)}_{1} b^{(6212)}_{2}\\\\0 & 0 & b^{(6212)}_{3} & 0 & 0 & a^{(6212)}_{2}\\\\b^{(6212)}_{2} b^{(6212)}_{3} & 0 & 0 & a^{(6212)}_{1} b^{(6212)}_{3} & 0 & a^{(6212)}_{1} b^{(6212)}_{2}\\\\a^{(6212)}_{2} a^{(6212)}_{3} b^{(6212)}_{2} b^{(6212)}_{3} & 0 & a^{(6212)}_{1} a^{(6212)}_{3} b^{(6212)}_{2} b^{(6212)}_{3} & a^{(6212)}_{1} a^{(6212)}_{2} a^{(6212)}_{3} b^{(6212)}_{3} & a^{(6212)}_{1} a^{(6212)}_{2} b^{(6212)}_{2} b^{(6212)}_{3} & a^{(6212)}_{1} a^{(6212)}_{2} a^{(6212)}_{3} b^{(6212)}_{2}\\\\0 & 0 & 0 & 0 & 0 & 1\\end{matrix}\\right]$"
      ],
      "text/plain": [
       "<IPython.core.display.Math object>"
      ]
     },
     "metadata": {},
     "output_type": "display_data"
    },
    {
     "data": {
      "text/latex": [
       "$\\displaystyle a_{1} = a^{(6212)}_{1} a^{(6212)}_{2} b^{(6212)}_{3}$"
      ],
      "text/plain": [
       "<IPython.core.display.Math object>"
      ]
     },
     "metadata": {},
     "output_type": "display_data"
    },
    {
     "data": {
      "text/latex": [
       "$\\displaystyle b_{1} = b^{(6212)}_{1} b^{(6212)}_{2} b^{(6212)}_{3}$"
      ],
      "text/plain": [
       "<IPython.core.display.Math object>"
      ]
     },
     "metadata": {},
     "output_type": "display_data"
    },
    {
     "data": {
      "text/latex": [
       "$\\displaystyle a_{2} = a^{(6212)}_{2} b^{(6212)}_{3}$"
      ],
      "text/plain": [
       "<IPython.core.display.Math object>"
      ]
     },
     "metadata": {},
     "output_type": "display_data"
    },
    {
     "data": {
      "text/latex": [
       "$\\displaystyle b_{2} = a^{(6212)}_{1} b^{(6212)}_{2} b^{(6212)}_{3}$"
      ],
      "text/plain": [
       "<IPython.core.display.Math object>"
      ]
     },
     "metadata": {},
     "output_type": "display_data"
    },
    {
     "data": {
      "text/latex": [
       "$\\displaystyle a_{3} = a^{(6212)}_{1} a^{(6212)}_{2} a^{(6212)}_{3} b^{(6212)}_{2} b^{(6212)}_{3}$"
      ],
      "text/plain": [
       "<IPython.core.display.Math object>"
      ]
     },
     "metadata": {},
     "output_type": "display_data"
    },
    {
     "data": {
      "text/latex": [
       "$\\displaystyle b_{3} = b^{(6212)}_{3}$"
      ],
      "text/plain": [
       "<IPython.core.display.Math object>"
      ]
     },
     "metadata": {},
     "output_type": "display_data"
    },
    {
     "data": {
      "text/latex": [
       "$\\displaystyle \\left(a^{(6212)}_{1}\\right)^{2} \\left(a^{(6212)}_{2}\\right)^{2} \\left(b^{(6212)}_{2}\\right)^{2} \\left(b^{(6212)}_{3}\\right)^{4} \\left(a^{(6212)}_{3} + b^{(6212)}_{1} + 1\\right)^{2}$"
      ],
      "text/plain": [
       "<IPython.core.display.Math object>"
      ]
     },
     "metadata": {},
     "output_type": "display_data"
    },
    {
     "name": "stdout",
     "output_type": "stream",
     "text": [
      "\n",
      "-----------\n",
      "Is leaf. Is normal crossing? True\n"
     ]
    },
    {
     "data": {
      "text/latex": [
       "$\\displaystyle a^{(6211)}_{1} a^{(6211)}_{2} b^{(6211)}_{1} \\left(b^{(6211)}_{3}\\right)^{2} \\left(a^{(6211)}_{3} + b^{(6211)}_{2} + 1\\right)$"
      ],
      "text/plain": [
       "<IPython.core.display.Math object>"
      ]
     },
     "metadata": {},
     "output_type": "display_data"
    },
    {
     "data": {
      "text/latex": [
       "$\\displaystyle \\left(a^{(6211)}_{1}\\right)^{2} \\left(a^{(6211)}_{2}\\right)^{2} \\left(b^{(6211)}_{1}\\right)^{2} \\left(b^{(6211)}_{3}\\right)^{5}$"
      ],
      "text/plain": [
       "<IPython.core.display.Math object>"
      ]
     },
     "metadata": {},
     "output_type": "display_data"
    },
    {
     "data": {
      "text/latex": [
       "$\\displaystyle RLCTS = \\left[ \\left( a^{(6211)}_{1}, \\  3\\right), \\  \\left( a^{(6211)}_{2}, \\  3\\right), \\  \\left( b^{(6211)}_{1}, \\  3\\right), \\  \\left( b^{(6211)}_{3}, \\  3\\right)\\right]$"
      ],
      "text/plain": [
       "<IPython.core.display.Math object>"
      ]
     },
     "metadata": {},
     "output_type": "display_data"
    },
    {
     "data": {
      "text/latex": [
       "$\\displaystyle \\left[\\begin{matrix}a^{(6211)}_{2} b^{(6211)}_{3} & 0 & a^{(6211)}_{1} b^{(6211)}_{3} & 0 & 0 & a^{(6211)}_{1} a^{(6211)}_{2}\\\\0 & b^{(6211)}_{3} & 0 & 0 & 0 & b^{(6211)}_{1}\\\\0 & 0 & b^{(6211)}_{3} & 0 & 0 & a^{(6211)}_{2}\\\\b^{(6211)}_{1} b^{(6211)}_{2} b^{(6211)}_{3} & a^{(6211)}_{1} b^{(6211)}_{2} b^{(6211)}_{3} & 0 & a^{(6211)}_{1} b^{(6211)}_{1} b^{(6211)}_{3} & 0 & a^{(6211)}_{1} b^{(6211)}_{1} b^{(6211)}_{2}\\\\a^{(6211)}_{2} a^{(6211)}_{3} b^{(6211)}_{1} b^{(6211)}_{3} & a^{(6211)}_{1} a^{(6211)}_{2} a^{(6211)}_{3} b^{(6211)}_{3} & a^{(6211)}_{1} a^{(6211)}_{3} b^{(6211)}_{1} b^{(6211)}_{3} & 0 & a^{(6211)}_{1} a^{(6211)}_{2} b^{(6211)}_{1} b^{(6211)}_{3} & a^{(6211)}_{1} a^{(6211)}_{2} a^{(6211)}_{3} b^{(6211)}_{1}\\\\0 & 0 & 0 & 0 & 0 & 1\\end{matrix}\\right]$"
      ],
      "text/plain": [
       "<IPython.core.display.Math object>"
      ]
     },
     "metadata": {},
     "output_type": "display_data"
    },
    {
     "data": {
      "text/latex": [
       "$\\displaystyle a_{1} = a^{(6211)}_{1} a^{(6211)}_{2} b^{(6211)}_{3}$"
      ],
      "text/plain": [
       "<IPython.core.display.Math object>"
      ]
     },
     "metadata": {},
     "output_type": "display_data"
    },
    {
     "data": {
      "text/latex": [
       "$\\displaystyle b_{1} = b^{(6211)}_{1} b^{(6211)}_{3}$"
      ],
      "text/plain": [
       "<IPython.core.display.Math object>"
      ]
     },
     "metadata": {},
     "output_type": "display_data"
    },
    {
     "data": {
      "text/latex": [
       "$\\displaystyle a_{2} = a^{(6211)}_{2} b^{(6211)}_{3}$"
      ],
      "text/plain": [
       "<IPython.core.display.Math object>"
      ]
     },
     "metadata": {},
     "output_type": "display_data"
    },
    {
     "data": {
      "text/latex": [
       "$\\displaystyle b_{2} = a^{(6211)}_{1} b^{(6211)}_{1} b^{(6211)}_{2} b^{(6211)}_{3}$"
      ],
      "text/plain": [
       "<IPython.core.display.Math object>"
      ]
     },
     "metadata": {},
     "output_type": "display_data"
    },
    {
     "data": {
      "text/latex": [
       "$\\displaystyle a_{3} = a^{(6211)}_{1} a^{(6211)}_{2} a^{(6211)}_{3} b^{(6211)}_{1} b^{(6211)}_{3}$"
      ],
      "text/plain": [
       "<IPython.core.display.Math object>"
      ]
     },
     "metadata": {},
     "output_type": "display_data"
    },
    {
     "data": {
      "text/latex": [
       "$\\displaystyle b_{3} = b^{(6211)}_{3}$"
      ],
      "text/plain": [
       "<IPython.core.display.Math object>"
      ]
     },
     "metadata": {},
     "output_type": "display_data"
    },
    {
     "data": {
      "text/latex": [
       "$\\displaystyle \\left(a^{(6211)}_{1}\\right)^{2} \\left(a^{(6211)}_{2}\\right)^{2} \\left(b^{(6211)}_{1}\\right)^{2} \\left(b^{(6211)}_{3}\\right)^{4} \\left(a^{(6211)}_{3} + b^{(6211)}_{2} + 1\\right)^{2}$"
      ],
      "text/plain": [
       "<IPython.core.display.Math object>"
      ]
     },
     "metadata": {},
     "output_type": "display_data"
    },
    {
     "name": "stdout",
     "output_type": "stream",
     "text": [
      "\n",
      "-----------\n",
      "Is leaf. Is normal crossing? True\n"
     ]
    },
    {
     "data": {
      "text/latex": [
       "$\\displaystyle a^{(613)}_{1} a^{(613)}_{3} \\left(b^{(613)}_{3}\\right)^{2} \\left(a^{(613)}_{2} b^{(613)}_{2} + b^{(613)}_{1} + 1\\right)$"
      ],
      "text/plain": [
       "<IPython.core.display.Math object>"
      ]
     },
     "metadata": {},
     "output_type": "display_data"
    },
    {
     "data": {
      "text/latex": [
       "$\\displaystyle \\left(a^{(613)}_{1}\\right)^{2} \\left(a^{(613)}_{3}\\right)^{2} \\left(b^{(613)}_{3}\\right)^{5}$"
      ],
      "text/plain": [
       "<IPython.core.display.Math object>"
      ]
     },
     "metadata": {},
     "output_type": "display_data"
    },
    {
     "data": {
      "text/latex": [
       "$\\displaystyle RLCTS = \\left[ \\left( a^{(613)}_{1}, \\  3\\right), \\  \\left( a^{(613)}_{3}, \\  3\\right), \\  \\left( b^{(613)}_{3}, \\  3\\right)\\right]$"
      ],
      "text/plain": [
       "<IPython.core.display.Math object>"
      ]
     },
     "metadata": {},
     "output_type": "display_data"
    },
    {
     "data": {
      "text/latex": [
       "$\\displaystyle \\left[\\begin{matrix}b^{(613)}_{3} & 0 & 0 & 0 & 0 & a^{(613)}_{1}\\\\0 & a^{(613)}_{3} b^{(613)}_{3} & 0 & 0 & b^{(613)}_{1} b^{(613)}_{3} & a^{(613)}_{3} b^{(613)}_{1}\\\\a^{(613)}_{2} a^{(613)}_{3} b^{(613)}_{3} & 0 & a^{(613)}_{1} a^{(613)}_{3} b^{(613)}_{3} & 0 & a^{(613)}_{1} a^{(613)}_{2} b^{(613)}_{3} & a^{(613)}_{1} a^{(613)}_{2} a^{(613)}_{3}\\\\0 & 0 & 0 & b^{(613)}_{3} & 0 & b^{(613)}_{2}\\\\a^{(613)}_{3} b^{(613)}_{3} & 0 & 0 & 0 & a^{(613)}_{1} b^{(613)}_{3} & a^{(613)}_{1} a^{(613)}_{3}\\\\0 & 0 & 0 & 0 & 0 & 1\\end{matrix}\\right]$"
      ],
      "text/plain": [
       "<IPython.core.display.Math object>"
      ]
     },
     "metadata": {},
     "output_type": "display_data"
    },
    {
     "data": {
      "text/latex": [
       "$\\displaystyle a_{1} = a^{(613)}_{1} b^{(613)}_{3}$"
      ],
      "text/plain": [
       "<IPython.core.display.Math object>"
      ]
     },
     "metadata": {},
     "output_type": "display_data"
    },
    {
     "data": {
      "text/latex": [
       "$\\displaystyle b_{1} = a^{(613)}_{3} b^{(613)}_{1} b^{(613)}_{3}$"
      ],
      "text/plain": [
       "<IPython.core.display.Math object>"
      ]
     },
     "metadata": {},
     "output_type": "display_data"
    },
    {
     "data": {
      "text/latex": [
       "$\\displaystyle a_{2} = a^{(613)}_{1} a^{(613)}_{2} a^{(613)}_{3} b^{(613)}_{3}$"
      ],
      "text/plain": [
       "<IPython.core.display.Math object>"
      ]
     },
     "metadata": {},
     "output_type": "display_data"
    },
    {
     "data": {
      "text/latex": [
       "$\\displaystyle b_{2} = b^{(613)}_{2} b^{(613)}_{3}$"
      ],
      "text/plain": [
       "<IPython.core.display.Math object>"
      ]
     },
     "metadata": {},
     "output_type": "display_data"
    },
    {
     "data": {
      "text/latex": [
       "$\\displaystyle a_{3} = a^{(613)}_{1} a^{(613)}_{3} b^{(613)}_{3}$"
      ],
      "text/plain": [
       "<IPython.core.display.Math object>"
      ]
     },
     "metadata": {},
     "output_type": "display_data"
    },
    {
     "data": {
      "text/latex": [
       "$\\displaystyle b_{3} = b^{(613)}_{3}$"
      ],
      "text/plain": [
       "<IPython.core.display.Math object>"
      ]
     },
     "metadata": {},
     "output_type": "display_data"
    },
    {
     "data": {
      "text/latex": [
       "$\\displaystyle \\left(a^{(613)}_{1}\\right)^{2} \\left(a^{(613)}_{3}\\right)^{2} \\left(b^{(613)}_{3}\\right)^{4} \\left(a^{(613)}_{2} b^{(613)}_{2} + b^{(613)}_{1} + 1\\right)^{2}$"
      ],
      "text/plain": [
       "<IPython.core.display.Math object>"
      ]
     },
     "metadata": {},
     "output_type": "display_data"
    },
    {
     "name": "stdout",
     "output_type": "stream",
     "text": [
      "\n",
      "-----------\n",
      "Is leaf. Is normal crossing? True\n"
     ]
    },
    {
     "data": {
      "text/latex": [
       "$\\displaystyle a^{(6123)}_{1} a^{(6123)}_{2} a^{(6123)}_{3} \\left(b^{(6123)}_{3}\\right)^{2} \\left(b^{(6123)}_{1} + b^{(6123)}_{2} + 1\\right)$"
      ],
      "text/plain": [
       "<IPython.core.display.Math object>"
      ]
     },
     "metadata": {},
     "output_type": "display_data"
    },
    {
     "data": {
      "text/latex": [
       "$\\displaystyle \\left(a^{(6123)}_{1}\\right)^{2} \\left(a^{(6123)}_{2}\\right)^{2} \\left(a^{(6123)}_{3}\\right)^{2} \\left(b^{(6123)}_{3}\\right)^{5}$"
      ],
      "text/plain": [
       "<IPython.core.display.Math object>"
      ]
     },
     "metadata": {},
     "output_type": "display_data"
    },
    {
     "data": {
      "text/latex": [
       "$\\displaystyle RLCTS = \\left[ \\left( a^{(6123)}_{1}, \\  3\\right), \\  \\left( a^{(6123)}_{2}, \\  3\\right), \\  \\left( a^{(6123)}_{3}, \\  3\\right), \\  \\left( b^{(6123)}_{3}, \\  3\\right)\\right]$"
      ],
      "text/plain": [
       "<IPython.core.display.Math object>"
      ]
     },
     "metadata": {},
     "output_type": "display_data"
    },
    {
     "data": {
      "text/latex": [
       "$\\displaystyle \\left[\\begin{matrix}b^{(6123)}_{3} & 0 & 0 & 0 & 0 & a^{(6123)}_{1}\\\\0 & a^{(6123)}_{2} a^{(6123)}_{3} b^{(6123)}_{3} & a^{(6123)}_{3} b^{(6123)}_{1} b^{(6123)}_{3} & 0 & a^{(6123)}_{2} b^{(6123)}_{1} b^{(6123)}_{3} & a^{(6123)}_{2} a^{(6123)}_{3} b^{(6123)}_{1}\\\\a^{(6123)}_{2} b^{(6123)}_{3} & 0 & a^{(6123)}_{1} b^{(6123)}_{3} & 0 & 0 & a^{(6123)}_{1} a^{(6123)}_{2}\\\\0 & 0 & 0 & a^{(6123)}_{3} b^{(6123)}_{3} & b^{(6123)}_{2} b^{(6123)}_{3} & a^{(6123)}_{3} b^{(6123)}_{2}\\\\a^{(6123)}_{2} a^{(6123)}_{3} b^{(6123)}_{3} & 0 & a^{(6123)}_{1} a^{(6123)}_{3} b^{(6123)}_{3} & 0 & a^{(6123)}_{1} a^{(6123)}_{2} b^{(6123)}_{3} & a^{(6123)}_{1} a^{(6123)}_{2} a^{(6123)}_{3}\\\\0 & 0 & 0 & 0 & 0 & 1\\end{matrix}\\right]$"
      ],
      "text/plain": [
       "<IPython.core.display.Math object>"
      ]
     },
     "metadata": {},
     "output_type": "display_data"
    },
    {
     "data": {
      "text/latex": [
       "$\\displaystyle a_{1} = a^{(6123)}_{1} b^{(6123)}_{3}$"
      ],
      "text/plain": [
       "<IPython.core.display.Math object>"
      ]
     },
     "metadata": {},
     "output_type": "display_data"
    },
    {
     "data": {
      "text/latex": [
       "$\\displaystyle b_{1} = a^{(6123)}_{2} a^{(6123)}_{3} b^{(6123)}_{1} b^{(6123)}_{3}$"
      ],
      "text/plain": [
       "<IPython.core.display.Math object>"
      ]
     },
     "metadata": {},
     "output_type": "display_data"
    },
    {
     "data": {
      "text/latex": [
       "$\\displaystyle a_{2} = a^{(6123)}_{1} a^{(6123)}_{2} b^{(6123)}_{3}$"
      ],
      "text/plain": [
       "<IPython.core.display.Math object>"
      ]
     },
     "metadata": {},
     "output_type": "display_data"
    },
    {
     "data": {
      "text/latex": [
       "$\\displaystyle b_{2} = a^{(6123)}_{3} b^{(6123)}_{2} b^{(6123)}_{3}$"
      ],
      "text/plain": [
       "<IPython.core.display.Math object>"
      ]
     },
     "metadata": {},
     "output_type": "display_data"
    },
    {
     "data": {
      "text/latex": [
       "$\\displaystyle a_{3} = a^{(6123)}_{1} a^{(6123)}_{2} a^{(6123)}_{3} b^{(6123)}_{3}$"
      ],
      "text/plain": [
       "<IPython.core.display.Math object>"
      ]
     },
     "metadata": {},
     "output_type": "display_data"
    },
    {
     "data": {
      "text/latex": [
       "$\\displaystyle b_{3} = b^{(6123)}_{3}$"
      ],
      "text/plain": [
       "<IPython.core.display.Math object>"
      ]
     },
     "metadata": {},
     "output_type": "display_data"
    },
    {
     "data": {
      "text/latex": [
       "$\\displaystyle \\left(a^{(6123)}_{1}\\right)^{2} \\left(a^{(6123)}_{2}\\right)^{2} \\left(a^{(6123)}_{3}\\right)^{2} \\left(b^{(6123)}_{3}\\right)^{4} \\left(b^{(6123)}_{1} + b^{(6123)}_{2} + 1\\right)^{2}$"
      ],
      "text/plain": [
       "<IPython.core.display.Math object>"
      ]
     },
     "metadata": {},
     "output_type": "display_data"
    },
    {
     "name": "stdout",
     "output_type": "stream",
     "text": [
      "\n",
      "-----------\n",
      "Is leaf. Is normal crossing? True\n"
     ]
    },
    {
     "data": {
      "text/latex": [
       "$\\displaystyle a^{(6122)}_{1} a^{(6122)}_{2} b^{(6122)}_{2} \\left(b^{(6122)}_{3}\\right)^{2} \\left(a^{(6122)}_{3} + b^{(6122)}_{1} + 1\\right)$"
      ],
      "text/plain": [
       "<IPython.core.display.Math object>"
      ]
     },
     "metadata": {},
     "output_type": "display_data"
    },
    {
     "data": {
      "text/latex": [
       "$\\displaystyle \\left(a^{(6122)}_{1}\\right)^{2} \\left(a^{(6122)}_{2}\\right)^{2} \\left(b^{(6122)}_{2}\\right)^{2} \\left(b^{(6122)}_{3}\\right)^{5}$"
      ],
      "text/plain": [
       "<IPython.core.display.Math object>"
      ]
     },
     "metadata": {},
     "output_type": "display_data"
    },
    {
     "data": {
      "text/latex": [
       "$\\displaystyle RLCTS = \\left[ \\left( a^{(6122)}_{1}, \\  3\\right), \\  \\left( a^{(6122)}_{2}, \\  3\\right), \\  \\left( b^{(6122)}_{2}, \\  3\\right), \\  \\left( b^{(6122)}_{3}, \\  3\\right)\\right]$"
      ],
      "text/plain": [
       "<IPython.core.display.Math object>"
      ]
     },
     "metadata": {},
     "output_type": "display_data"
    },
    {
     "data": {
      "text/latex": [
       "$\\displaystyle \\left[\\begin{matrix}b^{(6122)}_{3} & 0 & 0 & 0 & 0 & a^{(6122)}_{1}\\\\0 & a^{(6122)}_{2} b^{(6122)}_{2} b^{(6122)}_{3} & b^{(6122)}_{1} b^{(6122)}_{2} b^{(6122)}_{3} & a^{(6122)}_{2} b^{(6122)}_{1} b^{(6122)}_{3} & 0 & a^{(6122)}_{2} b^{(6122)}_{1} b^{(6122)}_{2}\\\\a^{(6122)}_{2} b^{(6122)}_{3} & 0 & a^{(6122)}_{1} b^{(6122)}_{3} & 0 & 0 & a^{(6122)}_{1} a^{(6122)}_{2}\\\\0 & 0 & 0 & b^{(6122)}_{3} & 0 & b^{(6122)}_{2}\\\\a^{(6122)}_{2} a^{(6122)}_{3} b^{(6122)}_{2} b^{(6122)}_{3} & 0 & a^{(6122)}_{1} a^{(6122)}_{3} b^{(6122)}_{2} b^{(6122)}_{3} & a^{(6122)}_{1} a^{(6122)}_{2} a^{(6122)}_{3} b^{(6122)}_{3} & a^{(6122)}_{1} a^{(6122)}_{2} b^{(6122)}_{2} b^{(6122)}_{3} & a^{(6122)}_{1} a^{(6122)}_{2} a^{(6122)}_{3} b^{(6122)}_{2}\\\\0 & 0 & 0 & 0 & 0 & 1\\end{matrix}\\right]$"
      ],
      "text/plain": [
       "<IPython.core.display.Math object>"
      ]
     },
     "metadata": {},
     "output_type": "display_data"
    },
    {
     "data": {
      "text/latex": [
       "$\\displaystyle a_{1} = a^{(6122)}_{1} b^{(6122)}_{3}$"
      ],
      "text/plain": [
       "<IPython.core.display.Math object>"
      ]
     },
     "metadata": {},
     "output_type": "display_data"
    },
    {
     "data": {
      "text/latex": [
       "$\\displaystyle b_{1} = a^{(6122)}_{2} b^{(6122)}_{1} b^{(6122)}_{2} b^{(6122)}_{3}$"
      ],
      "text/plain": [
       "<IPython.core.display.Math object>"
      ]
     },
     "metadata": {},
     "output_type": "display_data"
    },
    {
     "data": {
      "text/latex": [
       "$\\displaystyle a_{2} = a^{(6122)}_{1} a^{(6122)}_{2} b^{(6122)}_{3}$"
      ],
      "text/plain": [
       "<IPython.core.display.Math object>"
      ]
     },
     "metadata": {},
     "output_type": "display_data"
    },
    {
     "data": {
      "text/latex": [
       "$\\displaystyle b_{2} = b^{(6122)}_{2} b^{(6122)}_{3}$"
      ],
      "text/plain": [
       "<IPython.core.display.Math object>"
      ]
     },
     "metadata": {},
     "output_type": "display_data"
    },
    {
     "data": {
      "text/latex": [
       "$\\displaystyle a_{3} = a^{(6122)}_{1} a^{(6122)}_{2} a^{(6122)}_{3} b^{(6122)}_{2} b^{(6122)}_{3}$"
      ],
      "text/plain": [
       "<IPython.core.display.Math object>"
      ]
     },
     "metadata": {},
     "output_type": "display_data"
    },
    {
     "data": {
      "text/latex": [
       "$\\displaystyle b_{3} = b^{(6122)}_{3}$"
      ],
      "text/plain": [
       "<IPython.core.display.Math object>"
      ]
     },
     "metadata": {},
     "output_type": "display_data"
    },
    {
     "data": {
      "text/latex": [
       "$\\displaystyle \\left(a^{(6122)}_{1}\\right)^{2} \\left(a^{(6122)}_{2}\\right)^{2} \\left(b^{(6122)}_{2}\\right)^{2} \\left(b^{(6122)}_{3}\\right)^{4} \\left(a^{(6122)}_{3} + b^{(6122)}_{1} + 1\\right)^{2}$"
      ],
      "text/plain": [
       "<IPython.core.display.Math object>"
      ]
     },
     "metadata": {},
     "output_type": "display_data"
    },
    {
     "name": "stdout",
     "output_type": "stream",
     "text": [
      "\n",
      "-----------\n",
      "Is leaf. Is normal crossing? True\n"
     ]
    },
    {
     "data": {
      "text/latex": [
       "$\\displaystyle a^{(6121)}_{1} a^{(6121)}_{2} b^{(6121)}_{1} \\left(b^{(6121)}_{3}\\right)^{2} \\left(a^{(6121)}_{3} + b^{(6121)}_{2} + 1\\right)$"
      ],
      "text/plain": [
       "<IPython.core.display.Math object>"
      ]
     },
     "metadata": {},
     "output_type": "display_data"
    },
    {
     "data": {
      "text/latex": [
       "$\\displaystyle \\left(a^{(6121)}_{1}\\right)^{2} \\left(a^{(6121)}_{2}\\right)^{2} \\left(b^{(6121)}_{1}\\right)^{2} \\left(b^{(6121)}_{3}\\right)^{5}$"
      ],
      "text/plain": [
       "<IPython.core.display.Math object>"
      ]
     },
     "metadata": {},
     "output_type": "display_data"
    },
    {
     "data": {
      "text/latex": [
       "$\\displaystyle RLCTS = \\left[ \\left( a^{(6121)}_{1}, \\  3\\right), \\  \\left( a^{(6121)}_{2}, \\  3\\right), \\  \\left( b^{(6121)}_{1}, \\  3\\right), \\  \\left( b^{(6121)}_{3}, \\  3\\right)\\right]$"
      ],
      "text/plain": [
       "<IPython.core.display.Math object>"
      ]
     },
     "metadata": {},
     "output_type": "display_data"
    },
    {
     "data": {
      "text/latex": [
       "$\\displaystyle \\left[\\begin{matrix}b^{(6121)}_{3} & 0 & 0 & 0 & 0 & a^{(6121)}_{1}\\\\0 & a^{(6121)}_{2} b^{(6121)}_{3} & b^{(6121)}_{1} b^{(6121)}_{3} & 0 & 0 & a^{(6121)}_{2} b^{(6121)}_{1}\\\\a^{(6121)}_{2} b^{(6121)}_{3} & 0 & a^{(6121)}_{1} b^{(6121)}_{3} & 0 & 0 & a^{(6121)}_{1} a^{(6121)}_{2}\\\\0 & b^{(6121)}_{2} b^{(6121)}_{3} & 0 & b^{(6121)}_{1} b^{(6121)}_{3} & 0 & b^{(6121)}_{1} b^{(6121)}_{2}\\\\a^{(6121)}_{2} a^{(6121)}_{3} b^{(6121)}_{1} b^{(6121)}_{3} & a^{(6121)}_{1} a^{(6121)}_{2} a^{(6121)}_{3} b^{(6121)}_{3} & a^{(6121)}_{1} a^{(6121)}_{3} b^{(6121)}_{1} b^{(6121)}_{3} & 0 & a^{(6121)}_{1} a^{(6121)}_{2} b^{(6121)}_{1} b^{(6121)}_{3} & a^{(6121)}_{1} a^{(6121)}_{2} a^{(6121)}_{3} b^{(6121)}_{1}\\\\0 & 0 & 0 & 0 & 0 & 1\\end{matrix}\\right]$"
      ],
      "text/plain": [
       "<IPython.core.display.Math object>"
      ]
     },
     "metadata": {},
     "output_type": "display_data"
    },
    {
     "data": {
      "text/latex": [
       "$\\displaystyle a_{1} = a^{(6121)}_{1} b^{(6121)}_{3}$"
      ],
      "text/plain": [
       "<IPython.core.display.Math object>"
      ]
     },
     "metadata": {},
     "output_type": "display_data"
    },
    {
     "data": {
      "text/latex": [
       "$\\displaystyle b_{1} = a^{(6121)}_{2} b^{(6121)}_{1} b^{(6121)}_{3}$"
      ],
      "text/plain": [
       "<IPython.core.display.Math object>"
      ]
     },
     "metadata": {},
     "output_type": "display_data"
    },
    {
     "data": {
      "text/latex": [
       "$\\displaystyle a_{2} = a^{(6121)}_{1} a^{(6121)}_{2} b^{(6121)}_{3}$"
      ],
      "text/plain": [
       "<IPython.core.display.Math object>"
      ]
     },
     "metadata": {},
     "output_type": "display_data"
    },
    {
     "data": {
      "text/latex": [
       "$\\displaystyle b_{2} = b^{(6121)}_{1} b^{(6121)}_{2} b^{(6121)}_{3}$"
      ],
      "text/plain": [
       "<IPython.core.display.Math object>"
      ]
     },
     "metadata": {},
     "output_type": "display_data"
    },
    {
     "data": {
      "text/latex": [
       "$\\displaystyle a_{3} = a^{(6121)}_{1} a^{(6121)}_{2} a^{(6121)}_{3} b^{(6121)}_{1} b^{(6121)}_{3}$"
      ],
      "text/plain": [
       "<IPython.core.display.Math object>"
      ]
     },
     "metadata": {},
     "output_type": "display_data"
    },
    {
     "data": {
      "text/latex": [
       "$\\displaystyle b_{3} = b^{(6121)}_{3}$"
      ],
      "text/plain": [
       "<IPython.core.display.Math object>"
      ]
     },
     "metadata": {},
     "output_type": "display_data"
    },
    {
     "data": {
      "text/latex": [
       "$\\displaystyle \\left(a^{(6121)}_{1}\\right)^{2} \\left(a^{(6121)}_{2}\\right)^{2} \\left(b^{(6121)}_{1}\\right)^{2} \\left(b^{(6121)}_{3}\\right)^{4} \\left(a^{(6121)}_{3} + b^{(6121)}_{2} + 1\\right)^{2}$"
      ],
      "text/plain": [
       "<IPython.core.display.Math object>"
      ]
     },
     "metadata": {},
     "output_type": "display_data"
    },
    {
     "name": "stdout",
     "output_type": "stream",
     "text": [
      "\n",
      "-----------\n",
      "Is leaf. Is normal crossing? True\n"
     ]
    },
    {
     "data": {
      "text/latex": [
       "$\\displaystyle a^{(611)}_{1} b^{(611)}_{1} \\left(b^{(611)}_{3}\\right)^{2} \\left(a^{(611)}_{2} b^{(611)}_{2} + a^{(611)}_{3} + 1\\right)$"
      ],
      "text/plain": [
       "<IPython.core.display.Math object>"
      ]
     },
     "metadata": {},
     "output_type": "display_data"
    },
    {
     "data": {
      "text/latex": [
       "$\\displaystyle \\left(a^{(611)}_{1}\\right)^{2} \\left(b^{(611)}_{1}\\right)^{2} \\left(b^{(611)}_{3}\\right)^{5}$"
      ],
      "text/plain": [
       "<IPython.core.display.Math object>"
      ]
     },
     "metadata": {},
     "output_type": "display_data"
    },
    {
     "data": {
      "text/latex": [
       "$\\displaystyle RLCTS = \\left[ \\left( a^{(611)}_{1}, \\  3\\right), \\  \\left( b^{(611)}_{1}, \\  3\\right), \\  \\left( b^{(611)}_{3}, \\  3\\right)\\right]$"
      ],
      "text/plain": [
       "<IPython.core.display.Math object>"
      ]
     },
     "metadata": {},
     "output_type": "display_data"
    },
    {
     "data": {
      "text/latex": [
       "$\\displaystyle \\left[\\begin{matrix}b^{(611)}_{3} & 0 & 0 & 0 & 0 & a^{(611)}_{1}\\\\0 & b^{(611)}_{3} & 0 & 0 & 0 & b^{(611)}_{1}\\\\a^{(611)}_{2} b^{(611)}_{1} b^{(611)}_{3} & a^{(611)}_{1} a^{(611)}_{2} b^{(611)}_{3} & a^{(611)}_{1} b^{(611)}_{1} b^{(611)}_{3} & 0 & 0 & a^{(611)}_{1} a^{(611)}_{2} b^{(611)}_{1}\\\\0 & 0 & 0 & b^{(611)}_{3} & 0 & b^{(611)}_{2}\\\\a^{(611)}_{3} b^{(611)}_{1} b^{(611)}_{3} & a^{(611)}_{1} a^{(611)}_{3} b^{(611)}_{3} & 0 & 0 & a^{(611)}_{1} b^{(611)}_{1} b^{(611)}_{3} & a^{(611)}_{1} a^{(611)}_{3} b^{(611)}_{1}\\\\0 & 0 & 0 & 0 & 0 & 1\\end{matrix}\\right]$"
      ],
      "text/plain": [
       "<IPython.core.display.Math object>"
      ]
     },
     "metadata": {},
     "output_type": "display_data"
    },
    {
     "data": {
      "text/latex": [
       "$\\displaystyle a_{1} = a^{(611)}_{1} b^{(611)}_{3}$"
      ],
      "text/plain": [
       "<IPython.core.display.Math object>"
      ]
     },
     "metadata": {},
     "output_type": "display_data"
    },
    {
     "data": {
      "text/latex": [
       "$\\displaystyle b_{1} = b^{(611)}_{1} b^{(611)}_{3}$"
      ],
      "text/plain": [
       "<IPython.core.display.Math object>"
      ]
     },
     "metadata": {},
     "output_type": "display_data"
    },
    {
     "data": {
      "text/latex": [
       "$\\displaystyle a_{2} = a^{(611)}_{1} a^{(611)}_{2} b^{(611)}_{1} b^{(611)}_{3}$"
      ],
      "text/plain": [
       "<IPython.core.display.Math object>"
      ]
     },
     "metadata": {},
     "output_type": "display_data"
    },
    {
     "data": {
      "text/latex": [
       "$\\displaystyle b_{2} = b^{(611)}_{2} b^{(611)}_{3}$"
      ],
      "text/plain": [
       "<IPython.core.display.Math object>"
      ]
     },
     "metadata": {},
     "output_type": "display_data"
    },
    {
     "data": {
      "text/latex": [
       "$\\displaystyle a_{3} = a^{(611)}_{1} a^{(611)}_{3} b^{(611)}_{1} b^{(611)}_{3}$"
      ],
      "text/plain": [
       "<IPython.core.display.Math object>"
      ]
     },
     "metadata": {},
     "output_type": "display_data"
    },
    {
     "data": {
      "text/latex": [
       "$\\displaystyle b_{3} = b^{(611)}_{3}$"
      ],
      "text/plain": [
       "<IPython.core.display.Math object>"
      ]
     },
     "metadata": {},
     "output_type": "display_data"
    },
    {
     "data": {
      "text/latex": [
       "$\\displaystyle \\left(a^{(611)}_{1}\\right)^{2} \\left(b^{(611)}_{1}\\right)^{2} \\left(b^{(611)}_{3}\\right)^{4} \\left(a^{(611)}_{2} b^{(611)}_{2} + a^{(611)}_{3} + 1\\right)^{2}$"
      ],
      "text/plain": [
       "<IPython.core.display.Math object>"
      ]
     },
     "metadata": {},
     "output_type": "display_data"
    },
    {
     "name": "stdout",
     "output_type": "stream",
     "text": [
      "\n",
      "-----------\n",
      "Is leaf. Is normal crossing? True\n"
     ]
    },
    {
     "data": {
      "text/latex": [
       "$\\displaystyle \\left(a^{(53)}_{3}\\right)^{2} b^{(53)}_{3} \\left(a^{(53)}_{1} b^{(53)}_{1} + a^{(53)}_{2} b^{(53)}_{2} + 1\\right)$"
      ],
      "text/plain": [
       "<IPython.core.display.Math object>"
      ]
     },
     "metadata": {},
     "output_type": "display_data"
    },
    {
     "data": {
      "text/latex": [
       "$\\displaystyle \\left(a^{(53)}_{3}\\right)^{5} \\left(b^{(53)}_{3}\\right)^{2}$"
      ],
      "text/plain": [
       "<IPython.core.display.Math object>"
      ]
     },
     "metadata": {},
     "output_type": "display_data"
    },
    {
     "data": {
      "text/latex": [
       "$\\displaystyle RLCTS = \\left[ \\left( b^{(53)}_{3}, \\  3\\right), \\  \\left( a^{(53)}_{3}, \\  3\\right)\\right]$"
      ],
      "text/plain": [
       "<IPython.core.display.Math object>"
      ]
     },
     "metadata": {},
     "output_type": "display_data"
    },
    {
     "data": {
      "text/latex": [
       "$\\displaystyle \\left[\\begin{matrix}a^{(53)}_{3} b^{(53)}_{3} & 0 & 0 & 0 & a^{(53)}_{1} b^{(53)}_{3} & a^{(53)}_{1} a^{(53)}_{3}\\\\0 & a^{(53)}_{3} & 0 & 0 & b^{(53)}_{1} & 0\\\\0 & 0 & a^{(53)}_{3} b^{(53)}_{3} & 0 & a^{(53)}_{2} b^{(53)}_{3} & a^{(53)}_{2} a^{(53)}_{3}\\\\0 & 0 & 0 & a^{(53)}_{3} & b^{(53)}_{2} & 0\\\\0 & 0 & 0 & 0 & 1 & 0\\\\0 & 0 & 0 & 0 & b^{(53)}_{3} & a^{(53)}_{3}\\end{matrix}\\right]$"
      ],
      "text/plain": [
       "<IPython.core.display.Math object>"
      ]
     },
     "metadata": {},
     "output_type": "display_data"
    },
    {
     "data": {
      "text/latex": [
       "$\\displaystyle a_{1} = a^{(53)}_{1} a^{(53)}_{3} b^{(53)}_{3}$"
      ],
      "text/plain": [
       "<IPython.core.display.Math object>"
      ]
     },
     "metadata": {},
     "output_type": "display_data"
    },
    {
     "data": {
      "text/latex": [
       "$\\displaystyle b_{1} = a^{(53)}_{3} b^{(53)}_{1}$"
      ],
      "text/plain": [
       "<IPython.core.display.Math object>"
      ]
     },
     "metadata": {},
     "output_type": "display_data"
    },
    {
     "data": {
      "text/latex": [
       "$\\displaystyle a_{2} = a^{(53)}_{2} a^{(53)}_{3} b^{(53)}_{3}$"
      ],
      "text/plain": [
       "<IPython.core.display.Math object>"
      ]
     },
     "metadata": {},
     "output_type": "display_data"
    },
    {
     "data": {
      "text/latex": [
       "$\\displaystyle b_{2} = a^{(53)}_{3} b^{(53)}_{2}$"
      ],
      "text/plain": [
       "<IPython.core.display.Math object>"
      ]
     },
     "metadata": {},
     "output_type": "display_data"
    },
    {
     "data": {
      "text/latex": [
       "$\\displaystyle a_{3} = a^{(53)}_{3}$"
      ],
      "text/plain": [
       "<IPython.core.display.Math object>"
      ]
     },
     "metadata": {},
     "output_type": "display_data"
    },
    {
     "data": {
      "text/latex": [
       "$\\displaystyle b_{3} = a^{(53)}_{3} b^{(53)}_{3}$"
      ],
      "text/plain": [
       "<IPython.core.display.Math object>"
      ]
     },
     "metadata": {},
     "output_type": "display_data"
    },
    {
     "data": {
      "text/latex": [
       "$\\displaystyle \\left(a^{(53)}_{3}\\right)^{4} \\left(b^{(53)}_{3}\\right)^{2} \\left(a^{(53)}_{1} b^{(53)}_{1} + a^{(53)}_{2} b^{(53)}_{2} + 1\\right)^{2}$"
      ],
      "text/plain": [
       "<IPython.core.display.Math object>"
      ]
     },
     "metadata": {},
     "output_type": "display_data"
    },
    {
     "name": "stdout",
     "output_type": "stream",
     "text": [
      "\n",
      "-----------\n",
      "Is leaf. Is normal crossing? True\n"
     ]
    },
    {
     "data": {
      "text/latex": [
       "$\\displaystyle a^{(523)}_{2} \\left(a^{(523)}_{3}\\right)^{2} b^{(523)}_{3} \\left(a^{(523)}_{1} b^{(523)}_{1} + b^{(523)}_{2} + 1\\right)$"
      ],
      "text/plain": [
       "<IPython.core.display.Math object>"
      ]
     },
     "metadata": {},
     "output_type": "display_data"
    },
    {
     "data": {
      "text/latex": [
       "$\\displaystyle \\left(a^{(523)}_{2}\\right)^{2} \\left(a^{(523)}_{3}\\right)^{5} \\left(b^{(523)}_{3}\\right)^{2}$"
      ],
      "text/plain": [
       "<IPython.core.display.Math object>"
      ]
     },
     "metadata": {},
     "output_type": "display_data"
    },
    {
     "data": {
      "text/latex": [
       "$\\displaystyle RLCTS = \\left[ \\left( a^{(523)}_{2}, \\  3\\right), \\  \\left( b^{(523)}_{3}, \\  3\\right), \\  \\left( a^{(523)}_{3}, \\  3\\right)\\right]$"
      ],
      "text/plain": [
       "<IPython.core.display.Math object>"
      ]
     },
     "metadata": {},
     "output_type": "display_data"
    },
    {
     "data": {
      "text/latex": [
       "$\\displaystyle \\left[\\begin{matrix}a^{(523)}_{2} a^{(523)}_{3} b^{(523)}_{3} & 0 & a^{(523)}_{1} a^{(523)}_{3} b^{(523)}_{3} & 0 & a^{(523)}_{1} a^{(523)}_{2} b^{(523)}_{3} & a^{(523)}_{1} a^{(523)}_{2} a^{(523)}_{3}\\\\0 & a^{(523)}_{3} & 0 & 0 & b^{(523)}_{1} & 0\\\\0 & 0 & a^{(523)}_{3} & 0 & a^{(523)}_{2} & 0\\\\0 & 0 & 0 & a^{(523)}_{3} b^{(523)}_{3} & b^{(523)}_{2} b^{(523)}_{3} & a^{(523)}_{3} b^{(523)}_{2}\\\\0 & 0 & 0 & 0 & 1 & 0\\\\0 & 0 & a^{(523)}_{3} b^{(523)}_{3} & 0 & a^{(523)}_{2} b^{(523)}_{3} & a^{(523)}_{2} a^{(523)}_{3}\\end{matrix}\\right]$"
      ],
      "text/plain": [
       "<IPython.core.display.Math object>"
      ]
     },
     "metadata": {},
     "output_type": "display_data"
    },
    {
     "data": {
      "text/latex": [
       "$\\displaystyle a_{1} = a^{(523)}_{1} a^{(523)}_{2} a^{(523)}_{3} b^{(523)}_{3}$"
      ],
      "text/plain": [
       "<IPython.core.display.Math object>"
      ]
     },
     "metadata": {},
     "output_type": "display_data"
    },
    {
     "data": {
      "text/latex": [
       "$\\displaystyle b_{1} = a^{(523)}_{3} b^{(523)}_{1}$"
      ],
      "text/plain": [
       "<IPython.core.display.Math object>"
      ]
     },
     "metadata": {},
     "output_type": "display_data"
    },
    {
     "data": {
      "text/latex": [
       "$\\displaystyle a_{2} = a^{(523)}_{2} a^{(523)}_{3}$"
      ],
      "text/plain": [
       "<IPython.core.display.Math object>"
      ]
     },
     "metadata": {},
     "output_type": "display_data"
    },
    {
     "data": {
      "text/latex": [
       "$\\displaystyle b_{2} = a^{(523)}_{3} b^{(523)}_{2} b^{(523)}_{3}$"
      ],
      "text/plain": [
       "<IPython.core.display.Math object>"
      ]
     },
     "metadata": {},
     "output_type": "display_data"
    },
    {
     "data": {
      "text/latex": [
       "$\\displaystyle a_{3} = a^{(523)}_{3}$"
      ],
      "text/plain": [
       "<IPython.core.display.Math object>"
      ]
     },
     "metadata": {},
     "output_type": "display_data"
    },
    {
     "data": {
      "text/latex": [
       "$\\displaystyle b_{3} = a^{(523)}_{2} a^{(523)}_{3} b^{(523)}_{3}$"
      ],
      "text/plain": [
       "<IPython.core.display.Math object>"
      ]
     },
     "metadata": {},
     "output_type": "display_data"
    },
    {
     "data": {
      "text/latex": [
       "$\\displaystyle \\left(a^{(523)}_{2}\\right)^{2} \\left(a^{(523)}_{3}\\right)^{4} \\left(b^{(523)}_{3}\\right)^{2} \\left(a^{(523)}_{1} b^{(523)}_{1} + b^{(523)}_{2} + 1\\right)^{2}$"
      ],
      "text/plain": [
       "<IPython.core.display.Math object>"
      ]
     },
     "metadata": {},
     "output_type": "display_data"
    },
    {
     "name": "stdout",
     "output_type": "stream",
     "text": [
      "\n",
      "-----------\n",
      "Is leaf. Is normal crossing? True\n"
     ]
    },
    {
     "data": {
      "text/latex": [
       "$\\displaystyle a^{(522)}_{2} \\left(a^{(522)}_{3}\\right)^{2} b^{(522)}_{2} \\left(a^{(522)}_{1} b^{(522)}_{1} + b^{(522)}_{3} + 1\\right)$"
      ],
      "text/plain": [
       "<IPython.core.display.Math object>"
      ]
     },
     "metadata": {},
     "output_type": "display_data"
    },
    {
     "data": {
      "text/latex": [
       "$\\displaystyle \\left(a^{(522)}_{2}\\right)^{2} \\left(a^{(522)}_{3}\\right)^{5} \\left(b^{(522)}_{2}\\right)^{2}$"
      ],
      "text/plain": [
       "<IPython.core.display.Math object>"
      ]
     },
     "metadata": {},
     "output_type": "display_data"
    },
    {
     "data": {
      "text/latex": [
       "$\\displaystyle RLCTS = \\left[ \\left( a^{(522)}_{2}, \\  3\\right), \\  \\left( b^{(522)}_{2}, \\  3\\right), \\  \\left( a^{(522)}_{3}, \\  3\\right)\\right]$"
      ],
      "text/plain": [
       "<IPython.core.display.Math object>"
      ]
     },
     "metadata": {},
     "output_type": "display_data"
    },
    {
     "data": {
      "text/latex": [
       "$\\displaystyle \\left[\\begin{matrix}a^{(522)}_{2} a^{(522)}_{3} b^{(522)}_{2} & 0 & a^{(522)}_{1} a^{(522)}_{3} b^{(522)}_{2} & a^{(522)}_{1} a^{(522)}_{2} a^{(522)}_{3} & a^{(522)}_{1} a^{(522)}_{2} b^{(522)}_{2} & 0\\\\0 & a^{(522)}_{3} & 0 & 0 & b^{(522)}_{1} & 0\\\\0 & 0 & a^{(522)}_{3} & 0 & a^{(522)}_{2} & 0\\\\0 & 0 & 0 & a^{(522)}_{3} & b^{(522)}_{2} & 0\\\\0 & 0 & 0 & 0 & 1 & 0\\\\0 & 0 & a^{(522)}_{3} b^{(522)}_{2} b^{(522)}_{3} & a^{(522)}_{2} a^{(522)}_{3} b^{(522)}_{3} & a^{(522)}_{2} b^{(522)}_{2} b^{(522)}_{3} & a^{(522)}_{2} a^{(522)}_{3} b^{(522)}_{2}\\end{matrix}\\right]$"
      ],
      "text/plain": [
       "<IPython.core.display.Math object>"
      ]
     },
     "metadata": {},
     "output_type": "display_data"
    },
    {
     "data": {
      "text/latex": [
       "$\\displaystyle a_{1} = a^{(522)}_{1} a^{(522)}_{2} a^{(522)}_{3} b^{(522)}_{2}$"
      ],
      "text/plain": [
       "<IPython.core.display.Math object>"
      ]
     },
     "metadata": {},
     "output_type": "display_data"
    },
    {
     "data": {
      "text/latex": [
       "$\\displaystyle b_{1} = a^{(522)}_{3} b^{(522)}_{1}$"
      ],
      "text/plain": [
       "<IPython.core.display.Math object>"
      ]
     },
     "metadata": {},
     "output_type": "display_data"
    },
    {
     "data": {
      "text/latex": [
       "$\\displaystyle a_{2} = a^{(522)}_{2} a^{(522)}_{3}$"
      ],
      "text/plain": [
       "<IPython.core.display.Math object>"
      ]
     },
     "metadata": {},
     "output_type": "display_data"
    },
    {
     "data": {
      "text/latex": [
       "$\\displaystyle b_{2} = a^{(522)}_{3} b^{(522)}_{2}$"
      ],
      "text/plain": [
       "<IPython.core.display.Math object>"
      ]
     },
     "metadata": {},
     "output_type": "display_data"
    },
    {
     "data": {
      "text/latex": [
       "$\\displaystyle a_{3} = a^{(522)}_{3}$"
      ],
      "text/plain": [
       "<IPython.core.display.Math object>"
      ]
     },
     "metadata": {},
     "output_type": "display_data"
    },
    {
     "data": {
      "text/latex": [
       "$\\displaystyle b_{3} = a^{(522)}_{2} a^{(522)}_{3} b^{(522)}_{2} b^{(522)}_{3}$"
      ],
      "text/plain": [
       "<IPython.core.display.Math object>"
      ]
     },
     "metadata": {},
     "output_type": "display_data"
    },
    {
     "data": {
      "text/latex": [
       "$\\displaystyle \\left(a^{(522)}_{2}\\right)^{2} \\left(a^{(522)}_{3}\\right)^{4} \\left(b^{(522)}_{2}\\right)^{2} \\left(a^{(522)}_{1} b^{(522)}_{1} + b^{(522)}_{3} + 1\\right)^{2}$"
      ],
      "text/plain": [
       "<IPython.core.display.Math object>"
      ]
     },
     "metadata": {},
     "output_type": "display_data"
    },
    {
     "name": "stdout",
     "output_type": "stream",
     "text": [
      "\n",
      "-----------\n",
      "Is leaf. Is normal crossing? True\n"
     ]
    },
    {
     "data": {
      "text/latex": [
       "$\\displaystyle a^{(5213)}_{1} a^{(5213)}_{2} \\left(a^{(5213)}_{3}\\right)^{2} b^{(5213)}_{3} \\left(b^{(5213)}_{1} + b^{(5213)}_{2} + 1\\right)$"
      ],
      "text/plain": [
       "<IPython.core.display.Math object>"
      ]
     },
     "metadata": {},
     "output_type": "display_data"
    },
    {
     "data": {
      "text/latex": [
       "$\\displaystyle \\left(a^{(5213)}_{1}\\right)^{2} \\left(a^{(5213)}_{2}\\right)^{2} \\left(a^{(5213)}_{3}\\right)^{5} \\left(b^{(5213)}_{3}\\right)^{2}$"
      ],
      "text/plain": [
       "<IPython.core.display.Math object>"
      ]
     },
     "metadata": {},
     "output_type": "display_data"
    },
    {
     "data": {
      "text/latex": [
       "$\\displaystyle RLCTS = \\left[ \\left( a^{(5213)}_{1}, \\  3\\right), \\  \\left( a^{(5213)}_{2}, \\  3\\right), \\  \\left( b^{(5213)}_{3}, \\  3\\right), \\  \\left( a^{(5213)}_{3}, \\  3\\right)\\right]$"
      ],
      "text/plain": [
       "<IPython.core.display.Math object>"
      ]
     },
     "metadata": {},
     "output_type": "display_data"
    },
    {
     "data": {
      "text/latex": [
       "$\\displaystyle \\left[\\begin{matrix}a^{(5213)}_{2} a^{(5213)}_{3} & 0 & a^{(5213)}_{1} a^{(5213)}_{3} & 0 & a^{(5213)}_{1} a^{(5213)}_{2} & 0\\\\0 & a^{(5213)}_{3} b^{(5213)}_{3} & 0 & 0 & b^{(5213)}_{1} b^{(5213)}_{3} & a^{(5213)}_{3} b^{(5213)}_{1}\\\\0 & 0 & a^{(5213)}_{3} & 0 & a^{(5213)}_{2} & 0\\\\a^{(5213)}_{3} b^{(5213)}_{2} b^{(5213)}_{3} & 0 & 0 & a^{(5213)}_{1} a^{(5213)}_{3} b^{(5213)}_{3} & a^{(5213)}_{1} b^{(5213)}_{2} b^{(5213)}_{3} & a^{(5213)}_{1} a^{(5213)}_{3} b^{(5213)}_{2}\\\\0 & 0 & 0 & 0 & 1 & 0\\\\a^{(5213)}_{2} a^{(5213)}_{3} b^{(5213)}_{3} & 0 & a^{(5213)}_{1} a^{(5213)}_{3} b^{(5213)}_{3} & 0 & a^{(5213)}_{1} a^{(5213)}_{2} b^{(5213)}_{3} & a^{(5213)}_{1} a^{(5213)}_{2} a^{(5213)}_{3}\\end{matrix}\\right]$"
      ],
      "text/plain": [
       "<IPython.core.display.Math object>"
      ]
     },
     "metadata": {},
     "output_type": "display_data"
    },
    {
     "data": {
      "text/latex": [
       "$\\displaystyle a_{1} = a^{(5213)}_{1} a^{(5213)}_{2} a^{(5213)}_{3}$"
      ],
      "text/plain": [
       "<IPython.core.display.Math object>"
      ]
     },
     "metadata": {},
     "output_type": "display_data"
    },
    {
     "data": {
      "text/latex": [
       "$\\displaystyle b_{1} = a^{(5213)}_{3} b^{(5213)}_{1} b^{(5213)}_{3}$"
      ],
      "text/plain": [
       "<IPython.core.display.Math object>"
      ]
     },
     "metadata": {},
     "output_type": "display_data"
    },
    {
     "data": {
      "text/latex": [
       "$\\displaystyle a_{2} = a^{(5213)}_{2} a^{(5213)}_{3}$"
      ],
      "text/plain": [
       "<IPython.core.display.Math object>"
      ]
     },
     "metadata": {},
     "output_type": "display_data"
    },
    {
     "data": {
      "text/latex": [
       "$\\displaystyle b_{2} = a^{(5213)}_{1} a^{(5213)}_{3} b^{(5213)}_{2} b^{(5213)}_{3}$"
      ],
      "text/plain": [
       "<IPython.core.display.Math object>"
      ]
     },
     "metadata": {},
     "output_type": "display_data"
    },
    {
     "data": {
      "text/latex": [
       "$\\displaystyle a_{3} = a^{(5213)}_{3}$"
      ],
      "text/plain": [
       "<IPython.core.display.Math object>"
      ]
     },
     "metadata": {},
     "output_type": "display_data"
    },
    {
     "data": {
      "text/latex": [
       "$\\displaystyle b_{3} = a^{(5213)}_{1} a^{(5213)}_{2} a^{(5213)}_{3} b^{(5213)}_{3}$"
      ],
      "text/plain": [
       "<IPython.core.display.Math object>"
      ]
     },
     "metadata": {},
     "output_type": "display_data"
    },
    {
     "data": {
      "text/latex": [
       "$\\displaystyle \\left(a^{(5213)}_{1}\\right)^{2} \\left(a^{(5213)}_{2}\\right)^{2} \\left(a^{(5213)}_{3}\\right)^{4} \\left(b^{(5213)}_{3}\\right)^{2} \\left(b^{(5213)}_{1} + b^{(5213)}_{2} + 1\\right)^{2}$"
      ],
      "text/plain": [
       "<IPython.core.display.Math object>"
      ]
     },
     "metadata": {},
     "output_type": "display_data"
    },
    {
     "name": "stdout",
     "output_type": "stream",
     "text": [
      "\n",
      "-----------\n",
      "Is leaf. Is normal crossing? True\n"
     ]
    },
    {
     "data": {
      "text/latex": [
       "$\\displaystyle a^{(5212)}_{1} a^{(5212)}_{2} \\left(a^{(5212)}_{3}\\right)^{2} b^{(5212)}_{2} \\left(b^{(5212)}_{1} + b^{(5212)}_{3} + 1\\right)$"
      ],
      "text/plain": [
       "<IPython.core.display.Math object>"
      ]
     },
     "metadata": {},
     "output_type": "display_data"
    },
    {
     "data": {
      "text/latex": [
       "$\\displaystyle \\left(a^{(5212)}_{1}\\right)^{2} \\left(a^{(5212)}_{2}\\right)^{2} \\left(a^{(5212)}_{3}\\right)^{5} \\left(b^{(5212)}_{2}\\right)^{2}$"
      ],
      "text/plain": [
       "<IPython.core.display.Math object>"
      ]
     },
     "metadata": {},
     "output_type": "display_data"
    },
    {
     "data": {
      "text/latex": [
       "$\\displaystyle RLCTS = \\left[ \\left( a^{(5212)}_{1}, \\  3\\right), \\  \\left( a^{(5212)}_{2}, \\  3\\right), \\  \\left( b^{(5212)}_{2}, \\  3\\right), \\  \\left( a^{(5212)}_{3}, \\  3\\right)\\right]$"
      ],
      "text/plain": [
       "<IPython.core.display.Math object>"
      ]
     },
     "metadata": {},
     "output_type": "display_data"
    },
    {
     "data": {
      "text/latex": [
       "$\\displaystyle \\left[\\begin{matrix}a^{(5212)}_{2} a^{(5212)}_{3} & 0 & a^{(5212)}_{1} a^{(5212)}_{3} & 0 & a^{(5212)}_{1} a^{(5212)}_{2} & 0\\\\0 & a^{(5212)}_{3} b^{(5212)}_{2} & 0 & a^{(5212)}_{3} b^{(5212)}_{1} & b^{(5212)}_{1} b^{(5212)}_{2} & 0\\\\0 & 0 & a^{(5212)}_{3} & 0 & a^{(5212)}_{2} & 0\\\\a^{(5212)}_{3} b^{(5212)}_{2} & 0 & 0 & a^{(5212)}_{1} a^{(5212)}_{3} & a^{(5212)}_{1} b^{(5212)}_{2} & 0\\\\0 & 0 & 0 & 0 & 1 & 0\\\\a^{(5212)}_{2} a^{(5212)}_{3} b^{(5212)}_{2} b^{(5212)}_{3} & 0 & a^{(5212)}_{1} a^{(5212)}_{3} b^{(5212)}_{2} b^{(5212)}_{3} & a^{(5212)}_{1} a^{(5212)}_{2} a^{(5212)}_{3} b^{(5212)}_{3} & a^{(5212)}_{1} a^{(5212)}_{2} b^{(5212)}_{2} b^{(5212)}_{3} & a^{(5212)}_{1} a^{(5212)}_{2} a^{(5212)}_{3} b^{(5212)}_{2}\\end{matrix}\\right]$"
      ],
      "text/plain": [
       "<IPython.core.display.Math object>"
      ]
     },
     "metadata": {},
     "output_type": "display_data"
    },
    {
     "data": {
      "text/latex": [
       "$\\displaystyle a_{1} = a^{(5212)}_{1} a^{(5212)}_{2} a^{(5212)}_{3}$"
      ],
      "text/plain": [
       "<IPython.core.display.Math object>"
      ]
     },
     "metadata": {},
     "output_type": "display_data"
    },
    {
     "data": {
      "text/latex": [
       "$\\displaystyle b_{1} = a^{(5212)}_{3} b^{(5212)}_{1} b^{(5212)}_{2}$"
      ],
      "text/plain": [
       "<IPython.core.display.Math object>"
      ]
     },
     "metadata": {},
     "output_type": "display_data"
    },
    {
     "data": {
      "text/latex": [
       "$\\displaystyle a_{2} = a^{(5212)}_{2} a^{(5212)}_{3}$"
      ],
      "text/plain": [
       "<IPython.core.display.Math object>"
      ]
     },
     "metadata": {},
     "output_type": "display_data"
    },
    {
     "data": {
      "text/latex": [
       "$\\displaystyle b_{2} = a^{(5212)}_{1} a^{(5212)}_{3} b^{(5212)}_{2}$"
      ],
      "text/plain": [
       "<IPython.core.display.Math object>"
      ]
     },
     "metadata": {},
     "output_type": "display_data"
    },
    {
     "data": {
      "text/latex": [
       "$\\displaystyle a_{3} = a^{(5212)}_{3}$"
      ],
      "text/plain": [
       "<IPython.core.display.Math object>"
      ]
     },
     "metadata": {},
     "output_type": "display_data"
    },
    {
     "data": {
      "text/latex": [
       "$\\displaystyle b_{3} = a^{(5212)}_{1} a^{(5212)}_{2} a^{(5212)}_{3} b^{(5212)}_{2} b^{(5212)}_{3}$"
      ],
      "text/plain": [
       "<IPython.core.display.Math object>"
      ]
     },
     "metadata": {},
     "output_type": "display_data"
    },
    {
     "data": {
      "text/latex": [
       "$\\displaystyle \\left(a^{(5212)}_{1}\\right)^{2} \\left(a^{(5212)}_{2}\\right)^{2} \\left(a^{(5212)}_{3}\\right)^{4} \\left(b^{(5212)}_{2}\\right)^{2} \\left(b^{(5212)}_{1} + b^{(5212)}_{3} + 1\\right)^{2}$"
      ],
      "text/plain": [
       "<IPython.core.display.Math object>"
      ]
     },
     "metadata": {},
     "output_type": "display_data"
    },
    {
     "name": "stdout",
     "output_type": "stream",
     "text": [
      "\n",
      "-----------\n",
      "Is leaf. Is normal crossing? True\n"
     ]
    },
    {
     "data": {
      "text/latex": [
       "$\\displaystyle a^{(5211)}_{1} a^{(5211)}_{2} \\left(a^{(5211)}_{3}\\right)^{2} b^{(5211)}_{1} \\left(b^{(5211)}_{2} + b^{(5211)}_{3} + 1\\right)$"
      ],
      "text/plain": [
       "<IPython.core.display.Math object>"
      ]
     },
     "metadata": {},
     "output_type": "display_data"
    },
    {
     "data": {
      "text/latex": [
       "$\\displaystyle \\left(a^{(5211)}_{1}\\right)^{2} \\left(a^{(5211)}_{2}\\right)^{2} \\left(a^{(5211)}_{3}\\right)^{5} \\left(b^{(5211)}_{1}\\right)^{2}$"
      ],
      "text/plain": [
       "<IPython.core.display.Math object>"
      ]
     },
     "metadata": {},
     "output_type": "display_data"
    },
    {
     "data": {
      "text/latex": [
       "$\\displaystyle RLCTS = \\left[ \\left( a^{(5211)}_{1}, \\  3\\right), \\  \\left( a^{(5211)}_{2}, \\  3\\right), \\  \\left( b^{(5211)}_{1}, \\  3\\right), \\  \\left( a^{(5211)}_{3}, \\  3\\right)\\right]$"
      ],
      "text/plain": [
       "<IPython.core.display.Math object>"
      ]
     },
     "metadata": {},
     "output_type": "display_data"
    },
    {
     "data": {
      "text/latex": [
       "$\\displaystyle \\left[\\begin{matrix}a^{(5211)}_{2} a^{(5211)}_{3} & 0 & a^{(5211)}_{1} a^{(5211)}_{3} & 0 & a^{(5211)}_{1} a^{(5211)}_{2} & 0\\\\0 & a^{(5211)}_{3} & 0 & 0 & b^{(5211)}_{1} & 0\\\\0 & 0 & a^{(5211)}_{3} & 0 & a^{(5211)}_{2} & 0\\\\a^{(5211)}_{3} b^{(5211)}_{1} b^{(5211)}_{2} & a^{(5211)}_{1} a^{(5211)}_{3} b^{(5211)}_{2} & 0 & a^{(5211)}_{1} a^{(5211)}_{3} b^{(5211)}_{1} & a^{(5211)}_{1} b^{(5211)}_{1} b^{(5211)}_{2} & 0\\\\0 & 0 & 0 & 0 & 1 & 0\\\\a^{(5211)}_{2} a^{(5211)}_{3} b^{(5211)}_{1} b^{(5211)}_{3} & a^{(5211)}_{1} a^{(5211)}_{2} a^{(5211)}_{3} b^{(5211)}_{3} & a^{(5211)}_{1} a^{(5211)}_{3} b^{(5211)}_{1} b^{(5211)}_{3} & 0 & a^{(5211)}_{1} a^{(5211)}_{2} b^{(5211)}_{1} b^{(5211)}_{3} & a^{(5211)}_{1} a^{(5211)}_{2} a^{(5211)}_{3} b^{(5211)}_{1}\\end{matrix}\\right]$"
      ],
      "text/plain": [
       "<IPython.core.display.Math object>"
      ]
     },
     "metadata": {},
     "output_type": "display_data"
    },
    {
     "data": {
      "text/latex": [
       "$\\displaystyle a_{1} = a^{(5211)}_{1} a^{(5211)}_{2} a^{(5211)}_{3}$"
      ],
      "text/plain": [
       "<IPython.core.display.Math object>"
      ]
     },
     "metadata": {},
     "output_type": "display_data"
    },
    {
     "data": {
      "text/latex": [
       "$\\displaystyle b_{1} = a^{(5211)}_{3} b^{(5211)}_{1}$"
      ],
      "text/plain": [
       "<IPython.core.display.Math object>"
      ]
     },
     "metadata": {},
     "output_type": "display_data"
    },
    {
     "data": {
      "text/latex": [
       "$\\displaystyle a_{2} = a^{(5211)}_{2} a^{(5211)}_{3}$"
      ],
      "text/plain": [
       "<IPython.core.display.Math object>"
      ]
     },
     "metadata": {},
     "output_type": "display_data"
    },
    {
     "data": {
      "text/latex": [
       "$\\displaystyle b_{2} = a^{(5211)}_{1} a^{(5211)}_{3} b^{(5211)}_{1} b^{(5211)}_{2}$"
      ],
      "text/plain": [
       "<IPython.core.display.Math object>"
      ]
     },
     "metadata": {},
     "output_type": "display_data"
    },
    {
     "data": {
      "text/latex": [
       "$\\displaystyle a_{3} = a^{(5211)}_{3}$"
      ],
      "text/plain": [
       "<IPython.core.display.Math object>"
      ]
     },
     "metadata": {},
     "output_type": "display_data"
    },
    {
     "data": {
      "text/latex": [
       "$\\displaystyle b_{3} = a^{(5211)}_{1} a^{(5211)}_{2} a^{(5211)}_{3} b^{(5211)}_{1} b^{(5211)}_{3}$"
      ],
      "text/plain": [
       "<IPython.core.display.Math object>"
      ]
     },
     "metadata": {},
     "output_type": "display_data"
    },
    {
     "data": {
      "text/latex": [
       "$\\displaystyle \\left(a^{(5211)}_{1}\\right)^{2} \\left(a^{(5211)}_{2}\\right)^{2} \\left(a^{(5211)}_{3}\\right)^{4} \\left(b^{(5211)}_{1}\\right)^{2} \\left(b^{(5211)}_{2} + b^{(5211)}_{3} + 1\\right)^{2}$"
      ],
      "text/plain": [
       "<IPython.core.display.Math object>"
      ]
     },
     "metadata": {},
     "output_type": "display_data"
    },
    {
     "name": "stdout",
     "output_type": "stream",
     "text": [
      "\n",
      "-----------\n",
      "Is leaf. Is normal crossing? True\n"
     ]
    },
    {
     "data": {
      "text/latex": [
       "$\\displaystyle a^{(513)}_{1} \\left(a^{(513)}_{3}\\right)^{2} b^{(513)}_{3} \\left(a^{(513)}_{2} b^{(513)}_{2} + b^{(513)}_{1} + 1\\right)$"
      ],
      "text/plain": [
       "<IPython.core.display.Math object>"
      ]
     },
     "metadata": {},
     "output_type": "display_data"
    },
    {
     "data": {
      "text/latex": [
       "$\\displaystyle \\left(a^{(513)}_{1}\\right)^{2} \\left(a^{(513)}_{3}\\right)^{5} \\left(b^{(513)}_{3}\\right)^{2}$"
      ],
      "text/plain": [
       "<IPython.core.display.Math object>"
      ]
     },
     "metadata": {},
     "output_type": "display_data"
    },
    {
     "data": {
      "text/latex": [
       "$\\displaystyle RLCTS = \\left[ \\left( a^{(513)}_{1}, \\  3\\right), \\  \\left( b^{(513)}_{3}, \\  3\\right), \\  \\left( a^{(513)}_{3}, \\  3\\right)\\right]$"
      ],
      "text/plain": [
       "<IPython.core.display.Math object>"
      ]
     },
     "metadata": {},
     "output_type": "display_data"
    },
    {
     "data": {
      "text/latex": [
       "$\\displaystyle \\left[\\begin{matrix}a^{(513)}_{3} & 0 & 0 & 0 & a^{(513)}_{1} & 0\\\\0 & a^{(513)}_{3} b^{(513)}_{3} & 0 & 0 & b^{(513)}_{1} b^{(513)}_{3} & a^{(513)}_{3} b^{(513)}_{1}\\\\a^{(513)}_{2} a^{(513)}_{3} b^{(513)}_{3} & 0 & a^{(513)}_{1} a^{(513)}_{3} b^{(513)}_{3} & 0 & a^{(513)}_{1} a^{(513)}_{2} b^{(513)}_{3} & a^{(513)}_{1} a^{(513)}_{2} a^{(513)}_{3}\\\\0 & 0 & 0 & a^{(513)}_{3} & b^{(513)}_{2} & 0\\\\0 & 0 & 0 & 0 & 1 & 0\\\\a^{(513)}_{3} b^{(513)}_{3} & 0 & 0 & 0 & a^{(513)}_{1} b^{(513)}_{3} & a^{(513)}_{1} a^{(513)}_{3}\\end{matrix}\\right]$"
      ],
      "text/plain": [
       "<IPython.core.display.Math object>"
      ]
     },
     "metadata": {},
     "output_type": "display_data"
    },
    {
     "data": {
      "text/latex": [
       "$\\displaystyle a_{1} = a^{(513)}_{1} a^{(513)}_{3}$"
      ],
      "text/plain": [
       "<IPython.core.display.Math object>"
      ]
     },
     "metadata": {},
     "output_type": "display_data"
    },
    {
     "data": {
      "text/latex": [
       "$\\displaystyle b_{1} = a^{(513)}_{3} b^{(513)}_{1} b^{(513)}_{3}$"
      ],
      "text/plain": [
       "<IPython.core.display.Math object>"
      ]
     },
     "metadata": {},
     "output_type": "display_data"
    },
    {
     "data": {
      "text/latex": [
       "$\\displaystyle a_{2} = a^{(513)}_{1} a^{(513)}_{2} a^{(513)}_{3} b^{(513)}_{3}$"
      ],
      "text/plain": [
       "<IPython.core.display.Math object>"
      ]
     },
     "metadata": {},
     "output_type": "display_data"
    },
    {
     "data": {
      "text/latex": [
       "$\\displaystyle b_{2} = a^{(513)}_{3} b^{(513)}_{2}$"
      ],
      "text/plain": [
       "<IPython.core.display.Math object>"
      ]
     },
     "metadata": {},
     "output_type": "display_data"
    },
    {
     "data": {
      "text/latex": [
       "$\\displaystyle a_{3} = a^{(513)}_{3}$"
      ],
      "text/plain": [
       "<IPython.core.display.Math object>"
      ]
     },
     "metadata": {},
     "output_type": "display_data"
    },
    {
     "data": {
      "text/latex": [
       "$\\displaystyle b_{3} = a^{(513)}_{1} a^{(513)}_{3} b^{(513)}_{3}$"
      ],
      "text/plain": [
       "<IPython.core.display.Math object>"
      ]
     },
     "metadata": {},
     "output_type": "display_data"
    },
    {
     "data": {
      "text/latex": [
       "$\\displaystyle \\left(a^{(513)}_{1}\\right)^{2} \\left(a^{(513)}_{3}\\right)^{4} \\left(b^{(513)}_{3}\\right)^{2} \\left(a^{(513)}_{2} b^{(513)}_{2} + b^{(513)}_{1} + 1\\right)^{2}$"
      ],
      "text/plain": [
       "<IPython.core.display.Math object>"
      ]
     },
     "metadata": {},
     "output_type": "display_data"
    },
    {
     "name": "stdout",
     "output_type": "stream",
     "text": [
      "\n",
      "-----------\n",
      "Is leaf. Is normal crossing? True\n"
     ]
    },
    {
     "data": {
      "text/latex": [
       "$\\displaystyle a^{(5123)}_{1} a^{(5123)}_{2} \\left(a^{(5123)}_{3}\\right)^{2} b^{(5123)}_{3} \\left(b^{(5123)}_{1} + b^{(5123)}_{2} + 1\\right)$"
      ],
      "text/plain": [
       "<IPython.core.display.Math object>"
      ]
     },
     "metadata": {},
     "output_type": "display_data"
    },
    {
     "data": {
      "text/latex": [
       "$\\displaystyle \\left(a^{(5123)}_{1}\\right)^{2} \\left(a^{(5123)}_{2}\\right)^{2} \\left(a^{(5123)}_{3}\\right)^{5} \\left(b^{(5123)}_{3}\\right)^{2}$"
      ],
      "text/plain": [
       "<IPython.core.display.Math object>"
      ]
     },
     "metadata": {},
     "output_type": "display_data"
    },
    {
     "data": {
      "text/latex": [
       "$\\displaystyle RLCTS = \\left[ \\left( a^{(5123)}_{1}, \\  3\\right), \\  \\left( a^{(5123)}_{2}, \\  3\\right), \\  \\left( b^{(5123)}_{3}, \\  3\\right), \\  \\left( a^{(5123)}_{3}, \\  3\\right)\\right]$"
      ],
      "text/plain": [
       "<IPython.core.display.Math object>"
      ]
     },
     "metadata": {},
     "output_type": "display_data"
    },
    {
     "data": {
      "text/latex": [
       "$\\displaystyle \\left[\\begin{matrix}a^{(5123)}_{3} & 0 & 0 & 0 & a^{(5123)}_{1} & 0\\\\0 & a^{(5123)}_{2} a^{(5123)}_{3} b^{(5123)}_{3} & a^{(5123)}_{3} b^{(5123)}_{1} b^{(5123)}_{3} & 0 & a^{(5123)}_{2} b^{(5123)}_{1} b^{(5123)}_{3} & a^{(5123)}_{2} a^{(5123)}_{3} b^{(5123)}_{1}\\\\a^{(5123)}_{2} a^{(5123)}_{3} & 0 & a^{(5123)}_{1} a^{(5123)}_{3} & 0 & a^{(5123)}_{1} a^{(5123)}_{2} & 0\\\\0 & 0 & 0 & a^{(5123)}_{3} b^{(5123)}_{3} & b^{(5123)}_{2} b^{(5123)}_{3} & a^{(5123)}_{3} b^{(5123)}_{2}\\\\0 & 0 & 0 & 0 & 1 & 0\\\\a^{(5123)}_{2} a^{(5123)}_{3} b^{(5123)}_{3} & 0 & a^{(5123)}_{1} a^{(5123)}_{3} b^{(5123)}_{3} & 0 & a^{(5123)}_{1} a^{(5123)}_{2} b^{(5123)}_{3} & a^{(5123)}_{1} a^{(5123)}_{2} a^{(5123)}_{3}\\end{matrix}\\right]$"
      ],
      "text/plain": [
       "<IPython.core.display.Math object>"
      ]
     },
     "metadata": {},
     "output_type": "display_data"
    },
    {
     "data": {
      "text/latex": [
       "$\\displaystyle a_{1} = a^{(5123)}_{1} a^{(5123)}_{3}$"
      ],
      "text/plain": [
       "<IPython.core.display.Math object>"
      ]
     },
     "metadata": {},
     "output_type": "display_data"
    },
    {
     "data": {
      "text/latex": [
       "$\\displaystyle b_{1} = a^{(5123)}_{2} a^{(5123)}_{3} b^{(5123)}_{1} b^{(5123)}_{3}$"
      ],
      "text/plain": [
       "<IPython.core.display.Math object>"
      ]
     },
     "metadata": {},
     "output_type": "display_data"
    },
    {
     "data": {
      "text/latex": [
       "$\\displaystyle a_{2} = a^{(5123)}_{1} a^{(5123)}_{2} a^{(5123)}_{3}$"
      ],
      "text/plain": [
       "<IPython.core.display.Math object>"
      ]
     },
     "metadata": {},
     "output_type": "display_data"
    },
    {
     "data": {
      "text/latex": [
       "$\\displaystyle b_{2} = a^{(5123)}_{3} b^{(5123)}_{2} b^{(5123)}_{3}$"
      ],
      "text/plain": [
       "<IPython.core.display.Math object>"
      ]
     },
     "metadata": {},
     "output_type": "display_data"
    },
    {
     "data": {
      "text/latex": [
       "$\\displaystyle a_{3} = a^{(5123)}_{3}$"
      ],
      "text/plain": [
       "<IPython.core.display.Math object>"
      ]
     },
     "metadata": {},
     "output_type": "display_data"
    },
    {
     "data": {
      "text/latex": [
       "$\\displaystyle b_{3} = a^{(5123)}_{1} a^{(5123)}_{2} a^{(5123)}_{3} b^{(5123)}_{3}$"
      ],
      "text/plain": [
       "<IPython.core.display.Math object>"
      ]
     },
     "metadata": {},
     "output_type": "display_data"
    },
    {
     "data": {
      "text/latex": [
       "$\\displaystyle \\left(a^{(5123)}_{1}\\right)^{2} \\left(a^{(5123)}_{2}\\right)^{2} \\left(a^{(5123)}_{3}\\right)^{4} \\left(b^{(5123)}_{3}\\right)^{2} \\left(b^{(5123)}_{1} + b^{(5123)}_{2} + 1\\right)^{2}$"
      ],
      "text/plain": [
       "<IPython.core.display.Math object>"
      ]
     },
     "metadata": {},
     "output_type": "display_data"
    },
    {
     "name": "stdout",
     "output_type": "stream",
     "text": [
      "\n",
      "-----------\n",
      "Is leaf. Is normal crossing? True\n"
     ]
    },
    {
     "data": {
      "text/latex": [
       "$\\displaystyle a^{(5122)}_{1} a^{(5122)}_{2} \\left(a^{(5122)}_{3}\\right)^{2} b^{(5122)}_{2} \\left(b^{(5122)}_{1} + b^{(5122)}_{3} + 1\\right)$"
      ],
      "text/plain": [
       "<IPython.core.display.Math object>"
      ]
     },
     "metadata": {},
     "output_type": "display_data"
    },
    {
     "data": {
      "text/latex": [
       "$\\displaystyle \\left(a^{(5122)}_{1}\\right)^{2} \\left(a^{(5122)}_{2}\\right)^{2} \\left(a^{(5122)}_{3}\\right)^{5} \\left(b^{(5122)}_{2}\\right)^{2}$"
      ],
      "text/plain": [
       "<IPython.core.display.Math object>"
      ]
     },
     "metadata": {},
     "output_type": "display_data"
    },
    {
     "data": {
      "text/latex": [
       "$\\displaystyle RLCTS = \\left[ \\left( a^{(5122)}_{1}, \\  3\\right), \\  \\left( a^{(5122)}_{2}, \\  3\\right), \\  \\left( b^{(5122)}_{2}, \\  3\\right), \\  \\left( a^{(5122)}_{3}, \\  3\\right)\\right]$"
      ],
      "text/plain": [
       "<IPython.core.display.Math object>"
      ]
     },
     "metadata": {},
     "output_type": "display_data"
    },
    {
     "data": {
      "text/latex": [
       "$\\displaystyle \\left[\\begin{matrix}a^{(5122)}_{3} & 0 & 0 & 0 & a^{(5122)}_{1} & 0\\\\0 & a^{(5122)}_{2} a^{(5122)}_{3} b^{(5122)}_{2} & a^{(5122)}_{3} b^{(5122)}_{1} b^{(5122)}_{2} & a^{(5122)}_{2} a^{(5122)}_{3} b^{(5122)}_{1} & a^{(5122)}_{2} b^{(5122)}_{1} b^{(5122)}_{2} & 0\\\\a^{(5122)}_{2} a^{(5122)}_{3} & 0 & a^{(5122)}_{1} a^{(5122)}_{3} & 0 & a^{(5122)}_{1} a^{(5122)}_{2} & 0\\\\0 & 0 & 0 & a^{(5122)}_{3} & b^{(5122)}_{2} & 0\\\\0 & 0 & 0 & 0 & 1 & 0\\\\a^{(5122)}_{2} a^{(5122)}_{3} b^{(5122)}_{2} b^{(5122)}_{3} & 0 & a^{(5122)}_{1} a^{(5122)}_{3} b^{(5122)}_{2} b^{(5122)}_{3} & a^{(5122)}_{1} a^{(5122)}_{2} a^{(5122)}_{3} b^{(5122)}_{3} & a^{(5122)}_{1} a^{(5122)}_{2} b^{(5122)}_{2} b^{(5122)}_{3} & a^{(5122)}_{1} a^{(5122)}_{2} a^{(5122)}_{3} b^{(5122)}_{2}\\end{matrix}\\right]$"
      ],
      "text/plain": [
       "<IPython.core.display.Math object>"
      ]
     },
     "metadata": {},
     "output_type": "display_data"
    },
    {
     "data": {
      "text/latex": [
       "$\\displaystyle a_{1} = a^{(5122)}_{1} a^{(5122)}_{3}$"
      ],
      "text/plain": [
       "<IPython.core.display.Math object>"
      ]
     },
     "metadata": {},
     "output_type": "display_data"
    },
    {
     "data": {
      "text/latex": [
       "$\\displaystyle b_{1} = a^{(5122)}_{2} a^{(5122)}_{3} b^{(5122)}_{1} b^{(5122)}_{2}$"
      ],
      "text/plain": [
       "<IPython.core.display.Math object>"
      ]
     },
     "metadata": {},
     "output_type": "display_data"
    },
    {
     "data": {
      "text/latex": [
       "$\\displaystyle a_{2} = a^{(5122)}_{1} a^{(5122)}_{2} a^{(5122)}_{3}$"
      ],
      "text/plain": [
       "<IPython.core.display.Math object>"
      ]
     },
     "metadata": {},
     "output_type": "display_data"
    },
    {
     "data": {
      "text/latex": [
       "$\\displaystyle b_{2} = a^{(5122)}_{3} b^{(5122)}_{2}$"
      ],
      "text/plain": [
       "<IPython.core.display.Math object>"
      ]
     },
     "metadata": {},
     "output_type": "display_data"
    },
    {
     "data": {
      "text/latex": [
       "$\\displaystyle a_{3} = a^{(5122)}_{3}$"
      ],
      "text/plain": [
       "<IPython.core.display.Math object>"
      ]
     },
     "metadata": {},
     "output_type": "display_data"
    },
    {
     "data": {
      "text/latex": [
       "$\\displaystyle b_{3} = a^{(5122)}_{1} a^{(5122)}_{2} a^{(5122)}_{3} b^{(5122)}_{2} b^{(5122)}_{3}$"
      ],
      "text/plain": [
       "<IPython.core.display.Math object>"
      ]
     },
     "metadata": {},
     "output_type": "display_data"
    },
    {
     "data": {
      "text/latex": [
       "$\\displaystyle \\left(a^{(5122)}_{1}\\right)^{2} \\left(a^{(5122)}_{2}\\right)^{2} \\left(a^{(5122)}_{3}\\right)^{4} \\left(b^{(5122)}_{2}\\right)^{2} \\left(b^{(5122)}_{1} + b^{(5122)}_{3} + 1\\right)^{2}$"
      ],
      "text/plain": [
       "<IPython.core.display.Math object>"
      ]
     },
     "metadata": {},
     "output_type": "display_data"
    },
    {
     "name": "stdout",
     "output_type": "stream",
     "text": [
      "\n",
      "-----------\n",
      "Is leaf. Is normal crossing? True\n"
     ]
    },
    {
     "data": {
      "text/latex": [
       "$\\displaystyle a^{(5121)}_{1} a^{(5121)}_{2} \\left(a^{(5121)}_{3}\\right)^{2} b^{(5121)}_{1} \\left(b^{(5121)}_{2} + b^{(5121)}_{3} + 1\\right)$"
      ],
      "text/plain": [
       "<IPython.core.display.Math object>"
      ]
     },
     "metadata": {},
     "output_type": "display_data"
    },
    {
     "data": {
      "text/latex": [
       "$\\displaystyle \\left(a^{(5121)}_{1}\\right)^{2} \\left(a^{(5121)}_{2}\\right)^{2} \\left(a^{(5121)}_{3}\\right)^{5} \\left(b^{(5121)}_{1}\\right)^{2}$"
      ],
      "text/plain": [
       "<IPython.core.display.Math object>"
      ]
     },
     "metadata": {},
     "output_type": "display_data"
    },
    {
     "data": {
      "text/latex": [
       "$\\displaystyle RLCTS = \\left[ \\left( a^{(5121)}_{1}, \\  3\\right), \\  \\left( a^{(5121)}_{2}, \\  3\\right), \\  \\left( b^{(5121)}_{1}, \\  3\\right), \\  \\left( a^{(5121)}_{3}, \\  3\\right)\\right]$"
      ],
      "text/plain": [
       "<IPython.core.display.Math object>"
      ]
     },
     "metadata": {},
     "output_type": "display_data"
    },
    {
     "data": {
      "text/latex": [
       "$\\displaystyle \\left[\\begin{matrix}a^{(5121)}_{3} & 0 & 0 & 0 & a^{(5121)}_{1} & 0\\\\0 & a^{(5121)}_{2} a^{(5121)}_{3} & a^{(5121)}_{3} b^{(5121)}_{1} & 0 & a^{(5121)}_{2} b^{(5121)}_{1} & 0\\\\a^{(5121)}_{2} a^{(5121)}_{3} & 0 & a^{(5121)}_{1} a^{(5121)}_{3} & 0 & a^{(5121)}_{1} a^{(5121)}_{2} & 0\\\\0 & a^{(5121)}_{3} b^{(5121)}_{2} & 0 & a^{(5121)}_{3} b^{(5121)}_{1} & b^{(5121)}_{1} b^{(5121)}_{2} & 0\\\\0 & 0 & 0 & 0 & 1 & 0\\\\a^{(5121)}_{2} a^{(5121)}_{3} b^{(5121)}_{1} b^{(5121)}_{3} & a^{(5121)}_{1} a^{(5121)}_{2} a^{(5121)}_{3} b^{(5121)}_{3} & a^{(5121)}_{1} a^{(5121)}_{3} b^{(5121)}_{1} b^{(5121)}_{3} & 0 & a^{(5121)}_{1} a^{(5121)}_{2} b^{(5121)}_{1} b^{(5121)}_{3} & a^{(5121)}_{1} a^{(5121)}_{2} a^{(5121)}_{3} b^{(5121)}_{1}\\end{matrix}\\right]$"
      ],
      "text/plain": [
       "<IPython.core.display.Math object>"
      ]
     },
     "metadata": {},
     "output_type": "display_data"
    },
    {
     "data": {
      "text/latex": [
       "$\\displaystyle a_{1} = a^{(5121)}_{1} a^{(5121)}_{3}$"
      ],
      "text/plain": [
       "<IPython.core.display.Math object>"
      ]
     },
     "metadata": {},
     "output_type": "display_data"
    },
    {
     "data": {
      "text/latex": [
       "$\\displaystyle b_{1} = a^{(5121)}_{2} a^{(5121)}_{3} b^{(5121)}_{1}$"
      ],
      "text/plain": [
       "<IPython.core.display.Math object>"
      ]
     },
     "metadata": {},
     "output_type": "display_data"
    },
    {
     "data": {
      "text/latex": [
       "$\\displaystyle a_{2} = a^{(5121)}_{1} a^{(5121)}_{2} a^{(5121)}_{3}$"
      ],
      "text/plain": [
       "<IPython.core.display.Math object>"
      ]
     },
     "metadata": {},
     "output_type": "display_data"
    },
    {
     "data": {
      "text/latex": [
       "$\\displaystyle b_{2} = a^{(5121)}_{3} b^{(5121)}_{1} b^{(5121)}_{2}$"
      ],
      "text/plain": [
       "<IPython.core.display.Math object>"
      ]
     },
     "metadata": {},
     "output_type": "display_data"
    },
    {
     "data": {
      "text/latex": [
       "$\\displaystyle a_{3} = a^{(5121)}_{3}$"
      ],
      "text/plain": [
       "<IPython.core.display.Math object>"
      ]
     },
     "metadata": {},
     "output_type": "display_data"
    },
    {
     "data": {
      "text/latex": [
       "$\\displaystyle b_{3} = a^{(5121)}_{1} a^{(5121)}_{2} a^{(5121)}_{3} b^{(5121)}_{1} b^{(5121)}_{3}$"
      ],
      "text/plain": [
       "<IPython.core.display.Math object>"
      ]
     },
     "metadata": {},
     "output_type": "display_data"
    },
    {
     "data": {
      "text/latex": [
       "$\\displaystyle \\left(a^{(5121)}_{1}\\right)^{2} \\left(a^{(5121)}_{2}\\right)^{2} \\left(a^{(5121)}_{3}\\right)^{4} \\left(b^{(5121)}_{1}\\right)^{2} \\left(b^{(5121)}_{2} + b^{(5121)}_{3} + 1\\right)^{2}$"
      ],
      "text/plain": [
       "<IPython.core.display.Math object>"
      ]
     },
     "metadata": {},
     "output_type": "display_data"
    },
    {
     "name": "stdout",
     "output_type": "stream",
     "text": [
      "\n",
      "-----------\n",
      "Is leaf. Is normal crossing? True\n"
     ]
    },
    {
     "data": {
      "text/latex": [
       "$\\displaystyle a^{(511)}_{1} \\left(a^{(511)}_{3}\\right)^{2} b^{(511)}_{1} \\left(a^{(511)}_{2} b^{(511)}_{2} + b^{(511)}_{3} + 1\\right)$"
      ],
      "text/plain": [
       "<IPython.core.display.Math object>"
      ]
     },
     "metadata": {},
     "output_type": "display_data"
    },
    {
     "data": {
      "text/latex": [
       "$\\displaystyle \\left(a^{(511)}_{1}\\right)^{2} \\left(a^{(511)}_{3}\\right)^{5} \\left(b^{(511)}_{1}\\right)^{2}$"
      ],
      "text/plain": [
       "<IPython.core.display.Math object>"
      ]
     },
     "metadata": {},
     "output_type": "display_data"
    },
    {
     "data": {
      "text/latex": [
       "$\\displaystyle RLCTS = \\left[ \\left( a^{(511)}_{1}, \\  3\\right), \\  \\left( b^{(511)}_{1}, \\  3\\right), \\  \\left( a^{(511)}_{3}, \\  3\\right)\\right]$"
      ],
      "text/plain": [
       "<IPython.core.display.Math object>"
      ]
     },
     "metadata": {},
     "output_type": "display_data"
    },
    {
     "data": {
      "text/latex": [
       "$\\displaystyle \\left[\\begin{matrix}a^{(511)}_{3} & 0 & 0 & 0 & a^{(511)}_{1} & 0\\\\0 & a^{(511)}_{3} & 0 & 0 & b^{(511)}_{1} & 0\\\\a^{(511)}_{2} a^{(511)}_{3} b^{(511)}_{1} & a^{(511)}_{1} a^{(511)}_{2} a^{(511)}_{3} & a^{(511)}_{1} a^{(511)}_{3} b^{(511)}_{1} & 0 & a^{(511)}_{1} a^{(511)}_{2} b^{(511)}_{1} & 0\\\\0 & 0 & 0 & a^{(511)}_{3} & b^{(511)}_{2} & 0\\\\0 & 0 & 0 & 0 & 1 & 0\\\\a^{(511)}_{3} b^{(511)}_{1} b^{(511)}_{3} & a^{(511)}_{1} a^{(511)}_{3} b^{(511)}_{3} & 0 & 0 & a^{(511)}_{1} b^{(511)}_{1} b^{(511)}_{3} & a^{(511)}_{1} a^{(511)}_{3} b^{(511)}_{1}\\end{matrix}\\right]$"
      ],
      "text/plain": [
       "<IPython.core.display.Math object>"
      ]
     },
     "metadata": {},
     "output_type": "display_data"
    },
    {
     "data": {
      "text/latex": [
       "$\\displaystyle a_{1} = a^{(511)}_{1} a^{(511)}_{3}$"
      ],
      "text/plain": [
       "<IPython.core.display.Math object>"
      ]
     },
     "metadata": {},
     "output_type": "display_data"
    },
    {
     "data": {
      "text/latex": [
       "$\\displaystyle b_{1} = a^{(511)}_{3} b^{(511)}_{1}$"
      ],
      "text/plain": [
       "<IPython.core.display.Math object>"
      ]
     },
     "metadata": {},
     "output_type": "display_data"
    },
    {
     "data": {
      "text/latex": [
       "$\\displaystyle a_{2} = a^{(511)}_{1} a^{(511)}_{2} a^{(511)}_{3} b^{(511)}_{1}$"
      ],
      "text/plain": [
       "<IPython.core.display.Math object>"
      ]
     },
     "metadata": {},
     "output_type": "display_data"
    },
    {
     "data": {
      "text/latex": [
       "$\\displaystyle b_{2} = a^{(511)}_{3} b^{(511)}_{2}$"
      ],
      "text/plain": [
       "<IPython.core.display.Math object>"
      ]
     },
     "metadata": {},
     "output_type": "display_data"
    },
    {
     "data": {
      "text/latex": [
       "$\\displaystyle a_{3} = a^{(511)}_{3}$"
      ],
      "text/plain": [
       "<IPython.core.display.Math object>"
      ]
     },
     "metadata": {},
     "output_type": "display_data"
    },
    {
     "data": {
      "text/latex": [
       "$\\displaystyle b_{3} = a^{(511)}_{1} a^{(511)}_{3} b^{(511)}_{1} b^{(511)}_{3}$"
      ],
      "text/plain": [
       "<IPython.core.display.Math object>"
      ]
     },
     "metadata": {},
     "output_type": "display_data"
    },
    {
     "data": {
      "text/latex": [
       "$\\displaystyle \\left(a^{(511)}_{1}\\right)^{2} \\left(a^{(511)}_{3}\\right)^{4} \\left(b^{(511)}_{1}\\right)^{2} \\left(a^{(511)}_{2} b^{(511)}_{2} + b^{(511)}_{3} + 1\\right)^{2}$"
      ],
      "text/plain": [
       "<IPython.core.display.Math object>"
      ]
     },
     "metadata": {},
     "output_type": "display_data"
    },
    {
     "name": "stdout",
     "output_type": "stream",
     "text": [
      "\n",
      "-----------\n",
      "Is leaf. Is normal crossing? True\n"
     ]
    },
    {
     "data": {
      "text/latex": [
       "$\\displaystyle a^{(433)}_{3} \\left(b^{(433)}_{2}\\right)^{2} b^{(433)}_{3} \\left(a^{(433)}_{1} b^{(433)}_{1} + a^{(433)}_{2} + 1\\right)$"
      ],
      "text/plain": [
       "<IPython.core.display.Math object>"
      ]
     },
     "metadata": {},
     "output_type": "display_data"
    },
    {
     "data": {
      "text/latex": [
       "$\\displaystyle \\left(a^{(433)}_{3}\\right)^{2} \\left(b^{(433)}_{2}\\right)^{5} \\left(b^{(433)}_{3}\\right)^{2}$"
      ],
      "text/plain": [
       "<IPython.core.display.Math object>"
      ]
     },
     "metadata": {},
     "output_type": "display_data"
    },
    {
     "data": {
      "text/latex": [
       "$\\displaystyle RLCTS = \\left[ \\left( a^{(433)}_{3}, \\  3\\right), \\  \\left( b^{(433)}_{3}, \\  3\\right), \\  \\left( b^{(433)}_{2}, \\  3\\right)\\right]$"
      ],
      "text/plain": [
       "<IPython.core.display.Math object>"
      ]
     },
     "metadata": {},
     "output_type": "display_data"
    },
    {
     "data": {
      "text/latex": [
       "$\\displaystyle \\left[\\begin{matrix}a^{(433)}_{3} b^{(433)}_{2} b^{(433)}_{3} & 0 & 0 & a^{(433)}_{1} a^{(433)}_{3} b^{(433)}_{3} & a^{(433)}_{1} b^{(433)}_{2} b^{(433)}_{3} & a^{(433)}_{1} a^{(433)}_{3} b^{(433)}_{2}\\\\0 & b^{(433)}_{2} & 0 & b^{(433)}_{1} & 0 & 0\\\\0 & 0 & a^{(433)}_{3} b^{(433)}_{2} b^{(433)}_{3} & a^{(433)}_{2} a^{(433)}_{3} b^{(433)}_{3} & a^{(433)}_{2} b^{(433)}_{2} b^{(433)}_{3} & a^{(433)}_{2} a^{(433)}_{3} b^{(433)}_{2}\\\\0 & 0 & 0 & 1 & 0 & 0\\\\0 & 0 & 0 & a^{(433)}_{3} & b^{(433)}_{2} & 0\\\\0 & 0 & 0 & b^{(433)}_{3} & 0 & b^{(433)}_{2}\\end{matrix}\\right]$"
      ],
      "text/plain": [
       "<IPython.core.display.Math object>"
      ]
     },
     "metadata": {},
     "output_type": "display_data"
    },
    {
     "data": {
      "text/latex": [
       "$\\displaystyle a_{1} = a^{(433)}_{1} a^{(433)}_{3} b^{(433)}_{2} b^{(433)}_{3}$"
      ],
      "text/plain": [
       "<IPython.core.display.Math object>"
      ]
     },
     "metadata": {},
     "output_type": "display_data"
    },
    {
     "data": {
      "text/latex": [
       "$\\displaystyle b_{1} = b^{(433)}_{1} b^{(433)}_{2}$"
      ],
      "text/plain": [
       "<IPython.core.display.Math object>"
      ]
     },
     "metadata": {},
     "output_type": "display_data"
    },
    {
     "data": {
      "text/latex": [
       "$\\displaystyle a_{2} = a^{(433)}_{2} a^{(433)}_{3} b^{(433)}_{2} b^{(433)}_{3}$"
      ],
      "text/plain": [
       "<IPython.core.display.Math object>"
      ]
     },
     "metadata": {},
     "output_type": "display_data"
    },
    {
     "data": {
      "text/latex": [
       "$\\displaystyle b_{2} = b^{(433)}_{2}$"
      ],
      "text/plain": [
       "<IPython.core.display.Math object>"
      ]
     },
     "metadata": {},
     "output_type": "display_data"
    },
    {
     "data": {
      "text/latex": [
       "$\\displaystyle a_{3} = a^{(433)}_{3} b^{(433)}_{2}$"
      ],
      "text/plain": [
       "<IPython.core.display.Math object>"
      ]
     },
     "metadata": {},
     "output_type": "display_data"
    },
    {
     "data": {
      "text/latex": [
       "$\\displaystyle b_{3} = b^{(433)}_{2} b^{(433)}_{3}$"
      ],
      "text/plain": [
       "<IPython.core.display.Math object>"
      ]
     },
     "metadata": {},
     "output_type": "display_data"
    },
    {
     "data": {
      "text/latex": [
       "$\\displaystyle \\left(a^{(433)}_{3}\\right)^{2} \\left(b^{(433)}_{2}\\right)^{4} \\left(b^{(433)}_{3}\\right)^{2} \\left(a^{(433)}_{1} b^{(433)}_{1} + a^{(433)}_{2} + 1\\right)^{2}$"
      ],
      "text/plain": [
       "<IPython.core.display.Math object>"
      ]
     },
     "metadata": {},
     "output_type": "display_data"
    },
    {
     "name": "stdout",
     "output_type": "stream",
     "text": [
      "\n",
      "-----------\n",
      "Is leaf. Is normal crossing? True\n"
     ]
    },
    {
     "data": {
      "text/latex": [
       "$\\displaystyle a^{(432)}_{2} a^{(432)}_{3} \\left(b^{(432)}_{2}\\right)^{2} \\left(a^{(432)}_{1} b^{(432)}_{1} + b^{(432)}_{3} + 1\\right)$"
      ],
      "text/plain": [
       "<IPython.core.display.Math object>"
      ]
     },
     "metadata": {},
     "output_type": "display_data"
    },
    {
     "data": {
      "text/latex": [
       "$\\displaystyle \\left(a^{(432)}_{2}\\right)^{2} \\left(a^{(432)}_{3}\\right)^{2} \\left(b^{(432)}_{2}\\right)^{5}$"
      ],
      "text/plain": [
       "<IPython.core.display.Math object>"
      ]
     },
     "metadata": {},
     "output_type": "display_data"
    },
    {
     "data": {
      "text/latex": [
       "$\\displaystyle RLCTS = \\left[ \\left( a^{(432)}_{2}, \\  3\\right), \\  \\left( a^{(432)}_{3}, \\  3\\right), \\  \\left( b^{(432)}_{2}, \\  3\\right)\\right]$"
      ],
      "text/plain": [
       "<IPython.core.display.Math object>"
      ]
     },
     "metadata": {},
     "output_type": "display_data"
    },
    {
     "data": {
      "text/latex": [
       "$\\displaystyle \\left[\\begin{matrix}a^{(432)}_{2} a^{(432)}_{3} b^{(432)}_{2} & 0 & a^{(432)}_{1} a^{(432)}_{3} b^{(432)}_{2} & a^{(432)}_{1} a^{(432)}_{2} a^{(432)}_{3} & a^{(432)}_{1} a^{(432)}_{2} b^{(432)}_{2} & 0\\\\0 & b^{(432)}_{2} & 0 & b^{(432)}_{1} & 0 & 0\\\\0 & 0 & a^{(432)}_{3} b^{(432)}_{2} & a^{(432)}_{2} a^{(432)}_{3} & a^{(432)}_{2} b^{(432)}_{2} & 0\\\\0 & 0 & 0 & 1 & 0 & 0\\\\0 & 0 & 0 & a^{(432)}_{3} & b^{(432)}_{2} & 0\\\\0 & 0 & b^{(432)}_{2} b^{(432)}_{3} & a^{(432)}_{2} b^{(432)}_{3} & 0 & a^{(432)}_{2} b^{(432)}_{2}\\end{matrix}\\right]$"
      ],
      "text/plain": [
       "<IPython.core.display.Math object>"
      ]
     },
     "metadata": {},
     "output_type": "display_data"
    },
    {
     "data": {
      "text/latex": [
       "$\\displaystyle a_{1} = a^{(432)}_{1} a^{(432)}_{2} a^{(432)}_{3} b^{(432)}_{2}$"
      ],
      "text/plain": [
       "<IPython.core.display.Math object>"
      ]
     },
     "metadata": {},
     "output_type": "display_data"
    },
    {
     "data": {
      "text/latex": [
       "$\\displaystyle b_{1} = b^{(432)}_{1} b^{(432)}_{2}$"
      ],
      "text/plain": [
       "<IPython.core.display.Math object>"
      ]
     },
     "metadata": {},
     "output_type": "display_data"
    },
    {
     "data": {
      "text/latex": [
       "$\\displaystyle a_{2} = a^{(432)}_{2} a^{(432)}_{3} b^{(432)}_{2}$"
      ],
      "text/plain": [
       "<IPython.core.display.Math object>"
      ]
     },
     "metadata": {},
     "output_type": "display_data"
    },
    {
     "data": {
      "text/latex": [
       "$\\displaystyle b_{2} = b^{(432)}_{2}$"
      ],
      "text/plain": [
       "<IPython.core.display.Math object>"
      ]
     },
     "metadata": {},
     "output_type": "display_data"
    },
    {
     "data": {
      "text/latex": [
       "$\\displaystyle a_{3} = a^{(432)}_{3} b^{(432)}_{2}$"
      ],
      "text/plain": [
       "<IPython.core.display.Math object>"
      ]
     },
     "metadata": {},
     "output_type": "display_data"
    },
    {
     "data": {
      "text/latex": [
       "$\\displaystyle b_{3} = a^{(432)}_{2} b^{(432)}_{2} b^{(432)}_{3}$"
      ],
      "text/plain": [
       "<IPython.core.display.Math object>"
      ]
     },
     "metadata": {},
     "output_type": "display_data"
    },
    {
     "data": {
      "text/latex": [
       "$\\displaystyle \\left(a^{(432)}_{2}\\right)^{2} \\left(a^{(432)}_{3}\\right)^{2} \\left(b^{(432)}_{2}\\right)^{4} \\left(a^{(432)}_{1} b^{(432)}_{1} + b^{(432)}_{3} + 1\\right)^{2}$"
      ],
      "text/plain": [
       "<IPython.core.display.Math object>"
      ]
     },
     "metadata": {},
     "output_type": "display_data"
    },
    {
     "name": "stdout",
     "output_type": "stream",
     "text": [
      "\n",
      "-----------\n",
      "Is leaf. Is normal crossing? True\n"
     ]
    },
    {
     "data": {
      "text/latex": [
       "$\\displaystyle a^{(4313)}_{1} a^{(4313)}_{3} \\left(b^{(4313)}_{2}\\right)^{2} b^{(4313)}_{3} \\left(a^{(4313)}_{2} + b^{(4313)}_{1} + 1\\right)$"
      ],
      "text/plain": [
       "<IPython.core.display.Math object>"
      ]
     },
     "metadata": {},
     "output_type": "display_data"
    },
    {
     "data": {
      "text/latex": [
       "$\\displaystyle \\left(a^{(4313)}_{1}\\right)^{2} \\left(a^{(4313)}_{3}\\right)^{2} \\left(b^{(4313)}_{2}\\right)^{5} \\left(b^{(4313)}_{3}\\right)^{2}$"
      ],
      "text/plain": [
       "<IPython.core.display.Math object>"
      ]
     },
     "metadata": {},
     "output_type": "display_data"
    },
    {
     "data": {
      "text/latex": [
       "$\\displaystyle RLCTS = \\left[ \\left( a^{(4313)}_{1}, \\  3\\right), \\  \\left( a^{(4313)}_{3}, \\  3\\right), \\  \\left( b^{(4313)}_{3}, \\  3\\right), \\  \\left( b^{(4313)}_{2}, \\  3\\right)\\right]$"
      ],
      "text/plain": [
       "<IPython.core.display.Math object>"
      ]
     },
     "metadata": {},
     "output_type": "display_data"
    },
    {
     "data": {
      "text/latex": [
       "$\\displaystyle \\left[\\begin{matrix}a^{(4313)}_{3} b^{(4313)}_{2} & 0 & 0 & a^{(4313)}_{1} a^{(4313)}_{3} & a^{(4313)}_{1} b^{(4313)}_{2} & 0\\\\0 & b^{(4313)}_{2} b^{(4313)}_{3} & 0 & b^{(4313)}_{1} b^{(4313)}_{3} & 0 & b^{(4313)}_{1} b^{(4313)}_{2}\\\\a^{(4313)}_{2} a^{(4313)}_{3} b^{(4313)}_{2} b^{(4313)}_{3} & 0 & a^{(4313)}_{1} a^{(4313)}_{3} b^{(4313)}_{2} b^{(4313)}_{3} & a^{(4313)}_{1} a^{(4313)}_{2} a^{(4313)}_{3} b^{(4313)}_{3} & a^{(4313)}_{1} a^{(4313)}_{2} b^{(4313)}_{2} b^{(4313)}_{3} & a^{(4313)}_{1} a^{(4313)}_{2} a^{(4313)}_{3} b^{(4313)}_{2}\\\\0 & 0 & 0 & 1 & 0 & 0\\\\0 & 0 & 0 & a^{(4313)}_{3} & b^{(4313)}_{2} & 0\\\\b^{(4313)}_{2} b^{(4313)}_{3} & 0 & 0 & a^{(4313)}_{1} b^{(4313)}_{3} & 0 & a^{(4313)}_{1} b^{(4313)}_{2}\\end{matrix}\\right]$"
      ],
      "text/plain": [
       "<IPython.core.display.Math object>"
      ]
     },
     "metadata": {},
     "output_type": "display_data"
    },
    {
     "data": {
      "text/latex": [
       "$\\displaystyle a_{1} = a^{(4313)}_{1} a^{(4313)}_{3} b^{(4313)}_{2}$"
      ],
      "text/plain": [
       "<IPython.core.display.Math object>"
      ]
     },
     "metadata": {},
     "output_type": "display_data"
    },
    {
     "data": {
      "text/latex": [
       "$\\displaystyle b_{1} = b^{(4313)}_{1} b^{(4313)}_{2} b^{(4313)}_{3}$"
      ],
      "text/plain": [
       "<IPython.core.display.Math object>"
      ]
     },
     "metadata": {},
     "output_type": "display_data"
    },
    {
     "data": {
      "text/latex": [
       "$\\displaystyle a_{2} = a^{(4313)}_{1} a^{(4313)}_{2} a^{(4313)}_{3} b^{(4313)}_{2} b^{(4313)}_{3}$"
      ],
      "text/plain": [
       "<IPython.core.display.Math object>"
      ]
     },
     "metadata": {},
     "output_type": "display_data"
    },
    {
     "data": {
      "text/latex": [
       "$\\displaystyle b_{2} = b^{(4313)}_{2}$"
      ],
      "text/plain": [
       "<IPython.core.display.Math object>"
      ]
     },
     "metadata": {},
     "output_type": "display_data"
    },
    {
     "data": {
      "text/latex": [
       "$\\displaystyle a_{3} = a^{(4313)}_{3} b^{(4313)}_{2}$"
      ],
      "text/plain": [
       "<IPython.core.display.Math object>"
      ]
     },
     "metadata": {},
     "output_type": "display_data"
    },
    {
     "data": {
      "text/latex": [
       "$\\displaystyle b_{3} = a^{(4313)}_{1} b^{(4313)}_{2} b^{(4313)}_{3}$"
      ],
      "text/plain": [
       "<IPython.core.display.Math object>"
      ]
     },
     "metadata": {},
     "output_type": "display_data"
    },
    {
     "data": {
      "text/latex": [
       "$\\displaystyle \\left(a^{(4313)}_{1}\\right)^{2} \\left(a^{(4313)}_{3}\\right)^{2} \\left(b^{(4313)}_{2}\\right)^{4} \\left(b^{(4313)}_{3}\\right)^{2} \\left(a^{(4313)}_{2} + b^{(4313)}_{1} + 1\\right)^{2}$"
      ],
      "text/plain": [
       "<IPython.core.display.Math object>"
      ]
     },
     "metadata": {},
     "output_type": "display_data"
    },
    {
     "name": "stdout",
     "output_type": "stream",
     "text": [
      "\n",
      "-----------\n",
      "Is leaf. Is normal crossing? True\n"
     ]
    },
    {
     "data": {
      "text/latex": [
       "$\\displaystyle a^{(4312)}_{1} a^{(4312)}_{2} a^{(4312)}_{3} \\left(b^{(4312)}_{2}\\right)^{2} \\left(b^{(4312)}_{1} + b^{(4312)}_{3} + 1\\right)$"
      ],
      "text/plain": [
       "<IPython.core.display.Math object>"
      ]
     },
     "metadata": {},
     "output_type": "display_data"
    },
    {
     "data": {
      "text/latex": [
       "$\\displaystyle \\left(a^{(4312)}_{1}\\right)^{2} \\left(a^{(4312)}_{2}\\right)^{2} \\left(a^{(4312)}_{3}\\right)^{2} \\left(b^{(4312)}_{2}\\right)^{5}$"
      ],
      "text/plain": [
       "<IPython.core.display.Math object>"
      ]
     },
     "metadata": {},
     "output_type": "display_data"
    },
    {
     "data": {
      "text/latex": [
       "$\\displaystyle RLCTS = \\left[ \\left( a^{(4312)}_{1}, \\  3\\right), \\  \\left( a^{(4312)}_{2}, \\  3\\right), \\  \\left( a^{(4312)}_{3}, \\  3\\right), \\  \\left( b^{(4312)}_{2}, \\  3\\right)\\right]$"
      ],
      "text/plain": [
       "<IPython.core.display.Math object>"
      ]
     },
     "metadata": {},
     "output_type": "display_data"
    },
    {
     "data": {
      "text/latex": [
       "$\\displaystyle \\left[\\begin{matrix}a^{(4312)}_{3} b^{(4312)}_{2} & 0 & 0 & a^{(4312)}_{1} a^{(4312)}_{3} & a^{(4312)}_{1} b^{(4312)}_{2} & 0\\\\0 & a^{(4312)}_{2} b^{(4312)}_{2} & b^{(4312)}_{1} b^{(4312)}_{2} & a^{(4312)}_{2} b^{(4312)}_{1} & 0 & 0\\\\a^{(4312)}_{2} a^{(4312)}_{3} b^{(4312)}_{2} & 0 & a^{(4312)}_{1} a^{(4312)}_{3} b^{(4312)}_{2} & a^{(4312)}_{1} a^{(4312)}_{2} a^{(4312)}_{3} & a^{(4312)}_{1} a^{(4312)}_{2} b^{(4312)}_{2} & 0\\\\0 & 0 & 0 & 1 & 0 & 0\\\\0 & 0 & 0 & a^{(4312)}_{3} & b^{(4312)}_{2} & 0\\\\a^{(4312)}_{2} b^{(4312)}_{2} b^{(4312)}_{3} & 0 & a^{(4312)}_{1} b^{(4312)}_{2} b^{(4312)}_{3} & a^{(4312)}_{1} a^{(4312)}_{2} b^{(4312)}_{3} & 0 & a^{(4312)}_{1} a^{(4312)}_{2} b^{(4312)}_{2}\\end{matrix}\\right]$"
      ],
      "text/plain": [
       "<IPython.core.display.Math object>"
      ]
     },
     "metadata": {},
     "output_type": "display_data"
    },
    {
     "data": {
      "text/latex": [
       "$\\displaystyle a_{1} = a^{(4312)}_{1} a^{(4312)}_{3} b^{(4312)}_{2}$"
      ],
      "text/plain": [
       "<IPython.core.display.Math object>"
      ]
     },
     "metadata": {},
     "output_type": "display_data"
    },
    {
     "data": {
      "text/latex": [
       "$\\displaystyle b_{1} = a^{(4312)}_{2} b^{(4312)}_{1} b^{(4312)}_{2}$"
      ],
      "text/plain": [
       "<IPython.core.display.Math object>"
      ]
     },
     "metadata": {},
     "output_type": "display_data"
    },
    {
     "data": {
      "text/latex": [
       "$\\displaystyle a_{2} = a^{(4312)}_{1} a^{(4312)}_{2} a^{(4312)}_{3} b^{(4312)}_{2}$"
      ],
      "text/plain": [
       "<IPython.core.display.Math object>"
      ]
     },
     "metadata": {},
     "output_type": "display_data"
    },
    {
     "data": {
      "text/latex": [
       "$\\displaystyle b_{2} = b^{(4312)}_{2}$"
      ],
      "text/plain": [
       "<IPython.core.display.Math object>"
      ]
     },
     "metadata": {},
     "output_type": "display_data"
    },
    {
     "data": {
      "text/latex": [
       "$\\displaystyle a_{3} = a^{(4312)}_{3} b^{(4312)}_{2}$"
      ],
      "text/plain": [
       "<IPython.core.display.Math object>"
      ]
     },
     "metadata": {},
     "output_type": "display_data"
    },
    {
     "data": {
      "text/latex": [
       "$\\displaystyle b_{3} = a^{(4312)}_{1} a^{(4312)}_{2} b^{(4312)}_{2} b^{(4312)}_{3}$"
      ],
      "text/plain": [
       "<IPython.core.display.Math object>"
      ]
     },
     "metadata": {},
     "output_type": "display_data"
    },
    {
     "data": {
      "text/latex": [
       "$\\displaystyle \\left(a^{(4312)}_{1}\\right)^{2} \\left(a^{(4312)}_{2}\\right)^{2} \\left(a^{(4312)}_{3}\\right)^{2} \\left(b^{(4312)}_{2}\\right)^{4} \\left(b^{(4312)}_{1} + b^{(4312)}_{3} + 1\\right)^{2}$"
      ],
      "text/plain": [
       "<IPython.core.display.Math object>"
      ]
     },
     "metadata": {},
     "output_type": "display_data"
    },
    {
     "name": "stdout",
     "output_type": "stream",
     "text": [
      "\n",
      "-----------\n",
      "Is leaf. Is normal crossing? True\n"
     ]
    },
    {
     "data": {
      "text/latex": [
       "$\\displaystyle a^{(4311)}_{1} a^{(4311)}_{3} b^{(4311)}_{1} \\left(b^{(4311)}_{2}\\right)^{2} \\left(a^{(4311)}_{2} + b^{(4311)}_{3} + 1\\right)$"
      ],
      "text/plain": [
       "<IPython.core.display.Math object>"
      ]
     },
     "metadata": {},
     "output_type": "display_data"
    },
    {
     "data": {
      "text/latex": [
       "$\\displaystyle \\left(a^{(4311)}_{1}\\right)^{2} \\left(a^{(4311)}_{3}\\right)^{2} \\left(b^{(4311)}_{1}\\right)^{2} \\left(b^{(4311)}_{2}\\right)^{5}$"
      ],
      "text/plain": [
       "<IPython.core.display.Math object>"
      ]
     },
     "metadata": {},
     "output_type": "display_data"
    },
    {
     "data": {
      "text/latex": [
       "$\\displaystyle RLCTS = \\left[ \\left( a^{(4311)}_{1}, \\  3\\right), \\  \\left( a^{(4311)}_{3}, \\  3\\right), \\  \\left( b^{(4311)}_{1}, \\  3\\right), \\  \\left( b^{(4311)}_{2}, \\  3\\right)\\right]$"
      ],
      "text/plain": [
       "<IPython.core.display.Math object>"
      ]
     },
     "metadata": {},
     "output_type": "display_data"
    },
    {
     "data": {
      "text/latex": [
       "$\\displaystyle \\left[\\begin{matrix}a^{(4311)}_{3} b^{(4311)}_{2} & 0 & 0 & a^{(4311)}_{1} a^{(4311)}_{3} & a^{(4311)}_{1} b^{(4311)}_{2} & 0\\\\0 & b^{(4311)}_{2} & 0 & b^{(4311)}_{1} & 0 & 0\\\\a^{(4311)}_{2} a^{(4311)}_{3} b^{(4311)}_{1} b^{(4311)}_{2} & a^{(4311)}_{1} a^{(4311)}_{2} a^{(4311)}_{3} b^{(4311)}_{2} & a^{(4311)}_{1} a^{(4311)}_{3} b^{(4311)}_{1} b^{(4311)}_{2} & a^{(4311)}_{1} a^{(4311)}_{2} a^{(4311)}_{3} b^{(4311)}_{1} & a^{(4311)}_{1} a^{(4311)}_{2} b^{(4311)}_{1} b^{(4311)}_{2} & 0\\\\0 & 0 & 0 & 1 & 0 & 0\\\\0 & 0 & 0 & a^{(4311)}_{3} & b^{(4311)}_{2} & 0\\\\b^{(4311)}_{1} b^{(4311)}_{2} b^{(4311)}_{3} & a^{(4311)}_{1} b^{(4311)}_{2} b^{(4311)}_{3} & 0 & a^{(4311)}_{1} b^{(4311)}_{1} b^{(4311)}_{3} & 0 & a^{(4311)}_{1} b^{(4311)}_{1} b^{(4311)}_{2}\\end{matrix}\\right]$"
      ],
      "text/plain": [
       "<IPython.core.display.Math object>"
      ]
     },
     "metadata": {},
     "output_type": "display_data"
    },
    {
     "data": {
      "text/latex": [
       "$\\displaystyle a_{1} = a^{(4311)}_{1} a^{(4311)}_{3} b^{(4311)}_{2}$"
      ],
      "text/plain": [
       "<IPython.core.display.Math object>"
      ]
     },
     "metadata": {},
     "output_type": "display_data"
    },
    {
     "data": {
      "text/latex": [
       "$\\displaystyle b_{1} = b^{(4311)}_{1} b^{(4311)}_{2}$"
      ],
      "text/plain": [
       "<IPython.core.display.Math object>"
      ]
     },
     "metadata": {},
     "output_type": "display_data"
    },
    {
     "data": {
      "text/latex": [
       "$\\displaystyle a_{2} = a^{(4311)}_{1} a^{(4311)}_{2} a^{(4311)}_{3} b^{(4311)}_{1} b^{(4311)}_{2}$"
      ],
      "text/plain": [
       "<IPython.core.display.Math object>"
      ]
     },
     "metadata": {},
     "output_type": "display_data"
    },
    {
     "data": {
      "text/latex": [
       "$\\displaystyle b_{2} = b^{(4311)}_{2}$"
      ],
      "text/plain": [
       "<IPython.core.display.Math object>"
      ]
     },
     "metadata": {},
     "output_type": "display_data"
    },
    {
     "data": {
      "text/latex": [
       "$\\displaystyle a_{3} = a^{(4311)}_{3} b^{(4311)}_{2}$"
      ],
      "text/plain": [
       "<IPython.core.display.Math object>"
      ]
     },
     "metadata": {},
     "output_type": "display_data"
    },
    {
     "data": {
      "text/latex": [
       "$\\displaystyle b_{3} = a^{(4311)}_{1} b^{(4311)}_{1} b^{(4311)}_{2} b^{(4311)}_{3}$"
      ],
      "text/plain": [
       "<IPython.core.display.Math object>"
      ]
     },
     "metadata": {},
     "output_type": "display_data"
    },
    {
     "data": {
      "text/latex": [
       "$\\displaystyle \\left(a^{(4311)}_{1}\\right)^{2} \\left(a^{(4311)}_{3}\\right)^{2} \\left(b^{(4311)}_{1}\\right)^{2} \\left(b^{(4311)}_{2}\\right)^{4} \\left(a^{(4311)}_{2} + b^{(4311)}_{3} + 1\\right)^{2}$"
      ],
      "text/plain": [
       "<IPython.core.display.Math object>"
      ]
     },
     "metadata": {},
     "output_type": "display_data"
    },
    {
     "name": "stdout",
     "output_type": "stream",
     "text": [
      "\n",
      "-----------\n",
      "Is leaf. Is normal crossing? True\n"
     ]
    },
    {
     "data": {
      "text/latex": [
       "$\\displaystyle a^{(42)}_{2} \\left(b^{(42)}_{2}\\right)^{2} \\left(a^{(42)}_{1} b^{(42)}_{1} + a^{(42)}_{3} b^{(42)}_{3} + 1\\right)$"
      ],
      "text/plain": [
       "<IPython.core.display.Math object>"
      ]
     },
     "metadata": {},
     "output_type": "display_data"
    },
    {
     "data": {
      "text/latex": [
       "$\\displaystyle \\left(a^{(42)}_{2}\\right)^{2} \\left(b^{(42)}_{2}\\right)^{5}$"
      ],
      "text/plain": [
       "<IPython.core.display.Math object>"
      ]
     },
     "metadata": {},
     "output_type": "display_data"
    },
    {
     "data": {
      "text/latex": [
       "$\\displaystyle RLCTS = \\left[ \\left( a^{(42)}_{2}, \\  3\\right), \\  \\left( b^{(42)}_{2}, \\  3\\right)\\right]$"
      ],
      "text/plain": [
       "<IPython.core.display.Math object>"
      ]
     },
     "metadata": {},
     "output_type": "display_data"
    },
    {
     "data": {
      "text/latex": [
       "$\\displaystyle \\left[\\begin{matrix}a^{(42)}_{2} b^{(42)}_{2} & 0 & a^{(42)}_{1} b^{(42)}_{2} & a^{(42)}_{1} a^{(42)}_{2} & 0 & 0\\\\0 & b^{(42)}_{2} & 0 & b^{(42)}_{1} & 0 & 0\\\\0 & 0 & b^{(42)}_{2} & a^{(42)}_{2} & 0 & 0\\\\0 & 0 & 0 & 1 & 0 & 0\\\\0 & 0 & a^{(42)}_{3} b^{(42)}_{2} & a^{(42)}_{2} a^{(42)}_{3} & a^{(42)}_{2} b^{(42)}_{2} & 0\\\\0 & 0 & 0 & b^{(42)}_{3} & 0 & b^{(42)}_{2}\\end{matrix}\\right]$"
      ],
      "text/plain": [
       "<IPython.core.display.Math object>"
      ]
     },
     "metadata": {},
     "output_type": "display_data"
    },
    {
     "data": {
      "text/latex": [
       "$\\displaystyle a_{1} = a^{(42)}_{1} a^{(42)}_{2} b^{(42)}_{2}$"
      ],
      "text/plain": [
       "<IPython.core.display.Math object>"
      ]
     },
     "metadata": {},
     "output_type": "display_data"
    },
    {
     "data": {
      "text/latex": [
       "$\\displaystyle b_{1} = b^{(42)}_{1} b^{(42)}_{2}$"
      ],
      "text/plain": [
       "<IPython.core.display.Math object>"
      ]
     },
     "metadata": {},
     "output_type": "display_data"
    },
    {
     "data": {
      "text/latex": [
       "$\\displaystyle a_{2} = a^{(42)}_{2} b^{(42)}_{2}$"
      ],
      "text/plain": [
       "<IPython.core.display.Math object>"
      ]
     },
     "metadata": {},
     "output_type": "display_data"
    },
    {
     "data": {
      "text/latex": [
       "$\\displaystyle b_{2} = b^{(42)}_{2}$"
      ],
      "text/plain": [
       "<IPython.core.display.Math object>"
      ]
     },
     "metadata": {},
     "output_type": "display_data"
    },
    {
     "data": {
      "text/latex": [
       "$\\displaystyle a_{3} = a^{(42)}_{2} a^{(42)}_{3} b^{(42)}_{2}$"
      ],
      "text/plain": [
       "<IPython.core.display.Math object>"
      ]
     },
     "metadata": {},
     "output_type": "display_data"
    },
    {
     "data": {
      "text/latex": [
       "$\\displaystyle b_{3} = b^{(42)}_{2} b^{(42)}_{3}$"
      ],
      "text/plain": [
       "<IPython.core.display.Math object>"
      ]
     },
     "metadata": {},
     "output_type": "display_data"
    },
    {
     "data": {
      "text/latex": [
       "$\\displaystyle \\left(a^{(42)}_{2}\\right)^{2} \\left(b^{(42)}_{2}\\right)^{4} \\left(a^{(42)}_{1} b^{(42)}_{1} + a^{(42)}_{3} b^{(42)}_{3} + 1\\right)^{2}$"
      ],
      "text/plain": [
       "<IPython.core.display.Math object>"
      ]
     },
     "metadata": {},
     "output_type": "display_data"
    },
    {
     "name": "stdout",
     "output_type": "stream",
     "text": [
      "\n",
      "-----------\n",
      "Is leaf. Is normal crossing? True\n"
     ]
    },
    {
     "data": {
      "text/latex": [
       "$\\displaystyle a^{(4133)}_{1} a^{(4133)}_{3} \\left(b^{(4133)}_{2}\\right)^{2} b^{(4133)}_{3} \\left(a^{(4133)}_{2} + b^{(4133)}_{1} + 1\\right)$"
      ],
      "text/plain": [
       "<IPython.core.display.Math object>"
      ]
     },
     "metadata": {},
     "output_type": "display_data"
    },
    {
     "data": {
      "text/latex": [
       "$\\displaystyle \\left(a^{(4133)}_{1}\\right)^{2} \\left(a^{(4133)}_{3}\\right)^{2} \\left(b^{(4133)}_{2}\\right)^{5} \\left(b^{(4133)}_{3}\\right)^{2}$"
      ],
      "text/plain": [
       "<IPython.core.display.Math object>"
      ]
     },
     "metadata": {},
     "output_type": "display_data"
    },
    {
     "data": {
      "text/latex": [
       "$\\displaystyle RLCTS = \\left[ \\left( a^{(4133)}_{1}, \\  3\\right), \\  \\left( a^{(4133)}_{3}, \\  3\\right), \\  \\left( b^{(4133)}_{3}, \\  3\\right), \\  \\left( b^{(4133)}_{2}, \\  3\\right)\\right]$"
      ],
      "text/plain": [
       "<IPython.core.display.Math object>"
      ]
     },
     "metadata": {},
     "output_type": "display_data"
    },
    {
     "data": {
      "text/latex": [
       "$\\displaystyle \\left[\\begin{matrix}b^{(4133)}_{2} & 0 & 0 & a^{(4133)}_{1} & 0 & 0\\\\0 & a^{(4133)}_{3} b^{(4133)}_{2} b^{(4133)}_{3} & 0 & a^{(4133)}_{3} b^{(4133)}_{1} b^{(4133)}_{3} & b^{(4133)}_{1} b^{(4133)}_{2} b^{(4133)}_{3} & a^{(4133)}_{3} b^{(4133)}_{1} b^{(4133)}_{2}\\\\a^{(4133)}_{2} a^{(4133)}_{3} b^{(4133)}_{2} b^{(4133)}_{3} & 0 & a^{(4133)}_{1} a^{(4133)}_{3} b^{(4133)}_{2} b^{(4133)}_{3} & a^{(4133)}_{1} a^{(4133)}_{2} a^{(4133)}_{3} b^{(4133)}_{3} & a^{(4133)}_{1} a^{(4133)}_{2} b^{(4133)}_{2} b^{(4133)}_{3} & a^{(4133)}_{1} a^{(4133)}_{2} a^{(4133)}_{3} b^{(4133)}_{2}\\\\0 & 0 & 0 & 1 & 0 & 0\\\\a^{(4133)}_{3} b^{(4133)}_{2} & 0 & 0 & a^{(4133)}_{1} a^{(4133)}_{3} & a^{(4133)}_{1} b^{(4133)}_{2} & 0\\\\0 & 0 & 0 & b^{(4133)}_{3} & 0 & b^{(4133)}_{2}\\end{matrix}\\right]$"
      ],
      "text/plain": [
       "<IPython.core.display.Math object>"
      ]
     },
     "metadata": {},
     "output_type": "display_data"
    },
    {
     "data": {
      "text/latex": [
       "$\\displaystyle a_{1} = a^{(4133)}_{1} b^{(4133)}_{2}$"
      ],
      "text/plain": [
       "<IPython.core.display.Math object>"
      ]
     },
     "metadata": {},
     "output_type": "display_data"
    },
    {
     "data": {
      "text/latex": [
       "$\\displaystyle b_{1} = a^{(4133)}_{3} b^{(4133)}_{1} b^{(4133)}_{2} b^{(4133)}_{3}$"
      ],
      "text/plain": [
       "<IPython.core.display.Math object>"
      ]
     },
     "metadata": {},
     "output_type": "display_data"
    },
    {
     "data": {
      "text/latex": [
       "$\\displaystyle a_{2} = a^{(4133)}_{1} a^{(4133)}_{2} a^{(4133)}_{3} b^{(4133)}_{2} b^{(4133)}_{3}$"
      ],
      "text/plain": [
       "<IPython.core.display.Math object>"
      ]
     },
     "metadata": {},
     "output_type": "display_data"
    },
    {
     "data": {
      "text/latex": [
       "$\\displaystyle b_{2} = b^{(4133)}_{2}$"
      ],
      "text/plain": [
       "<IPython.core.display.Math object>"
      ]
     },
     "metadata": {},
     "output_type": "display_data"
    },
    {
     "data": {
      "text/latex": [
       "$\\displaystyle a_{3} = a^{(4133)}_{1} a^{(4133)}_{3} b^{(4133)}_{2}$"
      ],
      "text/plain": [
       "<IPython.core.display.Math object>"
      ]
     },
     "metadata": {},
     "output_type": "display_data"
    },
    {
     "data": {
      "text/latex": [
       "$\\displaystyle b_{3} = b^{(4133)}_{2} b^{(4133)}_{3}$"
      ],
      "text/plain": [
       "<IPython.core.display.Math object>"
      ]
     },
     "metadata": {},
     "output_type": "display_data"
    },
    {
     "data": {
      "text/latex": [
       "$\\displaystyle \\left(a^{(4133)}_{1}\\right)^{2} \\left(a^{(4133)}_{3}\\right)^{2} \\left(b^{(4133)}_{2}\\right)^{4} \\left(b^{(4133)}_{3}\\right)^{2} \\left(a^{(4133)}_{2} + b^{(4133)}_{1} + 1\\right)^{2}$"
      ],
      "text/plain": [
       "<IPython.core.display.Math object>"
      ]
     },
     "metadata": {},
     "output_type": "display_data"
    },
    {
     "name": "stdout",
     "output_type": "stream",
     "text": [
      "\n",
      "-----------\n",
      "Is leaf. Is normal crossing? True\n"
     ]
    },
    {
     "data": {
      "text/latex": [
       "$\\displaystyle a^{(4132)}_{1} a^{(4132)}_{2} a^{(4132)}_{3} \\left(b^{(4132)}_{2}\\right)^{2} \\left(b^{(4132)}_{1} + b^{(4132)}_{3} + 1\\right)$"
      ],
      "text/plain": [
       "<IPython.core.display.Math object>"
      ]
     },
     "metadata": {},
     "output_type": "display_data"
    },
    {
     "data": {
      "text/latex": [
       "$\\displaystyle \\left(a^{(4132)}_{1}\\right)^{2} \\left(a^{(4132)}_{2}\\right)^{2} \\left(a^{(4132)}_{3}\\right)^{2} \\left(b^{(4132)}_{2}\\right)^{5}$"
      ],
      "text/plain": [
       "<IPython.core.display.Math object>"
      ]
     },
     "metadata": {},
     "output_type": "display_data"
    },
    {
     "data": {
      "text/latex": [
       "$\\displaystyle RLCTS = \\left[ \\left( a^{(4132)}_{1}, \\  3\\right), \\  \\left( a^{(4132)}_{2}, \\  3\\right), \\  \\left( a^{(4132)}_{3}, \\  3\\right), \\  \\left( b^{(4132)}_{2}, \\  3\\right)\\right]$"
      ],
      "text/plain": [
       "<IPython.core.display.Math object>"
      ]
     },
     "metadata": {},
     "output_type": "display_data"
    },
    {
     "data": {
      "text/latex": [
       "$\\displaystyle \\left[\\begin{matrix}b^{(4132)}_{2} & 0 & 0 & a^{(4132)}_{1} & 0 & 0\\\\0 & a^{(4132)}_{2} a^{(4132)}_{3} b^{(4132)}_{2} & a^{(4132)}_{3} b^{(4132)}_{1} b^{(4132)}_{2} & a^{(4132)}_{2} a^{(4132)}_{3} b^{(4132)}_{1} & a^{(4132)}_{2} b^{(4132)}_{1} b^{(4132)}_{2} & 0\\\\a^{(4132)}_{2} a^{(4132)}_{3} b^{(4132)}_{2} & 0 & a^{(4132)}_{1} a^{(4132)}_{3} b^{(4132)}_{2} & a^{(4132)}_{1} a^{(4132)}_{2} a^{(4132)}_{3} & a^{(4132)}_{1} a^{(4132)}_{2} b^{(4132)}_{2} & 0\\\\0 & 0 & 0 & 1 & 0 & 0\\\\a^{(4132)}_{3} b^{(4132)}_{2} & 0 & 0 & a^{(4132)}_{1} a^{(4132)}_{3} & a^{(4132)}_{1} b^{(4132)}_{2} & 0\\\\0 & 0 & b^{(4132)}_{2} b^{(4132)}_{3} & a^{(4132)}_{2} b^{(4132)}_{3} & 0 & a^{(4132)}_{2} b^{(4132)}_{2}\\end{matrix}\\right]$"
      ],
      "text/plain": [
       "<IPython.core.display.Math object>"
      ]
     },
     "metadata": {},
     "output_type": "display_data"
    },
    {
     "data": {
      "text/latex": [
       "$\\displaystyle a_{1} = a^{(4132)}_{1} b^{(4132)}_{2}$"
      ],
      "text/plain": [
       "<IPython.core.display.Math object>"
      ]
     },
     "metadata": {},
     "output_type": "display_data"
    },
    {
     "data": {
      "text/latex": [
       "$\\displaystyle b_{1} = a^{(4132)}_{2} a^{(4132)}_{3} b^{(4132)}_{1} b^{(4132)}_{2}$"
      ],
      "text/plain": [
       "<IPython.core.display.Math object>"
      ]
     },
     "metadata": {},
     "output_type": "display_data"
    },
    {
     "data": {
      "text/latex": [
       "$\\displaystyle a_{2} = a^{(4132)}_{1} a^{(4132)}_{2} a^{(4132)}_{3} b^{(4132)}_{2}$"
      ],
      "text/plain": [
       "<IPython.core.display.Math object>"
      ]
     },
     "metadata": {},
     "output_type": "display_data"
    },
    {
     "data": {
      "text/latex": [
       "$\\displaystyle b_{2} = b^{(4132)}_{2}$"
      ],
      "text/plain": [
       "<IPython.core.display.Math object>"
      ]
     },
     "metadata": {},
     "output_type": "display_data"
    },
    {
     "data": {
      "text/latex": [
       "$\\displaystyle a_{3} = a^{(4132)}_{1} a^{(4132)}_{3} b^{(4132)}_{2}$"
      ],
      "text/plain": [
       "<IPython.core.display.Math object>"
      ]
     },
     "metadata": {},
     "output_type": "display_data"
    },
    {
     "data": {
      "text/latex": [
       "$\\displaystyle b_{3} = a^{(4132)}_{2} b^{(4132)}_{2} b^{(4132)}_{3}$"
      ],
      "text/plain": [
       "<IPython.core.display.Math object>"
      ]
     },
     "metadata": {},
     "output_type": "display_data"
    },
    {
     "data": {
      "text/latex": [
       "$\\displaystyle \\left(a^{(4132)}_{1}\\right)^{2} \\left(a^{(4132)}_{2}\\right)^{2} \\left(a^{(4132)}_{3}\\right)^{2} \\left(b^{(4132)}_{2}\\right)^{4} \\left(b^{(4132)}_{1} + b^{(4132)}_{3} + 1\\right)^{2}$"
      ],
      "text/plain": [
       "<IPython.core.display.Math object>"
      ]
     },
     "metadata": {},
     "output_type": "display_data"
    },
    {
     "name": "stdout",
     "output_type": "stream",
     "text": [
      "\n",
      "-----------\n",
      "Is leaf. Is normal crossing? True\n"
     ]
    },
    {
     "data": {
      "text/latex": [
       "$\\displaystyle a^{(4131)}_{1} a^{(4131)}_{3} b^{(4131)}_{1} \\left(b^{(4131)}_{2}\\right)^{2} \\left(a^{(4131)}_{2} + b^{(4131)}_{3} + 1\\right)$"
      ],
      "text/plain": [
       "<IPython.core.display.Math object>"
      ]
     },
     "metadata": {},
     "output_type": "display_data"
    },
    {
     "data": {
      "text/latex": [
       "$\\displaystyle \\left(a^{(4131)}_{1}\\right)^{2} \\left(a^{(4131)}_{3}\\right)^{2} \\left(b^{(4131)}_{1}\\right)^{2} \\left(b^{(4131)}_{2}\\right)^{5}$"
      ],
      "text/plain": [
       "<IPython.core.display.Math object>"
      ]
     },
     "metadata": {},
     "output_type": "display_data"
    },
    {
     "data": {
      "text/latex": [
       "$\\displaystyle RLCTS = \\left[ \\left( a^{(4131)}_{1}, \\  3\\right), \\  \\left( a^{(4131)}_{3}, \\  3\\right), \\  \\left( b^{(4131)}_{1}, \\  3\\right), \\  \\left( b^{(4131)}_{2}, \\  3\\right)\\right]$"
      ],
      "text/plain": [
       "<IPython.core.display.Math object>"
      ]
     },
     "metadata": {},
     "output_type": "display_data"
    },
    {
     "data": {
      "text/latex": [
       "$\\displaystyle \\left[\\begin{matrix}b^{(4131)}_{2} & 0 & 0 & a^{(4131)}_{1} & 0 & 0\\\\0 & a^{(4131)}_{3} b^{(4131)}_{2} & 0 & a^{(4131)}_{3} b^{(4131)}_{1} & b^{(4131)}_{1} b^{(4131)}_{2} & 0\\\\a^{(4131)}_{2} a^{(4131)}_{3} b^{(4131)}_{1} b^{(4131)}_{2} & a^{(4131)}_{1} a^{(4131)}_{2} a^{(4131)}_{3} b^{(4131)}_{2} & a^{(4131)}_{1} a^{(4131)}_{3} b^{(4131)}_{1} b^{(4131)}_{2} & a^{(4131)}_{1} a^{(4131)}_{2} a^{(4131)}_{3} b^{(4131)}_{1} & a^{(4131)}_{1} a^{(4131)}_{2} b^{(4131)}_{1} b^{(4131)}_{2} & 0\\\\0 & 0 & 0 & 1 & 0 & 0\\\\a^{(4131)}_{3} b^{(4131)}_{2} & 0 & 0 & a^{(4131)}_{1} a^{(4131)}_{3} & a^{(4131)}_{1} b^{(4131)}_{2} & 0\\\\0 & b^{(4131)}_{2} b^{(4131)}_{3} & 0 & b^{(4131)}_{1} b^{(4131)}_{3} & 0 & b^{(4131)}_{1} b^{(4131)}_{2}\\end{matrix}\\right]$"
      ],
      "text/plain": [
       "<IPython.core.display.Math object>"
      ]
     },
     "metadata": {},
     "output_type": "display_data"
    },
    {
     "data": {
      "text/latex": [
       "$\\displaystyle a_{1} = a^{(4131)}_{1} b^{(4131)}_{2}$"
      ],
      "text/plain": [
       "<IPython.core.display.Math object>"
      ]
     },
     "metadata": {},
     "output_type": "display_data"
    },
    {
     "data": {
      "text/latex": [
       "$\\displaystyle b_{1} = a^{(4131)}_{3} b^{(4131)}_{1} b^{(4131)}_{2}$"
      ],
      "text/plain": [
       "<IPython.core.display.Math object>"
      ]
     },
     "metadata": {},
     "output_type": "display_data"
    },
    {
     "data": {
      "text/latex": [
       "$\\displaystyle a_{2} = a^{(4131)}_{1} a^{(4131)}_{2} a^{(4131)}_{3} b^{(4131)}_{1} b^{(4131)}_{2}$"
      ],
      "text/plain": [
       "<IPython.core.display.Math object>"
      ]
     },
     "metadata": {},
     "output_type": "display_data"
    },
    {
     "data": {
      "text/latex": [
       "$\\displaystyle b_{2} = b^{(4131)}_{2}$"
      ],
      "text/plain": [
       "<IPython.core.display.Math object>"
      ]
     },
     "metadata": {},
     "output_type": "display_data"
    },
    {
     "data": {
      "text/latex": [
       "$\\displaystyle a_{3} = a^{(4131)}_{1} a^{(4131)}_{3} b^{(4131)}_{2}$"
      ],
      "text/plain": [
       "<IPython.core.display.Math object>"
      ]
     },
     "metadata": {},
     "output_type": "display_data"
    },
    {
     "data": {
      "text/latex": [
       "$\\displaystyle b_{3} = b^{(4131)}_{1} b^{(4131)}_{2} b^{(4131)}_{3}$"
      ],
      "text/plain": [
       "<IPython.core.display.Math object>"
      ]
     },
     "metadata": {},
     "output_type": "display_data"
    },
    {
     "data": {
      "text/latex": [
       "$\\displaystyle \\left(a^{(4131)}_{1}\\right)^{2} \\left(a^{(4131)}_{3}\\right)^{2} \\left(b^{(4131)}_{1}\\right)^{2} \\left(b^{(4131)}_{2}\\right)^{4} \\left(a^{(4131)}_{2} + b^{(4131)}_{3} + 1\\right)^{2}$"
      ],
      "text/plain": [
       "<IPython.core.display.Math object>"
      ]
     },
     "metadata": {},
     "output_type": "display_data"
    },
    {
     "name": "stdout",
     "output_type": "stream",
     "text": [
      "\n",
      "-----------\n",
      "Is leaf. Is normal crossing? True\n"
     ]
    },
    {
     "data": {
      "text/latex": [
       "$\\displaystyle a^{(412)}_{1} a^{(412)}_{2} \\left(b^{(412)}_{2}\\right)^{2} \\left(a^{(412)}_{3} b^{(412)}_{3} + b^{(412)}_{1} + 1\\right)$"
      ],
      "text/plain": [
       "<IPython.core.display.Math object>"
      ]
     },
     "metadata": {},
     "output_type": "display_data"
    },
    {
     "data": {
      "text/latex": [
       "$\\displaystyle \\left(a^{(412)}_{1}\\right)^{2} \\left(a^{(412)}_{2}\\right)^{2} \\left(b^{(412)}_{2}\\right)^{5}$"
      ],
      "text/plain": [
       "<IPython.core.display.Math object>"
      ]
     },
     "metadata": {},
     "output_type": "display_data"
    },
    {
     "data": {
      "text/latex": [
       "$\\displaystyle RLCTS = \\left[ \\left( a^{(412)}_{1}, \\  3\\right), \\  \\left( a^{(412)}_{2}, \\  3\\right), \\  \\left( b^{(412)}_{2}, \\  3\\right)\\right]$"
      ],
      "text/plain": [
       "<IPython.core.display.Math object>"
      ]
     },
     "metadata": {},
     "output_type": "display_data"
    },
    {
     "data": {
      "text/latex": [
       "$\\displaystyle \\left[\\begin{matrix}b^{(412)}_{2} & 0 & 0 & a^{(412)}_{1} & 0 & 0\\\\0 & a^{(412)}_{2} b^{(412)}_{2} & b^{(412)}_{1} b^{(412)}_{2} & a^{(412)}_{2} b^{(412)}_{1} & 0 & 0\\\\a^{(412)}_{2} b^{(412)}_{2} & 0 & a^{(412)}_{1} b^{(412)}_{2} & a^{(412)}_{1} a^{(412)}_{2} & 0 & 0\\\\0 & 0 & 0 & 1 & 0 & 0\\\\a^{(412)}_{2} a^{(412)}_{3} b^{(412)}_{2} & 0 & a^{(412)}_{1} a^{(412)}_{3} b^{(412)}_{2} & a^{(412)}_{1} a^{(412)}_{2} a^{(412)}_{3} & a^{(412)}_{1} a^{(412)}_{2} b^{(412)}_{2} & 0\\\\0 & 0 & 0 & b^{(412)}_{3} & 0 & b^{(412)}_{2}\\end{matrix}\\right]$"
      ],
      "text/plain": [
       "<IPython.core.display.Math object>"
      ]
     },
     "metadata": {},
     "output_type": "display_data"
    },
    {
     "data": {
      "text/latex": [
       "$\\displaystyle a_{1} = a^{(412)}_{1} b^{(412)}_{2}$"
      ],
      "text/plain": [
       "<IPython.core.display.Math object>"
      ]
     },
     "metadata": {},
     "output_type": "display_data"
    },
    {
     "data": {
      "text/latex": [
       "$\\displaystyle b_{1} = a^{(412)}_{2} b^{(412)}_{1} b^{(412)}_{2}$"
      ],
      "text/plain": [
       "<IPython.core.display.Math object>"
      ]
     },
     "metadata": {},
     "output_type": "display_data"
    },
    {
     "data": {
      "text/latex": [
       "$\\displaystyle a_{2} = a^{(412)}_{1} a^{(412)}_{2} b^{(412)}_{2}$"
      ],
      "text/plain": [
       "<IPython.core.display.Math object>"
      ]
     },
     "metadata": {},
     "output_type": "display_data"
    },
    {
     "data": {
      "text/latex": [
       "$\\displaystyle b_{2} = b^{(412)}_{2}$"
      ],
      "text/plain": [
       "<IPython.core.display.Math object>"
      ]
     },
     "metadata": {},
     "output_type": "display_data"
    },
    {
     "data": {
      "text/latex": [
       "$\\displaystyle a_{3} = a^{(412)}_{1} a^{(412)}_{2} a^{(412)}_{3} b^{(412)}_{2}$"
      ],
      "text/plain": [
       "<IPython.core.display.Math object>"
      ]
     },
     "metadata": {},
     "output_type": "display_data"
    },
    {
     "data": {
      "text/latex": [
       "$\\displaystyle b_{3} = b^{(412)}_{2} b^{(412)}_{3}$"
      ],
      "text/plain": [
       "<IPython.core.display.Math object>"
      ]
     },
     "metadata": {},
     "output_type": "display_data"
    },
    {
     "data": {
      "text/latex": [
       "$\\displaystyle \\left(a^{(412)}_{1}\\right)^{2} \\left(a^{(412)}_{2}\\right)^{2} \\left(b^{(412)}_{2}\\right)^{4} \\left(a^{(412)}_{3} b^{(412)}_{3} + b^{(412)}_{1} + 1\\right)^{2}$"
      ],
      "text/plain": [
       "<IPython.core.display.Math object>"
      ]
     },
     "metadata": {},
     "output_type": "display_data"
    },
    {
     "name": "stdout",
     "output_type": "stream",
     "text": [
      "\n",
      "-----------\n",
      "Is leaf. Is normal crossing? True\n"
     ]
    },
    {
     "data": {
      "text/latex": [
       "$\\displaystyle a^{(411)}_{1} b^{(411)}_{1} \\left(b^{(411)}_{2}\\right)^{2} \\left(a^{(411)}_{2} + a^{(411)}_{3} b^{(411)}_{3} + 1\\right)$"
      ],
      "text/plain": [
       "<IPython.core.display.Math object>"
      ]
     },
     "metadata": {},
     "output_type": "display_data"
    },
    {
     "data": {
      "text/latex": [
       "$\\displaystyle \\left(a^{(411)}_{1}\\right)^{2} \\left(b^{(411)}_{1}\\right)^{2} \\left(b^{(411)}_{2}\\right)^{5}$"
      ],
      "text/plain": [
       "<IPython.core.display.Math object>"
      ]
     },
     "metadata": {},
     "output_type": "display_data"
    },
    {
     "data": {
      "text/latex": [
       "$\\displaystyle RLCTS = \\left[ \\left( a^{(411)}_{1}, \\  3\\right), \\  \\left( b^{(411)}_{1}, \\  3\\right), \\  \\left( b^{(411)}_{2}, \\  3\\right)\\right]$"
      ],
      "text/plain": [
       "<IPython.core.display.Math object>"
      ]
     },
     "metadata": {},
     "output_type": "display_data"
    },
    {
     "data": {
      "text/latex": [
       "$\\displaystyle \\left[\\begin{matrix}b^{(411)}_{2} & 0 & 0 & a^{(411)}_{1} & 0 & 0\\\\0 & b^{(411)}_{2} & 0 & b^{(411)}_{1} & 0 & 0\\\\a^{(411)}_{2} b^{(411)}_{1} b^{(411)}_{2} & a^{(411)}_{1} a^{(411)}_{2} b^{(411)}_{2} & a^{(411)}_{1} b^{(411)}_{1} b^{(411)}_{2} & a^{(411)}_{1} a^{(411)}_{2} b^{(411)}_{1} & 0 & 0\\\\0 & 0 & 0 & 1 & 0 & 0\\\\a^{(411)}_{3} b^{(411)}_{1} b^{(411)}_{2} & a^{(411)}_{1} a^{(411)}_{3} b^{(411)}_{2} & 0 & a^{(411)}_{1} a^{(411)}_{3} b^{(411)}_{1} & a^{(411)}_{1} b^{(411)}_{1} b^{(411)}_{2} & 0\\\\0 & 0 & 0 & b^{(411)}_{3} & 0 & b^{(411)}_{2}\\end{matrix}\\right]$"
      ],
      "text/plain": [
       "<IPython.core.display.Math object>"
      ]
     },
     "metadata": {},
     "output_type": "display_data"
    },
    {
     "data": {
      "text/latex": [
       "$\\displaystyle a_{1} = a^{(411)}_{1} b^{(411)}_{2}$"
      ],
      "text/plain": [
       "<IPython.core.display.Math object>"
      ]
     },
     "metadata": {},
     "output_type": "display_data"
    },
    {
     "data": {
      "text/latex": [
       "$\\displaystyle b_{1} = b^{(411)}_{1} b^{(411)}_{2}$"
      ],
      "text/plain": [
       "<IPython.core.display.Math object>"
      ]
     },
     "metadata": {},
     "output_type": "display_data"
    },
    {
     "data": {
      "text/latex": [
       "$\\displaystyle a_{2} = a^{(411)}_{1} a^{(411)}_{2} b^{(411)}_{1} b^{(411)}_{2}$"
      ],
      "text/plain": [
       "<IPython.core.display.Math object>"
      ]
     },
     "metadata": {},
     "output_type": "display_data"
    },
    {
     "data": {
      "text/latex": [
       "$\\displaystyle b_{2} = b^{(411)}_{2}$"
      ],
      "text/plain": [
       "<IPython.core.display.Math object>"
      ]
     },
     "metadata": {},
     "output_type": "display_data"
    },
    {
     "data": {
      "text/latex": [
       "$\\displaystyle a_{3} = a^{(411)}_{1} a^{(411)}_{3} b^{(411)}_{1} b^{(411)}_{2}$"
      ],
      "text/plain": [
       "<IPython.core.display.Math object>"
      ]
     },
     "metadata": {},
     "output_type": "display_data"
    },
    {
     "data": {
      "text/latex": [
       "$\\displaystyle b_{3} = b^{(411)}_{2} b^{(411)}_{3}$"
      ],
      "text/plain": [
       "<IPython.core.display.Math object>"
      ]
     },
     "metadata": {},
     "output_type": "display_data"
    },
    {
     "data": {
      "text/latex": [
       "$\\displaystyle \\left(a^{(411)}_{1}\\right)^{2} \\left(b^{(411)}_{1}\\right)^{2} \\left(b^{(411)}_{2}\\right)^{4} \\left(a^{(411)}_{2} + a^{(411)}_{3} b^{(411)}_{3} + 1\\right)^{2}$"
      ],
      "text/plain": [
       "<IPython.core.display.Math object>"
      ]
     },
     "metadata": {},
     "output_type": "display_data"
    },
    {
     "name": "stdout",
     "output_type": "stream",
     "text": [
      "\n",
      "-----------\n",
      "Is leaf. Is normal crossing? True\n"
     ]
    },
    {
     "data": {
      "text/latex": [
       "$\\displaystyle \\left(a^{(333)}_{2}\\right)^{2} a^{(333)}_{3} b^{(333)}_{3} \\left(a^{(333)}_{1} b^{(333)}_{1} + b^{(333)}_{2} + 1\\right)$"
      ],
      "text/plain": [
       "<IPython.core.display.Math object>"
      ]
     },
     "metadata": {},
     "output_type": "display_data"
    },
    {
     "data": {
      "text/latex": [
       "$\\displaystyle \\left(a^{(333)}_{2}\\right)^{5} \\left(a^{(333)}_{3}\\right)^{2} \\left(b^{(333)}_{3}\\right)^{2}$"
      ],
      "text/plain": [
       "<IPython.core.display.Math object>"
      ]
     },
     "metadata": {},
     "output_type": "display_data"
    },
    {
     "data": {
      "text/latex": [
       "$\\displaystyle RLCTS = \\left[ \\left( a^{(333)}_{3}, \\  3\\right), \\  \\left( b^{(333)}_{3}, \\  3\\right), \\  \\left( a^{(333)}_{2}, \\  3\\right)\\right]$"
      ],
      "text/plain": [
       "<IPython.core.display.Math object>"
      ]
     },
     "metadata": {},
     "output_type": "display_data"
    },
    {
     "data": {
      "text/latex": [
       "$\\displaystyle \\left[\\begin{matrix}a^{(333)}_{2} a^{(333)}_{3} b^{(333)}_{3} & 0 & a^{(333)}_{1} a^{(333)}_{3} b^{(333)}_{3} & 0 & a^{(333)}_{1} a^{(333)}_{2} b^{(333)}_{3} & a^{(333)}_{1} a^{(333)}_{2} a^{(333)}_{3}\\\\0 & a^{(333)}_{2} & b^{(333)}_{1} & 0 & 0 & 0\\\\0 & 0 & 1 & 0 & 0 & 0\\\\0 & 0 & a^{(333)}_{3} b^{(333)}_{2} b^{(333)}_{3} & a^{(333)}_{2} a^{(333)}_{3} b^{(333)}_{3} & a^{(333)}_{2} b^{(333)}_{2} b^{(333)}_{3} & a^{(333)}_{2} a^{(333)}_{3} b^{(333)}_{2}\\\\0 & 0 & a^{(333)}_{3} & 0 & a^{(333)}_{2} & 0\\\\0 & 0 & b^{(333)}_{3} & 0 & 0 & a^{(333)}_{2}\\end{matrix}\\right]$"
      ],
      "text/plain": [
       "<IPython.core.display.Math object>"
      ]
     },
     "metadata": {},
     "output_type": "display_data"
    },
    {
     "data": {
      "text/latex": [
       "$\\displaystyle a_{1} = a^{(333)}_{1} a^{(333)}_{2} a^{(333)}_{3} b^{(333)}_{3}$"
      ],
      "text/plain": [
       "<IPython.core.display.Math object>"
      ]
     },
     "metadata": {},
     "output_type": "display_data"
    },
    {
     "data": {
      "text/latex": [
       "$\\displaystyle b_{1} = a^{(333)}_{2} b^{(333)}_{1}$"
      ],
      "text/plain": [
       "<IPython.core.display.Math object>"
      ]
     },
     "metadata": {},
     "output_type": "display_data"
    },
    {
     "data": {
      "text/latex": [
       "$\\displaystyle a_{2} = a^{(333)}_{2}$"
      ],
      "text/plain": [
       "<IPython.core.display.Math object>"
      ]
     },
     "metadata": {},
     "output_type": "display_data"
    },
    {
     "data": {
      "text/latex": [
       "$\\displaystyle b_{2} = a^{(333)}_{2} a^{(333)}_{3} b^{(333)}_{2} b^{(333)}_{3}$"
      ],
      "text/plain": [
       "<IPython.core.display.Math object>"
      ]
     },
     "metadata": {},
     "output_type": "display_data"
    },
    {
     "data": {
      "text/latex": [
       "$\\displaystyle a_{3} = a^{(333)}_{2} a^{(333)}_{3}$"
      ],
      "text/plain": [
       "<IPython.core.display.Math object>"
      ]
     },
     "metadata": {},
     "output_type": "display_data"
    },
    {
     "data": {
      "text/latex": [
       "$\\displaystyle b_{3} = a^{(333)}_{2} b^{(333)}_{3}$"
      ],
      "text/plain": [
       "<IPython.core.display.Math object>"
      ]
     },
     "metadata": {},
     "output_type": "display_data"
    },
    {
     "data": {
      "text/latex": [
       "$\\displaystyle \\left(a^{(333)}_{2}\\right)^{4} \\left(a^{(333)}_{3}\\right)^{2} \\left(b^{(333)}_{3}\\right)^{2} \\left(a^{(333)}_{1} b^{(333)}_{1} + b^{(333)}_{2} + 1\\right)^{2}$"
      ],
      "text/plain": [
       "<IPython.core.display.Math object>"
      ]
     },
     "metadata": {},
     "output_type": "display_data"
    },
    {
     "name": "stdout",
     "output_type": "stream",
     "text": [
      "\n",
      "-----------\n",
      "Is leaf. Is normal crossing? True\n"
     ]
    },
    {
     "data": {
      "text/latex": [
       "$\\displaystyle \\left(a^{(332)}_{2}\\right)^{2} a^{(332)}_{3} b^{(332)}_{2} \\left(a^{(332)}_{1} b^{(332)}_{1} + b^{(332)}_{3} + 1\\right)$"
      ],
      "text/plain": [
       "<IPython.core.display.Math object>"
      ]
     },
     "metadata": {},
     "output_type": "display_data"
    },
    {
     "data": {
      "text/latex": [
       "$\\displaystyle \\left(a^{(332)}_{2}\\right)^{5} \\left(a^{(332)}_{3}\\right)^{2} \\left(b^{(332)}_{2}\\right)^{2}$"
      ],
      "text/plain": [
       "<IPython.core.display.Math object>"
      ]
     },
     "metadata": {},
     "output_type": "display_data"
    },
    {
     "data": {
      "text/latex": [
       "$\\displaystyle RLCTS = \\left[ \\left( a^{(332)}_{3}, \\  3\\right), \\  \\left( b^{(332)}_{2}, \\  3\\right), \\  \\left( a^{(332)}_{2}, \\  3\\right)\\right]$"
      ],
      "text/plain": [
       "<IPython.core.display.Math object>"
      ]
     },
     "metadata": {},
     "output_type": "display_data"
    },
    {
     "data": {
      "text/latex": [
       "$\\displaystyle \\left[\\begin{matrix}a^{(332)}_{2} a^{(332)}_{3} b^{(332)}_{2} & 0 & a^{(332)}_{1} a^{(332)}_{3} b^{(332)}_{2} & a^{(332)}_{1} a^{(332)}_{2} a^{(332)}_{3} & a^{(332)}_{1} a^{(332)}_{2} b^{(332)}_{2} & 0\\\\0 & a^{(332)}_{2} & b^{(332)}_{1} & 0 & 0 & 0\\\\0 & 0 & 1 & 0 & 0 & 0\\\\0 & 0 & a^{(332)}_{3} b^{(332)}_{2} & a^{(332)}_{2} a^{(332)}_{3} & a^{(332)}_{2} b^{(332)}_{2} & 0\\\\0 & 0 & a^{(332)}_{3} & 0 & a^{(332)}_{2} & 0\\\\0 & 0 & b^{(332)}_{2} b^{(332)}_{3} & a^{(332)}_{2} b^{(332)}_{3} & 0 & a^{(332)}_{2} b^{(332)}_{2}\\end{matrix}\\right]$"
      ],
      "text/plain": [
       "<IPython.core.display.Math object>"
      ]
     },
     "metadata": {},
     "output_type": "display_data"
    },
    {
     "data": {
      "text/latex": [
       "$\\displaystyle a_{1} = a^{(332)}_{1} a^{(332)}_{2} a^{(332)}_{3} b^{(332)}_{2}$"
      ],
      "text/plain": [
       "<IPython.core.display.Math object>"
      ]
     },
     "metadata": {},
     "output_type": "display_data"
    },
    {
     "data": {
      "text/latex": [
       "$\\displaystyle b_{1} = a^{(332)}_{2} b^{(332)}_{1}$"
      ],
      "text/plain": [
       "<IPython.core.display.Math object>"
      ]
     },
     "metadata": {},
     "output_type": "display_data"
    },
    {
     "data": {
      "text/latex": [
       "$\\displaystyle a_{2} = a^{(332)}_{2}$"
      ],
      "text/plain": [
       "<IPython.core.display.Math object>"
      ]
     },
     "metadata": {},
     "output_type": "display_data"
    },
    {
     "data": {
      "text/latex": [
       "$\\displaystyle b_{2} = a^{(332)}_{2} a^{(332)}_{3} b^{(332)}_{2}$"
      ],
      "text/plain": [
       "<IPython.core.display.Math object>"
      ]
     },
     "metadata": {},
     "output_type": "display_data"
    },
    {
     "data": {
      "text/latex": [
       "$\\displaystyle a_{3} = a^{(332)}_{2} a^{(332)}_{3}$"
      ],
      "text/plain": [
       "<IPython.core.display.Math object>"
      ]
     },
     "metadata": {},
     "output_type": "display_data"
    },
    {
     "data": {
      "text/latex": [
       "$\\displaystyle b_{3} = a^{(332)}_{2} b^{(332)}_{2} b^{(332)}_{3}$"
      ],
      "text/plain": [
       "<IPython.core.display.Math object>"
      ]
     },
     "metadata": {},
     "output_type": "display_data"
    },
    {
     "data": {
      "text/latex": [
       "$\\displaystyle \\left(a^{(332)}_{2}\\right)^{4} \\left(a^{(332)}_{3}\\right)^{2} \\left(b^{(332)}_{2}\\right)^{2} \\left(a^{(332)}_{1} b^{(332)}_{1} + b^{(332)}_{3} + 1\\right)^{2}$"
      ],
      "text/plain": [
       "<IPython.core.display.Math object>"
      ]
     },
     "metadata": {},
     "output_type": "display_data"
    },
    {
     "name": "stdout",
     "output_type": "stream",
     "text": [
      "\n",
      "-----------\n",
      "Is leaf. Is normal crossing? True\n"
     ]
    },
    {
     "data": {
      "text/latex": [
       "$\\displaystyle a^{(3313)}_{1} \\left(a^{(3313)}_{2}\\right)^{2} a^{(3313)}_{3} b^{(3313)}_{3} \\left(b^{(3313)}_{1} + b^{(3313)}_{2} + 1\\right)$"
      ],
      "text/plain": [
       "<IPython.core.display.Math object>"
      ]
     },
     "metadata": {},
     "output_type": "display_data"
    },
    {
     "data": {
      "text/latex": [
       "$\\displaystyle \\left(a^{(3313)}_{1}\\right)^{2} \\left(a^{(3313)}_{2}\\right)^{5} \\left(a^{(3313)}_{3}\\right)^{2} \\left(b^{(3313)}_{3}\\right)^{2}$"
      ],
      "text/plain": [
       "<IPython.core.display.Math object>"
      ]
     },
     "metadata": {},
     "output_type": "display_data"
    },
    {
     "data": {
      "text/latex": [
       "$\\displaystyle RLCTS = \\left[ \\left( a^{(3313)}_{1}, \\  3\\right), \\  \\left( a^{(3313)}_{3}, \\  3\\right), \\  \\left( b^{(3313)}_{3}, \\  3\\right), \\  \\left( a^{(3313)}_{2}, \\  3\\right)\\right]$"
      ],
      "text/plain": [
       "<IPython.core.display.Math object>"
      ]
     },
     "metadata": {},
     "output_type": "display_data"
    },
    {
     "data": {
      "text/latex": [
       "$\\displaystyle \\left[\\begin{matrix}a^{(3313)}_{2} a^{(3313)}_{3} & 0 & a^{(3313)}_{1} a^{(3313)}_{3} & 0 & a^{(3313)}_{1} a^{(3313)}_{2} & 0\\\\0 & a^{(3313)}_{2} b^{(3313)}_{3} & b^{(3313)}_{1} b^{(3313)}_{3} & 0 & 0 & a^{(3313)}_{2} b^{(3313)}_{1}\\\\0 & 0 & 1 & 0 & 0 & 0\\\\a^{(3313)}_{2} a^{(3313)}_{3} b^{(3313)}_{2} b^{(3313)}_{3} & 0 & a^{(3313)}_{1} a^{(3313)}_{3} b^{(3313)}_{2} b^{(3313)}_{3} & a^{(3313)}_{1} a^{(3313)}_{2} a^{(3313)}_{3} b^{(3313)}_{3} & a^{(3313)}_{1} a^{(3313)}_{2} b^{(3313)}_{2} b^{(3313)}_{3} & a^{(3313)}_{1} a^{(3313)}_{2} a^{(3313)}_{3} b^{(3313)}_{2}\\\\0 & 0 & a^{(3313)}_{3} & 0 & a^{(3313)}_{2} & 0\\\\a^{(3313)}_{2} b^{(3313)}_{3} & 0 & a^{(3313)}_{1} b^{(3313)}_{3} & 0 & 0 & a^{(3313)}_{1} a^{(3313)}_{2}\\end{matrix}\\right]$"
      ],
      "text/plain": [
       "<IPython.core.display.Math object>"
      ]
     },
     "metadata": {},
     "output_type": "display_data"
    },
    {
     "data": {
      "text/latex": [
       "$\\displaystyle a_{1} = a^{(3313)}_{1} a^{(3313)}_{2} a^{(3313)}_{3}$"
      ],
      "text/plain": [
       "<IPython.core.display.Math object>"
      ]
     },
     "metadata": {},
     "output_type": "display_data"
    },
    {
     "data": {
      "text/latex": [
       "$\\displaystyle b_{1} = a^{(3313)}_{2} b^{(3313)}_{1} b^{(3313)}_{3}$"
      ],
      "text/plain": [
       "<IPython.core.display.Math object>"
      ]
     },
     "metadata": {},
     "output_type": "display_data"
    },
    {
     "data": {
      "text/latex": [
       "$\\displaystyle a_{2} = a^{(3313)}_{2}$"
      ],
      "text/plain": [
       "<IPython.core.display.Math object>"
      ]
     },
     "metadata": {},
     "output_type": "display_data"
    },
    {
     "data": {
      "text/latex": [
       "$\\displaystyle b_{2} = a^{(3313)}_{1} a^{(3313)}_{2} a^{(3313)}_{3} b^{(3313)}_{2} b^{(3313)}_{3}$"
      ],
      "text/plain": [
       "<IPython.core.display.Math object>"
      ]
     },
     "metadata": {},
     "output_type": "display_data"
    },
    {
     "data": {
      "text/latex": [
       "$\\displaystyle a_{3} = a^{(3313)}_{2} a^{(3313)}_{3}$"
      ],
      "text/plain": [
       "<IPython.core.display.Math object>"
      ]
     },
     "metadata": {},
     "output_type": "display_data"
    },
    {
     "data": {
      "text/latex": [
       "$\\displaystyle b_{3} = a^{(3313)}_{1} a^{(3313)}_{2} b^{(3313)}_{3}$"
      ],
      "text/plain": [
       "<IPython.core.display.Math object>"
      ]
     },
     "metadata": {},
     "output_type": "display_data"
    },
    {
     "data": {
      "text/latex": [
       "$\\displaystyle \\left(a^{(3313)}_{1}\\right)^{2} \\left(a^{(3313)}_{2}\\right)^{4} \\left(a^{(3313)}_{3}\\right)^{2} \\left(b^{(3313)}_{3}\\right)^{2} \\left(b^{(3313)}_{1} + b^{(3313)}_{2} + 1\\right)^{2}$"
      ],
      "text/plain": [
       "<IPython.core.display.Math object>"
      ]
     },
     "metadata": {},
     "output_type": "display_data"
    },
    {
     "name": "stdout",
     "output_type": "stream",
     "text": [
      "\n",
      "-----------\n",
      "Is leaf. Is normal crossing? True\n"
     ]
    },
    {
     "data": {
      "text/latex": [
       "$\\displaystyle a^{(3312)}_{1} \\left(a^{(3312)}_{2}\\right)^{2} a^{(3312)}_{3} b^{(3312)}_{2} \\left(b^{(3312)}_{1} + b^{(3312)}_{3} + 1\\right)$"
      ],
      "text/plain": [
       "<IPython.core.display.Math object>"
      ]
     },
     "metadata": {},
     "output_type": "display_data"
    },
    {
     "data": {
      "text/latex": [
       "$\\displaystyle \\left(a^{(3312)}_{1}\\right)^{2} \\left(a^{(3312)}_{2}\\right)^{5} \\left(a^{(3312)}_{3}\\right)^{2} \\left(b^{(3312)}_{2}\\right)^{2}$"
      ],
      "text/plain": [
       "<IPython.core.display.Math object>"
      ]
     },
     "metadata": {},
     "output_type": "display_data"
    },
    {
     "data": {
      "text/latex": [
       "$\\displaystyle RLCTS = \\left[ \\left( a^{(3312)}_{1}, \\  3\\right), \\  \\left( a^{(3312)}_{3}, \\  3\\right), \\  \\left( b^{(3312)}_{2}, \\  3\\right), \\  \\left( a^{(3312)}_{2}, \\  3\\right)\\right]$"
      ],
      "text/plain": [
       "<IPython.core.display.Math object>"
      ]
     },
     "metadata": {},
     "output_type": "display_data"
    },
    {
     "data": {
      "text/latex": [
       "$\\displaystyle \\left[\\begin{matrix}a^{(3312)}_{2} a^{(3312)}_{3} & 0 & a^{(3312)}_{1} a^{(3312)}_{3} & 0 & a^{(3312)}_{1} a^{(3312)}_{2} & 0\\\\0 & a^{(3312)}_{2} b^{(3312)}_{2} & b^{(3312)}_{1} b^{(3312)}_{2} & a^{(3312)}_{2} b^{(3312)}_{1} & 0 & 0\\\\0 & 0 & 1 & 0 & 0 & 0\\\\a^{(3312)}_{2} a^{(3312)}_{3} b^{(3312)}_{2} & 0 & a^{(3312)}_{1} a^{(3312)}_{3} b^{(3312)}_{2} & a^{(3312)}_{1} a^{(3312)}_{2} a^{(3312)}_{3} & a^{(3312)}_{1} a^{(3312)}_{2} b^{(3312)}_{2} & 0\\\\0 & 0 & a^{(3312)}_{3} & 0 & a^{(3312)}_{2} & 0\\\\a^{(3312)}_{2} b^{(3312)}_{2} b^{(3312)}_{3} & 0 & a^{(3312)}_{1} b^{(3312)}_{2} b^{(3312)}_{3} & a^{(3312)}_{1} a^{(3312)}_{2} b^{(3312)}_{3} & 0 & a^{(3312)}_{1} a^{(3312)}_{2} b^{(3312)}_{2}\\end{matrix}\\right]$"
      ],
      "text/plain": [
       "<IPython.core.display.Math object>"
      ]
     },
     "metadata": {},
     "output_type": "display_data"
    },
    {
     "data": {
      "text/latex": [
       "$\\displaystyle a_{1} = a^{(3312)}_{1} a^{(3312)}_{2} a^{(3312)}_{3}$"
      ],
      "text/plain": [
       "<IPython.core.display.Math object>"
      ]
     },
     "metadata": {},
     "output_type": "display_data"
    },
    {
     "data": {
      "text/latex": [
       "$\\displaystyle b_{1} = a^{(3312)}_{2} b^{(3312)}_{1} b^{(3312)}_{2}$"
      ],
      "text/plain": [
       "<IPython.core.display.Math object>"
      ]
     },
     "metadata": {},
     "output_type": "display_data"
    },
    {
     "data": {
      "text/latex": [
       "$\\displaystyle a_{2} = a^{(3312)}_{2}$"
      ],
      "text/plain": [
       "<IPython.core.display.Math object>"
      ]
     },
     "metadata": {},
     "output_type": "display_data"
    },
    {
     "data": {
      "text/latex": [
       "$\\displaystyle b_{2} = a^{(3312)}_{1} a^{(3312)}_{2} a^{(3312)}_{3} b^{(3312)}_{2}$"
      ],
      "text/plain": [
       "<IPython.core.display.Math object>"
      ]
     },
     "metadata": {},
     "output_type": "display_data"
    },
    {
     "data": {
      "text/latex": [
       "$\\displaystyle a_{3} = a^{(3312)}_{2} a^{(3312)}_{3}$"
      ],
      "text/plain": [
       "<IPython.core.display.Math object>"
      ]
     },
     "metadata": {},
     "output_type": "display_data"
    },
    {
     "data": {
      "text/latex": [
       "$\\displaystyle b_{3} = a^{(3312)}_{1} a^{(3312)}_{2} b^{(3312)}_{2} b^{(3312)}_{3}$"
      ],
      "text/plain": [
       "<IPython.core.display.Math object>"
      ]
     },
     "metadata": {},
     "output_type": "display_data"
    },
    {
     "data": {
      "text/latex": [
       "$\\displaystyle \\left(a^{(3312)}_{1}\\right)^{2} \\left(a^{(3312)}_{2}\\right)^{4} \\left(a^{(3312)}_{3}\\right)^{2} \\left(b^{(3312)}_{2}\\right)^{2} \\left(b^{(3312)}_{1} + b^{(3312)}_{3} + 1\\right)^{2}$"
      ],
      "text/plain": [
       "<IPython.core.display.Math object>"
      ]
     },
     "metadata": {},
     "output_type": "display_data"
    },
    {
     "name": "stdout",
     "output_type": "stream",
     "text": [
      "\n",
      "-----------\n",
      "Is leaf. Is normal crossing? True\n"
     ]
    },
    {
     "data": {
      "text/latex": [
       "$\\displaystyle a^{(3311)}_{1} \\left(a^{(3311)}_{2}\\right)^{2} a^{(3311)}_{3} b^{(3311)}_{1} \\left(b^{(3311)}_{2} + b^{(3311)}_{3} + 1\\right)$"
      ],
      "text/plain": [
       "<IPython.core.display.Math object>"
      ]
     },
     "metadata": {},
     "output_type": "display_data"
    },
    {
     "data": {
      "text/latex": [
       "$\\displaystyle \\left(a^{(3311)}_{1}\\right)^{2} \\left(a^{(3311)}_{2}\\right)^{5} \\left(a^{(3311)}_{3}\\right)^{2} \\left(b^{(3311)}_{1}\\right)^{2}$"
      ],
      "text/plain": [
       "<IPython.core.display.Math object>"
      ]
     },
     "metadata": {},
     "output_type": "display_data"
    },
    {
     "data": {
      "text/latex": [
       "$\\displaystyle RLCTS = \\left[ \\left( a^{(3311)}_{1}, \\  3\\right), \\  \\left( a^{(3311)}_{3}, \\  3\\right), \\  \\left( b^{(3311)}_{1}, \\  3\\right), \\  \\left( a^{(3311)}_{2}, \\  3\\right)\\right]$"
      ],
      "text/plain": [
       "<IPython.core.display.Math object>"
      ]
     },
     "metadata": {},
     "output_type": "display_data"
    },
    {
     "data": {
      "text/latex": [
       "$\\displaystyle \\left[\\begin{matrix}a^{(3311)}_{2} a^{(3311)}_{3} & 0 & a^{(3311)}_{1} a^{(3311)}_{3} & 0 & a^{(3311)}_{1} a^{(3311)}_{2} & 0\\\\0 & a^{(3311)}_{2} & b^{(3311)}_{1} & 0 & 0 & 0\\\\0 & 0 & 1 & 0 & 0 & 0\\\\a^{(3311)}_{2} a^{(3311)}_{3} b^{(3311)}_{1} b^{(3311)}_{2} & a^{(3311)}_{1} a^{(3311)}_{2} a^{(3311)}_{3} b^{(3311)}_{2} & a^{(3311)}_{1} a^{(3311)}_{3} b^{(3311)}_{1} b^{(3311)}_{2} & a^{(3311)}_{1} a^{(3311)}_{2} a^{(3311)}_{3} b^{(3311)}_{1} & a^{(3311)}_{1} a^{(3311)}_{2} b^{(3311)}_{1} b^{(3311)}_{2} & 0\\\\0 & 0 & a^{(3311)}_{3} & 0 & a^{(3311)}_{2} & 0\\\\a^{(3311)}_{2} b^{(3311)}_{1} b^{(3311)}_{3} & a^{(3311)}_{1} a^{(3311)}_{2} b^{(3311)}_{3} & a^{(3311)}_{1} b^{(3311)}_{1} b^{(3311)}_{3} & 0 & 0 & a^{(3311)}_{1} a^{(3311)}_{2} b^{(3311)}_{1}\\end{matrix}\\right]$"
      ],
      "text/plain": [
       "<IPython.core.display.Math object>"
      ]
     },
     "metadata": {},
     "output_type": "display_data"
    },
    {
     "data": {
      "text/latex": [
       "$\\displaystyle a_{1} = a^{(3311)}_{1} a^{(3311)}_{2} a^{(3311)}_{3}$"
      ],
      "text/plain": [
       "<IPython.core.display.Math object>"
      ]
     },
     "metadata": {},
     "output_type": "display_data"
    },
    {
     "data": {
      "text/latex": [
       "$\\displaystyle b_{1} = a^{(3311)}_{2} b^{(3311)}_{1}$"
      ],
      "text/plain": [
       "<IPython.core.display.Math object>"
      ]
     },
     "metadata": {},
     "output_type": "display_data"
    },
    {
     "data": {
      "text/latex": [
       "$\\displaystyle a_{2} = a^{(3311)}_{2}$"
      ],
      "text/plain": [
       "<IPython.core.display.Math object>"
      ]
     },
     "metadata": {},
     "output_type": "display_data"
    },
    {
     "data": {
      "text/latex": [
       "$\\displaystyle b_{2} = a^{(3311)}_{1} a^{(3311)}_{2} a^{(3311)}_{3} b^{(3311)}_{1} b^{(3311)}_{2}$"
      ],
      "text/plain": [
       "<IPython.core.display.Math object>"
      ]
     },
     "metadata": {},
     "output_type": "display_data"
    },
    {
     "data": {
      "text/latex": [
       "$\\displaystyle a_{3} = a^{(3311)}_{2} a^{(3311)}_{3}$"
      ],
      "text/plain": [
       "<IPython.core.display.Math object>"
      ]
     },
     "metadata": {},
     "output_type": "display_data"
    },
    {
     "data": {
      "text/latex": [
       "$\\displaystyle b_{3} = a^{(3311)}_{1} a^{(3311)}_{2} b^{(3311)}_{1} b^{(3311)}_{3}$"
      ],
      "text/plain": [
       "<IPython.core.display.Math object>"
      ]
     },
     "metadata": {},
     "output_type": "display_data"
    },
    {
     "data": {
      "text/latex": [
       "$\\displaystyle \\left(a^{(3311)}_{1}\\right)^{2} \\left(a^{(3311)}_{2}\\right)^{4} \\left(a^{(3311)}_{3}\\right)^{2} \\left(b^{(3311)}_{1}\\right)^{2} \\left(b^{(3311)}_{2} + b^{(3311)}_{3} + 1\\right)^{2}$"
      ],
      "text/plain": [
       "<IPython.core.display.Math object>"
      ]
     },
     "metadata": {},
     "output_type": "display_data"
    },
    {
     "name": "stdout",
     "output_type": "stream",
     "text": [
      "\n",
      "-----------\n",
      "Is leaf. Is normal crossing? True\n"
     ]
    },
    {
     "data": {
      "text/latex": [
       "$\\displaystyle \\left(a^{(32)}_{2}\\right)^{2} b^{(32)}_{2} \\left(a^{(32)}_{1} b^{(32)}_{1} + a^{(32)}_{3} b^{(32)}_{3} + 1\\right)$"
      ],
      "text/plain": [
       "<IPython.core.display.Math object>"
      ]
     },
     "metadata": {},
     "output_type": "display_data"
    },
    {
     "data": {
      "text/latex": [
       "$\\displaystyle \\left(a^{(32)}_{2}\\right)^{5} \\left(b^{(32)}_{2}\\right)^{2}$"
      ],
      "text/plain": [
       "<IPython.core.display.Math object>"
      ]
     },
     "metadata": {},
     "output_type": "display_data"
    },
    {
     "data": {
      "text/latex": [
       "$\\displaystyle RLCTS = \\left[ \\left( b^{(32)}_{2}, \\  3\\right), \\  \\left( a^{(32)}_{2}, \\  3\\right)\\right]$"
      ],
      "text/plain": [
       "<IPython.core.display.Math object>"
      ]
     },
     "metadata": {},
     "output_type": "display_data"
    },
    {
     "data": {
      "text/latex": [
       "$\\displaystyle \\left[\\begin{matrix}a^{(32)}_{2} b^{(32)}_{2} & 0 & a^{(32)}_{1} b^{(32)}_{2} & a^{(32)}_{1} a^{(32)}_{2} & 0 & 0\\\\0 & a^{(32)}_{2} & b^{(32)}_{1} & 0 & 0 & 0\\\\0 & 0 & 1 & 0 & 0 & 0\\\\0 & 0 & b^{(32)}_{2} & a^{(32)}_{2} & 0 & 0\\\\0 & 0 & a^{(32)}_{3} b^{(32)}_{2} & a^{(32)}_{2} a^{(32)}_{3} & a^{(32)}_{2} b^{(32)}_{2} & 0\\\\0 & 0 & b^{(32)}_{3} & 0 & 0 & a^{(32)}_{2}\\end{matrix}\\right]$"
      ],
      "text/plain": [
       "<IPython.core.display.Math object>"
      ]
     },
     "metadata": {},
     "output_type": "display_data"
    },
    {
     "data": {
      "text/latex": [
       "$\\displaystyle a_{1} = a^{(32)}_{1} a^{(32)}_{2} b^{(32)}_{2}$"
      ],
      "text/plain": [
       "<IPython.core.display.Math object>"
      ]
     },
     "metadata": {},
     "output_type": "display_data"
    },
    {
     "data": {
      "text/latex": [
       "$\\displaystyle b_{1} = a^{(32)}_{2} b^{(32)}_{1}$"
      ],
      "text/plain": [
       "<IPython.core.display.Math object>"
      ]
     },
     "metadata": {},
     "output_type": "display_data"
    },
    {
     "data": {
      "text/latex": [
       "$\\displaystyle a_{2} = a^{(32)}_{2}$"
      ],
      "text/plain": [
       "<IPython.core.display.Math object>"
      ]
     },
     "metadata": {},
     "output_type": "display_data"
    },
    {
     "data": {
      "text/latex": [
       "$\\displaystyle b_{2} = a^{(32)}_{2} b^{(32)}_{2}$"
      ],
      "text/plain": [
       "<IPython.core.display.Math object>"
      ]
     },
     "metadata": {},
     "output_type": "display_data"
    },
    {
     "data": {
      "text/latex": [
       "$\\displaystyle a_{3} = a^{(32)}_{2} a^{(32)}_{3} b^{(32)}_{2}$"
      ],
      "text/plain": [
       "<IPython.core.display.Math object>"
      ]
     },
     "metadata": {},
     "output_type": "display_data"
    },
    {
     "data": {
      "text/latex": [
       "$\\displaystyle b_{3} = a^{(32)}_{2} b^{(32)}_{3}$"
      ],
      "text/plain": [
       "<IPython.core.display.Math object>"
      ]
     },
     "metadata": {},
     "output_type": "display_data"
    },
    {
     "data": {
      "text/latex": [
       "$\\displaystyle \\left(a^{(32)}_{2}\\right)^{4} \\left(b^{(32)}_{2}\\right)^{2} \\left(a^{(32)}_{1} b^{(32)}_{1} + a^{(32)}_{3} b^{(32)}_{3} + 1\\right)^{2}$"
      ],
      "text/plain": [
       "<IPython.core.display.Math object>"
      ]
     },
     "metadata": {},
     "output_type": "display_data"
    },
    {
     "name": "stdout",
     "output_type": "stream",
     "text": [
      "\n",
      "-----------\n",
      "Is leaf. Is normal crossing? True\n"
     ]
    },
    {
     "data": {
      "text/latex": [
       "$\\displaystyle a^{(3133)}_{1} \\left(a^{(3133)}_{2}\\right)^{2} a^{(3133)}_{3} b^{(3133)}_{3} \\left(b^{(3133)}_{1} + b^{(3133)}_{2} + 1\\right)$"
      ],
      "text/plain": [
       "<IPython.core.display.Math object>"
      ]
     },
     "metadata": {},
     "output_type": "display_data"
    },
    {
     "data": {
      "text/latex": [
       "$\\displaystyle \\left(a^{(3133)}_{1}\\right)^{2} \\left(a^{(3133)}_{2}\\right)^{5} \\left(a^{(3133)}_{3}\\right)^{2} \\left(b^{(3133)}_{3}\\right)^{2}$"
      ],
      "text/plain": [
       "<IPython.core.display.Math object>"
      ]
     },
     "metadata": {},
     "output_type": "display_data"
    },
    {
     "data": {
      "text/latex": [
       "$\\displaystyle RLCTS = \\left[ \\left( a^{(3133)}_{1}, \\  3\\right), \\  \\left( a^{(3133)}_{3}, \\  3\\right), \\  \\left( b^{(3133)}_{3}, \\  3\\right), \\  \\left( a^{(3133)}_{2}, \\  3\\right)\\right]$"
      ],
      "text/plain": [
       "<IPython.core.display.Math object>"
      ]
     },
     "metadata": {},
     "output_type": "display_data"
    },
    {
     "data": {
      "text/latex": [
       "$\\displaystyle \\left[\\begin{matrix}a^{(3133)}_{2} & 0 & a^{(3133)}_{1} & 0 & 0 & 0\\\\0 & a^{(3133)}_{2} a^{(3133)}_{3} b^{(3133)}_{3} & a^{(3133)}_{3} b^{(3133)}_{1} b^{(3133)}_{3} & 0 & a^{(3133)}_{2} b^{(3133)}_{1} b^{(3133)}_{3} & a^{(3133)}_{2} a^{(3133)}_{3} b^{(3133)}_{1}\\\\0 & 0 & 1 & 0 & 0 & 0\\\\a^{(3133)}_{2} a^{(3133)}_{3} b^{(3133)}_{2} b^{(3133)}_{3} & 0 & a^{(3133)}_{1} a^{(3133)}_{3} b^{(3133)}_{2} b^{(3133)}_{3} & a^{(3133)}_{1} a^{(3133)}_{2} a^{(3133)}_{3} b^{(3133)}_{3} & a^{(3133)}_{1} a^{(3133)}_{2} b^{(3133)}_{2} b^{(3133)}_{3} & a^{(3133)}_{1} a^{(3133)}_{2} a^{(3133)}_{3} b^{(3133)}_{2}\\\\a^{(3133)}_{2} a^{(3133)}_{3} & 0 & a^{(3133)}_{1} a^{(3133)}_{3} & 0 & a^{(3133)}_{1} a^{(3133)}_{2} & 0\\\\0 & 0 & b^{(3133)}_{3} & 0 & 0 & a^{(3133)}_{2}\\end{matrix}\\right]$"
      ],
      "text/plain": [
       "<IPython.core.display.Math object>"
      ]
     },
     "metadata": {},
     "output_type": "display_data"
    },
    {
     "data": {
      "text/latex": [
       "$\\displaystyle a_{1} = a^{(3133)}_{1} a^{(3133)}_{2}$"
      ],
      "text/plain": [
       "<IPython.core.display.Math object>"
      ]
     },
     "metadata": {},
     "output_type": "display_data"
    },
    {
     "data": {
      "text/latex": [
       "$\\displaystyle b_{1} = a^{(3133)}_{2} a^{(3133)}_{3} b^{(3133)}_{1} b^{(3133)}_{3}$"
      ],
      "text/plain": [
       "<IPython.core.display.Math object>"
      ]
     },
     "metadata": {},
     "output_type": "display_data"
    },
    {
     "data": {
      "text/latex": [
       "$\\displaystyle a_{2} = a^{(3133)}_{2}$"
      ],
      "text/plain": [
       "<IPython.core.display.Math object>"
      ]
     },
     "metadata": {},
     "output_type": "display_data"
    },
    {
     "data": {
      "text/latex": [
       "$\\displaystyle b_{2} = a^{(3133)}_{1} a^{(3133)}_{2} a^{(3133)}_{3} b^{(3133)}_{2} b^{(3133)}_{3}$"
      ],
      "text/plain": [
       "<IPython.core.display.Math object>"
      ]
     },
     "metadata": {},
     "output_type": "display_data"
    },
    {
     "data": {
      "text/latex": [
       "$\\displaystyle a_{3} = a^{(3133)}_{1} a^{(3133)}_{2} a^{(3133)}_{3}$"
      ],
      "text/plain": [
       "<IPython.core.display.Math object>"
      ]
     },
     "metadata": {},
     "output_type": "display_data"
    },
    {
     "data": {
      "text/latex": [
       "$\\displaystyle b_{3} = a^{(3133)}_{2} b^{(3133)}_{3}$"
      ],
      "text/plain": [
       "<IPython.core.display.Math object>"
      ]
     },
     "metadata": {},
     "output_type": "display_data"
    },
    {
     "data": {
      "text/latex": [
       "$\\displaystyle \\left(a^{(3133)}_{1}\\right)^{2} \\left(a^{(3133)}_{2}\\right)^{4} \\left(a^{(3133)}_{3}\\right)^{2} \\left(b^{(3133)}_{3}\\right)^{2} \\left(b^{(3133)}_{1} + b^{(3133)}_{2} + 1\\right)^{2}$"
      ],
      "text/plain": [
       "<IPython.core.display.Math object>"
      ]
     },
     "metadata": {},
     "output_type": "display_data"
    },
    {
     "name": "stdout",
     "output_type": "stream",
     "text": [
      "\n",
      "-----------\n",
      "Is leaf. Is normal crossing? True\n"
     ]
    },
    {
     "data": {
      "text/latex": [
       "$\\displaystyle a^{(3132)}_{1} \\left(a^{(3132)}_{2}\\right)^{2} a^{(3132)}_{3} b^{(3132)}_{2} \\left(b^{(3132)}_{1} + b^{(3132)}_{3} + 1\\right)$"
      ],
      "text/plain": [
       "<IPython.core.display.Math object>"
      ]
     },
     "metadata": {},
     "output_type": "display_data"
    },
    {
     "data": {
      "text/latex": [
       "$\\displaystyle \\left(a^{(3132)}_{1}\\right)^{2} \\left(a^{(3132)}_{2}\\right)^{5} \\left(a^{(3132)}_{3}\\right)^{2} \\left(b^{(3132)}_{2}\\right)^{2}$"
      ],
      "text/plain": [
       "<IPython.core.display.Math object>"
      ]
     },
     "metadata": {},
     "output_type": "display_data"
    },
    {
     "data": {
      "text/latex": [
       "$\\displaystyle RLCTS = \\left[ \\left( a^{(3132)}_{1}, \\  3\\right), \\  \\left( a^{(3132)}_{3}, \\  3\\right), \\  \\left( b^{(3132)}_{2}, \\  3\\right), \\  \\left( a^{(3132)}_{2}, \\  3\\right)\\right]$"
      ],
      "text/plain": [
       "<IPython.core.display.Math object>"
      ]
     },
     "metadata": {},
     "output_type": "display_data"
    },
    {
     "data": {
      "text/latex": [
       "$\\displaystyle \\left[\\begin{matrix}a^{(3132)}_{2} & 0 & a^{(3132)}_{1} & 0 & 0 & 0\\\\0 & a^{(3132)}_{2} a^{(3132)}_{3} b^{(3132)}_{2} & a^{(3132)}_{3} b^{(3132)}_{1} b^{(3132)}_{2} & a^{(3132)}_{2} a^{(3132)}_{3} b^{(3132)}_{1} & a^{(3132)}_{2} b^{(3132)}_{1} b^{(3132)}_{2} & 0\\\\0 & 0 & 1 & 0 & 0 & 0\\\\a^{(3132)}_{2} a^{(3132)}_{3} b^{(3132)}_{2} & 0 & a^{(3132)}_{1} a^{(3132)}_{3} b^{(3132)}_{2} & a^{(3132)}_{1} a^{(3132)}_{2} a^{(3132)}_{3} & a^{(3132)}_{1} a^{(3132)}_{2} b^{(3132)}_{2} & 0\\\\a^{(3132)}_{2} a^{(3132)}_{3} & 0 & a^{(3132)}_{1} a^{(3132)}_{3} & 0 & a^{(3132)}_{1} a^{(3132)}_{2} & 0\\\\0 & 0 & b^{(3132)}_{2} b^{(3132)}_{3} & a^{(3132)}_{2} b^{(3132)}_{3} & 0 & a^{(3132)}_{2} b^{(3132)}_{2}\\end{matrix}\\right]$"
      ],
      "text/plain": [
       "<IPython.core.display.Math object>"
      ]
     },
     "metadata": {},
     "output_type": "display_data"
    },
    {
     "data": {
      "text/latex": [
       "$\\displaystyle a_{1} = a^{(3132)}_{1} a^{(3132)}_{2}$"
      ],
      "text/plain": [
       "<IPython.core.display.Math object>"
      ]
     },
     "metadata": {},
     "output_type": "display_data"
    },
    {
     "data": {
      "text/latex": [
       "$\\displaystyle b_{1} = a^{(3132)}_{2} a^{(3132)}_{3} b^{(3132)}_{1} b^{(3132)}_{2}$"
      ],
      "text/plain": [
       "<IPython.core.display.Math object>"
      ]
     },
     "metadata": {},
     "output_type": "display_data"
    },
    {
     "data": {
      "text/latex": [
       "$\\displaystyle a_{2} = a^{(3132)}_{2}$"
      ],
      "text/plain": [
       "<IPython.core.display.Math object>"
      ]
     },
     "metadata": {},
     "output_type": "display_data"
    },
    {
     "data": {
      "text/latex": [
       "$\\displaystyle b_{2} = a^{(3132)}_{1} a^{(3132)}_{2} a^{(3132)}_{3} b^{(3132)}_{2}$"
      ],
      "text/plain": [
       "<IPython.core.display.Math object>"
      ]
     },
     "metadata": {},
     "output_type": "display_data"
    },
    {
     "data": {
      "text/latex": [
       "$\\displaystyle a_{3} = a^{(3132)}_{1} a^{(3132)}_{2} a^{(3132)}_{3}$"
      ],
      "text/plain": [
       "<IPython.core.display.Math object>"
      ]
     },
     "metadata": {},
     "output_type": "display_data"
    },
    {
     "data": {
      "text/latex": [
       "$\\displaystyle b_{3} = a^{(3132)}_{2} b^{(3132)}_{2} b^{(3132)}_{3}$"
      ],
      "text/plain": [
       "<IPython.core.display.Math object>"
      ]
     },
     "metadata": {},
     "output_type": "display_data"
    },
    {
     "data": {
      "text/latex": [
       "$\\displaystyle \\left(a^{(3132)}_{1}\\right)^{2} \\left(a^{(3132)}_{2}\\right)^{4} \\left(a^{(3132)}_{3}\\right)^{2} \\left(b^{(3132)}_{2}\\right)^{2} \\left(b^{(3132)}_{1} + b^{(3132)}_{3} + 1\\right)^{2}$"
      ],
      "text/plain": [
       "<IPython.core.display.Math object>"
      ]
     },
     "metadata": {},
     "output_type": "display_data"
    },
    {
     "name": "stdout",
     "output_type": "stream",
     "text": [
      "\n",
      "-----------\n",
      "Is leaf. Is normal crossing? True\n"
     ]
    },
    {
     "data": {
      "text/latex": [
       "$\\displaystyle a^{(3131)}_{1} \\left(a^{(3131)}_{2}\\right)^{2} a^{(3131)}_{3} b^{(3131)}_{1} \\left(b^{(3131)}_{2} + b^{(3131)}_{3} + 1\\right)$"
      ],
      "text/plain": [
       "<IPython.core.display.Math object>"
      ]
     },
     "metadata": {},
     "output_type": "display_data"
    },
    {
     "data": {
      "text/latex": [
       "$\\displaystyle \\left(a^{(3131)}_{1}\\right)^{2} \\left(a^{(3131)}_{2}\\right)^{5} \\left(a^{(3131)}_{3}\\right)^{2} \\left(b^{(3131)}_{1}\\right)^{2}$"
      ],
      "text/plain": [
       "<IPython.core.display.Math object>"
      ]
     },
     "metadata": {},
     "output_type": "display_data"
    },
    {
     "data": {
      "text/latex": [
       "$\\displaystyle RLCTS = \\left[ \\left( a^{(3131)}_{1}, \\  3\\right), \\  \\left( a^{(3131)}_{3}, \\  3\\right), \\  \\left( b^{(3131)}_{1}, \\  3\\right), \\  \\left( a^{(3131)}_{2}, \\  3\\right)\\right]$"
      ],
      "text/plain": [
       "<IPython.core.display.Math object>"
      ]
     },
     "metadata": {},
     "output_type": "display_data"
    },
    {
     "data": {
      "text/latex": [
       "$\\displaystyle \\left[\\begin{matrix}a^{(3131)}_{2} & 0 & a^{(3131)}_{1} & 0 & 0 & 0\\\\0 & a^{(3131)}_{2} a^{(3131)}_{3} & a^{(3131)}_{3} b^{(3131)}_{1} & 0 & a^{(3131)}_{2} b^{(3131)}_{1} & 0\\\\0 & 0 & 1 & 0 & 0 & 0\\\\a^{(3131)}_{2} a^{(3131)}_{3} b^{(3131)}_{1} b^{(3131)}_{2} & a^{(3131)}_{1} a^{(3131)}_{2} a^{(3131)}_{3} b^{(3131)}_{2} & a^{(3131)}_{1} a^{(3131)}_{3} b^{(3131)}_{1} b^{(3131)}_{2} & a^{(3131)}_{1} a^{(3131)}_{2} a^{(3131)}_{3} b^{(3131)}_{1} & a^{(3131)}_{1} a^{(3131)}_{2} b^{(3131)}_{1} b^{(3131)}_{2} & 0\\\\a^{(3131)}_{2} a^{(3131)}_{3} & 0 & a^{(3131)}_{1} a^{(3131)}_{3} & 0 & a^{(3131)}_{1} a^{(3131)}_{2} & 0\\\\0 & a^{(3131)}_{2} b^{(3131)}_{3} & b^{(3131)}_{1} b^{(3131)}_{3} & 0 & 0 & a^{(3131)}_{2} b^{(3131)}_{1}\\end{matrix}\\right]$"
      ],
      "text/plain": [
       "<IPython.core.display.Math object>"
      ]
     },
     "metadata": {},
     "output_type": "display_data"
    },
    {
     "data": {
      "text/latex": [
       "$\\displaystyle a_{1} = a^{(3131)}_{1} a^{(3131)}_{2}$"
      ],
      "text/plain": [
       "<IPython.core.display.Math object>"
      ]
     },
     "metadata": {},
     "output_type": "display_data"
    },
    {
     "data": {
      "text/latex": [
       "$\\displaystyle b_{1} = a^{(3131)}_{2} a^{(3131)}_{3} b^{(3131)}_{1}$"
      ],
      "text/plain": [
       "<IPython.core.display.Math object>"
      ]
     },
     "metadata": {},
     "output_type": "display_data"
    },
    {
     "data": {
      "text/latex": [
       "$\\displaystyle a_{2} = a^{(3131)}_{2}$"
      ],
      "text/plain": [
       "<IPython.core.display.Math object>"
      ]
     },
     "metadata": {},
     "output_type": "display_data"
    },
    {
     "data": {
      "text/latex": [
       "$\\displaystyle b_{2} = a^{(3131)}_{1} a^{(3131)}_{2} a^{(3131)}_{3} b^{(3131)}_{1} b^{(3131)}_{2}$"
      ],
      "text/plain": [
       "<IPython.core.display.Math object>"
      ]
     },
     "metadata": {},
     "output_type": "display_data"
    },
    {
     "data": {
      "text/latex": [
       "$\\displaystyle a_{3} = a^{(3131)}_{1} a^{(3131)}_{2} a^{(3131)}_{3}$"
      ],
      "text/plain": [
       "<IPython.core.display.Math object>"
      ]
     },
     "metadata": {},
     "output_type": "display_data"
    },
    {
     "data": {
      "text/latex": [
       "$\\displaystyle b_{3} = a^{(3131)}_{2} b^{(3131)}_{1} b^{(3131)}_{3}$"
      ],
      "text/plain": [
       "<IPython.core.display.Math object>"
      ]
     },
     "metadata": {},
     "output_type": "display_data"
    },
    {
     "data": {
      "text/latex": [
       "$\\displaystyle \\left(a^{(3131)}_{1}\\right)^{2} \\left(a^{(3131)}_{2}\\right)^{4} \\left(a^{(3131)}_{3}\\right)^{2} \\left(b^{(3131)}_{1}\\right)^{2} \\left(b^{(3131)}_{2} + b^{(3131)}_{3} + 1\\right)^{2}$"
      ],
      "text/plain": [
       "<IPython.core.display.Math object>"
      ]
     },
     "metadata": {},
     "output_type": "display_data"
    },
    {
     "name": "stdout",
     "output_type": "stream",
     "text": [
      "\n",
      "-----------\n",
      "Is leaf. Is normal crossing? True\n"
     ]
    },
    {
     "data": {
      "text/latex": [
       "$\\displaystyle a^{(312)}_{1} \\left(a^{(312)}_{2}\\right)^{2} b^{(312)}_{2} \\left(a^{(312)}_{3} b^{(312)}_{3} + b^{(312)}_{1} + 1\\right)$"
      ],
      "text/plain": [
       "<IPython.core.display.Math object>"
      ]
     },
     "metadata": {},
     "output_type": "display_data"
    },
    {
     "data": {
      "text/latex": [
       "$\\displaystyle \\left(a^{(312)}_{1}\\right)^{2} \\left(a^{(312)}_{2}\\right)^{5} \\left(b^{(312)}_{2}\\right)^{2}$"
      ],
      "text/plain": [
       "<IPython.core.display.Math object>"
      ]
     },
     "metadata": {},
     "output_type": "display_data"
    },
    {
     "data": {
      "text/latex": [
       "$\\displaystyle RLCTS = \\left[ \\left( a^{(312)}_{1}, \\  3\\right), \\  \\left( b^{(312)}_{2}, \\  3\\right), \\  \\left( a^{(312)}_{2}, \\  3\\right)\\right]$"
      ],
      "text/plain": [
       "<IPython.core.display.Math object>"
      ]
     },
     "metadata": {},
     "output_type": "display_data"
    },
    {
     "data": {
      "text/latex": [
       "$\\displaystyle \\left[\\begin{matrix}a^{(312)}_{2} & 0 & a^{(312)}_{1} & 0 & 0 & 0\\\\0 & a^{(312)}_{2} b^{(312)}_{2} & b^{(312)}_{1} b^{(312)}_{2} & a^{(312)}_{2} b^{(312)}_{1} & 0 & 0\\\\0 & 0 & 1 & 0 & 0 & 0\\\\a^{(312)}_{2} b^{(312)}_{2} & 0 & a^{(312)}_{1} b^{(312)}_{2} & a^{(312)}_{1} a^{(312)}_{2} & 0 & 0\\\\a^{(312)}_{2} a^{(312)}_{3} b^{(312)}_{2} & 0 & a^{(312)}_{1} a^{(312)}_{3} b^{(312)}_{2} & a^{(312)}_{1} a^{(312)}_{2} a^{(312)}_{3} & a^{(312)}_{1} a^{(312)}_{2} b^{(312)}_{2} & 0\\\\0 & 0 & b^{(312)}_{3} & 0 & 0 & a^{(312)}_{2}\\end{matrix}\\right]$"
      ],
      "text/plain": [
       "<IPython.core.display.Math object>"
      ]
     },
     "metadata": {},
     "output_type": "display_data"
    },
    {
     "data": {
      "text/latex": [
       "$\\displaystyle a_{1} = a^{(312)}_{1} a^{(312)}_{2}$"
      ],
      "text/plain": [
       "<IPython.core.display.Math object>"
      ]
     },
     "metadata": {},
     "output_type": "display_data"
    },
    {
     "data": {
      "text/latex": [
       "$\\displaystyle b_{1} = a^{(312)}_{2} b^{(312)}_{1} b^{(312)}_{2}$"
      ],
      "text/plain": [
       "<IPython.core.display.Math object>"
      ]
     },
     "metadata": {},
     "output_type": "display_data"
    },
    {
     "data": {
      "text/latex": [
       "$\\displaystyle a_{2} = a^{(312)}_{2}$"
      ],
      "text/plain": [
       "<IPython.core.display.Math object>"
      ]
     },
     "metadata": {},
     "output_type": "display_data"
    },
    {
     "data": {
      "text/latex": [
       "$\\displaystyle b_{2} = a^{(312)}_{1} a^{(312)}_{2} b^{(312)}_{2}$"
      ],
      "text/plain": [
       "<IPython.core.display.Math object>"
      ]
     },
     "metadata": {},
     "output_type": "display_data"
    },
    {
     "data": {
      "text/latex": [
       "$\\displaystyle a_{3} = a^{(312)}_{1} a^{(312)}_{2} a^{(312)}_{3} b^{(312)}_{2}$"
      ],
      "text/plain": [
       "<IPython.core.display.Math object>"
      ]
     },
     "metadata": {},
     "output_type": "display_data"
    },
    {
     "data": {
      "text/latex": [
       "$\\displaystyle b_{3} = a^{(312)}_{2} b^{(312)}_{3}$"
      ],
      "text/plain": [
       "<IPython.core.display.Math object>"
      ]
     },
     "metadata": {},
     "output_type": "display_data"
    },
    {
     "data": {
      "text/latex": [
       "$\\displaystyle \\left(a^{(312)}_{1}\\right)^{2} \\left(a^{(312)}_{2}\\right)^{4} \\left(b^{(312)}_{2}\\right)^{2} \\left(a^{(312)}_{3} b^{(312)}_{3} + b^{(312)}_{1} + 1\\right)^{2}$"
      ],
      "text/plain": [
       "<IPython.core.display.Math object>"
      ]
     },
     "metadata": {},
     "output_type": "display_data"
    },
    {
     "name": "stdout",
     "output_type": "stream",
     "text": [
      "\n",
      "-----------\n",
      "Is leaf. Is normal crossing? True\n"
     ]
    },
    {
     "data": {
      "text/latex": [
       "$\\displaystyle a^{(311)}_{1} \\left(a^{(311)}_{2}\\right)^{2} b^{(311)}_{1} \\left(a^{(311)}_{3} b^{(311)}_{3} + b^{(311)}_{2} + 1\\right)$"
      ],
      "text/plain": [
       "<IPython.core.display.Math object>"
      ]
     },
     "metadata": {},
     "output_type": "display_data"
    },
    {
     "data": {
      "text/latex": [
       "$\\displaystyle \\left(a^{(311)}_{1}\\right)^{2} \\left(a^{(311)}_{2}\\right)^{5} \\left(b^{(311)}_{1}\\right)^{2}$"
      ],
      "text/plain": [
       "<IPython.core.display.Math object>"
      ]
     },
     "metadata": {},
     "output_type": "display_data"
    },
    {
     "data": {
      "text/latex": [
       "$\\displaystyle RLCTS = \\left[ \\left( a^{(311)}_{1}, \\  3\\right), \\  \\left( b^{(311)}_{1}, \\  3\\right), \\  \\left( a^{(311)}_{2}, \\  3\\right)\\right]$"
      ],
      "text/plain": [
       "<IPython.core.display.Math object>"
      ]
     },
     "metadata": {},
     "output_type": "display_data"
    },
    {
     "data": {
      "text/latex": [
       "$\\displaystyle \\left[\\begin{matrix}a^{(311)}_{2} & 0 & a^{(311)}_{1} & 0 & 0 & 0\\\\0 & a^{(311)}_{2} & b^{(311)}_{1} & 0 & 0 & 0\\\\0 & 0 & 1 & 0 & 0 & 0\\\\a^{(311)}_{2} b^{(311)}_{1} b^{(311)}_{2} & a^{(311)}_{1} a^{(311)}_{2} b^{(311)}_{2} & a^{(311)}_{1} b^{(311)}_{1} b^{(311)}_{2} & a^{(311)}_{1} a^{(311)}_{2} b^{(311)}_{1} & 0 & 0\\\\a^{(311)}_{2} a^{(311)}_{3} b^{(311)}_{1} & a^{(311)}_{1} a^{(311)}_{2} a^{(311)}_{3} & a^{(311)}_{1} a^{(311)}_{3} b^{(311)}_{1} & 0 & a^{(311)}_{1} a^{(311)}_{2} b^{(311)}_{1} & 0\\\\0 & 0 & b^{(311)}_{3} & 0 & 0 & a^{(311)}_{2}\\end{matrix}\\right]$"
      ],
      "text/plain": [
       "<IPython.core.display.Math object>"
      ]
     },
     "metadata": {},
     "output_type": "display_data"
    },
    {
     "data": {
      "text/latex": [
       "$\\displaystyle a_{1} = a^{(311)}_{1} a^{(311)}_{2}$"
      ],
      "text/plain": [
       "<IPython.core.display.Math object>"
      ]
     },
     "metadata": {},
     "output_type": "display_data"
    },
    {
     "data": {
      "text/latex": [
       "$\\displaystyle b_{1} = a^{(311)}_{2} b^{(311)}_{1}$"
      ],
      "text/plain": [
       "<IPython.core.display.Math object>"
      ]
     },
     "metadata": {},
     "output_type": "display_data"
    },
    {
     "data": {
      "text/latex": [
       "$\\displaystyle a_{2} = a^{(311)}_{2}$"
      ],
      "text/plain": [
       "<IPython.core.display.Math object>"
      ]
     },
     "metadata": {},
     "output_type": "display_data"
    },
    {
     "data": {
      "text/latex": [
       "$\\displaystyle b_{2} = a^{(311)}_{1} a^{(311)}_{2} b^{(311)}_{1} b^{(311)}_{2}$"
      ],
      "text/plain": [
       "<IPython.core.display.Math object>"
      ]
     },
     "metadata": {},
     "output_type": "display_data"
    },
    {
     "data": {
      "text/latex": [
       "$\\displaystyle a_{3} = a^{(311)}_{1} a^{(311)}_{2} a^{(311)}_{3} b^{(311)}_{1}$"
      ],
      "text/plain": [
       "<IPython.core.display.Math object>"
      ]
     },
     "metadata": {},
     "output_type": "display_data"
    },
    {
     "data": {
      "text/latex": [
       "$\\displaystyle b_{3} = a^{(311)}_{2} b^{(311)}_{3}$"
      ],
      "text/plain": [
       "<IPython.core.display.Math object>"
      ]
     },
     "metadata": {},
     "output_type": "display_data"
    },
    {
     "data": {
      "text/latex": [
       "$\\displaystyle \\left(a^{(311)}_{1}\\right)^{2} \\left(a^{(311)}_{2}\\right)^{4} \\left(b^{(311)}_{1}\\right)^{2} \\left(a^{(311)}_{3} b^{(311)}_{3} + b^{(311)}_{2} + 1\\right)^{2}$"
      ],
      "text/plain": [
       "<IPython.core.display.Math object>"
      ]
     },
     "metadata": {},
     "output_type": "display_data"
    },
    {
     "name": "stdout",
     "output_type": "stream",
     "text": [
      "\n",
      "-----------\n",
      "Is leaf. Is normal crossing? True\n"
     ]
    },
    {
     "data": {
      "text/latex": [
       "$\\displaystyle a^{(233)}_{3} \\left(b^{(233)}_{1}\\right)^{2} b^{(233)}_{3} \\left(a^{(233)}_{1} + a^{(233)}_{2} b^{(233)}_{2} + 1\\right)$"
      ],
      "text/plain": [
       "<IPython.core.display.Math object>"
      ]
     },
     "metadata": {},
     "output_type": "display_data"
    },
    {
     "data": {
      "text/latex": [
       "$\\displaystyle \\left(a^{(233)}_{3}\\right)^{2} \\left(b^{(233)}_{1}\\right)^{5} \\left(b^{(233)}_{3}\\right)^{2}$"
      ],
      "text/plain": [
       "<IPython.core.display.Math object>"
      ]
     },
     "metadata": {},
     "output_type": "display_data"
    },
    {
     "data": {
      "text/latex": [
       "$\\displaystyle RLCTS = \\left[ \\left( a^{(233)}_{3}, \\  3\\right), \\  \\left( b^{(233)}_{3}, \\  3\\right), \\  \\left( b^{(233)}_{1}, \\  3\\right)\\right]$"
      ],
      "text/plain": [
       "<IPython.core.display.Math object>"
      ]
     },
     "metadata": {},
     "output_type": "display_data"
    },
    {
     "data": {
      "text/latex": [
       "$\\displaystyle \\left[\\begin{matrix}a^{(233)}_{3} b^{(233)}_{1} b^{(233)}_{3} & a^{(233)}_{1} a^{(233)}_{3} b^{(233)}_{3} & 0 & 0 & a^{(233)}_{1} b^{(233)}_{1} b^{(233)}_{3} & a^{(233)}_{1} a^{(233)}_{3} b^{(233)}_{1}\\\\0 & 1 & 0 & 0 & 0 & 0\\\\0 & a^{(233)}_{2} a^{(233)}_{3} b^{(233)}_{3} & a^{(233)}_{3} b^{(233)}_{1} b^{(233)}_{3} & 0 & a^{(233)}_{2} b^{(233)}_{1} b^{(233)}_{3} & a^{(233)}_{2} a^{(233)}_{3} b^{(233)}_{1}\\\\0 & b^{(233)}_{2} & 0 & b^{(233)}_{1} & 0 & 0\\\\0 & a^{(233)}_{3} & 0 & 0 & b^{(233)}_{1} & 0\\\\0 & b^{(233)}_{3} & 0 & 0 & 0 & b^{(233)}_{1}\\end{matrix}\\right]$"
      ],
      "text/plain": [
       "<IPython.core.display.Math object>"
      ]
     },
     "metadata": {},
     "output_type": "display_data"
    },
    {
     "data": {
      "text/latex": [
       "$\\displaystyle a_{1} = a^{(233)}_{1} a^{(233)}_{3} b^{(233)}_{1} b^{(233)}_{3}$"
      ],
      "text/plain": [
       "<IPython.core.display.Math object>"
      ]
     },
     "metadata": {},
     "output_type": "display_data"
    },
    {
     "data": {
      "text/latex": [
       "$\\displaystyle b_{1} = b^{(233)}_{1}$"
      ],
      "text/plain": [
       "<IPython.core.display.Math object>"
      ]
     },
     "metadata": {},
     "output_type": "display_data"
    },
    {
     "data": {
      "text/latex": [
       "$\\displaystyle a_{2} = a^{(233)}_{2} a^{(233)}_{3} b^{(233)}_{1} b^{(233)}_{3}$"
      ],
      "text/plain": [
       "<IPython.core.display.Math object>"
      ]
     },
     "metadata": {},
     "output_type": "display_data"
    },
    {
     "data": {
      "text/latex": [
       "$\\displaystyle b_{2} = b^{(233)}_{1} b^{(233)}_{2}$"
      ],
      "text/plain": [
       "<IPython.core.display.Math object>"
      ]
     },
     "metadata": {},
     "output_type": "display_data"
    },
    {
     "data": {
      "text/latex": [
       "$\\displaystyle a_{3} = a^{(233)}_{3} b^{(233)}_{1}$"
      ],
      "text/plain": [
       "<IPython.core.display.Math object>"
      ]
     },
     "metadata": {},
     "output_type": "display_data"
    },
    {
     "data": {
      "text/latex": [
       "$\\displaystyle b_{3} = b^{(233)}_{1} b^{(233)}_{3}$"
      ],
      "text/plain": [
       "<IPython.core.display.Math object>"
      ]
     },
     "metadata": {},
     "output_type": "display_data"
    },
    {
     "data": {
      "text/latex": [
       "$\\displaystyle \\left(a^{(233)}_{3}\\right)^{2} \\left(b^{(233)}_{1}\\right)^{4} \\left(b^{(233)}_{3}\\right)^{2} \\left(a^{(233)}_{1} + a^{(233)}_{2} b^{(233)}_{2} + 1\\right)^{2}$"
      ],
      "text/plain": [
       "<IPython.core.display.Math object>"
      ]
     },
     "metadata": {},
     "output_type": "display_data"
    },
    {
     "name": "stdout",
     "output_type": "stream",
     "text": [
      "\n",
      "-----------\n",
      "Is leaf. Is normal crossing? True\n"
     ]
    },
    {
     "data": {
      "text/latex": [
       "$\\displaystyle a^{(2323)}_{2} a^{(2323)}_{3} \\left(b^{(2323)}_{1}\\right)^{2} b^{(2323)}_{3} \\left(a^{(2323)}_{1} + b^{(2323)}_{2} + 1\\right)$"
      ],
      "text/plain": [
       "<IPython.core.display.Math object>"
      ]
     },
     "metadata": {},
     "output_type": "display_data"
    },
    {
     "data": {
      "text/latex": [
       "$\\displaystyle \\left(a^{(2323)}_{2}\\right)^{2} \\left(a^{(2323)}_{3}\\right)^{2} \\left(b^{(2323)}_{1}\\right)^{5} \\left(b^{(2323)}_{3}\\right)^{2}$"
      ],
      "text/plain": [
       "<IPython.core.display.Math object>"
      ]
     },
     "metadata": {},
     "output_type": "display_data"
    },
    {
     "data": {
      "text/latex": [
       "$\\displaystyle RLCTS = \\left[ \\left( a^{(2323)}_{2}, \\  3\\right), \\  \\left( a^{(2323)}_{3}, \\  3\\right), \\  \\left( b^{(2323)}_{3}, \\  3\\right), \\  \\left( b^{(2323)}_{1}, \\  3\\right)\\right]$"
      ],
      "text/plain": [
       "<IPython.core.display.Math object>"
      ]
     },
     "metadata": {},
     "output_type": "display_data"
    },
    {
     "data": {
      "text/latex": [
       "$\\displaystyle \\left[\\begin{matrix}a^{(2323)}_{2} a^{(2323)}_{3} b^{(2323)}_{1} b^{(2323)}_{3} & a^{(2323)}_{1} a^{(2323)}_{2} a^{(2323)}_{3} b^{(2323)}_{3} & a^{(2323)}_{1} a^{(2323)}_{3} b^{(2323)}_{1} b^{(2323)}_{3} & 0 & a^{(2323)}_{1} a^{(2323)}_{2} b^{(2323)}_{1} b^{(2323)}_{3} & a^{(2323)}_{1} a^{(2323)}_{2} a^{(2323)}_{3} b^{(2323)}_{1}\\\\0 & 1 & 0 & 0 & 0 & 0\\\\0 & a^{(2323)}_{2} a^{(2323)}_{3} & a^{(2323)}_{3} b^{(2323)}_{1} & 0 & a^{(2323)}_{2} b^{(2323)}_{1} & 0\\\\0 & b^{(2323)}_{2} b^{(2323)}_{3} & 0 & b^{(2323)}_{1} b^{(2323)}_{3} & 0 & b^{(2323)}_{1} b^{(2323)}_{2}\\\\0 & a^{(2323)}_{3} & 0 & 0 & b^{(2323)}_{1} & 0\\\\0 & a^{(2323)}_{2} b^{(2323)}_{3} & b^{(2323)}_{1} b^{(2323)}_{3} & 0 & 0 & a^{(2323)}_{2} b^{(2323)}_{1}\\end{matrix}\\right]$"
      ],
      "text/plain": [
       "<IPython.core.display.Math object>"
      ]
     },
     "metadata": {},
     "output_type": "display_data"
    },
    {
     "data": {
      "text/latex": [
       "$\\displaystyle a_{1} = a^{(2323)}_{1} a^{(2323)}_{2} a^{(2323)}_{3} b^{(2323)}_{1} b^{(2323)}_{3}$"
      ],
      "text/plain": [
       "<IPython.core.display.Math object>"
      ]
     },
     "metadata": {},
     "output_type": "display_data"
    },
    {
     "data": {
      "text/latex": [
       "$\\displaystyle b_{1} = b^{(2323)}_{1}$"
      ],
      "text/plain": [
       "<IPython.core.display.Math object>"
      ]
     },
     "metadata": {},
     "output_type": "display_data"
    },
    {
     "data": {
      "text/latex": [
       "$\\displaystyle a_{2} = a^{(2323)}_{2} a^{(2323)}_{3} b^{(2323)}_{1}$"
      ],
      "text/plain": [
       "<IPython.core.display.Math object>"
      ]
     },
     "metadata": {},
     "output_type": "display_data"
    },
    {
     "data": {
      "text/latex": [
       "$\\displaystyle b_{2} = b^{(2323)}_{1} b^{(2323)}_{2} b^{(2323)}_{3}$"
      ],
      "text/plain": [
       "<IPython.core.display.Math object>"
      ]
     },
     "metadata": {},
     "output_type": "display_data"
    },
    {
     "data": {
      "text/latex": [
       "$\\displaystyle a_{3} = a^{(2323)}_{3} b^{(2323)}_{1}$"
      ],
      "text/plain": [
       "<IPython.core.display.Math object>"
      ]
     },
     "metadata": {},
     "output_type": "display_data"
    },
    {
     "data": {
      "text/latex": [
       "$\\displaystyle b_{3} = a^{(2323)}_{2} b^{(2323)}_{1} b^{(2323)}_{3}$"
      ],
      "text/plain": [
       "<IPython.core.display.Math object>"
      ]
     },
     "metadata": {},
     "output_type": "display_data"
    },
    {
     "data": {
      "text/latex": [
       "$\\displaystyle \\left(a^{(2323)}_{2}\\right)^{2} \\left(a^{(2323)}_{3}\\right)^{2} \\left(b^{(2323)}_{1}\\right)^{4} \\left(b^{(2323)}_{3}\\right)^{2} \\left(a^{(2323)}_{1} + b^{(2323)}_{2} + 1\\right)^{2}$"
      ],
      "text/plain": [
       "<IPython.core.display.Math object>"
      ]
     },
     "metadata": {},
     "output_type": "display_data"
    },
    {
     "name": "stdout",
     "output_type": "stream",
     "text": [
      "\n",
      "-----------\n",
      "Is leaf. Is normal crossing? True\n"
     ]
    },
    {
     "data": {
      "text/latex": [
       "$\\displaystyle a^{(2322)}_{2} a^{(2322)}_{3} \\left(b^{(2322)}_{1}\\right)^{2} b^{(2322)}_{2} \\left(a^{(2322)}_{1} + b^{(2322)}_{3} + 1\\right)$"
      ],
      "text/plain": [
       "<IPython.core.display.Math object>"
      ]
     },
     "metadata": {},
     "output_type": "display_data"
    },
    {
     "data": {
      "text/latex": [
       "$\\displaystyle \\left(a^{(2322)}_{2}\\right)^{2} \\left(a^{(2322)}_{3}\\right)^{2} \\left(b^{(2322)}_{1}\\right)^{5} \\left(b^{(2322)}_{2}\\right)^{2}$"
      ],
      "text/plain": [
       "<IPython.core.display.Math object>"
      ]
     },
     "metadata": {},
     "output_type": "display_data"
    },
    {
     "data": {
      "text/latex": [
       "$\\displaystyle RLCTS = \\left[ \\left( a^{(2322)}_{2}, \\  3\\right), \\  \\left( a^{(2322)}_{3}, \\  3\\right), \\  \\left( b^{(2322)}_{2}, \\  3\\right), \\  \\left( b^{(2322)}_{1}, \\  3\\right)\\right]$"
      ],
      "text/plain": [
       "<IPython.core.display.Math object>"
      ]
     },
     "metadata": {},
     "output_type": "display_data"
    },
    {
     "data": {
      "text/latex": [
       "$\\displaystyle \\left[\\begin{matrix}a^{(2322)}_{2} a^{(2322)}_{3} b^{(2322)}_{1} b^{(2322)}_{2} & a^{(2322)}_{1} a^{(2322)}_{2} a^{(2322)}_{3} b^{(2322)}_{2} & a^{(2322)}_{1} a^{(2322)}_{3} b^{(2322)}_{1} b^{(2322)}_{2} & a^{(2322)}_{1} a^{(2322)}_{2} a^{(2322)}_{3} b^{(2322)}_{1} & a^{(2322)}_{1} a^{(2322)}_{2} b^{(2322)}_{1} b^{(2322)}_{2} & 0\\\\0 & 1 & 0 & 0 & 0 & 0\\\\0 & a^{(2322)}_{2} a^{(2322)}_{3} & a^{(2322)}_{3} b^{(2322)}_{1} & 0 & a^{(2322)}_{2} b^{(2322)}_{1} & 0\\\\0 & b^{(2322)}_{2} & 0 & b^{(2322)}_{1} & 0 & 0\\\\0 & a^{(2322)}_{3} & 0 & 0 & b^{(2322)}_{1} & 0\\\\0 & a^{(2322)}_{2} b^{(2322)}_{2} b^{(2322)}_{3} & b^{(2322)}_{1} b^{(2322)}_{2} b^{(2322)}_{3} & a^{(2322)}_{2} b^{(2322)}_{1} b^{(2322)}_{3} & 0 & a^{(2322)}_{2} b^{(2322)}_{1} b^{(2322)}_{2}\\end{matrix}\\right]$"
      ],
      "text/plain": [
       "<IPython.core.display.Math object>"
      ]
     },
     "metadata": {},
     "output_type": "display_data"
    },
    {
     "data": {
      "text/latex": [
       "$\\displaystyle a_{1} = a^{(2322)}_{1} a^{(2322)}_{2} a^{(2322)}_{3} b^{(2322)}_{1} b^{(2322)}_{2}$"
      ],
      "text/plain": [
       "<IPython.core.display.Math object>"
      ]
     },
     "metadata": {},
     "output_type": "display_data"
    },
    {
     "data": {
      "text/latex": [
       "$\\displaystyle b_{1} = b^{(2322)}_{1}$"
      ],
      "text/plain": [
       "<IPython.core.display.Math object>"
      ]
     },
     "metadata": {},
     "output_type": "display_data"
    },
    {
     "data": {
      "text/latex": [
       "$\\displaystyle a_{2} = a^{(2322)}_{2} a^{(2322)}_{3} b^{(2322)}_{1}$"
      ],
      "text/plain": [
       "<IPython.core.display.Math object>"
      ]
     },
     "metadata": {},
     "output_type": "display_data"
    },
    {
     "data": {
      "text/latex": [
       "$\\displaystyle b_{2} = b^{(2322)}_{1} b^{(2322)}_{2}$"
      ],
      "text/plain": [
       "<IPython.core.display.Math object>"
      ]
     },
     "metadata": {},
     "output_type": "display_data"
    },
    {
     "data": {
      "text/latex": [
       "$\\displaystyle a_{3} = a^{(2322)}_{3} b^{(2322)}_{1}$"
      ],
      "text/plain": [
       "<IPython.core.display.Math object>"
      ]
     },
     "metadata": {},
     "output_type": "display_data"
    },
    {
     "data": {
      "text/latex": [
       "$\\displaystyle b_{3} = a^{(2322)}_{2} b^{(2322)}_{1} b^{(2322)}_{2} b^{(2322)}_{3}$"
      ],
      "text/plain": [
       "<IPython.core.display.Math object>"
      ]
     },
     "metadata": {},
     "output_type": "display_data"
    },
    {
     "data": {
      "text/latex": [
       "$\\displaystyle \\left(a^{(2322)}_{2}\\right)^{2} \\left(a^{(2322)}_{3}\\right)^{2} \\left(b^{(2322)}_{1}\\right)^{4} \\left(b^{(2322)}_{2}\\right)^{2} \\left(a^{(2322)}_{1} + b^{(2322)}_{3} + 1\\right)^{2}$"
      ],
      "text/plain": [
       "<IPython.core.display.Math object>"
      ]
     },
     "metadata": {},
     "output_type": "display_data"
    },
    {
     "name": "stdout",
     "output_type": "stream",
     "text": [
      "\n",
      "-----------\n",
      "Is leaf. Is normal crossing? True\n"
     ]
    },
    {
     "data": {
      "text/latex": [
       "$\\displaystyle a^{(2321)}_{1} a^{(2321)}_{2} a^{(2321)}_{3} \\left(b^{(2321)}_{1}\\right)^{2} \\left(b^{(2321)}_{2} + b^{(2321)}_{3} + 1\\right)$"
      ],
      "text/plain": [
       "<IPython.core.display.Math object>"
      ]
     },
     "metadata": {},
     "output_type": "display_data"
    },
    {
     "data": {
      "text/latex": [
       "$\\displaystyle \\left(a^{(2321)}_{1}\\right)^{2} \\left(a^{(2321)}_{2}\\right)^{2} \\left(a^{(2321)}_{3}\\right)^{2} \\left(b^{(2321)}_{1}\\right)^{5}$"
      ],
      "text/plain": [
       "<IPython.core.display.Math object>"
      ]
     },
     "metadata": {},
     "output_type": "display_data"
    },
    {
     "data": {
      "text/latex": [
       "$\\displaystyle RLCTS = \\left[ \\left( a^{(2321)}_{1}, \\  3\\right), \\  \\left( a^{(2321)}_{2}, \\  3\\right), \\  \\left( a^{(2321)}_{3}, \\  3\\right), \\  \\left( b^{(2321)}_{1}, \\  3\\right)\\right]$"
      ],
      "text/plain": [
       "<IPython.core.display.Math object>"
      ]
     },
     "metadata": {},
     "output_type": "display_data"
    },
    {
     "data": {
      "text/latex": [
       "$\\displaystyle \\left[\\begin{matrix}a^{(2321)}_{2} a^{(2321)}_{3} b^{(2321)}_{1} & a^{(2321)}_{1} a^{(2321)}_{2} a^{(2321)}_{3} & a^{(2321)}_{1} a^{(2321)}_{3} b^{(2321)}_{1} & 0 & a^{(2321)}_{1} a^{(2321)}_{2} b^{(2321)}_{1} & 0\\\\0 & 1 & 0 & 0 & 0 & 0\\\\0 & a^{(2321)}_{2} a^{(2321)}_{3} & a^{(2321)}_{3} b^{(2321)}_{1} & 0 & a^{(2321)}_{2} b^{(2321)}_{1} & 0\\\\b^{(2321)}_{1} b^{(2321)}_{2} & a^{(2321)}_{1} b^{(2321)}_{2} & 0 & a^{(2321)}_{1} b^{(2321)}_{1} & 0 & 0\\\\0 & a^{(2321)}_{3} & 0 & 0 & b^{(2321)}_{1} & 0\\\\a^{(2321)}_{2} b^{(2321)}_{1} b^{(2321)}_{3} & a^{(2321)}_{1} a^{(2321)}_{2} b^{(2321)}_{3} & a^{(2321)}_{1} b^{(2321)}_{1} b^{(2321)}_{3} & 0 & 0 & a^{(2321)}_{1} a^{(2321)}_{2} b^{(2321)}_{1}\\end{matrix}\\right]$"
      ],
      "text/plain": [
       "<IPython.core.display.Math object>"
      ]
     },
     "metadata": {},
     "output_type": "display_data"
    },
    {
     "data": {
      "text/latex": [
       "$\\displaystyle a_{1} = a^{(2321)}_{1} a^{(2321)}_{2} a^{(2321)}_{3} b^{(2321)}_{1}$"
      ],
      "text/plain": [
       "<IPython.core.display.Math object>"
      ]
     },
     "metadata": {},
     "output_type": "display_data"
    },
    {
     "data": {
      "text/latex": [
       "$\\displaystyle b_{1} = b^{(2321)}_{1}$"
      ],
      "text/plain": [
       "<IPython.core.display.Math object>"
      ]
     },
     "metadata": {},
     "output_type": "display_data"
    },
    {
     "data": {
      "text/latex": [
       "$\\displaystyle a_{2} = a^{(2321)}_{2} a^{(2321)}_{3} b^{(2321)}_{1}$"
      ],
      "text/plain": [
       "<IPython.core.display.Math object>"
      ]
     },
     "metadata": {},
     "output_type": "display_data"
    },
    {
     "data": {
      "text/latex": [
       "$\\displaystyle b_{2} = a^{(2321)}_{1} b^{(2321)}_{1} b^{(2321)}_{2}$"
      ],
      "text/plain": [
       "<IPython.core.display.Math object>"
      ]
     },
     "metadata": {},
     "output_type": "display_data"
    },
    {
     "data": {
      "text/latex": [
       "$\\displaystyle a_{3} = a^{(2321)}_{3} b^{(2321)}_{1}$"
      ],
      "text/plain": [
       "<IPython.core.display.Math object>"
      ]
     },
     "metadata": {},
     "output_type": "display_data"
    },
    {
     "data": {
      "text/latex": [
       "$\\displaystyle b_{3} = a^{(2321)}_{1} a^{(2321)}_{2} b^{(2321)}_{1} b^{(2321)}_{3}$"
      ],
      "text/plain": [
       "<IPython.core.display.Math object>"
      ]
     },
     "metadata": {},
     "output_type": "display_data"
    },
    {
     "data": {
      "text/latex": [
       "$\\displaystyle \\left(a^{(2321)}_{1}\\right)^{2} \\left(a^{(2321)}_{2}\\right)^{2} \\left(a^{(2321)}_{3}\\right)^{2} \\left(b^{(2321)}_{1}\\right)^{4} \\left(b^{(2321)}_{2} + b^{(2321)}_{3} + 1\\right)^{2}$"
      ],
      "text/plain": [
       "<IPython.core.display.Math object>"
      ]
     },
     "metadata": {},
     "output_type": "display_data"
    },
    {
     "name": "stdout",
     "output_type": "stream",
     "text": [
      "\n",
      "-----------\n",
      "Is leaf. Is normal crossing? True\n"
     ]
    },
    {
     "data": {
      "text/latex": [
       "$\\displaystyle a^{(231)}_{1} a^{(231)}_{3} \\left(b^{(231)}_{1}\\right)^{2} \\left(a^{(231)}_{2} b^{(231)}_{2} + b^{(231)}_{3} + 1\\right)$"
      ],
      "text/plain": [
       "<IPython.core.display.Math object>"
      ]
     },
     "metadata": {},
     "output_type": "display_data"
    },
    {
     "data": {
      "text/latex": [
       "$\\displaystyle \\left(a^{(231)}_{1}\\right)^{2} \\left(a^{(231)}_{3}\\right)^{2} \\left(b^{(231)}_{1}\\right)^{5}$"
      ],
      "text/plain": [
       "<IPython.core.display.Math object>"
      ]
     },
     "metadata": {},
     "output_type": "display_data"
    },
    {
     "data": {
      "text/latex": [
       "$\\displaystyle RLCTS = \\left[ \\left( a^{(231)}_{1}, \\  3\\right), \\  \\left( a^{(231)}_{3}, \\  3\\right), \\  \\left( b^{(231)}_{1}, \\  3\\right)\\right]$"
      ],
      "text/plain": [
       "<IPython.core.display.Math object>"
      ]
     },
     "metadata": {},
     "output_type": "display_data"
    },
    {
     "data": {
      "text/latex": [
       "$\\displaystyle \\left[\\begin{matrix}a^{(231)}_{3} b^{(231)}_{1} & a^{(231)}_{1} a^{(231)}_{3} & 0 & 0 & a^{(231)}_{1} b^{(231)}_{1} & 0\\\\0 & 1 & 0 & 0 & 0 & 0\\\\a^{(231)}_{2} a^{(231)}_{3} b^{(231)}_{1} & a^{(231)}_{1} a^{(231)}_{2} a^{(231)}_{3} & a^{(231)}_{1} a^{(231)}_{3} b^{(231)}_{1} & 0 & a^{(231)}_{1} a^{(231)}_{2} b^{(231)}_{1} & 0\\\\0 & b^{(231)}_{2} & 0 & b^{(231)}_{1} & 0 & 0\\\\0 & a^{(231)}_{3} & 0 & 0 & b^{(231)}_{1} & 0\\\\b^{(231)}_{1} b^{(231)}_{3} & a^{(231)}_{1} b^{(231)}_{3} & 0 & 0 & 0 & a^{(231)}_{1} b^{(231)}_{1}\\end{matrix}\\right]$"
      ],
      "text/plain": [
       "<IPython.core.display.Math object>"
      ]
     },
     "metadata": {},
     "output_type": "display_data"
    },
    {
     "data": {
      "text/latex": [
       "$\\displaystyle a_{1} = a^{(231)}_{1} a^{(231)}_{3} b^{(231)}_{1}$"
      ],
      "text/plain": [
       "<IPython.core.display.Math object>"
      ]
     },
     "metadata": {},
     "output_type": "display_data"
    },
    {
     "data": {
      "text/latex": [
       "$\\displaystyle b_{1} = b^{(231)}_{1}$"
      ],
      "text/plain": [
       "<IPython.core.display.Math object>"
      ]
     },
     "metadata": {},
     "output_type": "display_data"
    },
    {
     "data": {
      "text/latex": [
       "$\\displaystyle a_{2} = a^{(231)}_{1} a^{(231)}_{2} a^{(231)}_{3} b^{(231)}_{1}$"
      ],
      "text/plain": [
       "<IPython.core.display.Math object>"
      ]
     },
     "metadata": {},
     "output_type": "display_data"
    },
    {
     "data": {
      "text/latex": [
       "$\\displaystyle b_{2} = b^{(231)}_{1} b^{(231)}_{2}$"
      ],
      "text/plain": [
       "<IPython.core.display.Math object>"
      ]
     },
     "metadata": {},
     "output_type": "display_data"
    },
    {
     "data": {
      "text/latex": [
       "$\\displaystyle a_{3} = a^{(231)}_{3} b^{(231)}_{1}$"
      ],
      "text/plain": [
       "<IPython.core.display.Math object>"
      ]
     },
     "metadata": {},
     "output_type": "display_data"
    },
    {
     "data": {
      "text/latex": [
       "$\\displaystyle b_{3} = a^{(231)}_{1} b^{(231)}_{1} b^{(231)}_{3}$"
      ],
      "text/plain": [
       "<IPython.core.display.Math object>"
      ]
     },
     "metadata": {},
     "output_type": "display_data"
    },
    {
     "data": {
      "text/latex": [
       "$\\displaystyle \\left(a^{(231)}_{1}\\right)^{2} \\left(a^{(231)}_{3}\\right)^{2} \\left(b^{(231)}_{1}\\right)^{4} \\left(a^{(231)}_{2} b^{(231)}_{2} + b^{(231)}_{3} + 1\\right)^{2}$"
      ],
      "text/plain": [
       "<IPython.core.display.Math object>"
      ]
     },
     "metadata": {},
     "output_type": "display_data"
    },
    {
     "name": "stdout",
     "output_type": "stream",
     "text": [
      "\n",
      "-----------\n",
      "Is leaf. Is normal crossing? True\n"
     ]
    },
    {
     "data": {
      "text/latex": [
       "$\\displaystyle a^{(2233)}_{2} a^{(2233)}_{3} \\left(b^{(2233)}_{1}\\right)^{2} b^{(2233)}_{3} \\left(a^{(2233)}_{1} + b^{(2233)}_{2} + 1\\right)$"
      ],
      "text/plain": [
       "<IPython.core.display.Math object>"
      ]
     },
     "metadata": {},
     "output_type": "display_data"
    },
    {
     "data": {
      "text/latex": [
       "$\\displaystyle \\left(a^{(2233)}_{2}\\right)^{2} \\left(a^{(2233)}_{3}\\right)^{2} \\left(b^{(2233)}_{1}\\right)^{5} \\left(b^{(2233)}_{3}\\right)^{2}$"
      ],
      "text/plain": [
       "<IPython.core.display.Math object>"
      ]
     },
     "metadata": {},
     "output_type": "display_data"
    },
    {
     "data": {
      "text/latex": [
       "$\\displaystyle RLCTS = \\left[ \\left( a^{(2233)}_{2}, \\  3\\right), \\  \\left( a^{(2233)}_{3}, \\  3\\right), \\  \\left( b^{(2233)}_{3}, \\  3\\right), \\  \\left( b^{(2233)}_{1}, \\  3\\right)\\right]$"
      ],
      "text/plain": [
       "<IPython.core.display.Math object>"
      ]
     },
     "metadata": {},
     "output_type": "display_data"
    },
    {
     "data": {
      "text/latex": [
       "$\\displaystyle \\left[\\begin{matrix}a^{(2233)}_{2} a^{(2233)}_{3} b^{(2233)}_{1} b^{(2233)}_{3} & a^{(2233)}_{1} a^{(2233)}_{2} a^{(2233)}_{3} b^{(2233)}_{3} & a^{(2233)}_{1} a^{(2233)}_{3} b^{(2233)}_{1} b^{(2233)}_{3} & 0 & a^{(2233)}_{1} a^{(2233)}_{2} b^{(2233)}_{1} b^{(2233)}_{3} & a^{(2233)}_{1} a^{(2233)}_{2} a^{(2233)}_{3} b^{(2233)}_{1}\\\\0 & 1 & 0 & 0 & 0 & 0\\\\0 & a^{(2233)}_{2} & b^{(2233)}_{1} & 0 & 0 & 0\\\\0 & a^{(2233)}_{3} b^{(2233)}_{2} b^{(2233)}_{3} & 0 & a^{(2233)}_{3} b^{(2233)}_{1} b^{(2233)}_{3} & b^{(2233)}_{1} b^{(2233)}_{2} b^{(2233)}_{3} & a^{(2233)}_{3} b^{(2233)}_{1} b^{(2233)}_{2}\\\\0 & a^{(2233)}_{2} a^{(2233)}_{3} & a^{(2233)}_{3} b^{(2233)}_{1} & 0 & a^{(2233)}_{2} b^{(2233)}_{1} & 0\\\\0 & b^{(2233)}_{3} & 0 & 0 & 0 & b^{(2233)}_{1}\\end{matrix}\\right]$"
      ],
      "text/plain": [
       "<IPython.core.display.Math object>"
      ]
     },
     "metadata": {},
     "output_type": "display_data"
    },
    {
     "data": {
      "text/latex": [
       "$\\displaystyle a_{1} = a^{(2233)}_{1} a^{(2233)}_{2} a^{(2233)}_{3} b^{(2233)}_{1} b^{(2233)}_{3}$"
      ],
      "text/plain": [
       "<IPython.core.display.Math object>"
      ]
     },
     "metadata": {},
     "output_type": "display_data"
    },
    {
     "data": {
      "text/latex": [
       "$\\displaystyle b_{1} = b^{(2233)}_{1}$"
      ],
      "text/plain": [
       "<IPython.core.display.Math object>"
      ]
     },
     "metadata": {},
     "output_type": "display_data"
    },
    {
     "data": {
      "text/latex": [
       "$\\displaystyle a_{2} = a^{(2233)}_{2} b^{(2233)}_{1}$"
      ],
      "text/plain": [
       "<IPython.core.display.Math object>"
      ]
     },
     "metadata": {},
     "output_type": "display_data"
    },
    {
     "data": {
      "text/latex": [
       "$\\displaystyle b_{2} = a^{(2233)}_{3} b^{(2233)}_{1} b^{(2233)}_{2} b^{(2233)}_{3}$"
      ],
      "text/plain": [
       "<IPython.core.display.Math object>"
      ]
     },
     "metadata": {},
     "output_type": "display_data"
    },
    {
     "data": {
      "text/latex": [
       "$\\displaystyle a_{3} = a^{(2233)}_{2} a^{(2233)}_{3} b^{(2233)}_{1}$"
      ],
      "text/plain": [
       "<IPython.core.display.Math object>"
      ]
     },
     "metadata": {},
     "output_type": "display_data"
    },
    {
     "data": {
      "text/latex": [
       "$\\displaystyle b_{3} = b^{(2233)}_{1} b^{(2233)}_{3}$"
      ],
      "text/plain": [
       "<IPython.core.display.Math object>"
      ]
     },
     "metadata": {},
     "output_type": "display_data"
    },
    {
     "data": {
      "text/latex": [
       "$\\displaystyle \\left(a^{(2233)}_{2}\\right)^{2} \\left(a^{(2233)}_{3}\\right)^{2} \\left(b^{(2233)}_{1}\\right)^{4} \\left(b^{(2233)}_{3}\\right)^{2} \\left(a^{(2233)}_{1} + b^{(2233)}_{2} + 1\\right)^{2}$"
      ],
      "text/plain": [
       "<IPython.core.display.Math object>"
      ]
     },
     "metadata": {},
     "output_type": "display_data"
    },
    {
     "name": "stdout",
     "output_type": "stream",
     "text": [
      "\n",
      "-----------\n",
      "Is leaf. Is normal crossing? True\n"
     ]
    },
    {
     "data": {
      "text/latex": [
       "$\\displaystyle a^{(2232)}_{2} a^{(2232)}_{3} \\left(b^{(2232)}_{1}\\right)^{2} b^{(2232)}_{2} \\left(a^{(2232)}_{1} + b^{(2232)}_{3} + 1\\right)$"
      ],
      "text/plain": [
       "<IPython.core.display.Math object>"
      ]
     },
     "metadata": {},
     "output_type": "display_data"
    },
    {
     "data": {
      "text/latex": [
       "$\\displaystyle \\left(a^{(2232)}_{2}\\right)^{2} \\left(a^{(2232)}_{3}\\right)^{2} \\left(b^{(2232)}_{1}\\right)^{5} \\left(b^{(2232)}_{2}\\right)^{2}$"
      ],
      "text/plain": [
       "<IPython.core.display.Math object>"
      ]
     },
     "metadata": {},
     "output_type": "display_data"
    },
    {
     "data": {
      "text/latex": [
       "$\\displaystyle RLCTS = \\left[ \\left( a^{(2232)}_{2}, \\  3\\right), \\  \\left( a^{(2232)}_{3}, \\  3\\right), \\  \\left( b^{(2232)}_{2}, \\  3\\right), \\  \\left( b^{(2232)}_{1}, \\  3\\right)\\right]$"
      ],
      "text/plain": [
       "<IPython.core.display.Math object>"
      ]
     },
     "metadata": {},
     "output_type": "display_data"
    },
    {
     "data": {
      "text/latex": [
       "$\\displaystyle \\left[\\begin{matrix}a^{(2232)}_{2} a^{(2232)}_{3} b^{(2232)}_{1} b^{(2232)}_{2} & a^{(2232)}_{1} a^{(2232)}_{2} a^{(2232)}_{3} b^{(2232)}_{2} & a^{(2232)}_{1} a^{(2232)}_{3} b^{(2232)}_{1} b^{(2232)}_{2} & a^{(2232)}_{1} a^{(2232)}_{2} a^{(2232)}_{3} b^{(2232)}_{1} & a^{(2232)}_{1} a^{(2232)}_{2} b^{(2232)}_{1} b^{(2232)}_{2} & 0\\\\0 & 1 & 0 & 0 & 0 & 0\\\\0 & a^{(2232)}_{2} & b^{(2232)}_{1} & 0 & 0 & 0\\\\0 & a^{(2232)}_{3} b^{(2232)}_{2} & 0 & a^{(2232)}_{3} b^{(2232)}_{1} & b^{(2232)}_{1} b^{(2232)}_{2} & 0\\\\0 & a^{(2232)}_{2} a^{(2232)}_{3} & a^{(2232)}_{3} b^{(2232)}_{1} & 0 & a^{(2232)}_{2} b^{(2232)}_{1} & 0\\\\0 & b^{(2232)}_{2} b^{(2232)}_{3} & 0 & b^{(2232)}_{1} b^{(2232)}_{3} & 0 & b^{(2232)}_{1} b^{(2232)}_{2}\\end{matrix}\\right]$"
      ],
      "text/plain": [
       "<IPython.core.display.Math object>"
      ]
     },
     "metadata": {},
     "output_type": "display_data"
    },
    {
     "data": {
      "text/latex": [
       "$\\displaystyle a_{1} = a^{(2232)}_{1} a^{(2232)}_{2} a^{(2232)}_{3} b^{(2232)}_{1} b^{(2232)}_{2}$"
      ],
      "text/plain": [
       "<IPython.core.display.Math object>"
      ]
     },
     "metadata": {},
     "output_type": "display_data"
    },
    {
     "data": {
      "text/latex": [
       "$\\displaystyle b_{1} = b^{(2232)}_{1}$"
      ],
      "text/plain": [
       "<IPython.core.display.Math object>"
      ]
     },
     "metadata": {},
     "output_type": "display_data"
    },
    {
     "data": {
      "text/latex": [
       "$\\displaystyle a_{2} = a^{(2232)}_{2} b^{(2232)}_{1}$"
      ],
      "text/plain": [
       "<IPython.core.display.Math object>"
      ]
     },
     "metadata": {},
     "output_type": "display_data"
    },
    {
     "data": {
      "text/latex": [
       "$\\displaystyle b_{2} = a^{(2232)}_{3} b^{(2232)}_{1} b^{(2232)}_{2}$"
      ],
      "text/plain": [
       "<IPython.core.display.Math object>"
      ]
     },
     "metadata": {},
     "output_type": "display_data"
    },
    {
     "data": {
      "text/latex": [
       "$\\displaystyle a_{3} = a^{(2232)}_{2} a^{(2232)}_{3} b^{(2232)}_{1}$"
      ],
      "text/plain": [
       "<IPython.core.display.Math object>"
      ]
     },
     "metadata": {},
     "output_type": "display_data"
    },
    {
     "data": {
      "text/latex": [
       "$\\displaystyle b_{3} = b^{(2232)}_{1} b^{(2232)}_{2} b^{(2232)}_{3}$"
      ],
      "text/plain": [
       "<IPython.core.display.Math object>"
      ]
     },
     "metadata": {},
     "output_type": "display_data"
    },
    {
     "data": {
      "text/latex": [
       "$\\displaystyle \\left(a^{(2232)}_{2}\\right)^{2} \\left(a^{(2232)}_{3}\\right)^{2} \\left(b^{(2232)}_{1}\\right)^{4} \\left(b^{(2232)}_{2}\\right)^{2} \\left(a^{(2232)}_{1} + b^{(2232)}_{3} + 1\\right)^{2}$"
      ],
      "text/plain": [
       "<IPython.core.display.Math object>"
      ]
     },
     "metadata": {},
     "output_type": "display_data"
    },
    {
     "name": "stdout",
     "output_type": "stream",
     "text": [
      "\n",
      "-----------\n",
      "Is leaf. Is normal crossing? True\n"
     ]
    },
    {
     "data": {
      "text/latex": [
       "$\\displaystyle a^{(2231)}_{1} a^{(2231)}_{2} a^{(2231)}_{3} \\left(b^{(2231)}_{1}\\right)^{2} \\left(b^{(2231)}_{2} + b^{(2231)}_{3} + 1\\right)$"
      ],
      "text/plain": [
       "<IPython.core.display.Math object>"
      ]
     },
     "metadata": {},
     "output_type": "display_data"
    },
    {
     "data": {
      "text/latex": [
       "$\\displaystyle \\left(a^{(2231)}_{1}\\right)^{2} \\left(a^{(2231)}_{2}\\right)^{2} \\left(a^{(2231)}_{3}\\right)^{2} \\left(b^{(2231)}_{1}\\right)^{5}$"
      ],
      "text/plain": [
       "<IPython.core.display.Math object>"
      ]
     },
     "metadata": {},
     "output_type": "display_data"
    },
    {
     "data": {
      "text/latex": [
       "$\\displaystyle RLCTS = \\left[ \\left( a^{(2231)}_{1}, \\  3\\right), \\  \\left( a^{(2231)}_{2}, \\  3\\right), \\  \\left( a^{(2231)}_{3}, \\  3\\right), \\  \\left( b^{(2231)}_{1}, \\  3\\right)\\right]$"
      ],
      "text/plain": [
       "<IPython.core.display.Math object>"
      ]
     },
     "metadata": {},
     "output_type": "display_data"
    },
    {
     "data": {
      "text/latex": [
       "$\\displaystyle \\left[\\begin{matrix}a^{(2231)}_{2} a^{(2231)}_{3} b^{(2231)}_{1} & a^{(2231)}_{1} a^{(2231)}_{2} a^{(2231)}_{3} & a^{(2231)}_{1} a^{(2231)}_{3} b^{(2231)}_{1} & 0 & a^{(2231)}_{1} a^{(2231)}_{2} b^{(2231)}_{1} & 0\\\\0 & 1 & 0 & 0 & 0 & 0\\\\0 & a^{(2231)}_{2} & b^{(2231)}_{1} & 0 & 0 & 0\\\\a^{(2231)}_{3} b^{(2231)}_{1} b^{(2231)}_{2} & a^{(2231)}_{1} a^{(2231)}_{3} b^{(2231)}_{2} & 0 & a^{(2231)}_{1} a^{(2231)}_{3} b^{(2231)}_{1} & a^{(2231)}_{1} b^{(2231)}_{1} b^{(2231)}_{2} & 0\\\\0 & a^{(2231)}_{2} a^{(2231)}_{3} & a^{(2231)}_{3} b^{(2231)}_{1} & 0 & a^{(2231)}_{2} b^{(2231)}_{1} & 0\\\\b^{(2231)}_{1} b^{(2231)}_{3} & a^{(2231)}_{1} b^{(2231)}_{3} & 0 & 0 & 0 & a^{(2231)}_{1} b^{(2231)}_{1}\\end{matrix}\\right]$"
      ],
      "text/plain": [
       "<IPython.core.display.Math object>"
      ]
     },
     "metadata": {},
     "output_type": "display_data"
    },
    {
     "data": {
      "text/latex": [
       "$\\displaystyle a_{1} = a^{(2231)}_{1} a^{(2231)}_{2} a^{(2231)}_{3} b^{(2231)}_{1}$"
      ],
      "text/plain": [
       "<IPython.core.display.Math object>"
      ]
     },
     "metadata": {},
     "output_type": "display_data"
    },
    {
     "data": {
      "text/latex": [
       "$\\displaystyle b_{1} = b^{(2231)}_{1}$"
      ],
      "text/plain": [
       "<IPython.core.display.Math object>"
      ]
     },
     "metadata": {},
     "output_type": "display_data"
    },
    {
     "data": {
      "text/latex": [
       "$\\displaystyle a_{2} = a^{(2231)}_{2} b^{(2231)}_{1}$"
      ],
      "text/plain": [
       "<IPython.core.display.Math object>"
      ]
     },
     "metadata": {},
     "output_type": "display_data"
    },
    {
     "data": {
      "text/latex": [
       "$\\displaystyle b_{2} = a^{(2231)}_{1} a^{(2231)}_{3} b^{(2231)}_{1} b^{(2231)}_{2}$"
      ],
      "text/plain": [
       "<IPython.core.display.Math object>"
      ]
     },
     "metadata": {},
     "output_type": "display_data"
    },
    {
     "data": {
      "text/latex": [
       "$\\displaystyle a_{3} = a^{(2231)}_{2} a^{(2231)}_{3} b^{(2231)}_{1}$"
      ],
      "text/plain": [
       "<IPython.core.display.Math object>"
      ]
     },
     "metadata": {},
     "output_type": "display_data"
    },
    {
     "data": {
      "text/latex": [
       "$\\displaystyle b_{3} = a^{(2231)}_{1} b^{(2231)}_{1} b^{(2231)}_{3}$"
      ],
      "text/plain": [
       "<IPython.core.display.Math object>"
      ]
     },
     "metadata": {},
     "output_type": "display_data"
    },
    {
     "data": {
      "text/latex": [
       "$\\displaystyle \\left(a^{(2231)}_{1}\\right)^{2} \\left(a^{(2231)}_{2}\\right)^{2} \\left(a^{(2231)}_{3}\\right)^{2} \\left(b^{(2231)}_{1}\\right)^{4} \\left(b^{(2231)}_{2} + b^{(2231)}_{3} + 1\\right)^{2}$"
      ],
      "text/plain": [
       "<IPython.core.display.Math object>"
      ]
     },
     "metadata": {},
     "output_type": "display_data"
    },
    {
     "name": "stdout",
     "output_type": "stream",
     "text": [
      "\n",
      "-----------\n",
      "Is leaf. Is normal crossing? True\n"
     ]
    },
    {
     "data": {
      "text/latex": [
       "$\\displaystyle a^{(222)}_{2} \\left(b^{(222)}_{1}\\right)^{2} b^{(222)}_{2} \\left(a^{(222)}_{1} + a^{(222)}_{3} b^{(222)}_{3} + 1\\right)$"
      ],
      "text/plain": [
       "<IPython.core.display.Math object>"
      ]
     },
     "metadata": {},
     "output_type": "display_data"
    },
    {
     "data": {
      "text/latex": [
       "$\\displaystyle \\left(a^{(222)}_{2}\\right)^{2} \\left(b^{(222)}_{1}\\right)^{5} \\left(b^{(222)}_{2}\\right)^{2}$"
      ],
      "text/plain": [
       "<IPython.core.display.Math object>"
      ]
     },
     "metadata": {},
     "output_type": "display_data"
    },
    {
     "data": {
      "text/latex": [
       "$\\displaystyle RLCTS = \\left[ \\left( a^{(222)}_{2}, \\  3\\right), \\  \\left( b^{(222)}_{2}, \\  3\\right), \\  \\left( b^{(222)}_{1}, \\  3\\right)\\right]$"
      ],
      "text/plain": [
       "<IPython.core.display.Math object>"
      ]
     },
     "metadata": {},
     "output_type": "display_data"
    },
    {
     "data": {
      "text/latex": [
       "$\\displaystyle \\left[\\begin{matrix}a^{(222)}_{2} b^{(222)}_{1} b^{(222)}_{2} & a^{(222)}_{1} a^{(222)}_{2} b^{(222)}_{2} & a^{(222)}_{1} b^{(222)}_{1} b^{(222)}_{2} & a^{(222)}_{1} a^{(222)}_{2} b^{(222)}_{1} & 0 & 0\\\\0 & 1 & 0 & 0 & 0 & 0\\\\0 & a^{(222)}_{2} & b^{(222)}_{1} & 0 & 0 & 0\\\\0 & b^{(222)}_{2} & 0 & b^{(222)}_{1} & 0 & 0\\\\0 & a^{(222)}_{2} a^{(222)}_{3} b^{(222)}_{2} & a^{(222)}_{3} b^{(222)}_{1} b^{(222)}_{2} & a^{(222)}_{2} a^{(222)}_{3} b^{(222)}_{1} & a^{(222)}_{2} b^{(222)}_{1} b^{(222)}_{2} & 0\\\\0 & b^{(222)}_{3} & 0 & 0 & 0 & b^{(222)}_{1}\\end{matrix}\\right]$"
      ],
      "text/plain": [
       "<IPython.core.display.Math object>"
      ]
     },
     "metadata": {},
     "output_type": "display_data"
    },
    {
     "data": {
      "text/latex": [
       "$\\displaystyle a_{1} = a^{(222)}_{1} a^{(222)}_{2} b^{(222)}_{1} b^{(222)}_{2}$"
      ],
      "text/plain": [
       "<IPython.core.display.Math object>"
      ]
     },
     "metadata": {},
     "output_type": "display_data"
    },
    {
     "data": {
      "text/latex": [
       "$\\displaystyle b_{1} = b^{(222)}_{1}$"
      ],
      "text/plain": [
       "<IPython.core.display.Math object>"
      ]
     },
     "metadata": {},
     "output_type": "display_data"
    },
    {
     "data": {
      "text/latex": [
       "$\\displaystyle a_{2} = a^{(222)}_{2} b^{(222)}_{1}$"
      ],
      "text/plain": [
       "<IPython.core.display.Math object>"
      ]
     },
     "metadata": {},
     "output_type": "display_data"
    },
    {
     "data": {
      "text/latex": [
       "$\\displaystyle b_{2} = b^{(222)}_{1} b^{(222)}_{2}$"
      ],
      "text/plain": [
       "<IPython.core.display.Math object>"
      ]
     },
     "metadata": {},
     "output_type": "display_data"
    },
    {
     "data": {
      "text/latex": [
       "$\\displaystyle a_{3} = a^{(222)}_{2} a^{(222)}_{3} b^{(222)}_{1} b^{(222)}_{2}$"
      ],
      "text/plain": [
       "<IPython.core.display.Math object>"
      ]
     },
     "metadata": {},
     "output_type": "display_data"
    },
    {
     "data": {
      "text/latex": [
       "$\\displaystyle b_{3} = b^{(222)}_{1} b^{(222)}_{3}$"
      ],
      "text/plain": [
       "<IPython.core.display.Math object>"
      ]
     },
     "metadata": {},
     "output_type": "display_data"
    },
    {
     "data": {
      "text/latex": [
       "$\\displaystyle \\left(a^{(222)}_{2}\\right)^{2} \\left(b^{(222)}_{1}\\right)^{4} \\left(b^{(222)}_{2}\\right)^{2} \\left(a^{(222)}_{1} + a^{(222)}_{3} b^{(222)}_{3} + 1\\right)^{2}$"
      ],
      "text/plain": [
       "<IPython.core.display.Math object>"
      ]
     },
     "metadata": {},
     "output_type": "display_data"
    },
    {
     "name": "stdout",
     "output_type": "stream",
     "text": [
      "\n",
      "-----------\n",
      "Is leaf. Is normal crossing? True\n"
     ]
    },
    {
     "data": {
      "text/latex": [
       "$\\displaystyle a^{(221)}_{1} a^{(221)}_{2} \\left(b^{(221)}_{1}\\right)^{2} \\left(a^{(221)}_{3} b^{(221)}_{3} + b^{(221)}_{2} + 1\\right)$"
      ],
      "text/plain": [
       "<IPython.core.display.Math object>"
      ]
     },
     "metadata": {},
     "output_type": "display_data"
    },
    {
     "data": {
      "text/latex": [
       "$\\displaystyle \\left(a^{(221)}_{1}\\right)^{2} \\left(a^{(221)}_{2}\\right)^{2} \\left(b^{(221)}_{1}\\right)^{5}$"
      ],
      "text/plain": [
       "<IPython.core.display.Math object>"
      ]
     },
     "metadata": {},
     "output_type": "display_data"
    },
    {
     "data": {
      "text/latex": [
       "$\\displaystyle RLCTS = \\left[ \\left( a^{(221)}_{1}, \\  3\\right), \\  \\left( a^{(221)}_{2}, \\  3\\right), \\  \\left( b^{(221)}_{1}, \\  3\\right)\\right]$"
      ],
      "text/plain": [
       "<IPython.core.display.Math object>"
      ]
     },
     "metadata": {},
     "output_type": "display_data"
    },
    {
     "data": {
      "text/latex": [
       "$\\displaystyle \\left[\\begin{matrix}a^{(221)}_{2} b^{(221)}_{1} & a^{(221)}_{1} a^{(221)}_{2} & a^{(221)}_{1} b^{(221)}_{1} & 0 & 0 & 0\\\\0 & 1 & 0 & 0 & 0 & 0\\\\0 & a^{(221)}_{2} & b^{(221)}_{1} & 0 & 0 & 0\\\\b^{(221)}_{1} b^{(221)}_{2} & a^{(221)}_{1} b^{(221)}_{2} & 0 & a^{(221)}_{1} b^{(221)}_{1} & 0 & 0\\\\a^{(221)}_{2} a^{(221)}_{3} b^{(221)}_{1} & a^{(221)}_{1} a^{(221)}_{2} a^{(221)}_{3} & a^{(221)}_{1} a^{(221)}_{3} b^{(221)}_{1} & 0 & a^{(221)}_{1} a^{(221)}_{2} b^{(221)}_{1} & 0\\\\0 & b^{(221)}_{3} & 0 & 0 & 0 & b^{(221)}_{1}\\end{matrix}\\right]$"
      ],
      "text/plain": [
       "<IPython.core.display.Math object>"
      ]
     },
     "metadata": {},
     "output_type": "display_data"
    },
    {
     "data": {
      "text/latex": [
       "$\\displaystyle a_{1} = a^{(221)}_{1} a^{(221)}_{2} b^{(221)}_{1}$"
      ],
      "text/plain": [
       "<IPython.core.display.Math object>"
      ]
     },
     "metadata": {},
     "output_type": "display_data"
    },
    {
     "data": {
      "text/latex": [
       "$\\displaystyle b_{1} = b^{(221)}_{1}$"
      ],
      "text/plain": [
       "<IPython.core.display.Math object>"
      ]
     },
     "metadata": {},
     "output_type": "display_data"
    },
    {
     "data": {
      "text/latex": [
       "$\\displaystyle a_{2} = a^{(221)}_{2} b^{(221)}_{1}$"
      ],
      "text/plain": [
       "<IPython.core.display.Math object>"
      ]
     },
     "metadata": {},
     "output_type": "display_data"
    },
    {
     "data": {
      "text/latex": [
       "$\\displaystyle b_{2} = a^{(221)}_{1} b^{(221)}_{1} b^{(221)}_{2}$"
      ],
      "text/plain": [
       "<IPython.core.display.Math object>"
      ]
     },
     "metadata": {},
     "output_type": "display_data"
    },
    {
     "data": {
      "text/latex": [
       "$\\displaystyle a_{3} = a^{(221)}_{1} a^{(221)}_{2} a^{(221)}_{3} b^{(221)}_{1}$"
      ],
      "text/plain": [
       "<IPython.core.display.Math object>"
      ]
     },
     "metadata": {},
     "output_type": "display_data"
    },
    {
     "data": {
      "text/latex": [
       "$\\displaystyle b_{3} = b^{(221)}_{1} b^{(221)}_{3}$"
      ],
      "text/plain": [
       "<IPython.core.display.Math object>"
      ]
     },
     "metadata": {},
     "output_type": "display_data"
    },
    {
     "data": {
      "text/latex": [
       "$\\displaystyle \\left(a^{(221)}_{1}\\right)^{2} \\left(a^{(221)}_{2}\\right)^{2} \\left(b^{(221)}_{1}\\right)^{4} \\left(a^{(221)}_{3} b^{(221)}_{3} + b^{(221)}_{2} + 1\\right)^{2}$"
      ],
      "text/plain": [
       "<IPython.core.display.Math object>"
      ]
     },
     "metadata": {},
     "output_type": "display_data"
    },
    {
     "name": "stdout",
     "output_type": "stream",
     "text": [
      "\n",
      "-----------\n",
      "Is leaf. Is normal crossing? True\n"
     ]
    },
    {
     "data": {
      "text/latex": [
       "$\\displaystyle a^{(21)}_{1} \\left(b^{(21)}_{1}\\right)^{2} \\left(a^{(21)}_{2} b^{(21)}_{2} + a^{(21)}_{3} b^{(21)}_{3} + 1\\right)$"
      ],
      "text/plain": [
       "<IPython.core.display.Math object>"
      ]
     },
     "metadata": {},
     "output_type": "display_data"
    },
    {
     "data": {
      "text/latex": [
       "$\\displaystyle \\left(a^{(21)}_{1}\\right)^{2} \\left(b^{(21)}_{1}\\right)^{5}$"
      ],
      "text/plain": [
       "<IPython.core.display.Math object>"
      ]
     },
     "metadata": {},
     "output_type": "display_data"
    },
    {
     "data": {
      "text/latex": [
       "$\\displaystyle RLCTS = \\left[ \\left( a^{(21)}_{1}, \\  3\\right), \\  \\left( b^{(21)}_{1}, \\  3\\right)\\right]$"
      ],
      "text/plain": [
       "<IPython.core.display.Math object>"
      ]
     },
     "metadata": {},
     "output_type": "display_data"
    },
    {
     "data": {
      "text/latex": [
       "$\\displaystyle \\left[\\begin{matrix}b^{(21)}_{1} & a^{(21)}_{1} & 0 & 0 & 0 & 0\\\\0 & 1 & 0 & 0 & 0 & 0\\\\a^{(21)}_{2} b^{(21)}_{1} & a^{(21)}_{1} a^{(21)}_{2} & a^{(21)}_{1} b^{(21)}_{1} & 0 & 0 & 0\\\\0 & b^{(21)}_{2} & 0 & b^{(21)}_{1} & 0 & 0\\\\a^{(21)}_{3} b^{(21)}_{1} & a^{(21)}_{1} a^{(21)}_{3} & 0 & 0 & a^{(21)}_{1} b^{(21)}_{1} & 0\\\\0 & b^{(21)}_{3} & 0 & 0 & 0 & b^{(21)}_{1}\\end{matrix}\\right]$"
      ],
      "text/plain": [
       "<IPython.core.display.Math object>"
      ]
     },
     "metadata": {},
     "output_type": "display_data"
    },
    {
     "data": {
      "text/latex": [
       "$\\displaystyle a_{1} = a^{(21)}_{1} b^{(21)}_{1}$"
      ],
      "text/plain": [
       "<IPython.core.display.Math object>"
      ]
     },
     "metadata": {},
     "output_type": "display_data"
    },
    {
     "data": {
      "text/latex": [
       "$\\displaystyle b_{1} = b^{(21)}_{1}$"
      ],
      "text/plain": [
       "<IPython.core.display.Math object>"
      ]
     },
     "metadata": {},
     "output_type": "display_data"
    },
    {
     "data": {
      "text/latex": [
       "$\\displaystyle a_{2} = a^{(21)}_{1} a^{(21)}_{2} b^{(21)}_{1}$"
      ],
      "text/plain": [
       "<IPython.core.display.Math object>"
      ]
     },
     "metadata": {},
     "output_type": "display_data"
    },
    {
     "data": {
      "text/latex": [
       "$\\displaystyle b_{2} = b^{(21)}_{1} b^{(21)}_{2}$"
      ],
      "text/plain": [
       "<IPython.core.display.Math object>"
      ]
     },
     "metadata": {},
     "output_type": "display_data"
    },
    {
     "data": {
      "text/latex": [
       "$\\displaystyle a_{3} = a^{(21)}_{1} a^{(21)}_{3} b^{(21)}_{1}$"
      ],
      "text/plain": [
       "<IPython.core.display.Math object>"
      ]
     },
     "metadata": {},
     "output_type": "display_data"
    },
    {
     "data": {
      "text/latex": [
       "$\\displaystyle b_{3} = b^{(21)}_{1} b^{(21)}_{3}$"
      ],
      "text/plain": [
       "<IPython.core.display.Math object>"
      ]
     },
     "metadata": {},
     "output_type": "display_data"
    },
    {
     "data": {
      "text/latex": [
       "$\\displaystyle \\left(a^{(21)}_{1}\\right)^{2} \\left(b^{(21)}_{1}\\right)^{4} \\left(a^{(21)}_{2} b^{(21)}_{2} + a^{(21)}_{3} b^{(21)}_{3} + 1\\right)^{2}$"
      ],
      "text/plain": [
       "<IPython.core.display.Math object>"
      ]
     },
     "metadata": {},
     "output_type": "display_data"
    },
    {
     "name": "stdout",
     "output_type": "stream",
     "text": [
      "\n",
      "-----------\n",
      "Is leaf. Is normal crossing? True\n"
     ]
    },
    {
     "data": {
      "text/latex": [
       "$\\displaystyle \\left(a^{(133)}_{1}\\right)^{2} a^{(133)}_{3} b^{(133)}_{3} \\left(a^{(133)}_{2} b^{(133)}_{2} + b^{(133)}_{1} + 1\\right)$"
      ],
      "text/plain": [
       "<IPython.core.display.Math object>"
      ]
     },
     "metadata": {},
     "output_type": "display_data"
    },
    {
     "data": {
      "text/latex": [
       "$\\displaystyle \\left(a^{(133)}_{1}\\right)^{5} \\left(a^{(133)}_{3}\\right)^{2} \\left(b^{(133)}_{3}\\right)^{2}$"
      ],
      "text/plain": [
       "<IPython.core.display.Math object>"
      ]
     },
     "metadata": {},
     "output_type": "display_data"
    },
    {
     "data": {
      "text/latex": [
       "$\\displaystyle RLCTS = \\left[ \\left( a^{(133)}_{3}, \\  3\\right), \\  \\left( b^{(133)}_{3}, \\  3\\right), \\  \\left( a^{(133)}_{1}, \\  3\\right)\\right]$"
      ],
      "text/plain": [
       "<IPython.core.display.Math object>"
      ]
     },
     "metadata": {},
     "output_type": "display_data"
    },
    {
     "data": {
      "text/latex": [
       "$\\displaystyle \\left[\\begin{matrix}1 & 0 & 0 & 0 & 0 & 0\\\\a^{(133)}_{3} b^{(133)}_{1} b^{(133)}_{3} & a^{(133)}_{1} a^{(133)}_{3} b^{(133)}_{3} & 0 & 0 & a^{(133)}_{1} b^{(133)}_{1} b^{(133)}_{3} & a^{(133)}_{1} a^{(133)}_{3} b^{(133)}_{1}\\\\a^{(133)}_{2} a^{(133)}_{3} b^{(133)}_{3} & 0 & a^{(133)}_{1} a^{(133)}_{3} b^{(133)}_{3} & 0 & a^{(133)}_{1} a^{(133)}_{2} b^{(133)}_{3} & a^{(133)}_{1} a^{(133)}_{2} a^{(133)}_{3}\\\\b^{(133)}_{2} & 0 & 0 & a^{(133)}_{1} & 0 & 0\\\\a^{(133)}_{3} & 0 & 0 & 0 & a^{(133)}_{1} & 0\\\\b^{(133)}_{3} & 0 & 0 & 0 & 0 & a^{(133)}_{1}\\end{matrix}\\right]$"
      ],
      "text/plain": [
       "<IPython.core.display.Math object>"
      ]
     },
     "metadata": {},
     "output_type": "display_data"
    },
    {
     "data": {
      "text/latex": [
       "$\\displaystyle a_{1} = a^{(133)}_{1}$"
      ],
      "text/plain": [
       "<IPython.core.display.Math object>"
      ]
     },
     "metadata": {},
     "output_type": "display_data"
    },
    {
     "data": {
      "text/latex": [
       "$\\displaystyle b_{1} = a^{(133)}_{1} a^{(133)}_{3} b^{(133)}_{1} b^{(133)}_{3}$"
      ],
      "text/plain": [
       "<IPython.core.display.Math object>"
      ]
     },
     "metadata": {},
     "output_type": "display_data"
    },
    {
     "data": {
      "text/latex": [
       "$\\displaystyle a_{2} = a^{(133)}_{1} a^{(133)}_{2} a^{(133)}_{3} b^{(133)}_{3}$"
      ],
      "text/plain": [
       "<IPython.core.display.Math object>"
      ]
     },
     "metadata": {},
     "output_type": "display_data"
    },
    {
     "data": {
      "text/latex": [
       "$\\displaystyle b_{2} = a^{(133)}_{1} b^{(133)}_{2}$"
      ],
      "text/plain": [
       "<IPython.core.display.Math object>"
      ]
     },
     "metadata": {},
     "output_type": "display_data"
    },
    {
     "data": {
      "text/latex": [
       "$\\displaystyle a_{3} = a^{(133)}_{1} a^{(133)}_{3}$"
      ],
      "text/plain": [
       "<IPython.core.display.Math object>"
      ]
     },
     "metadata": {},
     "output_type": "display_data"
    },
    {
     "data": {
      "text/latex": [
       "$\\displaystyle b_{3} = a^{(133)}_{1} b^{(133)}_{3}$"
      ],
      "text/plain": [
       "<IPython.core.display.Math object>"
      ]
     },
     "metadata": {},
     "output_type": "display_data"
    },
    {
     "data": {
      "text/latex": [
       "$\\displaystyle \\left(a^{(133)}_{1}\\right)^{4} \\left(a^{(133)}_{3}\\right)^{2} \\left(b^{(133)}_{3}\\right)^{2} \\left(a^{(133)}_{2} b^{(133)}_{2} + b^{(133)}_{1} + 1\\right)^{2}$"
      ],
      "text/plain": [
       "<IPython.core.display.Math object>"
      ]
     },
     "metadata": {},
     "output_type": "display_data"
    },
    {
     "name": "stdout",
     "output_type": "stream",
     "text": [
      "\n",
      "-----------\n",
      "Is leaf. Is normal crossing? True\n"
     ]
    },
    {
     "data": {
      "text/latex": [
       "$\\displaystyle \\left(a^{(1323)}_{1}\\right)^{2} a^{(1323)}_{2} a^{(1323)}_{3} b^{(1323)}_{3} \\left(b^{(1323)}_{1} + b^{(1323)}_{2} + 1\\right)$"
      ],
      "text/plain": [
       "<IPython.core.display.Math object>"
      ]
     },
     "metadata": {},
     "output_type": "display_data"
    },
    {
     "data": {
      "text/latex": [
       "$\\displaystyle \\left(a^{(1323)}_{1}\\right)^{5} \\left(a^{(1323)}_{2}\\right)^{2} \\left(a^{(1323)}_{3}\\right)^{2} \\left(b^{(1323)}_{3}\\right)^{2}$"
      ],
      "text/plain": [
       "<IPython.core.display.Math object>"
      ]
     },
     "metadata": {},
     "output_type": "display_data"
    },
    {
     "data": {
      "text/latex": [
       "$\\displaystyle RLCTS = \\left[ \\left( a^{(1323)}_{2}, \\  3\\right), \\  \\left( a^{(1323)}_{3}, \\  3\\right), \\  \\left( b^{(1323)}_{3}, \\  3\\right), \\  \\left( a^{(1323)}_{1}, \\  3\\right)\\right]$"
      ],
      "text/plain": [
       "<IPython.core.display.Math object>"
      ]
     },
     "metadata": {},
     "output_type": "display_data"
    },
    {
     "data": {
      "text/latex": [
       "$\\displaystyle \\left[\\begin{matrix}1 & 0 & 0 & 0 & 0 & 0\\\\a^{(1323)}_{2} a^{(1323)}_{3} b^{(1323)}_{1} b^{(1323)}_{3} & a^{(1323)}_{1} a^{(1323)}_{2} a^{(1323)}_{3} b^{(1323)}_{3} & a^{(1323)}_{1} a^{(1323)}_{3} b^{(1323)}_{1} b^{(1323)}_{3} & 0 & a^{(1323)}_{1} a^{(1323)}_{2} b^{(1323)}_{1} b^{(1323)}_{3} & a^{(1323)}_{1} a^{(1323)}_{2} a^{(1323)}_{3} b^{(1323)}_{1}\\\\a^{(1323)}_{2} a^{(1323)}_{3} & 0 & a^{(1323)}_{1} a^{(1323)}_{3} & 0 & a^{(1323)}_{1} a^{(1323)}_{2} & 0\\\\b^{(1323)}_{2} b^{(1323)}_{3} & 0 & 0 & a^{(1323)}_{1} b^{(1323)}_{3} & 0 & a^{(1323)}_{1} b^{(1323)}_{2}\\\\a^{(1323)}_{3} & 0 & 0 & 0 & a^{(1323)}_{1} & 0\\\\a^{(1323)}_{2} b^{(1323)}_{3} & 0 & a^{(1323)}_{1} b^{(1323)}_{3} & 0 & 0 & a^{(1323)}_{1} a^{(1323)}_{2}\\end{matrix}\\right]$"
      ],
      "text/plain": [
       "<IPython.core.display.Math object>"
      ]
     },
     "metadata": {},
     "output_type": "display_data"
    },
    {
     "data": {
      "text/latex": [
       "$\\displaystyle a_{1} = a^{(1323)}_{1}$"
      ],
      "text/plain": [
       "<IPython.core.display.Math object>"
      ]
     },
     "metadata": {},
     "output_type": "display_data"
    },
    {
     "data": {
      "text/latex": [
       "$\\displaystyle b_{1} = a^{(1323)}_{1} a^{(1323)}_{2} a^{(1323)}_{3} b^{(1323)}_{1} b^{(1323)}_{3}$"
      ],
      "text/plain": [
       "<IPython.core.display.Math object>"
      ]
     },
     "metadata": {},
     "output_type": "display_data"
    },
    {
     "data": {
      "text/latex": [
       "$\\displaystyle a_{2} = a^{(1323)}_{1} a^{(1323)}_{2} a^{(1323)}_{3}$"
      ],
      "text/plain": [
       "<IPython.core.display.Math object>"
      ]
     },
     "metadata": {},
     "output_type": "display_data"
    },
    {
     "data": {
      "text/latex": [
       "$\\displaystyle b_{2} = a^{(1323)}_{1} b^{(1323)}_{2} b^{(1323)}_{3}$"
      ],
      "text/plain": [
       "<IPython.core.display.Math object>"
      ]
     },
     "metadata": {},
     "output_type": "display_data"
    },
    {
     "data": {
      "text/latex": [
       "$\\displaystyle a_{3} = a^{(1323)}_{1} a^{(1323)}_{3}$"
      ],
      "text/plain": [
       "<IPython.core.display.Math object>"
      ]
     },
     "metadata": {},
     "output_type": "display_data"
    },
    {
     "data": {
      "text/latex": [
       "$\\displaystyle b_{3} = a^{(1323)}_{1} a^{(1323)}_{2} b^{(1323)}_{3}$"
      ],
      "text/plain": [
       "<IPython.core.display.Math object>"
      ]
     },
     "metadata": {},
     "output_type": "display_data"
    },
    {
     "data": {
      "text/latex": [
       "$\\displaystyle \\left(a^{(1323)}_{1}\\right)^{4} \\left(a^{(1323)}_{2}\\right)^{2} \\left(a^{(1323)}_{3}\\right)^{2} \\left(b^{(1323)}_{3}\\right)^{2} \\left(b^{(1323)}_{1} + b^{(1323)}_{2} + 1\\right)^{2}$"
      ],
      "text/plain": [
       "<IPython.core.display.Math object>"
      ]
     },
     "metadata": {},
     "output_type": "display_data"
    },
    {
     "name": "stdout",
     "output_type": "stream",
     "text": [
      "\n",
      "-----------\n",
      "Is leaf. Is normal crossing? True\n"
     ]
    },
    {
     "data": {
      "text/latex": [
       "$\\displaystyle \\left(a^{(1322)}_{1}\\right)^{2} a^{(1322)}_{2} a^{(1322)}_{3} b^{(1322)}_{2} \\left(b^{(1322)}_{1} + b^{(1322)}_{3} + 1\\right)$"
      ],
      "text/plain": [
       "<IPython.core.display.Math object>"
      ]
     },
     "metadata": {},
     "output_type": "display_data"
    },
    {
     "data": {
      "text/latex": [
       "$\\displaystyle \\left(a^{(1322)}_{1}\\right)^{5} \\left(a^{(1322)}_{2}\\right)^{2} \\left(a^{(1322)}_{3}\\right)^{2} \\left(b^{(1322)}_{2}\\right)^{2}$"
      ],
      "text/plain": [
       "<IPython.core.display.Math object>"
      ]
     },
     "metadata": {},
     "output_type": "display_data"
    },
    {
     "data": {
      "text/latex": [
       "$\\displaystyle RLCTS = \\left[ \\left( a^{(1322)}_{2}, \\  3\\right), \\  \\left( a^{(1322)}_{3}, \\  3\\right), \\  \\left( b^{(1322)}_{2}, \\  3\\right), \\  \\left( a^{(1322)}_{1}, \\  3\\right)\\right]$"
      ],
      "text/plain": [
       "<IPython.core.display.Math object>"
      ]
     },
     "metadata": {},
     "output_type": "display_data"
    },
    {
     "data": {
      "text/latex": [
       "$\\displaystyle \\left[\\begin{matrix}1 & 0 & 0 & 0 & 0 & 0\\\\a^{(1322)}_{2} a^{(1322)}_{3} b^{(1322)}_{1} b^{(1322)}_{2} & a^{(1322)}_{1} a^{(1322)}_{2} a^{(1322)}_{3} b^{(1322)}_{2} & a^{(1322)}_{1} a^{(1322)}_{3} b^{(1322)}_{1} b^{(1322)}_{2} & a^{(1322)}_{1} a^{(1322)}_{2} a^{(1322)}_{3} b^{(1322)}_{1} & a^{(1322)}_{1} a^{(1322)}_{2} b^{(1322)}_{1} b^{(1322)}_{2} & 0\\\\a^{(1322)}_{2} a^{(1322)}_{3} & 0 & a^{(1322)}_{1} a^{(1322)}_{3} & 0 & a^{(1322)}_{1} a^{(1322)}_{2} & 0\\\\b^{(1322)}_{2} & 0 & 0 & a^{(1322)}_{1} & 0 & 0\\\\a^{(1322)}_{3} & 0 & 0 & 0 & a^{(1322)}_{1} & 0\\\\a^{(1322)}_{2} b^{(1322)}_{2} b^{(1322)}_{3} & 0 & a^{(1322)}_{1} b^{(1322)}_{2} b^{(1322)}_{3} & a^{(1322)}_{1} a^{(1322)}_{2} b^{(1322)}_{3} & 0 & a^{(1322)}_{1} a^{(1322)}_{2} b^{(1322)}_{2}\\end{matrix}\\right]$"
      ],
      "text/plain": [
       "<IPython.core.display.Math object>"
      ]
     },
     "metadata": {},
     "output_type": "display_data"
    },
    {
     "data": {
      "text/latex": [
       "$\\displaystyle a_{1} = a^{(1322)}_{1}$"
      ],
      "text/plain": [
       "<IPython.core.display.Math object>"
      ]
     },
     "metadata": {},
     "output_type": "display_data"
    },
    {
     "data": {
      "text/latex": [
       "$\\displaystyle b_{1} = a^{(1322)}_{1} a^{(1322)}_{2} a^{(1322)}_{3} b^{(1322)}_{1} b^{(1322)}_{2}$"
      ],
      "text/plain": [
       "<IPython.core.display.Math object>"
      ]
     },
     "metadata": {},
     "output_type": "display_data"
    },
    {
     "data": {
      "text/latex": [
       "$\\displaystyle a_{2} = a^{(1322)}_{1} a^{(1322)}_{2} a^{(1322)}_{3}$"
      ],
      "text/plain": [
       "<IPython.core.display.Math object>"
      ]
     },
     "metadata": {},
     "output_type": "display_data"
    },
    {
     "data": {
      "text/latex": [
       "$\\displaystyle b_{2} = a^{(1322)}_{1} b^{(1322)}_{2}$"
      ],
      "text/plain": [
       "<IPython.core.display.Math object>"
      ]
     },
     "metadata": {},
     "output_type": "display_data"
    },
    {
     "data": {
      "text/latex": [
       "$\\displaystyle a_{3} = a^{(1322)}_{1} a^{(1322)}_{3}$"
      ],
      "text/plain": [
       "<IPython.core.display.Math object>"
      ]
     },
     "metadata": {},
     "output_type": "display_data"
    },
    {
     "data": {
      "text/latex": [
       "$\\displaystyle b_{3} = a^{(1322)}_{1} a^{(1322)}_{2} b^{(1322)}_{2} b^{(1322)}_{3}$"
      ],
      "text/plain": [
       "<IPython.core.display.Math object>"
      ]
     },
     "metadata": {},
     "output_type": "display_data"
    },
    {
     "data": {
      "text/latex": [
       "$\\displaystyle \\left(a^{(1322)}_{1}\\right)^{4} \\left(a^{(1322)}_{2}\\right)^{2} \\left(a^{(1322)}_{3}\\right)^{2} \\left(b^{(1322)}_{2}\\right)^{2} \\left(b^{(1322)}_{1} + b^{(1322)}_{3} + 1\\right)^{2}$"
      ],
      "text/plain": [
       "<IPython.core.display.Math object>"
      ]
     },
     "metadata": {},
     "output_type": "display_data"
    },
    {
     "name": "stdout",
     "output_type": "stream",
     "text": [
      "\n",
      "-----------\n",
      "Is leaf. Is normal crossing? True\n"
     ]
    },
    {
     "data": {
      "text/latex": [
       "$\\displaystyle \\left(a^{(1321)}_{1}\\right)^{2} a^{(1321)}_{2} a^{(1321)}_{3} b^{(1321)}_{1} \\left(b^{(1321)}_{2} + b^{(1321)}_{3} + 1\\right)$"
      ],
      "text/plain": [
       "<IPython.core.display.Math object>"
      ]
     },
     "metadata": {},
     "output_type": "display_data"
    },
    {
     "data": {
      "text/latex": [
       "$\\displaystyle \\left(a^{(1321)}_{1}\\right)^{5} \\left(a^{(1321)}_{2}\\right)^{2} \\left(a^{(1321)}_{3}\\right)^{2} \\left(b^{(1321)}_{1}\\right)^{2}$"
      ],
      "text/plain": [
       "<IPython.core.display.Math object>"
      ]
     },
     "metadata": {},
     "output_type": "display_data"
    },
    {
     "data": {
      "text/latex": [
       "$\\displaystyle RLCTS = \\left[ \\left( a^{(1321)}_{2}, \\  3\\right), \\  \\left( a^{(1321)}_{3}, \\  3\\right), \\  \\left( b^{(1321)}_{1}, \\  3\\right), \\  \\left( a^{(1321)}_{1}, \\  3\\right)\\right]$"
      ],
      "text/plain": [
       "<IPython.core.display.Math object>"
      ]
     },
     "metadata": {},
     "output_type": "display_data"
    },
    {
     "data": {
      "text/latex": [
       "$\\displaystyle \\left[\\begin{matrix}1 & 0 & 0 & 0 & 0 & 0\\\\a^{(1321)}_{2} a^{(1321)}_{3} b^{(1321)}_{1} & a^{(1321)}_{1} a^{(1321)}_{2} a^{(1321)}_{3} & a^{(1321)}_{1} a^{(1321)}_{3} b^{(1321)}_{1} & 0 & a^{(1321)}_{1} a^{(1321)}_{2} b^{(1321)}_{1} & 0\\\\a^{(1321)}_{2} a^{(1321)}_{3} & 0 & a^{(1321)}_{1} a^{(1321)}_{3} & 0 & a^{(1321)}_{1} a^{(1321)}_{2} & 0\\\\b^{(1321)}_{1} b^{(1321)}_{2} & a^{(1321)}_{1} b^{(1321)}_{2} & 0 & a^{(1321)}_{1} b^{(1321)}_{1} & 0 & 0\\\\a^{(1321)}_{3} & 0 & 0 & 0 & a^{(1321)}_{1} & 0\\\\a^{(1321)}_{2} b^{(1321)}_{1} b^{(1321)}_{3} & a^{(1321)}_{1} a^{(1321)}_{2} b^{(1321)}_{3} & a^{(1321)}_{1} b^{(1321)}_{1} b^{(1321)}_{3} & 0 & 0 & a^{(1321)}_{1} a^{(1321)}_{2} b^{(1321)}_{1}\\end{matrix}\\right]$"
      ],
      "text/plain": [
       "<IPython.core.display.Math object>"
      ]
     },
     "metadata": {},
     "output_type": "display_data"
    },
    {
     "data": {
      "text/latex": [
       "$\\displaystyle a_{1} = a^{(1321)}_{1}$"
      ],
      "text/plain": [
       "<IPython.core.display.Math object>"
      ]
     },
     "metadata": {},
     "output_type": "display_data"
    },
    {
     "data": {
      "text/latex": [
       "$\\displaystyle b_{1} = a^{(1321)}_{1} a^{(1321)}_{2} a^{(1321)}_{3} b^{(1321)}_{1}$"
      ],
      "text/plain": [
       "<IPython.core.display.Math object>"
      ]
     },
     "metadata": {},
     "output_type": "display_data"
    },
    {
     "data": {
      "text/latex": [
       "$\\displaystyle a_{2} = a^{(1321)}_{1} a^{(1321)}_{2} a^{(1321)}_{3}$"
      ],
      "text/plain": [
       "<IPython.core.display.Math object>"
      ]
     },
     "metadata": {},
     "output_type": "display_data"
    },
    {
     "data": {
      "text/latex": [
       "$\\displaystyle b_{2} = a^{(1321)}_{1} b^{(1321)}_{1} b^{(1321)}_{2}$"
      ],
      "text/plain": [
       "<IPython.core.display.Math object>"
      ]
     },
     "metadata": {},
     "output_type": "display_data"
    },
    {
     "data": {
      "text/latex": [
       "$\\displaystyle a_{3} = a^{(1321)}_{1} a^{(1321)}_{3}$"
      ],
      "text/plain": [
       "<IPython.core.display.Math object>"
      ]
     },
     "metadata": {},
     "output_type": "display_data"
    },
    {
     "data": {
      "text/latex": [
       "$\\displaystyle b_{3} = a^{(1321)}_{1} a^{(1321)}_{2} b^{(1321)}_{1} b^{(1321)}_{3}$"
      ],
      "text/plain": [
       "<IPython.core.display.Math object>"
      ]
     },
     "metadata": {},
     "output_type": "display_data"
    },
    {
     "data": {
      "text/latex": [
       "$\\displaystyle \\left(a^{(1321)}_{1}\\right)^{4} \\left(a^{(1321)}_{2}\\right)^{2} \\left(a^{(1321)}_{3}\\right)^{2} \\left(b^{(1321)}_{1}\\right)^{2} \\left(b^{(1321)}_{2} + b^{(1321)}_{3} + 1\\right)^{2}$"
      ],
      "text/plain": [
       "<IPython.core.display.Math object>"
      ]
     },
     "metadata": {},
     "output_type": "display_data"
    },
    {
     "name": "stdout",
     "output_type": "stream",
     "text": [
      "\n",
      "-----------\n",
      "Is leaf. Is normal crossing? True\n"
     ]
    },
    {
     "data": {
      "text/latex": [
       "$\\displaystyle \\left(a^{(131)}_{1}\\right)^{2} a^{(131)}_{3} b^{(131)}_{1} \\left(a^{(131)}_{2} b^{(131)}_{2} + b^{(131)}_{3} + 1\\right)$"
      ],
      "text/plain": [
       "<IPython.core.display.Math object>"
      ]
     },
     "metadata": {},
     "output_type": "display_data"
    },
    {
     "data": {
      "text/latex": [
       "$\\displaystyle \\left(a^{(131)}_{1}\\right)^{5} \\left(a^{(131)}_{3}\\right)^{2} \\left(b^{(131)}_{1}\\right)^{2}$"
      ],
      "text/plain": [
       "<IPython.core.display.Math object>"
      ]
     },
     "metadata": {},
     "output_type": "display_data"
    },
    {
     "data": {
      "text/latex": [
       "$\\displaystyle RLCTS = \\left[ \\left( a^{(131)}_{3}, \\  3\\right), \\  \\left( b^{(131)}_{1}, \\  3\\right), \\  \\left( a^{(131)}_{1}, \\  3\\right)\\right]$"
      ],
      "text/plain": [
       "<IPython.core.display.Math object>"
      ]
     },
     "metadata": {},
     "output_type": "display_data"
    },
    {
     "data": {
      "text/latex": [
       "$\\displaystyle \\left[\\begin{matrix}1 & 0 & 0 & 0 & 0 & 0\\\\a^{(131)}_{3} b^{(131)}_{1} & a^{(131)}_{1} a^{(131)}_{3} & 0 & 0 & a^{(131)}_{1} b^{(131)}_{1} & 0\\\\a^{(131)}_{2} a^{(131)}_{3} b^{(131)}_{1} & a^{(131)}_{1} a^{(131)}_{2} a^{(131)}_{3} & a^{(131)}_{1} a^{(131)}_{3} b^{(131)}_{1} & 0 & a^{(131)}_{1} a^{(131)}_{2} b^{(131)}_{1} & 0\\\\b^{(131)}_{2} & 0 & 0 & a^{(131)}_{1} & 0 & 0\\\\a^{(131)}_{3} & 0 & 0 & 0 & a^{(131)}_{1} & 0\\\\b^{(131)}_{1} b^{(131)}_{3} & a^{(131)}_{1} b^{(131)}_{3} & 0 & 0 & 0 & a^{(131)}_{1} b^{(131)}_{1}\\end{matrix}\\right]$"
      ],
      "text/plain": [
       "<IPython.core.display.Math object>"
      ]
     },
     "metadata": {},
     "output_type": "display_data"
    },
    {
     "data": {
      "text/latex": [
       "$\\displaystyle a_{1} = a^{(131)}_{1}$"
      ],
      "text/plain": [
       "<IPython.core.display.Math object>"
      ]
     },
     "metadata": {},
     "output_type": "display_data"
    },
    {
     "data": {
      "text/latex": [
       "$\\displaystyle b_{1} = a^{(131)}_{1} a^{(131)}_{3} b^{(131)}_{1}$"
      ],
      "text/plain": [
       "<IPython.core.display.Math object>"
      ]
     },
     "metadata": {},
     "output_type": "display_data"
    },
    {
     "data": {
      "text/latex": [
       "$\\displaystyle a_{2} = a^{(131)}_{1} a^{(131)}_{2} a^{(131)}_{3} b^{(131)}_{1}$"
      ],
      "text/plain": [
       "<IPython.core.display.Math object>"
      ]
     },
     "metadata": {},
     "output_type": "display_data"
    },
    {
     "data": {
      "text/latex": [
       "$\\displaystyle b_{2} = a^{(131)}_{1} b^{(131)}_{2}$"
      ],
      "text/plain": [
       "<IPython.core.display.Math object>"
      ]
     },
     "metadata": {},
     "output_type": "display_data"
    },
    {
     "data": {
      "text/latex": [
       "$\\displaystyle a_{3} = a^{(131)}_{1} a^{(131)}_{3}$"
      ],
      "text/plain": [
       "<IPython.core.display.Math object>"
      ]
     },
     "metadata": {},
     "output_type": "display_data"
    },
    {
     "data": {
      "text/latex": [
       "$\\displaystyle b_{3} = a^{(131)}_{1} b^{(131)}_{1} b^{(131)}_{3}$"
      ],
      "text/plain": [
       "<IPython.core.display.Math object>"
      ]
     },
     "metadata": {},
     "output_type": "display_data"
    },
    {
     "data": {
      "text/latex": [
       "$\\displaystyle \\left(a^{(131)}_{1}\\right)^{4} \\left(a^{(131)}_{3}\\right)^{2} \\left(b^{(131)}_{1}\\right)^{2} \\left(a^{(131)}_{2} b^{(131)}_{2} + b^{(131)}_{3} + 1\\right)^{2}$"
      ],
      "text/plain": [
       "<IPython.core.display.Math object>"
      ]
     },
     "metadata": {},
     "output_type": "display_data"
    },
    {
     "name": "stdout",
     "output_type": "stream",
     "text": [
      "\n",
      "-----------\n",
      "Is leaf. Is normal crossing? True\n"
     ]
    },
    {
     "data": {
      "text/latex": [
       "$\\displaystyle \\left(a^{(1233)}_{1}\\right)^{2} a^{(1233)}_{2} a^{(1233)}_{3} b^{(1233)}_{3} \\left(b^{(1233)}_{1} + b^{(1233)}_{2} + 1\\right)$"
      ],
      "text/plain": [
       "<IPython.core.display.Math object>"
      ]
     },
     "metadata": {},
     "output_type": "display_data"
    },
    {
     "data": {
      "text/latex": [
       "$\\displaystyle \\left(a^{(1233)}_{1}\\right)^{5} \\left(a^{(1233)}_{2}\\right)^{2} \\left(a^{(1233)}_{3}\\right)^{2} \\left(b^{(1233)}_{3}\\right)^{2}$"
      ],
      "text/plain": [
       "<IPython.core.display.Math object>"
      ]
     },
     "metadata": {},
     "output_type": "display_data"
    },
    {
     "data": {
      "text/latex": [
       "$\\displaystyle RLCTS = \\left[ \\left( a^{(1233)}_{2}, \\  3\\right), \\  \\left( a^{(1233)}_{3}, \\  3\\right), \\  \\left( b^{(1233)}_{3}, \\  3\\right), \\  \\left( a^{(1233)}_{1}, \\  3\\right)\\right]$"
      ],
      "text/plain": [
       "<IPython.core.display.Math object>"
      ]
     },
     "metadata": {},
     "output_type": "display_data"
    },
    {
     "data": {
      "text/latex": [
       "$\\displaystyle \\left[\\begin{matrix}1 & 0 & 0 & 0 & 0 & 0\\\\a^{(1233)}_{2} a^{(1233)}_{3} b^{(1233)}_{1} b^{(1233)}_{3} & a^{(1233)}_{1} a^{(1233)}_{2} a^{(1233)}_{3} b^{(1233)}_{3} & a^{(1233)}_{1} a^{(1233)}_{3} b^{(1233)}_{1} b^{(1233)}_{3} & 0 & a^{(1233)}_{1} a^{(1233)}_{2} b^{(1233)}_{1} b^{(1233)}_{3} & a^{(1233)}_{1} a^{(1233)}_{2} a^{(1233)}_{3} b^{(1233)}_{1}\\\\a^{(1233)}_{2} & 0 & a^{(1233)}_{1} & 0 & 0 & 0\\\\a^{(1233)}_{3} b^{(1233)}_{2} b^{(1233)}_{3} & 0 & 0 & a^{(1233)}_{1} a^{(1233)}_{3} b^{(1233)}_{3} & a^{(1233)}_{1} b^{(1233)}_{2} b^{(1233)}_{3} & a^{(1233)}_{1} a^{(1233)}_{3} b^{(1233)}_{2}\\\\a^{(1233)}_{2} a^{(1233)}_{3} & 0 & a^{(1233)}_{1} a^{(1233)}_{3} & 0 & a^{(1233)}_{1} a^{(1233)}_{2} & 0\\\\b^{(1233)}_{3} & 0 & 0 & 0 & 0 & a^{(1233)}_{1}\\end{matrix}\\right]$"
      ],
      "text/plain": [
       "<IPython.core.display.Math object>"
      ]
     },
     "metadata": {},
     "output_type": "display_data"
    },
    {
     "data": {
      "text/latex": [
       "$\\displaystyle a_{1} = a^{(1233)}_{1}$"
      ],
      "text/plain": [
       "<IPython.core.display.Math object>"
      ]
     },
     "metadata": {},
     "output_type": "display_data"
    },
    {
     "data": {
      "text/latex": [
       "$\\displaystyle b_{1} = a^{(1233)}_{1} a^{(1233)}_{2} a^{(1233)}_{3} b^{(1233)}_{1} b^{(1233)}_{3}$"
      ],
      "text/plain": [
       "<IPython.core.display.Math object>"
      ]
     },
     "metadata": {},
     "output_type": "display_data"
    },
    {
     "data": {
      "text/latex": [
       "$\\displaystyle a_{2} = a^{(1233)}_{1} a^{(1233)}_{2}$"
      ],
      "text/plain": [
       "<IPython.core.display.Math object>"
      ]
     },
     "metadata": {},
     "output_type": "display_data"
    },
    {
     "data": {
      "text/latex": [
       "$\\displaystyle b_{2} = a^{(1233)}_{1} a^{(1233)}_{3} b^{(1233)}_{2} b^{(1233)}_{3}$"
      ],
      "text/plain": [
       "<IPython.core.display.Math object>"
      ]
     },
     "metadata": {},
     "output_type": "display_data"
    },
    {
     "data": {
      "text/latex": [
       "$\\displaystyle a_{3} = a^{(1233)}_{1} a^{(1233)}_{2} a^{(1233)}_{3}$"
      ],
      "text/plain": [
       "<IPython.core.display.Math object>"
      ]
     },
     "metadata": {},
     "output_type": "display_data"
    },
    {
     "data": {
      "text/latex": [
       "$\\displaystyle b_{3} = a^{(1233)}_{1} b^{(1233)}_{3}$"
      ],
      "text/plain": [
       "<IPython.core.display.Math object>"
      ]
     },
     "metadata": {},
     "output_type": "display_data"
    },
    {
     "data": {
      "text/latex": [
       "$\\displaystyle \\left(a^{(1233)}_{1}\\right)^{4} \\left(a^{(1233)}_{2}\\right)^{2} \\left(a^{(1233)}_{3}\\right)^{2} \\left(b^{(1233)}_{3}\\right)^{2} \\left(b^{(1233)}_{1} + b^{(1233)}_{2} + 1\\right)^{2}$"
      ],
      "text/plain": [
       "<IPython.core.display.Math object>"
      ]
     },
     "metadata": {},
     "output_type": "display_data"
    },
    {
     "name": "stdout",
     "output_type": "stream",
     "text": [
      "\n",
      "-----------\n",
      "Is leaf. Is normal crossing? True\n"
     ]
    },
    {
     "data": {
      "text/latex": [
       "$\\displaystyle \\left(a^{(1232)}_{1}\\right)^{2} a^{(1232)}_{2} a^{(1232)}_{3} b^{(1232)}_{2} \\left(b^{(1232)}_{1} + b^{(1232)}_{3} + 1\\right)$"
      ],
      "text/plain": [
       "<IPython.core.display.Math object>"
      ]
     },
     "metadata": {},
     "output_type": "display_data"
    },
    {
     "data": {
      "text/latex": [
       "$\\displaystyle \\left(a^{(1232)}_{1}\\right)^{5} \\left(a^{(1232)}_{2}\\right)^{2} \\left(a^{(1232)}_{3}\\right)^{2} \\left(b^{(1232)}_{2}\\right)^{2}$"
      ],
      "text/plain": [
       "<IPython.core.display.Math object>"
      ]
     },
     "metadata": {},
     "output_type": "display_data"
    },
    {
     "data": {
      "text/latex": [
       "$\\displaystyle RLCTS = \\left[ \\left( a^{(1232)}_{2}, \\  3\\right), \\  \\left( a^{(1232)}_{3}, \\  3\\right), \\  \\left( b^{(1232)}_{2}, \\  3\\right), \\  \\left( a^{(1232)}_{1}, \\  3\\right)\\right]$"
      ],
      "text/plain": [
       "<IPython.core.display.Math object>"
      ]
     },
     "metadata": {},
     "output_type": "display_data"
    },
    {
     "data": {
      "text/latex": [
       "$\\displaystyle \\left[\\begin{matrix}1 & 0 & 0 & 0 & 0 & 0\\\\a^{(1232)}_{2} a^{(1232)}_{3} b^{(1232)}_{1} b^{(1232)}_{2} & a^{(1232)}_{1} a^{(1232)}_{2} a^{(1232)}_{3} b^{(1232)}_{2} & a^{(1232)}_{1} a^{(1232)}_{3} b^{(1232)}_{1} b^{(1232)}_{2} & a^{(1232)}_{1} a^{(1232)}_{2} a^{(1232)}_{3} b^{(1232)}_{1} & a^{(1232)}_{1} a^{(1232)}_{2} b^{(1232)}_{1} b^{(1232)}_{2} & 0\\\\a^{(1232)}_{2} & 0 & a^{(1232)}_{1} & 0 & 0 & 0\\\\a^{(1232)}_{3} b^{(1232)}_{2} & 0 & 0 & a^{(1232)}_{1} a^{(1232)}_{3} & a^{(1232)}_{1} b^{(1232)}_{2} & 0\\\\a^{(1232)}_{2} a^{(1232)}_{3} & 0 & a^{(1232)}_{1} a^{(1232)}_{3} & 0 & a^{(1232)}_{1} a^{(1232)}_{2} & 0\\\\b^{(1232)}_{2} b^{(1232)}_{3} & 0 & 0 & a^{(1232)}_{1} b^{(1232)}_{3} & 0 & a^{(1232)}_{1} b^{(1232)}_{2}\\end{matrix}\\right]$"
      ],
      "text/plain": [
       "<IPython.core.display.Math object>"
      ]
     },
     "metadata": {},
     "output_type": "display_data"
    },
    {
     "data": {
      "text/latex": [
       "$\\displaystyle a_{1} = a^{(1232)}_{1}$"
      ],
      "text/plain": [
       "<IPython.core.display.Math object>"
      ]
     },
     "metadata": {},
     "output_type": "display_data"
    },
    {
     "data": {
      "text/latex": [
       "$\\displaystyle b_{1} = a^{(1232)}_{1} a^{(1232)}_{2} a^{(1232)}_{3} b^{(1232)}_{1} b^{(1232)}_{2}$"
      ],
      "text/plain": [
       "<IPython.core.display.Math object>"
      ]
     },
     "metadata": {},
     "output_type": "display_data"
    },
    {
     "data": {
      "text/latex": [
       "$\\displaystyle a_{2} = a^{(1232)}_{1} a^{(1232)}_{2}$"
      ],
      "text/plain": [
       "<IPython.core.display.Math object>"
      ]
     },
     "metadata": {},
     "output_type": "display_data"
    },
    {
     "data": {
      "text/latex": [
       "$\\displaystyle b_{2} = a^{(1232)}_{1} a^{(1232)}_{3} b^{(1232)}_{2}$"
      ],
      "text/plain": [
       "<IPython.core.display.Math object>"
      ]
     },
     "metadata": {},
     "output_type": "display_data"
    },
    {
     "data": {
      "text/latex": [
       "$\\displaystyle a_{3} = a^{(1232)}_{1} a^{(1232)}_{2} a^{(1232)}_{3}$"
      ],
      "text/plain": [
       "<IPython.core.display.Math object>"
      ]
     },
     "metadata": {},
     "output_type": "display_data"
    },
    {
     "data": {
      "text/latex": [
       "$\\displaystyle b_{3} = a^{(1232)}_{1} b^{(1232)}_{2} b^{(1232)}_{3}$"
      ],
      "text/plain": [
       "<IPython.core.display.Math object>"
      ]
     },
     "metadata": {},
     "output_type": "display_data"
    },
    {
     "data": {
      "text/latex": [
       "$\\displaystyle \\left(a^{(1232)}_{1}\\right)^{4} \\left(a^{(1232)}_{2}\\right)^{2} \\left(a^{(1232)}_{3}\\right)^{2} \\left(b^{(1232)}_{2}\\right)^{2} \\left(b^{(1232)}_{1} + b^{(1232)}_{3} + 1\\right)^{2}$"
      ],
      "text/plain": [
       "<IPython.core.display.Math object>"
      ]
     },
     "metadata": {},
     "output_type": "display_data"
    },
    {
     "name": "stdout",
     "output_type": "stream",
     "text": [
      "\n",
      "-----------\n",
      "Is leaf. Is normal crossing? True\n"
     ]
    },
    {
     "data": {
      "text/latex": [
       "$\\displaystyle \\left(a^{(1231)}_{1}\\right)^{2} a^{(1231)}_{2} a^{(1231)}_{3} b^{(1231)}_{1} \\left(b^{(1231)}_{2} + b^{(1231)}_{3} + 1\\right)$"
      ],
      "text/plain": [
       "<IPython.core.display.Math object>"
      ]
     },
     "metadata": {},
     "output_type": "display_data"
    },
    {
     "data": {
      "text/latex": [
       "$\\displaystyle \\left(a^{(1231)}_{1}\\right)^{5} \\left(a^{(1231)}_{2}\\right)^{2} \\left(a^{(1231)}_{3}\\right)^{2} \\left(b^{(1231)}_{1}\\right)^{2}$"
      ],
      "text/plain": [
       "<IPython.core.display.Math object>"
      ]
     },
     "metadata": {},
     "output_type": "display_data"
    },
    {
     "data": {
      "text/latex": [
       "$\\displaystyle RLCTS = \\left[ \\left( a^{(1231)}_{2}, \\  3\\right), \\  \\left( a^{(1231)}_{3}, \\  3\\right), \\  \\left( b^{(1231)}_{1}, \\  3\\right), \\  \\left( a^{(1231)}_{1}, \\  3\\right)\\right]$"
      ],
      "text/plain": [
       "<IPython.core.display.Math object>"
      ]
     },
     "metadata": {},
     "output_type": "display_data"
    },
    {
     "data": {
      "text/latex": [
       "$\\displaystyle \\left[\\begin{matrix}1 & 0 & 0 & 0 & 0 & 0\\\\a^{(1231)}_{2} a^{(1231)}_{3} b^{(1231)}_{1} & a^{(1231)}_{1} a^{(1231)}_{2} a^{(1231)}_{3} & a^{(1231)}_{1} a^{(1231)}_{3} b^{(1231)}_{1} & 0 & a^{(1231)}_{1} a^{(1231)}_{2} b^{(1231)}_{1} & 0\\\\a^{(1231)}_{2} & 0 & a^{(1231)}_{1} & 0 & 0 & 0\\\\a^{(1231)}_{3} b^{(1231)}_{1} b^{(1231)}_{2} & a^{(1231)}_{1} a^{(1231)}_{3} b^{(1231)}_{2} & 0 & a^{(1231)}_{1} a^{(1231)}_{3} b^{(1231)}_{1} & a^{(1231)}_{1} b^{(1231)}_{1} b^{(1231)}_{2} & 0\\\\a^{(1231)}_{2} a^{(1231)}_{3} & 0 & a^{(1231)}_{1} a^{(1231)}_{3} & 0 & a^{(1231)}_{1} a^{(1231)}_{2} & 0\\\\b^{(1231)}_{1} b^{(1231)}_{3} & a^{(1231)}_{1} b^{(1231)}_{3} & 0 & 0 & 0 & a^{(1231)}_{1} b^{(1231)}_{1}\\end{matrix}\\right]$"
      ],
      "text/plain": [
       "<IPython.core.display.Math object>"
      ]
     },
     "metadata": {},
     "output_type": "display_data"
    },
    {
     "data": {
      "text/latex": [
       "$\\displaystyle a_{1} = a^{(1231)}_{1}$"
      ],
      "text/plain": [
       "<IPython.core.display.Math object>"
      ]
     },
     "metadata": {},
     "output_type": "display_data"
    },
    {
     "data": {
      "text/latex": [
       "$\\displaystyle b_{1} = a^{(1231)}_{1} a^{(1231)}_{2} a^{(1231)}_{3} b^{(1231)}_{1}$"
      ],
      "text/plain": [
       "<IPython.core.display.Math object>"
      ]
     },
     "metadata": {},
     "output_type": "display_data"
    },
    {
     "data": {
      "text/latex": [
       "$\\displaystyle a_{2} = a^{(1231)}_{1} a^{(1231)}_{2}$"
      ],
      "text/plain": [
       "<IPython.core.display.Math object>"
      ]
     },
     "metadata": {},
     "output_type": "display_data"
    },
    {
     "data": {
      "text/latex": [
       "$\\displaystyle b_{2} = a^{(1231)}_{1} a^{(1231)}_{3} b^{(1231)}_{1} b^{(1231)}_{2}$"
      ],
      "text/plain": [
       "<IPython.core.display.Math object>"
      ]
     },
     "metadata": {},
     "output_type": "display_data"
    },
    {
     "data": {
      "text/latex": [
       "$\\displaystyle a_{3} = a^{(1231)}_{1} a^{(1231)}_{2} a^{(1231)}_{3}$"
      ],
      "text/plain": [
       "<IPython.core.display.Math object>"
      ]
     },
     "metadata": {},
     "output_type": "display_data"
    },
    {
     "data": {
      "text/latex": [
       "$\\displaystyle b_{3} = a^{(1231)}_{1} b^{(1231)}_{1} b^{(1231)}_{3}$"
      ],
      "text/plain": [
       "<IPython.core.display.Math object>"
      ]
     },
     "metadata": {},
     "output_type": "display_data"
    },
    {
     "data": {
      "text/latex": [
       "$\\displaystyle \\left(a^{(1231)}_{1}\\right)^{4} \\left(a^{(1231)}_{2}\\right)^{2} \\left(a^{(1231)}_{3}\\right)^{2} \\left(b^{(1231)}_{1}\\right)^{2} \\left(b^{(1231)}_{2} + b^{(1231)}_{3} + 1\\right)^{2}$"
      ],
      "text/plain": [
       "<IPython.core.display.Math object>"
      ]
     },
     "metadata": {},
     "output_type": "display_data"
    },
    {
     "name": "stdout",
     "output_type": "stream",
     "text": [
      "\n",
      "-----------\n",
      "Is leaf. Is normal crossing? True\n"
     ]
    },
    {
     "data": {
      "text/latex": [
       "$\\displaystyle \\left(a^{(122)}_{1}\\right)^{2} a^{(122)}_{2} b^{(122)}_{2} \\left(a^{(122)}_{3} b^{(122)}_{3} + b^{(122)}_{1} + 1\\right)$"
      ],
      "text/plain": [
       "<IPython.core.display.Math object>"
      ]
     },
     "metadata": {},
     "output_type": "display_data"
    },
    {
     "data": {
      "text/latex": [
       "$\\displaystyle \\left(a^{(122)}_{1}\\right)^{5} \\left(a^{(122)}_{2}\\right)^{2} \\left(b^{(122)}_{2}\\right)^{2}$"
      ],
      "text/plain": [
       "<IPython.core.display.Math object>"
      ]
     },
     "metadata": {},
     "output_type": "display_data"
    },
    {
     "data": {
      "text/latex": [
       "$\\displaystyle RLCTS = \\left[ \\left( a^{(122)}_{2}, \\  3\\right), \\  \\left( b^{(122)}_{2}, \\  3\\right), \\  \\left( a^{(122)}_{1}, \\  3\\right)\\right]$"
      ],
      "text/plain": [
       "<IPython.core.display.Math object>"
      ]
     },
     "metadata": {},
     "output_type": "display_data"
    },
    {
     "data": {
      "text/latex": [
       "$\\displaystyle \\left[\\begin{matrix}1 & 0 & 0 & 0 & 0 & 0\\\\a^{(122)}_{2} b^{(122)}_{1} b^{(122)}_{2} & a^{(122)}_{1} a^{(122)}_{2} b^{(122)}_{2} & a^{(122)}_{1} b^{(122)}_{1} b^{(122)}_{2} & a^{(122)}_{1} a^{(122)}_{2} b^{(122)}_{1} & 0 & 0\\\\a^{(122)}_{2} & 0 & a^{(122)}_{1} & 0 & 0 & 0\\\\b^{(122)}_{2} & 0 & 0 & a^{(122)}_{1} & 0 & 0\\\\a^{(122)}_{2} a^{(122)}_{3} b^{(122)}_{2} & 0 & a^{(122)}_{1} a^{(122)}_{3} b^{(122)}_{2} & a^{(122)}_{1} a^{(122)}_{2} a^{(122)}_{3} & a^{(122)}_{1} a^{(122)}_{2} b^{(122)}_{2} & 0\\\\b^{(122)}_{3} & 0 & 0 & 0 & 0 & a^{(122)}_{1}\\end{matrix}\\right]$"
      ],
      "text/plain": [
       "<IPython.core.display.Math object>"
      ]
     },
     "metadata": {},
     "output_type": "display_data"
    },
    {
     "data": {
      "text/latex": [
       "$\\displaystyle a_{1} = a^{(122)}_{1}$"
      ],
      "text/plain": [
       "<IPython.core.display.Math object>"
      ]
     },
     "metadata": {},
     "output_type": "display_data"
    },
    {
     "data": {
      "text/latex": [
       "$\\displaystyle b_{1} = a^{(122)}_{1} a^{(122)}_{2} b^{(122)}_{1} b^{(122)}_{2}$"
      ],
      "text/plain": [
       "<IPython.core.display.Math object>"
      ]
     },
     "metadata": {},
     "output_type": "display_data"
    },
    {
     "data": {
      "text/latex": [
       "$\\displaystyle a_{2} = a^{(122)}_{1} a^{(122)}_{2}$"
      ],
      "text/plain": [
       "<IPython.core.display.Math object>"
      ]
     },
     "metadata": {},
     "output_type": "display_data"
    },
    {
     "data": {
      "text/latex": [
       "$\\displaystyle b_{2} = a^{(122)}_{1} b^{(122)}_{2}$"
      ],
      "text/plain": [
       "<IPython.core.display.Math object>"
      ]
     },
     "metadata": {},
     "output_type": "display_data"
    },
    {
     "data": {
      "text/latex": [
       "$\\displaystyle a_{3} = a^{(122)}_{1} a^{(122)}_{2} a^{(122)}_{3} b^{(122)}_{2}$"
      ],
      "text/plain": [
       "<IPython.core.display.Math object>"
      ]
     },
     "metadata": {},
     "output_type": "display_data"
    },
    {
     "data": {
      "text/latex": [
       "$\\displaystyle b_{3} = a^{(122)}_{1} b^{(122)}_{3}$"
      ],
      "text/plain": [
       "<IPython.core.display.Math object>"
      ]
     },
     "metadata": {},
     "output_type": "display_data"
    },
    {
     "data": {
      "text/latex": [
       "$\\displaystyle \\left(a^{(122)}_{1}\\right)^{4} \\left(a^{(122)}_{2}\\right)^{2} \\left(b^{(122)}_{2}\\right)^{2} \\left(a^{(122)}_{3} b^{(122)}_{3} + b^{(122)}_{1} + 1\\right)^{2}$"
      ],
      "text/plain": [
       "<IPython.core.display.Math object>"
      ]
     },
     "metadata": {},
     "output_type": "display_data"
    },
    {
     "name": "stdout",
     "output_type": "stream",
     "text": [
      "\n",
      "-----------\n",
      "Is leaf. Is normal crossing? True\n"
     ]
    },
    {
     "data": {
      "text/latex": [
       "$\\displaystyle \\left(a^{(121)}_{1}\\right)^{2} a^{(121)}_{2} b^{(121)}_{1} \\left(a^{(121)}_{3} b^{(121)}_{3} + b^{(121)}_{2} + 1\\right)$"
      ],
      "text/plain": [
       "<IPython.core.display.Math object>"
      ]
     },
     "metadata": {},
     "output_type": "display_data"
    },
    {
     "data": {
      "text/latex": [
       "$\\displaystyle \\left(a^{(121)}_{1}\\right)^{5} \\left(a^{(121)}_{2}\\right)^{2} \\left(b^{(121)}_{1}\\right)^{2}$"
      ],
      "text/plain": [
       "<IPython.core.display.Math object>"
      ]
     },
     "metadata": {},
     "output_type": "display_data"
    },
    {
     "data": {
      "text/latex": [
       "$\\displaystyle RLCTS = \\left[ \\left( a^{(121)}_{2}, \\  3\\right), \\  \\left( b^{(121)}_{1}, \\  3\\right), \\  \\left( a^{(121)}_{1}, \\  3\\right)\\right]$"
      ],
      "text/plain": [
       "<IPython.core.display.Math object>"
      ]
     },
     "metadata": {},
     "output_type": "display_data"
    },
    {
     "data": {
      "text/latex": [
       "$\\displaystyle \\left[\\begin{matrix}1 & 0 & 0 & 0 & 0 & 0\\\\a^{(121)}_{2} b^{(121)}_{1} & a^{(121)}_{1} a^{(121)}_{2} & a^{(121)}_{1} b^{(121)}_{1} & 0 & 0 & 0\\\\a^{(121)}_{2} & 0 & a^{(121)}_{1} & 0 & 0 & 0\\\\b^{(121)}_{1} b^{(121)}_{2} & a^{(121)}_{1} b^{(121)}_{2} & 0 & a^{(121)}_{1} b^{(121)}_{1} & 0 & 0\\\\a^{(121)}_{2} a^{(121)}_{3} b^{(121)}_{1} & a^{(121)}_{1} a^{(121)}_{2} a^{(121)}_{3} & a^{(121)}_{1} a^{(121)}_{3} b^{(121)}_{1} & 0 & a^{(121)}_{1} a^{(121)}_{2} b^{(121)}_{1} & 0\\\\b^{(121)}_{3} & 0 & 0 & 0 & 0 & a^{(121)}_{1}\\end{matrix}\\right]$"
      ],
      "text/plain": [
       "<IPython.core.display.Math object>"
      ]
     },
     "metadata": {},
     "output_type": "display_data"
    },
    {
     "data": {
      "text/latex": [
       "$\\displaystyle a_{1} = a^{(121)}_{1}$"
      ],
      "text/plain": [
       "<IPython.core.display.Math object>"
      ]
     },
     "metadata": {},
     "output_type": "display_data"
    },
    {
     "data": {
      "text/latex": [
       "$\\displaystyle b_{1} = a^{(121)}_{1} a^{(121)}_{2} b^{(121)}_{1}$"
      ],
      "text/plain": [
       "<IPython.core.display.Math object>"
      ]
     },
     "metadata": {},
     "output_type": "display_data"
    },
    {
     "data": {
      "text/latex": [
       "$\\displaystyle a_{2} = a^{(121)}_{1} a^{(121)}_{2}$"
      ],
      "text/plain": [
       "<IPython.core.display.Math object>"
      ]
     },
     "metadata": {},
     "output_type": "display_data"
    },
    {
     "data": {
      "text/latex": [
       "$\\displaystyle b_{2} = a^{(121)}_{1} b^{(121)}_{1} b^{(121)}_{2}$"
      ],
      "text/plain": [
       "<IPython.core.display.Math object>"
      ]
     },
     "metadata": {},
     "output_type": "display_data"
    },
    {
     "data": {
      "text/latex": [
       "$\\displaystyle a_{3} = a^{(121)}_{1} a^{(121)}_{2} a^{(121)}_{3} b^{(121)}_{1}$"
      ],
      "text/plain": [
       "<IPython.core.display.Math object>"
      ]
     },
     "metadata": {},
     "output_type": "display_data"
    },
    {
     "data": {
      "text/latex": [
       "$\\displaystyle b_{3} = a^{(121)}_{1} b^{(121)}_{3}$"
      ],
      "text/plain": [
       "<IPython.core.display.Math object>"
      ]
     },
     "metadata": {},
     "output_type": "display_data"
    },
    {
     "data": {
      "text/latex": [
       "$\\displaystyle \\left(a^{(121)}_{1}\\right)^{4} \\left(a^{(121)}_{2}\\right)^{2} \\left(b^{(121)}_{1}\\right)^{2} \\left(a^{(121)}_{3} b^{(121)}_{3} + b^{(121)}_{2} + 1\\right)^{2}$"
      ],
      "text/plain": [
       "<IPython.core.display.Math object>"
      ]
     },
     "metadata": {},
     "output_type": "display_data"
    },
    {
     "name": "stdout",
     "output_type": "stream",
     "text": [
      "\n",
      "-----------\n",
      "Is leaf. Is normal crossing? True\n"
     ]
    },
    {
     "data": {
      "text/latex": [
       "$\\displaystyle \\left(a^{(11)}_{1}\\right)^{2} b^{(11)}_{1} \\left(a^{(11)}_{2} b^{(11)}_{2} + a^{(11)}_{3} b^{(11)}_{3} + 1\\right)$"
      ],
      "text/plain": [
       "<IPython.core.display.Math object>"
      ]
     },
     "metadata": {},
     "output_type": "display_data"
    },
    {
     "data": {
      "text/latex": [
       "$\\displaystyle \\left(a^{(11)}_{1}\\right)^{5} \\left(b^{(11)}_{1}\\right)^{2}$"
      ],
      "text/plain": [
       "<IPython.core.display.Math object>"
      ]
     },
     "metadata": {},
     "output_type": "display_data"
    },
    {
     "data": {
      "text/latex": [
       "$\\displaystyle RLCTS = \\left[ \\left( b^{(11)}_{1}, \\  3\\right), \\  \\left( a^{(11)}_{1}, \\  3\\right)\\right]$"
      ],
      "text/plain": [
       "<IPython.core.display.Math object>"
      ]
     },
     "metadata": {},
     "output_type": "display_data"
    },
    {
     "data": {
      "text/latex": [
       "$\\displaystyle \\left[\\begin{matrix}1 & 0 & 0 & 0 & 0 & 0\\\\b^{(11)}_{1} & a^{(11)}_{1} & 0 & 0 & 0 & 0\\\\a^{(11)}_{2} b^{(11)}_{1} & a^{(11)}_{1} a^{(11)}_{2} & a^{(11)}_{1} b^{(11)}_{1} & 0 & 0 & 0\\\\b^{(11)}_{2} & 0 & 0 & a^{(11)}_{1} & 0 & 0\\\\a^{(11)}_{3} b^{(11)}_{1} & a^{(11)}_{1} a^{(11)}_{3} & 0 & 0 & a^{(11)}_{1} b^{(11)}_{1} & 0\\\\b^{(11)}_{3} & 0 & 0 & 0 & 0 & a^{(11)}_{1}\\end{matrix}\\right]$"
      ],
      "text/plain": [
       "<IPython.core.display.Math object>"
      ]
     },
     "metadata": {},
     "output_type": "display_data"
    },
    {
     "data": {
      "text/latex": [
       "$\\displaystyle a_{1} = a^{(11)}_{1}$"
      ],
      "text/plain": [
       "<IPython.core.display.Math object>"
      ]
     },
     "metadata": {},
     "output_type": "display_data"
    },
    {
     "data": {
      "text/latex": [
       "$\\displaystyle b_{1} = a^{(11)}_{1} b^{(11)}_{1}$"
      ],
      "text/plain": [
       "<IPython.core.display.Math object>"
      ]
     },
     "metadata": {},
     "output_type": "display_data"
    },
    {
     "data": {
      "text/latex": [
       "$\\displaystyle a_{2} = a^{(11)}_{1} a^{(11)}_{2} b^{(11)}_{1}$"
      ],
      "text/plain": [
       "<IPython.core.display.Math object>"
      ]
     },
     "metadata": {},
     "output_type": "display_data"
    },
    {
     "data": {
      "text/latex": [
       "$\\displaystyle b_{2} = a^{(11)}_{1} b^{(11)}_{2}$"
      ],
      "text/plain": [
       "<IPython.core.display.Math object>"
      ]
     },
     "metadata": {},
     "output_type": "display_data"
    },
    {
     "data": {
      "text/latex": [
       "$\\displaystyle a_{3} = a^{(11)}_{1} a^{(11)}_{3} b^{(11)}_{1}$"
      ],
      "text/plain": [
       "<IPython.core.display.Math object>"
      ]
     },
     "metadata": {},
     "output_type": "display_data"
    },
    {
     "data": {
      "text/latex": [
       "$\\displaystyle b_{3} = a^{(11)}_{1} b^{(11)}_{3}$"
      ],
      "text/plain": [
       "<IPython.core.display.Math object>"
      ]
     },
     "metadata": {},
     "output_type": "display_data"
    },
    {
     "data": {
      "text/latex": [
       "$\\displaystyle \\left(a^{(11)}_{1}\\right)^{4} \\left(b^{(11)}_{1}\\right)^{2} \\left(a^{(11)}_{2} b^{(11)}_{2} + a^{(11)}_{3} b^{(11)}_{3} + 1\\right)^{2}$"
      ],
      "text/plain": [
       "<IPython.core.display.Math object>"
      ]
     },
     "metadata": {},
     "output_type": "display_data"
    }
   ],
   "source": [
    "f = btree.f\n",
    "K = btree.K\n",
    "\n",
    "for chart in nx.dfs_preorder_nodes(T, source=''):\n",
    "    rec = T.nodes[chart]\n",
    "    m = rec[\"map\"]\n",
    "    expr = rec[\"expr\"]\n",
    "    var_list = rec[\"vars\"]\n",
    "    \n",
    "    f_pullback = f.subs(m).factor()\n",
    "    K_pullback = K.subs(m).factor()\n",
    "    assert Eq(expand(expr - f_pullback), 0)\n",
    "    is_nc = is_normal_crossing(f_pullback)\n",
    "    J = get_jacobian_matrix(m, var_list)\n",
    "    det = J.det()\n",
    "    \n",
    "    rec[\"is_normal_crossing\"] = is_nc\n",
    "    rec[\"J\"] = J\n",
    "    rec[\"det(J)\"] = det\n",
    "    rec[\"f_pullback\"] = f_pullback\n",
    "    \n",
    "    if len(list(T.successors(chart))) == 0:\n",
    "        print(f\"\\n-----------\\nIs leaf. Is normal crossing? {is_nc}\")\n",
    "        display(Math(latex(f_pullback)))\n",
    "        display(Math(latex(det)))\n",
    "\n",
    "        rlcts = get_rlct(f_pullback, det)\n",
    "        rec[\"rlcts\"] = rlcts\n",
    "        display(Math(f\"RLCTS = {latex(rlcts)}\"))\n",
    "        display(Math(latex(J)))\n",
    "        for x in m:\n",
    "            display(Math(latex(Eq(x[0], x[1]))))\n",
    "        \n",
    "        display(Math(latex(K_pullback)))\n",
    "        assert is_normal_crossing(K_pullback)"
   ]
  },
  {
   "cell_type": "code",
   "execution_count": null,
   "id": "100a85cd",
   "metadata": {},
   "outputs": [],
   "source": []
  }
 ],
 "metadata": {
  "kernelspec": {
   "display_name": "Python 3 (ipykernel)",
   "language": "python",
   "name": "python3"
  },
  "language_info": {
   "codemirror_mode": {
    "name": "ipython",
    "version": 3
   },
   "file_extension": ".py",
   "mimetype": "text/x-python",
   "name": "python",
   "nbconvert_exporter": "python",
   "pygments_lexer": "ipython3",
   "version": "3.10.9"
  }
 },
 "nbformat": 4,
 "nbformat_minor": 5
}
