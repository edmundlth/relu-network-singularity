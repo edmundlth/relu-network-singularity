{
 "cells": [
  {
   "cell_type": "code",
   "execution_count": 6,
   "id": "f06a6c16",
   "metadata": {},
   "outputs": [
    {
     "data": {
      "text/latex": [
       "$\\displaystyle 2 \\sqrt{2}$"
      ],
      "text/plain": [
       "2*sqrt(2)"
      ]
     },
     "execution_count": 6,
     "metadata": {},
     "output_type": "execute_result"
    }
   ],
   "source": [
    "import sympy\n",
    "\n",
    "sympy.sqrt(8)"
   ]
  },
  {
   "cell_type": "code",
   "execution_count": 8,
   "id": "cbc2ed92",
   "metadata": {},
   "outputs": [
    {
     "data": {
      "text/latex": [
       "$\\displaystyle x + 2 y$"
      ],
      "text/plain": [
       "x + 2*y"
      ]
     },
     "execution_count": 8,
     "metadata": {},
     "output_type": "execute_result"
    }
   ],
   "source": [
    "from sympy import symbols\n",
    "x, y = symbols(\"x y\")\n",
    "expr = x + 2 * y\n",
    "expr"
   ]
  },
  {
   "cell_type": "code",
   "execution_count": 9,
   "id": "9b85a7eb",
   "metadata": {},
   "outputs": [
    {
     "data": {
      "text/latex": [
       "$\\displaystyle x + 2 y + 1$"
      ],
      "text/plain": [
       "x + 2*y + 1"
      ]
     },
     "execution_count": 9,
     "metadata": {},
     "output_type": "execute_result"
    }
   ],
   "source": [
    "expr + 1"
   ]
  },
  {
   "cell_type": "code",
   "execution_count": 10,
   "id": "37182776",
   "metadata": {},
   "outputs": [
    {
     "data": {
      "text/latex": [
       "$\\displaystyle 2 y$"
      ],
      "text/plain": [
       "2*y"
      ]
     },
     "execution_count": 10,
     "metadata": {},
     "output_type": "execute_result"
    }
   ],
   "source": [
    "expr - x"
   ]
  },
  {
   "cell_type": "code",
   "execution_count": 11,
   "id": "3efe42cb",
   "metadata": {},
   "outputs": [
    {
     "data": {
      "text/latex": [
       "$\\displaystyle x \\left(x + 2 y\\right)$"
      ],
      "text/plain": [
       "x*(x + 2*y)"
      ]
     },
     "execution_count": 11,
     "metadata": {},
     "output_type": "execute_result"
    }
   ],
   "source": [
    "x * expr"
   ]
  },
  {
   "cell_type": "code",
   "execution_count": 16,
   "id": "15ff1569",
   "metadata": {},
   "outputs": [
    {
     "data": {
      "text/latex": [
       "$\\displaystyle x^{2} + 2 x y$"
      ],
      "text/plain": [
       "x**2 + 2*x*y"
      ]
     },
     "execution_count": 16,
     "metadata": {},
     "output_type": "execute_result"
    }
   ],
   "source": [
    "from sympy import expand, factor\n",
    "expanded = expand(x * expr)\n",
    "expanded"
   ]
  },
  {
   "cell_type": "code",
   "execution_count": 15,
   "id": "e1a216f6",
   "metadata": {},
   "outputs": [
    {
     "data": {
      "text/latex": [
       "$\\displaystyle x \\left(x + 2 y\\right)$"
      ],
      "text/plain": [
       "x*(x + 2*y)"
      ]
     },
     "execution_count": 15,
     "metadata": {},
     "output_type": "execute_result"
    }
   ],
   "source": [
    "factor(expanded)"
   ]
  },
  {
   "cell_type": "code",
   "execution_count": 17,
   "id": "b68ea290",
   "metadata": {},
   "outputs": [],
   "source": [
    "from sympy import *"
   ]
  },
  {
   "cell_type": "code",
   "execution_count": 18,
   "id": "62adec83",
   "metadata": {},
   "outputs": [],
   "source": [
    "x, t, z, nu = symbols(\"x t z nu\")\n",
    "init_printing(use_unicode=True)"
   ]
  },
  {
   "cell_type": "code",
   "execution_count": 20,
   "id": "1adf58e4",
   "metadata": {},
   "outputs": [
    {
     "data": {
      "image/png": "[encoded data removed]",
      "text/latex": [
       "$\\displaystyle e^{x} \\sin{\\left(x \\right)} + e^{x} \\cos{\\left(x \\right)}$"
      ],
      "text/plain": [
       " x           x       \n",
       "ℯ ⋅sin(x) + ℯ ⋅cos(x)"
      ]
     },
     "execution_count": 20,
     "metadata": {},
     "output_type": "execute_result"
    }
   ],
   "source": [
    "diff(sin(x) * exp(x), x)"
   ]
  },
  {
   "cell_type": "code",
   "execution_count": 21,
   "id": "a1ad4d31",
   "metadata": {},
   "outputs": [
    {
     "data": {
      "image/png": "[encoded data removed]",
      "text/latex": [
       "$\\displaystyle e^{x} \\sin{\\left(x \\right)}$"
      ],
      "text/plain": [
       " x       \n",
       "ℯ ⋅sin(x)"
      ]
     },
     "execution_count": 21,
     "metadata": {},
     "output_type": "execute_result"
    }
   ],
   "source": [
    "integrate(exp(x) * sin(x) + exp(x) * cos(x), x)"
   ]
  },
  {
   "cell_type": "code",
   "execution_count": 23,
   "id": "6de08931",
   "metadata": {},
   "outputs": [
    {
     "data": {
      "image/png": "[encoded data removed]",
      "text/latex": [
       "$\\displaystyle \\frac{\\sqrt{2} \\sqrt{\\pi}}{2}$"
      ],
      "text/plain": [
       "√2⋅√π\n",
       "─────\n",
       "  2  "
      ]
     },
     "execution_count": 23,
     "metadata": {},
     "output_type": "execute_result"
    }
   ],
   "source": [
    "integrate(sin(x**2), (x, -oo, oo))"
   ]
  },
  {
   "cell_type": "code",
   "execution_count": 24,
   "id": "53e50e4d",
   "metadata": {},
   "outputs": [
    {
     "data": {
      "image/png": "[encoded data removed]",
      "text/latex": [
       "$\\displaystyle 1$"
      ],
      "text/plain": [
       "1"
      ]
     },
     "execution_count": 24,
     "metadata": {},
     "output_type": "execute_result"
    }
   ],
   "source": [
    "limit(sin(x) / x, x, 0)"
   ]
  },
  {
   "cell_type": "code",
   "execution_count": 25,
   "id": "83c5c678",
   "metadata": {},
   "outputs": [
    {
     "data": {
      "image/png": "[encoded data removed]",
      "text/latex": [
       "$\\displaystyle \\left[ - \\sqrt{2}, \\  \\sqrt{2}\\right]$"
      ],
      "text/plain": [
       "[-√2, √2]"
      ]
     },
     "execution_count": 25,
     "metadata": {},
     "output_type": "execute_result"
    }
   ],
   "source": [
    "solve(x**2 - 2, x)"
   ]
  },
  {
   "cell_type": "code",
   "execution_count": 26,
   "id": "e6a2a1e0",
   "metadata": {},
   "outputs": [
    {
     "data": {
      "image/png": "[encoded data removed]",
      "text/latex": [
       "$\\displaystyle y{\\left(t \\right)} = C_{2} e^{- t} + \\left(C_{1} + \\frac{t}{2}\\right) e^{t}$"
      ],
      "text/plain": [
       "           -t   ⎛     t⎞  t\n",
       "y(t) = C₂⋅ℯ   + ⎜C₁ + ─⎟⋅ℯ \n",
       "                ⎝     2⎠   "
      ]
     },
     "execution_count": 26,
     "metadata": {},
     "output_type": "execute_result"
    }
   ],
   "source": [
    "y = Function('y')\n",
    "dsolve(Eq(y(t).diff(t, t) - y(t), exp(t)), y(t))"
   ]
  },
  {
   "cell_type": "code",
   "execution_count": 29,
   "id": "b2eb6416",
   "metadata": {},
   "outputs": [
    {
     "data": {
      "image/png": "[encoded data removed]",
      "text/latex": [
       "$\\displaystyle \\cos{\\left(y \\right)} + 1$"
      ],
      "text/plain": [
       "cos(y) + 1"
      ]
     },
     "execution_count": 29,
     "metadata": {},
     "output_type": "execute_result"
    }
   ],
   "source": [
    "x, y, z = symbols(\"x y z\")\n",
    "expr = cos(x) + 1\n",
    "expr.subs(x, y)"
   ]
  },
  {
   "cell_type": "code",
   "execution_count": 30,
   "id": "571a04a7",
   "metadata": {},
   "outputs": [
    {
     "data": {
      "image/png": "[encoded data removed]",
      "text/latex": [
       "$\\displaystyle 2$"
      ],
      "text/plain": [
       "2"
      ]
     },
     "execution_count": 30,
     "metadata": {},
     "output_type": "execute_result"
    }
   ],
   "source": [
    "expr.subs(x, 0)"
   ]
  },
  {
   "cell_type": "code",
   "execution_count": 37,
   "id": "9fafc829",
   "metadata": {},
   "outputs": [
    {
     "data": {
      "image/png": "[encoded data removed]",
      "text/latex": [
       "$\\displaystyle x^{y}$"
      ],
      "text/plain": [
       " y\n",
       "x "
      ]
     },
     "execution_count": 37,
     "metadata": {},
     "output_type": "execute_result"
    }
   ],
   "source": [
    "expr = x ** y\n",
    "expr"
   ]
  },
  {
   "cell_type": "code",
   "execution_count": 38,
   "id": "7f5828da",
   "metadata": {},
   "outputs": [
    {
     "data": {
      "image/png": "[encoded data removed]",
      "text/latex": [
       "$\\displaystyle x^{x^{x^{x^{x}}}}$"
      ],
      "text/plain": [
       " ⎛ ⎛ ⎛ x⎞⎞⎞\n",
       " ⎜ ⎜ ⎝x ⎠⎟⎟\n",
       " ⎜ ⎝x    ⎠⎟\n",
       " ⎝x       ⎠\n",
       "x          "
      ]
     },
     "execution_count": 38,
     "metadata": {},
     "output_type": "execute_result"
    }
   ],
   "source": [
    "for _ in range(2):\n",
    "    expr = expr.subs(y, expr)\n",
    "expr = expr.subs(y, x)\n",
    "expr"
   ]
  },
  {
   "cell_type": "code",
   "execution_count": 40,
   "id": "3b12383b",
   "metadata": {},
   "outputs": [
    {
     "data": {
      "image/png": "[encoded data removed]",
      "text/latex": [
       "$\\displaystyle 2 \\sin{\\left(x \\right)} \\cos{\\left(x \\right)} + 2 \\cos^{2}{\\left(x \\right)} - 1$"
      ],
      "text/plain": [
       "                       2       \n",
       "2⋅sin(x)⋅cos(x) + 2⋅cos (x) - 1"
      ]
     },
     "execution_count": 40,
     "metadata": {},
     "output_type": "execute_result"
    }
   ],
   "source": [
    "expr = sin(2*x) + cos(2*x)\n",
    "expand_trig(expr)"
   ]
  },
  {
   "cell_type": "code",
   "execution_count": 41,
   "id": "07901c68",
   "metadata": {},
   "outputs": [
    {
     "data": {
      "image/png": "[encoded data removed]",
      "text/latex": [
       "$\\displaystyle 2 \\sin{\\left(x \\right)} \\cos{\\left(x \\right)} + \\cos{\\left(2 x \\right)}$"
      ],
      "text/plain": [
       "2⋅sin(x)⋅cos(x) + cos(2⋅x)"
      ]
     },
     "execution_count": 41,
     "metadata": {},
     "output_type": "execute_result"
    }
   ],
   "source": [
    "expr.subs(sin(2*x), 2 * sin(x) * cos(x))"
   ]
  },
  {
   "cell_type": "code",
   "execution_count": 47,
   "id": "7a52e26e",
   "metadata": {},
   "outputs": [
    {
     "data": {
      "image/png": "[encoded data removed]",
      "text/latex": [
       "$\\displaystyle x^{4} - 4 x^{3} + 4 x^{2} - 2 x + 3$"
      ],
      "text/plain": [
       " 4      3      2          \n",
       "x  - 4⋅x  + 4⋅x  - 2⋅x + 3"
      ]
     },
     "execution_count": 47,
     "metadata": {},
     "output_type": "execute_result"
    }
   ],
   "source": [
    "expr = x**4 - 4*x**3 + 4*x**2 - 2*x + 3\n",
    "expr"
   ]
  },
  {
   "cell_type": "code",
   "execution_count": 48,
   "id": "740be471",
   "metadata": {},
   "outputs": [
    {
     "data": {
      "image/png": "[encoded data removed]",
      "text/latex": [
       "$\\displaystyle \\left[ \\left( 1, \\  1\\right), \\  \\left( x^{2}, \\  y^{2}\\right), \\  \\left( x^{4}, \\  y^{4}\\right)\\right]$"
      ],
      "text/plain": [
       "⎡        ⎛ 2   2⎞  ⎛ 4   4⎞⎤\n",
       "⎣(1, 1), ⎝x , y ⎠, ⎝x , y ⎠⎦"
      ]
     },
     "execution_count": 48,
     "metadata": {},
     "output_type": "execute_result"
    }
   ],
   "source": [
    "replacements = [(x**i, y**i) for i in range(5) if i % 2 ==0]\n",
    "replacements"
   ]
  },
  {
   "cell_type": "code",
   "execution_count": 44,
   "id": "aa531429",
   "metadata": {},
   "outputs": [
    {
     "data": {
      "image/png": "[encoded data removed]",
      "text/latex": [
       "$\\displaystyle - 4 x^{3} - 2 x + y^{4} + 4 y^{2} + 3$"
      ],
      "text/plain": [
       "     3          4      2    \n",
       "- 4⋅x  - 2⋅x + y  + 4⋅y  + 3"
      ]
     },
     "execution_count": 44,
     "metadata": {},
     "output_type": "execute_result"
    }
   ],
   "source": [
    "expr.subs(replacements)"
   ]
  },
  {
   "cell_type": "code",
   "execution_count": 49,
   "id": "ce24196c",
   "metadata": {},
   "outputs": [
    {
     "data": {
      "image/png": "[encoded data removed]",
      "text/latex": [
       "$\\displaystyle 1$"
      ],
      "text/plain": [
       "1"
      ]
     },
     "execution_count": 49,
     "metadata": {},
     "output_type": "execute_result"
    }
   ],
   "source": [
    "simplify(sin(x)**2 + cos(x)**2)"
   ]
  },
  {
   "cell_type": "code",
   "execution_count": 50,
   "id": "b04d7eaf",
   "metadata": {},
   "outputs": [
    {
     "data": {
      "image/png": "[encoded data removed]",
      "text/latex": [
       "$\\displaystyle x - 1$"
      ],
      "text/plain": [
       "x - 1"
      ]
     },
     "execution_count": 50,
     "metadata": {},
     "output_type": "execute_result"
    }
   ],
   "source": [
    "simplify((x**3 + x**2 - x - 1) / (x**2 + 2*x + 1))"
   ]
  },
  {
   "cell_type": "code",
   "execution_count": 51,
   "id": "34ec0f4b",
   "metadata": {},
   "outputs": [
    {
     "data": {
      "image/png": "[encoded data removed]",
      "text/latex": [
       "$\\displaystyle \\left(x - 2\\right) \\left(x - 1\\right)$"
      ],
      "text/plain": [
       "(x - 2)⋅(x - 1)"
      ]
     },
     "execution_count": 51,
     "metadata": {},
     "output_type": "execute_result"
    }
   ],
   "source": [
    "simplify(gamma(x) / gamma(x - 2))"
   ]
  },
  {
   "cell_type": "code",
   "execution_count": 52,
   "id": "d2fe677e",
   "metadata": {},
   "outputs": [
    {
     "data": {
      "image/png": "[encoded data removed]",
      "text/latex": [
       "$\\displaystyle \\left(x + 1\\right)^{2}$"
      ],
      "text/plain": [
       "       2\n",
       "(x + 1) "
      ]
     },
     "execution_count": 52,
     "metadata": {},
     "output_type": "execute_result"
    }
   ],
   "source": [
    "factor(x**2 + 2 * x + 1)"
   ]
  },
  {
   "cell_type": "code",
   "execution_count": 54,
   "id": "62bb7fe7",
   "metadata": {},
   "outputs": [
    {
     "data": {
      "image/png": "[encoded data removed]",
      "text/latex": [
       "$\\displaystyle \\left(x - 1\\right) \\left(x^{2} + 1\\right)$"
      ],
      "text/plain": [
       "        ⎛ 2    ⎞\n",
       "(x - 1)⋅⎝x  + 1⎠"
      ]
     },
     "execution_count": 54,
     "metadata": {},
     "output_type": "execute_result"
    }
   ],
   "source": [
    "factor(x**3 - x**2 + x -1)"
   ]
  },
  {
   "cell_type": "code",
   "execution_count": 56,
   "id": "9a2a7181",
   "metadata": {},
   "outputs": [
    {
     "data": {
      "image/png": "[encoded data removed]",
      "text/latex": [
       "$\\displaystyle x^{3} - x^{2} z + 2 x^{2} + x y + x - 3$"
      ],
      "text/plain": [
       " 3    2        2              \n",
       "x  - x ⋅z + 2⋅x  + x⋅y + x - 3"
      ]
     },
     "execution_count": 56,
     "metadata": {},
     "output_type": "execute_result"
    }
   ],
   "source": [
    "expr = x* y + x - 3 + 2*x**2 - z * x**2 + x**3\n",
    "expr"
   ]
  },
  {
   "cell_type": "code",
   "execution_count": 58,
   "id": "1f30ce2a",
   "metadata": {},
   "outputs": [
    {
     "data": {
      "image/png": "[encoded data removed]",
      "text/latex": [
       "$\\displaystyle x^{3} + x^{2} \\cdot \\left(2 - z\\right) + x \\left(y + 1\\right) - 3$"
      ],
      "text/plain": [
       " 3    2                        \n",
       "x  + x ⋅(2 - z) + x⋅(y + 1) - 3"
      ]
     },
     "execution_count": 58,
     "metadata": {},
     "output_type": "execute_result"
    }
   ],
   "source": [
    "collected = collect(expr, x)\n",
    "collected"
   ]
  },
  {
   "cell_type": "code",
   "execution_count": 59,
   "id": "c927c26d",
   "metadata": {},
   "outputs": [
    {
     "data": {
      "image/png": "[encoded data removed]",
      "text/latex": [
       "$\\displaystyle 2 - z$"
      ],
      "text/plain": [
       "2 - z"
      ]
     },
     "execution_count": 59,
     "metadata": {},
     "output_type": "execute_result"
    }
   ],
   "source": [
    "collected.coeff(x, 2)"
   ]
  },
  {
   "cell_type": "code",
   "execution_count": 60,
   "id": "8dcf6db1",
   "metadata": {},
   "outputs": [
    {
     "data": {
      "image/png": "[encoded data removed]",
      "text/latex": [
       "$\\displaystyle \\frac{x + 1}{x}$"
      ],
      "text/plain": [
       "x + 1\n",
       "─────\n",
       "  x  "
      ]
     },
     "execution_count": 60,
     "metadata": {},
     "output_type": "execute_result"
    }
   ],
   "source": [
    "cancel((x**2 + 2*x + 1) / (x**2 + x))"
   ]
  },
  {
   "cell_type": "code",
   "execution_count": 62,
   "id": "78402364",
   "metadata": {},
   "outputs": [
    {
     "data": {
      "image/png": "[encoded data removed]",
      "text/latex": [
       "$\\displaystyle \\frac{4 x^{3} + 21 x^{2} + 10 x + 12}{x^{4} + 5 x^{3} + 5 x^{2} + 4 x}$"
      ],
      "text/plain": [
       "   3       2            \n",
       "4⋅x  + 21⋅x  + 10⋅x + 12\n",
       "────────────────────────\n",
       "  4      3      2       \n",
       " x  + 5⋅x  + 5⋅x  + 4⋅x "
      ]
     },
     "execution_count": 62,
     "metadata": {},
     "output_type": "execute_result"
    }
   ],
   "source": [
    "expr = (4*x**3 + 21*x**2 + 10*x + 12) / (x**4 + 5*x**3 + 5*x**2 + 4*x)\n",
    "expr"
   ]
  },
  {
   "cell_type": "code",
   "execution_count": 63,
   "id": "5e09e840",
   "metadata": {},
   "outputs": [
    {
     "data": {
      "image/png": "[encoded data removed]",
      "text/latex": [
       "$\\displaystyle \\frac{2 x - 1}{x^{2} + x + 1} - \\frac{1}{x + 4} + \\frac{3}{x}$"
      ],
      "text/plain": [
       " 2⋅x - 1       1     3\n",
       "────────── - ───── + ─\n",
       " 2           x + 4   x\n",
       "x  + x + 1            "
      ]
     },
     "execution_count": 63,
     "metadata": {},
     "output_type": "execute_result"
    }
   ],
   "source": [
    "apart(expr)"
   ]
  },
  {
   "cell_type": "code",
   "execution_count": 64,
   "id": "2b78e9e7",
   "metadata": {},
   "outputs": [
    {
     "data": {
      "text/plain": [
       "\"Add(Pow(Symbol('x'), Integer(2)), Mul(Symbol('x'), Symbol('y')))\""
      ]
     },
     "execution_count": 64,
     "metadata": {},
     "output_type": "execute_result"
    }
   ],
   "source": [
    "expr = x**2 + x * y\n",
    "srepr(expr)"
   ]
  },
  {
   "cell_type": "code",
   "execution_count": 70,
   "id": "e485fa1b",
   "metadata": {},
   "outputs": [
    {
     "data": {
      "image/png": "[encoded data removed]",
      "text/latex": [
       "$\\displaystyle a_1^{211}$"
      ],
      "text/plain": [
       "a_1__{211}"
      ]
     },
     "execution_count": 70,
     "metadata": {},
     "output_type": "execute_result"
    }
   ],
   "source": [
    "a1 = symbols(\"a_1^{211}\")\n",
    "a1"
   ]
  },
  {
   "cell_type": "markdown",
   "id": "c8e66b5f",
   "metadata": {},
   "source": [
    "# Blowing up $y^2 - x^3 = 0$"
   ]
  },
  {
   "cell_type": "code",
   "execution_count": 88,
   "id": "f4a501fa",
   "metadata": {},
   "outputs": [
    {
     "data": {
      "image/png": "[encoded data removed]",
      "text/latex": [
       "$\\displaystyle - x^{3} + y^{2}$"
      ],
      "text/plain": [
       "   3    2\n",
       "- x  + y "
      ]
     },
     "execution_count": 88,
     "metadata": {},
     "output_type": "execute_result"
    }
   ],
   "source": [
    "x, y = symbols(\"x y\")\n",
    "f = y**2 - x**3\n",
    "f"
   ]
  },
  {
   "cell_type": "code",
   "execution_count": 91,
   "id": "44c1c752",
   "metadata": {},
   "outputs": [
    {
     "data": {
      "image/png": "[encoded data removed]",
      "text/latex": [
       "$\\displaystyle - x_{1}^{2} \\left(x_{1} - y_{1}^{2}\\right)$"
      ],
      "text/plain": [
       "   2 ⎛       2⎞\n",
       "-x₁ ⋅⎝x₁ - y₁ ⎠"
      ]
     },
     "execution_count": 91,
     "metadata": {},
     "output_type": "execute_result"
    }
   ],
   "source": [
    "x1, y1 = symbols(\"x_1 y_1\")\n",
    "subs1 = [(x, x1), (y, x1 * y1)]\n",
    "f1 = factor(f.subs(subs1), x1)\n",
    "f1"
   ]
  },
  {
   "cell_type": "code",
   "execution_count": 92,
   "id": "5881c662",
   "metadata": {},
   "outputs": [
    {
     "data": {
      "image/png": "[encoded data removed]",
      "text/latex": [
       "$\\displaystyle - y_{2}^{2} \\left(x_{2}^{3} y_{2} - 1\\right)$"
      ],
      "text/plain": [
       "   2 ⎛  3       ⎞\n",
       "-y₂ ⋅⎝x₂ ⋅y₂ - 1⎠"
      ]
     },
     "execution_count": 92,
     "metadata": {},
     "output_type": "execute_result"
    }
   ],
   "source": [
    "x2, y2 = symbols(\"x_2 y_2\")\n",
    "subs2 = [(x, x2 * y2), (y, y2)]\n",
    "f2 = factor(f.subs(subs2), y2)\n",
    "f2"
   ]
  },
  {
   "cell_type": "code",
   "execution_count": 93,
   "id": "2514b09c",
   "metadata": {},
   "outputs": [
    {
     "data": {
      "image/png": "[encoded data removed]",
      "text/latex": [
       "$\\displaystyle x_{11}^{3} \\left(x_{11} y_{11}^{2} - 1\\right)$"
      ],
      "text/plain": [
       "   3 ⎛       2    ⎞\n",
       "x₁₁ ⋅⎝x₁₁⋅y₁₁  - 1⎠"
      ]
     },
     "execution_count": 93,
     "metadata": {},
     "output_type": "execute_result"
    }
   ],
   "source": [
    "x11, y11 = symbols(\"x_11 y_11\")\n",
    "subs11 = [(x1, x11), (y1, x11 * y11)]\n",
    "f11 = factor(f1.subs(subs11), x11)\n",
    "f11"
   ]
  },
  {
   "cell_type": "code",
   "execution_count": 94,
   "id": "37a50453",
   "metadata": {},
   "outputs": [
    {
     "data": {
      "image/png": "[encoded data removed]",
      "text/latex": [
       "$\\displaystyle x_{12}^{2} y_{12}^{3} \\left(- x_{12} + y_{12}\\right)$"
      ],
      "text/plain": [
       "   2    3             \n",
       "x₁₂ ⋅y₁₂ ⋅(-x₁₂ + y₁₂)"
      ]
     },
     "execution_count": 94,
     "metadata": {},
     "output_type": "execute_result"
    }
   ],
   "source": [
    "x12, y12 = symbols(\"x_12 y_12\")\n",
    "subs12 = [(x1, x12 * y12), (y1, y12)]\n",
    "f12 = factor(f1.subs(subs12), y12)\n",
    "f12"
   ]
  },
  {
   "cell_type": "code",
   "execution_count": 96,
   "id": "91fb73f9",
   "metadata": {},
   "outputs": [
    {
     "data": {
      "image/png": "[encoded data removed]",
      "text/latex": [
       "$\\displaystyle x_{121}^{6} y_{121}^{3} \\left(y_{121} - 1\\right)$"
      ],
      "text/plain": [
       "    6     3           \n",
       "x₁₂₁ ⋅y₁₂₁ ⋅(y₁₂₁ - 1)"
      ]
     },
     "execution_count": 96,
     "metadata": {},
     "output_type": "execute_result"
    }
   ],
   "source": [
    "x121, y121 = symbols(\"x_121 y_121\")\n",
    "subs121 = [(x12, x121), (y12, x121 * y121)]\n",
    "f121 = factor(f12.subs(subs121), x121)\n",
    "f121"
   ]
  },
  {
   "cell_type": "code",
   "execution_count": 97,
   "id": "6dc6459f",
   "metadata": {},
   "outputs": [
    {
     "data": {
      "image/png": "[encoded data removed]",
      "text/latex": [
       "$\\displaystyle x_{122}^{2} y_{122}^{6} \\cdot \\left(1 - x_{122}\\right)$"
      ],
      "text/plain": [
       "    2     6           \n",
       "x₁₂₂ ⋅y₁₂₂ ⋅(1 - x₁₂₂)"
      ]
     },
     "execution_count": 97,
     "metadata": {},
     "output_type": "execute_result"
    }
   ],
   "source": [
    "x122, y122 = symbols(\"x_122 y_122\")\n",
    "subs122 = [(x12, x122 * y122), (y12, y122)]\n",
    "f122 = factor(f12.subs(subs122), y122)\n",
    "f122"
   ]
  },
  {
   "cell_type": "code",
   "execution_count": 98,
   "id": "f7457ed0",
   "metadata": {},
   "outputs": [],
   "source": [
    "p2 = [\n",
    "    (x, x2 * y2), \n",
    "    (y, y2)\n",
    "]\n",
    "p11 = [\n",
    "    (x, x11), \n",
    "    (y, x11**2 * y11)\n",
    "]\n",
    "p121 = [\n",
    "    (x, x121**2 * y121),\n",
    "    (y, x121 * y121)\n",
    "]\n",
    "p122 = [\n",
    "    (x, x122 * y122 * y122),\n",
    "    (y, y122)\n",
    "]"
   ]
  },
  {
   "cell_type": "code",
   "execution_count": 100,
   "id": "bf8619d2",
   "metadata": {},
   "outputs": [
    {
     "data": {
      "image/png": "[encoded data removed]",
      "text/latex": [
       "$\\displaystyle - y_{2}^{2} \\left(x_{2}^{3} y_{2} - 1\\right)$"
      ],
      "text/plain": [
       "   2 ⎛  3       ⎞\n",
       "-y₂ ⋅⎝x₂ ⋅y₂ - 1⎠"
      ]
     },
     "execution_count": 100,
     "metadata": {},
     "output_type": "execute_result"
    }
   ],
   "source": [
    "factor(f.subs(p2))"
   ]
  },
  {
   "cell_type": "code",
   "execution_count": 101,
   "id": "c0e0252f",
   "metadata": {},
   "outputs": [
    {
     "data": {
      "image/png": "[encoded data removed]",
      "text/latex": [
       "$\\displaystyle x_{11}^{3} \\left(x_{11} y_{11}^{2} - 1\\right)$"
      ],
      "text/plain": [
       "   3 ⎛       2    ⎞\n",
       "x₁₁ ⋅⎝x₁₁⋅y₁₁  - 1⎠"
      ]
     },
     "execution_count": 101,
     "metadata": {},
     "output_type": "execute_result"
    }
   ],
   "source": [
    "factor(f.subs(p11))"
   ]
  },
  {
   "cell_type": "code",
   "execution_count": 102,
   "id": "d5dfab74",
   "metadata": {},
   "outputs": [
    {
     "data": {
      "image/png": "[encoded data removed]",
      "text/latex": [
       "$\\displaystyle - x_{121}^{2} y_{121}^{2} \\left(x_{121}^{4} y_{121} - 1\\right)$"
      ],
      "text/plain": [
       "     2     2 ⎛    4         ⎞\n",
       "-x₁₂₁ ⋅y₁₂₁ ⋅⎝x₁₂₁ ⋅y₁₂₁ - 1⎠"
      ]
     },
     "execution_count": 102,
     "metadata": {},
     "output_type": "execute_result"
    }
   ],
   "source": [
    "factor(f.subs(p121))"
   ]
  },
  {
   "cell_type": "code",
   "execution_count": 103,
   "id": "91557747",
   "metadata": {},
   "outputs": [
    {
     "data": {
      "image/png": "[encoded data removed]",
      "text/latex": [
       "$\\displaystyle - y_{122}^{2} \\left(x_{122}^{3} y_{122}^{4} - 1\\right)$"
      ],
      "text/plain": [
       "     2 ⎛    3     4    ⎞\n",
       "-y₁₂₂ ⋅⎝x₁₂₂ ⋅y₁₂₂  - 1⎠"
      ]
     },
     "execution_count": 103,
     "metadata": {},
     "output_type": "execute_result"
    }
   ],
   "source": [
    "factor(f.subs(p122))"
   ]
  },
  {
   "cell_type": "code",
   "execution_count": 112,
   "id": "2cfef97f",
   "metadata": {},
   "outputs": [
    {
     "name": "stdout",
     "output_type": "stream",
     "text": [
      "y_2\n"
     ]
    },
    {
     "data": {
      "text/latex": [
       "$\\displaystyle \\left[\\begin{matrix}y_{2} & x_{2}\\\\0 & 1\\end{matrix}\\right]$"
      ],
      "text/plain": [
       "⎡y₂  x₂⎤\n",
       "⎢      ⎥\n",
       "⎣0   1 ⎦"
      ]
     },
     "execution_count": 112,
     "metadata": {},
     "output_type": "execute_result"
    }
   ],
   "source": [
    "dp2 = Matrix(\n",
    "    [[diff(p2[i][1], x2), diff(p2[i][1], y2)] for i in [0, 1]]\n",
    ")\n",
    "print(dp2.det())\n",
    "dp2"
   ]
  },
  {
   "cell_type": "code",
   "execution_count": 111,
   "id": "4aeecc43",
   "metadata": {},
   "outputs": [
    {
     "name": "stdout",
     "output_type": "stream",
     "text": [
      "x_11**2\n"
     ]
    },
    {
     "data": {
      "text/latex": [
       "$\\displaystyle \\left[\\begin{matrix}1 & 0\\\\2 x_{11} y_{11} & x_{11}^{2}\\end{matrix}\\right]$"
      ],
      "text/plain": [
       "⎡    1       0  ⎤\n",
       "⎢               ⎥\n",
       "⎢              2⎥\n",
       "⎣2⋅x₁₁⋅y₁₁  x₁₁ ⎦"
      ]
     },
     "execution_count": 111,
     "metadata": {},
     "output_type": "execute_result"
    }
   ],
   "source": [
    "dp11 = Matrix(\n",
    "    [[diff(p11[i][1], x11), diff(p11[i][1], y11)] for i in [0, 1]]\n",
    ")\n",
    "print(dp11.det())\n",
    "dp11"
   ]
  },
  {
   "cell_type": "code",
   "execution_count": 113,
   "id": "0152a0e4",
   "metadata": {},
   "outputs": [
    {
     "name": "stdout",
     "output_type": "stream",
     "text": [
      "x_121**2*y_121\n"
     ]
    },
    {
     "data": {
      "text/latex": [
       "$\\displaystyle \\left[\\begin{matrix}2 x_{121} y_{121} & x_{121}^{2}\\\\y_{121} & x_{121}\\end{matrix}\\right]$"
      ],
      "text/plain": [
       "⎡                 2⎤\n",
       "⎢2⋅x₁₂₁⋅y₁₂₁  x₁₂₁ ⎥\n",
       "⎢                  ⎥\n",
       "⎣   y₁₂₁      x₁₂₁ ⎦"
      ]
     },
     "execution_count": 113,
     "metadata": {},
     "output_type": "execute_result"
    }
   ],
   "source": [
    "dp121 = Matrix(\n",
    "    [[diff(p121[i][1], x121), diff(p121[i][1], y121)] for i in [0, 1]]\n",
    ")\n",
    "print(dp121.det())\n",
    "dp121"
   ]
  },
  {
   "cell_type": "code",
   "execution_count": 114,
   "id": "996b8fbb",
   "metadata": {},
   "outputs": [
    {
     "name": "stdout",
     "output_type": "stream",
     "text": [
      "y_122**2\n"
     ]
    },
    {
     "data": {
      "text/latex": [
       "$\\displaystyle \\left[\\begin{matrix}y_{122}^{2} & 2 x_{122} y_{122}\\\\0 & 1\\end{matrix}\\right]$"
      ],
      "text/plain": [
       "⎡    2             ⎤\n",
       "⎢y₁₂₂   2⋅x₁₂₂⋅y₁₂₂⎥\n",
       "⎢                  ⎥\n",
       "⎣  0         1     ⎦"
      ]
     },
     "execution_count": 114,
     "metadata": {},
     "output_type": "execute_result"
    }
   ],
   "source": [
    "dp122 = Matrix(\n",
    "    [[diff(p122[i][1], x122), diff(p122[i][1], y122)] for i in [0, 1]]\n",
    ")\n",
    "print(dp122.det())\n",
    "dp122"
   ]
  },
  {
   "cell_type": "code",
   "execution_count": null,
   "id": "a9458164",
   "metadata": {},
   "outputs": [],
   "source": []
  }
 ],
 "metadata": {
  "kernelspec": {
   "display_name": "Python 3 (ipykernel)",
   "language": "python",
   "name": "python3"
  },
  "language_info": {
   "codemirror_mode": {
    "name": "ipython",
    "version": 3
   },
   "file_extension": ".py",
   "mimetype": "text/x-python",
   "name": "python",
   "nbconvert_exporter": "python",
   "pygments_lexer": "ipython3",
   "version": "3.10.9"
  }
 },
 "nbformat": 4,
 "nbformat_minor": 5
}
